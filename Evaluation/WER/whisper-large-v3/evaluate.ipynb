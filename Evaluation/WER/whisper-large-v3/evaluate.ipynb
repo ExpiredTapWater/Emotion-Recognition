{
 "cells": [
  {
   "cell_type": "markdown",
   "id": "c3c9b5c9",
   "metadata": {
    "id": "e36c34af-36e8-483f-90dd-bc10634ebbd2",
    "tags": []
   },
   "source": [
    "## Evaluate.ipynb\n",
    "#### **This notebook evaluates the accuracy of just one model on the IEMOCAP dataset ground truths.**\n",
    "\n",
    "- **Transcription Model (S2T):** whisper-large-v3\n",
    "- Source: [HuggingFace](https://huggingface.co/openai/whisper-large-v3)"
   ]
  },
  {
   "cell_type": "markdown",
   "id": "762d5995-95fe-4940-b295-6ab91c446e5c",
   "metadata": {},
   "source": [
    "## Setup"
   ]
  },
  {
   "cell_type": "code",
   "execution_count": 1,
   "id": "82dda0d5-0c4e-4cd6-b171-3d441877cba7",
   "metadata": {},
   "outputs": [],
   "source": [
    "# Run\n",
    "SEED = 22\n",
    "FOLD = 0\n",
    "\n",
    "# Models\n",
    "TRANSCRIPTION_MODEL_NAME = \"openai/whisper-large-v3\"\n",
    "\n",
    "# Flag to enable parsing of arguments when converted to script. Set true after converting\n",
    "PYTHON_SCRIPT = False"
   ]
  },
  {
   "cell_type": "markdown",
   "id": "c81236a9-d30f-475d-98d0-6f5c47ed96eb",
   "metadata": {},
   "source": [
    "### For Conversion to .py file"
   ]
  },
  {
   "cell_type": "code",
   "execution_count": 2,
   "id": "0a8f7109-dbdb-4350-8590-662f813be489",
   "metadata": {},
   "outputs": [],
   "source": [
    "if PYTHON_SCRIPT:\n",
    "\n",
    "    import argparse\n",
    "\n",
    "    parser = argparse.ArgumentParser(description=\"\")\n",
    "    parser.add_argument('--seed',default=2021,type=int)\n",
    "    parser.add_argument('--fold',type=int,required=True)\n",
    "    parser.add_argument('--remap',type=bool,required=True)\n",
    "    parser.add_argument('--threshold',type=float,required=False)\n",
    "    parser.add_argument('--mode',required=False)\n",
    "    parser.add_argument('--flip',type=bool,required=False)\n",
    "\n",
    "    # Parse the arguments\n",
    "    args = parser.parse_args()\n",
    "\n",
    "    # Run\n",
    "    SEED = args.seed\n",
    "    FOLD = args.fold\n",
    "    RUN_REMAP = args.remap\n",
    "    THRESHOLD = args.threshold\n",
    "    MODE = args.mode\n",
    "    FLIP = args.flip"
   ]
  },
  {
   "cell_type": "markdown",
   "id": "154e1bde-c41d-4cd2-a994-152060ad0a03",
   "metadata": {},
   "source": [
    "### Folders"
   ]
  },
  {
   "cell_type": "code",
   "execution_count": 3,
   "id": "c23c382c-733f-4299-b748-a92b760bdfa1",
   "metadata": {},
   "outputs": [],
   "source": [
    "# Filepaths\n",
    "OUTPUT_FOLDER = f'./fold_{FOLD}'\n",
    "LOG_OUTPUT = OUTPUT_FOLDER + f'/fold-{FOLD}.log'"
   ]
  },
  {
   "cell_type": "markdown",
   "id": "99b0f670-50ec-4ede-b8bc-0b2af067a327",
   "metadata": {},
   "source": [
    "### Dataset Setup"
   ]
  },
  {
   "cell_type": "code",
   "execution_count": 4,
   "id": "f710661d-9e56-4137-9ed1-f96b8e39f09b",
   "metadata": {
    "tags": []
   },
   "outputs": [],
   "source": [
    "# Dataset\n",
    "TSV = r'C:\\Users\\ChenYi\\Downloads\\AAI3001_Project\\labels\\IEMOCAP_4.tsv'\n",
    "AUDIO_DIRECTORY = r'C:\\Users\\ChenYi\\Downloads\\AAI3001_Project\\small-project\\IEMOCAP_full_release_audio'"
   ]
  },
  {
   "cell_type": "markdown",
   "id": "80069643-074b-4084-bcf5-d6bd2393cc08",
   "metadata": {},
   "source": [
    "### Select GPUs (For multi-GPU setup)"
   ]
  },
  {
   "cell_type": "code",
   "execution_count": 5,
   "id": "914881e1-ae8c-45a2-9b85-0140639b3c4b",
   "metadata": {},
   "outputs": [],
   "source": [
    "import os\n",
    "#os.environ[\"CUDA_VISIBLE_DEVICES\"] = \"0\""
   ]
  },
  {
   "cell_type": "markdown",
   "id": "db9ef3cb-d36c-49fe-ae9a-7321ca2945b5",
   "metadata": {},
   "source": [
    "### Logger"
   ]
  },
  {
   "cell_type": "code",
   "execution_count": 6,
   "id": "fcd59e8e-ec78-4775-9abb-4c599e79306e",
   "metadata": {},
   "outputs": [],
   "source": [
    "import logging\n",
    "def get_logger(filename, verbosity=1, name=None):\n",
    "    level_dict = {0: logging.DEBUG, 1: logging.INFO, 2: logging.WARNING}\n",
    "    formatter = logging.Formatter(\"[%(asctime)s][%(filename)s][line:%(lineno)d][%(levelname)s] %(message)s\")\n",
    "    logger = logging.getLogger(name)\n",
    "    logger.setLevel(level_dict[verbosity])\n",
    "\n",
    "    fh = logging.FileHandler(filename, \"w\", encoding=\"utf-8\")\n",
    "    fh.setFormatter(formatter)                                                                                                                                                                                     \n",
    "    logger.addHandler(fh)                                                                                                                                                                                          \n",
    "                                                                                                                                                                                                                   \n",
    "    sh = logging.StreamHandler()                                                                                                                                                                                   \n",
    "    sh.setFormatter(formatter)                                                                                                                                                                                     \n",
    "    logger.addHandler(sh)                                                                                                                                                                                          \n",
    "                                                                                                                                                                                                                   \n",
    "    return logger\n",
    "os.makedirs(OUTPUT_FOLDER, exist_ok=True)\n",
    "logger = get_logger(LOG_OUTPUT)"
   ]
  },
  {
   "cell_type": "markdown",
   "id": "3eb00abe-4faf-45f1-a0c3-28c6172de5d1",
   "metadata": {},
   "source": [
    "## Imports"
   ]
  },
  {
   "cell_type": "code",
   "execution_count": 7,
   "id": "a1e6792e-53d3-4af3-af88-2da33070c734",
   "metadata": {},
   "outputs": [
    {
     "name": "stderr",
     "output_type": "stream",
     "text": [
      "[2025-01-20 01:15:33,922][config.py][line:54][INFO] PyTorch version 2.4.1+cu124 available.\n",
      "[2025-01-20 01:15:33,940][config.py][line:101][INFO] TensorFlow version 2.18.0 available.\n"
     ]
    }
   ],
   "source": [
    "import csv\n",
    "import torch\n",
    "import random\n",
    "import librosa\n",
    "import torchaudio\n",
    "import contractions\n",
    "import torch.nn as nn\n",
    "import pandas as pd\n",
    "import numpy as np\n",
    "import seaborn as sns\n",
    "import matplotlib.pyplot as plt\n",
    "from datasets import Dataset, DatasetDict\n",
    "from torchaudio import functional as audioF\n",
    "from torchaudio.transforms import Resample\n",
    "from torchaudio.compliance import kaldi\n",
    "from torch.utils.data import Dataset, DataLoader\n",
    "from sklearn.metrics import confusion_matrix, classification_report, recall_score, accuracy_score\n",
    "from transformers import AutoModelForSpeechSeq2Seq, AutoProcessor, pipeline"
   ]
  },
  {
   "cell_type": "markdown",
   "id": "01b93704-f348-4aaf-8bf1-18fd7237bc0d",
   "metadata": {},
   "source": [
    "### Log Details"
   ]
  },
  {
   "cell_type": "code",
   "execution_count": 8,
   "id": "86eaf711-220a-46fa-967c-ca03246db008",
   "metadata": {},
   "outputs": [
    {
     "name": "stderr",
     "output_type": "stream",
     "text": [
      "[2025-01-20 01:15:39,059][1971636866.py][line:1][INFO] ----- Models -----\n",
      "[2025-01-20 01:15:39,060][1971636866.py][line:2][INFO] Speech-To-Text (Transcription) Model: openai/whisper-large-v3\n",
      "[2025-01-20 01:15:39,060][1971636866.py][line:3][INFO] ----- Parameters -----\n",
      "[2025-01-20 01:15:39,061][1971636866.py][line:4][INFO] Seed: 22\n",
      "[2025-01-20 01:15:39,062][1971636866.py][line:5][INFO] Fold: 0\n",
      "[2025-01-20 01:15:39,063][1971636866.py][line:6][INFO] --------------------\n"
     ]
    }
   ],
   "source": [
    "logger.info(\"----- Models -----\")\n",
    "logger.info(f\"Speech-To-Text (Transcription) Model: {TRANSCRIPTION_MODEL_NAME}\")\n",
    "logger.info(\"----- Parameters -----\")\n",
    "logger.info(f\"Seed: {SEED}\")\n",
    "logger.info(f\"Fold: {FOLD}\")\n",
    "logger.info(\"--------------------\")"
   ]
  },
  {
   "cell_type": "markdown",
   "id": "e050c689-e0ec-4a01-8eb2-c38c7222069c",
   "metadata": {},
   "source": [
    "### Provided Code"
   ]
  },
  {
   "cell_type": "code",
   "execution_count": 9,
   "id": "273aedcd-5423-4f3b-bddc-530ee08dfb24",
   "metadata": {},
   "outputs": [],
   "source": [
    "class Pad_trunc_wav(nn.Module):\n",
    "    def __init__(self, max_len: int = 6*16000):\n",
    "        super(Pad_trunc_wav, self).__init__()\n",
    "        self.max_len = max_len\n",
    "    def forward(self,x):\n",
    "        shape = x.shape\n",
    "        length = shape[1]\n",
    "        if length < self.max_len:\n",
    "            multiple = self.max_len//length+1\n",
    "            x_tmp = torch.cat((x,)*multiple, axis=1)\n",
    "            x_new = x_tmp[:,0:self.max_len]\n",
    "        else:\n",
    "            x_new = x[:,0:self.max_len]\n",
    "        return x_new"
   ]
  },
  {
   "cell_type": "code",
   "execution_count": 10,
   "id": "90c61650-5d76-4bde-bae6-26ef3f8e75ea",
   "metadata": {},
   "outputs": [],
   "source": [
    "def setup_seed(seed=2021):\n",
    "    torch.manual_seed(seed)\n",
    "    torch.cuda.manual_seed(seed)\n",
    "    torch.cuda.manual_seed_all(seed)\n",
    "    np.random.seed(seed)\n",
    "    random.seed(seed)\n",
    "    torch.backends.cudnn.benchmark = False\n",
    "    torch.backends.cudnn.deterministic = True\n",
    "setup_seed(SEED)"
   ]
  },
  {
   "cell_type": "markdown",
   "id": "4882d066-c8a2-455b-92d3-d34639944e33",
   "metadata": {},
   "source": [
    "### Download Required Models"
   ]
  },
  {
   "cell_type": "code",
   "execution_count": 11,
   "id": "280ef253-6b7d-413c-b1c6-bc276b9612c4",
   "metadata": {
    "tags": []
   },
   "outputs": [
    {
     "name": "stderr",
     "output_type": "stream",
     "text": [
      "[2025-01-20 01:15:46,006][361834570.py][line:25][INFO] Speech-To-Text (Transcription) model loaded from openai/whisper-large-v3 successfully\n"
     ]
    }
   ],
   "source": [
    "device = \"cuda:0\" if torch.cuda.is_available() else \"cpu\"\n",
    "torch_dtype = torch.float16 if torch.cuda.is_available() else torch.float32\n",
    "\n",
    "model = AutoModelForSpeechSeq2Seq.from_pretrained(\n",
    "    TRANSCRIPTION_MODEL_NAME, torch_dtype=torch_dtype, low_cpu_mem_usage=True\n",
    ")\n",
    "model.to(device)\n",
    "\n",
    "processor = AutoProcessor.from_pretrained(TRANSCRIPTION_MODEL_NAME)\n",
    "\n",
    "forced_decoder_ids = processor.get_decoder_prompt_ids(language=\"en\", task=\"transcribe\")\n",
    "model.config.forced_decoder_ids = forced_decoder_ids\n",
    "\n",
    "pipe = pipeline(\n",
    "    \"automatic-speech-recognition\",\n",
    "    model=model,\n",
    "    tokenizer=processor.tokenizer,\n",
    "    feature_extractor=processor.feature_extractor,\n",
    "    chunk_length_s=30,\n",
    "    batch_size=1,\n",
    "    torch_dtype=torch.float16,\n",
    "    device=\"cuda:0\"\n",
    ")\n",
    "\n",
    "logger.info(F\"Speech-To-Text (Transcription) model loaded from {TRANSCRIPTION_MODEL_NAME} successfully\")"
   ]
  },
  {
   "cell_type": "markdown",
   "id": "d267a401-d541-40ca-8dfd-a44b1abdd79a",
   "metadata": {},
   "source": [
    "### Dataset & Loading"
   ]
  },
  {
   "cell_type": "code",
   "execution_count": 12,
   "id": "5c61df84-9d17-4a42-a82c-7881921b8b6f",
   "metadata": {},
   "outputs": [],
   "source": [
    "class Mydataset(Dataset):\n",
    "    def __init__(self, mode='train', max_len=6, seed=2021, fold=0, data_path=TSV, audio_dir=AUDIO_DIRECTORY):\n",
    "        self.mode = mode\n",
    "        data_all = pd.read_csv(data_path, sep='\\t')\n",
    "        SpkNames = np.unique(data_all['speaker'])  # ['Ses01F', 'Ses01M', ..., 'Ses05M']\n",
    "        self.data_info = self.split_dataset(data_all, fold, SpkNames, mode)\n",
    "        self.get_audio_dir_path = os.path.join(audio_dir)\n",
    "        self.pad_trunc = Pad_trunc_wav(max_len * 16000)\n",
    "         \n",
    "        # Label encoding\n",
    "        self.label = self.data_info['label'].astype('category').cat.codes.values\n",
    "        self.ClassNames = np.unique(self.data_info['label'])\n",
    "        self.NumClasses = len(self.ClassNames)\n",
    "        self.weight = 1 / torch.tensor([(self.label == i).sum() for i in range(self.NumClasses)]).float()\n",
    "\n",
    "    def get_classname(self):\n",
    "        return self.ClassNames\n",
    "    \n",
    "    # Updated split_dataset function using fold\n",
    "    \n",
    "    def split_dataset(self, df_all, fold, speakers, mode):\n",
    "        \n",
    "        spk_len = len(speakers)\n",
    "        test_idx = np.array(df_all['speaker']==speakers[fold%spk_len])\n",
    "        if fold%2==0:\n",
    "            val_idx = np.array(df_all['speaker']==speakers[(fold+1)%spk_len])\n",
    "        else:\n",
    "            val_idx = np.array(df_all['speaker']==speakers[(fold-1)%spk_len])\n",
    "        train_idx = True^(test_idx+val_idx)\n",
    "        train_data_info = df_all[train_idx].reset_index(drop=True)\n",
    "        val_data_info = df_all[val_idx].reset_index(drop=True)\n",
    "        test_data_info = df_all[test_idx].reset_index(drop=True)\n",
    "\n",
    "        if self.mode == 'train':\n",
    "            data_info = train_data_info\n",
    "        elif self.mode == 'val':\n",
    "            data_info = val_data_info\n",
    "        elif self.mode == 'test':\n",
    "            data_info = test_data_info\n",
    "        else:\n",
    "            data_info = df_all\n",
    "        \n",
    "        logger.info(f\"Mode: {mode} Fold: {fold}\")\n",
    "        return data_info\n",
    "\n",
    "    def pre_process(self, wav):\n",
    "        \n",
    "        if self.mode == 'test' or self.mode == 'val':\n",
    "            return wav\n",
    "        else:\n",
    "            wav = self.pad_trunc(wav)\n",
    "            return wav\n",
    "\n",
    "    def __len__(self):\n",
    "        return len(self.data_info)\n",
    "\n",
    "    def __getitem__(self, idx):\n",
    "        # Load the raw waveform from file using data_info to get filenames\n",
    "        wav_path = os.path.join(self.get_audio_dir_path, self.data_info['filename'][idx]) + '.wav'\n",
    "        wav, sample_rate = torchaudio.load(wav_path)\n",
    "\n",
    "        # Preprocess the waveform (e.g., pad/truncate if needed)\n",
    "        wav = self.pre_process(wav)\n",
    "\n",
    "        # Apply Wav2Vec2 feature extractor\n",
    "        inputs = feature_extractor(\n",
    "            wav.squeeze().numpy(),  # Convert PyTorch tensor to numpy array\n",
    "            sampling_rate=sample_rate,\n",
    "            return_tensors=\"pt\",  # Return PyTorch tensors\n",
    "            padding=True  # Optionally pad to a fixed length\n",
    "        )\n",
    "\n",
    "        label = self.label[idx]\n",
    "\n",
    "        # Return the processed input values and the label\n",
    "        return {\n",
    "            'input_values': inputs['input_values'].squeeze(0),  # Remove extra batch dimension\n",
    "            'labels': torch.tensor(label, dtype=torch.long)}"
   ]
  },
  {
   "cell_type": "code",
   "execution_count": 13,
   "id": "81905e24-6e30-4ac3-9187-132aab58d7d9",
   "metadata": {},
   "outputs": [
    {
     "name": "stderr",
     "output_type": "stream",
     "text": [
      "[2025-01-20 01:15:46,039][689674042.py][line:43][INFO] Mode: train Fold: 0\n",
      "[2025-01-20 01:15:46,053][689674042.py][line:43][INFO] Mode: val Fold: 0\n",
      "[2025-01-20 01:15:46,064][689674042.py][line:43][INFO] Mode: test Fold: 0\n",
      "[2025-01-20 01:15:46,066][1194672651.py][line:6][INFO] Dataset Loaded\n"
     ]
    }
   ],
   "source": [
    "# Instantiate datasets\n",
    "train_dataset = Mydataset(mode='train', max_len=6, fold=FOLD)\n",
    "val_dataset = Mydataset(mode='val', max_len=6, fold=FOLD)\n",
    "test_dataset = Mydataset(mode='test', max_len=6, fold=FOLD)\n",
    "\n",
    "logger.info(\"Dataset Loaded\")"
   ]
  },
  {
   "cell_type": "code",
   "execution_count": 14,
   "id": "1bc062c2-432e-4e44-9cc8-d51339176b5e",
   "metadata": {},
   "outputs": [],
   "source": [
    "# Put and val test information into a dataframe for later use\n",
    "data_info = test_dataset.data_info\n",
    "test_dataframe = data_info[['filename', 'label']].copy()\n",
    "test_dataframe['filepath'] = test_dataframe['filename'].apply(\n",
    "    lambda x: os.path.join(test_dataset.get_audio_dir_path, f\"{x}.wav\"))\n",
    "\n",
    "val_info = val_dataset.data_info\n",
    "val_dataframe = val_info[['filename', 'label']].copy()\n",
    "val_dataframe['filepath'] = val_dataframe['filename'].apply(\n",
    "    lambda x: os.path.join(val_dataset.get_audio_dir_path, f\"{x}.wav\"))"
   ]
  },
  {
   "cell_type": "markdown",
   "id": "b530b91c-7c90-42b7-a270-9ecd3f831a7a",
   "metadata": {},
   "source": [
    "## Perform Inference and Obtain Transcriptions"
   ]
  },
  {
   "cell_type": "markdown",
   "id": "22aa70b8-021a-4ec5-98ca-f282e2e470ef",
   "metadata": {},
   "source": [
    "#### Function to clean up transcription to match what is required for compute_wer.py\n",
    "- Remove full stop\n",
    "- Remove all punctuations except apostrophe\n",
    "- Change all to UPPERCASE"
   ]
  },
  {
   "cell_type": "code",
   "execution_count": 15,
   "id": "ec548ad2-b17a-42cd-9de5-73f06f24231b",
   "metadata": {
    "tags": []
   },
   "outputs": [],
   "source": [
    "def format_transcription(ID, text_dict):\n",
    "    \"\"\"\n",
    "    Format the transcription by:\n",
    "      1. Removing all non-ASCII characters.\n",
    "      2. Removing periods.\n",
    "      3. Removing all punctuation except apostrophes.\n",
    "      4. Converting to uppercase.\n",
    "    \"\"\"\n",
    "    \n",
    "    # Extract the raw text and keep a copy for comparison\n",
    "    text = text_dict['text']\n",
    "    original_text = text\n",
    "    \n",
    "    # 1. Remove all non-ASCII characters\n",
    "    clean_text = ''.join(c for c in text if ord(c) < 128)\n",
    "    \n",
    "    # 2. Remove full stops (periods)\n",
    "    clean_text = clean_text.replace('.', '')\n",
    "    \n",
    "    # 3. Remove all punctuations except apostrophes\n",
    "    #    (everything that is not alphanumeric or apostrophe => replaced by space)\n",
    "    clean_text = ''.join(char if char.isalnum() or char == \"'\" else ' ' \n",
    "                         for char in clean_text)\n",
    "    \n",
    "    # 4. Convert to uppercase\n",
    "    clean_text = clean_text.upper()\n",
    "\n",
    "    # Alert if any formatting was done\n",
    "    # (i.e., if the final clean_text differs from the *original*, unmodified text)\n",
    "    if clean_text != original_text:\n",
    "        logger.info(f\"Transcription of file {ID} has been formatted\")\n",
    "        logger.info(f\"ORIGINAL: {original_text}\")\n",
    "        logger.info(f\"FORMATTED: {clean_text}\")\n",
    "    \n",
    "    return clean_text"
   ]
  },
  {
   "cell_type": "code",
   "execution_count": 16,
   "id": "50d944a7-561c-4c82-88c9-a5843f4b3b5d",
   "metadata": {},
   "outputs": [],
   "source": [
    "def predict(dataframe, split):\n",
    "\n",
    "    logger.info(f\"----- {split} split -----\")\n",
    "\n",
    "    results = []\n",
    "    total = dataframe.shape[0]\n",
    "    count = 1\n",
    "\n",
    "    # Iterate over each audio file in the test folder\n",
    "    for index, row in dataframe.iterrows():\n",
    "\n",
    "        # Display progress\n",
    "        print(f'File {count} of {total}', end='\\r')\n",
    "        count += 1\n",
    "\n",
    "        # Load audio file\n",
    "        filename = row['filename'] + '.wav'\n",
    "        audio_file = os.path.join(AUDIO_DIRECTORY, filename)\n",
    "        audio, sample_rate = librosa.load(audio_file, sr = 16000)\n",
    "        \n",
    "        # Get transcriptions\n",
    "        transcription = pipe({\"array\": audio, \"sampling_rate\": sample_rate})\n",
    "        \n",
    "        # Tokenize the input audio for speech-to-text model\n",
    "        #input_features = S2T_processor(audio, return_tensors=\"pt\", sampling_rate=16000, padding=\"longest\").input_features\n",
    "        #input_features = input_features.to('cuda')\n",
    "        #predicted_ids = S2T_Model.generate(input_features)\n",
    "        \n",
    "        #transcription = S2T_processor.batch_decode(predicted_ids, skip_special_tokens=True)[0]\n",
    "        \n",
    "        # Important!\n",
    "        # Batch size should be 1 for inference. I am not using a dataloader, and iterating per file, so my batch size is effectively one\n",
    "        # Padding=\"longest\" pads each file to the longest in each batch, but because my batch is 1, effectively no padding is done.\n",
    "        # For clarify, padding=\"do_not_pad\" is used\n",
    "        \n",
    "        # Obtain transcriptions\n",
    "        #with torch.no_grad():\n",
    "        #    S2T_logits = S2T_Model(input_values).logits\n",
    "        #    predicted_ids = torch.argmax(S2T_logits, dim=-1)\n",
    "        #    transcription = S2T_processor.batch_decode(predicted_ids)[0]\n",
    "            \n",
    "        # Perform cleaning\n",
    "        formatted_transcription = format_transcription(count, transcription)\n",
    "\n",
    "        # Extract the filename without the extension\n",
    "        filename = os.path.splitext(os.path.basename(audio_file))[0]\n",
    "\n",
    "        # Append the result to the list\n",
    "        results.append([filename,\n",
    "                        formatted_transcription])\n",
    "\n",
    "    logger.info(f\"Done processing {total} files\")\n",
    "\n",
    "    # Write the results to a CSV file\n",
    "    global CSV_FILEPATH\n",
    "    CSV_FILEPATH = os.path.join(OUTPUT_FOLDER, f\"{split}-transcriptions.csv\")\n",
    "\n",
    "    with open(CSV_FILEPATH, 'w', newline='') as csvfile:\n",
    "        writer = csv.writer(csvfile)\n",
    "        writer.writerow(['ID', 'transcription'])\n",
    "        writer.writerows(results)\n",
    "\n",
    "    logger.info(f\"Transcriptions saved to {CSV_FILEPATH}\")\n",
    "    return CSV_FILEPATH"
   ]
  },
  {
   "cell_type": "code",
   "execution_count": 17,
   "id": "d251a5c1-56c8-4e69-a07c-ba5d4672ee46",
   "metadata": {
    "scrolled": true,
    "tags": []
   },
   "outputs": [
    {
     "name": "stderr",
     "output_type": "stream",
     "text": [
      "[2025-01-20 01:15:46,101][2267696535.py][line:3][INFO] ----- val split -----\n"
     ]
    },
    {
     "name": "stdout",
     "output_type": "stream",
     "text": [
      "File 1 of 557\r"
     ]
    },
    {
     "name": "stderr",
     "output_type": "stream",
     "text": [
      "C:\\Users\\ChenYi\\anaconda3\\envs\\aai3001\\Lib\\site-packages\\transformers\\models\\whisper\\generation_whisper.py:496: FutureWarning: The input name `inputs` is deprecated. Please make sure to use `input_features` instead.\n",
      "  warnings.warn(\n",
      "Due to a bug fix in https://github.com/huggingface/transformers/pull/28687 transcription using a multilingual Whisper will default to language detection followed by transcription instead of translation to English.This might be a breaking change for your use case. If you want to instead always translate your audio to English, make sure to pass `language='en'`.\n",
      "C:\\Users\\ChenYi\\anaconda3\\envs\\aai3001\\Lib\\site-packages\\transformers\\models\\whisper\\modeling_whisper.py:599: UserWarning: 1Torch was not compiled with flash attention. (Triggered internally at C:\\actions-runner\\_work\\pytorch\\pytorch\\builder\\windows\\pytorch\\aten\\src\\ATen\\native\\transformers\\cuda\\sdp_utils.cpp:555.)\n",
      "  attn_output = torch.nn.functional.scaled_dot_product_attention(\n",
      "Passing a tuple of `past_key_values` is deprecated and will be removed in Transformers v4.43.0. You should pass an instance of `EncoderDecoderCache` instead, e.g. `past_key_values=EncoderDecoderCache.from_legacy_cache(past_key_values)`.\n",
      "The attention mask is not set and cannot be inferred from input because pad token is same as eos token. As a consequence, you may observe unexpected behavior. Please pass your input's `attention_mask` to obtain reliable results.\n",
      "[2025-01-20 01:15:49,036][835302387.py][line:31][INFO] Transcription of file 2 has been formatted\n",
      "[2025-01-20 01:15:49,036][835302387.py][line:32][INFO] ORIGINAL:  I know. Kind of went out of style, didn't it?\n",
      "[2025-01-20 01:15:49,036][835302387.py][line:33][INFO] FORMATTED:  I KNOW KIND OF WENT OUT OF STYLE  DIDN'T IT \n"
     ]
    },
    {
     "name": "stdout",
     "output_type": "stream",
     "text": [
      "File 2 of 557\r"
     ]
    },
    {
     "name": "stderr",
     "output_type": "stream",
     "text": [
      "[2025-01-20 01:15:49,512][835302387.py][line:31][INFO] Transcription of file 3 has been formatted\n",
      "[2025-01-20 01:15:49,512][835302387.py][line:32][INFO] ORIGINAL:  You're not sorry you came?\n",
      "[2025-01-20 01:15:49,527][835302387.py][line:33][INFO] FORMATTED:  YOU'RE NOT SORRY YOU CAME \n"
     ]
    },
    {
     "name": "stdout",
     "output_type": "stream",
     "text": [
      "File 3 of 557\r"
     ]
    },
    {
     "name": "stderr",
     "output_type": "stream",
     "text": [
      "[2025-01-20 01:15:49,814][835302387.py][line:31][INFO] Transcription of file 4 has been formatted\n",
      "[2025-01-20 01:15:49,814][835302387.py][line:32][INFO] ORIGINAL:  Well...\n",
      "[2025-01-20 01:15:49,830][835302387.py][line:33][INFO] FORMATTED:  WELL\n"
     ]
    },
    {
     "name": "stdout",
     "output_type": "stream",
     "text": [
      "File 4 of 557\r"
     ]
    },
    {
     "name": "stderr",
     "output_type": "stream",
     "text": [
      "[2025-01-20 01:15:50,129][835302387.py][line:31][INFO] Transcription of file 5 has been formatted\n",
      "[2025-01-20 01:15:50,129][835302387.py][line:32][INFO] ORIGINAL:  What?\n",
      "[2025-01-20 01:15:50,129][835302387.py][line:33][INFO] FORMATTED:  WHAT \n"
     ]
    },
    {
     "name": "stdout",
     "output_type": "stream",
     "text": [
      "File 5 of 557\r"
     ]
    },
    {
     "name": "stderr",
     "output_type": "stream",
     "text": [
      "[2025-01-20 01:15:51,562][835302387.py][line:31][INFO] Transcription of file 6 has been formatted\n",
      "[2025-01-20 01:15:51,562][835302387.py][line:32][INFO] ORIGINAL:  Well, I was kind of planning on sneaking up on you over the course of a week or so. They just take it for granted that we're all set.\n",
      "[2025-01-20 01:15:51,562][835302387.py][line:33][INFO] FORMATTED:  WELL  I WAS KIND OF PLANNING ON SNEAKING UP ON YOU OVER THE COURSE OF A WEEK OR SO THEY JUST TAKE IT FOR GRANTED THAT WE'RE ALL SET\n"
     ]
    },
    {
     "name": "stdout",
     "output_type": "stream",
     "text": [
      "File 6 of 557\r"
     ]
    },
    {
     "name": "stderr",
     "output_type": "stream",
     "text": [
      "[2025-01-20 01:15:52,152][835302387.py][line:31][INFO] Transcription of file 7 has been formatted\n",
      "[2025-01-20 01:15:52,152][835302387.py][line:32][INFO] ORIGINAL:  I love you. Annie, I love you.\n",
      "[2025-01-20 01:15:52,152][835302387.py][line:33][INFO] FORMATTED:  I LOVE YOU ANNIE  I LOVE YOU\n"
     ]
    },
    {
     "name": "stdout",
     "output_type": "stream",
     "text": [
      "File 7 of 557\r"
     ]
    },
    {
     "name": "stderr",
     "output_type": "stream",
     "text": [
      "[2025-01-20 01:15:53,002][835302387.py][line:31][INFO] Transcription of file 8 has been formatted\n",
      "[2025-01-20 01:15:53,002][835302387.py][line:32][INFO] ORIGINAL:  I don't really have any imagination. That's all I know how to say.\n",
      "[2025-01-20 01:15:53,013][835302387.py][line:33][INFO] FORMATTED:  I DON'T REALLY HAVE ANY IMAGINATION THAT'S ALL I KNOW HOW TO SAY\n"
     ]
    },
    {
     "name": "stdout",
     "output_type": "stream",
     "text": [
      "File 8 of 557\r"
     ]
    },
    {
     "name": "stderr",
     "output_type": "stream",
     "text": [
      "[2025-01-20 01:15:54,590][835302387.py][line:31][INFO] Transcription of file 9 has been formatted\n",
      "[2025-01-20 01:15:54,590][835302387.py][line:32][INFO] ORIGINAL:  Am I embarrassing you? See, I didn't want to do it here, this yard, on this porch. I wanted to be somewhere new, someplace fresh for both of us.\n",
      "[2025-01-20 01:15:54,590][835302387.py][line:33][INFO] FORMATTED:  AM I EMBARRASSING YOU  SEE  I DIDN'T WANT TO DO IT HERE  THIS YARD  ON THIS PORCH I WANTED TO BE SOMEWHERE NEW  SOMEPLACE FRESH FOR BOTH OF US\n"
     ]
    },
    {
     "name": "stdout",
     "output_type": "stream",
     "text": [
      "File 9 of 557\r"
     ]
    },
    {
     "name": "stderr",
     "output_type": "stream",
     "text": [
      "[2025-01-20 01:15:55,108][835302387.py][line:31][INFO] Transcription of file 10 has been formatted\n",
      "[2025-01-20 01:15:55,108][835302387.py][line:32][INFO] ORIGINAL:  Why didn't you let me know?\n",
      "[2025-01-20 01:15:55,108][835302387.py][line:33][INFO] FORMATTED:  WHY DIDN'T YOU LET ME KNOW \n"
     ]
    },
    {
     "name": "stdout",
     "output_type": "stream",
     "text": [
      "File 10 of 557\r"
     ]
    },
    {
     "name": "stderr",
     "output_type": "stream",
     "text": [
      "[2025-01-20 01:15:55,491][835302387.py][line:31][INFO] Transcription of file 11 has been formatted\n",
      "[2025-01-20 01:15:55,491][835302387.py][line:32][INFO] ORIGINAL:  Give me a...\n",
      "[2025-01-20 01:15:55,491][835302387.py][line:33][INFO] FORMATTED:  GIVE ME A\n",
      "You seem to be using the pipelines sequentially on GPU. In order to maximize efficiency please use a dataset\n"
     ]
    },
    {
     "name": "stdout",
     "output_type": "stream",
     "text": [
      "File 11 of 557\r"
     ]
    },
    {
     "name": "stderr",
     "output_type": "stream",
     "text": [
      "[2025-01-20 01:15:55,901][835302387.py][line:31][INFO] Transcription of file 12 has been formatted\n",
      "[2025-01-20 01:15:55,901][835302387.py][line:32][INFO] ORIGINAL:  Give me a kiss.\n",
      "[2025-01-20 01:15:55,901][835302387.py][line:33][INFO] FORMATTED:  GIVE ME A KISS\n"
     ]
    },
    {
     "name": "stdout",
     "output_type": "stream",
     "text": [
      "File 12 of 557\r"
     ]
    },
    {
     "name": "stderr",
     "output_type": "stream",
     "text": [
      "[2025-01-20 01:15:56,847][835302387.py][line:31][INFO] Transcription of file 13 has been formatted\n",
      "[2025-01-20 01:15:56,847][835302387.py][line:32][INFO] ORIGINAL:  Oh, Annie, we are going to live now. I'm going to make you so happy.\n",
      "[2025-01-20 01:15:56,847][835302387.py][line:33][INFO] FORMATTED:  OH  ANNIE  WE ARE GOING TO LIVE NOW I'M GOING TO MAKE YOU SO HAPPY\n"
     ]
    },
    {
     "name": "stdout",
     "output_type": "stream",
     "text": [
      "File 13 of 557\r"
     ]
    },
    {
     "name": "stderr",
     "output_type": "stream",
     "text": [
      "[2025-01-20 01:15:57,219][835302387.py][line:31][INFO] Transcription of file 14 has been formatted\n",
      "[2025-01-20 01:15:57,234][835302387.py][line:32][INFO] ORIGINAL:  I kissed you.\n",
      "[2025-01-20 01:15:57,234][835302387.py][line:33][INFO] FORMATTED:  I KISSED YOU\n"
     ]
    },
    {
     "name": "stdout",
     "output_type": "stream",
     "text": [
      "File 14 of 557\r"
     ]
    },
    {
     "name": "stderr",
     "output_type": "stream",
     "text": [
      "[2025-01-20 01:15:58,031][835302387.py][line:31][INFO] Transcription of file 15 has been formatted\n",
      "[2025-01-20 01:15:58,031][835302387.py][line:32][INFO] ORIGINAL:  Hey, let's drive someplace, huh? Let's get out of here.\n",
      "[2025-01-20 01:15:58,031][835302387.py][line:33][INFO] FORMATTED:  HEY  LET'S DRIVE SOMEPLACE  HUH  LET'S GET OUT OF HERE\n"
     ]
    },
    {
     "name": "stdout",
     "output_type": "stream",
     "text": [
      "File 15 of 557\r"
     ]
    },
    {
     "name": "stderr",
     "output_type": "stream",
     "text": [
      "[2025-01-20 01:15:58,668][835302387.py][line:31][INFO] Transcription of file 16 has been formatted\n",
      "[2025-01-20 01:15:58,668][835302387.py][line:32][INFO] ORIGINAL:  I don't know. It's nothing like that.\n",
      "[2025-01-20 01:15:58,668][835302387.py][line:33][INFO] FORMATTED:  I DON'T KNOW IT'S NOTHING LIKE THAT\n"
     ]
    },
    {
     "name": "stdout",
     "output_type": "stream",
     "text": [
      "File 16 of 557\r"
     ]
    },
    {
     "name": "stderr",
     "output_type": "stream",
     "text": [
      "[2025-01-20 01:15:59,441][835302387.py][line:31][INFO] Transcription of file 17 has been formatted\n",
      "[2025-01-20 01:15:59,441][835302387.py][line:32][INFO] ORIGINAL:  Yeah, I suppose I have been. But it's going from me.\n",
      "[2025-01-20 01:15:59,441][835302387.py][line:33][INFO] FORMATTED:  YEAH  I SUPPOSE I HAVE BEEN BUT IT'S GOING FROM ME\n"
     ]
    },
    {
     "name": "stdout",
     "output_type": "stream",
     "text": [
      "File 17 of 557\r"
     ]
    },
    {
     "name": "stderr",
     "output_type": "stream",
     "text": [
      "[2025-01-20 01:15:59,972][835302387.py][line:31][INFO] Transcription of file 18 has been formatted\n",
      "[2025-01-20 01:15:59,972][835302387.py][line:32][INFO] ORIGINAL:  I don't even know how to start\n",
      "[2025-01-20 01:15:59,972][835302387.py][line:33][INFO] FORMATTED:  I DON'T EVEN KNOW HOW TO START\n"
     ]
    },
    {
     "name": "stdout",
     "output_type": "stream",
     "text": [
      "File 18 of 557\r"
     ]
    },
    {
     "name": "stderr",
     "output_type": "stream",
     "text": [
      "[2025-01-20 01:16:01,043][835302387.py][line:31][INFO] Transcription of file 19 has been formatted\n",
      "[2025-01-20 01:16:01,043][835302387.py][line:32][INFO] ORIGINAL:  It's just all mixed up with so many other things. You know overseas I was in command of a company?\n",
      "[2025-01-20 01:16:01,043][835302387.py][line:33][INFO] FORMATTED:  IT'S JUST ALL MIXED UP WITH SO MANY OTHER THINGS YOU KNOW OVERSEAS I WAS IN COMMAND OF A COMPANY \n"
     ]
    },
    {
     "name": "stdout",
     "output_type": "stream",
     "text": [
      "File 19 of 557\r"
     ]
    },
    {
     "name": "stderr",
     "output_type": "stream",
     "text": [
      "[2025-01-20 01:16:01,486][835302387.py][line:31][INFO] Transcription of file 20 has been formatted\n",
      "[2025-01-20 01:16:01,486][835302387.py][line:32][INFO] ORIGINAL:  Well, I lost him.\n",
      "[2025-01-20 01:16:01,486][835302387.py][line:33][INFO] FORMATTED:  WELL  I LOST HIM\n"
     ]
    },
    {
     "name": "stdout",
     "output_type": "stream",
     "text": [
      "File 20 of 557\r"
     ]
    },
    {
     "name": "stderr",
     "output_type": "stream",
     "text": [
      "[2025-01-20 01:16:01,889][835302387.py][line:31][INFO] Transcription of file 21 has been formatted\n",
      "[2025-01-20 01:16:01,889][835302387.py][line:32][INFO] ORIGINAL:  그리니마저\n",
      "[2025-01-20 01:16:01,889][835302387.py][line:33][INFO] FORMATTED:  \n"
     ]
    },
    {
     "name": "stdout",
     "output_type": "stream",
     "text": [
      "File 21 of 557\r"
     ]
    },
    {
     "name": "stderr",
     "output_type": "stream",
     "text": [
      "[2025-01-20 01:16:02,878][835302387.py][line:31][INFO] Transcription of file 22 has been formatted\n",
      "[2025-01-20 01:16:02,878][835302387.py][line:32][INFO] ORIGINAL:  You can't just toss off a thing like that. Because they weren't just men, you know?\n",
      "[2025-01-20 01:16:02,894][835302387.py][line:33][INFO] FORMATTED:  YOU CAN'T JUST TOSS OFF A THING LIKE THAT BECAUSE THEY WEREN'T JUST MEN  YOU KNOW \n"
     ]
    },
    {
     "name": "stdout",
     "output_type": "stream",
     "text": [
      "File 22 of 557\r"
     ]
    },
    {
     "name": "stderr",
     "output_type": "stream",
     "text": [
      "[2025-01-20 01:16:05,401][835302387.py][line:31][INFO] Transcription of file 23 has been formatted\n",
      "[2025-01-20 01:16:05,401][835302387.py][line:32][INFO] ORIGINAL:  Like for instance, there was this one time it had been raining for several days and this kid, he just came up to me and he gave me his last pair of dry socks. Just put it in my pocket. That's a little thing, you know, but that's what kind of guys I had.\n",
      "[2025-01-20 01:16:05,401][835302387.py][line:33][INFO] FORMATTED:  LIKE FOR INSTANCE  THERE WAS THIS ONE TIME IT HAD BEEN RAINING FOR SEVERAL DAYS AND THIS KID  HE JUST CAME UP TO ME AND HE GAVE ME HIS LAST PAIR OF DRY SOCKS JUST PUT IT IN MY POCKET THAT'S A LITTLE THING  YOU KNOW  BUT THAT'S WHAT KIND OF GUYS I HAD\n"
     ]
    },
    {
     "name": "stdout",
     "output_type": "stream",
     "text": [
      "File 23 of 557\r"
     ]
    },
    {
     "name": "stderr",
     "output_type": "stream",
     "text": [
      "[2025-01-20 01:16:07,059][835302387.py][line:31][INFO] Transcription of file 24 has been formatted\n",
      "[2025-01-20 01:16:07,059][835302387.py][line:32][INFO] ORIGINAL:  No, they didn't die. They killed themselves for each other. I mean that, exactly. It's a little more selfish, you know, when they'd all be here today.\n",
      "[2025-01-20 01:16:07,059][835302387.py][line:33][INFO] FORMATTED:  NO  THEY DIDN'T DIE THEY KILLED THEMSELVES FOR EACH OTHER I MEAN THAT  EXACTLY IT'S A LITTLE MORE SELFISH  YOU KNOW  WHEN THEY'D ALL BE HERE TODAY\n"
     ]
    },
    {
     "name": "stdout",
     "output_type": "stream",
     "text": [
      "File 24 of 557\r"
     ]
    },
    {
     "name": "stderr",
     "output_type": "stream",
     "text": [
      "[2025-01-20 01:16:08,379][835302387.py][line:31][INFO] Transcription of file 25 has been formatted\n",
      "[2025-01-20 01:16:08,379][835302387.py][line:32][INFO] ORIGINAL:  To bring that onto the earth again, you know, as like some kind of monument. And I thought it would just make a difference to him.\n",
      "[2025-01-20 01:16:08,379][835302387.py][line:33][INFO] FORMATTED:  TO BRING THAT ONTO THE EARTH AGAIN  YOU KNOW  AS LIKE SOME KIND OF MONUMENT AND I THOUGHT IT WOULD JUST MAKE A DIFFERENCE TO HIM\n"
     ]
    },
    {
     "name": "stdout",
     "output_type": "stream",
     "text": [
      "File 25 of 557\r"
     ]
    },
    {
     "name": "stderr",
     "output_type": "stream",
     "text": [
      "[2025-01-20 01:16:10,123][835302387.py][line:31][INFO] Transcription of file 26 has been formatted\n",
      "[2025-01-20 01:16:10,123][835302387.py][line:32][INFO] ORIGINAL:  But then I came home and it was incredible, you know. The whole thing was just kind of this random bus accident. You know, I went back to the rat race again. I went to work.\n",
      "[2025-01-20 01:16:10,123][835302387.py][line:33][INFO] FORMATTED:  BUT THEN I CAME HOME AND IT WAS INCREDIBLE  YOU KNOW THE WHOLE THING WAS JUST KIND OF THIS RANDOM BUS ACCIDENT YOU KNOW  I WENT BACK TO THE RAT RACE AGAIN I WENT TO WORK\n"
     ]
    },
    {
     "name": "stdout",
     "output_type": "stream",
     "text": [
      "File 26 of 557\r"
     ]
    },
    {
     "name": "stderr",
     "output_type": "stream",
     "text": [
      "[2025-01-20 01:16:11,004][835302387.py][line:31][INFO] Transcription of file 27 has been formatted\n",
      "[2025-01-20 01:16:11,004][835302387.py][line:32][INFO] ORIGINAL:  And, uh... I didn't want any of it. I guess that included you.\n",
      "[2025-01-20 01:16:11,004][835302387.py][line:33][INFO] FORMATTED:  AND  UH I DIDN'T WANT ANY OF IT I GUESS THAT INCLUDED YOU\n"
     ]
    },
    {
     "name": "stdout",
     "output_type": "stream",
     "text": [
      "File 27 of 557\r"
     ]
    },
    {
     "name": "stderr",
     "output_type": "stream",
     "text": [
      "[2025-01-20 01:16:11,565][835302387.py][line:31][INFO] Transcription of file 28 has been formatted\n",
      "[2025-01-20 01:16:11,565][835302387.py][line:32][INFO] ORIGINAL:  I just want you to know, Amy,\n",
      "[2025-01-20 01:16:11,565][835302387.py][line:33][INFO] FORMATTED:  I JUST WANT YOU TO KNOW  AMY \n"
     ]
    },
    {
     "name": "stdout",
     "output_type": "stream",
     "text": [
      "File 28 of 557\r"
     ]
    },
    {
     "name": "stderr",
     "output_type": "stream",
     "text": [
      "[2025-01-20 01:16:12,338][835302387.py][line:31][INFO] Transcription of file 29 has been formatted\n",
      "[2025-01-20 01:16:12,338][835302387.py][line:32][INFO] ORIGINAL:  However, we believe the real cause of that row was Peter Burden.\n",
      "[2025-01-20 01:16:12,338][835302387.py][line:33][INFO] FORMATTED:  HOWEVER  WE BELIEVE THE REAL CAUSE OF THAT ROW WAS PETER BURDEN\n"
     ]
    },
    {
     "name": "stdout",
     "output_type": "stream",
     "text": [
      "File 29 of 557\r"
     ]
    },
    {
     "name": "stderr",
     "output_type": "stream",
     "text": [
      "[2025-01-20 01:16:13,111][835302387.py][line:31][INFO] Transcription of file 30 has been formatted\n",
      "[2025-01-20 01:16:13,111][835302387.py][line:32][INFO] ORIGINAL:  I knew nothing of the sort. You took presents from him. Presents?\n",
      "[2025-01-20 01:16:13,111][835302387.py][line:33][INFO] FORMATTED:  I KNEW NOTHING OF THE SORT YOU TOOK PRESENTS FROM HIM PRESENTS \n"
     ]
    },
    {
     "name": "stdout",
     "output_type": "stream",
     "text": [
      "File 30 of 557\r"
     ]
    },
    {
     "name": "stderr",
     "output_type": "stream",
     "text": [
      "[2025-01-20 01:16:13,814][835302387.py][line:31][INFO] Transcription of file 31 has been formatted\n",
      "[2025-01-20 01:16:13,814][835302387.py][line:32][INFO] ORIGINAL:  You went out of your way to torture me over Peter Burton.\n",
      "[2025-01-20 01:16:13,814][835302387.py][line:33][INFO] FORMATTED:  YOU WENT OUT OF YOUR WAY TO TORTURE ME OVER PETER BURTON\n"
     ]
    },
    {
     "name": "stdout",
     "output_type": "stream",
     "text": [
      "File 31 of 557\r"
     ]
    },
    {
     "name": "stderr",
     "output_type": "stream",
     "text": [
      "[2025-01-20 01:16:14,198][835302387.py][line:31][INFO] Transcription of file 32 has been formatted\n",
      "[2025-01-20 01:16:14,198][835302387.py][line:32][INFO] ORIGINAL:  What about me?\n",
      "[2025-01-20 01:16:14,198][835302387.py][line:33][INFO] FORMATTED:  WHAT ABOUT ME \n"
     ]
    },
    {
     "name": "stdout",
     "output_type": "stream",
     "text": [
      "File 32 of 557\r"
     ]
    },
    {
     "name": "stderr",
     "output_type": "stream",
     "text": [
      "[2025-01-20 01:16:14,740][835302387.py][line:31][INFO] Transcription of file 33 has been formatted\n",
      "[2025-01-20 01:16:14,740][835302387.py][line:32][INFO] ORIGINAL:  I'll have a little, I think.\n",
      "[2025-01-20 01:16:14,755][835302387.py][line:33][INFO] FORMATTED:  I'LL HAVE A LITTLE  I THINK\n"
     ]
    },
    {
     "name": "stdout",
     "output_type": "stream",
     "text": [
      "File 33 of 557\r"
     ]
    },
    {
     "name": "stderr",
     "output_type": "stream",
     "text": [
      "[2025-01-20 01:16:15,448][835302387.py][line:31][INFO] Transcription of file 34 has been formatted\n",
      "[2025-01-20 01:16:15,448][835302387.py][line:32][INFO] ORIGINAL:  No particular reason. Anyhow, they're very small ones.\n",
      "[2025-01-20 01:16:15,448][835302387.py][line:33][INFO] FORMATTED:  NO PARTICULAR REASON ANYHOW  THEY'RE VERY SMALL ONES\n"
     ]
    },
    {
     "name": "stdout",
     "output_type": "stream",
     "text": [
      "File 34 of 557\r"
     ]
    },
    {
     "name": "stderr",
     "output_type": "stream",
     "text": [
      "[2025-01-20 01:16:15,878][835302387.py][line:31][INFO] Transcription of file 35 has been formatted\n",
      "[2025-01-20 01:16:15,878][835302387.py][line:32][INFO] ORIGINAL:  Really, Amanda. What?\n",
      "[2025-01-20 01:16:15,894][835302387.py][line:33][INFO] FORMATTED:  REALLY  AMANDA WHAT \n"
     ]
    },
    {
     "name": "stdout",
     "output_type": "stream",
     "text": [
      "File 35 of 557\r"
     ]
    },
    {
     "name": "stderr",
     "output_type": "stream",
     "text": [
      "[2025-01-20 01:16:16,362][835302387.py][line:31][INFO] Transcription of file 36 has been formatted\n",
      "[2025-01-20 01:16:16,362][835302387.py][line:32][INFO] ORIGINAL:  You going out somewhere, dear?\n",
      "[2025-01-20 01:16:16,362][835302387.py][line:33][INFO] FORMATTED:  YOU GOING OUT SOMEWHERE  DEAR \n"
     ]
    },
    {
     "name": "stdout",
     "output_type": "stream",
     "text": [
      "File 36 of 557\r"
     ]
    },
    {
     "name": "stderr",
     "output_type": "stream",
     "text": [
      "[2025-01-20 01:16:17,146][835302387.py][line:31][INFO] Transcription of file 37 has been formatted\n",
      "[2025-01-20 01:16:17,146][835302387.py][line:32][INFO] ORIGINAL:  Well, as a matter of fact, yes, that's perfectly true.\n",
      "[2025-01-20 01:16:17,146][835302387.py][line:33][INFO] FORMATTED:  WELL  AS A MATTER OF FACT  YES  THAT'S PERFECTLY TRUE\n"
     ]
    },
    {
     "name": "stdout",
     "output_type": "stream",
     "text": [
      "File 37 of 557\r"
     ]
    },
    {
     "name": "stderr",
     "output_type": "stream",
     "text": [
      "[2025-01-20 01:16:17,557][835302387.py][line:31][INFO] Transcription of file 38 has been formatted\n",
      "[2025-01-20 01:16:17,557][835302387.py][line:32][INFO] ORIGINAL:  Yes, it is.\n",
      "[2025-01-20 01:16:17,557][835302387.py][line:33][INFO] FORMATTED:  YES  IT IS\n"
     ]
    },
    {
     "name": "stdout",
     "output_type": "stream",
     "text": [
      "File 38 of 557\r"
     ]
    },
    {
     "name": "stderr",
     "output_type": "stream",
     "text": [
      "[2025-01-20 01:16:18,791][835302387.py][line:31][INFO] Transcription of file 39 has been formatted\n",
      "[2025-01-20 01:16:18,791][835302387.py][line:32][INFO] ORIGINAL:  Really, it's a pity you didn't have any brandy, you know, it would have made you a little less disagreeable.\n",
      "[2025-01-20 01:16:18,791][835302387.py][line:33][INFO] FORMATTED:  REALLY  IT'S A PITY YOU DIDN'T HAVE ANY BRANDY  YOU KNOW  IT WOULD HAVE MADE YOU A LITTLE LESS DISAGREEABLE\n"
     ]
    },
    {
     "name": "stdout",
     "output_type": "stream",
     "text": [
      "File 39 of 557\r"
     ]
    },
    {
     "name": "stderr",
     "output_type": "stream",
     "text": [
      "[2025-01-20 01:16:19,642][835302387.py][line:31][INFO] Transcription of file 40 has been formatted\n",
      "[2025-01-20 01:16:19,642][835302387.py][line:32][INFO] ORIGINAL:  Snap, snap, snap. You know, you're like a little adder.\n",
      "[2025-01-20 01:16:19,642][835302387.py][line:33][INFO] FORMATTED:  SNAP  SNAP  SNAP YOU KNOW  YOU'RE LIKE A LITTLE ADDER\n"
     ]
    },
    {
     "name": "stdout",
     "output_type": "stream",
     "text": [
      "File 40 of 557\r"
     ]
    },
    {
     "name": "stderr",
     "output_type": "stream",
     "text": [
      "[2025-01-20 01:16:20,882][835302387.py][line:31][INFO] Transcription of file 41 has been formatted\n",
      "[2025-01-20 01:16:20,882][835302387.py][line:32][INFO] ORIGINAL:  Nonsense. They have a bag of venom behind their fangs and they snap. They stink. They snap. I don't care.\n",
      "[2025-01-20 01:16:20,882][835302387.py][line:33][INFO] FORMATTED:  NONSENSE THEY HAVE A BAG OF VENOM BEHIND THEIR FANGS AND THEY SNAP THEY STINK THEY SNAP I DON'T CARE\n"
     ]
    },
    {
     "name": "stdout",
     "output_type": "stream",
     "text": [
      "File 41 of 557\r"
     ]
    },
    {
     "name": "stderr",
     "output_type": "stream",
     "text": [
      "[2025-01-20 01:16:21,720][835302387.py][line:31][INFO] Transcription of file 42 has been formatted\n",
      "[2025-01-20 01:16:21,720][835302387.py][line:32][INFO] ORIGINAL:  Did you see much of Peter Burden after our divorce? Yes, I did.\n",
      "[2025-01-20 01:16:21,720][835302387.py][line:33][INFO] FORMATTED:  DID YOU SEE MUCH OF PETER BURDEN AFTER OUR DIVORCE  YES  I DID\n"
     ]
    },
    {
     "name": "stdout",
     "output_type": "stream",
     "text": [
      "File 42 of 557\r"
     ]
    },
    {
     "name": "stderr",
     "output_type": "stream",
     "text": [
      "[2025-01-20 01:16:23,792][835302387.py][line:31][INFO] Transcription of file 43 has been formatted\n",
      "[2025-01-20 01:16:23,792][835302387.py][line:32][INFO] ORIGINAL:  And I suppose you let him kiss you a good deal more then too. Mind your own business. Oh yes, I suppose you guys had a riotous time, huh? All out, no restraint at all. Well you never really had much anyhow.\n",
      "[2025-01-20 01:16:23,792][835302387.py][line:33][INFO] FORMATTED:  AND I SUPPOSE YOU LET HIM KISS YOU A GOOD DEAL MORE THEN TOO MIND YOUR OWN BUSINESS OH YES  I SUPPOSE YOU GUYS HAD A RIOTOUS TIME  HUH  ALL OUT  NO RESTRAINT AT ALL WELL YOU NEVER REALLY HAD MUCH ANYHOW\n"
     ]
    },
    {
     "name": "stdout",
     "output_type": "stream",
     "text": [
      "File 43 of 557\r"
     ]
    },
    {
     "name": "stderr",
     "output_type": "stream",
     "text": [
      "[2025-01-20 01:16:24,472][835302387.py][line:31][INFO] Transcription of file 44 has been formatted\n",
      "[2025-01-20 01:16:24,473][835302387.py][line:32][INFO] ORIGINAL:  I think I'm not in the least bit drunk.\n",
      "[2025-01-20 01:16:24,474][835302387.py][line:33][INFO] FORMATTED:  I THINK I'M NOT IN THE LEAST BIT DRUNK\n"
     ]
    },
    {
     "name": "stdout",
     "output_type": "stream",
     "text": [
      "File 44 of 557\r"
     ]
    },
    {
     "name": "stderr",
     "output_type": "stream",
     "text": [
      "[2025-01-20 01:16:25,738][835302387.py][line:31][INFO] Transcription of file 45 has been formatted\n",
      "[2025-01-20 01:16:25,738][835302387.py][line:32][INFO] ORIGINAL:  I think I mentioned once before that I have had three minute liquor glasses the whole evening long. A child of two cannot get drunk on that.\n",
      "[2025-01-20 01:16:25,738][835302387.py][line:33][INFO] FORMATTED:  I THINK I MENTIONED ONCE BEFORE THAT I HAVE HAD THREE MINUTE LIQUOR GLASSES THE WHOLE EVENING LONG A CHILD OF TWO CANNOT GET DRUNK ON THAT\n"
     ]
    },
    {
     "name": "stdout",
     "output_type": "stream",
     "text": [
      "File 45 of 557\r"
     ]
    },
    {
     "name": "stderr",
     "output_type": "stream",
     "text": [
      "[2025-01-20 01:16:27,908][835302387.py][line:31][INFO] Transcription of file 46 has been formatted\n",
      "[2025-01-20 01:16:27,908][835302387.py][line:32][INFO] ORIGINAL:  That's very interesting, Amanda. Oh, shut up. How about a child of four? Or a child of six? Or a child of nine? Shut up! We can get a good little conversation going on about this, you know? And temperate tots!\n",
      "[2025-01-20 01:16:27,908][835302387.py][line:33][INFO] FORMATTED:  THAT'S VERY INTERESTING  AMANDA OH  SHUT UP HOW ABOUT A CHILD OF FOUR  OR A CHILD OF SIX  OR A CHILD OF NINE  SHUT UP  WE CAN GET A GOOD LITTLE CONVERSATION GOING ON ABOUT THIS  YOU KNOW  AND TEMPERATE TOTS \n"
     ]
    },
    {
     "name": "stdout",
     "output_type": "stream",
     "text": [
      "File 46 of 557\r"
     ]
    },
    {
     "name": "stderr",
     "output_type": "stream",
     "text": [
      "[2025-01-20 01:16:28,853][835302387.py][line:31][INFO] Transcription of file 47 has been formatted\n",
      "[2025-01-20 01:16:28,853][835302387.py][line:32][INFO] ORIGINAL:  Look, you better turn that off. I don't want to wake up the people upstairs.\n",
      "[2025-01-20 01:16:28,853][835302387.py][line:33][INFO] FORMATTED:  LOOK  YOU BETTER TURN THAT OFF I DON'T WANT TO WAKE UP THE PEOPLE UPSTAIRS\n"
     ]
    },
    {
     "name": "stdout",
     "output_type": "stream",
     "text": [
      "File 47 of 557\r"
     ]
    },
    {
     "name": "stderr",
     "output_type": "stream",
     "text": [
      "[2025-01-20 01:16:29,453][835302387.py][line:31][INFO] Transcription of file 48 has been formatted\n",
      "[2025-01-20 01:16:29,453][835302387.py][line:32][INFO] ORIGINAL:  Well, then you'll make other people downstairs.\n",
      "[2025-01-20 01:16:29,453][835302387.py][line:33][INFO] FORMATTED:  WELL  THEN YOU'LL MAKE OTHER PEOPLE DOWNSTAIRS\n"
     ]
    },
    {
     "name": "stdout",
     "output_type": "stream",
     "text": [
      "File 48 of 557\r"
     ]
    },
    {
     "name": "stderr",
     "output_type": "stream",
     "text": [
      "[2025-01-20 01:16:30,041][835302387.py][line:31][INFO] Transcription of file 49 has been formatted\n",
      "[2025-01-20 01:16:30,041][835302387.py][line:32][INFO] ORIGINAL:  This is no time of year for Tunis.\n",
      "[2025-01-20 01:16:30,041][835302387.py][line:33][INFO] FORMATTED:  THIS IS NO TIME OF YEAR FOR TUNIS\n"
     ]
    },
    {
     "name": "stdout",
     "output_type": "stream",
     "text": [
      "File 49 of 557\r"
     ]
    },
    {
     "name": "stderr",
     "output_type": "stream",
     "text": [
      "[2025-01-20 01:16:30,525][835302387.py][line:31][INFO] Transcription of file 50 has been formatted\n",
      "[2025-01-20 01:16:30,525][835302387.py][line:32][INFO] ORIGINAL:  I will do no such thing.\n",
      "[2025-01-20 01:16:30,525][835302387.py][line:33][INFO] FORMATTED:  I WILL DO NO SUCH THING\n"
     ]
    },
    {
     "name": "stdout",
     "output_type": "stream",
     "text": [
      "File 50 of 557\r"
     ]
    },
    {
     "name": "stderr",
     "output_type": "stream",
     "text": [
      "[2025-01-20 01:16:31,180][835302387.py][line:31][INFO] Transcription of file 51 has been formatted\n",
      "[2025-01-20 01:16:31,195][835302387.py][line:32][INFO] ORIGINAL:  Will you turn that off? It's driving me mad.\n",
      "[2025-01-20 01:16:31,195][835302387.py][line:33][INFO] FORMATTED:  WILL YOU TURN THAT OFF  IT'S DRIVING ME MAD\n"
     ]
    },
    {
     "name": "stdout",
     "output_type": "stream",
     "text": [
      "File 51 of 557\r"
     ]
    },
    {
     "name": "stderr",
     "output_type": "stream",
     "text": [
      "[2025-01-20 01:16:31,556][835302387.py][line:31][INFO] Transcription of file 52 has been formatted\n",
      "[2025-01-20 01:16:31,556][835302387.py][line:32][INFO] ORIGINAL:  Turn it off.\n",
      "[2025-01-20 01:16:31,556][835302387.py][line:33][INFO] FORMATTED:  TURN IT OFF\n"
     ]
    },
    {
     "name": "stdout",
     "output_type": "stream",
     "text": [
      "File 52 of 557\r"
     ]
    },
    {
     "name": "stderr",
     "output_type": "stream",
     "text": [
      "[2025-01-20 01:16:32,066][835302387.py][line:31][INFO] Transcription of file 53 has been formatted\n",
      "[2025-01-20 01:16:32,082][835302387.py][line:32][INFO] ORIGINAL:  Amanda, listen. Listen. Listen.\n",
      "[2025-01-20 01:16:32,082][835302387.py][line:33][INFO] FORMATTED:  AMANDA  LISTEN LISTEN LISTEN\n"
     ]
    },
    {
     "name": "stdout",
     "output_type": "stream",
     "text": [
      "File 53 of 557\r"
     ]
    },
    {
     "name": "stderr",
     "output_type": "stream",
     "text": [
      "[2025-01-20 01:16:32,884][835302387.py][line:31][INFO] Transcription of file 54 has been formatted\n",
      "[2025-01-20 01:16:32,884][835302387.py][line:32][INFO] ORIGINAL:  to you, you sadistic bully. Oh, it's very amusing indeed.\n",
      "[2025-01-20 01:16:32,884][835302387.py][line:33][INFO] FORMATTED:  TO YOU  YOU SADISTIC BULLY OH  IT'S VERY AMUSING INDEED\n"
     ]
    },
    {
     "name": "stdout",
     "output_type": "stream",
     "text": [
      "File 54 of 557\r"
     ]
    },
    {
     "name": "stderr",
     "output_type": "stream",
     "text": [
      "[2025-01-20 01:16:34,290][835302387.py][line:31][INFO] Transcription of file 55 has been formatted\n",
      "[2025-01-20 01:16:34,290][835302387.py][line:32][INFO] ORIGINAL:  You are a vile, tempered, loose-living, wicked little beast, and I never want to see you again as long as I live.\n",
      "[2025-01-20 01:16:34,290][835302387.py][line:33][INFO] FORMATTED:  YOU ARE A VILE  TEMPERED  LOOSE LIVING  WICKED LITTLE BEAST  AND I NEVER WANT TO SEE YOU AGAIN AS LONG AS I LIVE\n"
     ]
    },
    {
     "name": "stdout",
     "output_type": "stream",
     "text": [
      "File 55 of 557\r"
     ]
    },
    {
     "name": "stderr",
     "output_type": "stream",
     "text": [
      "[2025-01-20 01:16:34,771][835302387.py][line:31][INFO] Transcription of file 56 has been formatted\n",
      "[2025-01-20 01:16:34,771][835302387.py][line:32][INFO] ORIGINAL:  You're not going like this.\n",
      "[2025-01-20 01:16:34,771][835302387.py][line:33][INFO] FORMATTED:  YOU'RE NOT GOING LIKE THIS\n"
     ]
    },
    {
     "name": "stdout",
     "output_type": "stream",
     "text": [
      "File 56 of 557\r"
     ]
    },
    {
     "name": "stderr",
     "output_type": "stream",
     "text": [
      "[2025-01-20 01:16:35,151][835302387.py][line:31][INFO] Transcription of file 57 has been formatted\n",
      "[2025-01-20 01:16:35,151][835302387.py][line:32][INFO] ORIGINAL:  You're not.\n",
      "[2025-01-20 01:16:35,151][835302387.py][line:33][INFO] FORMATTED:  YOU'RE NOT\n"
     ]
    },
    {
     "name": "stdout",
     "output_type": "stream",
     "text": [
      "File 57 of 557\r"
     ]
    },
    {
     "name": "stderr",
     "output_type": "stream",
     "text": [
      "[2025-01-20 01:16:37,321][835302387.py][line:31][INFO] Transcription of file 58 has been formatted\n",
      "[2025-01-20 01:16:37,321][835302387.py][line:32][INFO] ORIGINAL:  Shut up! Shut up! I wouldn't marry you again if you came crawling back to me on a bended knee. You are a vile, ill-tempered, mean little wench and I never want to see you again as long as I live!\n",
      "[2025-01-20 01:16:37,321][835302387.py][line:33][INFO] FORMATTED:  SHUT UP  SHUT UP  I WOULDN'T MARRY YOU AGAIN IF YOU CAME CRAWLING BACK TO ME ON A BENDED KNEE YOU ARE A VILE  ILL TEMPERED  MEAN LITTLE WENCH AND I NEVER WANT TO SEE YOU AGAIN AS LONG AS I LIVE \n"
     ]
    },
    {
     "name": "stdout",
     "output_type": "stream",
     "text": [
      "File 58 of 557\r"
     ]
    },
    {
     "name": "stderr",
     "output_type": "stream",
     "text": [
      "[2025-01-20 01:16:38,088][835302387.py][line:31][INFO] Transcription of file 59 has been formatted\n",
      "[2025-01-20 01:16:38,088][835302387.py][line:32][INFO] ORIGINAL:  Look at this, all the hairs are standing up on my arm.\n",
      "[2025-01-20 01:16:38,088][835302387.py][line:33][INFO] FORMATTED:  LOOK AT THIS  ALL THE HAIRS ARE STANDING UP ON MY ARM\n"
     ]
    },
    {
     "name": "stdout",
     "output_type": "stream",
     "text": [
      "File 59 of 557\r"
     ]
    },
    {
     "name": "stderr",
     "output_type": "stream",
     "text": [
      "[2025-01-20 01:16:38,610][835302387.py][line:31][INFO] Transcription of file 60 has been formatted\n",
      "[2025-01-20 01:16:38,610][835302387.py][line:32][INFO] ORIGINAL:  Well, so what do you think?\n",
      "[2025-01-20 01:16:38,610][835302387.py][line:33][INFO] FORMATTED:  WELL  SO WHAT DO YOU THINK \n"
     ]
    },
    {
     "name": "stdout",
     "output_type": "stream",
     "text": [
      "File 60 of 557\r"
     ]
    },
    {
     "name": "stderr",
     "output_type": "stream",
     "text": [
      "[2025-01-20 01:16:39,169][835302387.py][line:31][INFO] Transcription of file 61 has been formatted\n",
      "[2025-01-20 01:16:39,169][835302387.py][line:32][INFO] ORIGINAL:  I don't know what I was saying.\n",
      "[2025-01-20 01:16:39,169][835302387.py][line:33][INFO] FORMATTED:  I DON'T KNOW WHAT I WAS SAYING\n"
     ]
    },
    {
     "name": "stdout",
     "output_type": "stream",
     "text": [
      "File 61 of 557\r"
     ]
    },
    {
     "name": "stderr",
     "output_type": "stream",
     "text": [
      "[2025-01-20 01:16:40,304][835302387.py][line:31][INFO] Transcription of file 62 has been formatted\n",
      "[2025-01-20 01:16:40,304][835302387.py][line:32][INFO] ORIGINAL:  Carla, can I ask you something now? Don't take this the wrong way, but... Are you on your period?\n",
      "[2025-01-20 01:16:40,304][835302387.py][line:33][INFO] FORMATTED:  CARLA  CAN I ASK YOU SOMETHING NOW  DON'T TAKE THIS THE WRONG WAY  BUT ARE YOU ON YOUR PERIOD \n"
     ]
    },
    {
     "name": "stdout",
     "output_type": "stream",
     "text": [
      "File 62 of 557\r"
     ]
    },
    {
     "name": "stderr",
     "output_type": "stream",
     "text": [
      "[2025-01-20 01:16:42,953][835302387.py][line:31][INFO] Transcription of file 63 has been formatted\n",
      "[2025-01-20 01:16:42,969][835302387.py][line:32][INFO] ORIGINAL:  Okay, so you were fine doing that phone call from Marge and then dinner was okay and doing the dishes was fine and then I was going to take a shower and you're watching the news and you said the grungeons are running tonight. You want to go? And I said, sure, great, let's go.\n",
      "[2025-01-20 01:16:42,969][835302387.py][line:33][INFO] FORMATTED:  OKAY  SO YOU WERE FINE DOING THAT PHONE CALL FROM MARGE AND THEN DINNER WAS OKAY AND DOING THE DISHES WAS FINE AND THEN I WAS GOING TO TAKE A SHOWER AND YOU'RE WATCHING THE NEWS AND YOU SAID THE GRUNGEONS ARE RUNNING TONIGHT YOU WANT TO GO  AND I SAID  SURE  GREAT  LET'S GO\n"
     ]
    },
    {
     "name": "stdout",
     "output_type": "stream",
     "text": [
      "File 63 of 557\r"
     ]
    },
    {
     "name": "stderr",
     "output_type": "stream",
     "text": [
      "[2025-01-20 01:16:43,859][835302387.py][line:31][INFO] Transcription of file 64 has been formatted\n",
      "[2025-01-20 01:16:43,859][835302387.py][line:32][INFO] ORIGINAL:  Okay, so I'm putting out the pets, getting the car to the garage.\n",
      "[2025-01-20 01:16:43,859][835302387.py][line:33][INFO] FORMATTED:  OKAY  SO I'M PUTTING OUT THE PETS  GETTING THE CAR TO THE GARAGE\n"
     ]
    },
    {
     "name": "stdout",
     "output_type": "stream",
     "text": [
      "File 64 of 557\r"
     ]
    },
    {
     "name": "stderr",
     "output_type": "stream",
     "text": [
      "[2025-01-20 01:16:45,609][835302387.py][line:31][INFO] Transcription of file 65 has been formatted\n",
      "[2025-01-20 01:16:45,609][835302387.py][line:32][INFO] ORIGINAL:  It's when we were driving past that Knickerbocker Liquor Locker. You said, let's get some champagne. And I said, no, time's a wasting or something like that.\n",
      "[2025-01-20 01:16:45,609][835302387.py][line:33][INFO] FORMATTED:  IT'S WHEN WE WERE DRIVING PAST THAT KNICKERBOCKER LIQUOR LOCKER YOU SAID  LET'S GET SOME CHAMPAGNE AND I SAID  NO  TIME'S A WASTING OR SOMETHING LIKE THAT\n"
     ]
    },
    {
     "name": "stdout",
     "output_type": "stream",
     "text": [
      "File 65 of 557\r"
     ]
    },
    {
     "name": "stderr",
     "output_type": "stream",
     "text": [
      "[2025-01-20 01:16:46,091][835302387.py][line:31][INFO] Transcription of file 66 has been formatted\n",
      "[2025-01-20 01:16:46,091][835302387.py][line:32][INFO] ORIGINAL:  Sure. All right. Okay.\n",
      "[2025-01-20 01:16:46,091][835302387.py][line:33][INFO] FORMATTED:  SURE ALL RIGHT OKAY\n"
     ]
    },
    {
     "name": "stdout",
     "output_type": "stream",
     "text": [
      "File 66 of 557\r"
     ]
    },
    {
     "name": "stderr",
     "output_type": "stream",
     "text": [
      "[2025-01-20 01:16:46,618][835302387.py][line:31][INFO] Transcription of file 67 has been formatted\n",
      "[2025-01-20 01:16:46,618][835302387.py][line:32][INFO] ORIGINAL:  Listen, uh... You wanna dance?\n",
      "[2025-01-20 01:16:46,618][835302387.py][line:33][INFO] FORMATTED:  LISTEN  UH YOU WANNA DANCE \n"
     ]
    },
    {
     "name": "stdout",
     "output_type": "stream",
     "text": [
      "File 67 of 557\r"
     ]
    },
    {
     "name": "stderr",
     "output_type": "stream",
     "text": [
      "[2025-01-20 01:16:47,206][835302387.py][line:31][INFO] Transcription of file 68 has been formatted\n",
      "[2025-01-20 01:16:47,206][835302387.py][line:32][INFO] ORIGINAL:  Do you want me to go get some champagne?\n",
      "[2025-01-20 01:16:47,206][835302387.py][line:33][INFO] FORMATTED:  DO YOU WANT ME TO GO GET SOME CHAMPAGNE \n"
     ]
    },
    {
     "name": "stdout",
     "output_type": "stream",
     "text": [
      "File 68 of 557\r"
     ]
    },
    {
     "name": "stderr",
     "output_type": "stream",
     "text": [
      "[2025-01-20 01:16:47,765][835302387.py][line:31][INFO] Transcription of file 69 has been formatted\n",
      "[2025-01-20 01:16:47,765][835302387.py][line:32][INFO] ORIGINAL:  Want to take a look at your shoes?\n",
      "[2025-01-20 01:16:47,765][835302387.py][line:33][INFO] FORMATTED:  WANT TO TAKE A LOOK AT YOUR SHOES \n"
     ]
    },
    {
     "name": "stdout",
     "output_type": "stream",
     "text": [
      "File 69 of 557\r"
     ]
    },
    {
     "name": "stderr",
     "output_type": "stream",
     "text": [
      "[2025-01-20 01:16:48,243][835302387.py][line:31][INFO] Transcription of file 70 has been formatted\n",
      "[2025-01-20 01:16:48,243][835302387.py][line:32][INFO] ORIGINAL:  Do you wanna get married again?\n",
      "[2025-01-20 01:16:48,243][835302387.py][line:33][INFO] FORMATTED:  DO YOU WANNA GET MARRIED AGAIN \n"
     ]
    },
    {
     "name": "stdout",
     "output_type": "stream",
     "text": [
      "File 70 of 557\r"
     ]
    },
    {
     "name": "stderr",
     "output_type": "stream",
     "text": [
      "[2025-01-20 01:16:48,625][835302387.py][line:31][INFO] Transcription of file 71 has been formatted\n",
      "[2025-01-20 01:16:48,625][835302387.py][line:32][INFO] ORIGINAL:  Yes it is.\n",
      "[2025-01-20 01:16:48,625][835302387.py][line:33][INFO] FORMATTED:  YES IT IS\n"
     ]
    },
    {
     "name": "stdout",
     "output_type": "stream",
     "text": [
      "File 71 of 557\r"
     ]
    },
    {
     "name": "stderr",
     "output_type": "stream",
     "text": [
      "[2025-01-20 01:16:49,166][835302387.py][line:31][INFO] Transcription of file 72 has been formatted\n",
      "[2025-01-20 01:16:49,182][835302387.py][line:32][INFO] ORIGINAL:  Maybe if you're with someone else too.\n",
      "[2025-01-20 01:16:49,182][835302387.py][line:33][INFO] FORMATTED:  MAYBE IF YOU'RE WITH SOMEONE ELSE TOO\n"
     ]
    },
    {
     "name": "stdout",
     "output_type": "stream",
     "text": [
      "File 72 of 557\r"
     ]
    },
    {
     "name": "stderr",
     "output_type": "stream",
     "text": [
      "[2025-01-20 01:16:49,718][835302387.py][line:31][INFO] Transcription of file 73 has been formatted\n",
      "[2025-01-20 01:16:49,734][835302387.py][line:32][INFO] ORIGINAL:  I know I don't make you happy.\n",
      "[2025-01-20 01:16:49,734][835302387.py][line:33][INFO] FORMATTED:  I KNOW I DON'T MAKE YOU HAPPY\n"
     ]
    },
    {
     "name": "stdout",
     "output_type": "stream",
     "text": [
      "File 73 of 557\r"
     ]
    },
    {
     "name": "stderr",
     "output_type": "stream",
     "text": [
      "[2025-01-20 01:16:50,578][835302387.py][line:31][INFO] Transcription of file 74 has been formatted\n",
      "[2025-01-20 01:16:50,578][835302387.py][line:32][INFO] ORIGINAL:  You know, actually, now that you mention it, no, I don't.\n",
      "[2025-01-20 01:16:50,578][835302387.py][line:33][INFO] FORMATTED:  YOU KNOW  ACTUALLY  NOW THAT YOU MENTION IT  NO  I DON'T\n"
     ]
    },
    {
     "name": "stdout",
     "output_type": "stream",
     "text": [
      "File 74 of 557\r"
     ]
    },
    {
     "name": "stderr",
     "output_type": "stream",
     "text": [
      "[2025-01-20 01:16:51,274][835302387.py][line:31][INFO] Transcription of file 75 has been formatted\n",
      "[2025-01-20 01:16:51,274][835302387.py][line:32][INFO] ORIGINAL:  Got a great view of the moon from here though, huh?\n",
      "[2025-01-20 01:16:51,274][835302387.py][line:33][INFO] FORMATTED:  GOT A GREAT VIEW OF THE MOON FROM HERE THOUGH  HUH \n"
     ]
    },
    {
     "name": "stdout",
     "output_type": "stream",
     "text": [
      "File 75 of 557\r"
     ]
    },
    {
     "name": "stderr",
     "output_type": "stream",
     "text": [
      "[2025-01-20 01:16:51,608][835302387.py][line:31][INFO] Transcription of file 76 has been formatted\n",
      "[2025-01-20 01:16:51,608][835302387.py][line:32][INFO] ORIGINAL:  Thank you.\n",
      "[2025-01-20 01:16:51,608][835302387.py][line:33][INFO] FORMATTED:  THANK YOU\n"
     ]
    },
    {
     "name": "stdout",
     "output_type": "stream",
     "text": [
      "File 76 of 557\r"
     ]
    },
    {
     "name": "stderr",
     "output_type": "stream",
     "text": [
      "[2025-01-20 01:16:52,089][835302387.py][line:31][INFO] Transcription of file 77 has been formatted\n",
      "[2025-01-20 01:16:52,089][835302387.py][line:32][INFO] ORIGINAL:  And look what I got here.\n",
      "[2025-01-20 01:16:52,089][835302387.py][line:33][INFO] FORMATTED:  AND LOOK WHAT I GOT HERE\n"
     ]
    },
    {
     "name": "stdout",
     "output_type": "stream",
     "text": [
      "File 77 of 557\r"
     ]
    },
    {
     "name": "stderr",
     "output_type": "stream",
     "text": [
      "[2025-01-20 01:16:52,389][835302387.py][line:31][INFO] Transcription of file 78 has been formatted\n",
      "[2025-01-20 01:16:52,389][835302387.py][line:32][INFO] ORIGINAL:  Спасибо.\n",
      "[2025-01-20 01:16:52,389][835302387.py][line:33][INFO] FORMATTED:  \n"
     ]
    },
    {
     "name": "stdout",
     "output_type": "stream",
     "text": [
      "File 78 of 557\r"
     ]
    },
    {
     "name": "stderr",
     "output_type": "stream",
     "text": [
      "[2025-01-20 01:16:53,015][835302387.py][line:31][INFO] Transcription of file 79 has been formatted\n",
      "[2025-01-20 01:16:53,015][835302387.py][line:32][INFO] ORIGINAL:  Do you want to go home? Are you cold?\n",
      "[2025-01-20 01:16:53,015][835302387.py][line:33][INFO] FORMATTED:  DO YOU WANT TO GO HOME  ARE YOU COLD \n"
     ]
    },
    {
     "name": "stdout",
     "output_type": "stream",
     "text": [
      "File 79 of 557\r"
     ]
    },
    {
     "name": "stderr",
     "output_type": "stream",
     "text": [
      "[2025-01-20 01:16:53,650][835302387.py][line:31][INFO] Transcription of file 80 has been formatted\n",
      "[2025-01-20 01:16:53,650][835302387.py][line:32][INFO] ORIGINAL:  If we're very quiet, the fish might come.\n",
      "[2025-01-20 01:16:53,650][835302387.py][line:33][INFO] FORMATTED:  IF WE'RE VERY QUIET  THE FISH MIGHT COME\n"
     ]
    },
    {
     "name": "stdout",
     "output_type": "stream",
     "text": [
      "File 80 of 557\r"
     ]
    },
    {
     "name": "stderr",
     "output_type": "stream",
     "text": [
      "[2025-01-20 01:16:53,983][835302387.py][line:31][INFO] Transcription of file 81 has been formatted\n",
      "[2025-01-20 01:16:53,983][835302387.py][line:32][INFO] ORIGINAL:  Or not.\n",
      "[2025-01-20 01:16:53,983][835302387.py][line:33][INFO] FORMATTED:  OR NOT\n"
     ]
    },
    {
     "name": "stdout",
     "output_type": "stream",
     "text": [
      "File 81 of 557\r"
     ]
    },
    {
     "name": "stderr",
     "output_type": "stream",
     "text": [
      "[2025-01-20 01:16:54,290][835302387.py][line:31][INFO] Transcription of file 82 has been formatted\n",
      "[2025-01-20 01:16:54,290][835302387.py][line:32][INFO] ORIGINAL:  What?\n",
      "[2025-01-20 01:16:54,290][835302387.py][line:33][INFO] FORMATTED:  WHAT \n"
     ]
    },
    {
     "name": "stdout",
     "output_type": "stream",
     "text": [
      "File 82 of 557\r"
     ]
    },
    {
     "name": "stderr",
     "output_type": "stream",
     "text": [
      "[2025-01-20 01:16:56,003][835302387.py][line:31][INFO] Transcription of file 83 has been formatted\n",
      "[2025-01-20 01:16:56,003][835302387.py][line:32][INFO] ORIGINAL:  Okay, okay, no, no, no, no, okay, no, I need to hear this more. I don't know, come on, bring it. We're just having a conversation.\n",
      "[2025-01-20 01:16:56,003][835302387.py][line:33][INFO] FORMATTED:  OKAY  OKAY  NO  NO  NO  NO  OKAY  NO  I NEED TO HEAR THIS MORE I DON'T KNOW  COME ON  BRING IT WE'RE JUST HAVING A CONVERSATION\n"
     ]
    },
    {
     "name": "stdout",
     "output_type": "stream",
     "text": [
      "File 83 of 557\r"
     ]
    },
    {
     "name": "stderr",
     "output_type": "stream",
     "text": [
      "[2025-01-20 01:16:57,420][835302387.py][line:31][INFO] Transcription of file 84 has been formatted\n",
      "[2025-01-20 01:16:57,420][835302387.py][line:32][INFO] ORIGINAL:  I'm like a sponge. I'm like soaked up with all this information for like three years. I'm just dying for a job to like put it into.\n",
      "[2025-01-20 01:16:57,420][835302387.py][line:33][INFO] FORMATTED:  I'M LIKE A SPONGE I'M LIKE SOAKED UP WITH ALL THIS INFORMATION FOR LIKE THREE YEARS I'M JUST DYING FOR A JOB TO LIKE PUT IT INTO\n"
     ]
    },
    {
     "name": "stdout",
     "output_type": "stream",
     "text": [
      "File 84 of 557\r"
     ]
    },
    {
     "name": "stderr",
     "output_type": "stream",
     "text": [
      "[2025-01-20 01:16:57,682][835302387.py][line:31][INFO] Transcription of file 85 has been formatted\n",
      "[2025-01-20 01:16:57,682][835302387.py][line:32][INFO] ORIGINAL: 最後\n",
      "[2025-01-20 01:16:57,682][835302387.py][line:33][INFO] FORMATTED: \n"
     ]
    },
    {
     "name": "stdout",
     "output_type": "stream",
     "text": [
      "File 85 of 557\r"
     ]
    },
    {
     "name": "stderr",
     "output_type": "stream",
     "text": [
      "[2025-01-20 01:16:58,237][835302387.py][line:31][INFO] Transcription of file 86 has been formatted\n",
      "[2025-01-20 01:16:58,244][835302387.py][line:32][INFO] ORIGINAL:  The craziest thing that's happened to me.\n",
      "[2025-01-20 01:16:58,244][835302387.py][line:33][INFO] FORMATTED:  THE CRAZIEST THING THAT'S HAPPENED TO ME\n"
     ]
    },
    {
     "name": "stdout",
     "output_type": "stream",
     "text": [
      "File 86 of 557\r"
     ]
    },
    {
     "name": "stderr",
     "output_type": "stream",
     "text": [
      "[2025-01-20 01:16:59,015][835302387.py][line:31][INFO] Transcription of file 87 has been formatted\n",
      "[2025-01-20 01:16:59,015][835302387.py][line:32][INFO] ORIGINAL:  This girl, she just offered me $50,000 to marry her.\n",
      "[2025-01-20 01:16:59,015][835302387.py][line:33][INFO] FORMATTED:  THIS GIRL  SHE JUST OFFERED ME  50 000 TO MARRY HER\n"
     ]
    },
    {
     "name": "stdout",
     "output_type": "stream",
     "text": [
      "File 87 of 557\r"
     ]
    },
    {
     "name": "stderr",
     "output_type": "stream",
     "text": [
      "[2025-01-20 01:16:59,820][835302387.py][line:31][INFO] Transcription of file 88 has been formatted\n",
      "[2025-01-20 01:16:59,820][835302387.py][line:32][INFO] ORIGINAL:  Well, she's not a citizen, so she wants to get a visa?\n",
      "[2025-01-20 01:16:59,820][835302387.py][line:33][INFO] FORMATTED:  WELL  SHE'S NOT A CITIZEN  SO SHE WANTS TO GET A VISA \n"
     ]
    },
    {
     "name": "stdout",
     "output_type": "stream",
     "text": [
      "File 88 of 557\r"
     ]
    },
    {
     "name": "stderr",
     "output_type": "stream",
     "text": [
      "[2025-01-20 01:17:02,411][835302387.py][line:31][INFO] Transcription of file 89 has been formatted\n",
      "[2025-01-20 01:17:02,411][835302387.py][line:32][INFO] ORIGINAL:  No, no, no, no, no, no. She's just, she's not a citizen, but she wants her visa. Oh, she's going to marry you? Yeah. She's going to pay me $50,000 to marry her and stay married to her for two years. That's crazy.\n",
      "[2025-01-20 01:17:02,411][835302387.py][line:33][INFO] FORMATTED:  NO  NO  NO  NO  NO  NO SHE'S JUST  SHE'S NOT A CITIZEN  BUT SHE WANTS HER VISA OH  SHE'S GOING TO MARRY YOU  YEAH SHE'S GOING TO PAY ME  50 000 TO MARRY HER AND STAY MARRIED TO HER FOR TWO YEARS THAT'S CRAZY\n"
     ]
    },
    {
     "name": "stdout",
     "output_type": "stream",
     "text": [
      "File 89 of 557\r"
     ]
    },
    {
     "name": "stderr",
     "output_type": "stream",
     "text": [
      "[2025-01-20 01:17:03,665][835302387.py][line:31][INFO] Transcription of file 90 has been formatted\n",
      "[2025-01-20 01:17:03,665][835302387.py][line:32][INFO] ORIGINAL:  That's incredible. That's like $25,000 a year for doing that thing. That's awesome. Isn't that awesome?\n",
      "[2025-01-20 01:17:03,680][835302387.py][line:33][INFO] FORMATTED:  THAT'S INCREDIBLE THAT'S LIKE  25 000 A YEAR FOR DOING THAT THING THAT'S AWESOME ISN'T THAT AWESOME \n"
     ]
    },
    {
     "name": "stdout",
     "output_type": "stream",
     "text": [
      "File 90 of 557\r"
     ]
    },
    {
     "name": "stderr",
     "output_type": "stream",
     "text": [
      "[2025-01-20 01:17:04,990][835302387.py][line:31][INFO] Transcription of file 91 has been formatted\n",
      "[2025-01-20 01:17:04,990][835302387.py][line:32][INFO] ORIGINAL:  She's actually from England, I think? That's so cool! She spoke English, but she had an accent. I didn't even ask.\n",
      "[2025-01-20 01:17:04,990][835302387.py][line:33][INFO] FORMATTED:  SHE'S ACTUALLY FROM ENGLAND  I THINK  THAT'S SO COOL  SHE SPOKE ENGLISH  BUT SHE HAD AN ACCENT I DIDN'T EVEN ASK\n"
     ]
    },
    {
     "name": "stdout",
     "output_type": "stream",
     "text": [
      "File 91 of 557\r"
     ]
    },
    {
     "name": "stderr",
     "output_type": "stream",
     "text": [
      "[2025-01-20 01:17:06,570][835302387.py][line:31][INFO] Transcription of file 92 has been formatted\n",
      "[2025-01-20 01:17:06,570][835302387.py][line:32][INFO] ORIGINAL:  $50,000! What? $50,000! Where were you? I was just out. I just... Well, she's a friend of a friend, but like...\n",
      "[2025-01-20 01:17:06,570][835302387.py][line:33][INFO] FORMATTED:   50 000  WHAT   50 000  WHERE WERE YOU  I WAS JUST OUT I JUST WELL  SHE'S A FRIEND OF A FRIEND  BUT LIKE\n"
     ]
    },
    {
     "name": "stdout",
     "output_type": "stream",
     "text": [
      "File 92 of 557\r"
     ]
    },
    {
     "name": "stderr",
     "output_type": "stream",
     "text": [
      "[2025-01-20 01:17:09,482][835302387.py][line:31][INFO] Transcription of file 93 has been formatted\n",
      "[2025-01-20 01:17:09,484][835302387.py][line:32][INFO] ORIGINAL:  Yeah, can you believe it? Yeah, she's like hey, I'm like sure I'll do it. I'm like $50,000 I told you $50,000. But the only thing is that it's kind of like illegal. So like I could go to jail for like a really long time if I get caught. I know people\n",
      "[2025-01-20 01:17:09,485][835302387.py][line:33][INFO] FORMATTED:  YEAH  CAN YOU BELIEVE IT  YEAH  SHE'S LIKE HEY  I'M LIKE SURE I'LL DO IT I'M LIKE  50 000 I TOLD YOU  50 000 BUT THE ONLY THING IS THAT IT'S KIND OF LIKE ILLEGAL SO LIKE I COULD GO TO JAIL FOR LIKE A REALLY LONG TIME IF I GET CAUGHT I KNOW PEOPLE\n"
     ]
    },
    {
     "name": "stdout",
     "output_type": "stream",
     "text": [
      "File 93 of 557\r"
     ]
    },
    {
     "name": "stderr",
     "output_type": "stream",
     "text": [
      "[2025-01-20 01:17:10,517][835302387.py][line:31][INFO] Transcription of file 94 has been formatted\n",
      "[2025-01-20 01:17:10,517][835302387.py][line:32][INFO] ORIGINAL:  Oh, she's like, I'm really going to get married. We'll have the whole thing.\n",
      "[2025-01-20 01:17:10,517][835302387.py][line:33][INFO] FORMATTED:  OH  SHE'S LIKE  I'M REALLY GOING TO GET MARRIED WE'LL HAVE THE WHOLE THING\n"
     ]
    },
    {
     "name": "stdout",
     "output_type": "stream",
     "text": [
      "File 94 of 557\r"
     ]
    },
    {
     "name": "stderr",
     "output_type": "stream",
     "text": [
      "[2025-01-20 01:17:10,962][835302387.py][line:31][INFO] Transcription of file 95 has been formatted\n",
      "[2025-01-20 01:17:10,962][835302387.py][line:32][INFO] ORIGINAL:  Yeah. Oh, good.\n",
      "[2025-01-20 01:17:10,962][835302387.py][line:33][INFO] FORMATTED:  YEAH OH  GOOD\n"
     ]
    },
    {
     "name": "stdout",
     "output_type": "stream",
     "text": [
      "File 95 of 557\r"
     ]
    },
    {
     "name": "stderr",
     "output_type": "stream",
     "text": [
      "[2025-01-20 01:17:11,590][835302387.py][line:31][INFO] Transcription of file 96 has been formatted\n",
      "[2025-01-20 01:17:11,590][835302387.py][line:32][INFO] ORIGINAL:  I know. Like, make her rent the apartment.\n",
      "[2025-01-20 01:17:11,590][835302387.py][line:33][INFO] FORMATTED:  I KNOW LIKE  MAKE HER RENT THE APARTMENT\n"
     ]
    },
    {
     "name": "stdout",
     "output_type": "stream",
     "text": [
      "File 96 of 557\r"
     ]
    },
    {
     "name": "stderr",
     "output_type": "stream",
     "text": [
      "[2025-01-20 01:17:12,185][835302387.py][line:31][INFO] Transcription of file 97 has been formatted\n",
      "[2025-01-20 01:17:12,185][835302387.py][line:32][INFO] ORIGINAL:  you know, and you go pay the rent.\n",
      "[2025-01-20 01:17:12,185][835302387.py][line:33][INFO] FORMATTED:  YOU KNOW  AND YOU GO PAY THE RENT\n"
     ]
    },
    {
     "name": "stdout",
     "output_type": "stream",
     "text": [
      "File 97 of 557\r"
     ]
    },
    {
     "name": "stderr",
     "output_type": "stream",
     "text": [
      "[2025-01-20 01:17:12,954][835302387.py][line:31][INFO] Transcription of file 98 has been formatted\n",
      "[2025-01-20 01:17:12,958][835302387.py][line:32][INFO] ORIGINAL:  Yeah, and like make her like open the make account and stuff too.\n",
      "[2025-01-20 01:17:12,958][835302387.py][line:33][INFO] FORMATTED:  YEAH  AND LIKE MAKE HER LIKE OPEN THE MAKE ACCOUNT AND STUFF TOO\n"
     ]
    },
    {
     "name": "stdout",
     "output_type": "stream",
     "text": [
      "File 98 of 557\r"
     ]
    },
    {
     "name": "stderr",
     "output_type": "stream",
     "text": [
      "[2025-01-20 01:17:13,397][835302387.py][line:31][INFO] Transcription of file 99 has been formatted\n",
      "[2025-01-20 01:17:13,397][835302387.py][line:32][INFO] ORIGINAL:  It's a good idea.\n",
      "[2025-01-20 01:17:13,397][835302387.py][line:33][INFO] FORMATTED:  IT'S A GOOD IDEA\n"
     ]
    },
    {
     "name": "stdout",
     "output_type": "stream",
     "text": [
      "File 99 of 557\r"
     ]
    },
    {
     "name": "stderr",
     "output_type": "stream",
     "text": [
      "[2025-01-20 01:17:14,474][835302387.py][line:31][INFO] Transcription of file 100 has been formatted\n",
      "[2025-01-20 01:17:14,474][835302387.py][line:32][INFO] ORIGINAL:  I know! Oh, so I get to like plan a wedding now too. That'll be fun. Yeah!\n",
      "[2025-01-20 01:17:14,474][835302387.py][line:33][INFO] FORMATTED:  I KNOW  OH  SO I GET TO LIKE PLAN A WEDDING NOW TOO THAT'LL BE FUN YEAH \n"
     ]
    },
    {
     "name": "stdout",
     "output_type": "stream",
     "text": [
      "File 100 of 557\r"
     ]
    },
    {
     "name": "stderr",
     "output_type": "stream",
     "text": [
      "[2025-01-20 01:17:16,555][835302387.py][line:31][INFO] Transcription of file 101 has been formatted\n",
      "[2025-01-20 01:17:16,557][835302387.py][line:32][INFO] ORIGINAL:  Something blue, something you, something... No, I don't know. So yeah, I wonder if she's going to pay me up front. Do you think that's bad though? Do you think they're going to track the money or something?\n",
      "[2025-01-20 01:17:16,558][835302387.py][line:33][INFO] FORMATTED:  SOMETHING BLUE  SOMETHING YOU  SOMETHING NO  I DON'T KNOW SO YEAH  I WONDER IF SHE'S GOING TO PAY ME UP FRONT DO YOU THINK THAT'S BAD THOUGH  DO YOU THINK THEY'RE GOING TO TRACK THE MONEY OR SOMETHING \n"
     ]
    },
    {
     "name": "stdout",
     "output_type": "stream",
     "text": [
      "File 101 of 557\r"
     ]
    },
    {
     "name": "stderr",
     "output_type": "stream",
     "text": [
      "[2025-01-20 01:17:17,010][835302387.py][line:31][INFO] Transcription of file 102 has been formatted\n",
      "[2025-01-20 01:17:17,010][835302387.py][line:32][INFO] ORIGINAL:  Just cash hardcore? Yeah.\n",
      "[2025-01-20 01:17:17,010][835302387.py][line:33][INFO] FORMATTED:  JUST CASH HARDCORE  YEAH\n"
     ]
    },
    {
     "name": "stdout",
     "output_type": "stream",
     "text": [
      "File 102 of 557\r"
     ]
    },
    {
     "name": "stderr",
     "output_type": "stream",
     "text": [
      "[2025-01-20 01:17:17,857][835302387.py][line:31][INFO] Transcription of file 103 has been formatted\n",
      "[2025-01-20 01:17:17,857][835302387.py][line:32][INFO] ORIGINAL:  What should we do? Where should we get married? We should have a party.\n",
      "[2025-01-20 01:17:17,872][835302387.py][line:33][INFO] FORMATTED:  WHAT SHOULD WE DO  WHERE SHOULD WE GET MARRIED  WE SHOULD HAVE A PARTY\n"
     ]
    },
    {
     "name": "stdout",
     "output_type": "stream",
     "text": [
      "File 103 of 557\r"
     ]
    },
    {
     "name": "stderr",
     "output_type": "stream",
     "text": [
      "[2025-01-20 01:17:18,553][835302387.py][line:31][INFO] Transcription of file 104 has been formatted\n",
      "[2025-01-20 01:17:18,553][835302387.py][line:32][INFO] ORIGINAL:  Yeah, like a big like a wedding on the beach.\n",
      "[2025-01-20 01:17:18,553][835302387.py][line:33][INFO] FORMATTED:  YEAH  LIKE A BIG LIKE A WEDDING ON THE BEACH\n"
     ]
    },
    {
     "name": "stdout",
     "output_type": "stream",
     "text": [
      "File 104 of 557\r"
     ]
    },
    {
     "name": "stderr",
     "output_type": "stream",
     "text": [
      "[2025-01-20 01:17:20,146][835302387.py][line:31][INFO] Transcription of file 105 has been formatted\n",
      "[2025-01-20 01:17:20,146][835302387.py][line:32][INFO] ORIGINAL:  And then we can honeymoon. I want to go tropical though. I want like Bahamas or like Tahiti or something. I just want to like beach and like drink. How exciting.\n",
      "[2025-01-20 01:17:20,146][835302387.py][line:33][INFO] FORMATTED:  AND THEN WE CAN HONEYMOON I WANT TO GO TROPICAL THOUGH I WANT LIKE BAHAMAS OR LIKE TAHITI OR SOMETHING I JUST WANT TO LIKE BEACH AND LIKE DRINK HOW EXCITING\n"
     ]
    },
    {
     "name": "stdout",
     "output_type": "stream",
     "text": [
      "File 105 of 557\r"
     ]
    },
    {
     "name": "stderr",
     "output_type": "stream",
     "text": [
      "[2025-01-20 01:17:21,672][835302387.py][line:31][INFO] Transcription of file 106 has been formatted\n",
      "[2025-01-20 01:17:21,672][835302387.py][line:32][INFO] ORIGINAL:  I'll make her pay for that. Oh, I hear she's like totally wealthy. She's like royalty or something. Whatever, like removed or something. Incredible.\n",
      "[2025-01-20 01:17:21,672][835302387.py][line:33][INFO] FORMATTED:  I'LL MAKE HER PAY FOR THAT OH  I HEAR SHE'S LIKE TOTALLY WEALTHY SHE'S LIKE ROYALTY OR SOMETHING WHATEVER  LIKE REMOVED OR SOMETHING INCREDIBLE\n"
     ]
    },
    {
     "name": "stdout",
     "output_type": "stream",
     "text": [
      "File 106 of 557\r"
     ]
    },
    {
     "name": "stderr",
     "output_type": "stream",
     "text": [
      "[2025-01-20 01:17:22,474][835302387.py][line:31][INFO] Transcription of file 107 has been formatted\n",
      "[2025-01-20 01:17:22,490][835302387.py][line:32][INFO] ORIGINAL:  Ooh, I'm gonna marry a blue blood. It's gonna be fun.\n",
      "[2025-01-20 01:17:22,490][835302387.py][line:33][INFO] FORMATTED:  OOH  I'M GONNA MARRY A BLUE BLOOD IT'S GONNA BE FUN\n"
     ]
    },
    {
     "name": "stdout",
     "output_type": "stream",
     "text": [
      "File 107 of 557\r"
     ]
    },
    {
     "name": "stderr",
     "output_type": "stream",
     "text": [
      "[2025-01-20 01:17:23,088][835302387.py][line:31][INFO] Transcription of file 108 has been formatted\n",
      "[2025-01-20 01:17:23,088][835302387.py][line:32][INFO] ORIGINAL:  Do we homie plan? Oh, totally.\n",
      "[2025-01-20 01:17:23,088][835302387.py][line:33][INFO] FORMATTED:  DO WE HOMIE PLAN  OH  TOTALLY\n"
     ]
    },
    {
     "name": "stdout",
     "output_type": "stream",
     "text": [
      "File 108 of 557\r"
     ]
    },
    {
     "name": "stderr",
     "output_type": "stream",
     "text": [
      "[2025-01-20 01:17:24,090][835302387.py][line:31][INFO] Transcription of file 109 has been formatted\n",
      "[2025-01-20 01:17:24,090][835302387.py][line:32][INFO] ORIGINAL:  I understand. You've already done so much. I don't know why you have to go back.\n",
      "[2025-01-20 01:17:24,090][835302387.py][line:33][INFO] FORMATTED:  I UNDERSTAND YOU'VE ALREADY DONE SO MUCH I DON'T KNOW WHY YOU HAVE TO GO BACK\n"
     ]
    },
    {
     "name": "stdout",
     "output_type": "stream",
     "text": [
      "File 109 of 557\r"
     ]
    },
    {
     "name": "stderr",
     "output_type": "stream",
     "text": [
      "[2025-01-20 01:17:25,336][835302387.py][line:31][INFO] Transcription of file 110 has been formatted\n",
      "[2025-01-20 01:17:25,336][835302387.py][line:32][INFO] ORIGINAL:  I don't know how you can be okay with this. I don't know why you're not... I'm not okay with it.\n",
      "[2025-01-20 01:17:25,336][835302387.py][line:33][INFO] FORMATTED:  I DON'T KNOW HOW YOU CAN BE OKAY WITH THIS I DON'T KNOW WHY YOU'RE NOT I'M NOT OKAY WITH IT\n"
     ]
    },
    {
     "name": "stdout",
     "output_type": "stream",
     "text": [
      "File 110 of 557\r"
     ]
    },
    {
     "name": "stderr",
     "output_type": "stream",
     "text": [
      "[2025-01-20 01:17:26,027][835302387.py][line:31][INFO] Transcription of file 111 has been formatted\n",
      "[2025-01-20 01:17:26,042][835302387.py][line:32][INFO] ORIGINAL:  I just don't see why it has to be you.\n",
      "[2025-01-20 01:17:26,042][835302387.py][line:33][INFO] FORMATTED:  I JUST DON'T SEE WHY IT HAS TO BE YOU\n"
     ]
    },
    {
     "name": "stdout",
     "output_type": "stream",
     "text": [
      "File 111 of 557\r"
     ]
    },
    {
     "name": "stderr",
     "output_type": "stream",
     "text": [
      "[2025-01-20 01:17:26,481][835302387.py][line:31][INFO] Transcription of file 112 has been formatted\n",
      "[2025-01-20 01:17:26,481][835302387.py][line:32][INFO] ORIGINAL:  what am I gonna do huh\n",
      "[2025-01-20 01:17:26,481][835302387.py][line:33][INFO] FORMATTED:  WHAT AM I GONNA DO HUH\n"
     ]
    },
    {
     "name": "stdout",
     "output_type": "stream",
     "text": [
      "File 112 of 557\r"
     ]
    },
    {
     "name": "stderr",
     "output_type": "stream",
     "text": [
      "[2025-01-20 01:17:26,775][835302387.py][line:31][INFO] Transcription of file 113 has been formatted\n",
      "[2025-01-20 01:17:26,791][835302387.py][line:32][INFO] ORIGINAL:  Yeah.\n",
      "[2025-01-20 01:17:26,791][835302387.py][line:33][INFO] FORMATTED:  YEAH\n"
     ]
    },
    {
     "name": "stdout",
     "output_type": "stream",
     "text": [
      "File 113 of 557\r"
     ]
    },
    {
     "name": "stderr",
     "output_type": "stream",
     "text": [
      "[2025-01-20 01:17:27,458][835302387.py][line:31][INFO] Transcription of file 114 has been formatted\n",
      "[2025-01-20 01:17:27,458][835302387.py][line:32][INFO] ORIGINAL:  Don't you guys have access to computers over there now?\n",
      "[2025-01-20 01:17:27,458][835302387.py][line:33][INFO] FORMATTED:  DON'T YOU GUYS HAVE ACCESS TO COMPUTERS OVER THERE NOW \n"
     ]
    },
    {
     "name": "stdout",
     "output_type": "stream",
     "text": [
      "File 114 of 557\r"
     ]
    },
    {
     "name": "stderr",
     "output_type": "stream",
     "text": [
      "[2025-01-20 01:17:28,207][835302387.py][line:31][INFO] Transcription of file 115 has been formatted\n",
      "[2025-01-20 01:17:28,207][835302387.py][line:32][INFO] ORIGINAL:  I just don't know how I'm gonna do it without you.\n",
      "[2025-01-20 01:17:28,207][835302387.py][line:33][INFO] FORMATTED:  I JUST DON'T KNOW HOW I'M GONNA DO IT WITHOUT YOU\n"
     ]
    },
    {
     "name": "stdout",
     "output_type": "stream",
     "text": [
      "File 115 of 557\r"
     ]
    },
    {
     "name": "stderr",
     "output_type": "stream",
     "text": [
      "[2025-01-20 01:17:28,774][835302387.py][line:31][INFO] Transcription of file 116 has been formatted\n",
      "[2025-01-20 01:17:28,774][835302387.py][line:32][INFO] ORIGINAL:  I can't raise a baby by myself.\n",
      "[2025-01-20 01:17:28,774][835302387.py][line:33][INFO] FORMATTED:  I CAN'T RAISE A BABY BY MYSELF\n"
     ]
    },
    {
     "name": "stdout",
     "output_type": "stream",
     "text": [
      "File 116 of 557\r"
     ]
    },
    {
     "name": "stderr",
     "output_type": "stream",
     "text": [
      "[2025-01-20 01:17:29,081][835302387.py][line:31][INFO] Transcription of file 117 has been formatted\n",
      "[2025-01-20 01:17:29,081][835302387.py][line:32][INFO] ORIGINAL:  Hello.\n",
      "[2025-01-20 01:17:29,081][835302387.py][line:33][INFO] FORMATTED:  HELLO\n"
     ]
    },
    {
     "name": "stdout",
     "output_type": "stream",
     "text": [
      "File 117 of 557\r"
     ]
    },
    {
     "name": "stderr",
     "output_type": "stream",
     "text": [
      "[2025-01-20 01:17:29,631][835302387.py][line:31][INFO] Transcription of file 118 has been formatted\n",
      "[2025-01-20 01:17:29,631][835302387.py][line:32][INFO] ORIGINAL:  Well, maybe you wanted to see her.\n",
      "[2025-01-20 01:17:29,631][835302387.py][line:33][INFO] FORMATTED:  WELL  MAYBE YOU WANTED TO SEE HER\n"
     ]
    },
    {
     "name": "stdout",
     "output_type": "stream",
     "text": [
      "File 118 of 557\r"
     ]
    },
    {
     "name": "stderr",
     "output_type": "stream",
     "text": [
      "[2025-01-20 01:17:30,660][835302387.py][line:31][INFO] Transcription of file 119 has been formatted\n",
      "[2025-01-20 01:17:30,660][835302387.py][line:32][INFO] ORIGINAL:  Well, uh... He grew up next door to the girl. Why wouldn't he want to see her?\n",
      "[2025-01-20 01:17:30,660][835302387.py][line:33][INFO] FORMATTED:  WELL  UH HE GREW UP NEXT DOOR TO THE GIRL WHY WOULDN'T HE WANT TO SEE HER \n"
     ]
    },
    {
     "name": "stdout",
     "output_type": "stream",
     "text": [
      "File 119 of 557\r"
     ]
    },
    {
     "name": "stderr",
     "output_type": "stream",
     "text": [
      "[2025-01-20 01:17:31,252][835302387.py][line:31][INFO] Transcription of file 120 has been formatted\n",
      "[2025-01-20 01:17:31,252][835302387.py][line:32][INFO] ORIGINAL:  And how do you know why she's waited?\n",
      "[2025-01-20 01:17:31,252][835302387.py][line:33][INFO] FORMATTED:  AND HOW DO YOU KNOW WHY SHE'S WAITED \n"
     ]
    },
    {
     "name": "stdout",
     "output_type": "stream",
     "text": [
      "File 120 of 557\r"
     ]
    },
    {
     "name": "stderr",
     "output_type": "stream",
     "text": [
      "[2025-01-20 01:17:32,056][835302387.py][line:31][INFO] Transcription of file 121 has been formatted\n",
      "[2025-01-20 01:17:32,056][835302387.py][line:32][INFO] ORIGINAL:  What does that mean? Me above all? Huh? What does that mean?\n",
      "[2025-01-20 01:17:32,072][835302387.py][line:33][INFO] FORMATTED:  WHAT DOES THAT MEAN  ME ABOVE ALL  HUH  WHAT DOES THAT MEAN \n"
     ]
    },
    {
     "name": "stdout",
     "output_type": "stream",
     "text": [
      "File 121 of 557\r"
     ]
    },
    {
     "name": "stderr",
     "output_type": "stream",
     "text": [
      "[2025-01-20 01:17:32,577][835302387.py][line:31][INFO] Transcription of file 122 has been formatted\n",
      "[2025-01-20 01:17:32,577][835302387.py][line:32][INFO] ORIGINAL:  Look at you. You're shaking.\n",
      "[2025-01-20 01:17:32,577][835302387.py][line:33][INFO] FORMATTED:  LOOK AT YOU YOU'RE SHAKING\n"
     ]
    },
    {
     "name": "stdout",
     "output_type": "stream",
     "text": [
      "File 122 of 557\r"
     ]
    },
    {
     "name": "stderr",
     "output_type": "stream",
     "text": [
      "[2025-01-20 01:17:33,223][835302387.py][line:31][INFO] Transcription of file 123 has been formatted\n",
      "[2025-01-20 01:17:33,223][835302387.py][line:32][INFO] ORIGINAL:  What the hell do you want from me, Kate?\n",
      "[2025-01-20 01:17:33,223][835302387.py][line:33][INFO] FORMATTED:  WHAT THE HELL DO YOU WANT FROM ME  KATE \n"
     ]
    },
    {
     "name": "stdout",
     "output_type": "stream",
     "text": [
      "File 123 of 557\r"
     ]
    },
    {
     "name": "stderr",
     "output_type": "stream",
     "text": [
      "[2025-01-20 01:17:33,674][835302387.py][line:31][INFO] Transcription of file 124 has been formatted\n",
      "[2025-01-20 01:17:33,676][835302387.py][line:32][INFO] ORIGINAL:  Hi, thanks for waiting.\n",
      "[2025-01-20 01:17:33,676][835302387.py][line:33][INFO] FORMATTED:  HI  THANKS FOR WAITING\n"
     ]
    },
    {
     "name": "stdout",
     "output_type": "stream",
     "text": [
      "File 124 of 557\r"
     ]
    },
    {
     "name": "stderr",
     "output_type": "stream",
     "text": [
      "[2025-01-20 01:17:34,087][835302387.py][line:31][INFO] Transcription of file 125 has been formatted\n",
      "[2025-01-20 01:17:34,087][835302387.py][line:32][INFO] ORIGINAL:  Can I help you?\n",
      "[2025-01-20 01:17:34,087][835302387.py][line:33][INFO] FORMATTED:  CAN I HELP YOU \n"
     ]
    },
    {
     "name": "stdout",
     "output_type": "stream",
     "text": [
      "File 125 of 557\r"
     ]
    },
    {
     "name": "stderr",
     "output_type": "stream",
     "text": [
      "[2025-01-20 01:17:34,458][835302387.py][line:31][INFO] Transcription of file 126 has been formatted\n",
      "[2025-01-20 01:17:34,458][835302387.py][line:32][INFO] ORIGINAL:  Uh-huh.\n",
      "[2025-01-20 01:17:34,458][835302387.py][line:33][INFO] FORMATTED:  UH HUH\n"
     ]
    },
    {
     "name": "stdout",
     "output_type": "stream",
     "text": [
      "File 126 of 557\r"
     ]
    },
    {
     "name": "stderr",
     "output_type": "stream",
     "text": [
      "[2025-01-20 01:17:34,838][835302387.py][line:31][INFO] Transcription of file 127 has been formatted\n",
      "[2025-01-20 01:17:34,838][835302387.py][line:32][INFO] ORIGINAL:  Okay. Absolutely.\n",
      "[2025-01-20 01:17:34,838][835302387.py][line:33][INFO] FORMATTED:  OKAY ABSOLUTELY\n"
     ]
    },
    {
     "name": "stdout",
     "output_type": "stream",
     "text": [
      "File 127 of 557\r"
     ]
    },
    {
     "name": "stderr",
     "output_type": "stream",
     "text": [
      "[2025-01-20 01:17:35,144][835302387.py][line:31][INFO] Transcription of file 128 has been formatted\n",
      "[2025-01-20 01:17:35,144][835302387.py][line:32][INFO] ORIGINAL:  Okay.\n",
      "[2025-01-20 01:17:35,144][835302387.py][line:33][INFO] FORMATTED:  OKAY\n"
     ]
    },
    {
     "name": "stdout",
     "output_type": "stream",
     "text": [
      "File 128 of 557\r"
     ]
    },
    {
     "name": "stderr",
     "output_type": "stream",
     "text": [
      "[2025-01-20 01:17:36,287][835302387.py][line:31][INFO] Transcription of file 129 has been formatted\n",
      "[2025-01-20 01:17:36,288][835302387.py][line:32][INFO] ORIGINAL:  Okay, great. I'm really sorry you had to do that. What's your last name? Let's start there.\n",
      "[2025-01-20 01:17:36,290][835302387.py][line:33][INFO] FORMATTED:  OKAY  GREAT I'M REALLY SORRY YOU HAD TO DO THAT WHAT'S YOUR LAST NAME  LET'S START THERE\n"
     ]
    },
    {
     "name": "stdout",
     "output_type": "stream",
     "text": [
      "File 129 of 557\r"
     ]
    },
    {
     "name": "stderr",
     "output_type": "stream",
     "text": [
      "[2025-01-20 01:17:36,589][835302387.py][line:31][INFO] Transcription of file 130 has been formatted\n",
      "[2025-01-20 01:17:36,589][835302387.py][line:32][INFO] ORIGINAL:  Okay.\n",
      "[2025-01-20 01:17:36,589][835302387.py][line:33][INFO] FORMATTED:  OKAY\n"
     ]
    },
    {
     "name": "stdout",
     "output_type": "stream",
     "text": [
      "File 130 of 557\r"
     ]
    },
    {
     "name": "stderr",
     "output_type": "stream",
     "text": [
      "[2025-01-20 01:17:37,473][835302387.py][line:31][INFO] Transcription of file 131 has been formatted\n",
      "[2025-01-20 01:17:37,473][835302387.py][line:32][INFO] ORIGINAL:  All right. Oh, okay. And you lost your bag? Is that the issue?\n",
      "[2025-01-20 01:17:37,473][835302387.py][line:33][INFO] FORMATTED:  ALL RIGHT OH  OKAY AND YOU LOST YOUR BAG  IS THAT THE ISSUE \n"
     ]
    },
    {
     "name": "stdout",
     "output_type": "stream",
     "text": [
      "File 131 of 557\r"
     ]
    },
    {
     "name": "stderr",
     "output_type": "stream",
     "text": [
      "[2025-01-20 01:17:37,845][835302387.py][line:31][INFO] Transcription of file 132 has been formatted\n",
      "[2025-01-20 01:17:37,845][835302387.py][line:32][INFO] ORIGINAL:  Uh-huh.\n",
      "[2025-01-20 01:17:37,845][835302387.py][line:33][INFO] FORMATTED:  UH HUH\n"
     ]
    },
    {
     "name": "stdout",
     "output_type": "stream",
     "text": [
      "File 132 of 557\r"
     ]
    },
    {
     "name": "stderr",
     "output_type": "stream",
     "text": [
      "[2025-01-20 01:17:39,028][835302387.py][line:31][INFO] Transcription of file 133 has been formatted\n",
      "[2025-01-20 01:17:39,028][835302387.py][line:32][INFO] ORIGINAL:  Yeah. Am I going to be getting like free tickets, free mileage? I don't see any. What can I expect my\n",
      "[2025-01-20 01:17:39,028][835302387.py][line:33][INFO] FORMATTED:  YEAH AM I GOING TO BE GETTING LIKE FREE TICKETS  FREE MILEAGE  I DON'T SEE ANY WHAT CAN I EXPECT MY\n"
     ]
    },
    {
     "name": "stdout",
     "output_type": "stream",
     "text": [
      "File 133 of 557\r"
     ]
    },
    {
     "name": "stderr",
     "output_type": "stream",
     "text": [
      "[2025-01-20 01:17:40,084][835302387.py][line:31][INFO] Transcription of file 134 has been formatted\n",
      "[2025-01-20 01:17:40,084][835302387.py][line:32][INFO] ORIGINAL:  I don't see any record of it and I usually when I don't see a record of it that means um\n",
      "[2025-01-20 01:17:40,084][835302387.py][line:33][INFO] FORMATTED:  I DON'T SEE ANY RECORD OF IT AND I USUALLY WHEN I DON'T SEE A RECORD OF IT THAT MEANS UM\n"
     ]
    },
    {
     "name": "stdout",
     "output_type": "stream",
     "text": [
      "File 134 of 557\r"
     ]
    },
    {
     "name": "stderr",
     "output_type": "stream",
     "text": [
      "[2025-01-20 01:17:42,566][835302387.py][line:31][INFO] Transcription of file 135 has been formatted\n",
      "[2025-01-20 01:17:42,566][835302387.py][line:32][INFO] ORIGINAL:  We've mistakenly lost your baggage. We're very sorry. On behalf of JetBlue, I'd like to apologize for any inconvenience. I am allowed to issue you a $50 gift card, which you can use any future flights you want to take with us. I'm very sorry once again.\n",
      "[2025-01-20 01:17:42,566][835302387.py][line:33][INFO] FORMATTED:  WE'VE MISTAKENLY LOST YOUR BAGGAGE WE'RE VERY SORRY ON BEHALF OF JETBLUE  I'D LIKE TO APOLOGIZE FOR ANY INCONVENIENCE I AM ALLOWED TO ISSUE YOU A  50 GIFT CARD  WHICH YOU CAN USE ANY FUTURE FLIGHTS YOU WANT TO TAKE WITH US I'M VERY SORRY ONCE AGAIN\n"
     ]
    },
    {
     "name": "stdout",
     "output_type": "stream",
     "text": [
      "File 135 of 557\r"
     ]
    },
    {
     "name": "stderr",
     "output_type": "stream",
     "text": [
      "[2025-01-20 01:17:43,355][835302387.py][line:31][INFO] Transcription of file 136 has been formatted\n",
      "[2025-01-20 01:17:43,355][835302387.py][line:32][INFO] ORIGINAL:  For such an inconvenience in your bag. Are you kidding me?\n",
      "[2025-01-20 01:17:43,370][835302387.py][line:33][INFO] FORMATTED:  FOR SUCH AN INCONVENIENCE IN YOUR BAG ARE YOU KIDDING ME \n"
     ]
    },
    {
     "name": "stdout",
     "output_type": "stream",
     "text": [
      "File 136 of 557\r"
     ]
    },
    {
     "name": "stderr",
     "output_type": "stream",
     "text": [
      "[2025-01-20 01:17:43,781][835302387.py][line:31][INFO] Transcription of file 137 has been formatted\n",
      "[2025-01-20 01:17:43,781][835302387.py][line:32][INFO] ORIGINAL:  Is this a joke?\n",
      "[2025-01-20 01:17:43,781][835302387.py][line:33][INFO] FORMATTED:  IS THIS A JOKE \n"
     ]
    },
    {
     "name": "stdout",
     "output_type": "stream",
     "text": [
      "File 137 of 557\r"
     ]
    },
    {
     "name": "stderr",
     "output_type": "stream",
     "text": [
      "[2025-01-20 01:17:44,107][835302387.py][line:31][INFO] Transcription of file 138 has been formatted\n",
      "[2025-01-20 01:17:44,107][835302387.py][line:32][INFO] ORIGINAL:  No, no\n",
      "[2025-01-20 01:17:44,123][835302387.py][line:33][INFO] FORMATTED:  NO  NO\n"
     ]
    },
    {
     "name": "stdout",
     "output_type": "stream",
     "text": [
      "File 138 of 557\r"
     ]
    },
    {
     "name": "stderr",
     "output_type": "stream",
     "text": [
      "[2025-01-20 01:17:44,637][835302387.py][line:31][INFO] Transcription of file 139 has been formatted\n",
      "[2025-01-20 01:17:44,637][835302387.py][line:32][INFO] ORIGINAL:  No, no, this is real.\n",
      "[2025-01-20 01:17:44,637][835302387.py][line:33][INFO] FORMATTED:  NO  NO  THIS IS REAL\n"
     ]
    },
    {
     "name": "stdout",
     "output_type": "stream",
     "text": [
      "File 139 of 557\r"
     ]
    },
    {
     "name": "stderr",
     "output_type": "stream",
     "text": [
      "[2025-01-20 01:17:46,058][835302387.py][line:31][INFO] Transcription of file 140 has been formatted\n",
      "[2025-01-20 01:17:46,058][835302387.py][line:32][INFO] ORIGINAL:  No, I'm just giving you money. The bag is gone. If it's not here, I'm really sorry. There's nothing I can do because...\n",
      "[2025-01-20 01:17:46,058][835302387.py][line:33][INFO] FORMATTED:  NO  I'M JUST GIVING YOU MONEY THE BAG IS GONE IF IT'S NOT HERE  I'M REALLY SORRY THERE'S NOTHING I CAN DO BECAUSE\n"
     ]
    },
    {
     "name": "stdout",
     "output_type": "stream",
     "text": [
      "File 140 of 557\r"
     ]
    },
    {
     "name": "stderr",
     "output_type": "stream",
     "text": [
      "[2025-01-20 01:17:47,201][835302387.py][line:31][INFO] Transcription of file 141 has been formatted\n",
      "[2025-01-20 01:17:47,201][835302387.py][line:32][INFO] ORIGINAL:  This is the only track record that we have, but if it's not listed here, then it's probably not anywhere.\n",
      "[2025-01-20 01:17:47,201][835302387.py][line:33][INFO] FORMATTED:  THIS IS THE ONLY TRACK RECORD THAT WE HAVE  BUT IF IT'S NOT LISTED HERE  THEN IT'S PROBABLY NOT ANYWHERE\n"
     ]
    },
    {
     "name": "stdout",
     "output_type": "stream",
     "text": [
      "File 141 of 557\r"
     ]
    },
    {
     "name": "stderr",
     "output_type": "stream",
     "text": [
      "[2025-01-20 01:17:47,536][835302387.py][line:31][INFO] Transcription of file 142 has been formatted\n",
      "[2025-01-20 01:17:47,536][835302387.py][line:32][INFO] ORIGINAL:  in there.\n",
      "[2025-01-20 01:17:47,536][835302387.py][line:33][INFO] FORMATTED:  IN THERE\n"
     ]
    },
    {
     "name": "stdout",
     "output_type": "stream",
     "text": [
      "File 142 of 557\r"
     ]
    },
    {
     "name": "stderr",
     "output_type": "stream",
     "text": [
      "[2025-01-20 01:17:47,875][835302387.py][line:31][INFO] Transcription of file 143 has been formatted\n",
      "[2025-01-20 01:17:47,875][835302387.py][line:32][INFO] ORIGINAL:  I know.\n",
      "[2025-01-20 01:17:47,875][835302387.py][line:33][INFO] FORMATTED:  I KNOW\n"
     ]
    },
    {
     "name": "stdout",
     "output_type": "stream",
     "text": [
      "File 143 of 557\r"
     ]
    },
    {
     "name": "stderr",
     "output_type": "stream",
     "text": [
      "[2025-01-20 01:17:48,314][835302387.py][line:31][INFO] Transcription of file 144 has been formatted\n",
      "[2025-01-20 01:17:48,314][835302387.py][line:32][INFO] ORIGINAL:  A company needs to replace everything\n",
      "[2025-01-20 01:17:48,314][835302387.py][line:33][INFO] FORMATTED:  A COMPANY NEEDS TO REPLACE EVERYTHING\n"
     ]
    },
    {
     "name": "stdout",
     "output_type": "stream",
     "text": [
      "File 144 of 557\r"
     ]
    },
    {
     "name": "stderr",
     "output_type": "stream",
     "text": [
      "[2025-01-20 01:17:49,455][835302387.py][line:31][INFO] Transcription of file 145 has been formatted\n",
      "[2025-01-20 01:17:49,455][835302387.py][line:32][INFO] ORIGINAL:  Actually, we are not necessarily liable to give you even give you this $50 so it's actually for a lawsuit based\n",
      "[2025-01-20 01:17:49,455][835302387.py][line:33][INFO] FORMATTED:  ACTUALLY  WE ARE NOT NECESSARILY LIABLE TO GIVE YOU EVEN GIVE YOU THIS  50 SO IT'S ACTUALLY FOR A LAWSUIT BASED\n"
     ]
    },
    {
     "name": "stdout",
     "output_type": "stream",
     "text": [
      "File 145 of 557\r"
     ]
    },
    {
     "name": "stderr",
     "output_type": "stream",
     "text": [
      "[2025-01-20 01:17:50,750][835302387.py][line:31][INFO] Transcription of file 146 has been formatted\n",
      "[2025-01-20 01:17:50,750][835302387.py][line:32][INFO] ORIGINAL:  We're actually not even allowed, you know, like we don't have to give you this $50. We can actually take it back.\n",
      "[2025-01-20 01:17:50,750][835302387.py][line:33][INFO] FORMATTED:  WE'RE ACTUALLY NOT EVEN ALLOWED  YOU KNOW  LIKE WE DON'T HAVE TO GIVE YOU THIS  50 WE CAN ACTUALLY TAKE IT BACK\n"
     ]
    },
    {
     "name": "stdout",
     "output_type": "stream",
     "text": [
      "File 146 of 557\r"
     ]
    },
    {
     "name": "stderr",
     "output_type": "stream",
     "text": [
      "[2025-01-20 01:17:51,194][835302387.py][line:31][INFO] Transcription of file 147 has been formatted\n",
      "[2025-01-20 01:17:51,194][835302387.py][line:32][INFO] ORIGINAL:  You're helping me out.\n",
      "[2025-01-20 01:17:51,194][835302387.py][line:33][INFO] FORMATTED:  YOU'RE HELPING ME OUT\n"
     ]
    },
    {
     "name": "stdout",
     "output_type": "stream",
     "text": [
      "File 147 of 557\r"
     ]
    },
    {
     "name": "stderr",
     "output_type": "stream",
     "text": [
      "[2025-01-20 01:17:52,067][835302387.py][line:31][INFO] Transcription of file 148 has been formatted\n",
      "[2025-01-20 01:17:52,083][835302387.py][line:32][INFO] ORIGINAL:  You know the airlines cannot be held responsible for every bag of luggage that comes through here.\n",
      "[2025-01-20 01:17:52,083][835302387.py][line:33][INFO] FORMATTED:  YOU KNOW THE AIRLINES CANNOT BE HELD RESPONSIBLE FOR EVERY BAG OF LUGGAGE THAT COMES THROUGH HERE\n"
     ]
    },
    {
     "name": "stdout",
     "output_type": "stream",
     "text": [
      "File 148 of 557\r"
     ]
    },
    {
     "name": "stderr",
     "output_type": "stream",
     "text": [
      "[2025-01-20 01:17:52,660][835302387.py][line:31][INFO] Transcription of file 149 has been formatted\n",
      "[2025-01-20 01:17:52,660][835302387.py][line:32][INFO] ORIGINAL:  With the amount of- Who's in charge?\n",
      "[2025-01-20 01:17:52,676][835302387.py][line:33][INFO] FORMATTED:  WITH THE AMOUNT OF  WHO'S IN CHARGE \n"
     ]
    },
    {
     "name": "stdout",
     "output_type": "stream",
     "text": [
      "File 149 of 557\r"
     ]
    },
    {
     "name": "stderr",
     "output_type": "stream",
     "text": [
      "[2025-01-20 01:17:53,518][835302387.py][line:31][INFO] Transcription of file 150 has been formatted\n",
      "[2025-01-20 01:17:53,518][835302387.py][line:32][INFO] ORIGINAL:  Because I probably don't. I don't know. Oh, really? Yeah.\n",
      "[2025-01-20 01:17:53,518][835302387.py][line:33][INFO] FORMATTED:  BECAUSE I PROBABLY DON'T I DON'T KNOW OH  REALLY  YEAH\n"
     ]
    },
    {
     "name": "stdout",
     "output_type": "stream",
     "text": [
      "File 150 of 557\r"
     ]
    },
    {
     "name": "stderr",
     "output_type": "stream",
     "text": [
      "[2025-01-20 01:17:55,029][835302387.py][line:31][INFO] Transcription of file 151 has been formatted\n",
      "[2025-01-20 01:17:55,029][835302387.py][line:32][INFO] ORIGINAL:  Well, then maybe you can just call him and he can give you more money. But right now, all I can do... I want money. I want my clothes.\n",
      "[2025-01-20 01:17:55,029][835302387.py][line:33][INFO] FORMATTED:  WELL  THEN MAYBE YOU CAN JUST CALL HIM AND HE CAN GIVE YOU MORE MONEY BUT RIGHT NOW  ALL I CAN DO I WANT MONEY I WANT MY CLOTHES\n"
     ]
    },
    {
     "name": "stdout",
     "output_type": "stream",
     "text": [
      "File 151 of 557\r"
     ]
    },
    {
     "name": "stderr",
     "output_type": "stream",
     "text": [
      "[2025-01-20 01:17:55,943][835302387.py][line:31][INFO] Transcription of file 152 has been formatted\n",
      "[2025-01-20 01:17:55,943][835302387.py][line:32][INFO] ORIGINAL:  Right now all I can do is just give you this $50. I'm really sorry.\n",
      "[2025-01-20 01:17:55,943][835302387.py][line:33][INFO] FORMATTED:  RIGHT NOW ALL I CAN DO IS JUST GIVE YOU THIS  50 I'M REALLY SORRY\n"
     ]
    },
    {
     "name": "stdout",
     "output_type": "stream",
     "text": [
      "File 152 of 557\r"
     ]
    },
    {
     "name": "stderr",
     "output_type": "stream",
     "text": [
      "[2025-01-20 01:17:56,564][835302387.py][line:31][INFO] Transcription of file 153 has been formatted\n",
      "[2025-01-20 01:17:56,564][835302387.py][line:32][INFO] ORIGINAL:  Oh, my name is Sean. Sean. Great.\n",
      "[2025-01-20 01:17:56,564][835302387.py][line:33][INFO] FORMATTED:  OH  MY NAME IS SEAN SEAN GREAT\n"
     ]
    },
    {
     "name": "stdout",
     "output_type": "stream",
     "text": [
      "File 153 of 557\r"
     ]
    },
    {
     "name": "stderr",
     "output_type": "stream",
     "text": [
      "[2025-01-20 01:17:57,807][835302387.py][line:31][INFO] Transcription of file 154 has been formatted\n",
      "[2025-01-20 01:17:57,807][835302387.py][line:32][INFO] ORIGINAL:  That's what, you know, if you want you can write a letter, I can give you the address. A letter? Yeah.\n",
      "[2025-01-20 01:17:57,807][835302387.py][line:33][INFO] FORMATTED:  THAT'S WHAT  YOU KNOW  IF YOU WANT YOU CAN WRITE A LETTER  I CAN GIVE YOU THE ADDRESS A LETTER  YEAH\n"
     ]
    },
    {
     "name": "stdout",
     "output_type": "stream",
     "text": [
      "File 154 of 557\r"
     ]
    },
    {
     "name": "stderr",
     "output_type": "stream",
     "text": [
      "[2025-01-20 01:17:59,029][835302387.py][line:31][INFO] Transcription of file 155 has been formatted\n",
      "[2025-01-20 01:17:59,030][835302387.py][line:32][INFO] ORIGINAL:  Or you can make a phone call, but I think a letter might be a little more. In my impression, letters help more.\n",
      "[2025-01-20 01:17:59,031][835302387.py][line:33][INFO] FORMATTED:  OR YOU CAN MAKE A PHONE CALL  BUT I THINK A LETTER MIGHT BE A LITTLE MORE IN MY IMPRESSION  LETTERS HELP MORE\n"
     ]
    },
    {
     "name": "stdout",
     "output_type": "stream",
     "text": [
      "File 155 of 557\r"
     ]
    },
    {
     "name": "stderr",
     "output_type": "stream",
     "text": [
      "[2025-01-20 01:17:59,682][835302387.py][line:31][INFO] Transcription of file 156 has been formatted\n",
      "[2025-01-20 01:17:59,682][835302387.py][line:32][INFO] ORIGINAL:  Well, maybe... Maybe he just wanted to see her.\n",
      "[2025-01-20 01:17:59,698][835302387.py][line:33][INFO] FORMATTED:  WELL  MAYBE MAYBE HE JUST WANTED TO SEE HER\n"
     ]
    },
    {
     "name": "stdout",
     "output_type": "stream",
     "text": [
      "File 156 of 557\r"
     ]
    },
    {
     "name": "stderr",
     "output_type": "stream",
     "text": [
      "[2025-01-20 01:18:00,400][835302387.py][line:31][INFO] Transcription of file 157 has been formatted\n",
      "[2025-01-20 01:18:00,400][835302387.py][line:32][INFO] ORIGINAL:  How do you know he's even thinking about it? Exactly.\n",
      "[2025-01-20 01:18:00,400][835302387.py][line:33][INFO] FORMATTED:  HOW DO YOU KNOW HE'S EVEN THINKING ABOUT IT  EXACTLY\n"
     ]
    },
    {
     "name": "stdout",
     "output_type": "stream",
     "text": [
      "File 157 of 557\r"
     ]
    },
    {
     "name": "stderr",
     "output_type": "stream",
     "text": [
      "[2025-01-20 01:18:00,930][835302387.py][line:31][INFO] Transcription of file 158 has been formatted\n",
      "[2025-01-20 01:18:00,930][835302387.py][line:32][INFO] ORIGINAL:  How do you know why she waited?\n",
      "[2025-01-20 01:18:00,930][835302387.py][line:33][INFO] FORMATTED:  HOW DO YOU KNOW WHY SHE WAITED \n"
     ]
    },
    {
     "name": "stdout",
     "output_type": "stream",
     "text": [
      "File 158 of 557\r"
     ]
    },
    {
     "name": "stderr",
     "output_type": "stream",
     "text": [
      "[2025-01-20 01:18:01,807][835302387.py][line:31][INFO] Transcription of file 159 has been formatted\n",
      "[2025-01-20 01:18:01,807][835302387.py][line:32][INFO] ORIGINAL:  What have I got to hide? What the hell is the matter with you, Kate?\n",
      "[2025-01-20 01:18:01,807][835302387.py][line:33][INFO] FORMATTED:  WHAT HAVE I GOT TO HIDE  WHAT THE HELL IS THE MATTER WITH YOU  KATE \n"
     ]
    },
    {
     "name": "stdout",
     "output_type": "stream",
     "text": [
      "File 159 of 557\r"
     ]
    },
    {
     "name": "stderr",
     "output_type": "stream",
     "text": [
      "[2025-01-20 01:18:02,516][835302387.py][line:31][INFO] Transcription of file 160 has been formatted\n",
      "[2025-01-20 01:18:02,517][835302387.py][line:32][INFO] ORIGINAL:  to this spot for this massive celebration of like sex and death and\n",
      "[2025-01-20 01:18:02,518][835302387.py][line:33][INFO] FORMATTED:  TO THIS SPOT FOR THIS MASSIVE CELEBRATION OF LIKE SEX AND DEATH AND\n"
     ]
    },
    {
     "name": "stdout",
     "output_type": "stream",
     "text": [
      "File 160 of 557\r"
     ]
    },
    {
     "name": "stderr",
     "output_type": "stream",
     "text": [
      "[2025-01-20 01:18:03,438][835302387.py][line:31][INFO] Transcription of file 161 has been formatted\n",
      "[2025-01-20 01:18:03,438][835302387.py][line:32][INFO] ORIGINAL:  Look at this. My hands are standing up in my arms. I'm giving myself goosebumps.\n",
      "[2025-01-20 01:18:03,438][835302387.py][line:33][INFO] FORMATTED:  LOOK AT THIS MY HANDS ARE STANDING UP IN MY ARMS I'M GIVING MYSELF GOOSEBUMPS\n"
     ]
    },
    {
     "name": "stdout",
     "output_type": "stream",
     "text": [
      "File 161 of 557\r"
     ]
    },
    {
     "name": "stderr",
     "output_type": "stream",
     "text": [
      "[2025-01-20 01:18:03,996][835302387.py][line:31][INFO] Transcription of file 162 has been formatted\n",
      "[2025-01-20 01:18:03,996][835302387.py][line:32][INFO] ORIGINAL:  Well, so, what do you think?\n",
      "[2025-01-20 01:18:03,996][835302387.py][line:33][INFO] FORMATTED:  WELL  SO  WHAT DO YOU THINK \n"
     ]
    },
    {
     "name": "stdout",
     "output_type": "stream",
     "text": [
      "File 162 of 557\r"
     ]
    },
    {
     "name": "stderr",
     "output_type": "stream",
     "text": [
      "[2025-01-20 01:18:04,689][835302387.py][line:31][INFO] Transcription of file 163 has been formatted\n",
      "[2025-01-20 01:18:04,689][835302387.py][line:32][INFO] ORIGINAL:  Can I ask you a question? Are you on your period?\n",
      "[2025-01-20 01:18:04,689][835302387.py][line:33][INFO] FORMATTED:  CAN I ASK YOU A QUESTION  ARE YOU ON YOUR PERIOD \n"
     ]
    },
    {
     "name": "stdout",
     "output_type": "stream",
     "text": [
      "File 163 of 557\r"
     ]
    },
    {
     "name": "stderr",
     "output_type": "stream",
     "text": [
      "[2025-01-20 01:18:05,097][835302387.py][line:31][INFO] Transcription of file 164 has been formatted\n",
      "[2025-01-20 01:18:05,097][835302387.py][line:32][INFO] ORIGINAL:  We've missed them twice.\n",
      "[2025-01-20 01:18:05,113][835302387.py][line:33][INFO] FORMATTED:  WE'VE MISSED THEM TWICE\n"
     ]
    },
    {
     "name": "stdout",
     "output_type": "stream",
     "text": [
      "File 164 of 557\r"
     ]
    },
    {
     "name": "stderr",
     "output_type": "stream",
     "text": [
      "[2025-01-20 01:18:06,095][835302387.py][line:31][INFO] Transcription of file 165 has been formatted\n",
      "[2025-01-20 01:18:06,095][835302387.py][line:32][INFO] ORIGINAL:  You were fine during the phone call from Marge. Dinner was okay. Doing the dishes was fine.\n",
      "[2025-01-20 01:18:06,095][835302387.py][line:33][INFO] FORMATTED:  YOU WERE FINE DURING THE PHONE CALL FROM MARGE DINNER WAS OKAY DOING THE DISHES WAS FINE\n"
     ]
    },
    {
     "name": "stdout",
     "output_type": "stream",
     "text": [
      "File 165 of 557\r"
     ]
    },
    {
     "name": "stderr",
     "output_type": "stream",
     "text": [
      "[2025-01-20 01:18:07,636][835302387.py][line:31][INFO] Transcription of file 166 has been formatted\n",
      "[2025-01-20 01:18:07,636][835302387.py][line:32][INFO] ORIGINAL:  Let's see. I took a shower and you were watching the news and you said the grunion's running tonight. And I said, okay, great, let's go.\n",
      "[2025-01-20 01:18:07,636][835302387.py][line:33][INFO] FORMATTED:  LET'S SEE I TOOK A SHOWER AND YOU WERE WATCHING THE NEWS AND YOU SAID THE GRUNION'S RUNNING TONIGHT AND I SAID  OKAY  GREAT  LET'S GO\n"
     ]
    },
    {
     "name": "stdout",
     "output_type": "stream",
     "text": [
      "File 166 of 557\r"
     ]
    },
    {
     "name": "stderr",
     "output_type": "stream",
     "text": [
      "[2025-01-20 01:18:08,485][835302387.py][line:31][INFO] Transcription of file 167 has been formatted\n",
      "[2025-01-20 01:18:08,501][835302387.py][line:32][INFO] ORIGINAL:  So I'm putting the animals out. We're getting the car to the garage.\n",
      "[2025-01-20 01:18:08,502][835302387.py][line:33][INFO] FORMATTED:  SO I'M PUTTING THE ANIMALS OUT WE'RE GETTING THE CAR TO THE GARAGE\n"
     ]
    },
    {
     "name": "stdout",
     "output_type": "stream",
     "text": [
      "File 167 of 557\r"
     ]
    },
    {
     "name": "stderr",
     "output_type": "stream",
     "text": [
      "[2025-01-20 01:18:09,051][835302387.py][line:31][INFO] Transcription of file 168 has been formatted\n",
      "[2025-01-20 01:18:09,051][835302387.py][line:32][INFO] ORIGINAL:  Wait a minute, I've got it.\n",
      "[2025-01-20 01:18:09,051][835302387.py][line:33][INFO] FORMATTED:  WAIT A MINUTE  I'VE GOT IT\n"
     ]
    },
    {
     "name": "stdout",
     "output_type": "stream",
     "text": [
      "File 168 of 557\r"
     ]
    },
    {
     "name": "stderr",
     "output_type": "stream",
     "text": [
      "[2025-01-20 01:18:11,269][835302387.py][line:31][INFO] Transcription of file 169 has been formatted\n",
      "[2025-01-20 01:18:11,269][835302387.py][line:32][INFO] ORIGINAL:  It was when we were driving past that Knickerbocker Liquor Locker and you said, no, you said, let's get some champagne. And I said, no, time's a wasting or something like that. That's what it is, right?\n",
      "[2025-01-20 01:18:11,269][835302387.py][line:33][INFO] FORMATTED:  IT WAS WHEN WE WERE DRIVING PAST THAT KNICKERBOCKER LIQUOR LOCKER AND YOU SAID  NO  YOU SAID  LET'S GET SOME CHAMPAGNE AND I SAID  NO  TIME'S A WASTING OR SOMETHING LIKE THAT THAT'S WHAT IT IS  RIGHT \n"
     ]
    },
    {
     "name": "stdout",
     "output_type": "stream",
     "text": [
      "File 169 of 557\r"
     ]
    },
    {
     "name": "stderr",
     "output_type": "stream",
     "text": [
      "[2025-01-20 01:18:11,860][835302387.py][line:31][INFO] Transcription of file 170 has been formatted\n",
      "[2025-01-20 01:18:11,860][835302387.py][line:32][INFO] ORIGINAL:  Oh, right. Sure. Of course.\n",
      "[2025-01-20 01:18:11,860][835302387.py][line:33][INFO] FORMATTED:  OH  RIGHT SURE OF COURSE\n"
     ]
    },
    {
     "name": "stdout",
     "output_type": "stream",
     "text": [
      "File 170 of 557\r"
     ]
    },
    {
     "name": "stderr",
     "output_type": "stream",
     "text": [
      "[2025-01-20 01:18:12,407][835302387.py][line:31][INFO] Transcription of file 171 has been formatted\n",
      "[2025-01-20 01:18:12,407][835302387.py][line:32][INFO] ORIGINAL:  You want me to go get some champagne?\n",
      "[2025-01-20 01:18:12,407][835302387.py][line:33][INFO] FORMATTED:  YOU WANT ME TO GO GET SOME CHAMPAGNE \n"
     ]
    },
    {
     "name": "stdout",
     "output_type": "stream",
     "text": [
      "File 171 of 557\r"
     ]
    },
    {
     "name": "stderr",
     "output_type": "stream",
     "text": [
      "[2025-01-20 01:18:12,889][835302387.py][line:31][INFO] Transcription of file 172 has been formatted\n",
      "[2025-01-20 01:18:12,889][835302387.py][line:32][INFO] ORIGINAL:  You wanna take off her shoes?\n",
      "[2025-01-20 01:18:12,889][835302387.py][line:33][INFO] FORMATTED:  YOU WANNA TAKE OFF HER SHOES \n"
     ]
    },
    {
     "name": "stdout",
     "output_type": "stream",
     "text": [
      "File 172 of 557\r"
     ]
    },
    {
     "name": "stderr",
     "output_type": "stream",
     "text": [
      "[2025-01-20 01:18:13,277][835302387.py][line:31][INFO] Transcription of file 173 has been formatted\n",
      "[2025-01-20 01:18:13,279][835302387.py][line:32][INFO] ORIGINAL:  What? Huh?\n",
      "[2025-01-20 01:18:13,280][835302387.py][line:33][INFO] FORMATTED:  WHAT  HUH \n"
     ]
    },
    {
     "name": "stdout",
     "output_type": "stream",
     "text": [
      "File 173 of 557\r"
     ]
    },
    {
     "name": "stderr",
     "output_type": "stream",
     "text": [
      "[2025-01-20 01:18:13,719][835302387.py][line:31][INFO] Transcription of file 174 has been formatted\n",
      "[2025-01-20 01:18:13,719][835302387.py][line:32][INFO] ORIGINAL:  You wanna get married again?\n",
      "[2025-01-20 01:18:13,719][835302387.py][line:33][INFO] FORMATTED:  YOU WANNA GET MARRIED AGAIN \n"
     ]
    },
    {
     "name": "stdout",
     "output_type": "stream",
     "text": [
      "File 174 of 557\r"
     ]
    },
    {
     "name": "stderr",
     "output_type": "stream",
     "text": [
      "[2025-01-20 01:18:15,115][835302387.py][line:31][INFO] Transcription of file 175 has been formatted\n",
      "[2025-01-20 01:18:15,115][835302387.py][line:32][INFO] ORIGINAL:  A new carpet, a poodle, a suicide pack, ice cream, a back rub. What? What? What the hell do you want? I want\n",
      "[2025-01-20 01:18:15,115][835302387.py][line:33][INFO] FORMATTED:  A NEW CARPET  A POODLE  A SUICIDE PACK  ICE CREAM  A BACK RUB WHAT  WHAT  WHAT THE HELL DO YOU WANT  I WANT\n"
     ]
    },
    {
     "name": "stdout",
     "output_type": "stream",
     "text": [
      "File 175 of 557\r"
     ]
    },
    {
     "name": "stderr",
     "output_type": "stream",
     "text": [
      "[2025-01-20 01:18:16,710][835302387.py][line:31][INFO] Transcription of file 176 has been formatted\n",
      "[2025-01-20 01:18:16,710][835302387.py][line:32][INFO] ORIGINAL:  You think nothing turns out how it's supposed to? You think I had some grand idea going that four years down the line we would come to this beach and argue over fish? No.\n",
      "[2025-01-20 01:18:16,726][835302387.py][line:33][INFO] FORMATTED:  YOU THINK NOTHING TURNS OUT HOW IT'S SUPPOSED TO  YOU THINK I HAD SOME GRAND IDEA GOING THAT FOUR YEARS DOWN THE LINE WE WOULD COME TO THIS BEACH AND ARGUE OVER FISH  NO\n"
     ]
    },
    {
     "name": "stdout",
     "output_type": "stream",
     "text": [
      "File 176 of 557\r"
     ]
    },
    {
     "name": "stderr",
     "output_type": "stream",
     "text": [
      "[2025-01-20 01:18:18,176][835302387.py][line:31][INFO] Transcription of file 177 has been formatted\n",
      "[2025-01-20 01:18:18,176][835302387.py][line:32][INFO] ORIGINAL:  No, no, I'm just like you. I thought it was going to be all rosy cheeks and the bills will pay themselves and the fish will always come.\n",
      "[2025-01-20 01:18:18,176][835302387.py][line:33][INFO] FORMATTED:  NO  NO  I'M JUST LIKE YOU I THOUGHT IT WAS GOING TO BE ALL ROSY CHEEKS AND THE BILLS WILL PAY THEMSELVES AND THE FISH WILL ALWAYS COME\n"
     ]
    },
    {
     "name": "stdout",
     "output_type": "stream",
     "text": [
      "File 177 of 557\r"
     ]
    },
    {
     "name": "stderr",
     "output_type": "stream",
     "text": [
      "[2025-01-20 01:18:19,064][835302387.py][line:31][INFO] Transcription of file 178 has been formatted\n",
      "[2025-01-20 01:18:19,064][835302387.py][line:32][INFO] ORIGINAL:  No. You know what you get? You know what you get? You get this.\n",
      "[2025-01-20 01:18:19,064][835302387.py][line:33][INFO] FORMATTED:  NO YOU KNOW WHAT YOU GET  YOU KNOW WHAT YOU GET  YOU GET THIS\n"
     ]
    },
    {
     "name": "stdout",
     "output_type": "stream",
     "text": [
      "File 178 of 557\r"
     ]
    },
    {
     "name": "stderr",
     "output_type": "stream",
     "text": [
      "[2025-01-20 01:18:19,469][835302387.py][line:31][INFO] Transcription of file 179 has been formatted\n",
      "[2025-01-20 01:18:19,469][835302387.py][line:32][INFO] ORIGINAL:  Yeah, it is.\n",
      "[2025-01-20 01:18:19,469][835302387.py][line:33][INFO] FORMATTED:  YEAH  IT IS\n"
     ]
    },
    {
     "name": "stdout",
     "output_type": "stream",
     "text": [
      "File 179 of 557\r"
     ]
    },
    {
     "name": "stderr",
     "output_type": "stream",
     "text": [
      "[2025-01-20 01:18:19,764][835302387.py][line:31][INFO] Transcription of file 180 has been formatted\n",
      "[2025-01-20 01:18:19,764][835302387.py][line:32][INFO] ORIGINAL:  Right.\n",
      "[2025-01-20 01:18:19,764][835302387.py][line:33][INFO] FORMATTED:  RIGHT\n"
     ]
    },
    {
     "name": "stdout",
     "output_type": "stream",
     "text": [
      "File 180 of 557\r"
     ]
    },
    {
     "name": "stderr",
     "output_type": "stream",
     "text": [
      "[2025-01-20 01:18:20,220][835302387.py][line:31][INFO] Transcription of file 181 has been formatted\n",
      "[2025-01-20 01:18:20,220][835302387.py][line:32][INFO] ORIGINAL:  I know, me neither.\n",
      "[2025-01-20 01:18:20,220][835302387.py][line:33][INFO] FORMATTED:  I KNOW  ME NEITHER\n"
     ]
    },
    {
     "name": "stdout",
     "output_type": "stream",
     "text": [
      "File 181 of 557\r"
     ]
    },
    {
     "name": "stderr",
     "output_type": "stream",
     "text": [
      "[2025-01-20 01:18:20,735][835302387.py][line:31][INFO] Transcription of file 182 has been formatted\n",
      "[2025-01-20 01:18:20,735][835302387.py][line:32][INFO] ORIGINAL:  I'm doing the best I can.\n",
      "[2025-01-20 01:18:20,735][835302387.py][line:33][INFO] FORMATTED:  I'M DOING THE BEST I CAN\n"
     ]
    },
    {
     "name": "stdout",
     "output_type": "stream",
     "text": [
      "File 182 of 557\r"
     ]
    },
    {
     "name": "stderr",
     "output_type": "stream",
     "text": [
      "[2025-01-20 01:18:21,290][835302387.py][line:31][INFO] Transcription of file 183 has been formatted\n",
      "[2025-01-20 01:18:21,290][835302387.py][line:32][INFO] ORIGINAL:  Maybe if you were with somebody else too.\n",
      "[2025-01-20 01:18:21,305][835302387.py][line:33][INFO] FORMATTED:  MAYBE IF YOU WERE WITH SOMEBODY ELSE TOO\n"
     ]
    },
    {
     "name": "stdout",
     "output_type": "stream",
     "text": [
      "File 183 of 557\r"
     ]
    },
    {
     "name": "stderr",
     "output_type": "stream",
     "text": [
      "[2025-01-20 01:18:22,107][835302387.py][line:31][INFO] Transcription of file 184 has been formatted\n",
      "[2025-01-20 01:18:22,107][835302387.py][line:32][INFO] ORIGINAL:  No, I know, but... I know I don't make you happy.\n",
      "[2025-01-20 01:18:22,107][835302387.py][line:33][INFO] FORMATTED:  NO  I KNOW  BUT I KNOW I DON'T MAKE YOU HAPPY\n"
     ]
    },
    {
     "name": "stdout",
     "output_type": "stream",
     "text": [
      "File 184 of 557\r"
     ]
    },
    {
     "name": "stderr",
     "output_type": "stream",
     "text": [
      "[2025-01-20 01:18:22,406][835302387.py][line:31][INFO] Transcription of file 185 has been formatted\n",
      "[2025-01-20 01:18:22,406][835302387.py][line:32][INFO] ORIGINAL:  Yeah.\n",
      "[2025-01-20 01:18:22,406][835302387.py][line:33][INFO] FORMATTED:  YEAH\n"
     ]
    },
    {
     "name": "stdout",
     "output_type": "stream",
     "text": [
      "File 185 of 557\r"
     ]
    },
    {
     "name": "stderr",
     "output_type": "stream",
     "text": [
      "[2025-01-20 01:18:22,858][835302387.py][line:31][INFO] Transcription of file 186 has been formatted\n",
      "[2025-01-20 01:18:22,858][835302387.py][line:32][INFO] ORIGINAL:  Look what we got here.\n",
      "[2025-01-20 01:18:22,858][835302387.py][line:33][INFO] FORMATTED:  LOOK WHAT WE GOT HERE\n"
     ]
    },
    {
     "name": "stdout",
     "output_type": "stream",
     "text": [
      "File 186 of 557\r"
     ]
    },
    {
     "name": "stderr",
     "output_type": "stream",
     "text": [
      "[2025-01-20 01:18:23,271][835302387.py][line:31][INFO] Transcription of file 187 has been formatted\n",
      "[2025-01-20 01:18:23,271][835302387.py][line:32][INFO] ORIGINAL:  It's not champagne.\n",
      "[2025-01-20 01:18:23,271][835302387.py][line:33][INFO] FORMATTED:  IT'S NOT CHAMPAGNE\n"
     ]
    },
    {
     "name": "stdout",
     "output_type": "stream",
     "text": [
      "File 187 of 557\r"
     ]
    },
    {
     "name": "stderr",
     "output_type": "stream",
     "text": [
      "[2025-01-20 01:18:23,907][835302387.py][line:31][INFO] Transcription of file 188 has been formatted\n",
      "[2025-01-20 01:18:23,907][835302387.py][line:32][INFO] ORIGINAL:  Are you cold? Do you want to go home?\n",
      "[2025-01-20 01:18:23,907][835302387.py][line:33][INFO] FORMATTED:  ARE YOU COLD  DO YOU WANT TO GO HOME \n"
     ]
    },
    {
     "name": "stdout",
     "output_type": "stream",
     "text": [
      "File 188 of 557\r"
     ]
    },
    {
     "name": "stderr",
     "output_type": "stream",
     "text": [
      "[2025-01-20 01:18:24,242][835302387.py][line:31][INFO] Transcription of file 189 has been formatted\n",
      "[2025-01-20 01:18:24,242][835302387.py][line:32][INFO] ORIGINAL:  So much.\n",
      "[2025-01-20 01:18:24,258][835302387.py][line:33][INFO] FORMATTED:  SO MUCH\n"
     ]
    },
    {
     "name": "stdout",
     "output_type": "stream",
     "text": [
      "File 189 of 557\r"
     ]
    },
    {
     "name": "stderr",
     "output_type": "stream",
     "text": [
      "[2025-01-20 01:18:24,875][835302387.py][line:31][INFO] Transcription of file 190 has been formatted\n",
      "[2025-01-20 01:18:24,875][835302387.py][line:32][INFO] ORIGINAL:  If we're really quiet, the fish might come.\n",
      "[2025-01-20 01:18:24,875][835302387.py][line:33][INFO] FORMATTED:  IF WE'RE REALLY QUIET  THE FISH MIGHT COME\n"
     ]
    },
    {
     "name": "stdout",
     "output_type": "stream",
     "text": [
      "File 190 of 557\r"
     ]
    },
    {
     "name": "stderr",
     "output_type": "stream",
     "text": [
      "[2025-01-20 01:18:25,220][835302387.py][line:31][INFO] Transcription of file 191 has been formatted\n",
      "[2025-01-20 01:18:25,236][835302387.py][line:32][INFO] ORIGINAL:  Good night.\n",
      "[2025-01-20 01:18:25,236][835302387.py][line:33][INFO] FORMATTED:  GOOD NIGHT\n"
     ]
    },
    {
     "name": "stdout",
     "output_type": "stream",
     "text": [
      "File 191 of 557\r"
     ]
    },
    {
     "name": "stderr",
     "output_type": "stream",
     "text": [
      "[2025-01-20 01:18:25,970][835302387.py][line:31][INFO] Transcription of file 192 has been formatted\n",
      "[2025-01-20 01:18:25,970][835302387.py][line:32][INFO] ORIGINAL:  Yeah, it kind of went out of style, didn't it?\n",
      "[2025-01-20 01:18:25,970][835302387.py][line:33][INFO] FORMATTED:  YEAH  IT KIND OF WENT OUT OF STYLE  DIDN'T IT \n"
     ]
    },
    {
     "name": "stdout",
     "output_type": "stream",
     "text": [
      "File 192 of 557\r"
     ]
    },
    {
     "name": "stderr",
     "output_type": "stream",
     "text": [
      "[2025-01-20 01:18:26,453][835302387.py][line:31][INFO] Transcription of file 193 has been formatted\n",
      "[2025-01-20 01:18:26,453][835302387.py][line:32][INFO] ORIGINAL:  I'm not sorry you came.\n",
      "[2025-01-20 01:18:26,453][835302387.py][line:33][INFO] FORMATTED:  I'M NOT SORRY YOU CAME\n"
     ]
    },
    {
     "name": "stdout",
     "output_type": "stream",
     "text": [
      "File 193 of 557\r"
     ]
    },
    {
     "name": "stderr",
     "output_type": "stream",
     "text": [
      "[2025-01-20 01:18:26,790][835302387.py][line:31][INFO] Transcription of file 194 has been formatted\n",
      "[2025-01-20 01:18:26,790][835302387.py][line:32][INFO] ORIGINAL:  Why not?\n",
      "[2025-01-20 01:18:26,790][835302387.py][line:33][INFO] FORMATTED:  WHY NOT \n"
     ]
    },
    {
     "name": "stdout",
     "output_type": "stream",
     "text": [
      "File 194 of 557\r"
     ]
    },
    {
     "name": "stderr",
     "output_type": "stream",
     "text": [
      "[2025-01-20 01:18:27,083][835302387.py][line:31][INFO] Transcription of file 195 has been formatted\n",
      "[2025-01-20 01:18:27,099][835302387.py][line:32][INFO] ORIGINAL:  What?\n",
      "[2025-01-20 01:18:27,099][835302387.py][line:33][INFO] FORMATTED:  WHAT \n"
     ]
    },
    {
     "name": "stdout",
     "output_type": "stream",
     "text": [
      "File 195 of 557\r"
     ]
    },
    {
     "name": "stderr",
     "output_type": "stream",
     "text": [
      "[2025-01-20 01:18:27,430][835302387.py][line:31][INFO] Transcription of file 196 has been formatted\n",
      "[2025-01-20 01:18:27,430][835302387.py][line:32][INFO] ORIGINAL:  You did?\n",
      "[2025-01-20 01:18:27,430][835302387.py][line:33][INFO] FORMATTED:  YOU DID \n"
     ]
    },
    {
     "name": "stdout",
     "output_type": "stream",
     "text": [
      "File 196 of 557\r"
     ]
    },
    {
     "name": "stderr",
     "output_type": "stream",
     "text": [
      "[2025-01-20 01:18:27,737][835302387.py][line:31][INFO] Transcription of file 197 has been formatted\n",
      "[2025-01-20 01:18:27,737][835302387.py][line:32][INFO] ORIGINAL:  Yeah.\n",
      "[2025-01-20 01:18:27,737][835302387.py][line:33][INFO] FORMATTED:  YEAH\n"
     ]
    },
    {
     "name": "stdout",
     "output_type": "stream",
     "text": [
      "File 197 of 557\r"
     ]
    },
    {
     "name": "stderr",
     "output_type": "stream",
     "text": [
      "[2025-01-20 01:18:28,290][835302387.py][line:31][INFO] Transcription of file 198 has been formatted\n",
      "[2025-01-20 01:18:28,290][835302387.py][line:32][INFO] ORIGINAL:  And I love you. I love you.\n",
      "[2025-01-20 01:18:28,290][835302387.py][line:33][INFO] FORMATTED:  AND I LOVE YOU I LOVE YOU\n"
     ]
    },
    {
     "name": "stdout",
     "output_type": "stream",
     "text": [
      "File 198 of 557\r"
     ]
    },
    {
     "name": "stderr",
     "output_type": "stream",
     "text": [
      "[2025-01-20 01:18:28,715][835302387.py][line:31][INFO] Transcription of file 199 has been formatted\n",
      "[2025-01-20 01:18:28,715][835302387.py][line:32][INFO] ORIGINAL:  Why didn't you?\n",
      "[2025-01-20 01:18:28,715][835302387.py][line:33][INFO] FORMATTED:  WHY DIDN'T YOU \n"
     ]
    },
    {
     "name": "stdout",
     "output_type": "stream",
     "text": [
      "File 199 of 557\r"
     ]
    },
    {
     "name": "stderr",
     "output_type": "stream",
     "text": [
      "[2025-01-20 01:18:29,241][835302387.py][line:31][INFO] Transcription of file 200 has been formatted\n",
      "[2025-01-20 01:18:29,241][835302387.py][line:32][INFO] ORIGINAL:  Why didn't you let me know?\n",
      "[2025-01-20 01:18:29,241][835302387.py][line:33][INFO] FORMATTED:  WHY DIDN'T YOU LET ME KNOW \n"
     ]
    },
    {
     "name": "stdout",
     "output_type": "stream",
     "text": [
      "File 200 of 557\r"
     ]
    },
    {
     "name": "stderr",
     "output_type": "stream",
     "text": [
      "[2025-01-20 01:18:29,843][835302387.py][line:31][INFO] Transcription of file 201 has been formatted\n",
      "[2025-01-20 01:18:29,843][835302387.py][line:32][INFO] ORIGINAL:  I kissed you. I kissed Annie. Annie.\n",
      "[2025-01-20 01:18:29,843][835302387.py][line:33][INFO] FORMATTED:  I KISSED YOU I KISSED ANNIE ANNIE\n"
     ]
    },
    {
     "name": "stdout",
     "output_type": "stream",
     "text": [
      "File 201 of 557\r"
     ]
    },
    {
     "name": "stderr",
     "output_type": "stream",
     "text": [
      "[2025-01-20 01:18:30,211][835302387.py][line:31][INFO] Transcription of file 202 has been formatted\n",
      "[2025-01-20 01:18:30,211][835302387.py][line:32][INFO] ORIGINAL:  I kissed you.\n",
      "[2025-01-20 01:18:30,211][835302387.py][line:33][INFO] FORMATTED:  I KISSED YOU\n"
     ]
    },
    {
     "name": "stdout",
     "output_type": "stream",
     "text": [
      "File 202 of 557\r"
     ]
    },
    {
     "name": "stderr",
     "output_type": "stream",
     "text": [
      "[2025-01-20 01:18:30,843][835302387.py][line:31][INFO] Transcription of file 203 has been formatted\n",
      "[2025-01-20 01:18:30,843][835302387.py][line:32][INFO] ORIGINAL:  You wanna go somewhere? Huh? Let's go.\n",
      "[2025-01-20 01:18:30,843][835302387.py][line:33][INFO] FORMATTED:  YOU WANNA GO SOMEWHERE  HUH  LET'S GO\n"
     ]
    },
    {
     "name": "stdout",
     "output_type": "stream",
     "text": [
      "File 203 of 557\r"
     ]
    },
    {
     "name": "stderr",
     "output_type": "stream",
     "text": [
      "[2025-01-20 01:18:31,586][835302387.py][line:31][INFO] Transcription of file 204 has been formatted\n",
      "[2025-01-20 01:18:31,586][835302387.py][line:32][INFO] ORIGINAL:  No, no, it's nothing like that. Well then what?\n",
      "[2025-01-20 01:18:31,586][835302387.py][line:33][INFO] FORMATTED:  NO  NO  IT'S NOTHING LIKE THAT WELL THEN WHAT \n"
     ]
    },
    {
     "name": "stdout",
     "output_type": "stream",
     "text": [
      "File 204 of 557\r"
     ]
    },
    {
     "name": "stderr",
     "output_type": "stream",
     "text": [
      "[2025-01-20 01:18:32,562][835302387.py][line:31][INFO] Transcription of file 205 has been formatted\n",
      "[2025-01-20 01:18:32,562][835302387.py][line:32][INFO] ORIGINAL:  I don't know, it's... It's complicated. But it's going for me now.\n",
      "[2025-01-20 01:18:32,562][835302387.py][line:33][INFO] FORMATTED:  I DON'T KNOW  IT'S IT'S COMPLICATED BUT IT'S GOING FOR ME NOW\n"
     ]
    },
    {
     "name": "stdout",
     "output_type": "stream",
     "text": [
      "File 205 of 557\r"
     ]
    },
    {
     "name": "stderr",
     "output_type": "stream",
     "text": [
      "[2025-01-20 01:18:32,979][835302387.py][line:31][INFO] Transcription of file 206 has been formatted\n",
      "[2025-01-20 01:18:32,979][835302387.py][line:32][INFO] ORIGINAL:  I don't know.\n",
      "[2025-01-20 01:18:32,979][835302387.py][line:33][INFO] FORMATTED:  I DON'T KNOW\n"
     ]
    },
    {
     "name": "stdout",
     "output_type": "stream",
     "text": [
      "File 206 of 557\r"
     ]
    },
    {
     "name": "stderr",
     "output_type": "stream",
     "text": [
      "[2025-01-20 01:18:33,680][835302387.py][line:31][INFO] Transcription of file 207 has been formatted\n",
      "[2025-01-20 01:18:33,680][835302387.py][line:32][INFO] ORIGINAL:  It's kind of all mixed up with all these other things.\n",
      "[2025-01-20 01:18:33,680][835302387.py][line:33][INFO] FORMATTED:  IT'S KIND OF ALL MIXED UP WITH ALL THESE OTHER THINGS\n"
     ]
    },
    {
     "name": "stdout",
     "output_type": "stream",
     "text": [
      "File 207 of 557\r"
     ]
    },
    {
     "name": "stderr",
     "output_type": "stream",
     "text": [
      "[2025-01-20 01:18:34,396][835302387.py][line:31][INFO] Transcription of file 208 has been formatted\n",
      "[2025-01-20 01:18:34,396][835302387.py][line:32][INFO] ORIGINAL:  Okay, you know overseas I was in command of a company.\n",
      "[2025-01-20 01:18:34,396][835302387.py][line:33][INFO] FORMATTED:  OKAY  YOU KNOW OVERSEAS I WAS IN COMMAND OF A COMPANY\n"
     ]
    },
    {
     "name": "stdout",
     "output_type": "stream",
     "text": [
      "File 208 of 557\r"
     ]
    },
    {
     "name": "stderr",
     "output_type": "stream",
     "text": [
      "[2025-01-20 01:18:34,850][835302387.py][line:31][INFO] Transcription of file 209 has been formatted\n",
      "[2025-01-20 01:18:34,850][835302387.py][line:32][INFO] ORIGINAL:  Well, I lost him.\n",
      "[2025-01-20 01:18:34,850][835302387.py][line:33][INFO] FORMATTED:  WELL  I LOST HIM\n"
     ]
    },
    {
     "name": "stdout",
     "output_type": "stream",
     "text": [
      "File 209 of 557\r"
     ]
    },
    {
     "name": "stderr",
     "output_type": "stream",
     "text": [
      "[2025-01-20 01:18:35,183][835302387.py][line:31][INFO] Transcription of file 210 has been formatted\n",
      "[2025-01-20 01:18:35,183][835302387.py][line:32][INFO] ORIGINAL:  pretty much all\n",
      "[2025-01-20 01:18:35,199][835302387.py][line:33][INFO] FORMATTED:  PRETTY MUCH ALL\n"
     ]
    },
    {
     "name": "stdout",
     "output_type": "stream",
     "text": [
      "File 210 of 557\r"
     ]
    },
    {
     "name": "stderr",
     "output_type": "stream",
     "text": [
      "[2025-01-20 01:18:36,282][835302387.py][line:31][INFO] Transcription of file 211 has been formatted\n",
      "[2025-01-20 01:18:36,283][835302387.py][line:32][INFO] ORIGINAL:  It takes a while to toss something like that off. I mean... They weren't just men, you know?\n",
      "[2025-01-20 01:18:36,284][835302387.py][line:33][INFO] FORMATTED:  IT TAKES A WHILE TO TOSS SOMETHING LIKE THAT OFF I MEAN THEY WEREN'T JUST MEN  YOU KNOW \n"
     ]
    },
    {
     "name": "stdout",
     "output_type": "stream",
     "text": [
      "File 211 of 557\r"
     ]
    },
    {
     "name": "stderr",
     "output_type": "stream",
     "text": [
      "[2025-01-20 01:18:37,667][835302387.py][line:31][INFO] Transcription of file 212 has been formatted\n",
      "[2025-01-20 01:18:37,667][835302387.py][line:32][INFO] ORIGINAL:  Like for instance, there was this one time when this kid, it had been raining for like several days, and he gave me his last pair of dry socks.\n",
      "[2025-01-20 01:18:37,669][835302387.py][line:33][INFO] FORMATTED:  LIKE FOR INSTANCE  THERE WAS THIS ONE TIME WHEN THIS KID  IT HAD BEEN RAINING FOR LIKE SEVERAL DAYS  AND HE GAVE ME HIS LAST PAIR OF DRY SOCKS\n"
     ]
    },
    {
     "name": "stdout",
     "output_type": "stream",
     "text": [
      "File 212 of 557\r"
     ]
    },
    {
     "name": "stderr",
     "output_type": "stream",
     "text": [
      "[2025-01-20 01:18:38,533][835302387.py][line:31][INFO] Transcription of file 213 has been formatted\n",
      "[2025-01-20 01:18:38,534][835302387.py][line:32][INFO] ORIGINAL:  He just put it in my pocket. That's the kind of guys I had.\n",
      "[2025-01-20 01:18:38,534][835302387.py][line:33][INFO] FORMATTED:  HE JUST PUT IT IN MY POCKET THAT'S THE KIND OF GUYS I HAD\n"
     ]
    },
    {
     "name": "stdout",
     "output_type": "stream",
     "text": [
      "File 213 of 557\r"
     ]
    },
    {
     "name": "stderr",
     "output_type": "stream",
     "text": [
      "[2025-01-20 01:18:39,957][835302387.py][line:31][INFO] Transcription of file 214 has been formatted\n",
      "[2025-01-20 01:18:39,957][835302387.py][line:32][INFO] ORIGINAL:  They didn't die. They killed themselves for each other. And I mean that exactly. You know, a little more selfish and they'd all be here today.\n",
      "[2025-01-20 01:18:39,957][835302387.py][line:33][INFO] FORMATTED:  THEY DIDN'T DIE THEY KILLED THEMSELVES FOR EACH OTHER AND I MEAN THAT EXACTLY YOU KNOW  A LITTLE MORE SELFISH AND THEY'D ALL BE HERE TODAY\n"
     ]
    },
    {
     "name": "stdout",
     "output_type": "stream",
     "text": [
      "File 214 of 557\r"
     ]
    },
    {
     "name": "stderr",
     "output_type": "stream",
     "text": [
      "[2025-01-20 01:18:41,822][835302387.py][line:31][INFO] Transcription of file 215 has been formatted\n",
      "[2025-01-20 01:18:41,838][835302387.py][line:32][INFO] ORIGINAL:  And I had this idea as I was watching them go down, like everything was being destroyed, you know? But I felt like this one new thing was being made, you know? It was kind of like this monument.\n",
      "[2025-01-20 01:18:41,846][835302387.py][line:33][INFO] FORMATTED:  AND I HAD THIS IDEA AS I WAS WATCHING THEM GO DOWN  LIKE EVERYTHING WAS BEING DESTROYED  YOU KNOW  BUT I FELT LIKE THIS ONE NEW THING WAS BEING MADE  YOU KNOW  IT WAS KIND OF LIKE THIS MONUMENT\n"
     ]
    },
    {
     "name": "stdout",
     "output_type": "stream",
     "text": [
      "File 215 of 557\r"
     ]
    },
    {
     "name": "stderr",
     "output_type": "stream",
     "text": [
      "[2025-01-20 01:18:42,757][835302387.py][line:31][INFO] Transcription of file 216 has been formatted\n",
      "[2025-01-20 01:18:42,757][835302387.py][line:32][INFO] ORIGINAL:  You know? That they were bringing something onto this earth. Kind of sacrifice, you know?\n",
      "[2025-01-20 01:18:42,757][835302387.py][line:33][INFO] FORMATTED:  YOU KNOW  THAT THEY WERE BRINGING SOMETHING ONTO THIS EARTH KIND OF SACRIFICE  YOU KNOW \n"
     ]
    },
    {
     "name": "stdout",
     "output_type": "stream",
     "text": [
      "File 216 of 557\r"
     ]
    },
    {
     "name": "stderr",
     "output_type": "stream",
     "text": [
      "[2025-01-20 01:18:43,945][835302387.py][line:31][INFO] Transcription of file 217 has been formatted\n",
      "[2025-01-20 01:18:43,945][835302387.py][line:32][INFO] ORIGINAL:  And I thought it would change everything, you know? And I got back here and it was like nothing had changed at all.\n",
      "[2025-01-20 01:18:43,945][835302387.py][line:33][INFO] FORMATTED:  AND I THOUGHT IT WOULD CHANGE EVERYTHING  YOU KNOW  AND I GOT BACK HERE AND IT WAS LIKE NOTHING HAD CHANGED AT ALL\n"
     ]
    },
    {
     "name": "stdout",
     "output_type": "stream",
     "text": [
      "File 217 of 557\r"
     ]
    },
    {
     "name": "stderr",
     "output_type": "stream",
     "text": [
      "[2025-01-20 01:18:44,827][835302387.py][line:31][INFO] Transcription of file 218 has been formatted\n",
      "[2025-01-20 01:18:44,827][835302387.py][line:32][INFO] ORIGINAL:  You know, I went to work with dad and I started that whole rat race again.\n",
      "[2025-01-20 01:18:44,827][835302387.py][line:33][INFO] FORMATTED:  YOU KNOW  I WENT TO WORK WITH DAD AND I STARTED THAT WHOLE RAT RACE AGAIN\n"
     ]
    },
    {
     "name": "stdout",
     "output_type": "stream",
     "text": [
      "File 218 of 557\r"
     ]
    },
    {
     "name": "stderr",
     "output_type": "stream",
     "text": [
      "[2025-01-20 01:18:45,741][835302387.py][line:31][INFO] Transcription of file 219 has been formatted\n",
      "[2025-01-20 01:18:45,741][835302387.py][line:32][INFO] ORIGINAL:  And no one had changed. It was just like a sort of random bus accident to them.\n",
      "[2025-01-20 01:18:45,741][835302387.py][line:33][INFO] FORMATTED:  AND NO ONE HAD CHANGED IT WAS JUST LIKE A SORT OF RANDOM BUS ACCIDENT TO THEM\n"
     ]
    },
    {
     "name": "stdout",
     "output_type": "stream",
     "text": [
      "File 219 of 557\r"
     ]
    },
    {
     "name": "stderr",
     "output_type": "stream",
     "text": [
      "[2025-01-20 01:18:46,804][835302387.py][line:31][INFO] Transcription of file 220 has been formatted\n",
      "[2025-01-20 01:18:46,804][835302387.py][line:32][INFO] ORIGINAL:  Driving my new car. And I felt guilty, you know, opening my bank book, seeing a new refrigerator.\n",
      "[2025-01-20 01:18:46,804][835302387.py][line:33][INFO] FORMATTED:  DRIVING MY NEW CAR AND I FELT GUILTY  YOU KNOW  OPENING MY BANK BOOK  SEEING A NEW REFRIGERATOR\n"
     ]
    },
    {
     "name": "stdout",
     "output_type": "stream",
     "text": [
      "File 220 of 557\r"
     ]
    },
    {
     "name": "stderr",
     "output_type": "stream",
     "text": [
      "[2025-01-20 01:18:48,240][835302387.py][line:31][INFO] Transcription of file 221 has been formatted\n",
      "[2025-01-20 01:18:48,240][835302387.py][line:32][INFO] ORIGINAL:  Because you can take those things out of a war, but you have to realize that those things came out of the love that a man can have for another man.\n",
      "[2025-01-20 01:18:48,240][835302387.py][line:33][INFO] FORMATTED:  BECAUSE YOU CAN TAKE THOSE THINGS OUT OF A WAR  BUT YOU HAVE TO REALIZE THAT THOSE THINGS CAME OUT OF THE LOVE THAT A MAN CAN HAVE FOR ANOTHER MAN\n"
     ]
    },
    {
     "name": "stdout",
     "output_type": "stream",
     "text": [
      "File 221 of 557\r"
     ]
    },
    {
     "name": "stderr",
     "output_type": "stream",
     "text": [
      "[2025-01-20 01:18:49,264][835302387.py][line:31][INFO] Transcription of file 222 has been formatted\n",
      "[2025-01-20 01:18:49,264][835302387.py][line:32][INFO] ORIGINAL:  And if you can't see that, then it's just loot. And there's blood all over it.\n",
      "[2025-01-20 01:18:49,264][835302387.py][line:33][INFO] FORMATTED:  AND IF YOU CAN'T SEE THAT  THEN IT'S JUST LOOT AND THERE'S BLOOD ALL OVER IT\n"
     ]
    },
    {
     "name": "stdout",
     "output_type": "stream",
     "text": [
      "File 222 of 557\r"
     ]
    },
    {
     "name": "stderr",
     "output_type": "stream",
     "text": [
      "[2025-01-20 01:18:50,218][835302387.py][line:31][INFO] Transcription of file 223 has been formatted\n",
      "[2025-01-20 01:18:50,218][835302387.py][line:32][INFO] ORIGINAL:  I felt ashamed and I didn't want any part of it. I guess that included you too.\n",
      "[2025-01-20 01:18:50,218][835302387.py][line:33][INFO] FORMATTED:  I FELT ASHAMED AND I DIDN'T WANT ANY PART OF IT I GUESS THAT INCLUDED YOU TOO\n"
     ]
    },
    {
     "name": "stdout",
     "output_type": "stream",
     "text": [
      "File 223 of 557\r"
     ]
    },
    {
     "name": "stderr",
     "output_type": "stream",
     "text": [
      "[2025-01-20 01:18:50,702][835302387.py][line:31][INFO] Transcription of file 224 has been formatted\n",
      "[2025-01-20 01:18:50,702][835302387.py][line:32][INFO] ORIGINAL:  I want you to know Annie.\n",
      "[2025-01-20 01:18:50,702][835302387.py][line:33][INFO] FORMATTED:  I WANT YOU TO KNOW ANNIE\n"
     ]
    },
    {
     "name": "stdout",
     "output_type": "stream",
     "text": [
      "File 224 of 557\r"
     ]
    },
    {
     "name": "stderr",
     "output_type": "stream",
     "text": [
      "[2025-01-20 01:18:51,187][835302387.py][line:31][INFO] Transcription of file 225 has been formatted\n",
      "[2025-01-20 01:18:51,187][835302387.py][line:32][INFO] ORIGINAL:  I make a fortune for you.\n",
      "[2025-01-20 01:18:51,187][835302387.py][line:33][INFO] FORMATTED:  I MAKE A FORTUNE FOR YOU\n"
     ]
    },
    {
     "name": "stdout",
     "output_type": "stream",
     "text": [
      "File 225 of 557\r"
     ]
    },
    {
     "name": "stderr",
     "output_type": "stream",
     "text": [
      "[2025-01-20 01:18:51,672][835302387.py][line:31][INFO] Transcription of file 226 has been formatted\n",
      "[2025-01-20 01:18:51,672][835302387.py][line:32][INFO] ORIGINAL:  Have you tried Craigslist?\n",
      "[2025-01-20 01:18:51,672][835302387.py][line:33][INFO] FORMATTED:  HAVE YOU TRIED CRAIGSLIST \n"
     ]
    },
    {
     "name": "stdout",
     "output_type": "stream",
     "text": [
      "File 226 of 557\r"
     ]
    },
    {
     "name": "stderr",
     "output_type": "stream",
     "text": [
      "[2025-01-20 01:18:51,964][835302387.py][line:31][INFO] Transcription of file 227 has been formatted\n",
      "[2025-01-20 01:18:51,964][835302387.py][line:32][INFO] ORIGINAL:  Yeah.\n",
      "[2025-01-20 01:18:51,964][835302387.py][line:33][INFO] FORMATTED:  YEAH\n"
     ]
    },
    {
     "name": "stdout",
     "output_type": "stream",
     "text": [
      "File 227 of 557\r"
     ]
    },
    {
     "name": "stderr",
     "output_type": "stream",
     "text": [
      "[2025-01-20 01:18:52,522][835302387.py][line:31][INFO] Transcription of file 228 has been formatted\n",
      "[2025-01-20 01:18:52,522][835302387.py][line:32][INFO] ORIGINAL:  No, there's regular jobs on there.\n",
      "[2025-01-20 01:18:52,522][835302387.py][line:33][INFO] FORMATTED:  NO  THERE'S REGULAR JOBS ON THERE\n"
     ]
    },
    {
     "name": "stdout",
     "output_type": "stream",
     "text": [
      "File 228 of 557\r"
     ]
    },
    {
     "name": "stderr",
     "output_type": "stream",
     "text": [
      "[2025-01-20 01:18:52,858][835302387.py][line:31][INFO] Transcription of file 229 has been formatted\n",
      "[2025-01-20 01:18:52,858][835302387.py][line:32][INFO] ORIGINAL:  just on my\n",
      "[2025-01-20 01:18:52,858][835302387.py][line:33][INFO] FORMATTED:  JUST ON MY\n"
     ]
    },
    {
     "name": "stdout",
     "output_type": "stream",
     "text": [
      "File 229 of 557\r"
     ]
    },
    {
     "name": "stderr",
     "output_type": "stream",
     "text": [
      "[2025-01-20 01:18:53,912][835302387.py][line:31][INFO] Transcription of file 230 has been formatted\n",
      "[2025-01-20 01:18:53,912][835302387.py][line:32][INFO] ORIGINAL:  I'm just saying I have a friend that got a good job on it, so I was just recommending it.\n",
      "[2025-01-20 01:18:53,912][835302387.py][line:33][INFO] FORMATTED:  I'M JUST SAYING I HAVE A FRIEND THAT GOT A GOOD JOB ON IT  SO I WAS JUST RECOMMENDING IT\n"
     ]
    },
    {
     "name": "stdout",
     "output_type": "stream",
     "text": [
      "File 230 of 557\r"
     ]
    },
    {
     "name": "stderr",
     "output_type": "stream",
     "text": [
      "[2025-01-20 01:18:54,466][835302387.py][line:31][INFO] Transcription of file 231 has been formatted\n",
      "[2025-01-20 01:18:54,466][835302387.py][line:32][INFO] ORIGINAL:  He's like a manager for a theater.\n",
      "[2025-01-20 01:18:54,466][835302387.py][line:33][INFO] FORMATTED:  HE'S LIKE A MANAGER FOR A THEATER\n"
     ]
    },
    {
     "name": "stdout",
     "output_type": "stream",
     "text": [
      "File 231 of 557\r"
     ]
    },
    {
     "name": "stderr",
     "output_type": "stream",
     "text": [
      "[2025-01-20 01:18:55,129][835302387.py][line:31][INFO] Transcription of file 232 has been formatted\n",
      "[2025-01-20 01:18:55,129][835302387.py][line:32][INFO] ORIGINAL:  Take a house manager. Yeah, it's a good job\n",
      "[2025-01-20 01:18:55,129][835302387.py][line:33][INFO] FORMATTED:  TAKE A HOUSE MANAGER YEAH  IT'S A GOOD JOB\n"
     ]
    },
    {
     "name": "stdout",
     "output_type": "stream",
     "text": [
      "File 232 of 557\r"
     ]
    },
    {
     "name": "stderr",
     "output_type": "stream",
     "text": [
      "[2025-01-20 01:18:55,475][835302387.py][line:31][INFO] Transcription of file 233 has been formatted\n",
      "[2025-01-20 01:18:55,475][835302387.py][line:32][INFO] ORIGINAL:  You did?\n",
      "[2025-01-20 01:18:55,475][835302387.py][line:33][INFO] FORMATTED:  YOU DID \n"
     ]
    },
    {
     "name": "stdout",
     "output_type": "stream",
     "text": [
      "File 233 of 557\r"
     ]
    },
    {
     "name": "stderr",
     "output_type": "stream",
     "text": [
      "[2025-01-20 01:18:55,777][835302387.py][line:31][INFO] Transcription of file 234 has been formatted\n",
      "[2025-01-20 01:18:55,777][835302387.py][line:32][INFO] ORIGINAL:  Yeah.\n",
      "[2025-01-20 01:18:55,777][835302387.py][line:33][INFO] FORMATTED:  YEAH\n"
     ]
    },
    {
     "name": "stdout",
     "output_type": "stream",
     "text": [
      "File 234 of 557\r"
     ]
    },
    {
     "name": "stderr",
     "output_type": "stream",
     "text": [
      "[2025-01-20 01:18:56,748][835302387.py][line:31][INFO] Transcription of file 235 has been formatted\n",
      "[2025-01-20 01:18:56,763][835302387.py][line:32][INFO] ORIGINAL:  You've been looking for a job for a long time. That was a long time ago, right?\n",
      "[2025-01-20 01:18:56,763][835302387.py][line:33][INFO] FORMATTED:  YOU'VE BEEN LOOKING FOR A JOB FOR A LONG TIME THAT WAS A LONG TIME AGO  RIGHT \n"
     ]
    },
    {
     "name": "stdout",
     "output_type": "stream",
     "text": [
      "File 235 of 557\r"
     ]
    },
    {
     "name": "stderr",
     "output_type": "stream",
     "text": [
      "[2025-01-20 01:18:57,062][835302387.py][line:31][INFO] Transcription of file 236 has been formatted\n",
      "[2025-01-20 01:18:57,062][835302387.py][line:32][INFO] ORIGINAL:  Huh.\n",
      "[2025-01-20 01:18:57,062][835302387.py][line:33][INFO] FORMATTED:  HUH\n"
     ]
    },
    {
     "name": "stdout",
     "output_type": "stream",
     "text": [
      "File 236 of 557\r"
     ]
    },
    {
     "name": "stderr",
     "output_type": "stream",
     "text": [
      "[2025-01-20 01:18:57,817][835302387.py][line:31][INFO] Transcription of file 237 has been formatted\n",
      "[2025-01-20 01:18:57,817][835302387.py][line:32][INFO] ORIGINAL:  I don't know, he had a really good resume, I guess.\n",
      "[2025-01-20 01:18:57,832][835302387.py][line:33][INFO] FORMATTED:  I DON'T KNOW  HE HAD A REALLY GOOD RESUME  I GUESS\n"
     ]
    },
    {
     "name": "stdout",
     "output_type": "stream",
     "text": [
      "File 237 of 557\r"
     ]
    },
    {
     "name": "stderr",
     "output_type": "stream",
     "text": [
      "[2025-01-20 01:18:58,332][835302387.py][line:31][INFO] Transcription of file 238 has been formatted\n",
      "[2025-01-20 01:18:58,348][835302387.py][line:32][INFO] ORIGINAL:  Yeah. Do you have a resume?\n",
      "[2025-01-20 01:18:58,348][835302387.py][line:33][INFO] FORMATTED:  YEAH DO YOU HAVE A RESUME \n"
     ]
    },
    {
     "name": "stdout",
     "output_type": "stream",
     "text": [
      "File 238 of 557\r"
     ]
    },
    {
     "name": "stderr",
     "output_type": "stream",
     "text": [
      "[2025-01-20 01:18:58,933][835302387.py][line:31][INFO] Transcription of file 239 has been formatted\n",
      "[2025-01-20 01:18:58,933][835302387.py][line:32][INFO] ORIGINAL:  It's kind of helpful in getting a job.\n",
      "[2025-01-20 01:18:58,933][835302387.py][line:33][INFO] FORMATTED:  IT'S KIND OF HELPFUL IN GETTING A JOB\n"
     ]
    },
    {
     "name": "stdout",
     "output_type": "stream",
     "text": [
      "File 239 of 557\r"
     ]
    },
    {
     "name": "stderr",
     "output_type": "stream",
     "text": [
      "[2025-01-20 01:19:00,180][835302387.py][line:31][INFO] Transcription of file 240 has been formatted\n",
      "[2025-01-20 01:19:00,181][835302387.py][line:32][INFO] ORIGINAL:  Well then maybe we should sit down sometime and you can just tell me all the stuff that you've done and I'll write it out.\n",
      "[2025-01-20 01:19:00,182][835302387.py][line:33][INFO] FORMATTED:  WELL THEN MAYBE WE SHOULD SIT DOWN SOMETIME AND YOU CAN JUST TELL ME ALL THE STUFF THAT YOU'VE DONE AND I'LL WRITE IT OUT\n"
     ]
    },
    {
     "name": "stdout",
     "output_type": "stream",
     "text": [
      "File 240 of 557\r"
     ]
    },
    {
     "name": "stderr",
     "output_type": "stream",
     "text": [
      "[2025-01-20 01:19:01,780][835302387.py][line:31][INFO] Transcription of file 241 has been formatted\n",
      "[2025-01-20 01:19:01,780][835302387.py][line:32][INFO] ORIGINAL:  No, you can just bring it in person. But they need generally something to see what kind of work you've done. And you're a writer then. I'm telling that story.\n",
      "[2025-01-20 01:19:01,780][835302387.py][line:33][INFO] FORMATTED:  NO  YOU CAN JUST BRING IT IN PERSON BUT THEY NEED GENERALLY SOMETHING TO SEE WHAT KIND OF WORK YOU'VE DONE AND YOU'RE A WRITER THEN I'M TELLING THAT STORY\n"
     ]
    },
    {
     "name": "stdout",
     "output_type": "stream",
     "text": [
      "File 241 of 557\r"
     ]
    },
    {
     "name": "stderr",
     "output_type": "stream",
     "text": [
      "[2025-01-20 01:19:02,381][835302387.py][line:31][INFO] Transcription of file 242 has been formatted\n",
      "[2025-01-20 01:19:02,381][835302387.py][line:32][INFO] ORIGINAL:  Yeah, but the piece of paper helps too.\n",
      "[2025-01-20 01:19:02,381][835302387.py][line:33][INFO] FORMATTED:  YEAH  BUT THE PIECE OF PAPER HELPS TOO\n"
     ]
    },
    {
     "name": "stdout",
     "output_type": "stream",
     "text": [
      "File 242 of 557\r"
     ]
    },
    {
     "name": "stderr",
     "output_type": "stream",
     "text": [
      "[2025-01-20 01:19:03,006][835302387.py][line:31][INFO] Transcription of file 243 has been formatted\n",
      "[2025-01-20 01:19:03,022][835302387.py][line:32][INFO] ORIGINAL:  No, but it has an outline, you know.\n",
      "[2025-01-20 01:19:03,022][835302387.py][line:33][INFO] FORMATTED:  NO  BUT IT HAS AN OUTLINE  YOU KNOW\n"
     ]
    },
    {
     "name": "stdout",
     "output_type": "stream",
     "text": [
      "File 243 of 557\r"
     ]
    },
    {
     "name": "stderr",
     "output_type": "stream",
     "text": [
      "[2025-01-20 01:19:03,631][835302387.py][line:31][INFO] Transcription of file 244 has been formatted\n",
      "[2025-01-20 01:19:03,647][835302387.py][line:32][INFO] ORIGINAL:  I know. Okay. Well, um... Maybe...\n",
      "[2025-01-20 01:19:03,648][835302387.py][line:33][INFO] FORMATTED:  I KNOW OKAY WELL  UM MAYBE\n"
     ]
    },
    {
     "name": "stdout",
     "output_type": "stream",
     "text": [
      "File 244 of 557\r"
     ]
    },
    {
     "name": "stderr",
     "output_type": "stream",
     "text": [
      "[2025-01-20 01:19:03,934][835302387.py][line:31][INFO] Transcription of file 245 has been formatted\n",
      "[2025-01-20 01:19:03,934][835302387.py][line:32][INFO] ORIGINAL:  Yeah.\n",
      "[2025-01-20 01:19:03,934][835302387.py][line:33][INFO] FORMATTED:  YEAH\n"
     ]
    },
    {
     "name": "stdout",
     "output_type": "stream",
     "text": [
      "File 245 of 557\r"
     ]
    },
    {
     "name": "stderr",
     "output_type": "stream",
     "text": [
      "[2025-01-20 01:19:04,388][835302387.py][line:31][INFO] Transcription of file 246 has been formatted\n",
      "[2025-01-20 01:19:04,388][835302387.py][line:32][INFO] ORIGINAL:  Yeah, I would imagine.\n",
      "[2025-01-20 01:19:04,388][835302387.py][line:33][INFO] FORMATTED:  YEAH  I WOULD IMAGINE\n"
     ]
    },
    {
     "name": "stdout",
     "output_type": "stream",
     "text": [
      "File 246 of 557\r"
     ]
    },
    {
     "name": "stderr",
     "output_type": "stream",
     "text": [
      "[2025-01-20 01:19:06,058][835302387.py][line:31][INFO] Transcription of file 247 has been formatted\n",
      "[2025-01-20 01:19:06,058][835302387.py][line:32][INFO] ORIGINAL:  Well, sometimes you have to do things you don't necessarily like to do to have a job, but the job affords you money. You wouldn't have to be taking the bus right now.\n",
      "[2025-01-20 01:19:06,058][835302387.py][line:33][INFO] FORMATTED:  WELL  SOMETIMES YOU HAVE TO DO THINGS YOU DON'T NECESSARILY LIKE TO DO TO HAVE A JOB  BUT THE JOB AFFORDS YOU MONEY YOU WOULDN'T HAVE TO BE TAKING THE BUS RIGHT NOW\n"
     ]
    },
    {
     "name": "stdout",
     "output_type": "stream",
     "text": [
      "File 247 of 557\r"
     ]
    },
    {
     "name": "stderr",
     "output_type": "stream",
     "text": [
      "[2025-01-20 01:19:06,468][835302387.py][line:31][INFO] Transcription of file 248 has been formatted\n",
      "[2025-01-20 01:19:06,468][835302387.py][line:32][INFO] ORIGINAL:  Maybe get a car.\n",
      "[2025-01-20 01:19:06,468][835302387.py][line:33][INFO] FORMATTED:  MAYBE GET A CAR\n"
     ]
    },
    {
     "name": "stdout",
     "output_type": "stream",
     "text": [
      "File 248 of 557\r"
     ]
    },
    {
     "name": "stderr",
     "output_type": "stream",
     "text": [
      "[2025-01-20 01:19:07,237][835302387.py][line:31][INFO] Transcription of file 249 has been formatted\n",
      "[2025-01-20 01:19:07,237][835302387.py][line:32][INFO] ORIGINAL:  I just, you know, think you should try a little harder maybe.\n",
      "[2025-01-20 01:19:07,237][835302387.py][line:33][INFO] FORMATTED:  I JUST  YOU KNOW  THINK YOU SHOULD TRY A LITTLE HARDER MAYBE\n"
     ]
    },
    {
     "name": "stdout",
     "output_type": "stream",
     "text": [
      "File 249 of 557\r"
     ]
    },
    {
     "name": "stderr",
     "output_type": "stream",
     "text": [
      "[2025-01-20 01:19:07,684][835302387.py][line:31][INFO] Transcription of file 250 has been formatted\n",
      "[2025-01-20 01:19:07,684][835302387.py][line:32][INFO] ORIGINAL:  I didn't say that.\n",
      "[2025-01-20 01:19:07,684][835302387.py][line:33][INFO] FORMATTED:  I DIDN'T SAY THAT\n"
     ]
    },
    {
     "name": "stdout",
     "output_type": "stream",
     "text": [
      "File 250 of 557\r"
     ]
    },
    {
     "name": "stderr",
     "output_type": "stream",
     "text": [
      "[2025-01-20 01:19:08,284][835302387.py][line:31][INFO] Transcription of file 251 has been formatted\n",
      "[2025-01-20 01:19:08,285][835302387.py][line:32][INFO] ORIGINAL:  I am riding the bus, but by choice.\n",
      "[2025-01-20 01:19:08,286][835302387.py][line:33][INFO] FORMATTED:  I AM RIDING THE BUS  BUT BY CHOICE\n"
     ]
    },
    {
     "name": "stdout",
     "output_type": "stream",
     "text": [
      "File 251 of 557\r"
     ]
    },
    {
     "name": "stderr",
     "output_type": "stream",
     "text": [
      "[2025-01-20 01:19:08,730][835302387.py][line:31][INFO] Transcription of file 252 has been formatted\n",
      "[2025-01-20 01:19:08,730][835302387.py][line:32][INFO] ORIGINAL:  to save the environment carpool\n",
      "[2025-01-20 01:19:08,730][835302387.py][line:33][INFO] FORMATTED:  TO SAVE THE ENVIRONMENT CARPOOL\n"
     ]
    },
    {
     "name": "stdout",
     "output_type": "stream",
     "text": [
      "File 252 of 557\r"
     ]
    },
    {
     "name": "stderr",
     "output_type": "stream",
     "text": [
      "[2025-01-20 01:19:09,145][835302387.py][line:31][INFO] Transcription of file 253 has been formatted\n",
      "[2025-01-20 01:19:09,145][835302387.py][line:32][INFO] ORIGINAL:  Yes, one less car at a time.\n",
      "[2025-01-20 01:19:09,145][835302387.py][line:33][INFO] FORMATTED:  YES  ONE LESS CAR AT A TIME\n"
     ]
    },
    {
     "name": "stdout",
     "output_type": "stream",
     "text": [
      "File 253 of 557\r"
     ]
    },
    {
     "name": "stderr",
     "output_type": "stream",
     "text": [
      "[2025-01-20 01:19:09,512][835302387.py][line:31][INFO] Transcription of file 254 has been formatted\n",
      "[2025-01-20 01:19:09,528][835302387.py][line:32][INFO] ORIGINAL:  That's fantastic.\n",
      "[2025-01-20 01:19:09,528][835302387.py][line:33][INFO] FORMATTED:  THAT'S FANTASTIC\n"
     ]
    },
    {
     "name": "stdout",
     "output_type": "stream",
     "text": [
      "File 254 of 557\r"
     ]
    },
    {
     "name": "stderr",
     "output_type": "stream",
     "text": [
      "[2025-01-20 01:19:10,082][835302387.py][line:31][INFO] Transcription of file 255 has been formatted\n",
      "[2025-01-20 01:19:10,082][835302387.py][line:32][INFO] ORIGINAL:  I don't think I'm winning one.\n",
      "[2025-01-20 01:19:10,082][835302387.py][line:33][INFO] FORMATTED:  I DON'T THINK I'M WINNING ONE\n"
     ]
    },
    {
     "name": "stdout",
     "output_type": "stream",
     "text": [
      "File 255 of 557\r"
     ]
    },
    {
     "name": "stderr",
     "output_type": "stream",
     "text": [
      "[2025-01-20 01:19:10,443][835302387.py][line:31][INFO] Transcription of file 256 has been formatted\n",
      "[2025-01-20 01:19:10,443][835302387.py][line:32][INFO] ORIGINAL:  I didn't...\n",
      "[2025-01-20 01:19:10,459][835302387.py][line:33][INFO] FORMATTED:  I DIDN'T\n"
     ]
    },
    {
     "name": "stdout",
     "output_type": "stream",
     "text": [
      "File 256 of 557\r"
     ]
    },
    {
     "name": "stderr",
     "output_type": "stream",
     "text": [
      "[2025-01-20 01:19:11,013][835302387.py][line:31][INFO] Transcription of file 257 has been formatted\n",
      "[2025-01-20 01:19:11,013][835302387.py][line:32][INFO] ORIGINAL:  So what's up? What's new?\n",
      "[2025-01-20 01:19:11,013][835302387.py][line:33][INFO] FORMATTED:  SO WHAT'S UP  WHAT'S NEW \n"
     ]
    },
    {
     "name": "stdout",
     "output_type": "stream",
     "text": [
      "File 257 of 557\r"
     ]
    },
    {
     "name": "stderr",
     "output_type": "stream",
     "text": [
      "[2025-01-20 01:19:11,568][835302387.py][line:31][INFO] Transcription of file 258 has been formatted\n",
      "[2025-01-20 01:19:11,568][835302387.py][line:32][INFO] ORIGINAL:  That's awesome. Yeah, I heard.\n",
      "[2025-01-20 01:19:11,568][835302387.py][line:33][INFO] FORMATTED:  THAT'S AWESOME YEAH  I HEARD\n"
     ]
    },
    {
     "name": "stdout",
     "output_type": "stream",
     "text": [
      "File 258 of 557\r"
     ]
    },
    {
     "name": "stderr",
     "output_type": "stream",
     "text": [
      "[2025-01-20 01:19:11,974][835302387.py][line:31][INFO] Transcription of file 259 has been formatted\n",
      "[2025-01-20 01:19:11,974][835302387.py][line:32][INFO] ORIGINAL:  Who'd you marry?\n",
      "[2025-01-20 01:19:11,974][835302387.py][line:33][INFO] FORMATTED:  WHO'D YOU MARRY \n"
     ]
    },
    {
     "name": "stdout",
     "output_type": "stream",
     "text": [
      "File 259 of 557\r"
     ]
    },
    {
     "name": "stderr",
     "output_type": "stream",
     "text": [
      "[2025-01-20 01:19:12,506][835302387.py][line:31][INFO] Transcription of file 260 has been formatted\n",
      "[2025-01-20 01:19:12,507][835302387.py][line:32][INFO] ORIGINAL:  He turned to you and was like...\n",
      "[2025-01-20 01:19:12,508][835302387.py][line:33][INFO] FORMATTED:  HE TURNED TO YOU AND WAS LIKE\n"
     ]
    },
    {
     "name": "stdout",
     "output_type": "stream",
     "text": [
      "File 260 of 557\r"
     ]
    },
    {
     "name": "stderr",
     "output_type": "stream",
     "text": [
      "[2025-01-20 01:19:12,905][835302387.py][line:31][INFO] Transcription of file 261 has been formatted\n",
      "[2025-01-20 01:19:12,905][835302387.py][line:32][INFO] ORIGINAL:  It's really romantic.\n",
      "[2025-01-20 01:19:12,920][835302387.py][line:33][INFO] FORMATTED:  IT'S REALLY ROMANTIC\n"
     ]
    },
    {
     "name": "stdout",
     "output_type": "stream",
     "text": [
      "File 261 of 557\r"
     ]
    },
    {
     "name": "stderr",
     "output_type": "stream",
     "text": [
      "[2025-01-20 01:19:13,221][835302387.py][line:31][INFO] Transcription of file 262 has been formatted\n",
      "[2025-01-20 01:19:13,221][835302387.py][line:32][INFO] ORIGINAL:  Yeah.\n",
      "[2025-01-20 01:19:13,221][835302387.py][line:33][INFO] FORMATTED:  YEAH\n"
     ]
    },
    {
     "name": "stdout",
     "output_type": "stream",
     "text": [
      "File 262 of 557\r"
     ]
    },
    {
     "name": "stderr",
     "output_type": "stream",
     "text": [
      "[2025-01-20 01:19:13,965][835302387.py][line:31][INFO] Transcription of file 263 has been formatted\n",
      "[2025-01-20 01:19:13,965][835302387.py][line:32][INFO] ORIGINAL:  Does that mean you're gonna get citizenship too in England or whatever?\n",
      "[2025-01-20 01:19:13,965][835302387.py][line:33][INFO] FORMATTED:  DOES THAT MEAN YOU'RE GONNA GET CITIZENSHIP TOO IN ENGLAND OR WHATEVER \n"
     ]
    },
    {
     "name": "stdout",
     "output_type": "stream",
     "text": [
      "File 263 of 557\r"
     ]
    },
    {
     "name": "stderr",
     "output_type": "stream",
     "text": [
      "[2025-01-20 01:19:14,973][835302387.py][line:31][INFO] Transcription of file 264 has been formatted\n",
      "[2025-01-20 01:19:14,973][835302387.py][line:32][INFO] ORIGINAL:  Yeah, but he'll have like a long visa. Can you go visit them for a long time?\n",
      "[2025-01-20 01:19:14,973][835302387.py][line:33][INFO] FORMATTED:  YEAH  BUT HE'LL HAVE LIKE A LONG VISA CAN YOU GO VISIT THEM FOR A LONG TIME \n"
     ]
    },
    {
     "name": "stdout",
     "output_type": "stream",
     "text": [
      "File 264 of 557\r"
     ]
    },
    {
     "name": "stderr",
     "output_type": "stream",
     "text": [
      "[2025-01-20 01:19:15,527][835302387.py][line:31][INFO] Transcription of file 265 has been formatted\n",
      "[2025-01-20 01:19:15,527][835302387.py][line:32][INFO] ORIGINAL:  You think you need another one of those?\n",
      "[2025-01-20 01:19:15,527][835302387.py][line:33][INFO] FORMATTED:  YOU THINK YOU NEED ANOTHER ONE OF THOSE \n"
     ]
    },
    {
     "name": "stdout",
     "output_type": "stream",
     "text": [
      "File 265 of 557\r"
     ]
    },
    {
     "name": "stderr",
     "output_type": "stream",
     "text": [
      "[2025-01-20 01:19:16,160][835302387.py][line:31][INFO] Transcription of file 266 has been formatted\n",
      "[2025-01-20 01:19:16,176][835302387.py][line:32][INFO] ORIGINAL:  Is that your phone? No, we're kidding.\n",
      "[2025-01-20 01:19:16,176][835302387.py][line:33][INFO] FORMATTED:  IS THAT YOUR PHONE  NO  WE'RE KIDDING\n"
     ]
    },
    {
     "name": "stdout",
     "output_type": "stream",
     "text": [
      "File 266 of 557\r"
     ]
    },
    {
     "name": "stderr",
     "output_type": "stream",
     "text": [
      "[2025-01-20 01:19:16,535][835302387.py][line:31][INFO] Transcription of file 267 has been formatted\n",
      "[2025-01-20 01:19:16,535][835302387.py][line:32][INFO] ORIGINAL:  He loves you.\n",
      "[2025-01-20 01:19:16,550][835302387.py][line:33][INFO] FORMATTED:  HE LOVES YOU\n"
     ]
    },
    {
     "name": "stdout",
     "output_type": "stream",
     "text": [
      "File 267 of 557\r"
     ]
    },
    {
     "name": "stderr",
     "output_type": "stream",
     "text": [
      "[2025-01-20 01:19:17,103][835302387.py][line:31][INFO] Transcription of file 268 has been formatted\n",
      "[2025-01-20 01:19:17,103][835302387.py][line:32][INFO] ORIGINAL:  How much did he win in the slot?\n",
      "[2025-01-20 01:19:17,103][835302387.py][line:33][INFO] FORMATTED:  HOW MUCH DID HE WIN IN THE SLOT \n"
     ]
    },
    {
     "name": "stdout",
     "output_type": "stream",
     "text": [
      "File 268 of 557\r"
     ]
    },
    {
     "name": "stderr",
     "output_type": "stream",
     "text": [
      "[2025-01-20 01:19:18,019][835302387.py][line:31][INFO] Transcription of file 269 has been formatted\n",
      "[2025-01-20 01:19:18,019][835302387.py][line:32][INFO] ORIGINAL:  I'm a big fan of the Wheel of Fortune quarters. But it just costs so much.\n",
      "[2025-01-20 01:19:18,019][835302387.py][line:33][INFO] FORMATTED:  I'M A BIG FAN OF THE WHEEL OF FORTUNE QUARTERS BUT IT JUST COSTS SO MUCH\n"
     ]
    },
    {
     "name": "stdout",
     "output_type": "stream",
     "text": [
      "File 269 of 557\r"
     ]
    },
    {
     "name": "stderr",
     "output_type": "stream",
     "text": [
      "[2025-01-20 01:19:19,013][835302387.py][line:31][INFO] Transcription of file 270 has been formatted\n",
      "[2025-01-20 01:19:19,013][835302387.py][line:32][INFO] ORIGINAL:  But the pennies always get you because then you end up spending like, you know, 50 bucks.\n",
      "[2025-01-20 01:19:19,013][835302387.py][line:33][INFO] FORMATTED:  BUT THE PENNIES ALWAYS GET YOU BECAUSE THEN YOU END UP SPENDING LIKE  YOU KNOW  50 BUCKS\n"
     ]
    },
    {
     "name": "stdout",
     "output_type": "stream",
     "text": [
      "File 270 of 557\r"
     ]
    },
    {
     "name": "stderr",
     "output_type": "stream",
     "text": [
      "[2025-01-20 01:19:20,209][835302387.py][line:31][INFO] Transcription of file 271 has been formatted\n",
      "[2025-01-20 01:19:20,224][835302387.py][line:32][INFO] ORIGINAL:  They're like, wait, but it's just pennies. I'm like, wait a minute, I'm on the air.\n",
      "[2025-01-20 01:19:20,225][835302387.py][line:33][INFO] FORMATTED:  THEY'RE LIKE  WAIT  BUT IT'S JUST PENNIES I'M LIKE  WAIT A MINUTE  I'M ON THE AIR\n"
     ]
    },
    {
     "name": "stdout",
     "output_type": "stream",
     "text": [
      "File 271 of 557\r"
     ]
    },
    {
     "name": "stderr",
     "output_type": "stream",
     "text": [
      "[2025-01-20 01:19:20,520][835302387.py][line:31][INFO] Transcription of file 272 has been formatted\n",
      "[2025-01-20 01:19:20,520][835302387.py][line:32][INFO] ORIGINAL:  Awesome.\n",
      "[2025-01-20 01:19:20,520][835302387.py][line:33][INFO] FORMATTED:  AWESOME\n"
     ]
    },
    {
     "name": "stdout",
     "output_type": "stream",
     "text": [
      "File 272 of 557\r"
     ]
    },
    {
     "name": "stderr",
     "output_type": "stream",
     "text": [
      "[2025-01-20 01:19:20,855][835302387.py][line:31][INFO] Transcription of file 273 has been formatted\n",
      "[2025-01-20 01:19:20,855][835302387.py][line:32][INFO] ORIGINAL:  Cat baby.\n",
      "[2025-01-20 01:19:20,855][835302387.py][line:33][INFO] FORMATTED:  CAT BABY\n"
     ]
    },
    {
     "name": "stdout",
     "output_type": "stream",
     "text": [
      "File 273 of 557\r"
     ]
    },
    {
     "name": "stderr",
     "output_type": "stream",
     "text": [
      "[2025-01-20 01:19:21,258][835302387.py][line:31][INFO] Transcription of file 274 has been formatted\n",
      "[2025-01-20 01:19:21,258][835302387.py][line:32][INFO] ORIGINAL:  That's fair enough.\n",
      "[2025-01-20 01:19:21,258][835302387.py][line:33][INFO] FORMATTED:  THAT'S FAIR ENOUGH\n"
     ]
    },
    {
     "name": "stdout",
     "output_type": "stream",
     "text": [
      "File 274 of 557\r"
     ]
    },
    {
     "name": "stderr",
     "output_type": "stream",
     "text": [
      "[2025-01-20 01:19:21,746][835302387.py][line:31][INFO] Transcription of file 275 has been formatted\n",
      "[2025-01-20 01:19:21,746][835302387.py][line:32][INFO] ORIGINAL:  Hey Joy, come in here.\n",
      "[2025-01-20 01:19:21,746][835302387.py][line:33][INFO] FORMATTED:  HEY JOY  COME IN HERE\n"
     ]
    },
    {
     "name": "stdout",
     "output_type": "stream",
     "text": [
      "File 275 of 557\r"
     ]
    },
    {
     "name": "stderr",
     "output_type": "stream",
     "text": [
      "[2025-01-20 01:19:22,194][835302387.py][line:31][INFO] Transcription of file 276 has been formatted\n",
      "[2025-01-20 01:19:22,194][835302387.py][line:32][INFO] ORIGINAL:  I have to go back.\n",
      "[2025-01-20 01:19:22,194][835302387.py][line:33][INFO] FORMATTED:  I HAVE TO GO BACK\n"
     ]
    },
    {
     "name": "stdout",
     "output_type": "stream",
     "text": [
      "File 276 of 557\r"
     ]
    },
    {
     "name": "stderr",
     "output_type": "stream",
     "text": [
      "[2025-01-20 01:19:22,864][835302387.py][line:31][INFO] Transcription of file 277 has been formatted\n",
      "[2025-01-20 01:19:22,864][835302387.py][line:32][INFO] ORIGINAL:  I just got a letter. I have to go back.\n",
      "[2025-01-20 01:19:22,864][835302387.py][line:33][INFO] FORMATTED:  I JUST GOT A LETTER I HAVE TO GO BACK\n"
     ]
    },
    {
     "name": "stdout",
     "output_type": "stream",
     "text": [
      "File 277 of 557\r"
     ]
    },
    {
     "name": "stderr",
     "output_type": "stream",
     "text": [
      "[2025-01-20 01:19:23,300][835302387.py][line:31][INFO] Transcription of file 278 has been formatted\n",
      "[2025-01-20 01:19:23,300][835302387.py][line:32][INFO] ORIGINAL:  First thing tomorrow morning.\n",
      "[2025-01-20 01:19:23,300][835302387.py][line:33][INFO] FORMATTED:  FIRST THING TOMORROW MORNING\n"
     ]
    },
    {
     "name": "stdout",
     "output_type": "stream",
     "text": [
      "File 278 of 557\r"
     ]
    },
    {
     "name": "stderr",
     "output_type": "stream",
     "text": [
      "[2025-01-20 01:19:24,669][835302387.py][line:31][INFO] Transcription of file 279 has been formatted\n",
      "[2025-01-20 01:19:24,669][835302387.py][line:32][INFO] ORIGINAL:  The National Guard is, I guess, really spread thin and everyone has to go. We all have to go back. My whole company is going back.\n",
      "[2025-01-20 01:19:24,669][835302387.py][line:33][INFO] FORMATTED:  THE NATIONAL GUARD IS  I GUESS  REALLY SPREAD THIN AND EVERYONE HAS TO GO WE ALL HAVE TO GO BACK MY WHOLE COMPANY IS GOING BACK\n"
     ]
    },
    {
     "name": "stdout",
     "output_type": "stream",
     "text": [
      "File 279 of 557\r"
     ]
    },
    {
     "name": "stderr",
     "output_type": "stream",
     "text": [
      "[2025-01-20 01:19:25,158][835302387.py][line:31][INFO] Transcription of file 280 has been formatted\n",
      "[2025-01-20 01:19:25,159][835302387.py][line:32][INFO] ORIGINAL:  So yeah, we leave tomorrow.\n",
      "[2025-01-20 01:19:25,160][835302387.py][line:33][INFO] FORMATTED:  SO YEAH  WE LEAVE TOMORROW\n"
     ]
    },
    {
     "name": "stdout",
     "output_type": "stream",
     "text": [
      "File 280 of 557\r"
     ]
    },
    {
     "name": "stderr",
     "output_type": "stream",
     "text": [
      "[2025-01-20 01:19:25,605][835302387.py][line:31][INFO] Transcription of file 281 has been formatted\n",
      "[2025-01-20 01:19:25,605][835302387.py][line:32][INFO] ORIGINAL:  We're all shipping out.\n",
      "[2025-01-20 01:19:25,605][835302387.py][line:33][INFO] FORMATTED:  WE'RE ALL SHIPPING OUT\n"
     ]
    },
    {
     "name": "stdout",
     "output_type": "stream",
     "text": [
      "File 281 of 557\r"
     ]
    },
    {
     "name": "stderr",
     "output_type": "stream",
     "text": [
      "[2025-01-20 01:19:26,268][835302387.py][line:31][INFO] Transcription of file 282 has been formatted\n",
      "[2025-01-20 01:19:26,268][835302387.py][line:32][INFO] ORIGINAL:  I just kind of feel like I'm in shock actually.\n",
      "[2025-01-20 01:19:26,268][835302387.py][line:33][INFO] FORMATTED:  I JUST KIND OF FEEL LIKE I'M IN SHOCK ACTUALLY\n"
     ]
    },
    {
     "name": "stdout",
     "output_type": "stream",
     "text": [
      "File 282 of 557\r"
     ]
    },
    {
     "name": "stderr",
     "output_type": "stream",
     "text": [
      "[2025-01-20 01:19:26,668][835302387.py][line:31][INFO] Transcription of file 283 has been formatted\n",
      "[2025-01-20 01:19:26,683][835302387.py][line:32][INFO] ORIGINAL:  I don't know.\n",
      "[2025-01-20 01:19:26,683][835302387.py][line:33][INFO] FORMATTED:  I DON'T KNOW\n"
     ]
    },
    {
     "name": "stdout",
     "output_type": "stream",
     "text": [
      "File 283 of 557\r"
     ]
    },
    {
     "name": "stderr",
     "output_type": "stream",
     "text": [
      "[2025-01-20 01:19:27,386][835302387.py][line:31][INFO] Transcription of file 284 has been formatted\n",
      "[2025-01-20 01:19:27,386][835302387.py][line:32][INFO] ORIGINAL:  I guess you're just gonna have to have it without me.\n",
      "[2025-01-20 01:19:27,386][835302387.py][line:33][INFO] FORMATTED:  I GUESS YOU'RE JUST GONNA HAVE TO HAVE IT WITHOUT ME\n"
     ]
    },
    {
     "name": "stdout",
     "output_type": "stream",
     "text": [
      "File 284 of 557\r"
     ]
    },
    {
     "name": "stderr",
     "output_type": "stream",
     "text": [
      "[2025-01-20 01:19:28,082][835302387.py][line:31][INFO] Transcription of file 285 has been formatted\n",
      "[2025-01-20 01:19:28,082][835302387.py][line:32][INFO] ORIGINAL:  Hey, listen. It's gonna be okay though. Alright?\n",
      "[2025-01-20 01:19:28,098][835302387.py][line:33][INFO] FORMATTED:  HEY  LISTEN IT'S GONNA BE OKAY THOUGH ALRIGHT \n"
     ]
    },
    {
     "name": "stdout",
     "output_type": "stream",
     "text": [
      "File 285 of 557\r"
     ]
    },
    {
     "name": "stderr",
     "output_type": "stream",
     "text": [
      "[2025-01-20 01:19:28,582][835302387.py][line:31][INFO] Transcription of file 286 has been formatted\n",
      "[2025-01-20 01:19:28,582][835302387.py][line:32][INFO] ORIGINAL:  You're going to be fine.\n",
      "[2025-01-20 01:19:28,582][835302387.py][line:33][INFO] FORMATTED:  YOU'RE GOING TO BE FINE\n"
     ]
    },
    {
     "name": "stdout",
     "output_type": "stream",
     "text": [
      "File 286 of 557\r"
     ]
    },
    {
     "name": "stderr",
     "output_type": "stream",
     "text": [
      "[2025-01-20 01:19:29,152][835302387.py][line:31][INFO] Transcription of file 287 has been formatted\n",
      "[2025-01-20 01:19:29,152][835302387.py][line:32][INFO] ORIGINAL:  I'm gonna be fine too, okay?\n",
      "[2025-01-20 01:19:29,152][835302387.py][line:33][INFO] FORMATTED:  I'M GONNA BE FINE TOO  OKAY \n"
     ]
    },
    {
     "name": "stdout",
     "output_type": "stream",
     "text": [
      "File 287 of 557\r"
     ]
    },
    {
     "name": "stderr",
     "output_type": "stream",
     "text": [
      "[2025-01-20 01:19:30,075][835302387.py][line:31][INFO] Transcription of file 288 has been formatted\n",
      "[2025-01-20 01:19:30,075][835302387.py][line:32][INFO] ORIGINAL:  I know. I have a good... I have a really good group of guys with me.\n",
      "[2025-01-20 01:19:30,075][835302387.py][line:33][INFO] FORMATTED:  I KNOW I HAVE A GOOD I HAVE A REALLY GOOD GROUP OF GUYS WITH ME\n"
     ]
    },
    {
     "name": "stdout",
     "output_type": "stream",
     "text": [
      "File 288 of 557\r"
     ]
    },
    {
     "name": "stderr",
     "output_type": "stream",
     "text": [
      "[2025-01-20 01:19:30,520][835302387.py][line:31][INFO] Transcription of file 289 has been formatted\n",
      "[2025-01-20 01:19:30,520][835302387.py][line:32][INFO] ORIGINAL:  We're gonna be okay.\n",
      "[2025-01-20 01:19:30,535][835302387.py][line:33][INFO] FORMATTED:  WE'RE GONNA BE OKAY\n"
     ]
    },
    {
     "name": "stdout",
     "output_type": "stream",
     "text": [
      "File 289 of 557\r"
     ]
    },
    {
     "name": "stderr",
     "output_type": "stream",
     "text": [
      "[2025-01-20 01:19:31,198][835302387.py][line:31][INFO] Transcription of file 290 has been formatted\n",
      "[2025-01-20 01:19:31,198][835302387.py][line:32][INFO] ORIGINAL:  You promise you're going to take a lot of pictures.\n",
      "[2025-01-20 01:19:31,198][835302387.py][line:33][INFO] FORMATTED:  YOU PROMISE YOU'RE GOING TO TAKE A LOT OF PICTURES\n"
     ]
    },
    {
     "name": "stdout",
     "output_type": "stream",
     "text": [
      "File 290 of 557\r"
     ]
    },
    {
     "name": "stderr",
     "output_type": "stream",
     "text": [
      "[2025-01-20 01:19:31,535][835302387.py][line:31][INFO] Transcription of file 291 has been formatted\n",
      "[2025-01-20 01:19:31,535][835302387.py][line:32][INFO] ORIGINAL:  You know?\n",
      "[2025-01-20 01:19:31,535][835302387.py][line:33][INFO] FORMATTED:  YOU KNOW \n"
     ]
    },
    {
     "name": "stdout",
     "output_type": "stream",
     "text": [
      "File 291 of 557\r"
     ]
    },
    {
     "name": "stderr",
     "output_type": "stream",
     "text": [
      "[2025-01-20 01:19:32,132][835302387.py][line:31][INFO] Transcription of file 292 has been formatted\n",
      "[2025-01-20 01:19:32,132][835302387.py][line:32][INFO] ORIGINAL:  I just wish there was something I could do.\n",
      "[2025-01-20 01:19:32,148][835302387.py][line:33][INFO] FORMATTED:  I JUST WISH THERE WAS SOMETHING I COULD DO\n"
     ]
    },
    {
     "name": "stdout",
     "output_type": "stream",
     "text": [
      "File 292 of 557\r"
     ]
    },
    {
     "name": "stderr",
     "output_type": "stream",
     "text": [
      "[2025-01-20 01:19:32,473][835302387.py][line:31][INFO] Transcription of file 293 has been formatted\n",
      "[2025-01-20 01:19:32,473][835302387.py][line:32][INFO] ORIGINAL:  run away.\n",
      "[2025-01-20 01:19:32,473][835302387.py][line:33][INFO] FORMATTED:  RUN AWAY\n"
     ]
    },
    {
     "name": "stdout",
     "output_type": "stream",
     "text": [
      "File 293 of 557\r"
     ]
    },
    {
     "name": "stderr",
     "output_type": "stream",
     "text": [
      "[2025-01-20 01:19:33,228][835302387.py][line:31][INFO] Transcription of file 294 has been formatted\n",
      "[2025-01-20 01:19:33,228][835302387.py][line:32][INFO] ORIGINAL:  I don't want to go. I don't want to go.\n",
      "[2025-01-20 01:19:33,228][835302387.py][line:33][INFO] FORMATTED:  I DON'T WANT TO GO I DON'T WANT TO GO\n"
     ]
    },
    {
     "name": "stdout",
     "output_type": "stream",
     "text": [
      "File 294 of 557\r"
     ]
    },
    {
     "name": "stderr",
     "output_type": "stream",
     "text": [
      "[2025-01-20 01:19:33,596][835302387.py][line:31][INFO] Transcription of file 295 has been formatted\n",
      "[2025-01-20 01:19:33,596][835302387.py][line:32][INFO] ORIGINAL:  I love you.\n",
      "[2025-01-20 01:19:33,596][835302387.py][line:33][INFO] FORMATTED:  I LOVE YOU\n"
     ]
    },
    {
     "name": "stdout",
     "output_type": "stream",
     "text": [
      "File 295 of 557\r"
     ]
    },
    {
     "name": "stderr",
     "output_type": "stream",
     "text": [
      "[2025-01-20 01:19:34,866][835302387.py][line:31][INFO] Transcription of file 296 has been formatted\n",
      "[2025-01-20 01:19:34,866][835302387.py][line:32][INFO] ORIGINAL:  Are you insinuating that I don't have a college education and that for some reason that makes you a better person than I am?\n",
      "[2025-01-20 01:19:34,866][835302387.py][line:33][INFO] FORMATTED:  ARE YOU INSINUATING THAT I DON'T HAVE A COLLEGE EDUCATION AND THAT FOR SOME REASON THAT MAKES YOU A BETTER PERSON THAN I AM \n"
     ]
    },
    {
     "name": "stdout",
     "output_type": "stream",
     "text": [
      "File 296 of 557\r"
     ]
    },
    {
     "name": "stderr",
     "output_type": "stream",
     "text": [
      "[2025-01-20 01:19:35,683][835302387.py][line:31][INFO] Transcription of file 297 has been formatted\n",
      "[2025-01-20 01:19:35,683][835302387.py][line:32][INFO] ORIGINAL:  Listen, shut your smug mouth, okay? I don't need that.\n",
      "[2025-01-20 01:19:35,683][835302387.py][line:33][INFO] FORMATTED:  LISTEN  SHUT YOUR SMUG MOUTH  OKAY  I DON'T NEED THAT\n"
     ]
    },
    {
     "name": "stdout",
     "output_type": "stream",
     "text": [
      "File 297 of 557\r"
     ]
    },
    {
     "name": "stderr",
     "output_type": "stream",
     "text": [
      "[2025-01-20 01:19:36,241][835302387.py][line:31][INFO] Transcription of file 298 has been formatted\n",
      "[2025-01-20 01:19:36,241][835302387.py][line:32][INFO] ORIGINAL:  I've been sitting here for four hours.\n",
      "[2025-01-20 01:19:36,241][835302387.py][line:33][INFO] FORMATTED:  I'VE BEEN SITTING HERE FOR FOUR HOURS\n"
     ]
    },
    {
     "name": "stdout",
     "output_type": "stream",
     "text": [
      "File 298 of 557\r"
     ]
    },
    {
     "name": "stderr",
     "output_type": "stream",
     "text": [
      "[2025-01-20 01:19:37,066][835302387.py][line:31][INFO] Transcription of file 299 has been formatted\n",
      "[2025-01-20 01:19:37,066][835302387.py][line:32][INFO] ORIGINAL:  You people have just been tossing me around like a used hanky.\n",
      "[2025-01-20 01:19:37,082][835302387.py][line:33][INFO] FORMATTED:  YOU PEOPLE HAVE JUST BEEN TOSSING ME AROUND LIKE A USED HANKY\n"
     ]
    },
    {
     "name": "stdout",
     "output_type": "stream",
     "text": [
      "File 299 of 557\r"
     ]
    },
    {
     "name": "stderr",
     "output_type": "stream",
     "text": [
      "[2025-01-20 01:19:37,441][835302387.py][line:31][INFO] Transcription of file 300 has been formatted\n",
      "[2025-01-20 01:19:37,441][835302387.py][line:32][INFO] ORIGINAL:  You work here.\n",
      "[2025-01-20 01:19:37,441][835302387.py][line:33][INFO] FORMATTED:  YOU WORK HERE\n"
     ]
    },
    {
     "name": "stdout",
     "output_type": "stream",
     "text": [
      "File 300 of 557\r"
     ]
    },
    {
     "name": "stderr",
     "output_type": "stream",
     "text": [
      "[2025-01-20 01:19:37,738][835302387.py][line:31][INFO] Transcription of file 301 has been formatted\n",
      "[2025-01-20 01:19:37,738][835302387.py][line:32][INFO] ORIGINAL:  Okay.\n",
      "[2025-01-20 01:19:37,754][835302387.py][line:33][INFO] FORMATTED:  OKAY\n"
     ]
    },
    {
     "name": "stdout",
     "output_type": "stream",
     "text": [
      "File 301 of 557\r"
     ]
    },
    {
     "name": "stderr",
     "output_type": "stream",
     "text": [
      "[2025-01-20 01:19:38,385][835302387.py][line:31][INFO] Transcription of file 302 has been formatted\n",
      "[2025-01-20 01:19:38,385][835302387.py][line:32][INFO] ORIGINAL:  But probably people that work for your company, huh?\n",
      "[2025-01-20 01:19:38,385][835302387.py][line:33][INFO] FORMATTED:  BUT PROBABLY PEOPLE THAT WORK FOR YOUR COMPANY  HUH \n"
     ]
    },
    {
     "name": "stdout",
     "output_type": "stream",
     "text": [
      "File 302 of 557\r"
     ]
    },
    {
     "name": "stderr",
     "output_type": "stream",
     "text": [
      "[2025-01-20 01:19:39,595][835302387.py][line:31][INFO] Transcription of file 303 has been formatted\n",
      "[2025-01-20 01:19:39,595][835302387.py][line:32][INFO] ORIGINAL:  Do you know what was in that little bag that I could have just easily put in the overhead compartment? But no I had to check\n",
      "[2025-01-20 01:19:39,595][835302387.py][line:33][INFO] FORMATTED:  DO YOU KNOW WHAT WAS IN THAT LITTLE BAG THAT I COULD HAVE JUST EASILY PUT IN THE OVERHEAD COMPARTMENT  BUT NO I HAD TO CHECK\n"
     ]
    },
    {
     "name": "stdout",
     "output_type": "stream",
     "text": [
      "File 303 of 557\r"
     ]
    },
    {
     "name": "stderr",
     "output_type": "stream",
     "text": [
      "[2025-01-20 01:19:40,345][835302387.py][line:31][INFO] Transcription of file 304 has been formatted\n",
      "[2025-01-20 01:19:40,345][835302387.py][line:32][INFO] ORIGINAL:  my computer which has all of my data which I'm collecting right now\n",
      "[2025-01-20 01:19:40,345][835302387.py][line:33][INFO] FORMATTED:  MY COMPUTER WHICH HAS ALL OF MY DATA WHICH I'M COLLECTING RIGHT NOW\n"
     ]
    },
    {
     "name": "stdout",
     "output_type": "stream",
     "text": [
      "File 304 of 557\r"
     ]
    },
    {
     "name": "stderr",
     "output_type": "stream",
     "text": [
      "[2025-01-20 01:19:41,718][835302387.py][line:31][INFO] Transcription of file 305 has been formatted\n",
      "[2025-01-20 01:19:41,718][835302387.py][line:32][INFO] ORIGINAL:  It's really unfortunate. You know why? Because I'm going to get fired if I don't get that. So I need to have that back.\n",
      "[2025-01-20 01:19:41,718][835302387.py][line:33][INFO] FORMATTED:  IT'S REALLY UNFORTUNATE YOU KNOW WHY  BECAUSE I'M GOING TO GET FIRED IF I DON'T GET THAT SO I NEED TO HAVE THAT BACK\n"
     ]
    },
    {
     "name": "stdout",
     "output_type": "stream",
     "text": [
      "File 305 of 557\r"
     ]
    },
    {
     "name": "stderr",
     "output_type": "stream",
     "text": [
      "[2025-01-20 01:19:42,456][835302387.py][line:31][INFO] Transcription of file 306 has been formatted\n",
      "[2025-01-20 01:19:42,456][835302387.py][line:32][INFO] ORIGINAL:  $50 is not going to cover me for my job, okay?\n",
      "[2025-01-20 01:19:42,456][835302387.py][line:33][INFO] FORMATTED:   50 IS NOT GOING TO COVER ME FOR MY JOB  OKAY \n"
     ]
    },
    {
     "name": "stdout",
     "output_type": "stream",
     "text": [
      "File 306 of 557\r"
     ]
    },
    {
     "name": "stderr",
     "output_type": "stream",
     "text": [
      "[2025-01-20 01:19:44,064][835302387.py][line:31][INFO] Transcription of file 307 has been formatted\n",
      "[2025-01-20 01:19:44,075][835302387.py][line:32][INFO] ORIGINAL:  Well, you need to find it. Can I just go back there and look through the bags? Can I just go back there and just go through them? Maybe I'll find it.\n",
      "[2025-01-20 01:19:44,077][835302387.py][line:33][INFO] FORMATTED:  WELL  YOU NEED TO FIND IT CAN I JUST GO BACK THERE AND LOOK THROUGH THE BAGS  CAN I JUST GO BACK THERE AND JUST GO THROUGH THEM  MAYBE I'LL FIND IT\n"
     ]
    },
    {
     "name": "stdout",
     "output_type": "stream",
     "text": [
      "File 307 of 557\r"
     ]
    },
    {
     "name": "stderr",
     "output_type": "stream",
     "text": [
      "[2025-01-20 01:19:45,678][835302387.py][line:31][INFO] Transcription of file 308 has been formatted\n",
      "[2025-01-20 01:19:45,678][835302387.py][line:32][INFO] ORIGINAL:  It'll be a lot more than what you're doing, sitting here and just giving me lip service. I would like to go back to at least do some aggressive searching for my stuff.\n",
      "[2025-01-20 01:19:45,694][835302387.py][line:33][INFO] FORMATTED:  IT'LL BE A LOT MORE THAN WHAT YOU'RE DOING  SITTING HERE AND JUST GIVING ME LIP SERVICE I WOULD LIKE TO GO BACK TO AT LEAST DO SOME AGGRESSIVE SEARCHING FOR MY STUFF\n"
     ]
    },
    {
     "name": "stdout",
     "output_type": "stream",
     "text": [
      "File 308 of 557\r"
     ]
    },
    {
     "name": "stderr",
     "output_type": "stream",
     "text": [
      "[2025-01-20 01:19:46,791][835302387.py][line:31][INFO] Transcription of file 309 has been formatted\n",
      "[2025-01-20 01:19:46,791][835302387.py][line:32][INFO] ORIGINAL:  Yeah, right, you have plenty of progressive searching going on. Progressive searching, drinking coffee, and smoking cigarettes.\n",
      "[2025-01-20 01:19:46,791][835302387.py][line:33][INFO] FORMATTED:  YEAH  RIGHT  YOU HAVE PLENTY OF PROGRESSIVE SEARCHING GOING ON PROGRESSIVE SEARCHING  DRINKING COFFEE  AND SMOKING CIGARETTES\n"
     ]
    },
    {
     "name": "stdout",
     "output_type": "stream",
     "text": [
      "File 309 of 557\r"
     ]
    },
    {
     "name": "stderr",
     "output_type": "stream",
     "text": [
      "[2025-01-20 01:19:47,923][835302387.py][line:31][INFO] Transcription of file 310 has been formatted\n",
      "[2025-01-20 01:19:47,923][835302387.py][line:32][INFO] ORIGINAL:  I know what you guys do when you're not working. You're union people. You just sit around on your ass.\n",
      "[2025-01-20 01:19:47,923][835302387.py][line:33][INFO] FORMATTED:  I KNOW WHAT YOU GUYS DO WHEN YOU'RE NOT WORKING YOU'RE UNION PEOPLE YOU JUST SIT AROUND ON YOUR ASS\n"
     ]
    },
    {
     "name": "stdout",
     "output_type": "stream",
     "text": [
      "File 310 of 557\r"
     ]
    },
    {
     "name": "stderr",
     "output_type": "stream",
     "text": [
      "[2025-01-20 01:19:48,338][835302387.py][line:31][INFO] Transcription of file 311 has been formatted\n",
      "[2025-01-20 01:19:48,338][835302387.py][line:32][INFO] ORIGINAL:  Thank you very much.\n",
      "[2025-01-20 01:19:48,338][835302387.py][line:33][INFO] FORMATTED:  THANK YOU VERY MUCH\n"
     ]
    },
    {
     "name": "stdout",
     "output_type": "stream",
     "text": [
      "File 311 of 557\r"
     ]
    },
    {
     "name": "stderr",
     "output_type": "stream",
     "text": [
      "[2025-01-20 01:19:48,821][835302387.py][line:31][INFO] Transcription of file 312 has been formatted\n",
      "[2025-01-20 01:19:48,821][835302387.py][line:32][INFO] ORIGINAL:  We'll have a little I think\n",
      "[2025-01-20 01:19:48,821][835302387.py][line:33][INFO] FORMATTED:  WE'LL HAVE A LITTLE I THINK\n"
     ]
    },
    {
     "name": "stdout",
     "output_type": "stream",
     "text": [
      "File 312 of 557\r"
     ]
    },
    {
     "name": "stderr",
     "output_type": "stream",
     "text": [
      "[2025-01-20 01:19:49,657][835302387.py][line:31][INFO] Transcription of file 313 has been formatted\n",
      "[2025-01-20 01:19:49,657][835302387.py][line:32][INFO] ORIGINAL:  Oh, you know, no particular reason. Besides, they're very small glasses.\n",
      "[2025-01-20 01:19:49,657][835302387.py][line:33][INFO] FORMATTED:  OH  YOU KNOW  NO PARTICULAR REASON BESIDES  THEY'RE VERY SMALL GLASSES\n"
     ]
    },
    {
     "name": "stdout",
     "output_type": "stream",
     "text": [
      "File 313 of 557\r"
     ]
    },
    {
     "name": "stderr",
     "output_type": "stream",
     "text": [
      "[2025-01-20 01:19:50,187][835302387.py][line:31][INFO] Transcription of file 314 has been formatted\n",
      "[2025-01-20 01:19:50,187][835302387.py][line:32][INFO] ORIGINAL:  Are you going out somewhere, dear?\n",
      "[2025-01-20 01:19:50,187][835302387.py][line:33][INFO] FORMATTED:  ARE YOU GOING OUT SOMEWHERE  DEAR \n"
     ]
    },
    {
     "name": "stdout",
     "output_type": "stream",
     "text": [
      "File 314 of 557\r"
     ]
    },
    {
     "name": "stderr",
     "output_type": "stream",
     "text": [
      "[2025-01-20 01:19:51,444][835302387.py][line:31][INFO] Transcription of file 315 has been formatted\n",
      "[2025-01-20 01:19:51,444][835302387.py][line:32][INFO] ORIGINAL:  You know, it's a pity you didn't have any more brandy. It would have made you just a little less disagreeable.\n",
      "[2025-01-20 01:19:51,444][835302387.py][line:33][INFO] FORMATTED:  YOU KNOW  IT'S A PITY YOU DIDN'T HAVE ANY MORE BRANDY IT WOULD HAVE MADE YOU JUST A LITTLE LESS DISAGREEABLE\n"
     ]
    },
    {
     "name": "stdout",
     "output_type": "stream",
     "text": [
      "File 315 of 557\r"
     ]
    },
    {
     "name": "stderr",
     "output_type": "stream",
     "text": [
      "[2025-01-20 01:19:52,563][835302387.py][line:31][INFO] Transcription of file 316 has been formatted\n",
      "[2025-01-20 01:19:52,563][835302387.py][line:32][INFO] ORIGINAL:  You know what? You're snapped. You're snapped. You're snapped. You're like a little adder.\n",
      "[2025-01-20 01:19:52,563][835302387.py][line:33][INFO] FORMATTED:  YOU KNOW WHAT  YOU'RE SNAPPED YOU'RE SNAPPED YOU'RE SNAPPED YOU'RE LIKE A LITTLE ADDER\n"
     ]
    },
    {
     "name": "stdout",
     "output_type": "stream",
     "text": [
      "File 316 of 557\r"
     ]
    },
    {
     "name": "stderr",
     "output_type": "stream",
     "text": [
      "[2025-01-20 01:19:53,400][835302387.py][line:31][INFO] Transcription of file 317 has been formatted\n",
      "[2025-01-20 01:19:53,400][835302387.py][line:32][INFO] ORIGINAL:  Nonsense. They have a bag of venom behind their fangs and they snap.\n",
      "[2025-01-20 01:19:53,400][835302387.py][line:33][INFO] FORMATTED:  NONSENSE THEY HAVE A BAG OF VENOM BEHIND THEIR FANGS AND THEY SNAP\n"
     ]
    },
    {
     "name": "stdout",
     "output_type": "stream",
     "text": [
      "File 317 of 557\r"
     ]
    },
    {
     "name": "stderr",
     "output_type": "stream",
     "text": [
      "[2025-01-20 01:19:54,070][835302387.py][line:31][INFO] Transcription of file 318 has been formatted\n",
      "[2025-01-20 01:19:54,070][835302387.py][line:32][INFO] ORIGINAL:  Did you see much of Peter Burden after our divorce?\n",
      "[2025-01-20 01:19:54,070][835302387.py][line:33][INFO] FORMATTED:  DID YOU SEE MUCH OF PETER BURDEN AFTER OUR DIVORCE \n"
     ]
    },
    {
     "name": "stdout",
     "output_type": "stream",
     "text": [
      "File 318 of 557\r"
     ]
    },
    {
     "name": "stderr",
     "output_type": "stream",
     "text": [
      "[2025-01-20 01:19:55,105][835302387.py][line:31][INFO] Transcription of file 319 has been formatted\n",
      "[2025-01-20 01:19:55,105][835302387.py][line:32][INFO] ORIGINAL:  I suppose you let him just kiss you a good deal more than to... Oh, mind your own business.\n",
      "[2025-01-20 01:19:55,105][835302387.py][line:33][INFO] FORMATTED:  I SUPPOSE YOU LET HIM JUST KISS YOU A GOOD DEAL MORE THAN TO OH  MIND YOUR OWN BUSINESS\n"
     ]
    },
    {
     "name": "stdout",
     "output_type": "stream",
     "text": [
      "File 319 of 557\r"
     ]
    },
    {
     "name": "stderr",
     "output_type": "stream",
     "text": [
      "[2025-01-20 01:19:56,393][835302387.py][line:31][INFO] Transcription of file 320 has been formatted\n",
      "[2025-01-20 01:19:56,393][835302387.py][line:32][INFO] ORIGINAL:  I suppose you two had a riotous time, huh? No restraint at all? Very enjoyable? You never had much, anyhow. You're\n",
      "[2025-01-20 01:19:56,393][835302387.py][line:33][INFO] FORMATTED:  I SUPPOSE YOU TWO HAD A RIOTOUS TIME  HUH  NO RESTRAINT AT ALL  VERY ENJOYABLE  YOU NEVER HAD MUCH  ANYHOW YOU'RE\n"
     ]
    },
    {
     "name": "stdout",
     "output_type": "stream",
     "text": [
      "File 320 of 557\r"
     ]
    },
    {
     "name": "stderr",
     "output_type": "stream",
     "text": [
      "[2025-01-20 01:19:57,094][835302387.py][line:31][INFO] Transcription of file 321 has been formatted\n",
      "[2025-01-20 01:19:57,094][835302387.py][line:32][INFO] ORIGINAL:  I am not in the least bit drunk. You always are.\n",
      "[2025-01-20 01:19:57,094][835302387.py][line:33][INFO] FORMATTED:  I AM NOT IN THE LEAST BIT DRUNK YOU ALWAYS ARE\n"
     ]
    },
    {
     "name": "stdout",
     "output_type": "stream",
     "text": [
      "File 321 of 557\r"
     ]
    },
    {
     "name": "stderr",
     "output_type": "stream",
     "text": [
      "[2025-01-20 01:19:58,419][835302387.py][line:31][INFO] Transcription of file 322 has been formatted\n",
      "[2025-01-20 01:19:58,419][835302387.py][line:32][INFO] ORIGINAL:  I think I told you once before that I have had three minute liquor glasses the whole evening long. A child of two cannot get drunk on that.\n",
      "[2025-01-20 01:19:58,419][835302387.py][line:33][INFO] FORMATTED:  I THINK I TOLD YOU ONCE BEFORE THAT I HAVE HAD THREE MINUTE LIQUOR GLASSES THE WHOLE EVENING LONG A CHILD OF TWO CANNOT GET DRUNK ON THAT\n"
     ]
    },
    {
     "name": "stdout",
     "output_type": "stream",
     "text": [
      "File 322 of 557\r"
     ]
    },
    {
     "name": "stderr",
     "output_type": "stream",
     "text": [
      "[2025-01-20 01:20:00,261][835302387.py][line:31][INFO] Transcription of file 323 has been formatted\n",
      "[2025-01-20 01:20:00,261][835302387.py][line:32][INFO] ORIGINAL:  Oh, very, very interesting, Amanda. How about a child of four? Six? Maybe nine? You know, we could work up a splendid little debate about it, you know? Intemperate tots!\n",
      "[2025-01-20 01:20:00,261][835302387.py][line:33][INFO] FORMATTED:  OH  VERY  VERY INTERESTING  AMANDA HOW ABOUT A CHILD OF FOUR  SIX  MAYBE NINE  YOU KNOW  WE COULD WORK UP A SPLENDID LITTLE DEBATE ABOUT IT  YOU KNOW  INTEMPERATE TOTS \n"
     ]
    },
    {
     "name": "stdout",
     "output_type": "stream",
     "text": [
      "File 323 of 557\r"
     ]
    },
    {
     "name": "stderr",
     "output_type": "stream",
     "text": [
      "[2025-01-20 01:20:00,916][835302387.py][line:31][INFO] Transcription of file 324 has been formatted\n",
      "[2025-01-20 01:20:00,916][835302387.py][line:32][INFO] ORIGINAL:  That's a very good idea. I think I will.\n",
      "[2025-01-20 01:20:00,916][835302387.py][line:33][INFO] FORMATTED:  THAT'S A VERY GOOD IDEA I THINK I WILL\n"
     ]
    },
    {
     "name": "stdout",
     "output_type": "stream",
     "text": [
      "File 324 of 557\r"
     ]
    },
    {
     "name": "stderr",
     "output_type": "stream",
     "text": [
      "[2025-01-20 01:20:01,837][835302387.py][line:31][INFO] Transcription of file 325 has been formatted\n",
      "[2025-01-20 01:20:01,837][835302387.py][line:32][INFO] ORIGINAL:  Would you turn that off, please? Why? You're going to wake the people upstairs.\n",
      "[2025-01-20 01:20:01,837][835302387.py][line:33][INFO] FORMATTED:  WOULD YOU TURN THAT OFF  PLEASE  WHY  YOU'RE GOING TO WAKE THE PEOPLE UPSTAIRS\n"
     ]
    },
    {
     "name": "stdout",
     "output_type": "stream",
     "text": [
      "File 325 of 557\r"
     ]
    },
    {
     "name": "stderr",
     "output_type": "stream",
     "text": [
      "[2025-01-20 01:20:02,431][835302387.py][line:31][INFO] Transcription of file 326 has been formatted\n",
      "[2025-01-20 01:20:02,431][835302387.py][line:32][INFO] ORIGINAL:  Well, then you'll wake the people downstairs.\n",
      "[2025-01-20 01:20:02,431][835302387.py][line:33][INFO] FORMATTED:  WELL  THEN YOU'LL WAKE THE PEOPLE DOWNSTAIRS\n"
     ]
    },
    {
     "name": "stdout",
     "output_type": "stream",
     "text": [
      "File 326 of 557\r"
     ]
    },
    {
     "name": "stderr",
     "output_type": "stream",
     "text": [
      "[2025-01-20 01:20:03,019][835302387.py][line:31][INFO] Transcription of file 327 has been formatted\n",
      "[2025-01-20 01:20:03,019][835302387.py][line:32][INFO] ORIGINAL:  This is no time of year for two knees.\n",
      "[2025-01-20 01:20:03,019][835302387.py][line:33][INFO] FORMATTED:  THIS IS NO TIME OF YEAR FOR TWO KNEES\n"
     ]
    },
    {
     "name": "stdout",
     "output_type": "stream",
     "text": [
      "File 327 of 557\r"
     ]
    },
    {
     "name": "stderr",
     "output_type": "stream",
     "text": [
      "[2025-01-20 01:20:03,494][835302387.py][line:31][INFO] Transcription of file 328 has been formatted\n",
      "[2025-01-20 01:20:03,509][835302387.py][line:32][INFO] ORIGINAL:  I will do no such thing.\n",
      "[2025-01-20 01:20:03,509][835302387.py][line:33][INFO] FORMATTED:  I WILL DO NO SUCH THING\n"
     ]
    },
    {
     "name": "stdout",
     "output_type": "stream",
     "text": [
      "File 328 of 557\r"
     ]
    },
    {
     "name": "stderr",
     "output_type": "stream",
     "text": [
      "[2025-01-20 01:20:04,110][835302387.py][line:31][INFO] Transcription of file 329 has been formatted\n",
      "[2025-01-20 01:20:04,110][835302387.py][line:32][INFO] ORIGINAL:  Turn it off! It's driving me mad.\n",
      "[2025-01-20 01:20:04,110][835302387.py][line:33][INFO] FORMATTED:  TURN IT OFF  IT'S DRIVING ME MAD\n"
     ]
    },
    {
     "name": "stdout",
     "output_type": "stream",
     "text": [
      "File 329 of 557\r"
     ]
    },
    {
     "name": "stderr",
     "output_type": "stream",
     "text": [
      "[2025-01-20 01:20:04,484][835302387.py][line:31][INFO] Transcription of file 330 has been formatted\n",
      "[2025-01-20 01:20:04,484][835302387.py][line:32][INFO] ORIGINAL:  Turn it off.\n",
      "[2025-01-20 01:20:04,484][835302387.py][line:33][INFO] FORMATTED:  TURN IT OFF\n"
     ]
    },
    {
     "name": "stdout",
     "output_type": "stream",
     "text": [
      "File 330 of 557\r"
     ]
    },
    {
     "name": "stderr",
     "output_type": "stream",
     "text": [
      "[2025-01-20 01:20:04,943][835302387.py][line:31][INFO] Transcription of file 331 has been formatted\n",
      "[2025-01-20 01:20:04,943][835302387.py][line:32][INFO] ORIGINAL:  Amanda, listen. Listen!\n",
      "[2025-01-20 01:20:04,943][835302387.py][line:33][INFO] FORMATTED:  AMANDA  LISTEN LISTEN \n"
     ]
    },
    {
     "name": "stdout",
     "output_type": "stream",
     "text": [
      "File 331 of 557\r"
     ]
    },
    {
     "name": "stderr",
     "output_type": "stream",
     "text": [
      "[2025-01-20 01:20:05,462][835302387.py][line:31][INFO] Transcription of file 332 has been formatted\n",
      "[2025-01-20 01:20:05,462][835302387.py][line:32][INFO] ORIGINAL:  Oh, that's very amusing indeed.\n",
      "[2025-01-20 01:20:05,462][835302387.py][line:33][INFO] FORMATTED:  OH  THAT'S VERY AMUSING INDEED\n"
     ]
    },
    {
     "name": "stdout",
     "output_type": "stream",
     "text": [
      "File 332 of 557\r"
     ]
    },
    {
     "name": "stderr",
     "output_type": "stream",
     "text": [
      "[2025-01-20 01:20:07,109][835302387.py][line:31][INFO] Transcription of file 333 has been formatted\n",
      "[2025-01-20 01:20:07,112][835302387.py][line:32][INFO] ORIGINAL:  You're conceited. You're overbearing. You're utterly impossible. You're an evil-minded, self-centered little wench. I never want to see you again.\n",
      "[2025-01-20 01:20:07,112][835302387.py][line:33][INFO] FORMATTED:  YOU'RE CONCEITED YOU'RE OVERBEARING YOU'RE UTTERLY IMPOSSIBLE YOU'RE AN EVIL MINDED  SELF CENTERED LITTLE WENCH I NEVER WANT TO SEE YOU AGAIN\n"
     ]
    },
    {
     "name": "stdout",
     "output_type": "stream",
     "text": [
      "File 333 of 557\r"
     ]
    },
    {
     "name": "stderr",
     "output_type": "stream",
     "text": [
      "[2025-01-20 01:20:07,578][835302387.py][line:31][INFO] Transcription of file 334 has been formatted\n",
      "[2025-01-20 01:20:07,594][835302387.py][line:32][INFO] ORIGINAL:  You're not going like this.\n",
      "[2025-01-20 01:20:07,594][835302387.py][line:33][INFO] FORMATTED:  YOU'RE NOT GOING LIKE THIS\n"
     ]
    },
    {
     "name": "stdout",
     "output_type": "stream",
     "text": [
      "File 334 of 557\r"
     ]
    },
    {
     "name": "stderr",
     "output_type": "stream",
     "text": [
      "[2025-01-20 01:20:08,210][835302387.py][line:31][INFO] Transcription of file 335 has been formatted\n",
      "[2025-01-20 01:20:08,210][835302387.py][line:32][INFO] ORIGINAL:  Yes, I am. No, you're not.\n",
      "[2025-01-20 01:20:08,210][835302387.py][line:33][INFO] FORMATTED:  YES  I AM NO  YOU'RE NOT\n"
     ]
    },
    {
     "name": "stdout",
     "output_type": "stream",
     "text": [
      "File 335 of 557\r"
     ]
    },
    {
     "name": "stderr",
     "output_type": "stream",
     "text": [
      "[2025-01-20 01:20:10,061][835302387.py][line:31][INFO] Transcription of file 336 has been formatted\n",
      "[2025-01-20 01:20:10,061][835302387.py][line:32][INFO] ORIGINAL:  but not shut up you you're you I would marry you again if you came crawling back to me on a bended knee you are an evil temple vampire and I never want to see you again as long as I live\n",
      "[2025-01-20 01:20:10,061][835302387.py][line:33][INFO] FORMATTED:  BUT NOT SHUT UP YOU YOU'RE YOU I WOULD MARRY YOU AGAIN IF YOU CAME CRAWLING BACK TO ME ON A BENDED KNEE YOU ARE AN EVIL TEMPLE VAMPIRE AND I NEVER WANT TO SEE YOU AGAIN AS LONG AS I LIVE\n"
     ]
    },
    {
     "name": "stdout",
     "output_type": "stream",
     "text": [
      "File 336 of 557\r"
     ]
    },
    {
     "name": "stderr",
     "output_type": "stream",
     "text": [
      "[2025-01-20 01:20:10,572][835302387.py][line:31][INFO] Transcription of file 337 has been formatted\n",
      "[2025-01-20 01:20:10,572][835302387.py][line:32][INFO] ORIGINAL:  Did you get the letter? Yeah!\n",
      "[2025-01-20 01:20:10,572][835302387.py][line:33][INFO] FORMATTED:  DID YOU GET THE LETTER  YEAH \n"
     ]
    },
    {
     "name": "stdout",
     "output_type": "stream",
     "text": [
      "File 337 of 557\r"
     ]
    },
    {
     "name": "stderr",
     "output_type": "stream",
     "text": [
      "[2025-01-20 01:20:10,843][835302387.py][line:31][INFO] Transcription of file 338 has been formatted\n",
      "[2025-01-20 01:20:10,843][835302387.py][line:32][INFO] ORIGINAL:  Yeah\n",
      "[2025-01-20 01:20:10,843][835302387.py][line:33][INFO] FORMATTED:  YEAH\n"
     ]
    },
    {
     "name": "stdout",
     "output_type": "stream",
     "text": [
      "File 338 of 557\r"
     ]
    },
    {
     "name": "stderr",
     "output_type": "stream",
     "text": [
      "[2025-01-20 01:20:11,430][835302387.py][line:31][INFO] Transcription of file 339 has been formatted\n",
      "[2025-01-20 01:20:11,430][835302387.py][line:32][INFO] ORIGINAL:  Oh my god! What are you gonna do?\n",
      "[2025-01-20 01:20:11,430][835302387.py][line:33][INFO] FORMATTED:  OH MY GOD  WHAT ARE YOU GONNA DO \n"
     ]
    },
    {
     "name": "stdout",
     "output_type": "stream",
     "text": [
      "File 339 of 557\r"
     ]
    },
    {
     "name": "stderr",
     "output_type": "stream",
     "text": [
      "[2025-01-20 01:20:12,865][835302387.py][line:31][INFO] Transcription of file 340 has been formatted\n",
      "[2025-01-20 01:20:12,866][835302387.py][line:32][INFO] ORIGINAL:  I bet you're really excited. I don't have to pay for anything. Oh, that's what loans are for, right? Yeah, loans. Exactly.\n",
      "[2025-01-20 01:20:12,867][835302387.py][line:33][INFO] FORMATTED:  I BET YOU'RE REALLY EXCITED I DON'T HAVE TO PAY FOR ANYTHING OH  THAT'S WHAT LOANS ARE FOR  RIGHT  YEAH  LOANS EXACTLY\n"
     ]
    },
    {
     "name": "stdout",
     "output_type": "stream",
     "text": [
      "File 340 of 557\r"
     ]
    },
    {
     "name": "stderr",
     "output_type": "stream",
     "text": [
      "[2025-01-20 01:20:14,412][835302387.py][line:31][INFO] Transcription of file 341 has been formatted\n",
      "[2025-01-20 01:20:14,412][835302387.py][line:32][INFO] ORIGINAL:  Oh good, good. That's awesome. Are you going to stay around here or are you going to get a different neighborhood? Are you going to move to a different neighborhood?\n",
      "[2025-01-20 01:20:14,412][835302387.py][line:33][INFO] FORMATTED:  OH GOOD  GOOD THAT'S AWESOME ARE YOU GOING TO STAY AROUND HERE OR ARE YOU GOING TO GET A DIFFERENT NEIGHBORHOOD  ARE YOU GOING TO MOVE TO A DIFFERENT NEIGHBORHOOD \n"
     ]
    },
    {
     "name": "stdout",
     "output_type": "stream",
     "text": [
      "File 341 of 557\r"
     ]
    },
    {
     "name": "stderr",
     "output_type": "stream",
     "text": [
      "[2025-01-20 01:20:15,336][835302387.py][line:31][INFO] Transcription of file 342 has been formatted\n",
      "[2025-01-20 01:20:15,336][835302387.py][line:32][INFO] ORIGINAL:  This is so I'm so happy you're gonna stay you're not we should totally throw a party\n",
      "[2025-01-20 01:20:15,336][835302387.py][line:33][INFO] FORMATTED:  THIS IS SO I'M SO HAPPY YOU'RE GONNA STAY YOU'RE NOT WE SHOULD TOTALLY THROW A PARTY\n"
     ]
    },
    {
     "name": "stdout",
     "output_type": "stream",
     "text": [
      "File 342 of 557\r"
     ]
    },
    {
     "name": "stderr",
     "output_type": "stream",
     "text": [
      "[2025-01-20 01:20:15,818][835302387.py][line:31][INFO] Transcription of file 343 has been formatted\n",
      "[2025-01-20 01:20:15,818][835302387.py][line:32][INFO] ORIGINAL:  A rapper party ho. Yay!\n",
      "[2025-01-20 01:20:15,818][835302387.py][line:33][INFO] FORMATTED:  A RAPPER PARTY HO YAY \n"
     ]
    },
    {
     "name": "stdout",
     "output_type": "stream",
     "text": [
      "File 343 of 557\r"
     ]
    },
    {
     "name": "stderr",
     "output_type": "stream",
     "text": [
      "[2025-01-20 01:20:17,546][835302387.py][line:31][INFO] Transcription of file 344 has been formatted\n",
      "[2025-01-20 01:20:17,546][835302387.py][line:32][INFO] ORIGINAL:  I'm just yeah, I'm sticking around. I'm just doing my thing. I'm living here. I'm so glad you're staying. I'm so glad you're gonna be here. Yeah\n",
      "[2025-01-20 01:20:17,546][835302387.py][line:33][INFO] FORMATTED:  I'M JUST YEAH  I'M STICKING AROUND I'M JUST DOING MY THING I'M LIVING HERE I'M SO GLAD YOU'RE STAYING I'M SO GLAD YOU'RE GONNA BE HERE YEAH\n"
     ]
    },
    {
     "name": "stdout",
     "output_type": "stream",
     "text": [
      "File 344 of 557\r"
     ]
    },
    {
     "name": "stderr",
     "output_type": "stream",
     "text": [
      "[2025-01-20 01:20:17,958][835302387.py][line:31][INFO] Transcription of file 345 has been formatted\n",
      "[2025-01-20 01:20:17,958][835302387.py][line:32][INFO] ORIGINAL:  Yeah, big time.\n",
      "[2025-01-20 01:20:17,958][835302387.py][line:33][INFO] FORMATTED:  YEAH  BIG TIME\n"
     ]
    },
    {
     "name": "stdout",
     "output_type": "stream",
     "text": [
      "File 345 of 557\r"
     ]
    },
    {
     "name": "stderr",
     "output_type": "stream",
     "text": [
      "[2025-01-20 01:20:18,546][835302387.py][line:31][INFO] Transcription of file 346 has been formatted\n",
      "[2025-01-20 01:20:18,546][835302387.py][line:32][INFO] ORIGINAL:  So what's major? What are you doing?\n",
      "[2025-01-20 01:20:18,546][835302387.py][line:33][INFO] FORMATTED:  SO WHAT'S MAJOR  WHAT ARE YOU DOING \n"
     ]
    },
    {
     "name": "stdout",
     "output_type": "stream",
     "text": [
      "File 346 of 557\r"
     ]
    },
    {
     "name": "stderr",
     "output_type": "stream",
     "text": [
      "[2025-01-20 01:20:19,253][835302387.py][line:31][INFO] Transcription of file 347 has been formatted\n",
      "[2025-01-20 01:20:19,269][835302387.py][line:32][INFO] ORIGINAL:  Is this a master's or a PhD? PhD. Nice.\n",
      "[2025-01-20 01:20:19,269][835302387.py][line:33][INFO] FORMATTED:  IS THIS A MASTER'S OR A PHD  PHD NICE\n"
     ]
    },
    {
     "name": "stdout",
     "output_type": "stream",
     "text": [
      "File 347 of 557\r"
     ]
    },
    {
     "name": "stderr",
     "output_type": "stream",
     "text": [
      "[2025-01-20 01:20:20,133][835302387.py][line:31][INFO] Transcription of file 348 has been formatted\n",
      "[2025-01-20 01:20:20,149][835302387.py][line:32][INFO] ORIGINAL:  That's good. Don't you have to teach a class too when you do that?\n",
      "[2025-01-20 01:20:20,149][835302387.py][line:33][INFO] FORMATTED:  THAT'S GOOD DON'T YOU HAVE TO TEACH A CLASS TOO WHEN YOU DO THAT \n"
     ]
    },
    {
     "name": "stdout",
     "output_type": "stream",
     "text": [
      "File 348 of 557\r"
     ]
    },
    {
     "name": "stderr",
     "output_type": "stream",
     "text": [
      "[2025-01-20 01:20:20,836][835302387.py][line:31][INFO] Transcription of file 349 has been formatted\n",
      "[2025-01-20 01:20:20,836][835302387.py][line:32][INFO] ORIGINAL:  Teacher! Mrs. Nash, I request your- Mrs.?!\n",
      "[2025-01-20 01:20:20,836][835302387.py][line:33][INFO] FORMATTED:  TEACHER  MRS NASH  I REQUEST YOUR  MRS  \n"
     ]
    },
    {
     "name": "stdout",
     "output_type": "stream",
     "text": [
      "File 349 of 557\r"
     ]
    },
    {
     "name": "stderr",
     "output_type": "stream",
     "text": [
      "[2025-01-20 01:20:22,335][835302387.py][line:31][INFO] Transcription of file 350 has been formatted\n",
      "[2025-01-20 01:20:22,335][835302387.py][line:32][INFO] ORIGINAL:  You have to get married. Well, you are married. Chuck. You're Mrs. Nash. I'm too confused with Mrs. Dash, which is the popular seasoning.\n",
      "[2025-01-20 01:20:22,335][835302387.py][line:33][INFO] FORMATTED:  YOU HAVE TO GET MARRIED WELL  YOU ARE MARRIED CHUCK YOU'RE MRS NASH I'M TOO CONFUSED WITH MRS DASH  WHICH IS THE POPULAR SEASONING\n"
     ]
    },
    {
     "name": "stdout",
     "output_type": "stream",
     "text": [
      "File 350 of 557\r"
     ]
    },
    {
     "name": "stderr",
     "output_type": "stream",
     "text": [
      "[2025-01-20 01:20:22,779][835302387.py][line:31][INFO] Transcription of file 351 has been formatted\n",
      "[2025-01-20 01:20:22,779][835302387.py][line:32][INFO] ORIGINAL:  Yay, school's fun.\n",
      "[2025-01-20 01:20:22,779][835302387.py][line:33][INFO] FORMATTED:  YAY  SCHOOL'S FUN\n"
     ]
    },
    {
     "name": "stdout",
     "output_type": "stream",
     "text": [
      "File 351 of 557\r"
     ]
    },
    {
     "name": "stderr",
     "output_type": "stream",
     "text": [
      "[2025-01-20 01:20:23,639][835302387.py][line:31][INFO] Transcription of file 352 has been formatted\n",
      "[2025-01-20 01:20:23,639][835302387.py][line:32][INFO] ORIGINAL:  Of course, right? That's what the real money is, being a student.\n",
      "[2025-01-20 01:20:23,639][835302387.py][line:33][INFO] FORMATTED:  OF COURSE  RIGHT  THAT'S WHAT THE REAL MONEY IS  BEING A STUDENT\n"
     ]
    },
    {
     "name": "stdout",
     "output_type": "stream",
     "text": [
      "File 352 of 557\r"
     ]
    },
    {
     "name": "stderr",
     "output_type": "stream",
     "text": [
      "[2025-01-20 01:20:24,752][835302387.py][line:31][INFO] Transcription of file 353 has been formatted\n",
      "[2025-01-20 01:20:24,752][835302387.py][line:32][INFO] ORIGINAL:  That's how you get the big bucks. What are you messing with the chair? I'm going to ruin it.\n",
      "[2025-01-20 01:20:24,752][835302387.py][line:33][INFO] FORMATTED:  THAT'S HOW YOU GET THE BIG BUCKS WHAT ARE YOU MESSING WITH THE CHAIR  I'M GOING TO RUIN IT\n"
     ]
    },
    {
     "name": "stdout",
     "output_type": "stream",
     "text": [
      "File 353 of 557\r"
     ]
    },
    {
     "name": "stderr",
     "output_type": "stream",
     "text": [
      "[2025-01-20 01:20:25,304][835302387.py][line:31][INFO] Transcription of file 354 has been formatted\n",
      "[2025-01-20 01:20:25,319][835302387.py][line:32][INFO] ORIGINAL:  Yeah. I'm just, you know.\n",
      "[2025-01-20 01:20:25,319][835302387.py][line:33][INFO] FORMATTED:  YEAH I'M JUST  YOU KNOW\n"
     ]
    },
    {
     "name": "stdout",
     "output_type": "stream",
     "text": [
      "File 354 of 557\r"
     ]
    },
    {
     "name": "stderr",
     "output_type": "stream",
     "text": [
      "[2025-01-20 01:20:25,920][835302387.py][line:31][INFO] Transcription of file 355 has been formatted\n",
      "[2025-01-20 01:20:25,920][835302387.py][line:32][INFO] ORIGINAL:  I just kind of feel numb, you know?\n",
      "[2025-01-20 01:20:25,920][835302387.py][line:33][INFO] FORMATTED:  I JUST KIND OF FEEL NUMB  YOU KNOW \n"
     ]
    },
    {
     "name": "stdout",
     "output_type": "stream",
     "text": [
      "File 355 of 557\r"
     ]
    },
    {
     "name": "stderr",
     "output_type": "stream",
     "text": [
      "[2025-01-20 01:20:26,335][835302387.py][line:31][INFO] Transcription of file 356 has been formatted\n",
      "[2025-01-20 01:20:26,335][835302387.py][line:32][INFO] ORIGINAL:  You didn't hear?\n",
      "[2025-01-20 01:20:26,335][835302387.py][line:33][INFO] FORMATTED:  YOU DIDN'T HEAR \n"
     ]
    },
    {
     "name": "stdout",
     "output_type": "stream",
     "text": [
      "File 356 of 557\r"
     ]
    },
    {
     "name": "stderr",
     "output_type": "stream",
     "text": [
      "[2025-01-20 01:20:26,639][835302387.py][line:31][INFO] Transcription of file 357 has been formatted\n",
      "[2025-01-20 01:20:26,639][835302387.py][line:32][INFO] ORIGINAL:  Um...\n",
      "[2025-01-20 01:20:26,639][835302387.py][line:33][INFO] FORMATTED:  UM\n"
     ]
    },
    {
     "name": "stdout",
     "output_type": "stream",
     "text": [
      "File 357 of 557\r"
     ]
    },
    {
     "name": "stderr",
     "output_type": "stream",
     "text": [
      "[2025-01-20 01:20:27,285][835302387.py][line:31][INFO] Transcription of file 358 has been formatted\n",
      "[2025-01-20 01:20:27,286][835302387.py][line:32][INFO] ORIGINAL:  God, I've told this story so many times.\n",
      "[2025-01-20 01:20:27,287][835302387.py][line:33][INFO] FORMATTED:  GOD  I'VE TOLD THIS STORY SO MANY TIMES\n"
     ]
    },
    {
     "name": "stdout",
     "output_type": "stream",
     "text": [
      "File 358 of 557\r"
     ]
    },
    {
     "name": "stderr",
     "output_type": "stream",
     "text": [
      "[2025-01-20 01:20:27,944][835302387.py][line:31][INFO] Transcription of file 359 has been formatted\n",
      "[2025-01-20 01:20:27,944][835302387.py][line:32][INFO] ORIGINAL:  I just basically lost someone that was really close to me.\n",
      "[2025-01-20 01:20:27,944][835302387.py][line:33][INFO] FORMATTED:  I JUST BASICALLY LOST SOMEONE THAT WAS REALLY CLOSE TO ME\n"
     ]
    },
    {
     "name": "stdout",
     "output_type": "stream",
     "text": [
      "File 359 of 557\r"
     ]
    },
    {
     "name": "stderr",
     "output_type": "stream",
     "text": [
      "[2025-01-20 01:20:29,031][835302387.py][line:31][INFO] Transcription of file 360 has been formatted\n",
      "[2025-01-20 01:20:29,031][835302387.py][line:32][INFO] ORIGINAL:  And I've kind of been dealing with all of the stuff, you know, the hospital and people work because...\n",
      "[2025-01-20 01:20:29,031][835302387.py][line:33][INFO] FORMATTED:  AND I'VE KIND OF BEEN DEALING WITH ALL OF THE STUFF  YOU KNOW  THE HOSPITAL AND PEOPLE WORK BECAUSE\n"
     ]
    },
    {
     "name": "stdout",
     "output_type": "stream",
     "text": [
      "File 360 of 557\r"
     ]
    },
    {
     "name": "stderr",
     "output_type": "stream",
     "text": [
      "[2025-01-20 01:20:29,804][835302387.py][line:31][INFO] Transcription of file 361 has been formatted\n",
      "[2025-01-20 01:20:29,804][835302387.py][line:32][INFO] ORIGINAL:  He kind of didn't have anyone to take care of that for him.\n",
      "[2025-01-20 01:20:29,804][835302387.py][line:33][INFO] FORMATTED:  HE KIND OF DIDN'T HAVE ANYONE TO TAKE CARE OF THAT FOR HIM\n"
     ]
    },
    {
     "name": "stdout",
     "output_type": "stream",
     "text": [
      "File 361 of 557\r"
     ]
    },
    {
     "name": "stderr",
     "output_type": "stream",
     "text": [
      "[2025-01-20 01:20:30,373][835302387.py][line:31][INFO] Transcription of file 362 has been formatted\n",
      "[2025-01-20 01:20:30,373][835302387.py][line:32][INFO] ORIGINAL:  It's just really, really messed up.\n",
      "[2025-01-20 01:20:30,373][835302387.py][line:33][INFO] FORMATTED:  IT'S JUST REALLY  REALLY MESSED UP\n"
     ]
    },
    {
     "name": "stdout",
     "output_type": "stream",
     "text": [
      "File 362 of 557\r"
     ]
    },
    {
     "name": "stderr",
     "output_type": "stream",
     "text": [
      "[2025-01-20 01:20:30,674][835302387.py][line:31][INFO] Transcription of file 363 has been formatted\n",
      "[2025-01-20 01:20:30,674][835302387.py][line:32][INFO] ORIGINAL:  No.\n",
      "[2025-01-20 01:20:30,674][835302387.py][line:33][INFO] FORMATTED:  NO\n"
     ]
    },
    {
     "name": "stdout",
     "output_type": "stream",
     "text": [
      "File 363 of 557\r"
     ]
    },
    {
     "name": "stderr",
     "output_type": "stream",
     "text": [
      "[2025-01-20 01:20:31,041][835302387.py][line:31][INFO] Transcription of file 364 has been formatted\n",
      "[2025-01-20 01:20:31,041][835302387.py][line:32][INFO] ORIGINAL:  Just like you.\n",
      "[2025-01-20 01:20:31,057][835302387.py][line:33][INFO] FORMATTED:  JUST LIKE YOU\n"
     ]
    },
    {
     "name": "stdout",
     "output_type": "stream",
     "text": [
      "File 364 of 557\r"
     ]
    },
    {
     "name": "stderr",
     "output_type": "stream",
     "text": [
      "[2025-01-20 01:20:32,326][835302387.py][line:31][INFO] Transcription of file 365 has been formatted\n",
      "[2025-01-20 01:20:32,326][835302387.py][line:32][INFO] ORIGINAL:  No, I mean, it just came on really quick, you know, I mean, it was a sickness, but it just kind of...\n",
      "[2025-01-20 01:20:32,326][835302387.py][line:33][INFO] FORMATTED:  NO  I MEAN  IT JUST CAME ON REALLY QUICK  YOU KNOW  I MEAN  IT WAS A SICKNESS  BUT IT JUST KIND OF\n"
     ]
    },
    {
     "name": "stdout",
     "output_type": "stream",
     "text": [
      "File 365 of 557\r"
     ]
    },
    {
     "name": "stderr",
     "output_type": "stream",
     "text": [
      "[2025-01-20 01:20:32,623][835302387.py][line:31][INFO] Transcription of file 366 has been formatted\n",
      "[2025-01-20 01:20:32,623][835302387.py][line:32][INFO] ORIGINAL:  What?\n",
      "[2025-01-20 01:20:32,623][835302387.py][line:33][INFO] FORMATTED:  WHAT \n"
     ]
    },
    {
     "name": "stdout",
     "output_type": "stream",
     "text": [
      "File 366 of 557\r"
     ]
    },
    {
     "name": "stderr",
     "output_type": "stream",
     "text": [
      "[2025-01-20 01:20:33,435][835302387.py][line:31][INFO] Transcription of file 367 has been formatted\n",
      "[2025-01-20 01:20:33,435][835302387.py][line:32][INFO] ORIGINAL:  He was sick. He got sick, but it happened really, really fast.\n",
      "[2025-01-20 01:20:33,435][835302387.py][line:33][INFO] FORMATTED:  HE WAS SICK HE GOT SICK  BUT IT HAPPENED REALLY  REALLY FAST\n"
     ]
    },
    {
     "name": "stdout",
     "output_type": "stream",
     "text": [
      "File 367 of 557\r"
     ]
    },
    {
     "name": "stderr",
     "output_type": "stream",
     "text": [
      "[2025-01-20 01:20:34,103][835302387.py][line:31][INFO] Transcription of file 368 has been formatted\n",
      "[2025-01-20 01:20:34,103][835302387.py][line:32][INFO] ORIGINAL:  And it was kind of like, boom. Done.\n",
      "[2025-01-20 01:20:34,103][835302387.py][line:33][INFO] FORMATTED:  AND IT WAS KIND OF LIKE  BOOM DONE\n"
     ]
    },
    {
     "name": "stdout",
     "output_type": "stream",
     "text": [
      "File 368 of 557\r"
     ]
    },
    {
     "name": "stderr",
     "output_type": "stream",
     "text": [
      "[2025-01-20 01:20:35,022][835302387.py][line:31][INFO] Transcription of file 369 has been formatted\n",
      "[2025-01-20 01:20:35,022][835302387.py][line:32][INFO] ORIGINAL:  It's just really weird because he was really young, you know, and it kind of like...\n",
      "[2025-01-20 01:20:35,022][835302387.py][line:33][INFO] FORMATTED:  IT'S JUST REALLY WEIRD BECAUSE HE WAS REALLY YOUNG  YOU KNOW  AND IT KIND OF LIKE\n"
     ]
    },
    {
     "name": "stdout",
     "output_type": "stream",
     "text": [
      "File 369 of 557\r"
     ]
    },
    {
     "name": "stderr",
     "output_type": "stream",
     "text": [
      "[2025-01-20 01:20:35,584][835302387.py][line:31][INFO] Transcription of file 370 has been formatted\n",
      "[2025-01-20 01:20:35,585][835302387.py][line:32][INFO] ORIGINAL:  It just kind of freaks you out.\n",
      "[2025-01-20 01:20:35,586][835302387.py][line:33][INFO] FORMATTED:  IT JUST KIND OF FREAKS YOU OUT\n"
     ]
    },
    {
     "name": "stdout",
     "output_type": "stream",
     "text": [
      "File 370 of 557\r"
     ]
    },
    {
     "name": "stderr",
     "output_type": "stream",
     "text": [
      "[2025-01-20 01:20:38,928][835302387.py][line:31][INFO] Transcription of file 371 has been formatted\n",
      "[2025-01-20 01:20:38,928][835302387.py][line:32][INFO] ORIGINAL:  It's so weird, you know, that like one day it's like, you know, it sounds so stupid, but like one day someone's here. Mm-hmm. And like next day, you know, they're not here. And it just kind of makes you like think about like life and mortality and like the kind of stuff you just like just need to take for granted, you know. Mm-hmm.\n",
      "[2025-01-20 01:20:38,928][835302387.py][line:33][INFO] FORMATTED:  IT'S SO WEIRD  YOU KNOW  THAT LIKE ONE DAY IT'S LIKE  YOU KNOW  IT SOUNDS SO STUPID  BUT LIKE ONE DAY SOMEONE'S HERE MM HMM AND LIKE NEXT DAY  YOU KNOW  THEY'RE NOT HERE AND IT JUST KIND OF MAKES YOU LIKE THINK ABOUT LIKE LIFE AND MORTALITY AND LIKE THE KIND OF STUFF YOU JUST LIKE JUST NEED TO TAKE FOR GRANTED  YOU KNOW MM HMM\n"
     ]
    },
    {
     "name": "stdout",
     "output_type": "stream",
     "text": [
      "File 371 of 557\r"
     ]
    },
    {
     "name": "stderr",
     "output_type": "stream",
     "text": [
      "[2025-01-20 01:20:39,820][835302387.py][line:31][INFO] Transcription of file 372 has been formatted\n",
      "[2025-01-20 01:20:39,820][835302387.py][line:32][INFO] ORIGINAL:  Exactly, you know, and he had so many plans he was going to do.\n",
      "[2025-01-20 01:20:39,820][835302387.py][line:33][INFO] FORMATTED:  EXACTLY  YOU KNOW  AND HE HAD SO MANY PLANS HE WAS GOING TO DO\n"
     ]
    },
    {
     "name": "stdout",
     "output_type": "stream",
     "text": [
      "File 372 of 557\r"
     ]
    },
    {
     "name": "stderr",
     "output_type": "stream",
     "text": [
      "[2025-01-20 01:20:40,317][835302387.py][line:31][INFO] Transcription of file 373 has been formatted\n",
      "[2025-01-20 01:20:40,317][835302387.py][line:32][INFO] ORIGINAL:  So many things, you know.\n",
      "[2025-01-20 01:20:40,317][835302387.py][line:33][INFO] FORMATTED:  SO MANY THINGS  YOU KNOW\n"
     ]
    },
    {
     "name": "stdout",
     "output_type": "stream",
     "text": [
      "File 373 of 557\r"
     ]
    },
    {
     "name": "stderr",
     "output_type": "stream",
     "text": [
      "[2025-01-20 01:20:40,625][835302387.py][line:31][INFO] Transcription of file 374 has been formatted\n",
      "[2025-01-20 01:20:40,625][835302387.py][line:32][INFO] ORIGINAL:  What?\n",
      "[2025-01-20 01:20:40,625][835302387.py][line:33][INFO] FORMATTED:  WHAT \n"
     ]
    },
    {
     "name": "stdout",
     "output_type": "stream",
     "text": [
      "File 374 of 557\r"
     ]
    },
    {
     "name": "stderr",
     "output_type": "stream",
     "text": [
      "[2025-01-20 01:20:40,883][835302387.py][line:31][INFO] Transcription of file 375 has been formatted\n",
      "[2025-01-20 01:20:40,883][835302387.py][line:32][INFO] ORIGINAL:  yeah\n",
      "[2025-01-20 01:20:40,883][835302387.py][line:33][INFO] FORMATTED:  YEAH\n"
     ]
    },
    {
     "name": "stdout",
     "output_type": "stream",
     "text": [
      "File 375 of 557\r"
     ]
    },
    {
     "name": "stderr",
     "output_type": "stream",
     "text": [
      "[2025-01-20 01:20:41,442][835302387.py][line:31][INFO] Transcription of file 376 has been formatted\n",
      "[2025-01-20 01:20:41,442][835302387.py][line:32][INFO] ORIGINAL:  He was a really, really good guy.\n",
      "[2025-01-20 01:20:41,442][835302387.py][line:33][INFO] FORMATTED:  HE WAS A REALLY  REALLY GOOD GUY\n"
     ]
    },
    {
     "name": "stdout",
     "output_type": "stream",
     "text": [
      "File 376 of 557\r"
     ]
    },
    {
     "name": "stderr",
     "output_type": "stream",
     "text": [
      "[2025-01-20 01:20:41,922][835302387.py][line:31][INFO] Transcription of file 377 has been formatted\n",
      "[2025-01-20 01:20:41,922][835302387.py][line:32][INFO] ORIGINAL:  A lot of people loved him.\n",
      "[2025-01-20 01:20:41,922][835302387.py][line:33][INFO] FORMATTED:  A LOT OF PEOPLE LOVED HIM\n"
     ]
    },
    {
     "name": "stdout",
     "output_type": "stream",
     "text": [
      "File 377 of 557\r"
     ]
    },
    {
     "name": "stderr",
     "output_type": "stream",
     "text": [
      "[2025-01-20 01:20:42,669][835302387.py][line:31][INFO] Transcription of file 378 has been formatted\n",
      "[2025-01-20 01:20:42,669][835302387.py][line:32][INFO] ORIGINAL:  It's affecting a lot of people, it's not just me.\n",
      "[2025-01-20 01:20:42,669][835302387.py][line:33][INFO] FORMATTED:  IT'S AFFECTING A LOT OF PEOPLE  IT'S NOT JUST ME\n"
     ]
    },
    {
     "name": "stdout",
     "output_type": "stream",
     "text": [
      "File 378 of 557\r"
     ]
    },
    {
     "name": "stderr",
     "output_type": "stream",
     "text": [
      "[2025-01-20 01:20:42,978][835302387.py][line:31][INFO] Transcription of file 379 has been formatted\n",
      "[2025-01-20 01:20:42,978][835302387.py][line:32][INFO] ORIGINAL:  Um...\n",
      "[2025-01-20 01:20:42,978][835302387.py][line:33][INFO] FORMATTED:  UM\n"
     ]
    },
    {
     "name": "stdout",
     "output_type": "stream",
     "text": [
      "File 379 of 557\r"
     ]
    },
    {
     "name": "stderr",
     "output_type": "stream",
     "text": [
      "[2025-01-20 01:20:43,388][835302387.py][line:31][INFO] Transcription of file 380 has been formatted\n",
      "[2025-01-20 01:20:43,388][835302387.py][line:32][INFO] ORIGINAL:  For like eight years.\n",
      "[2025-01-20 01:20:43,388][835302387.py][line:33][INFO] FORMATTED:  FOR LIKE EIGHT YEARS\n"
     ]
    },
    {
     "name": "stdout",
     "output_type": "stream",
     "text": [
      "File 380 of 557\r"
     ]
    },
    {
     "name": "stderr",
     "output_type": "stream",
     "text": [
      "[2025-01-20 01:20:43,695][835302387.py][line:31][INFO] Transcription of file 381 has been formatted\n",
      "[2025-01-20 01:20:43,696][835302387.py][line:32][INFO] ORIGINAL:  Yeah.\n",
      "[2025-01-20 01:20:43,697][835302387.py][line:33][INFO] FORMATTED:  YEAH\n"
     ]
    },
    {
     "name": "stdout",
     "output_type": "stream",
     "text": [
      "File 381 of 557\r"
     ]
    },
    {
     "name": "stderr",
     "output_type": "stream",
     "text": [
      "[2025-01-20 01:20:44,468][835302387.py][line:31][INFO] Transcription of file 382 has been formatted\n",
      "[2025-01-20 01:20:44,468][835302387.py][line:32][INFO] ORIGINAL:  I'm glad I was there, I'm glad I got to be there\n",
      "[2025-01-20 01:20:44,468][835302387.py][line:33][INFO] FORMATTED:  I'M GLAD I WAS THERE  I'M GLAD I GOT TO BE THERE\n"
     ]
    },
    {
     "name": "stdout",
     "output_type": "stream",
     "text": [
      "File 382 of 557\r"
     ]
    },
    {
     "name": "stderr",
     "output_type": "stream",
     "text": [
      "[2025-01-20 01:20:44,821][835302387.py][line:31][INFO] Transcription of file 383 has been formatted\n",
      "[2025-01-20 01:20:44,821][835302387.py][line:32][INFO] ORIGINAL:  So weird.\n",
      "[2025-01-20 01:20:44,821][835302387.py][line:33][INFO] FORMATTED:  SO WEIRD\n"
     ]
    },
    {
     "name": "stdout",
     "output_type": "stream",
     "text": [
      "File 383 of 557\r"
     ]
    },
    {
     "name": "stderr",
     "output_type": "stream",
     "text": [
      "[2025-01-20 01:20:46,850][835302387.py][line:31][INFO] Transcription of file 384 has been formatted\n",
      "[2025-01-20 01:20:46,850][835302387.py][line:32][INFO] ORIGINAL:  Like, I can't believe, it's like, you know, it's like, you just, like, pinch me. It's like, I can't believe, like, I'm dealing with this, you know? Mm-hmm.\n",
      "[2025-01-20 01:20:46,850][835302387.py][line:33][INFO] FORMATTED:  LIKE  I CAN'T BELIEVE  IT'S LIKE  YOU KNOW  IT'S LIKE  YOU JUST  LIKE  PINCH ME IT'S LIKE  I CAN'T BELIEVE  LIKE  I'M DEALING WITH THIS  YOU KNOW  MM HMM\n"
     ]
    },
    {
     "name": "stdout",
     "output_type": "stream",
     "text": [
      "File 384 of 557\r"
     ]
    },
    {
     "name": "stderr",
     "output_type": "stream",
     "text": [
      "[2025-01-20 01:20:47,229][835302387.py][line:31][INFO] Transcription of file 385 has been formatted\n",
      "[2025-01-20 01:20:47,229][835302387.py][line:32][INFO] ORIGINAL:  Yes, Jones.\n",
      "[2025-01-20 01:20:47,229][835302387.py][line:33][INFO] FORMATTED:  YES  JONES\n"
     ]
    },
    {
     "name": "stdout",
     "output_type": "stream",
     "text": [
      "File 385 of 557\r"
     ]
    },
    {
     "name": "stderr",
     "output_type": "stream",
     "text": [
      "[2025-01-20 01:20:47,785][835302387.py][line:31][INFO] Transcription of file 386 has been formatted\n",
      "[2025-01-20 01:20:47,785][835302387.py][line:32][INFO] ORIGINAL:  No, I don't have a passport.\n",
      "[2025-01-20 01:20:47,785][835302387.py][line:33][INFO] FORMATTED:  NO  I DON'T HAVE A PASSPORT\n"
     ]
    },
    {
     "name": "stdout",
     "output_type": "stream",
     "text": [
      "File 386 of 557\r"
     ]
    },
    {
     "name": "stderr",
     "output_type": "stream",
     "text": [
      "[2025-01-20 01:20:48,955][835302387.py][line:31][INFO] Transcription of file 387 has been formatted\n",
      "[2025-01-20 01:20:48,955][835302387.py][line:32][INFO] ORIGINAL:  California. Did you even look at the form? I feel that all of these questions. Don't make your voice with me.\n",
      "[2025-01-20 01:20:48,955][835302387.py][line:33][INFO] FORMATTED:  CALIFORNIA DID YOU EVEN LOOK AT THE FORM  I FEEL THAT ALL OF THESE QUESTIONS DON'T MAKE YOUR VOICE WITH ME\n"
     ]
    },
    {
     "name": "stdout",
     "output_type": "stream",
     "text": [
      "File 387 of 557\r"
     ]
    },
    {
     "name": "stderr",
     "output_type": "stream",
     "text": [
      "[2025-01-20 01:20:49,512][835302387.py][line:31][INFO] Transcription of file 388 has been formatted\n",
      "[2025-01-20 01:20:49,512][835302387.py][line:32][INFO] ORIGINAL:  I am not getting back in that line.\n",
      "[2025-01-20 01:20:49,512][835302387.py][line:33][INFO] FORMATTED:  I AM NOT GETTING BACK IN THAT LINE\n"
     ]
    },
    {
     "name": "stdout",
     "output_type": "stream",
     "text": [
      "File 388 of 557\r"
     ]
    },
    {
     "name": "stderr",
     "output_type": "stream",
     "text": [
      "[2025-01-20 01:20:49,881][835302387.py][line:31][INFO] Transcription of file 389 has been formatted\n",
      "[2025-01-20 01:20:49,881][835302387.py][line:32][INFO] ORIGINAL:  Why? Yeah.\n",
      "[2025-01-20 01:20:49,881][835302387.py][line:33][INFO] FORMATTED:  WHY  YEAH\n"
     ]
    },
    {
     "name": "stdout",
     "output_type": "stream",
     "text": [
      "File 389 of 557\r"
     ]
    },
    {
     "name": "stderr",
     "output_type": "stream",
     "text": [
      "[2025-01-20 01:20:50,512][835302387.py][line:31][INFO] Transcription of file 390 has been formatted\n",
      "[2025-01-20 01:20:50,512][835302387.py][line:32][INFO] ORIGINAL:  Why? Because I am sick of talking to you!\n",
      "[2025-01-20 01:20:50,512][835302387.py][line:33][INFO] FORMATTED:  WHY  BECAUSE I AM SICK OF TALKING TO YOU \n"
     ]
    },
    {
     "name": "stdout",
     "output_type": "stream",
     "text": [
      "File 390 of 557\r"
     ]
    },
    {
     "name": "stderr",
     "output_type": "stream",
     "text": [
      "[2025-01-20 01:20:51,832][835302387.py][line:31][INFO] Transcription of file 391 has been formatted\n",
      "[2025-01-20 01:20:51,832][835302387.py][line:32][INFO] ORIGINAL:  Because you're obviously not talking to me, you're just yelling at me and berating me and telling me I can't fill out forms right.\n",
      "[2025-01-20 01:20:51,832][835302387.py][line:33][INFO] FORMATTED:  BECAUSE YOU'RE OBVIOUSLY NOT TALKING TO ME  YOU'RE JUST YELLING AT ME AND BERATING ME AND TELLING ME I CAN'T FILL OUT FORMS RIGHT\n"
     ]
    },
    {
     "name": "stdout",
     "output_type": "stream",
     "text": [
      "File 391 of 557\r"
     ]
    },
    {
     "name": "stderr",
     "output_type": "stream",
     "text": [
      "[2025-01-20 01:20:52,297][835302387.py][line:31][INFO] Transcription of file 392 has been formatted\n",
      "[2025-01-20 01:20:52,298][835302387.py][line:32][INFO] ORIGINAL:  I don't care then.\n",
      "[2025-01-20 01:20:52,299][835302387.py][line:33][INFO] FORMATTED:  I DON'T CARE THEN\n"
     ]
    },
    {
     "name": "stdout",
     "output_type": "stream",
     "text": [
      "File 392 of 557\r"
     ]
    },
    {
     "name": "stderr",
     "output_type": "stream",
     "text": [
      "[2025-01-20 01:20:52,698][835302387.py][line:31][INFO] Transcription of file 393 has been formatted\n",
      "[2025-01-20 01:20:52,698][835302387.py][line:32][INFO] ORIGINAL:  With perfect poise.\n",
      "[2025-01-20 01:20:52,698][835302387.py][line:33][INFO] FORMATTED:  WITH PERFECT POISE\n"
     ]
    },
    {
     "name": "stdout",
     "output_type": "stream",
     "text": [
      "File 393 of 557\r"
     ]
    },
    {
     "name": "stderr",
     "output_type": "stream",
     "text": [
      "[2025-01-20 01:20:53,006][835302387.py][line:31][INFO] Transcription of file 394 has been formatted\n",
      "[2025-01-20 01:20:53,006][835302387.py][line:32][INFO] ORIGINAL:  Oh.\n",
      "[2025-01-20 01:20:53,006][835302387.py][line:33][INFO] FORMATTED:  OH\n"
     ]
    },
    {
     "name": "stdout",
     "output_type": "stream",
     "text": [
      "File 394 of 557\r"
     ]
    },
    {
     "name": "stderr",
     "output_type": "stream",
     "text": [
      "[2025-01-20 01:20:53,374][835302387.py][line:31][INFO] Transcription of file 395 has been formatted\n",
      "[2025-01-20 01:20:53,374][835302387.py][line:32][INFO] ORIGINAL:  Ah, strange.\n",
      "[2025-01-20 01:20:53,374][835302387.py][line:33][INFO] FORMATTED:  AH  STRANGE\n"
     ]
    },
    {
     "name": "stdout",
     "output_type": "stream",
     "text": [
      "File 395 of 557\r"
     ]
    },
    {
     "name": "stderr",
     "output_type": "stream",
     "text": [
      "[2025-01-20 01:20:54,427][835302387.py][line:31][INFO] Transcription of file 396 has been formatted\n",
      "[2025-01-20 01:20:54,427][835302387.py][line:32][INFO] ORIGINAL:  Things that just automatically, you know, they just don't matter at all when one's happy, do they?\n",
      "[2025-01-20 01:20:54,443][835302387.py][line:33][INFO] FORMATTED:  THINGS THAT JUST AUTOMATICALLY  YOU KNOW  THEY JUST DON'T MATTER AT ALL WHEN ONE'S HAPPY  DO THEY \n"
     ]
    },
    {
     "name": "stdout",
     "output_type": "stream",
     "text": [
      "File 396 of 557\r"
     ]
    },
    {
     "name": "stderr",
     "output_type": "stream",
     "text": [
      "[2025-01-20 01:20:54,882][835302387.py][line:31][INFO] Transcription of file 397 has been formatted\n",
      "[2025-01-20 01:20:54,882][835302387.py][line:32][INFO] ORIGINAL:  Darling, don't say that.\n",
      "[2025-01-20 01:20:54,882][835302387.py][line:33][INFO] FORMATTED:  DARLING  DON'T SAY THAT\n"
     ]
    },
    {
     "name": "stdout",
     "output_type": "stream",
     "text": [
      "File 397 of 557\r"
     ]
    },
    {
     "name": "stderr",
     "output_type": "stream",
     "text": [
      "[2025-01-20 01:20:55,613][835302387.py][line:31][INFO] Transcription of file 398 has been formatted\n",
      "[2025-01-20 01:20:55,613][835302387.py][line:32][INFO] ORIGINAL:  Oh, dear God, what does it all mean? Dear God.\n",
      "[2025-01-20 01:20:55,629][835302387.py][line:33][INFO] FORMATTED:  OH  DEAR GOD  WHAT DOES IT ALL MEAN  DEAR GOD\n"
     ]
    },
    {
     "name": "stdout",
     "output_type": "stream",
     "text": [
      "File 398 of 557\r"
     ]
    },
    {
     "name": "stderr",
     "output_type": "stream",
     "text": [
      "[2025-01-20 01:20:56,425][835302387.py][line:31][INFO] Transcription of file 399 has been formatted\n",
      "[2025-01-20 01:20:56,425][835302387.py][line:32][INFO] ORIGINAL:  You mustn't be so serious, darling. It's just what they want.\n",
      "[2025-01-20 01:20:56,425][835302387.py][line:33][INFO] FORMATTED:  YOU MUSTN'T BE SO SERIOUS  DARLING IT'S JUST WHAT THEY WANT\n"
     ]
    },
    {
     "name": "stdout",
     "output_type": "stream",
     "text": [
      "File 399 of 557\r"
     ]
    },
    {
     "name": "stderr",
     "output_type": "stream",
     "text": [
      "[2025-01-20 01:20:57,195][835302387.py][line:31][INFO] Transcription of file 400 has been formatted\n",
      "[2025-01-20 01:20:57,195][835302387.py][line:32][INFO] ORIGINAL:  Flippancy brings out the acid in their darn sweetness and light.\n",
      "[2025-01-20 01:20:57,195][835302387.py][line:33][INFO] FORMATTED:  FLIPPANCY BRINGS OUT THE ACID IN THEIR DARN SWEETNESS AND LIGHT\n"
     ]
    },
    {
     "name": "stdout",
     "output_type": "stream",
     "text": [
      "File 400 of 557\r"
     ]
    },
    {
     "name": "stderr",
     "output_type": "stream",
     "text": [
      "[2025-01-20 01:20:57,740][835302387.py][line:31][INFO] Transcription of file 401 has been formatted\n",
      "[2025-01-20 01:20:57,740][835302387.py][line:32][INFO] ORIGINAL:  We are figures of fun, all right.\n",
      "[2025-01-20 01:20:57,758][835302387.py][line:33][INFO] FORMATTED:  WE ARE FIGURES OF FUN  ALL RIGHT\n"
     ]
    },
    {
     "name": "stdout",
     "output_type": "stream",
     "text": [
      "File 401 of 557\r"
     ]
    },
    {
     "name": "stderr",
     "output_type": "stream",
     "text": [
      "[2025-01-20 01:20:58,085][835302387.py][line:31][INFO] Transcription of file 402 has been formatted\n",
      "[2025-01-20 01:20:58,097][835302387.py][line:32][INFO] ORIGINAL:  Who knows?\n",
      "[2025-01-20 01:20:58,097][835302387.py][line:33][INFO] FORMATTED:  WHO KNOWS \n"
     ]
    },
    {
     "name": "stdout",
     "output_type": "stream",
     "text": [
      "File 402 of 557\r"
     ]
    },
    {
     "name": "stderr",
     "output_type": "stream",
     "text": [
      "[2025-01-20 01:20:59,811][835302387.py][line:31][INFO] Transcription of file 403 has been formatted\n",
      "[2025-01-20 01:20:59,811][835302387.py][line:32][INFO] ORIGINAL:  Let's pity the poor philosophers, huh? Let's enjoy that party for as long as we can, okay? Let's blow trumpets and squeakers and sit like small, idiotic school children.\n",
      "[2025-01-20 01:20:59,811][835302387.py][line:33][INFO] FORMATTED:  LET'S PITY THE POOR PHILOSOPHERS  HUH  LET'S ENJOY THAT PARTY FOR AS LONG AS WE CAN  OKAY  LET'S BLOW TRUMPETS AND SQUEAKERS AND SIT LIKE SMALL  IDIOTIC SCHOOL CHILDREN\n"
     ]
    },
    {
     "name": "stdout",
     "output_type": "stream",
     "text": [
      "File 403 of 557\r"
     ]
    },
    {
     "name": "stderr",
     "output_type": "stream",
     "text": [
      "[2025-01-20 01:21:00,324][835302387.py][line:31][INFO] Transcription of file 404 has been formatted\n",
      "[2025-01-20 01:21:00,340][835302387.py][line:32][INFO] ORIGINAL:  Come here, darling. Kiss me.\n",
      "[2025-01-20 01:21:00,341][835302387.py][line:33][INFO] FORMATTED:  COME HERE  DARLING KISS ME\n"
     ]
    },
    {
     "name": "stdout",
     "output_type": "stream",
     "text": [
      "File 404 of 557\r"
     ]
    },
    {
     "name": "stderr",
     "output_type": "stream",
     "text": [
      "[2025-01-20 01:21:01,098][835302387.py][line:31][INFO] Transcription of file 405 has been formatted\n",
      "[2025-01-20 01:21:01,114][835302387.py][line:32][INFO] ORIGINAL:  Before your body rots and worms pop out of your eye sockets.\n",
      "[2025-01-20 01:21:01,114][835302387.py][line:33][INFO] FORMATTED:  BEFORE YOUR BODY ROTS AND WORMS POP OUT OF YOUR EYE SOCKETS\n"
     ]
    },
    {
     "name": "stdout",
     "output_type": "stream",
     "text": [
      "File 405 of 557\r"
     ]
    },
    {
     "name": "stderr",
     "output_type": "stream",
     "text": [
      "[2025-01-20 01:21:02,357][835302387.py][line:31][INFO] Transcription of file 406 has been formatted\n",
      "[2025-01-20 01:21:02,357][835302387.py][line:32][INFO] ORIGINAL:  See? You know, I don't care what you do. You could paint yourself green and run naked to the Palace Van Dome.\n",
      "[2025-01-20 01:21:02,357][835302387.py][line:33][INFO] FORMATTED:  SEE  YOU KNOW  I DON'T CARE WHAT YOU DO YOU COULD PAINT YOURSELF GREEN AND RUN NAKED TO THE PALACE VAN DOME\n"
     ]
    },
    {
     "name": "stdout",
     "output_type": "stream",
     "text": [
      "File 406 of 557\r"
     ]
    },
    {
     "name": "stderr",
     "output_type": "stream",
     "text": [
      "[2025-01-20 01:21:02,986][835302387.py][line:31][INFO] Transcription of file 407 has been formatted\n",
      "[2025-01-20 01:21:02,986][835302387.py][line:32][INFO] ORIGINAL:  Do you remember that row we did have in Venice?\n",
      "[2025-01-20 01:21:02,986][835302387.py][line:33][INFO] FORMATTED:  DO YOU REMEMBER THAT ROW WE DID HAVE IN VENICE \n"
     ]
    },
    {
     "name": "stdout",
     "output_type": "stream",
     "text": [
      "File 407 of 557\r"
     ]
    },
    {
     "name": "stderr",
     "output_type": "stream",
     "text": [
      "[2025-01-20 01:21:04,419][835302387.py][line:31][INFO] Transcription of file 408 has been formatted\n",
      "[2025-01-20 01:21:04,419][835302387.py][line:32][INFO] ORIGINAL:  But you know, it wasn't as bad as the one that we had in... Cants. Where your curling irons burnt a hole in my dressing gown.\n",
      "[2025-01-20 01:21:04,419][835302387.py][line:33][INFO] FORMATTED:  BUT YOU KNOW  IT WASN'T AS BAD AS THE ONE THAT WE HAD IN CANTS WHERE YOUR CURLING IRONS BURNT A HOLE IN MY DRESSING GOWN\n"
     ]
    },
    {
     "name": "stdout",
     "output_type": "stream",
     "text": [
      "File 408 of 557\r"
     ]
    },
    {
     "name": "stderr",
     "output_type": "stream",
     "text": [
      "[2025-01-20 01:21:05,009][835302387.py][line:31][INFO] Transcription of file 409 has been formatted\n",
      "[2025-01-20 01:21:05,009][835302387.py][line:32][INFO] ORIGINAL:  I will never forget the look on his face.\n",
      "[2025-01-20 01:21:05,009][835302387.py][line:33][INFO] FORMATTED:  I WILL NEVER FORGET THE LOOK ON HIS FACE\n"
     ]
    },
    {
     "name": "stdout",
     "output_type": "stream",
     "text": [
      "File 409 of 557\r"
     ]
    },
    {
     "name": "stderr",
     "output_type": "stream",
     "text": [
      "[2025-01-20 01:21:05,301][835302387.py][line:31][INFO] Transcription of file 410 has been formatted\n",
      "[2025-01-20 01:21:05,301][835302387.py][line:32][INFO] ORIGINAL:  Ah.\n",
      "[2025-01-20 01:21:05,301][835302387.py][line:33][INFO] FORMATTED:  AH\n"
     ]
    },
    {
     "name": "stdout",
     "output_type": "stream",
     "text": [
      "File 410 of 557\r"
     ]
    },
    {
     "name": "stderr",
     "output_type": "stream",
     "text": [
      "[2025-01-20 01:21:05,850][835302387.py][line:31][INFO] Transcription of file 411 has been formatted\n",
      "[2025-01-20 01:21:05,850][835302387.py][line:32][INFO] ORIGINAL:  We were very much younger then. Very.\n",
      "[2025-01-20 01:21:05,850][835302387.py][line:33][INFO] FORMATTED:  WE WERE VERY MUCH YOUNGER THEN VERY\n"
     ]
    },
    {
     "name": "stdout",
     "output_type": "stream",
     "text": [
      "File 411 of 557\r"
     ]
    },
    {
     "name": "stderr",
     "output_type": "stream",
     "text": [
      "[2025-01-20 01:21:06,227][835302387.py][line:31][INFO] Transcription of file 412 has been formatted\n",
      "[2025-01-20 01:21:06,227][835302387.py][line:32][INFO] ORIGINAL:  He saw it.\n",
      "[2025-01-20 01:21:06,227][835302387.py][line:33][INFO] FORMATTED:  HE SAW IT\n"
     ]
    },
    {
     "name": "stdout",
     "output_type": "stream",
     "text": [
      "File 412 of 557\r"
     ]
    },
    {
     "name": "stderr",
     "output_type": "stream",
     "text": [
      "[2025-01-20 01:21:06,753][835302387.py][line:31][INFO] Transcription of file 413 has been formatted\n",
      "[2025-01-20 01:21:06,753][835302387.py][line:32][INFO] ORIGINAL:  He was out here when it broke.\n",
      "[2025-01-20 01:21:06,753][835302387.py][line:33][INFO] FORMATTED:  HE WAS OUT HERE WHEN IT BROKE\n"
     ]
    },
    {
     "name": "stdout",
     "output_type": "stream",
     "text": [
      "File 413 of 557\r"
     ]
    },
    {
     "name": "stderr",
     "output_type": "stream",
     "text": [
      "[2025-01-20 01:21:08,110][835302387.py][line:31][INFO] Transcription of file 414 has been formatted\n",
      "[2025-01-20 01:21:08,110][835302387.py][line:32][INFO] ORIGINAL:  It was 4 o'clock this morning. I heard it cracking and I woke up and looked out. He was standing right over there when it cracked.\n",
      "[2025-01-20 01:21:08,110][835302387.py][line:33][INFO] FORMATTED:  IT WAS 4 O'CLOCK THIS MORNING I HEARD IT CRACKING AND I WOKE UP AND LOOKED OUT HE WAS STANDING RIGHT OVER THERE WHEN IT CRACKED\n"
     ]
    },
    {
     "name": "stdout",
     "output_type": "stream",
     "text": [
      "File 414 of 557\r"
     ]
    },
    {
     "name": "stderr",
     "output_type": "stream",
     "text": [
      "[2025-01-20 01:21:08,527][835302387.py][line:31][INFO] Transcription of file 415 has been formatted\n",
      "[2025-01-20 01:21:08,527][835302387.py][line:32][INFO] ORIGINAL:  I don't know.\n",
      "[2025-01-20 01:21:08,527][835302387.py][line:33][INFO] FORMATTED:  I DON'T KNOW\n"
     ]
    },
    {
     "name": "stdout",
     "output_type": "stream",
     "text": [
      "File 415 of 557\r"
     ]
    },
    {
     "name": "stderr",
     "output_type": "stream",
     "text": [
      "[2025-01-20 01:21:08,853][835302387.py][line:31][INFO] Transcription of file 416 has been formatted\n",
      "[2025-01-20 01:21:08,869][835302387.py][line:32][INFO] ORIGINAL:  Así es.\n",
      "[2025-01-20 01:21:08,869][835302387.py][line:33][INFO] FORMATTED:  AS ES\n"
     ]
    },
    {
     "name": "stdout",
     "output_type": "stream",
     "text": [
      "File 416 of 557\r"
     ]
    },
    {
     "name": "stderr",
     "output_type": "stream",
     "text": [
      "[2025-01-20 01:21:10,115][835302387.py][line:31][INFO] Transcription of file 417 has been formatted\n",
      "[2025-01-20 01:21:10,115][835302387.py][line:32][INFO] ORIGINAL:  You know Larry is not coming back, and I know it. Why do we allow him to go on thinking that we believe with him?\n",
      "[2025-01-20 01:21:10,115][835302387.py][line:33][INFO] FORMATTED:  YOU KNOW LARRY IS NOT COMING BACK  AND I KNOW IT WHY DO WE ALLOW HIM TO GO ON THINKING THAT WE BELIEVE WITH HIM \n"
     ]
    },
    {
     "name": "stdout",
     "output_type": "stream",
     "text": [
      "File 417 of 557\r"
     ]
    },
    {
     "name": "stderr",
     "output_type": "stream",
     "text": [
      "[2025-01-20 01:21:10,637][835302387.py][line:31][INFO] Transcription of file 418 has been formatted\n",
      "[2025-01-20 01:21:10,637][835302387.py][line:32][INFO] ORIGINAL:  We got to say it to him.\n",
      "[2025-01-20 01:21:10,637][835302387.py][line:33][INFO] FORMATTED:  WE GOT TO SAY IT TO HIM\n"
     ]
    },
    {
     "name": "stdout",
     "output_type": "stream",
     "text": [
      "File 418 of 557\r"
     ]
    },
    {
     "name": "stderr",
     "output_type": "stream",
     "text": [
      "[2025-01-20 01:21:11,300][835302387.py][line:31][INFO] Transcription of file 419 has been formatted\n",
      "[2025-01-20 01:21:11,301][835302387.py][line:32][INFO] ORIGINAL:  Sit down, Mom. I want to talk to you.\n",
      "[2025-01-20 01:21:11,302][835302387.py][line:33][INFO] FORMATTED:  SIT DOWN  MOM I WANT TO TALK TO YOU\n"
     ]
    },
    {
     "name": "stdout",
     "output_type": "stream",
     "text": [
      "File 419 of 557\r"
     ]
    },
    {
     "name": "stderr",
     "output_type": "stream",
     "text": [
      "[2025-01-20 01:21:11,632][835302387.py][line:31][INFO] Transcription of file 420 has been formatted\n",
      "[2025-01-20 01:21:11,632][835302387.py][line:32][INFO] ORIGINAL:  You know.\n",
      "[2025-01-20 01:21:11,632][835302387.py][line:33][INFO] FORMATTED:  YOU KNOW\n"
     ]
    },
    {
     "name": "stdout",
     "output_type": "stream",
     "text": [
      "File 420 of 557\r"
     ]
    },
    {
     "name": "stderr",
     "output_type": "stream",
     "text": [
      "[2025-01-20 01:21:12,185][835302387.py][line:31][INFO] Transcription of file 421 has been formatted\n",
      "[2025-01-20 01:21:12,185][835302387.py][line:32][INFO] ORIGINAL:  I'm gonna ask her to marry me.\n",
      "[2025-01-20 01:21:12,185][835302387.py][line:33][INFO] FORMATTED:  I'M GONNA ASK HER TO MARRY ME\n"
     ]
    },
    {
     "name": "stdout",
     "output_type": "stream",
     "text": [
      "File 421 of 557\r"
     ]
    },
    {
     "name": "stderr",
     "output_type": "stream",
     "text": [
      "[2025-01-20 01:21:12,737][835302387.py][line:31][INFO] Transcription of file 422 has been formatted\n",
      "[2025-01-20 01:21:12,737][835302387.py][line:32][INFO] ORIGINAL:  You know it's not just my business.\n",
      "[2025-01-20 01:21:12,737][835302387.py][line:33][INFO] FORMATTED:  YOU KNOW IT'S NOT JUST MY BUSINESS\n"
     ]
    },
    {
     "name": "stdout",
     "output_type": "stream",
     "text": [
      "File 422 of 557\r"
     ]
    },
    {
     "name": "stderr",
     "output_type": "stream",
     "text": [
      "[2025-01-20 01:21:13,471][835302387.py][line:31][INFO] Transcription of file 423 has been formatted\n",
      "[2025-01-20 01:21:13,471][835302387.py][line:32][INFO] ORIGINAL:  So, all right, then I'll just go ahead with it.\n",
      "[2025-01-20 01:21:13,471][835302387.py][line:33][INFO] FORMATTED:  SO  ALL RIGHT  THEN I'LL JUST GO AHEAD WITH IT\n"
     ]
    },
    {
     "name": "stdout",
     "output_type": "stream",
     "text": [
      "File 423 of 557\r"
     ]
    },
    {
     "name": "stderr",
     "output_type": "stream",
     "text": [
      "[2025-01-20 01:21:15,330][835302387.py][line:31][INFO] Transcription of file 424 has been formatted\n",
      "[2025-01-20 01:21:15,330][835302387.py][line:32][INFO] ORIGINAL:  I said, you know, sometimes you infuriate me, you know that? Isn't it your business if I tell Father and he throws a fit about it? God, you have such a talent for ignoring things.\n",
      "[2025-01-20 01:21:15,346][835302387.py][line:33][INFO] FORMATTED:  I SAID  YOU KNOW  SOMETIMES YOU INFURIATE ME  YOU KNOW THAT  ISN'T IT YOUR BUSINESS IF I TELL FATHER AND HE THROWS A FIT ABOUT IT  GOD  YOU HAVE SUCH A TALENT FOR IGNORING THINGS\n"
     ]
    },
    {
     "name": "stdout",
     "output_type": "stream",
     "text": [
      "File 424 of 557\r"
     ]
    },
    {
     "name": "stderr",
     "output_type": "stream",
     "text": [
      "[2025-01-20 01:21:15,846][835302387.py][line:31][INFO] Transcription of file 425 has been formatted\n",
      "[2025-01-20 01:21:15,846][835302387.py][line:32][INFO] ORIGINAL:  I wanted to get this settled first.\n",
      "[2025-01-20 01:21:15,846][835302387.py][line:33][INFO] FORMATTED:  I WANTED TO GET THIS SETTLED FIRST\n"
     ]
    },
    {
     "name": "stdout",
     "output_type": "stream",
     "text": [
      "File 425 of 557\r"
     ]
    },
    {
     "name": "stderr",
     "output_type": "stream",
     "text": [
      "[2025-01-20 01:21:17,292][835302387.py][line:31][INFO] Transcription of file 426 has been formatted\n",
      "[2025-01-20 01:21:17,292][835302387.py][line:32][INFO] ORIGINAL:  Well, if she does, then that's it. That's the end of it. From her letters, though, I think she's pretty much forgotten him.\n",
      "[2025-01-20 01:21:17,292][835302387.py][line:33][INFO] FORMATTED:  WELL  IF SHE DOES  THEN THAT'S IT THAT'S THE END OF IT FROM HER LETTERS  THOUGH  I THINK SHE'S PRETTY MUCH FORGOTTEN HIM\n"
     ]
    },
    {
     "name": "stdout",
     "output_type": "stream",
     "text": [
      "File 426 of 557\r"
     ]
    },
    {
     "name": "stderr",
     "output_type": "stream",
     "text": [
      "[2025-01-20 01:21:18,257][835302387.py][line:31][INFO] Transcription of file 427 has been formatted\n",
      "[2025-01-20 01:21:18,257][835302387.py][line:32][INFO] ORIGINAL:  And then we'll thrash it out with father, okay, Mom? Don't avoid me.\n",
      "[2025-01-20 01:21:18,257][835302387.py][line:33][INFO] FORMATTED:  AND THEN WE'LL THRASH IT OUT WITH FATHER  OKAY  MOM  DON'T AVOID ME\n"
     ]
    },
    {
     "name": "stdout",
     "output_type": "stream",
     "text": [
      "File 427 of 557\r"
     ]
    },
    {
     "name": "stderr",
     "output_type": "stream",
     "text": [
      "[2025-01-20 01:21:19,231][835302387.py][line:31][INFO] Transcription of file 428 has been formatted\n",
      "[2025-01-20 01:21:19,231][835302387.py][line:32][INFO] ORIGINAL:  I'll get out. I'll get married and I'll move somewhere else. Maybe New York.\n",
      "[2025-01-20 01:21:19,231][835302387.py][line:33][INFO] FORMATTED:  I'LL GET OUT I'LL GET MARRIED AND I'LL MOVE SOMEWHERE ELSE MAYBE NEW YORK\n"
     ]
    },
    {
     "name": "stdout",
     "output_type": "stream",
     "text": [
      "File 428 of 557\r"
     ]
    },
    {
     "name": "stderr",
     "output_type": "stream",
     "text": [
      "[2025-01-20 01:21:19,596][835302387.py][line:31][INFO] Transcription of file 429 has been formatted\n",
      "[2025-01-20 01:21:19,596][835302387.py][line:32][INFO] ORIGINAL:  Unless I would.\n",
      "[2025-01-20 01:21:19,612][835302387.py][line:33][INFO] FORMATTED:  UNLESS I WOULD\n"
     ]
    },
    {
     "name": "stdout",
     "output_type": "stream",
     "text": [
      "File 429 of 557\r"
     ]
    },
    {
     "name": "stderr",
     "output_type": "stream",
     "text": [
      "[2025-01-20 01:21:20,054][835302387.py][line:31][INFO] Transcription of file 430 has been formatted\n",
      "[2025-01-20 01:21:20,054][835302387.py][line:32][INFO] ORIGINAL:  And help me stay here.\n",
      "[2025-01-20 01:21:20,054][835302387.py][line:33][INFO] FORMATTED:  AND HELP ME STAY HERE\n"
     ]
    },
    {
     "name": "stdout",
     "output_type": "stream",
     "text": [
      "File 430 of 557\r"
     ]
    },
    {
     "name": "stderr",
     "output_type": "stream",
     "text": [
      "[2025-01-20 01:21:21,043][835302387.py][line:31][INFO] Transcription of file 431 has been formatted\n",
      "[2025-01-20 01:21:21,043][835302387.py][line:32][INFO] ORIGINAL:  What time is it? God, this is great, isn't it? I can't believe it.\n",
      "[2025-01-20 01:21:21,043][835302387.py][line:33][INFO] FORMATTED:  WHAT TIME IS IT  GOD  THIS IS GREAT  ISN'T IT  I CAN'T BELIEVE IT\n"
     ]
    },
    {
     "name": "stdout",
     "output_type": "stream",
     "text": [
      "File 431 of 557\r"
     ]
    },
    {
     "name": "stderr",
     "output_type": "stream",
     "text": [
      "[2025-01-20 01:21:23,338][835302387.py][line:31][INFO] Transcription of file 432 has been formatted\n",
      "[2025-01-20 01:21:23,338][835302387.py][line:32][INFO] ORIGINAL:  Of course I did want to go a little further up the coast, you know, get away from all the lights and the people and everything. Is it midnight? Do they always run at midnight? Is that what it is, midnight? How you doing, huh? You okay?\n",
      "[2025-01-20 01:21:23,338][835302387.py][line:33][INFO] FORMATTED:  OF COURSE I DID WANT TO GO A LITTLE FURTHER UP THE COAST  YOU KNOW  GET AWAY FROM ALL THE LIGHTS AND THE PEOPLE AND EVERYTHING IS IT MIDNIGHT  DO THEY ALWAYS RUN AT MIDNIGHT  IS THAT WHAT IT IS  MIDNIGHT  HOW YOU DOING  HUH  YOU OKAY \n"
     ]
    },
    {
     "name": "stdout",
     "output_type": "stream",
     "text": [
      "File 432 of 557\r"
     ]
    },
    {
     "name": "stderr",
     "output_type": "stream",
     "text": [
      "[2025-01-20 01:21:24,268][835302387.py][line:31][INFO] Transcription of file 433 has been formatted\n",
      "[2025-01-20 01:21:24,268][835302387.py][line:32][INFO] ORIGINAL:  Look, there, what's that? What's that? Is it? Is it?\n",
      "[2025-01-20 01:21:24,268][835302387.py][line:33][INFO] FORMATTED:  LOOK  THERE  WHAT'S THAT  WHAT'S THAT  IS IT  IS IT \n"
     ]
    },
    {
     "name": "stdout",
     "output_type": "stream",
     "text": [
      "File 433 of 557\r"
     ]
    },
    {
     "name": "stderr",
     "output_type": "stream",
     "text": [
      "[2025-01-20 01:21:25,986][835302387.py][line:31][INFO] Transcription of file 434 has been formatted\n",
      "[2025-01-20 01:21:26,002][835302387.py][line:32][INFO] ORIGINAL:  I don't know. I can't tell though. Although probably if you can't tell, it probably isn't them, right? Yeah. Probably going to be like unmistakable, right?\n",
      "[2025-01-20 01:21:26,002][835302387.py][line:33][INFO] FORMATTED:  I DON'T KNOW I CAN'T TELL THOUGH ALTHOUGH PROBABLY IF YOU CAN'T TELL  IT PROBABLY ISN'T THEM  RIGHT  YEAH PROBABLY GOING TO BE LIKE UNMISTAKABLE  RIGHT \n"
     ]
    },
    {
     "name": "stdout",
     "output_type": "stream",
     "text": [
      "File 434 of 557\r"
     ]
    },
    {
     "name": "stderr",
     "output_type": "stream",
     "text": [
      "[2025-01-20 01:21:27,049][835302387.py][line:31][INFO] Transcription of file 435 has been formatted\n",
      "[2025-01-20 01:21:27,049][835302387.py][line:32][INFO] ORIGINAL:  Gosh, this is great, isn't it? This is awesome. Oh no! You know what I forgot?\n",
      "[2025-01-20 01:21:27,049][835302387.py][line:33][INFO] FORMATTED:  GOSH  THIS IS GREAT  ISN'T IT  THIS IS AWESOME OH NO  YOU KNOW WHAT I FORGOT \n"
     ]
    },
    {
     "name": "stdout",
     "output_type": "stream",
     "text": [
      "File 435 of 557\r"
     ]
    },
    {
     "name": "stderr",
     "output_type": "stream",
     "text": [
      "[2025-01-20 01:21:27,860][835302387.py][line:31][INFO] Transcription of file 436 has been formatted\n",
      "[2025-01-20 01:21:27,860][835302387.py][line:32][INFO] ORIGINAL:  Flashlight, the silver one. There's only one, isn't there?\n",
      "[2025-01-20 01:21:27,860][835302387.py][line:33][INFO] FORMATTED:  FLASHLIGHT  THE SILVER ONE THERE'S ONLY ONE  ISN'T THERE \n"
     ]
    },
    {
     "name": "stdout",
     "output_type": "stream",
     "text": [
      "File 436 of 557\r"
     ]
    },
    {
     "name": "stderr",
     "output_type": "stream",
     "text": [
      "[2025-01-20 01:21:28,407][835302387.py][line:31][INFO] Transcription of file 437 has been formatted\n",
      "[2025-01-20 01:21:28,407][835302387.py][line:32][INFO] ORIGINAL:  Oh, well, yeah, of course.\n",
      "[2025-01-20 01:21:28,407][835302387.py][line:33][INFO] FORMATTED:  OH  WELL  YEAH  OF COURSE\n"
     ]
    },
    {
     "name": "stdout",
     "output_type": "stream",
     "text": [
      "File 437 of 557\r"
     ]
    },
    {
     "name": "stderr",
     "output_type": "stream",
     "text": [
      "[2025-01-20 01:21:29,292][835302387.py][line:31][INFO] Transcription of file 438 has been formatted\n",
      "[2025-01-20 01:21:29,292][835302387.py][line:32][INFO] ORIGINAL:  Of course, our flashlight. But yours is mine. Me flashlight, a soup flashlight.\n",
      "[2025-01-20 01:21:29,292][835302387.py][line:33][INFO] FORMATTED:  OF COURSE  OUR FLASHLIGHT BUT YOURS IS MINE ME FLASHLIGHT  A SOUP FLASHLIGHT\n"
     ]
    },
    {
     "name": "stdout",
     "output_type": "stream",
     "text": [
      "File 438 of 557\r"
     ]
    },
    {
     "name": "stderr",
     "output_type": "stream",
     "text": [
      "[2025-01-20 01:21:30,101][835302387.py][line:31][INFO] Transcription of file 439 has been formatted\n",
      "[2025-01-20 01:21:30,101][835302387.py][line:32][INFO] ORIGINAL:  Gosh, I should have brought it. I can't believe I forgot that.\n",
      "[2025-01-20 01:21:30,101][835302387.py][line:33][INFO] FORMATTED:  GOSH  I SHOULD HAVE BROUGHT IT I CAN'T BELIEVE I FORGOT THAT\n"
     ]
    },
    {
     "name": "stdout",
     "output_type": "stream",
     "text": [
      "File 439 of 557\r"
     ]
    },
    {
     "name": "stderr",
     "output_type": "stream",
     "text": [
      "[2025-01-20 01:21:31,985][835302387.py][line:31][INFO] Transcription of file 440 has been formatted\n",
      "[2025-01-20 01:21:31,985][835302387.py][line:32][INFO] ORIGINAL:  You know what? We should have brought a blanket too. Man. Our blanket. Our blanket. I wish I had a six pack too. A six pack would be just a ticket right about now. Huh? Six pack?\n",
      "[2025-01-20 01:21:32,001][835302387.py][line:33][INFO] FORMATTED:  YOU KNOW WHAT  WE SHOULD HAVE BROUGHT A BLANKET TOO MAN OUR BLANKET OUR BLANKET I WISH I HAD A SIX PACK TOO A SIX PACK WOULD BE JUST A TICKET RIGHT ABOUT NOW HUH  SIX PACK \n"
     ]
    },
    {
     "name": "stdout",
     "output_type": "stream",
     "text": [
      "File 440 of 557\r"
     ]
    },
    {
     "name": "stderr",
     "output_type": "stream",
     "text": [
      "[2025-01-20 01:21:32,798][835302387.py][line:31][INFO] Transcription of file 441 has been formatted\n",
      "[2025-01-20 01:21:32,798][835302387.py][line:32][INFO] ORIGINAL:  Oh yeah, I'm so excited right now. I'm like a kid.\n",
      "[2025-01-20 01:21:32,798][835302387.py][line:33][INFO] FORMATTED:  OH YEAH  I'M SO EXCITED RIGHT NOW I'M LIKE A KID\n"
     ]
    },
    {
     "name": "stdout",
     "output_type": "stream",
     "text": [
      "File 441 of 557\r"
     ]
    },
    {
     "name": "stderr",
     "output_type": "stream",
     "text": [
      "[2025-01-20 01:21:33,673][835302387.py][line:31][INFO] Transcription of file 442 has been formatted\n",
      "[2025-01-20 01:21:33,673][835302387.py][line:32][INFO] ORIGINAL:  I can't believe I got out of the house with my fly zipped up even.\n",
      "[2025-01-20 01:21:33,673][835302387.py][line:33][INFO] FORMATTED:  I CAN'T BELIEVE I GOT OUT OF THE HOUSE WITH MY FLY ZIPPED UP EVEN\n"
     ]
    },
    {
     "name": "stdout",
     "output_type": "stream",
     "text": [
      "File 442 of 557\r"
     ]
    },
    {
     "name": "stderr",
     "output_type": "stream",
     "text": [
      "[2025-01-20 01:21:33,966][835302387.py][line:31][INFO] Transcription of file 443 has been formatted\n",
      "[2025-01-20 01:21:33,966][835302387.py][line:32][INFO] ORIGINAL:  Right.\n",
      "[2025-01-20 01:21:33,966][835302387.py][line:33][INFO] FORMATTED:  RIGHT\n"
     ]
    },
    {
     "name": "stdout",
     "output_type": "stream",
     "text": [
      "File 443 of 557\r"
     ]
    },
    {
     "name": "stderr",
     "output_type": "stream",
     "text": [
      "[2025-01-20 01:21:34,416][835302387.py][line:31][INFO] Transcription of file 444 has been formatted\n",
      "[2025-01-20 01:21:34,416][835302387.py][line:32][INFO] ORIGINAL:  That's my point too.\n",
      "[2025-01-20 01:21:34,416][835302387.py][line:33][INFO] FORMATTED:  THAT'S MY POINT TOO\n"
     ]
    },
    {
     "name": "stdout",
     "output_type": "stream",
     "text": [
      "File 444 of 557\r"
     ]
    },
    {
     "name": "stderr",
     "output_type": "stream",
     "text": [
      "[2025-01-20 01:21:35,841][835302387.py][line:31][INFO] Transcription of file 445 has been formatted\n",
      "[2025-01-20 01:21:35,841][835302387.py][line:32][INFO] ORIGINAL:  People in Kansas would have to get plane tickets and make hotel reservations to see this. It's only 40 minutes away, so it's too good to pass up.\n",
      "[2025-01-20 01:21:35,841][835302387.py][line:33][INFO] FORMATTED:  PEOPLE IN KANSAS WOULD HAVE TO GET PLANE TICKETS AND MAKE HOTEL RESERVATIONS TO SEE THIS IT'S ONLY 40 MINUTES AWAY  SO IT'S TOO GOOD TO PASS UP\n"
     ]
    },
    {
     "name": "stdout",
     "output_type": "stream",
     "text": [
      "File 445 of 557\r"
     ]
    },
    {
     "name": "stderr",
     "output_type": "stream",
     "text": [
      "[2025-01-20 01:21:36,243][835302387.py][line:31][INFO] Transcription of file 446 has been formatted\n",
      "[2025-01-20 01:21:36,243][835302387.py][line:32][INFO] ORIGINAL:  Yeah, they do.\n",
      "[2025-01-20 01:21:36,243][835302387.py][line:33][INFO] FORMATTED:  YEAH  THEY DO\n"
     ]
    },
    {
     "name": "stdout",
     "output_type": "stream",
     "text": [
      "File 446 of 557\r"
     ]
    },
    {
     "name": "stderr",
     "output_type": "stream",
     "text": [
      "[2025-01-20 01:21:38,438][835302387.py][line:31][INFO] Transcription of file 447 has been formatted\n",
      "[2025-01-20 01:21:38,438][835302387.py][line:32][INFO] ORIGINAL:  Well, okay, whatever. Okay, but it's a fish who do something that like no other fish do. You know, it's like those swallows that return to Capistrano or like those lemmings that jump off the cliffs, you know?\n",
      "[2025-01-20 01:21:38,438][835302387.py][line:33][INFO] FORMATTED:  WELL  OKAY  WHATEVER OKAY  BUT IT'S A FISH WHO DO SOMETHING THAT LIKE NO OTHER FISH DO YOU KNOW  IT'S LIKE THOSE SWALLOWS THAT RETURN TO CAPISTRANO OR LIKE THOSE LEMMINGS THAT JUMP OFF THE CLIFFS  YOU KNOW \n"
     ]
    },
    {
     "name": "stdout",
     "output_type": "stream",
     "text": [
      "File 447 of 557\r"
     ]
    },
    {
     "name": "stderr",
     "output_type": "stream",
     "text": [
      "[2025-01-20 01:21:39,963][835302387.py][line:31][INFO] Transcription of file 448 has been formatted\n",
      "[2025-01-20 01:21:39,963][835302387.py][line:32][INFO] ORIGINAL:  It's like a little bit of the unexplainable. It's a little magic, a little mystery. I just don't see how you cannot be interested in this.\n",
      "[2025-01-20 01:21:39,978][835302387.py][line:33][INFO] FORMATTED:  IT'S LIKE A LITTLE BIT OF THE UNEXPLAINABLE IT'S A LITTLE MAGIC  A LITTLE MYSTERY I JUST DON'T SEE HOW YOU CANNOT BE INTERESTED IN THIS\n"
     ]
    },
    {
     "name": "stdout",
     "output_type": "stream",
     "text": [
      "File 448 of 557\r"
     ]
    },
    {
     "name": "stderr",
     "output_type": "stream",
     "text": [
      "[2025-01-20 01:21:40,556][835302387.py][line:31][INFO] Transcription of file 449 has been formatted\n",
      "[2025-01-20 01:21:40,556][835302387.py][line:32][INFO] ORIGINAL:  We just were in a good spot, though.\n",
      "[2025-01-20 01:21:40,556][835302387.py][line:33][INFO] FORMATTED:  WE JUST WERE IN A GOOD SPOT  THOUGH\n"
     ]
    },
    {
     "name": "stdout",
     "output_type": "stream",
     "text": [
      "File 449 of 557\r"
     ]
    },
    {
     "name": "stderr",
     "output_type": "stream",
     "text": [
      "[2025-01-20 01:21:42,360][835302387.py][line:31][INFO] Transcription of file 450 has been formatted\n",
      "[2025-01-20 01:21:42,360][835302387.py][line:32][INFO] ORIGINAL:  Come on, trust me. I got instincts for these things. Okay? So just think about it, alright? Okay, I know you're not interested. But think about it.\n",
      "[2025-01-20 01:21:42,360][835302387.py][line:33][INFO] FORMATTED:  COME ON  TRUST ME I GOT INSTINCTS FOR THESE THINGS OKAY  SO JUST THINK ABOUT IT  ALRIGHT  OKAY  I KNOW YOU'RE NOT INTERESTED BUT THINK ABOUT IT\n"
     ]
    },
    {
     "name": "stdout",
     "output_type": "stream",
     "text": [
      "File 450 of 557\r"
     ]
    },
    {
     "name": "stderr",
     "output_type": "stream",
     "text": [
      "[2025-01-20 01:21:43,469][835302387.py][line:31][INFO] Transcription of file 451 has been formatted\n",
      "[2025-01-20 01:21:43,469][835302387.py][line:32][INFO] ORIGINAL:  out there. There's like this big mass of silver fish. They're heading this way.\n",
      "[2025-01-20 01:21:43,469][835302387.py][line:33][INFO] FORMATTED:  OUT THERE THERE'S LIKE THIS BIG MASS OF SILVER FISH THEY'RE HEADING THIS WAY\n"
     ]
    },
    {
     "name": "stdout",
     "output_type": "stream",
     "text": [
      "File 451 of 557\r"
     ]
    },
    {
     "name": "stderr",
     "output_type": "stream",
     "text": [
      "[2025-01-20 01:21:44,666][835302387.py][line:31][INFO] Transcription of file 452 has been formatted\n",
      "[2025-01-20 01:21:44,682][835302387.py][line:32][INFO] ORIGINAL:  They don't know why, we don't know why. No one like sent them an invitation or gave them a map or direction.\n",
      "[2025-01-20 01:21:44,685][835302387.py][line:33][INFO] FORMATTED:  THEY DON'T KNOW WHY  WE DON'T KNOW WHY NO ONE LIKE SENT THEM AN INVITATION OR GAVE THEM A MAP OR DIRECTION\n"
     ]
    },
    {
     "name": "stdout",
     "output_type": "stream",
     "text": [
      "File 452 of 557\r"
     ]
    },
    {
     "name": "stderr",
     "output_type": "stream",
     "text": [
      "[2025-01-20 01:21:45,844][835302387.py][line:31][INFO] Transcription of file 453 has been formatted\n",
      "[2025-01-20 01:21:45,844][835302387.py][line:32][INFO] ORIGINAL:  They just all turned at once, and they just formed this line as long as the California coast, and they just started swimming.\n",
      "[2025-01-20 01:21:45,844][835302387.py][line:33][INFO] FORMATTED:  THEY JUST ALL TURNED AT ONCE  AND THEY JUST FORMED THIS LINE AS LONG AS THE CALIFORNIA COAST  AND THEY JUST STARTED SWIMMING\n"
     ]
    },
    {
     "name": "stdout",
     "output_type": "stream",
     "text": [
      "File 453 of 557\r"
     ]
    },
    {
     "name": "stderr",
     "output_type": "stream",
     "text": [
      "[2025-01-20 01:21:46,979][835302387.py][line:31][INFO] Transcription of file 454 has been formatted\n",
      "[2025-01-20 01:21:46,979][835302387.py][line:32][INFO] ORIGINAL:  Like some little time-release firecracker went off inside their little tiny bodies, and they all turned as one.\n",
      "[2025-01-20 01:21:46,979][835302387.py][line:33][INFO] FORMATTED:  LIKE SOME LITTLE TIME RELEASE FIRECRACKER WENT OFF INSIDE THEIR LITTLE TINY BODIES  AND THEY ALL TURNED AS ONE\n"
     ]
    },
    {
     "name": "stdout",
     "output_type": "stream",
     "text": [
      "File 454 of 557\r"
     ]
    },
    {
     "name": "stderr",
     "output_type": "stream",
     "text": [
      "[2025-01-20 01:21:47,899][835302387.py][line:31][INFO] Transcription of file 455 has been formatted\n",
      "[2025-01-20 01:21:47,899][835302387.py][line:32][INFO] ORIGINAL:  and formed a line and started swimming. Swimming that would bring them to this point here.\n",
      "[2025-01-20 01:21:47,899][835302387.py][line:33][INFO] FORMATTED:  AND FORMED A LINE AND STARTED SWIMMING SWIMMING THAT WOULD BRING THEM TO THIS POINT HERE\n"
     ]
    },
    {
     "name": "stdout",
     "output_type": "stream",
     "text": [
      "File 455 of 557\r"
     ]
    },
    {
     "name": "stderr",
     "output_type": "stream",
     "text": [
      "[2025-01-20 01:21:48,923][835302387.py][line:31][INFO] Transcription of file 456 has been formatted\n",
      "[2025-01-20 01:21:48,923][835302387.py][line:32][INFO] ORIGINAL:  It's like urgency that's pure urge, you know? It's single-mindedness with no mind.\n",
      "[2025-01-20 01:21:48,938][835302387.py][line:33][INFO] FORMATTED:  IT'S LIKE URGENCY THAT'S PURE URGE  YOU KNOW  IT'S SINGLE MINDEDNESS WITH NO MIND\n"
     ]
    },
    {
     "name": "stdout",
     "output_type": "stream",
     "text": [
      "File 456 of 557\r"
     ]
    },
    {
     "name": "stderr",
     "output_type": "stream",
     "text": [
      "[2025-01-20 01:21:49,812][835302387.py][line:31][INFO] Transcription of file 457 has been formatted\n",
      "[2025-01-20 01:21:49,812][835302387.py][line:32][INFO] ORIGINAL:  it's crazy look at this I'm giving myself goosebumps the hairs are standing up my heart\n",
      "[2025-01-20 01:21:49,812][835302387.py][line:33][INFO] FORMATTED:  IT'S CRAZY LOOK AT THIS I'M GIVING MYSELF GOOSEBUMPS THE HAIRS ARE STANDING UP MY HEART\n"
     ]
    },
    {
     "name": "stdout",
     "output_type": "stream",
     "text": [
      "File 457 of 557\r"
     ]
    },
    {
     "name": "stderr",
     "output_type": "stream",
     "text": [
      "[2025-01-20 01:21:50,214][835302387.py][line:31][INFO] Transcription of file 458 has been formatted\n",
      "[2025-01-20 01:21:50,214][835302387.py][line:32][INFO] ORIGINAL:  Okay, is that...\n",
      "[2025-01-20 01:21:50,214][835302387.py][line:33][INFO] FORMATTED:  OKAY  IS THAT\n"
     ]
    },
    {
     "name": "stdout",
     "output_type": "stream",
     "text": [
      "File 458 of 557\r"
     ]
    },
    {
     "name": "stderr",
     "output_type": "stream",
     "text": [
      "[2025-01-20 01:21:51,025][835302387.py][line:31][INFO] Transcription of file 459 has been formatted\n",
      "[2025-01-20 01:21:51,025][835302387.py][line:32][INFO] ORIGINAL:  The flashlight, the silver one. There's only one, isn't there?\n",
      "[2025-01-20 01:21:51,025][835302387.py][line:33][INFO] FORMATTED:  THE FLASHLIGHT  THE SILVER ONE THERE'S ONLY ONE  ISN'T THERE \n"
     ]
    },
    {
     "name": "stdout",
     "output_type": "stream",
     "text": [
      "File 459 of 557\r"
     ]
    },
    {
     "name": "stderr",
     "output_type": "stream",
     "text": [
      "[2025-01-20 01:21:51,399][835302387.py][line:31][INFO] Transcription of file 460 has been formatted\n",
      "[2025-01-20 01:21:51,399][835302387.py][line:32][INFO] ORIGINAL:  Whose is it?\n",
      "[2025-01-20 01:21:51,399][835302387.py][line:33][INFO] FORMATTED:  WHOSE IS IT \n"
     ]
    },
    {
     "name": "stdout",
     "output_type": "stream",
     "text": [
      "File 460 of 557\r"
     ]
    },
    {
     "name": "stderr",
     "output_type": "stream",
     "text": [
      "[2025-01-20 01:21:52,101][835302387.py][line:31][INFO] Transcription of file 461 has been formatted\n",
      "[2025-01-20 01:21:52,101][835302387.py][line:32][INFO] ORIGINAL:  Oh, well, yeah, of course. You keep saying,\n",
      "[2025-01-20 01:21:52,101][835302387.py][line:33][INFO] FORMATTED:  OH  WELL  YEAH  OF COURSE YOU KEEP SAYING \n"
     ]
    },
    {
     "name": "stdout",
     "output_type": "stream",
     "text": [
      "File 461 of 557\r"
     ]
    },
    {
     "name": "stderr",
     "output_type": "stream",
     "text": [
      "[2025-01-20 01:21:52,406][835302387.py][line:31][INFO] Transcription of file 462 has been formatted\n",
      "[2025-01-20 01:21:52,406][835302387.py][line:32][INFO] ORIGINAL:  No.\n",
      "[2025-01-20 01:21:52,406][835302387.py][line:33][INFO] FORMATTED:  NO\n"
     ]
    },
    {
     "name": "stdout",
     "output_type": "stream",
     "text": [
      "File 462 of 557\r"
     ]
    },
    {
     "name": "stderr",
     "output_type": "stream",
     "text": [
      "[2025-01-20 01:21:53,247][835302387.py][line:31][INFO] Transcription of file 463 has been formatted\n",
      "[2025-01-20 01:21:53,247][835302387.py][line:32][INFO] ORIGINAL:  Of course, our flashlight. George's is mine. Me flashlight hates you flashlight.\n",
      "[2025-01-20 01:21:53,247][835302387.py][line:33][INFO] FORMATTED:  OF COURSE  OUR FLASHLIGHT GEORGE'S IS MINE ME FLASHLIGHT HATES YOU FLASHLIGHT\n"
     ]
    },
    {
     "name": "stdout",
     "output_type": "stream",
     "text": [
      "File 463 of 557\r"
     ]
    },
    {
     "name": "stderr",
     "output_type": "stream",
     "text": [
      "[2025-01-20 01:21:54,203][835302387.py][line:31][INFO] Transcription of file 464 has been formatted\n",
      "[2025-01-20 01:21:54,203][835302387.py][line:32][INFO] ORIGINAL:  Do they always run during a full moon? I don't remember. Was it full last year?\n",
      "[2025-01-20 01:21:54,203][835302387.py][line:33][INFO] FORMATTED:  DO THEY ALWAYS RUN DURING A FULL MOON  I DON'T REMEMBER WAS IT FULL LAST YEAR \n"
     ]
    },
    {
     "name": "stdout",
     "output_type": "stream",
     "text": [
      "File 464 of 557\r"
     ]
    },
    {
     "name": "stderr",
     "output_type": "stream",
     "text": [
      "[2025-01-20 01:21:55,243][835302387.py][line:31][INFO] Transcription of file 465 has been formatted\n",
      "[2025-01-20 01:21:55,243][835302387.py][line:32][INFO] ORIGINAL:  Are you cold? Do you want my jacket? You know we should have brought the blanket. Our blanket.\n",
      "[2025-01-20 01:21:55,243][835302387.py][line:33][INFO] FORMATTED:  ARE YOU COLD  DO YOU WANT MY JACKET  YOU KNOW WE SHOULD HAVE BROUGHT THE BLANKET OUR BLANKET\n"
     ]
    },
    {
     "name": "stdout",
     "output_type": "stream",
     "text": [
      "File 465 of 557\r"
     ]
    },
    {
     "name": "stderr",
     "output_type": "stream",
     "text": [
      "[2025-01-20 01:21:56,665][835302387.py][line:31][INFO] Transcription of file 466 has been formatted\n",
      "[2025-01-20 01:21:56,665][835302387.py][line:32][INFO] ORIGINAL:  Oh, you know, I should have brought a six-pack, too. A six-pack. That'd be just the ticket right about now, huh?\n",
      "[2025-01-20 01:21:56,680][835302387.py][line:33][INFO] FORMATTED:  OH  YOU KNOW  I SHOULD HAVE BROUGHT A SIX PACK  TOO A SIX PACK THAT'D BE JUST THE TICKET RIGHT ABOUT NOW  HUH \n"
     ]
    },
    {
     "name": "stdout",
     "output_type": "stream",
     "text": [
      "File 466 of 557\r"
     ]
    },
    {
     "name": "stderr",
     "output_type": "stream",
     "text": [
      "[2025-01-20 01:21:58,003][835302387.py][line:31][INFO] Transcription of file 467 has been formatted\n",
      "[2025-01-20 01:21:58,003][835302387.py][line:32][INFO] ORIGINAL:  God, I'm so excited. I'm like a kid. I can't believe I got out of the house. My fly zipped up.\n",
      "[2025-01-20 01:21:58,003][835302387.py][line:33][INFO] FORMATTED:  GOD  I'M SO EXCITED I'M LIKE A KID I CAN'T BELIEVE I GOT OUT OF THE HOUSE MY FLY ZIPPED UP\n"
     ]
    },
    {
     "name": "stdout",
     "output_type": "stream",
     "text": [
      "File 467 of 557\r"
     ]
    },
    {
     "name": "stderr",
     "output_type": "stream",
     "text": [
      "[2025-01-20 01:21:58,312][835302387.py][line:31][INFO] Transcription of file 468 has been formatted\n",
      "[2025-01-20 01:21:58,312][835302387.py][line:32][INFO] ORIGINAL:  Right.\n",
      "[2025-01-20 01:21:58,312][835302387.py][line:33][INFO] FORMATTED:  RIGHT\n"
     ]
    },
    {
     "name": "stdout",
     "output_type": "stream",
     "text": [
      "File 468 of 557\r"
     ]
    },
    {
     "name": "stderr",
     "output_type": "stream",
     "text": [
      "[2025-01-20 01:21:58,815][835302387.py][line:31][INFO] Transcription of file 469 has been formatted\n",
      "[2025-01-20 01:21:58,815][835302387.py][line:32][INFO] ORIGINAL:  Wait, that's my point too.\n",
      "[2025-01-20 01:21:58,815][835302387.py][line:33][INFO] FORMATTED:  WAIT  THAT'S MY POINT TOO\n"
     ]
    },
    {
     "name": "stdout",
     "output_type": "stream",
     "text": [
      "File 469 of 557\r"
     ]
    },
    {
     "name": "stderr",
     "output_type": "stream",
     "text": [
      "[2025-01-20 01:21:59,164][835302387.py][line:31][INFO] Transcription of file 470 has been formatted\n",
      "[2025-01-20 01:21:59,164][835302387.py][line:32][INFO] ORIGINAL:  Why not?\n",
      "[2025-01-20 01:21:59,164][835302387.py][line:33][INFO] FORMATTED:  WHY NOT \n"
     ]
    },
    {
     "name": "stdout",
     "output_type": "stream",
     "text": [
      "File 470 of 557\r"
     ]
    },
    {
     "name": "stderr",
     "output_type": "stream",
     "text": [
      "[2025-01-20 01:22:01,080][835302387.py][line:31][INFO] Transcription of file 471 has been formatted\n",
      "[2025-01-20 01:22:01,080][835302387.py][line:32][INFO] ORIGINAL:  Honey, this is like a natural phenomenon. I mean, people in Kansas would have to get plane reservations and get hotel rooms to see this. It's just 40 minutes away for us. It's too good to pass up.\n",
      "[2025-01-20 01:22:01,080][835302387.py][line:33][INFO] FORMATTED:  HONEY  THIS IS LIKE A NATURAL PHENOMENON I MEAN  PEOPLE IN KANSAS WOULD HAVE TO GET PLANE RESERVATIONS AND GET HOTEL ROOMS TO SEE THIS IT'S JUST 40 MINUTES AWAY FOR US IT'S TOO GOOD TO PASS UP\n"
     ]
    },
    {
     "name": "stdout",
     "output_type": "stream",
     "text": [
      "File 471 of 557\r"
     ]
    },
    {
     "name": "stderr",
     "output_type": "stream",
     "text": [
      "[2025-01-20 01:22:02,741][835302387.py][line:31][INFO] Transcription of file 472 has been formatted\n",
      "[2025-01-20 01:22:02,741][835302387.py][line:32][INFO] ORIGINAL:  Yeah, but this moment on the beach is like the highlight of their little lives. All that flopping around is like laying eggs or what to do. Spawning or mating or whatever.\n",
      "[2025-01-20 01:22:02,741][835302387.py][line:33][INFO] FORMATTED:  YEAH  BUT THIS MOMENT ON THE BEACH IS LIKE THE HIGHLIGHT OF THEIR LITTLE LIVES ALL THAT FLOPPING AROUND IS LIKE LAYING EGGS OR WHAT TO DO SPAWNING OR MATING OR WHATEVER\n"
     ]
    },
    {
     "name": "stdout",
     "output_type": "stream",
     "text": [
      "File 472 of 557\r"
     ]
    },
    {
     "name": "stderr",
     "output_type": "stream",
     "text": [
      "[2025-01-20 01:22:03,648][835302387.py][line:31][INFO] Transcription of file 473 has been formatted\n",
      "[2025-01-20 01:22:03,648][835302387.py][line:32][INFO] ORIGINAL:  This is a big night for these little guys. It's like life's last orgy.\n",
      "[2025-01-20 01:22:03,664][835302387.py][line:33][INFO] FORMATTED:  THIS IS A BIG NIGHT FOR THESE LITTLE GUYS IT'S LIKE LIFE'S LAST ORGY\n"
     ]
    },
    {
     "name": "stdout",
     "output_type": "stream",
     "text": [
      "File 473 of 557\r"
     ]
    },
    {
     "name": "stderr",
     "output_type": "stream",
     "text": [
      "[2025-01-20 01:22:05,112][835302387.py][line:31][INFO] Transcription of file 474 has been formatted\n",
      "[2025-01-20 01:22:05,112][835302387.py][line:32][INFO] ORIGINAL:  There's like mystery here, there's magic. It's like a little bit of the unexplainable. I just can't see how you're not interested.\n",
      "[2025-01-20 01:22:05,112][835302387.py][line:33][INFO] FORMATTED:  THERE'S LIKE MYSTERY HERE  THERE'S MAGIC IT'S LIKE A LITTLE BIT OF THE UNEXPLAINABLE I JUST CAN'T SEE HOW YOU'RE NOT INTERESTED\n"
     ]
    },
    {
     "name": "stdout",
     "output_type": "stream",
     "text": [
      "File 474 of 557\r"
     ]
    },
    {
     "name": "stderr",
     "output_type": "stream",
     "text": [
      "[2025-01-20 01:22:06,346][835302387.py][line:31][INFO] Transcription of file 475 has been formatted\n",
      "[2025-01-20 01:22:06,346][835302387.py][line:32][INFO] ORIGINAL:  God, I don't get it. You know the first time we came here? You said it was the best night of your life.\n",
      "[2025-01-20 01:22:06,346][835302387.py][line:33][INFO] FORMATTED:  GOD  I DON'T GET IT YOU KNOW THE FIRST TIME WE CAME HERE  YOU SAID IT WAS THE BEST NIGHT OF YOUR LIFE\n"
     ]
    },
    {
     "name": "stdout",
     "output_type": "stream",
     "text": [
      "File 475 of 557\r"
     ]
    },
    {
     "name": "stderr",
     "output_type": "stream",
     "text": [
      "[2025-01-20 01:22:07,848][835302387.py][line:31][INFO] Transcription of file 476 has been formatted\n",
      "[2025-01-20 01:22:07,863][835302387.py][line:32][INFO] ORIGINAL:  And last year, I remember distinctly you said you were so excited to get here that you don't remember that you stubbed your toe until we were in the car.\n",
      "[2025-01-20 01:22:07,863][835302387.py][line:33][INFO] FORMATTED:  AND LAST YEAR  I REMEMBER DISTINCTLY YOU SAID YOU WERE SO EXCITED TO GET HERE THAT YOU DON'T REMEMBER THAT YOU STUBBED YOUR TOE UNTIL WE WERE IN THE CAR\n"
     ]
    },
    {
     "name": "stdout",
     "output_type": "stream",
     "text": [
      "File 476 of 557\r"
     ]
    },
    {
     "name": "stderr",
     "output_type": "stream",
     "text": [
      "[2025-01-20 01:22:08,463][835302387.py][line:31][INFO] Transcription of file 477 has been formatted\n",
      "[2025-01-20 01:22:08,463][835302387.py][line:32][INFO] ORIGINAL:  Ah, we weren't in a good spot.\n",
      "[2025-01-20 01:22:08,463][835302387.py][line:33][INFO] FORMATTED:  AH  WE WEREN'T IN A GOOD SPOT\n"
     ]
    },
    {
     "name": "stdout",
     "output_type": "stream",
     "text": [
      "File 477 of 557\r"
     ]
    },
    {
     "name": "stderr",
     "output_type": "stream",
     "text": [
      "[2025-01-20 01:22:09,633][835302387.py][line:31][INFO] Transcription of file 478 has been formatted\n",
      "[2025-01-20 01:22:09,633][835302387.py][line:32][INFO] ORIGINAL:  We just weren't in a good spot. I'm telling you, this is a much better spot. I got instincts for these things.\n",
      "[2025-01-20 01:22:09,633][835302387.py][line:33][INFO] FORMATTED:  WE JUST WEREN'T IN A GOOD SPOT I'M TELLING YOU  THIS IS A MUCH BETTER SPOT I GOT INSTINCTS FOR THESE THINGS\n"
     ]
    },
    {
     "name": "stdout",
     "output_type": "stream",
     "text": [
      "File 478 of 557\r"
     ]
    },
    {
     "name": "stderr",
     "output_type": "stream",
     "text": [
      "[2025-01-20 01:22:10,453][835302387.py][line:31][INFO] Transcription of file 479 has been formatted\n",
      "[2025-01-20 01:22:10,453][835302387.py][line:32][INFO] ORIGINAL:  Look there, see, what's that? No, that's just seaweed.\n",
      "[2025-01-20 01:22:10,453][835302387.py][line:33][INFO] FORMATTED:  LOOK THERE  SEE  WHAT'S THAT  NO  THAT'S JUST SEAWEED\n"
     ]
    },
    {
     "name": "stdout",
     "output_type": "stream",
     "text": [
      "File 479 of 557\r"
     ]
    },
    {
     "name": "stderr",
     "output_type": "stream",
     "text": [
      "[2025-01-20 01:22:11,699][835302387.py][line:31][INFO] Transcription of file 480 has been formatted\n",
      "[2025-01-20 01:22:11,699][835302387.py][line:32][INFO] ORIGINAL:  God, this is great. I mean, think about this. Okay, I know you're not interested, but just think about this.\n",
      "[2025-01-20 01:22:11,699][835302387.py][line:33][INFO] FORMATTED:  GOD  THIS IS GREAT I MEAN  THINK ABOUT THIS OKAY  I KNOW YOU'RE NOT INTERESTED  BUT JUST THINK ABOUT THIS\n"
     ]
    },
    {
     "name": "stdout",
     "output_type": "stream",
     "text": [
      "File 480 of 557\r"
     ]
    },
    {
     "name": "stderr",
     "output_type": "stream",
     "text": [
      "[2025-01-20 01:22:13,482][835302387.py][line:31][INFO] Transcription of file 481 has been formatted\n",
      "[2025-01-20 01:22:13,482][835302387.py][line:32][INFO] ORIGINAL:  Just all at once, they turned and they formed this line as long as the California coast. And some instinctual little firecracker went off in their bodies and they just turned as one and started swimming.\n",
      "[2025-01-20 01:22:13,482][835302387.py][line:33][INFO] FORMATTED:  JUST ALL AT ONCE  THEY TURNED AND THEY FORMED THIS LINE AS LONG AS THE CALIFORNIA COAST AND SOME INSTINCTUAL LITTLE FIRECRACKER WENT OFF IN THEIR BODIES AND THEY JUST TURNED AS ONE AND STARTED SWIMMING\n"
     ]
    },
    {
     "name": "stdout",
     "output_type": "stream",
     "text": [
      "File 481 of 557\r"
     ]
    },
    {
     "name": "stderr",
     "output_type": "stream",
     "text": [
      "[2025-01-20 01:22:14,451][835302387.py][line:31][INFO] Transcription of file 482 has been formatted\n",
      "[2025-01-20 01:22:14,451][835302387.py][line:32][INFO] ORIGINAL:  It's single-mindedness with no mind. It's this urgency that is this pure urge.\n",
      "[2025-01-20 01:22:14,451][835302387.py][line:33][INFO] FORMATTED:  IT'S SINGLE MINDEDNESS WITH NO MIND IT'S THIS URGENCY THAT IS THIS PURE URGE\n"
     ]
    },
    {
     "name": "stdout",
     "output_type": "stream",
     "text": [
      "File 482 of 557\r"
     ]
    },
    {
     "name": "stderr",
     "output_type": "stream",
     "text": [
      "[2025-01-20 01:22:14,936][835302387.py][line:31][INFO] Transcription of file 483 has been formatted\n",
      "[2025-01-20 01:22:14,936][835302387.py][line:32][INFO] ORIGINAL:  Also, what do you think?\n",
      "[2025-01-20 01:22:14,936][835302387.py][line:33][INFO] FORMATTED:  ALSO  WHAT DO YOU THINK \n"
     ]
    },
    {
     "name": "stdout",
     "output_type": "stream",
     "text": [
      "File 483 of 557\r"
     ]
    },
    {
     "name": "stderr",
     "output_type": "stream",
     "text": [
      "[2025-01-20 01:22:15,428][835302387.py][line:31][INFO] Transcription of file 484 has been formatted\n",
      "[2025-01-20 01:22:15,428][835302387.py][line:32][INFO] ORIGINAL:  about all that about all this document\n",
      "[2025-01-20 01:22:15,428][835302387.py][line:33][INFO] FORMATTED:  ABOUT ALL THAT ABOUT ALL THIS DOCUMENT\n"
     ]
    },
    {
     "name": "stdout",
     "output_type": "stream",
     "text": [
      "File 484 of 557\r"
     ]
    },
    {
     "name": "stderr",
     "output_type": "stream",
     "text": [
      "[2025-01-20 01:22:16,435][835302387.py][line:31][INFO] Transcription of file 485 has been formatted\n",
      "[2025-01-20 01:22:16,435][835302387.py][line:32][INFO] ORIGINAL:  Check this out. You know, I haven't told you I've been really into softball recently.\n",
      "[2025-01-20 01:22:16,435][835302387.py][line:33][INFO] FORMATTED:  CHECK THIS OUT YOU KNOW  I HAVEN'T TOLD YOU I'VE BEEN REALLY INTO SOFTBALL RECENTLY\n"
     ]
    },
    {
     "name": "stdout",
     "output_type": "stream",
     "text": [
      "File 485 of 557\r"
     ]
    },
    {
     "name": "stderr",
     "output_type": "stream",
     "text": [
      "[2025-01-20 01:22:17,579][835302387.py][line:31][INFO] Transcription of file 486 has been formatted\n",
      "[2025-01-20 01:22:17,579][835302387.py][line:32][INFO] ORIGINAL:  Well, this is totally random. I got this full-ride scholarship to go to USC next year to play softball.\n",
      "[2025-01-20 01:22:17,579][835302387.py][line:33][INFO] FORMATTED:  WELL  THIS IS TOTALLY RANDOM I GOT THIS FULL RIDE SCHOLARSHIP TO GO TO USC NEXT YEAR TO PLAY SOFTBALL\n"
     ]
    },
    {
     "name": "stdout",
     "output_type": "stream",
     "text": [
      "File 486 of 557\r"
     ]
    },
    {
     "name": "stderr",
     "output_type": "stream",
     "text": [
      "[2025-01-20 01:22:18,650][835302387.py][line:31][INFO] Transcription of file 487 has been formatted\n",
      "[2025-01-20 01:22:18,650][835302387.py][line:32][INFO] ORIGINAL:  For softball? For softball! They're gonna pay me to go to school! Isn't that awesome?\n",
      "[2025-01-20 01:22:18,650][835302387.py][line:33][INFO] FORMATTED:  FOR SOFTBALL  FOR SOFTBALL  THEY'RE GONNA PAY ME TO GO TO SCHOOL  ISN'T THAT AWESOME \n"
     ]
    },
    {
     "name": "stdout",
     "output_type": "stream",
     "text": [
      "File 487 of 557\r"
     ]
    },
    {
     "name": "stderr",
     "output_type": "stream",
     "text": [
      "[2025-01-20 01:22:21,124][835302387.py][line:31][INFO] Transcription of file 488 has been formatted\n",
      "[2025-01-20 01:22:21,124][835302387.py][line:32][INFO] ORIGINAL:  Yeah, well I don't well yeah, I can pitch I'm not like the pitcher though. I'm like the pinch hitter guy I mostly just hit but I guess I mean I have to yeah, and then I play shortstop too, but The good news is that I get to stay here\n",
      "[2025-01-20 01:22:21,124][835302387.py][line:33][INFO] FORMATTED:  YEAH  WELL I DON'T WELL YEAH  I CAN PITCH I'M NOT LIKE THE PITCHER THOUGH I'M LIKE THE PINCH HITTER GUY I MOSTLY JUST HIT BUT I GUESS I MEAN I HAVE TO YEAH  AND THEN I PLAY SHORTSTOP TOO  BUT THE GOOD NEWS IS THAT I GET TO STAY HERE\n"
     ]
    },
    {
     "name": "stdout",
     "output_type": "stream",
     "text": [
      "File 488 of 557\r"
     ]
    },
    {
     "name": "stderr",
     "output_type": "stream",
     "text": [
      "[2025-01-20 01:22:21,750][835302387.py][line:31][INFO] Transcription of file 489 has been formatted\n",
      "[2025-01-20 01:22:21,750][835302387.py][line:32][INFO] ORIGINAL:  They pay for everything? For softball yeah.\n",
      "[2025-01-20 01:22:21,765][835302387.py][line:33][INFO] FORMATTED:  THEY PAY FOR EVERYTHING  FOR SOFTBALL YEAH\n"
     ]
    },
    {
     "name": "stdout",
     "output_type": "stream",
     "text": [
      "File 489 of 557\r"
     ]
    },
    {
     "name": "stderr",
     "output_type": "stream",
     "text": [
      "[2025-01-20 01:22:23,966][835302387.py][line:31][INFO] Transcription of file 490 has been formatted\n",
      "[2025-01-20 01:22:23,966][835302387.py][line:32][INFO] ORIGINAL:  books, everything. Yeah, everything. Like, free ride. And they get to, you know, like, be on, like, a Trojan sports team, too. That is incredible. Isn't that awesome? So you get, like, a pretty,\n",
      "[2025-01-20 01:22:23,966][835302387.py][line:33][INFO] FORMATTED:  BOOKS  EVERYTHING YEAH  EVERYTHING LIKE  FREE RIDE AND THEY GET TO  YOU KNOW  LIKE  BE ON  LIKE  A TROJAN SPORTS TEAM  TOO THAT IS INCREDIBLE ISN'T THAT AWESOME  SO YOU GET  LIKE  A PRETTY \n"
     ]
    },
    {
     "name": "stdout",
     "output_type": "stream",
     "text": [
      "File 490 of 557\r"
     ]
    },
    {
     "name": "stderr",
     "output_type": "stream",
     "text": [
      "[2025-01-20 01:22:24,803][835302387.py][line:31][INFO] Transcription of file 491 has been formatted\n",
      "[2025-01-20 01:22:24,803][835302387.py][line:32][INFO] ORIGINAL:  I don't know. You should look into that. Yeah, I will.\n",
      "[2025-01-20 01:22:24,818][835302387.py][line:33][INFO] FORMATTED:  I DON'T KNOW YOU SHOULD LOOK INTO THAT YEAH  I WILL\n"
     ]
    },
    {
     "name": "stdout",
     "output_type": "stream",
     "text": [
      "File 491 of 557\r"
     ]
    },
    {
     "name": "stderr",
     "output_type": "stream",
     "text": [
      "[2025-01-20 01:22:25,227][835302387.py][line:31][INFO] Transcription of file 492 has been formatted\n",
      "[2025-01-20 01:22:25,227][835302387.py][line:32][INFO] ORIGINAL:  Congratulations. Thank you.\n",
      "[2025-01-20 01:22:25,227][835302387.py][line:33][INFO] FORMATTED:  CONGRATULATIONS THANK YOU\n"
     ]
    },
    {
     "name": "stdout",
     "output_type": "stream",
     "text": [
      "File 492 of 557\r"
     ]
    },
    {
     "name": "stderr",
     "output_type": "stream",
     "text": [
      "[2025-01-20 01:22:26,519][835302387.py][line:31][INFO] Transcription of file 493 has been formatted\n",
      "[2025-01-20 01:22:26,519][835302387.py][line:32][INFO] ORIGINAL:  I don't know if I want to live in the housing that they give me though because I think I'm going to get a nicer place.\n",
      "[2025-01-20 01:22:26,519][835302387.py][line:33][INFO] FORMATTED:  I DON'T KNOW IF I WANT TO LIVE IN THE HOUSING THAT THEY GIVE ME THOUGH BECAUSE I THINK I'M GOING TO GET A NICER PLACE\n"
     ]
    },
    {
     "name": "stdout",
     "output_type": "stream",
     "text": [
      "File 493 of 557\r"
     ]
    },
    {
     "name": "stderr",
     "output_type": "stream",
     "text": [
      "[2025-01-20 01:22:26,920][835302387.py][line:31][INFO] Transcription of file 494 has been formatted\n",
      "[2025-01-20 01:22:26,920][835302387.py][line:32][INFO] ORIGINAL:  Where should I move?\n",
      "[2025-01-20 01:22:26,920][835302387.py][line:33][INFO] FORMATTED:  WHERE SHOULD I MOVE \n"
     ]
    },
    {
     "name": "stdout",
     "output_type": "stream",
     "text": [
      "File 494 of 557\r"
     ]
    },
    {
     "name": "stderr",
     "output_type": "stream",
     "text": [
      "[2025-01-20 01:22:29,287][835302387.py][line:31][INFO] Transcription of file 495 has been formatted\n",
      "[2025-01-20 01:22:29,287][835302387.py][line:32][INFO] ORIGINAL:  That's a really good idea. Or I could go to like Santa Monica. Go beach. Venice Beach. Venice Beach. A little dirty though. I don't want to go to Venice Beach. You want to go to Cider? Malibu. Okay. That would be good.\n",
      "[2025-01-20 01:22:29,287][835302387.py][line:33][INFO] FORMATTED:  THAT'S A REALLY GOOD IDEA OR I COULD GO TO LIKE SANTA MONICA GO BEACH VENICE BEACH VENICE BEACH A LITTLE DIRTY THOUGH I DON'T WANT TO GO TO VENICE BEACH YOU WANT TO GO TO CIDER  MALIBU OKAY THAT WOULD BE GOOD\n"
     ]
    },
    {
     "name": "stdout",
     "output_type": "stream",
     "text": [
      "File 495 of 557\r"
     ]
    },
    {
     "name": "stderr",
     "output_type": "stream",
     "text": [
      "[2025-01-20 01:22:29,863][835302387.py][line:31][INFO] Transcription of file 496 has been formatted\n",
      "[2025-01-20 01:22:29,863][835302387.py][line:32][INFO] ORIGINAL:  Professional softball player. I know.\n",
      "[2025-01-20 01:22:29,863][835302387.py][line:33][INFO] FORMATTED:  PROFESSIONAL SOFTBALL PLAYER I KNOW\n"
     ]
    },
    {
     "name": "stdout",
     "output_type": "stream",
     "text": [
      "File 496 of 557\r"
     ]
    },
    {
     "name": "stderr",
     "output_type": "stream",
     "text": [
      "[2025-01-20 01:22:32,309][835302387.py][line:31][INFO] Transcription of file 497 has been formatted\n",
      "[2025-01-20 01:22:32,325][835302387.py][line:32][INFO] ORIGINAL:  Oh yeah, that would be. Well, it depends what kind of car you had though too. I guess it'd be worth it. Helicopter. Oh yeah. Yeah, helicopter. There's a helipad here, right? He dropped you right off of practice. Yeah, exactly.\n",
      "[2025-01-20 01:22:32,325][835302387.py][line:33][INFO] FORMATTED:  OH YEAH  THAT WOULD BE WELL  IT DEPENDS WHAT KIND OF CAR YOU HAD THOUGH TOO I GUESS IT'D BE WORTH IT HELICOPTER OH YEAH YEAH  HELICOPTER THERE'S A HELIPAD HERE  RIGHT  HE DROPPED YOU RIGHT OFF OF PRACTICE YEAH  EXACTLY\n"
     ]
    },
    {
     "name": "stdout",
     "output_type": "stream",
     "text": [
      "File 497 of 557\r"
     ]
    },
    {
     "name": "stderr",
     "output_type": "stream",
     "text": [
      "[2025-01-20 01:22:32,881][835302387.py][line:31][INFO] Transcription of file 498 has been formatted\n",
      "[2025-01-20 01:22:32,881][835302387.py][line:32][INFO] ORIGINAL:  You do, it's really returning.\n",
      "[2025-01-20 01:22:32,881][835302387.py][line:33][INFO] FORMATTED:  YOU DO  IT'S REALLY RETURNING\n"
     ]
    },
    {
     "name": "stdout",
     "output_type": "stream",
     "text": [
      "File 498 of 557\r"
     ]
    },
    {
     "name": "stderr",
     "output_type": "stream",
     "text": [
      "[2025-01-20 01:22:33,881][835302387.py][line:31][INFO] Transcription of file 499 has been formatted\n",
      "[2025-01-20 01:22:33,897][835302387.py][line:32][INFO] ORIGINAL:  I just got into it. I just kind of fell into it. Literally, I was walking around.\n",
      "[2025-01-20 01:22:33,897][835302387.py][line:33][INFO] FORMATTED:  I JUST GOT INTO IT I JUST KIND OF FELL INTO IT LITERALLY  I WAS WALKING AROUND\n"
     ]
    },
    {
     "name": "stdout",
     "output_type": "stream",
     "text": [
      "File 499 of 557\r"
     ]
    },
    {
     "name": "stderr",
     "output_type": "stream",
     "text": [
      "[2025-01-20 01:22:34,309][835302387.py][line:31][INFO] Transcription of file 500 has been formatted\n",
      "[2025-01-20 01:22:34,309][835302387.py][line:32][INFO] ORIGINAL:  It's pretty wild.\n",
      "[2025-01-20 01:22:34,309][835302387.py][line:33][INFO] FORMATTED:  IT'S PRETTY WILD\n"
     ]
    },
    {
     "name": "stdout",
     "output_type": "stream",
     "text": [
      "File 500 of 557\r"
     ]
    },
    {
     "name": "stderr",
     "output_type": "stream",
     "text": [
      "[2025-01-20 01:22:35,281][835302387.py][line:31][INFO] Transcription of file 501 has been formatted\n",
      "[2025-01-20 01:22:35,284][835302387.py][line:32][INFO] ORIGINAL:  Yeah, well, I dabbled in ping pong for a little bit. It's great.\n",
      "[2025-01-20 01:22:35,284][835302387.py][line:33][INFO] FORMATTED:  YEAH  WELL  I DABBLED IN PING PONG FOR A LITTLE BIT IT'S GREAT\n"
     ]
    },
    {
     "name": "stdout",
     "output_type": "stream",
     "text": [
      "File 501 of 557\r"
     ]
    },
    {
     "name": "stderr",
     "output_type": "stream",
     "text": [
      "[2025-01-20 01:22:36,644][835302387.py][line:31][INFO] Transcription of file 502 has been formatted\n",
      "[2025-01-20 01:22:36,644][835302387.py][line:32][INFO] ORIGINAL:  For free. That's really what it's about. I mean, who cares? I mean, if I have to play softball all the time.\n",
      "[2025-01-20 01:22:36,644][835302387.py][line:33][INFO] FORMATTED:  FOR FREE THAT'S REALLY WHAT IT'S ABOUT I MEAN  WHO CARES  I MEAN  IF I HAVE TO PLAY SOFTBALL ALL THE TIME\n"
     ]
    },
    {
     "name": "stdout",
     "output_type": "stream",
     "text": [
      "File 502 of 557\r"
     ]
    },
    {
     "name": "stderr",
     "output_type": "stream",
     "text": [
      "[2025-01-20 01:22:37,353][835302387.py][line:31][INFO] Transcription of file 503 has been formatted\n",
      "[2025-01-20 01:22:37,354][835302387.py][line:32][INFO] ORIGINAL:  Oh really? Yeah, we have like away games and stuff.\n",
      "[2025-01-20 01:22:37,355][835302387.py][line:33][INFO] FORMATTED:  OH REALLY  YEAH  WE HAVE LIKE AWAY GAMES AND STUFF\n"
     ]
    },
    {
     "name": "stdout",
     "output_type": "stream",
     "text": [
      "File 503 of 557\r"
     ]
    },
    {
     "name": "stderr",
     "output_type": "stream",
     "text": [
      "[2025-01-20 01:22:37,901][835302387.py][line:31][INFO] Transcription of file 504 has been formatted\n",
      "[2025-01-20 01:22:37,901][835302387.py][line:32][INFO] ORIGINAL:  But you know, I like doing it.\n",
      "[2025-01-20 01:22:37,901][835302387.py][line:33][INFO] FORMATTED:  BUT YOU KNOW  I LIKE DOING IT\n"
     ]
    },
    {
     "name": "stdout",
     "output_type": "stream",
     "text": [
      "File 504 of 557\r"
     ]
    },
    {
     "name": "stderr",
     "output_type": "stream",
     "text": [
      "[2025-01-20 01:22:38,536][835302387.py][line:31][INFO] Transcription of file 505 has been formatted\n",
      "[2025-01-20 01:22:38,536][835302387.py][line:32][INFO] ORIGINAL:  I'm gonna have a mustache. On the force.\n",
      "[2025-01-20 01:22:38,536][835302387.py][line:33][INFO] FORMATTED:  I'M GONNA HAVE A MUSTACHE ON THE FORCE\n"
     ]
    },
    {
     "name": "stdout",
     "output_type": "stream",
     "text": [
      "File 505 of 557\r"
     ]
    },
    {
     "name": "stderr",
     "output_type": "stream",
     "text": [
      "[2025-01-20 01:22:38,884][835302387.py][line:31][INFO] Transcription of file 506 has been formatted\n",
      "[2025-01-20 01:22:38,884][835302387.py][line:32][INFO] ORIGINAL:  Pull over.\n",
      "[2025-01-20 01:22:38,884][835302387.py][line:33][INFO] FORMATTED:  PULL OVER\n"
     ]
    },
    {
     "name": "stdout",
     "output_type": "stream",
     "text": [
      "File 506 of 557\r"
     ]
    },
    {
     "name": "stderr",
     "output_type": "stream",
     "text": [
      "[2025-01-20 01:22:39,265][835302387.py][line:31][INFO] Transcription of file 507 has been formatted\n",
      "[2025-01-20 01:22:39,265][835302387.py][line:32][INFO] ORIGINAL:  He saw it.\n",
      "[2025-01-20 01:22:39,265][835302387.py][line:33][INFO] FORMATTED:  HE SAW IT\n"
     ]
    },
    {
     "name": "stdout",
     "output_type": "stream",
     "text": [
      "File 507 of 557\r"
     ]
    },
    {
     "name": "stderr",
     "output_type": "stream",
     "text": [
      "[2025-01-20 01:22:40,467][835302387.py][line:31][INFO] Transcription of file 508 has been formatted\n",
      "[2025-01-20 01:22:40,483][835302387.py][line:32][INFO] ORIGINAL:  What are you out here for this morning? I heard a crack and I looked out the window and you're standing right over there.\n",
      "[2025-01-20 01:22:40,484][835302387.py][line:33][INFO] FORMATTED:  WHAT ARE YOU OUT HERE FOR THIS MORNING  I HEARD A CRACK AND I LOOKED OUT THE WINDOW AND YOU'RE STANDING RIGHT OVER THERE\n"
     ]
    },
    {
     "name": "stdout",
     "output_type": "stream",
     "text": [
      "File 508 of 557\r"
     ]
    },
    {
     "name": "stderr",
     "output_type": "stream",
     "text": [
      "[2025-01-20 01:22:41,294][835302387.py][line:31][INFO] Transcription of file 509 has been formatted\n",
      "[2025-01-20 01:22:41,294][835302387.py][line:32][INFO] ORIGINAL:  I don't know. But he went back in the kitchen and he cried.\n",
      "[2025-01-20 01:22:41,294][835302387.py][line:33][INFO] FORMATTED:  I DON'T KNOW BUT HE WENT BACK IN THE KITCHEN AND HE CRIED\n"
     ]
    },
    {
     "name": "stdout",
     "output_type": "stream",
     "text": [
      "File 509 of 557\r"
     ]
    },
    {
     "name": "stderr",
     "output_type": "stream",
     "text": [
      "[2025-01-20 01:22:41,877][835302387.py][line:31][INFO] Transcription of file 510 has been formatted\n",
      "[2025-01-20 01:22:41,877][835302387.py][line:32][INFO] ORIGINAL:  No. I figure I just let it wait.\n",
      "[2025-01-20 01:22:41,877][835302387.py][line:33][INFO] FORMATTED:  NO I FIGURE I JUST LET IT WAIT\n"
     ]
    },
    {
     "name": "stdout",
     "output_type": "stream",
     "text": [
      "File 510 of 557\r"
     ]
    },
    {
     "name": "stderr",
     "output_type": "stream",
     "text": [
      "[2025-01-20 01:22:42,653][835302387.py][line:31][INFO] Transcription of file 511 has been formatted\n",
      "[2025-01-20 01:22:42,653][835302387.py][line:32][INFO] ORIGINAL:  Yeah, I could hear him crying through the floorboards of my room.\n",
      "[2025-01-20 01:22:42,653][835302387.py][line:33][INFO] FORMATTED:  YEAH  I COULD HEAR HIM CRYING THROUGH THE FLOORBOARDS OF MY ROOM\n"
     ]
    },
    {
     "name": "stdout",
     "output_type": "stream",
     "text": [
      "File 511 of 557\r"
     ]
    },
    {
     "name": "stderr",
     "output_type": "stream",
     "text": [
      "[2025-01-20 01:22:42,959][835302387.py][line:31][INFO] Transcription of file 512 has been formatted\n",
      "[2025-01-20 01:22:42,959][835302387.py][line:32][INFO] ORIGINAL:  모르겠어요\n",
      "[2025-01-20 01:22:42,963][835302387.py][line:33][INFO] FORMATTED:  \n"
     ]
    },
    {
     "name": "stdout",
     "output_type": "stream",
     "text": [
      "File 512 of 557\r"
     ]
    },
    {
     "name": "stderr",
     "output_type": "stream",
     "text": [
      "[2025-01-20 01:22:43,364][835302387.py][line:31][INFO] Transcription of file 513 has been formatted\n",
      "[2025-01-20 01:22:43,364][835302387.py][line:32][INFO] ORIGINAL:  I guess he is.\n",
      "[2025-01-20 01:22:43,364][835302387.py][line:33][INFO] FORMATTED:  I GUESS HE IS\n"
     ]
    },
    {
     "name": "stdout",
     "output_type": "stream",
     "text": [
      "File 513 of 557\r"
     ]
    },
    {
     "name": "stderr",
     "output_type": "stream",
     "text": [
      "[2025-01-20 01:22:43,913][835302387.py][line:31][INFO] Transcription of file 514 has been formatted\n",
      "[2025-01-20 01:22:43,913][835302387.py][line:32][INFO] ORIGINAL:  I'm gonna ask her to marry me.\n",
      "[2025-01-20 01:22:43,913][835302387.py][line:33][INFO] FORMATTED:  I'M GONNA ASK HER TO MARRY ME\n"
     ]
    },
    {
     "name": "stdout",
     "output_type": "stream",
     "text": [
      "File 514 of 557\r"
     ]
    },
    {
     "name": "stderr",
     "output_type": "stream",
     "text": [
      "[2025-01-20 01:22:45,888][835302387.py][line:31][INFO] Transcription of file 515 has been formatted\n",
      "[2025-01-20 01:22:45,888][835302387.py][line:32][INFO] ORIGINAL:  See? That it's not just my business. I'm just saying. Sometimes you infuriate me, you know that? You know it's just your business too if I tell father and he throws a fit about it. Huh?\n",
      "[2025-01-20 01:22:45,888][835302387.py][line:33][INFO] FORMATTED:  SEE  THAT IT'S NOT JUST MY BUSINESS I'M JUST SAYING SOMETIMES YOU INFURIATE ME  YOU KNOW THAT  YOU KNOW IT'S JUST YOUR BUSINESS TOO IF I TELL FATHER AND HE THROWS A FIT ABOUT IT HUH \n"
     ]
    },
    {
     "name": "stdout",
     "output_type": "stream",
     "text": [
      "File 515 of 557\r"
     ]
    },
    {
     "name": "stderr",
     "output_type": "stream",
     "text": [
      "[2025-01-20 01:22:46,411][835302387.py][line:31][INFO] Transcription of file 516 has been formatted\n",
      "[2025-01-20 01:22:46,411][835302387.py][line:32][INFO] ORIGINAL:  She is not Larry's girl.\n",
      "[2025-01-20 01:22:46,411][835302387.py][line:33][INFO] FORMATTED:  SHE IS NOT LARRY'S GIRL\n"
     ]
    },
    {
     "name": "stdout",
     "output_type": "stream",
     "text": [
      "File 516 of 557\r"
     ]
    },
    {
     "name": "stderr",
     "output_type": "stream",
     "text": [
      "[2025-01-20 01:22:46,868][835302387.py][line:31][INFO] Transcription of file 517 has been formatted\n",
      "[2025-01-20 01:22:46,868][835302387.py][line:32][INFO] ORIGINAL:  What the hell with that?\n",
      "[2025-01-20 01:22:46,868][835302387.py][line:33][INFO] FORMATTED:  WHAT THE HELL WITH THAT \n"
     ]
    },
    {
     "name": "stdout",
     "output_type": "stream",
     "text": [
      "File 517 of 557\r"
     ]
    },
    {
     "name": "stderr",
     "output_type": "stream",
     "text": [
      "[2025-01-20 01:22:47,527][835302387.py][line:31][INFO] Transcription of file 518 has been formatted\n",
      "[2025-01-20 01:22:47,527][835302387.py][line:32][INFO] ORIGINAL:  No, I wanted to get this all sorted out first.\n",
      "[2025-01-20 01:22:47,527][835302387.py][line:33][INFO] FORMATTED:  NO  I WANTED TO GET THIS ALL SORTED OUT FIRST\n"
     ]
    },
    {
     "name": "stdout",
     "output_type": "stream",
     "text": [
      "File 518 of 557\r"
     ]
    },
    {
     "name": "stderr",
     "output_type": "stream",
     "text": [
      "[2025-01-20 01:22:48,073][835302387.py][line:31][INFO] Transcription of file 519 has been formatted\n",
      "[2025-01-20 01:22:48,073][835302387.py][line:32][INFO] ORIGINAL:  Business? The business doesn't inspire me.\n",
      "[2025-01-20 01:22:48,088][835302387.py][line:33][INFO] FORMATTED:  BUSINESS  THE BUSINESS DOESN'T INSPIRE ME\n"
     ]
    },
    {
     "name": "stdout",
     "output_type": "stream",
     "text": [
      "File 519 of 557\r"
     ]
    },
    {
     "name": "stderr",
     "output_type": "stream",
     "text": [
      "[2025-01-20 01:22:50,386][835302387.py][line:31][INFO] Transcription of file 520 has been formatted\n",
      "[2025-01-20 01:22:50,386][835302387.py][line:32][INFO] ORIGINAL:  Yes, yes, I like it for one hour a day. I don't care if I have to grub for money all day long. When I come home, I want it nice. I want a family. I want kids. And Annie is in the center of that.\n",
      "[2025-01-20 01:22:50,386][835302387.py][line:33][INFO] FORMATTED:  YES  YES  I LIKE IT FOR ONE HOUR A DAY I DON'T CARE IF I HAVE TO GRUB FOR MONEY ALL DAY LONG WHEN I COME HOME  I WANT IT NICE I WANT A FAMILY I WANT KIDS AND ANNIE IS IN THE CENTER OF THAT\n"
     ]
    },
    {
     "name": "stdout",
     "output_type": "stream",
     "text": [
      "File 520 of 557\r"
     ]
    },
    {
     "name": "stderr",
     "output_type": "stream",
     "text": [
      "[2025-01-20 01:22:50,903][835302387.py][line:31][INFO] Transcription of file 521 has been formatted\n",
      "[2025-01-20 01:22:50,903][835302387.py][line:32][INFO] ORIGINAL:  Yes, on this I would.\n",
      "[2025-01-20 01:22:50,903][835302387.py][line:33][INFO] FORMATTED:  YES  ON THIS I WOULD\n"
     ]
    },
    {
     "name": "stdout",
     "output_type": "stream",
     "text": [
      "File 521 of 557\r"
     ]
    },
    {
     "name": "stderr",
     "output_type": "stream",
     "text": [
      "[2025-01-20 01:22:51,489][835302387.py][line:31][INFO] Transcription of file 522 has been formatted\n",
      "[2025-01-20 01:22:51,489][835302387.py][line:32][INFO] ORIGINAL:  Well, then help me stay here, Mom.\n",
      "[2025-01-20 01:22:51,489][835302387.py][line:33][INFO] FORMATTED:  WELL  THEN HELP ME STAY HERE  MOM\n"
     ]
    },
    {
     "name": "stdout",
     "output_type": "stream",
     "text": [
      "File 522 of 557\r"
     ]
    },
    {
     "name": "stderr",
     "output_type": "stream",
     "text": [
      "[2025-01-20 01:22:51,897][835302387.py][line:31][INFO] Transcription of file 523 has been formatted\n",
      "[2025-01-20 01:22:51,897][835302387.py][line:32][INFO] ORIGINAL:  Then help me stay.\n",
      "[2025-01-20 01:22:51,897][835302387.py][line:33][INFO] FORMATTED:  THEN HELP ME STAY\n"
     ]
    },
    {
     "name": "stdout",
     "output_type": "stream",
     "text": [
      "File 523 of 557\r"
     ]
    },
    {
     "name": "stderr",
     "output_type": "stream",
     "text": [
      "[2025-01-20 01:22:52,348][835302387.py][line:31][INFO] Transcription of file 524 has been formatted\n",
      "[2025-01-20 01:22:52,348][835302387.py][line:32][INFO] ORIGINAL:  I am thinking like that.\n",
      "[2025-01-20 01:22:52,348][835302387.py][line:33][INFO] FORMATTED:  I AM THINKING LIKE THAT\n"
     ]
    },
    {
     "name": "stdout",
     "output_type": "stream",
     "text": [
      "File 524 of 557\r"
     ]
    },
    {
     "name": "stderr",
     "output_type": "stream",
     "text": [
      "[2025-01-20 01:22:52,986][835302387.py][line:31][INFO] Transcription of file 525 has been formatted\n",
      "[2025-01-20 01:22:52,986][835302387.py][line:32][INFO] ORIGINAL:  How you doing? I'm a pretty tough guy.\n",
      "[2025-01-20 01:22:52,986][835302387.py][line:33][INFO] FORMATTED:  HOW YOU DOING  I'M A PRETTY TOUGH GUY\n"
     ]
    },
    {
     "name": "stdout",
     "output_type": "stream",
     "text": [
      "File 525 of 557\r"
     ]
    },
    {
     "name": "stderr",
     "output_type": "stream",
     "text": [
      "[2025-01-20 01:22:53,433][835302387.py][line:31][INFO] Transcription of file 526 has been formatted\n",
      "[2025-01-20 01:22:53,433][835302387.py][line:32][INFO] ORIGINAL:  I'm sorry, Joy.\n",
      "[2025-01-20 01:22:53,433][835302387.py][line:33][INFO] FORMATTED:  I'M SORRY  JOY\n"
     ]
    },
    {
     "name": "stdout",
     "output_type": "stream",
     "text": [
      "File 526 of 557\r"
     ]
    },
    {
     "name": "stderr",
     "output_type": "stream",
     "text": [
      "[2025-01-20 01:22:54,410][835302387.py][line:31][INFO] Transcription of file 527 has been formatted\n",
      "[2025-01-20 01:22:54,426][835302387.py][line:32][INFO] ORIGINAL:  Is there anything I can get you? You don't want me to take care of anything for you?\n",
      "[2025-01-20 01:22:54,426][835302387.py][line:33][INFO] FORMATTED:  IS THERE ANYTHING I CAN GET YOU  YOU DON'T WANT ME TO TAKE CARE OF ANYTHING FOR YOU \n"
     ]
    },
    {
     "name": "stdout",
     "output_type": "stream",
     "text": [
      "File 527 of 557\r"
     ]
    },
    {
     "name": "stderr",
     "output_type": "stream",
     "text": [
      "[2025-01-20 01:22:54,820][835302387.py][line:31][INFO] Transcription of file 528 has been formatted\n",
      "[2025-01-20 01:22:54,820][835302387.py][line:32][INFO] ORIGINAL:  Pick up my thing.\n",
      "[2025-01-20 01:22:54,820][835302387.py][line:33][INFO] FORMATTED:  PICK UP MY THING\n"
     ]
    },
    {
     "name": "stdout",
     "output_type": "stream",
     "text": [
      "File 528 of 557\r"
     ]
    },
    {
     "name": "stderr",
     "output_type": "stream",
     "text": [
      "[2025-01-20 01:22:55,958][835302387.py][line:31][INFO] Transcription of file 529 has been formatted\n",
      "[2025-01-20 01:22:55,958][835302387.py][line:32][INFO] ORIGINAL:  You know you're welcome to stay at my house if you want to just check out for a couple days and hang out.\n",
      "[2025-01-20 01:22:55,958][835302387.py][line:33][INFO] FORMATTED:  YOU KNOW YOU'RE WELCOME TO STAY AT MY HOUSE IF YOU WANT TO JUST CHECK OUT FOR A COUPLE DAYS AND HANG OUT\n"
     ]
    },
    {
     "name": "stdout",
     "output_type": "stream",
     "text": [
      "File 529 of 557\r"
     ]
    },
    {
     "name": "stderr",
     "output_type": "stream",
     "text": [
      "[2025-01-20 01:22:56,560][835302387.py][line:31][INFO] Transcription of file 530 has been formatted\n",
      "[2025-01-20 01:22:56,561][835302387.py][line:32][INFO] ORIGINAL:  You know, there's a lot of screens.\n",
      "[2025-01-20 01:22:56,562][835302387.py][line:33][INFO] FORMATTED:  YOU KNOW  THERE'S A LOT OF SCREENS\n"
     ]
    },
    {
     "name": "stdout",
     "output_type": "stream",
     "text": [
      "File 530 of 557\r"
     ]
    },
    {
     "name": "stderr",
     "output_type": "stream",
     "text": [
      "[2025-01-20 01:22:57,008][835302387.py][line:31][INFO] Transcription of file 531 has been formatted\n",
      "[2025-01-20 01:22:57,008][835302387.py][line:32][INFO] ORIGINAL:  No, she was there.\n",
      "[2025-01-20 01:22:57,008][835302387.py][line:33][INFO] FORMATTED:  NO  SHE WAS THERE\n"
     ]
    },
    {
     "name": "stdout",
     "output_type": "stream",
     "text": [
      "File 531 of 557\r"
     ]
    },
    {
     "name": "stderr",
     "output_type": "stream",
     "text": [
      "[2025-01-20 01:22:57,379][835302387.py][line:31][INFO] Transcription of file 532 has been formatted\n",
      "[2025-01-20 01:22:57,379][835302387.py][line:32][INFO] ORIGINAL:  Mm-hmm.\n",
      "[2025-01-20 01:22:57,379][835302387.py][line:33][INFO] FORMATTED:  MM HMM\n"
     ]
    },
    {
     "name": "stdout",
     "output_type": "stream",
     "text": [
      "File 532 of 557\r"
     ]
    },
    {
     "name": "stderr",
     "output_type": "stream",
     "text": [
      "[2025-01-20 01:22:57,637][835302387.py][line:31][INFO] Transcription of file 533 has been formatted\n",
      "[2025-01-20 01:22:57,637][835302387.py][line:32][INFO] ORIGINAL: 对\n",
      "[2025-01-20 01:22:57,637][835302387.py][line:33][INFO] FORMATTED: \n"
     ]
    },
    {
     "name": "stdout",
     "output_type": "stream",
     "text": [
      "File 533 of 557\r"
     ]
    },
    {
     "name": "stderr",
     "output_type": "stream",
     "text": [
      "[2025-01-20 01:22:58,121][835302387.py][line:31][INFO] Transcription of file 534 has been formatted\n",
      "[2025-01-20 01:22:58,121][835302387.py][line:32][INFO] ORIGINAL:  How long were you there for?\n",
      "[2025-01-20 01:22:58,121][835302387.py][line:33][INFO] FORMATTED:  HOW LONG WERE YOU THERE FOR \n"
     ]
    },
    {
     "name": "stdout",
     "output_type": "stream",
     "text": [
      "File 534 of 557\r"
     ]
    },
    {
     "name": "stderr",
     "output_type": "stream",
     "text": [
      "[2025-01-20 01:22:58,486][835302387.py][line:31][INFO] Transcription of file 535 has been formatted\n",
      "[2025-01-20 01:22:58,486][835302387.py][line:32][INFO] ORIGINAL:  Mm-hmm.\n",
      "[2025-01-20 01:22:58,486][835302387.py][line:33][INFO] FORMATTED:  MM HMM\n"
     ]
    },
    {
     "name": "stdout",
     "output_type": "stream",
     "text": [
      "File 535 of 557\r"
     ]
    },
    {
     "name": "stderr",
     "output_type": "stream",
     "text": [
      "[2025-01-20 01:22:58,865][835302387.py][line:31][INFO] Transcription of file 536 has been formatted\n",
      "[2025-01-20 01:22:58,865][835302387.py][line:32][INFO] ORIGINAL:  Oh, really?\n",
      "[2025-01-20 01:22:58,865][835302387.py][line:33][INFO] FORMATTED:  OH  REALLY \n"
     ]
    },
    {
     "name": "stdout",
     "output_type": "stream",
     "text": [
      "File 536 of 557\r"
     ]
    },
    {
     "name": "stderr",
     "output_type": "stream",
     "text": [
      "[2025-01-20 01:22:59,479][835302387.py][line:31][INFO] Transcription of file 537 has been formatted\n",
      "[2025-01-20 01:22:59,480][835302387.py][line:32][INFO] ORIGINAL:  You ran through the sprinklers in the cemetery?\n",
      "[2025-01-20 01:22:59,480][835302387.py][line:33][INFO] FORMATTED:  YOU RAN THROUGH THE SPRINKLERS IN THE CEMETERY \n"
     ]
    },
    {
     "name": "stdout",
     "output_type": "stream",
     "text": [
      "File 537 of 557\r"
     ]
    },
    {
     "name": "stderr",
     "output_type": "stream",
     "text": [
      "[2025-01-20 01:22:59,876][835302387.py][line:31][INFO] Transcription of file 538 has been formatted\n",
      "[2025-01-20 01:22:59,876][835302387.py][line:32][INFO] ORIGINAL:  Visit a big cemetery?\n",
      "[2025-01-20 01:22:59,876][835302387.py][line:33][INFO] FORMATTED:  VISIT A BIG CEMETERY \n"
     ]
    },
    {
     "name": "stdout",
     "output_type": "stream",
     "text": [
      "File 538 of 557\r"
     ]
    },
    {
     "name": "stderr",
     "output_type": "stream",
     "text": [
      "[2025-01-20 01:23:00,627][835302387.py][line:31][INFO] Transcription of file 539 has been formatted\n",
      "[2025-01-20 01:23:00,627][835302387.py][line:32][INFO] ORIGINAL:  Oh, so they're like really old too? Really old ones?\n",
      "[2025-01-20 01:23:00,627][835302387.py][line:33][INFO] FORMATTED:  OH  SO THEY'RE LIKE REALLY OLD TOO  REALLY OLD ONES \n"
     ]
    },
    {
     "name": "stdout",
     "output_type": "stream",
     "text": [
      "File 539 of 557\r"
     ]
    },
    {
     "name": "stderr",
     "output_type": "stream",
     "text": [
      "[2025-01-20 01:23:01,145][835302387.py][line:31][INFO] Transcription of file 540 has been formatted\n",
      "[2025-01-20 01:23:01,145][835302387.py][line:32][INFO] ORIGINAL:  Mm-hmm. I'm worried.\n",
      "[2025-01-20 01:23:01,145][835302387.py][line:33][INFO] FORMATTED:  MM HMM I'M WORRIED\n"
     ]
    },
    {
     "name": "stdout",
     "output_type": "stream",
     "text": [
      "File 540 of 557\r"
     ]
    },
    {
     "name": "stderr",
     "output_type": "stream",
     "text": [
      "[2025-01-20 01:23:01,455][835302387.py][line:31][INFO] Transcription of file 541 has been formatted\n",
      "[2025-01-20 01:23:01,455][835302387.py][line:32][INFO] ORIGINAL:  Hmm.\n",
      "[2025-01-20 01:23:01,455][835302387.py][line:33][INFO] FORMATTED:  HMM\n"
     ]
    },
    {
     "name": "stdout",
     "output_type": "stream",
     "text": [
      "File 541 of 557\r"
     ]
    },
    {
     "name": "stderr",
     "output_type": "stream",
     "text": [
      "[2025-01-20 01:23:01,964][835302387.py][line:31][INFO] Transcription of file 542 has been formatted\n",
      "[2025-01-20 01:23:01,964][835302387.py][line:32][INFO] ORIGINAL:  So she wrote a lot of poetry.\n",
      "[2025-01-20 01:23:01,964][835302387.py][line:33][INFO] FORMATTED:  SO SHE WROTE A LOT OF POETRY\n"
     ]
    },
    {
     "name": "stdout",
     "output_type": "stream",
     "text": [
      "File 542 of 557\r"
     ]
    },
    {
     "name": "stderr",
     "output_type": "stream",
     "text": [
      "[2025-01-20 01:23:03,257][835302387.py][line:31][INFO] Transcription of file 543 has been formatted\n",
      "[2025-01-20 01:23:03,257][835302387.py][line:32][INFO] ORIGINAL:  I don't understand why this is so complicated for people when they get here. It's just a simple form. I just need an ID.\n",
      "[2025-01-20 01:23:03,257][835302387.py][line:33][INFO] FORMATTED:  I DON'T UNDERSTAND WHY THIS IS SO COMPLICATED FOR PEOPLE WHEN THEY GET HERE IT'S JUST A SIMPLE FORM I JUST NEED AN ID\n"
     ]
    },
    {
     "name": "stdout",
     "output_type": "stream",
     "text": [
      "File 543 of 557\r"
     ]
    },
    {
     "name": "stderr",
     "output_type": "stream",
     "text": [
      "[2025-01-20 01:23:04,617][835302387.py][line:31][INFO] Transcription of file 544 has been formatted\n",
      "[2025-01-20 01:23:04,617][835302387.py][line:32][INFO] ORIGINAL:  or something? Yeah. You want to see my supervisor? Huh? Yeah. You want to see my supervisor? Fine. I'll be right back.\n",
      "[2025-01-20 01:23:04,617][835302387.py][line:33][INFO] FORMATTED:  OR SOMETHING  YEAH YOU WANT TO SEE MY SUPERVISOR  HUH  YEAH YOU WANT TO SEE MY SUPERVISOR  FINE I'LL BE RIGHT BACK\n"
     ]
    },
    {
     "name": "stdout",
     "output_type": "stream",
     "text": [
      "File 544 of 557\r"
     ]
    },
    {
     "name": "stderr",
     "output_type": "stream",
     "text": [
      "[2025-01-20 01:23:05,068][835302387.py][line:31][INFO] Transcription of file 545 has been formatted\n",
      "[2025-01-20 01:23:05,084][835302387.py][line:32][INFO] ORIGINAL:  I don't care then.\n",
      "[2025-01-20 01:23:05,084][835302387.py][line:33][INFO] FORMATTED:  I DON'T CARE THEN\n"
     ]
    },
    {
     "name": "stdout",
     "output_type": "stream",
     "text": [
      "File 545 of 557\r"
     ]
    },
    {
     "name": "stderr",
     "output_type": "stream",
     "text": [
      "[2025-01-20 01:23:05,487][835302387.py][line:31][INFO] Transcription of file 546 has been formatted\n",
      "[2025-01-20 01:23:05,487][835302387.py][line:32][INFO] ORIGINAL:  No, wrong number.\n",
      "[2025-01-20 01:23:05,487][835302387.py][line:33][INFO] FORMATTED:  NO  WRONG NUMBER\n"
     ]
    },
    {
     "name": "stdout",
     "output_type": "stream",
     "text": [
      "File 546 of 557\r"
     ]
    },
    {
     "name": "stderr",
     "output_type": "stream",
     "text": [
      "[2025-01-20 01:23:06,155][835302387.py][line:31][INFO] Transcription of file 547 has been formatted\n",
      "[2025-01-20 01:23:06,155][835302387.py][line:32][INFO] ORIGINAL:  What shall we do if they suddenly walk in on us?\n",
      "[2025-01-20 01:23:06,155][835302387.py][line:33][INFO] FORMATTED:  WHAT SHALL WE DO IF THEY SUDDENLY WALK IN ON US \n"
     ]
    },
    {
     "name": "stdout",
     "output_type": "stream",
     "text": [
      "File 547 of 557\r"
     ]
    },
    {
     "name": "stderr",
     "output_type": "stream",
     "text": [
      "[2025-01-20 01:23:06,627][835302387.py][line:31][INFO] Transcription of file 548 has been formatted\n",
      "[2025-01-20 01:23:06,643][835302387.py][line:32][INFO] ORIGINAL:  Oh, with perfect poise.\n",
      "[2025-01-20 01:23:06,643][835302387.py][line:33][INFO] FORMATTED:  OH  WITH PERFECT POISE\n"
     ]
    },
    {
     "name": "stdout",
     "output_type": "stream",
     "text": [
      "File 548 of 557\r"
     ]
    },
    {
     "name": "stderr",
     "output_type": "stream",
     "text": [
      "[2025-01-20 01:23:07,770][835302387.py][line:31][INFO] Transcription of file 549 has been formatted\n",
      "[2025-01-20 01:23:07,770][835302387.py][line:32][INFO] ORIGINAL:  Strange, things that ought to matter dreadfully, they just don't matter at all when one's happy, do they?\n",
      "[2025-01-20 01:23:07,770][835302387.py][line:33][INFO] FORMATTED:  STRANGE  THINGS THAT OUGHT TO MATTER DREADFULLY  THEY JUST DON'T MATTER AT ALL WHEN ONE'S HAPPY  DO THEY \n"
     ]
    },
    {
     "name": "stdout",
     "output_type": "stream",
     "text": [
      "File 549 of 557\r"
     ]
    },
    {
     "name": "stderr",
     "output_type": "stream",
     "text": [
      "[2025-01-20 01:23:09,391][835302387.py][line:31][INFO] Transcription of file 550 has been formatted\n",
      "[2025-01-20 01:23:09,391][835302387.py][line:32][INFO] ORIGINAL:  Hmm. What does it all mean? That's what I ask myself in my quest for ultimate truth. Dear God, what does it all mean? Don't laugh at me, Eddie.\n",
      "[2025-01-20 01:23:09,391][835302387.py][line:33][INFO] FORMATTED:  HMM WHAT DOES IT ALL MEAN  THAT'S WHAT I ASK MYSELF IN MY QUEST FOR ULTIMATE TRUTH DEAR GOD  WHAT DOES IT ALL MEAN  DON'T LAUGH AT ME  EDDIE\n"
     ]
    },
    {
     "name": "stdout",
     "output_type": "stream",
     "text": [
      "File 550 of 557\r"
     ]
    },
    {
     "name": "stderr",
     "output_type": "stream",
     "text": [
      "[2025-01-20 01:23:09,736][835302387.py][line:31][INFO] Transcription of file 551 has been formatted\n",
      "[2025-01-20 01:23:09,736][835302387.py][line:32][INFO] ORIGINAL:  Who knows?\n",
      "[2025-01-20 01:23:09,736][835302387.py][line:33][INFO] FORMATTED:  WHO KNOWS \n"
     ]
    },
    {
     "name": "stdout",
     "output_type": "stream",
     "text": [
      "File 551 of 557\r"
     ]
    },
    {
     "name": "stderr",
     "output_type": "stream",
     "text": [
      "[2025-01-20 01:23:10,292][835302387.py][line:31][INFO] Transcription of file 552 has been formatted\n",
      "[2025-01-20 01:23:10,292][835302387.py][line:32][INFO] ORIGINAL:  Yes, yes, with all his might.\n",
      "[2025-01-20 01:23:10,292][835302387.py][line:33][INFO] FORMATTED:  YES  YES  WITH ALL HIS MIGHT\n"
     ]
    },
    {
     "name": "stdout",
     "output_type": "stream",
     "text": [
      "File 552 of 557\r"
     ]
    },
    {
     "name": "stderr",
     "output_type": "stream",
     "text": [
      "[2025-01-20 01:23:12,208][835302387.py][line:31][INFO] Transcription of file 553 has been formatted\n",
      "[2025-01-20 01:23:12,208][835302387.py][line:32][INFO] ORIGINAL:  You know, let's be superficial and just pity those poor philosophers, huh? Let's blow trumpets and squeakers and enjoy the party for as long as we can, you know, like small, idiotic schoolchildren.\n",
      "[2025-01-20 01:23:12,208][835302387.py][line:33][INFO] FORMATTED:  YOU KNOW  LET'S BE SUPERFICIAL AND JUST PITY THOSE POOR PHILOSOPHERS  HUH  LET'S BLOW TRUMPETS AND SQUEAKERS AND ENJOY THE PARTY FOR AS LONG AS WE CAN  YOU KNOW  LIKE SMALL  IDIOTIC SCHOOLCHILDREN\n"
     ]
    },
    {
     "name": "stdout",
     "output_type": "stream",
     "text": [
      "File 553 of 557\r"
     ]
    },
    {
     "name": "stderr",
     "output_type": "stream",
     "text": [
      "[2025-01-20 01:23:13,291][835302387.py][line:31][INFO] Transcription of file 554 has been formatted\n",
      "[2025-01-20 01:23:13,293][835302387.py][line:32][INFO] ORIGINAL:  Come and kiss me darling, huh? Before your body rots and worms pop out of your eye sockets.\n",
      "[2025-01-20 01:23:13,293][835302387.py][line:33][INFO] FORMATTED:  COME AND KISS ME DARLING  HUH  BEFORE YOUR BODY ROTS AND WORMS POP OUT OF YOUR EYE SOCKETS\n"
     ]
    },
    {
     "name": "stdout",
     "output_type": "stream",
     "text": [
      "File 554 of 557\r"
     ]
    },
    {
     "name": "stderr",
     "output_type": "stream",
     "text": [
      "[2025-01-20 01:23:15,532][835302387.py][line:31][INFO] Transcription of file 555 has been formatted\n",
      "[2025-01-20 01:23:15,532][835302387.py][line:32][INFO] ORIGINAL:  See, I don't care what you do, see. You could paint yourself green and run naked through the Palace Vendôme and run off with all the men in the world. I shan't say a word, just as long as you love me best.\n",
      "[2025-01-20 01:23:15,532][835302387.py][line:33][INFO] FORMATTED:  SEE  I DON'T CARE WHAT YOU DO  SEE YOU COULD PAINT YOURSELF GREEN AND RUN NAKED THROUGH THE PALACE VENDME AND RUN OFF WITH ALL THE MEN IN THE WORLD I SHAN'T SAY A WORD  JUST AS LONG AS YOU LOVE ME BEST\n"
     ]
    },
    {
     "name": "stdout",
     "output_type": "stream",
     "text": [
      "File 555 of 557\r"
     ]
    },
    {
     "name": "stderr",
     "output_type": "stream",
     "text": [
      "[2025-01-20 01:23:16,203][835302387.py][line:31][INFO] Transcription of file 556 has been formatted\n",
      "[2025-01-20 01:23:16,203][835302387.py][line:32][INFO] ORIGINAL:  That was a rouser, wasn't it?\n",
      "[2025-01-20 01:23:16,203][835302387.py][line:33][INFO] FORMATTED:  THAT WAS A ROUSER  WASN'T IT \n"
     ]
    },
    {
     "name": "stdout",
     "output_type": "stream",
     "text": [
      "File 556 of 557\r"
     ]
    },
    {
     "name": "stderr",
     "output_type": "stream",
     "text": [
      "[2025-01-20 01:23:16,900][835302387.py][line:31][INFO] Transcription of file 557 has been formatted\n",
      "[2025-01-20 01:23:16,900][835302387.py][line:32][INFO] ORIGINAL:  I'll never forget his face. How utterly, utterly ridiculous.\n",
      "[2025-01-20 01:23:16,900][835302387.py][line:33][INFO] FORMATTED:  I'LL NEVER FORGET HIS FACE HOW UTTERLY  UTTERLY RIDICULOUS\n"
     ]
    },
    {
     "name": "stdout",
     "output_type": "stream",
     "text": [
      "File 557 of 557\r"
     ]
    },
    {
     "name": "stderr",
     "output_type": "stream",
     "text": [
      "[2025-01-20 01:23:17,398][835302387.py][line:31][INFO] Transcription of file 558 has been formatted\n",
      "[2025-01-20 01:23:17,398][835302387.py][line:32][INFO] ORIGINAL:  We were very much younger then.\n",
      "[2025-01-20 01:23:17,398][835302387.py][line:33][INFO] FORMATTED:  WE WERE VERY MUCH YOUNGER THEN\n",
      "[2025-01-20 01:23:17,398][2267696535.py][line:52][INFO] Done processing 557 files\n",
      "[2025-01-20 01:23:17,412][2267696535.py][line:63][INFO] Transcriptions saved to ./fold_0\\val-transcriptions.csv\n",
      "[2025-01-20 01:23:17,413][2267696535.py][line:3][INFO] ----- test split -----\n"
     ]
    },
    {
     "name": "stdout",
     "output_type": "stream",
     "text": [
      "File 1 of 528\r"
     ]
    },
    {
     "name": "stderr",
     "output_type": "stream",
     "text": [
      "[2025-01-20 01:23:18,039][835302387.py][line:31][INFO] Transcription of file 2 has been formatted\n",
      "[2025-01-20 01:23:18,039][835302387.py][line:32][INFO] ORIGINAL:  You're the only one who still loves his parents.\n",
      "[2025-01-20 01:23:18,039][835302387.py][line:33][INFO] FORMATTED:  YOU'RE THE ONLY ONE WHO STILL LOVES HIS PARENTS\n"
     ]
    },
    {
     "name": "stdout",
     "output_type": "stream",
     "text": [
      "File 2 of 528\r"
     ]
    },
    {
     "name": "stderr",
     "output_type": "stream",
     "text": [
      "[2025-01-20 01:23:18,694][835302387.py][line:31][INFO] Transcription of file 3 has been formatted\n",
      "[2025-01-20 01:23:18,710][835302387.py][line:32][INFO] ORIGINAL:  It's not so bad. It's a good thing.\n",
      "[2025-01-20 01:23:18,710][835302387.py][line:33][INFO] FORMATTED:  IT'S NOT SO BAD IT'S A GOOD THING\n"
     ]
    },
    {
     "name": "stdout",
     "output_type": "stream",
     "text": [
      "File 3 of 528\r"
     ]
    },
    {
     "name": "stderr",
     "output_type": "stream",
     "text": [
      "[2025-01-20 01:23:19,409][835302387.py][line:31][INFO] Transcription of file 4 has been formatted\n",
      "[2025-01-20 01:23:19,409][835302387.py][line:32][INFO] ORIGINAL:  You know, it's lovely here. The air is sweet.\n",
      "[2025-01-20 01:23:19,409][835302387.py][line:33][INFO] FORMATTED:  YOU KNOW  IT'S LOVELY HERE THE AIR IS SWEET\n"
     ]
    },
    {
     "name": "stdout",
     "output_type": "stream",
     "text": [
      "File 4 of 528\r"
     ]
    },
    {
     "name": "stderr",
     "output_type": "stream",
     "text": [
      "[2025-01-20 01:23:20,223][835302387.py][line:31][INFO] Transcription of file 5 has been formatted\n",
      "[2025-01-20 01:23:20,223][835302387.py][line:32][INFO] ORIGINAL:  I'm not sorry, no. But I'm... I can't stay.\n",
      "[2025-01-20 01:23:20,239][835302387.py][line:33][INFO] FORMATTED:  I'M NOT SORRY  NO BUT I'M I CAN'T STAY\n"
     ]
    },
    {
     "name": "stdout",
     "output_type": "stream",
     "text": [
      "File 5 of 528\r"
     ]
    },
    {
     "name": "stderr",
     "output_type": "stream",
     "text": [
      "[2025-01-20 01:23:21,049][835302387.py][line:31][INFO] Transcription of file 6 has been formatted\n",
      "[2025-01-20 01:23:21,049][835302387.py][line:32][INFO] ORIGINAL:  For one thing, your mother-in-law just told me to go.\n",
      "[2025-01-20 01:23:21,049][835302387.py][line:33][INFO] FORMATTED:  FOR ONE THING  YOUR MOTHER IN LAW JUST TOLD ME TO GO\n"
     ]
    },
    {
     "name": "stdout",
     "output_type": "stream",
     "text": [
      "File 6 of 528\r"
     ]
    },
    {
     "name": "stderr",
     "output_type": "stream",
     "text": [
      "[2025-01-20 01:23:21,610][835302387.py][line:31][INFO] Transcription of file 7 has been formatted\n",
      "[2025-01-20 01:23:21,610][835302387.py][line:32][INFO] ORIGINAL:  And then you, you've been kind of\n",
      "[2025-01-20 01:23:21,610][835302387.py][line:33][INFO] FORMATTED:  AND THEN YOU  YOU'VE BEEN KIND OF\n"
     ]
    },
    {
     "name": "stdout",
     "output_type": "stream",
     "text": [
      "File 7 of 528\r"
     ]
    },
    {
     "name": "stderr",
     "output_type": "stream",
     "text": [
      "[2025-01-20 01:23:22,239][835302387.py][line:31][INFO] Transcription of file 8 has been formatted\n",
      "[2025-01-20 01:23:22,239][835302387.py][line:32][INFO] ORIGINAL:  I'm sort of embarrassed ever since I got here.\n",
      "[2025-01-20 01:23:22,239][835302387.py][line:33][INFO] FORMATTED:  I'M SORT OF EMBARRASSED EVER SINCE I GOT HERE\n"
     ]
    },
    {
     "name": "stdout",
     "output_type": "stream",
     "text": [
      "File 8 of 528\r"
     ]
    },
    {
     "name": "stderr",
     "output_type": "stream",
     "text": [
      "[2025-01-20 01:23:22,647][835302387.py][line:31][INFO] Transcription of file 9 has been formatted\n",
      "[2025-01-20 01:23:22,661][835302387.py][line:32][INFO] ORIGINAL:  I knew they would.\n",
      "[2025-01-20 01:23:22,661][835302387.py][line:33][INFO] FORMATTED:  I KNEW THEY WOULD\n"
     ]
    },
    {
     "name": "stdout",
     "output_type": "stream",
     "text": [
      "File 9 of 528\r"
     ]
    },
    {
     "name": "stderr",
     "output_type": "stream",
     "text": [
      "[2025-01-20 01:23:23,556][835302387.py][line:31][INFO] Transcription of file 10 has been formatted\n",
      "[2025-01-20 01:23:23,556][835302387.py][line:32][INFO] ORIGINAL:  Well, sure, from your mother's point of view. Why else would I come?\n",
      "[2025-01-20 01:23:23,556][835302387.py][line:33][INFO] FORMATTED:  WELL  SURE  FROM YOUR MOTHER'S POINT OF VIEW WHY ELSE WOULD I COME \n"
     ]
    },
    {
     "name": "stdout",
     "output_type": "stream",
     "text": [
      "File 10 of 528\r"
     ]
    },
    {
     "name": "stderr",
     "output_type": "stream",
     "text": [
      "[2025-01-20 01:23:24,152][835302387.py][line:31][INFO] Transcription of file 11 has been formatted\n",
      "[2025-01-20 01:23:24,152][835302387.py][line:32][INFO] ORIGINAL:  I guess that's kind of why I came.\n",
      "[2025-01-20 01:23:24,167][835302387.py][line:33][INFO] FORMATTED:  I GUESS THAT'S KIND OF WHY I CAME\n"
     ]
    },
    {
     "name": "stdout",
     "output_type": "stream",
     "text": [
      "File 11 of 528\r"
     ]
    },
    {
     "name": "stderr",
     "output_type": "stream",
     "text": [
      "[2025-01-20 01:23:24,453][835302387.py][line:31][INFO] Transcription of file 12 has been formatted\n",
      "[2025-01-20 01:23:24,453][835302387.py][line:32][INFO] ORIGINAL:  Hey.\n",
      "[2025-01-20 01:23:24,453][835302387.py][line:33][INFO] FORMATTED:  HEY\n"
     ]
    },
    {
     "name": "stdout",
     "output_type": "stream",
     "text": [
      "File 12 of 528\r"
     ]
    },
    {
     "name": "stderr",
     "output_type": "stream",
     "text": [
      "[2025-01-20 01:23:24,826][835302387.py][line:31][INFO] Transcription of file 13 has been formatted\n",
      "[2025-01-20 01:23:24,842][835302387.py][line:32][INFO] ORIGINAL:  I love you.\n",
      "[2025-01-20 01:23:24,842][835302387.py][line:33][INFO] FORMATTED:  I LOVE YOU\n"
     ]
    },
    {
     "name": "stdout",
     "output_type": "stream",
     "text": [
      "File 13 of 528\r"
     ]
    },
    {
     "name": "stderr",
     "output_type": "stream",
     "text": [
      "[2025-01-20 01:23:25,392][835302387.py][line:31][INFO] Transcription of file 14 has been formatted\n",
      "[2025-01-20 01:23:25,392][835302387.py][line:32][INFO] ORIGINAL:  I don't know how to say it.\n",
      "[2025-01-20 01:23:25,392][835302387.py][line:33][INFO] FORMATTED:  I DON'T KNOW HOW TO SAY IT\n"
     ]
    },
    {
     "name": "stdout",
     "output_type": "stream",
     "text": [
      "File 14 of 528\r"
     ]
    },
    {
     "name": "stderr",
     "output_type": "stream",
     "text": [
      "[2025-01-20 01:23:25,923][835302387.py][line:31][INFO] Transcription of file 15 has been formatted\n",
      "[2025-01-20 01:23:25,924][835302387.py][line:32][INFO] ORIGINAL:  No, no. I see it.\n",
      "[2025-01-20 01:23:25,925][835302387.py][line:33][INFO] FORMATTED:  NO  NO I SEE IT\n"
     ]
    },
    {
     "name": "stdout",
     "output_type": "stream",
     "text": [
      "File 15 of 528\r"
     ]
    },
    {
     "name": "stderr",
     "output_type": "stream",
     "text": [
      "[2025-01-20 01:23:26,579][835302387.py][line:31][INFO] Transcription of file 16 has been formatted\n",
      "[2025-01-20 01:23:26,579][835302387.py][line:32][INFO] ORIGINAL:  Chris, I've been ready a long, long time.\n",
      "[2025-01-20 01:23:26,579][835302387.py][line:33][INFO] FORMATTED:  CHRIS  I'VE BEEN READY A LONG  LONG TIME\n"
     ]
    },
    {
     "name": "stdout",
     "output_type": "stream",
     "text": [
      "File 16 of 528\r"
     ]
    },
    {
     "name": "stderr",
     "output_type": "stream",
     "text": [
      "[2025-01-20 01:23:27,129][835302387.py][line:31][INFO] Transcription of file 17 has been formatted\n",
      "[2025-01-20 01:23:27,129][835302387.py][line:32][INFO] ORIGINAL:  I almost got married two years ago.\n",
      "[2025-01-20 01:23:27,129][835302387.py][line:33][INFO] FORMATTED:  I ALMOST GOT MARRIED TWO YEARS AGO\n"
     ]
    },
    {
     "name": "stdout",
     "output_type": "stream",
     "text": [
      "File 17 of 528\r"
     ]
    },
    {
     "name": "stderr",
     "output_type": "stream",
     "text": [
      "[2025-01-20 01:23:27,573][835302387.py][line:31][INFO] Transcription of file 18 has been formatted\n",
      "[2025-01-20 01:23:27,573][835302387.py][line:32][INFO] ORIGINAL:  You started to write me?\n",
      "[2025-01-20 01:23:27,573][835302387.py][line:33][INFO] FORMATTED:  YOU STARTED TO WRITE ME \n"
     ]
    },
    {
     "name": "stdout",
     "output_type": "stream",
     "text": [
      "File 18 of 528\r"
     ]
    },
    {
     "name": "stderr",
     "output_type": "stream",
     "text": [
      "[2025-01-20 01:23:27,951][835302387.py][line:31][INFO] Transcription of file 19 has been formatted\n",
      "[2025-01-20 01:23:27,953][835302387.py][line:32][INFO] ORIGINAL:  every day since.\n",
      "[2025-01-20 01:23:27,954][835302387.py][line:33][INFO] FORMATTED:  EVERY DAY SINCE\n"
     ]
    },
    {
     "name": "stdout",
     "output_type": "stream",
     "text": [
      "File 19 of 528\r"
     ]
    },
    {
     "name": "stderr",
     "output_type": "stream",
     "text": [
      "[2025-01-20 01:23:28,328][835302387.py][line:31][INFO] Transcription of file 20 has been formatted\n",
      "[2025-01-20 01:23:28,328][835302387.py][line:32][INFO] ORIGINAL:  beating around the bush\n",
      "[2025-01-20 01:23:28,328][835302387.py][line:33][INFO] FORMATTED:  BEATING AROUND THE BUSH\n"
     ]
    },
    {
     "name": "stdout",
     "output_type": "stream",
     "text": [
      "File 20 of 528\r"
     ]
    },
    {
     "name": "stderr",
     "output_type": "stream",
     "text": [
      "[2025-01-20 01:23:29,601][835302387.py][line:31][INFO] Transcription of file 21 has been formatted\n",
      "[2025-01-20 01:23:29,601][835302387.py][line:32][INFO] ORIGINAL:  I will never forgive you. All I done was sit around wondering if I was crazy waiting so long, wondering if you were thinking about me.\n",
      "[2025-01-20 01:23:29,601][835302387.py][line:33][INFO] FORMATTED:  I WILL NEVER FORGIVE YOU ALL I DONE WAS SIT AROUND WONDERING IF I WAS CRAZY WAITING SO LONG  WONDERING IF YOU WERE THINKING ABOUT ME\n"
     ]
    },
    {
     "name": "stdout",
     "output_type": "stream",
     "text": [
      "File 21 of 528\r"
     ]
    },
    {
     "name": "stderr",
     "output_type": "stream",
     "text": [
      "[2025-01-20 01:23:30,084][835302387.py][line:31][INFO] Transcription of file 22 has been formatted\n",
      "[2025-01-20 01:23:30,084][835302387.py][line:32][INFO] ORIGINAL:  I like that you're not.\n",
      "[2025-01-20 01:23:30,100][835302387.py][line:33][INFO] FORMATTED:  I LIKE THAT YOU'RE NOT\n"
     ]
    },
    {
     "name": "stdout",
     "output_type": "stream",
     "text": [
      "File 22 of 528\r"
     ]
    },
    {
     "name": "stderr",
     "output_type": "stream",
     "text": [
      "[2025-01-20 01:23:30,759][835302387.py][line:31][INFO] Transcription of file 23 has been formatted\n",
      "[2025-01-20 01:23:30,759][835302387.py][line:32][INFO] ORIGINAL:  Like Larry's brother. Do it like you, Chris.\n",
      "[2025-01-20 01:23:30,759][835302387.py][line:33][INFO] FORMATTED:  LIKE LARRY'S BROTHER DO IT LIKE YOU  CHRIS\n"
     ]
    },
    {
     "name": "stdout",
     "output_type": "stream",
     "text": [
      "File 23 of 528\r"
     ]
    },
    {
     "name": "stderr",
     "output_type": "stream",
     "text": [
      "[2025-01-20 01:23:31,135][835302387.py][line:31][INFO] Transcription of file 24 has been formatted\n",
      "[2025-01-20 01:23:31,135][835302387.py][line:32][INFO] ORIGINAL:  Yeah, sure.\n",
      "[2025-01-20 01:23:31,135][835302387.py][line:33][INFO] FORMATTED:  YEAH  SURE\n"
     ]
    },
    {
     "name": "stdout",
     "output_type": "stream",
     "text": [
      "File 24 of 528\r"
     ]
    },
    {
     "name": "stderr",
     "output_type": "stream",
     "text": [
      "[2025-01-20 01:23:31,462][835302387.py][line:31][INFO] Transcription of file 25 has been formatted\n",
      "[2025-01-20 01:23:31,462][835302387.py][line:32][INFO] ORIGINAL:  How many?\n",
      "[2025-01-20 01:23:31,462][835302387.py][line:33][INFO] FORMATTED:  HOW MANY \n"
     ]
    },
    {
     "name": "stdout",
     "output_type": "stream",
     "text": [
      "File 25 of 528\r"
     ]
    },
    {
     "name": "stderr",
     "output_type": "stream",
     "text": [
      "[2025-01-20 01:23:31,873][835302387.py][line:31][INFO] Transcription of file 26 has been formatted\n",
      "[2025-01-20 01:23:31,873][835302387.py][line:32][INFO] ORIGINAL:  Ah, jeez.\n",
      "[2025-01-20 01:23:31,873][835302387.py][line:33][INFO] FORMATTED:  AH  JEEZ\n"
     ]
    },
    {
     "name": "stdout",
     "output_type": "stream",
     "text": [
      "File 26 of 528\r"
     ]
    },
    {
     "name": "stderr",
     "output_type": "stream",
     "text": [
      "[2025-01-20 01:23:32,245][835302387.py][line:31][INFO] Transcription of file 27 has been formatted\n",
      "[2025-01-20 01:23:32,245][835302387.py][line:32][INFO] ORIGINAL:  Mm-hmm.\n",
      "[2025-01-20 01:23:32,245][835302387.py][line:33][INFO] FORMATTED:  MM HMM\n"
     ]
    },
    {
     "name": "stdout",
     "output_type": "stream",
     "text": [
      "File 27 of 528\r"
     ]
    },
    {
     "name": "stderr",
     "output_type": "stream",
     "text": [
      "[2025-01-20 01:23:32,771][835302387.py][line:31][INFO] Transcription of file 28 has been formatted\n",
      "[2025-01-20 01:23:32,771][835302387.py][line:32][INFO] ORIGINAL:  What would I do with a fortune?\n",
      "[2025-01-20 01:23:32,771][835302387.py][line:33][INFO] FORMATTED:  WHAT WOULD I DO WITH A FORTUNE \n"
     ]
    },
    {
     "name": "stdout",
     "output_type": "stream",
     "text": [
      "File 28 of 528\r"
     ]
    },
    {
     "name": "stderr",
     "output_type": "stream",
     "text": [
      "[2025-01-20 01:23:33,219][835302387.py][line:31][INFO] Transcription of file 29 has been formatted\n",
      "[2025-01-20 01:23:33,219][835302387.py][line:32][INFO] ORIGINAL:  I'm very much silly.\n",
      "[2025-01-20 01:23:33,219][835302387.py][line:33][INFO] FORMATTED:  I'M VERY MUCH SILLY\n"
     ]
    },
    {
     "name": "stdout",
     "output_type": "stream",
     "text": [
      "File 29 of 528\r"
     ]
    },
    {
     "name": "stderr",
     "output_type": "stream",
     "text": [
      "[2025-01-20 01:23:33,805][835302387.py][line:31][INFO] Transcription of file 30 has been formatted\n",
      "[2025-01-20 01:23:33,805][835302387.py][line:32][INFO] ORIGINAL:  Oh, you knew there was nothing in that.\n",
      "[2025-01-20 01:23:33,805][835302387.py][line:33][INFO] FORMATTED:  OH  YOU KNEW THERE WAS NOTHING IN THAT\n"
     ]
    },
    {
     "name": "stdout",
     "output_type": "stream",
     "text": [
      "File 30 of 528\r"
     ]
    },
    {
     "name": "stderr",
     "output_type": "stream",
     "text": [
      "[2025-01-20 01:23:34,475][835302387.py][line:31][INFO] Transcription of file 31 has been formatted\n",
      "[2025-01-20 01:23:34,475][835302387.py][line:32][INFO] ORIGINAL:  A presence? There's only a trivial little brooch.\n",
      "[2025-01-20 01:23:34,491][835302387.py][line:33][INFO] FORMATTED:  A PRESENCE  THERE'S ONLY A TRIVIAL LITTLE BROOCH\n"
     ]
    },
    {
     "name": "stdout",
     "output_type": "stream",
     "text": [
      "File 31 of 528\r"
     ]
    },
    {
     "name": "stderr",
     "output_type": "stream",
     "text": [
      "[2025-01-20 01:23:35,216][835302387.py][line:31][INFO] Transcription of file 32 has been formatted\n",
      "[2025-01-20 01:23:35,216][835302387.py][line:32][INFO] ORIGINAL:  I did not! You worked that whole thing up in your jealous imagination.\n",
      "[2025-01-20 01:23:35,216][835302387.py][line:33][INFO] FORMATTED:  I DID NOT  YOU WORKED THAT WHOLE THING UP IN YOUR JEALOUS IMAGINATION\n"
     ]
    },
    {
     "name": "stdout",
     "output_type": "stream",
     "text": [
      "File 32 of 528\r"
     ]
    },
    {
     "name": "stderr",
     "output_type": "stream",
     "text": [
      "[2025-01-20 01:23:35,656][835302387.py][line:31][INFO] Transcription of file 33 has been formatted\n",
      "[2025-01-20 01:23:35,656][835302387.py][line:32][INFO] ORIGINAL:  Well, what of it?\n",
      "[2025-01-20 01:23:35,656][835302387.py][line:33][INFO] FORMATTED:  WELL  WHAT OF IT \n"
     ]
    },
    {
     "name": "stdout",
     "output_type": "stream",
     "text": [
      "File 33 of 528\r"
     ]
    },
    {
     "name": "stderr",
     "output_type": "stream",
     "text": [
      "[2025-01-20 01:23:36,061][835302387.py][line:31][INFO] Transcription of file 34 has been formatted\n",
      "[2025-01-20 01:23:36,077][835302387.py][line:32][INFO] ORIGINAL:  Don't be stupid.\n",
      "[2025-01-20 01:23:36,077][835302387.py][line:33][INFO] FORMATTED:  DON'T BE STUPID\n"
     ]
    },
    {
     "name": "stdout",
     "output_type": "stream",
     "text": [
      "File 34 of 528\r"
     ]
    },
    {
     "name": "stderr",
     "output_type": "stream",
     "text": [
      "[2025-01-20 01:23:36,374][835302387.py][line:31][INFO] Transcription of file 35 has been formatted\n",
      "[2025-01-20 01:23:36,374][835302387.py][line:32][INFO] ORIGINAL:  What?\n",
      "[2025-01-20 01:23:36,374][835302387.py][line:33][INFO] FORMATTED:  WHAT \n"
     ]
    },
    {
     "name": "stdout",
     "output_type": "stream",
     "text": [
      "File 35 of 528\r"
     ]
    },
    {
     "name": "stderr",
     "output_type": "stream",
     "text": [
      "[2025-01-20 01:23:36,995][835302387.py][line:31][INFO] Transcription of file 36 has been formatted\n",
      "[2025-01-20 01:23:37,011][835302387.py][line:32][INFO] ORIGINAL:  No, I'm just making myself fascinating for you.\n",
      "[2025-01-20 01:23:37,011][835302387.py][line:33][INFO] FORMATTED:  NO  I'M JUST MAKING MYSELF FASCINATING FOR YOU\n"
     ]
    },
    {
     "name": "stdout",
     "output_type": "stream",
     "text": [
      "File 36 of 528\r"
     ]
    },
    {
     "name": "stderr",
     "output_type": "stream",
     "text": [
      "[2025-01-20 01:23:37,736][835302387.py][line:31][INFO] Transcription of file 37 has been formatted\n",
      "[2025-01-20 01:23:37,736][835302387.py][line:32][INFO] ORIGINAL:  Oh, it's a woman's duty to allure the man.\n",
      "[2025-01-20 01:23:37,736][835302387.py][line:33][INFO] FORMATTED:  OH  IT'S A WOMAN'S DUTY TO ALLURE THE MAN\n"
     ]
    },
    {
     "name": "stdout",
     "output_type": "stream",
     "text": [
      "File 37 of 528\r"
     ]
    },
    {
     "name": "stderr",
     "output_type": "stream",
     "text": [
      "[2025-01-20 01:23:38,184][835302387.py][line:31][INFO] Transcription of file 38 has been formatted\n",
      "[2025-01-20 01:23:38,184][835302387.py][line:32][INFO] ORIGINAL:  No, it isn't.\n",
      "[2025-01-20 01:23:38,184][835302387.py][line:33][INFO] FORMATTED:  NO  IT ISN'T\n"
     ]
    },
    {
     "name": "stdout",
     "output_type": "stream",
     "text": [
      "File 38 of 528\r"
     ]
    },
    {
     "name": "stderr",
     "output_type": "stream",
     "text": [
      "[2025-01-20 01:23:38,526][835302387.py][line:31][INFO] Transcription of file 39 has been formatted\n",
      "[2025-01-20 01:23:38,526][835302387.py][line:32][INFO] ORIGINAL:  Shut up.\n",
      "[2025-01-20 01:23:38,526][835302387.py][line:33][INFO] FORMATTED:  SHUT UP\n"
     ]
    },
    {
     "name": "stdout",
     "output_type": "stream",
     "text": [
      "File 39 of 528\r"
     ]
    },
    {
     "name": "stderr",
     "output_type": "stream",
     "text": [
      "[2025-01-20 01:23:39,839][835302387.py][line:31][INFO] Transcription of file 40 has been formatted\n",
      "[2025-01-20 01:23:39,839][835302387.py][line:32][INFO] ORIGINAL:  They stink. They snap. I don't care, do you understand? I don't care if they bark and they roll about like hoops.\n",
      "[2025-01-20 01:23:39,839][835302387.py][line:33][INFO] FORMATTED:  THEY STINK THEY SNAP I DON'T CARE  DO YOU UNDERSTAND  I DON'T CARE IF THEY BARK AND THEY ROLL ABOUT LIKE HOOPS\n"
     ]
    },
    {
     "name": "stdout",
     "output_type": "stream",
     "text": [
      "File 40 of 528\r"
     ]
    },
    {
     "name": "stderr",
     "output_type": "stream",
     "text": [
      "[2025-01-20 01:23:40,390][835302387.py][line:31][INFO] Transcription of file 41 has been formatted\n",
      "[2025-01-20 01:23:40,390][835302387.py][line:32][INFO] ORIGINAL:  Yes, I did. Quite a lot.\n",
      "[2025-01-20 01:23:40,390][835302387.py][line:33][INFO] FORMATTED:  YES  I DID QUITE A LOT\n"
     ]
    },
    {
     "name": "stdout",
     "output_type": "stream",
     "text": [
      "File 41 of 528\r"
     ]
    },
    {
     "name": "stderr",
     "output_type": "stream",
     "text": [
      "[2025-01-20 01:23:40,797][835302387.py][line:31][INFO] Transcription of file 42 has been formatted\n",
      "[2025-01-20 01:23:40,797][835302387.py][line:32][INFO] ORIGINAL:  Mind your own business.\n",
      "[2025-01-20 01:23:40,812][835302387.py][line:33][INFO] FORMATTED:  MIND YOUR OWN BUSINESS\n"
     ]
    },
    {
     "name": "stdout",
     "output_type": "stream",
     "text": [
      "File 42 of 528\r"
     ]
    },
    {
     "name": "stderr",
     "output_type": "stream",
     "text": [
      "[2025-01-20 01:23:41,655][835302387.py][line:31][INFO] Transcription of file 43 has been formatted\n",
      "[2025-01-20 01:23:41,655][835302387.py][line:32][INFO] ORIGINAL:  You're quite insufferable. I expect it's because you're drunk.\n",
      "[2025-01-20 01:23:41,655][835302387.py][line:33][INFO] FORMATTED:  YOU'RE QUITE INSUFFERABLE I EXPECT IT'S BECAUSE YOU'RE DRUNK\n"
     ]
    },
    {
     "name": "stdout",
     "output_type": "stream",
     "text": [
      "File 43 of 528\r"
     ]
    },
    {
     "name": "stderr",
     "output_type": "stream",
     "text": [
      "[2025-01-20 01:23:42,155][835302387.py][line:31][INFO] Transcription of file 44 has been formatted\n",
      "[2025-01-20 01:23:42,155][835302387.py][line:32][INFO] ORIGINAL:  You always had a weak head.\n",
      "[2025-01-20 01:23:42,155][835302387.py][line:33][INFO] FORMATTED:  YOU ALWAYS HAD A WEAK HEAD\n"
     ]
    },
    {
     "name": "stdout",
     "output_type": "stream",
     "text": [
      "File 44 of 528\r"
     ]
    },
    {
     "name": "stderr",
     "output_type": "stream",
     "text": [
      "[2025-01-20 01:23:43,109][835302387.py][line:31][INFO] Transcription of file 45 has been formatted\n",
      "[2025-01-20 01:23:43,109][835302387.py][line:32][INFO] ORIGINAL:  On the contrary, a child of two could get violently drunk on only one glass of brandy.\n",
      "[2025-01-20 01:23:43,109][835302387.py][line:33][INFO] FORMATTED:  ON THE CONTRARY  A CHILD OF TWO COULD GET VIOLENTLY DRUNK ON ONLY ONE GLASS OF BRANDY\n"
     ]
    },
    {
     "name": "stdout",
     "output_type": "stream",
     "text": [
      "File 45 of 528\r"
     ]
    },
    {
     "name": "stderr",
     "output_type": "stream",
     "text": [
      "[2025-01-20 01:23:43,515][835302387.py][line:31][INFO] Transcription of file 46 has been formatted\n",
      "[2025-01-20 01:23:43,515][835302387.py][line:32][INFO] ORIGINAL:  Oh, shut up.\n",
      "[2025-01-20 01:23:43,515][835302387.py][line:33][INFO] FORMATTED:  OH  SHUT UP\n"
     ]
    },
    {
     "name": "stdout",
     "output_type": "stream",
     "text": [
      "File 46 of 528\r"
     ]
    },
    {
     "name": "stderr",
     "output_type": "stream",
     "text": [
      "[2025-01-20 01:23:43,859][835302387.py][line:31][INFO] Transcription of file 47 has been formatted\n",
      "[2025-01-20 01:23:43,859][835302387.py][line:32][INFO] ORIGINAL:  Shut up!\n",
      "[2025-01-20 01:23:43,859][835302387.py][line:33][INFO] FORMATTED:  SHUT UP \n"
     ]
    },
    {
     "name": "stdout",
     "output_type": "stream",
     "text": [
      "File 47 of 528\r"
     ]
    },
    {
     "name": "stderr",
     "output_type": "stream",
     "text": [
      "[2025-01-20 01:23:44,661][835302387.py][line:31][INFO] Transcription of file 48 has been formatted\n",
      "[2025-01-20 01:23:44,661][835302387.py][line:32][INFO] ORIGINAL:  Not very funny, darling. Why don't you have some more brandy?\n",
      "[2025-01-20 01:23:44,661][835302387.py][line:33][INFO] FORMATTED:  NOT VERY FUNNY  DARLING WHY DON'T YOU HAVE SOME MORE BRANDY \n"
     ]
    },
    {
     "name": "stdout",
     "output_type": "stream",
     "text": [
      "File 48 of 528\r"
     ]
    },
    {
     "name": "stderr",
     "output_type": "stream",
     "text": [
      "[2025-01-20 01:23:44,973][835302387.py][line:31][INFO] Transcription of file 49 has been formatted\n",
      "[2025-01-20 01:23:44,973][835302387.py][line:32][INFO] ORIGINAL:  Why?\n",
      "[2025-01-20 01:23:44,989][835302387.py][line:33][INFO] FORMATTED:  WHY \n"
     ]
    },
    {
     "name": "stdout",
     "output_type": "stream",
     "text": [
      "File 49 of 528\r"
     ]
    },
    {
     "name": "stderr",
     "output_type": "stream",
     "text": [
      "[2025-01-20 01:23:45,679][835302387.py][line:31][INFO] Transcription of file 50 has been formatted\n",
      "[2025-01-20 01:23:45,679][835302387.py][line:32][INFO] ORIGINAL:  There are no people upstairs. It's a photographer's studio.\n",
      "[2025-01-20 01:23:45,679][835302387.py][line:33][INFO] FORMATTED:  THERE ARE NO PEOPLE UPSTAIRS IT'S A PHOTOGRAPHER'S STUDIO\n"
     ]
    },
    {
     "name": "stdout",
     "output_type": "stream",
     "text": [
      "File 50 of 528\r"
     ]
    },
    {
     "name": "stderr",
     "output_type": "stream",
     "text": [
      "[2025-01-20 01:23:46,096][835302387.py][line:31][INFO] Transcription of file 51 has been formatted\n",
      "[2025-01-20 01:23:46,096][835302387.py][line:32][INFO] ORIGINAL:  Their way into Nice.\n",
      "[2025-01-20 01:23:46,096][835302387.py][line:33][INFO] FORMATTED:  THEIR WAY INTO NICE\n"
     ]
    },
    {
     "name": "stdout",
     "output_type": "stream",
     "text": [
      "File 51 of 528\r"
     ]
    },
    {
     "name": "stderr",
     "output_type": "stream",
     "text": [
      "[2025-01-20 01:23:46,843][835302387.py][line:31][INFO] Transcription of file 52 has been formatted\n",
      "[2025-01-20 01:23:46,843][835302387.py][line:32][INFO] ORIGINAL:  Fine, if you insist on being boorish and idiotic.\n",
      "[2025-01-20 01:23:46,843][835302387.py][line:33][INFO] FORMATTED:  FINE  IF YOU INSIST ON BEING BOORISH AND IDIOTIC\n"
     ]
    },
    {
     "name": "stdout",
     "output_type": "stream",
     "text": [
      "File 52 of 528\r"
     ]
    },
    {
     "name": "stderr",
     "output_type": "stream",
     "text": [
      "[2025-01-20 01:23:47,507][835302387.py][line:31][INFO] Transcription of file 53 has been formatted\n",
      "[2025-01-20 01:23:47,507][835302387.py][line:32][INFO] ORIGINAL:  You're far too temperamental. Try to control yourself.\n",
      "[2025-01-20 01:23:47,523][835302387.py][line:33][INFO] FORMATTED:  YOU'RE FAR TOO TEMPERAMENTAL TRY TO CONTROL YOURSELF\n"
     ]
    },
    {
     "name": "stdout",
     "output_type": "stream",
     "text": [
      "File 53 of 528\r"
     ]
    },
    {
     "name": "stderr",
     "output_type": "stream",
     "text": [
      "[2025-01-20 01:23:49,028][835302387.py][line:31][INFO] Transcription of file 54 has been formatted\n",
      "[2025-01-20 01:23:49,028][835302387.py][line:32][INFO] ORIGINAL:  I won't. Let go! Let go of me! Amanda, listen. Listen! Listen! I'm sick and tired of listening to you, you sadistic bully!\n",
      "[2025-01-20 01:23:49,028][835302387.py][line:33][INFO] FORMATTED:  I WON'T LET GO  LET GO OF ME  AMANDA  LISTEN LISTEN  LISTEN  I'M SICK AND TIRED OF LISTENING TO YOU  YOU SADISTIC BULLY \n"
     ]
    },
    {
     "name": "stdout",
     "output_type": "stream",
     "text": [
      "File 54 of 528\r"
     ]
    },
    {
     "name": "stderr",
     "output_type": "stream",
     "text": [
      "[2025-01-20 01:23:50,511][835302387.py][line:31][INFO] Transcription of file 55 has been formatted\n",
      "[2025-01-20 01:23:50,512][835302387.py][line:32][INFO] ORIGINAL:  Indeed. Oh, shut up! Let go! I hate you! I hate you! Do you hear? You are conceited and overbearing and utterly impossible!\n",
      "[2025-01-20 01:23:50,513][835302387.py][line:33][INFO] FORMATTED:  INDEED OH  SHUT UP  LET GO  I HATE YOU  I HATE YOU  DO YOU HEAR  YOU ARE CONCEITED AND OVERBEARING AND UTTERLY IMPOSSIBLE \n"
     ]
    },
    {
     "name": "stdout",
     "output_type": "stream",
     "text": [
      "File 55 of 528\r"
     ]
    },
    {
     "name": "stderr",
     "output_type": "stream",
     "text": [
      "[2025-01-20 01:23:51,236][835302387.py][line:31][INFO] Transcription of file 56 has been formatted\n",
      "[2025-01-20 01:23:51,236][835302387.py][line:32][INFO] ORIGINAL:  This is the end, do you hear me? Finally and forever.\n",
      "[2025-01-20 01:23:51,252][835302387.py][line:33][INFO] FORMATTED:  THIS IS THE END  DO YOU HEAR ME  FINALLY AND FOREVER\n"
     ]
    },
    {
     "name": "stdout",
     "output_type": "stream",
     "text": [
      "File 56 of 528\r"
     ]
    },
    {
     "name": "stderr",
     "output_type": "stream",
     "text": [
      "[2025-01-20 01:23:51,648][835302387.py][line:31][INFO] Transcription of file 57 has been formatted\n",
      "[2025-01-20 01:23:51,648][835302387.py][line:32][INFO] ORIGINAL:  Yes, I am.\n",
      "[2025-01-20 01:23:51,648][835302387.py][line:33][INFO] FORMATTED:  YES  I AM\n"
     ]
    },
    {
     "name": "stdout",
     "output_type": "stream",
     "text": [
      "File 57 of 528\r"
     ]
    },
    {
     "name": "stderr",
     "output_type": "stream",
     "text": [
      "[2025-01-20 01:23:54,171][835302387.py][line:31][INFO] Transcription of file 58 has been formatted\n",
      "[2025-01-20 01:23:54,171][835302387.py][line:32][INFO] ORIGINAL:  Yes, I am. Stop it! Stop it! Let go of me! Oh, you're a cruel fiend! I loathe and I hate you! Marry you again? Never, never, never, never, never. I hope you die in torment, you brute, beast, cad!\n",
      "[2025-01-20 01:23:54,171][835302387.py][line:33][INFO] FORMATTED:  YES  I AM STOP IT  STOP IT  LET GO OF ME  OH  YOU'RE A CRUEL FIEND  I LOATHE AND I HATE YOU  MARRY YOU AGAIN  NEVER  NEVER  NEVER  NEVER  NEVER I HOPE YOU DIE IN TORMENT  YOU BRUTE  BEAST  CAD \n"
     ]
    },
    {
     "name": "stdout",
     "output_type": "stream",
     "text": [
      "File 58 of 528\r"
     ]
    },
    {
     "name": "stderr",
     "output_type": "stream",
     "text": [
      "[2025-01-20 01:23:54,633][835302387.py][line:31][INFO] Transcription of file 59 has been formatted\n",
      "[2025-01-20 01:23:54,633][835302387.py][line:32][INFO] ORIGINAL:  It's the wind.\n",
      "[2025-01-20 01:23:54,633][835302387.py][line:33][INFO] FORMATTED:  IT'S THE WIND\n"
     ]
    },
    {
     "name": "stdout",
     "output_type": "stream",
     "text": [
      "File 59 of 528\r"
     ]
    },
    {
     "name": "stderr",
     "output_type": "stream",
     "text": [
      "[2025-01-20 01:23:54,969][835302387.py][line:31][INFO] Transcription of file 60 has been formatted\n",
      "[2025-01-20 01:23:54,969][835302387.py][line:32][INFO] ORIGINAL:  About what?\n",
      "[2025-01-20 01:23:54,969][835302387.py][line:33][INFO] FORMATTED:  ABOUT WHAT \n"
     ]
    },
    {
     "name": "stdout",
     "output_type": "stream",
     "text": [
      "File 60 of 528\r"
     ]
    },
    {
     "name": "stderr",
     "output_type": "stream",
     "text": [
      "[2025-01-20 01:23:56,117][835302387.py][line:31][INFO] Transcription of file 61 has been formatted\n",
      "[2025-01-20 01:23:56,117][835302387.py][line:32][INFO] ORIGINAL:  Don't ask me that. I hate it when you ask me that. You always ask me that. It's insulting.\n",
      "[2025-01-20 01:23:56,117][835302387.py][line:33][INFO] FORMATTED:  DON'T ASK ME THAT I HATE IT WHEN YOU ASK ME THAT YOU ALWAYS ASK ME THAT IT'S INSULTING\n"
     ]
    },
    {
     "name": "stdout",
     "output_type": "stream",
     "text": [
      "File 61 of 528\r"
     ]
    },
    {
     "name": "stderr",
     "output_type": "stream",
     "text": [
      "[2025-01-20 01:23:57,084][835302387.py][line:31][INFO] Transcription of file 62 has been formatted\n",
      "[2025-01-20 01:23:57,084][835302387.py][line:32][INFO] ORIGINAL:  For God- We go home. Grow up, Augie. The fish are not gonna arrive.\n",
      "[2025-01-20 01:23:57,084][835302387.py][line:33][INFO] FORMATTED:  FOR GOD  WE GO HOME GROW UP  AUGIE THE FISH ARE NOT GONNA ARRIVE\n"
     ]
    },
    {
     "name": "stdout",
     "output_type": "stream",
     "text": [
      "File 62 of 528\r"
     ]
    },
    {
     "name": "stderr",
     "output_type": "stream",
     "text": [
      "[2025-01-20 01:23:57,819][835302387.py][line:31][INFO] Transcription of file 63 has been formatted\n",
      "[2025-01-20 01:23:57,819][835302387.py][line:32][INFO] ORIGINAL:  Because we, they never do. Have they, have they ever?\n",
      "[2025-01-20 01:23:57,819][835302387.py][line:33][INFO] FORMATTED:  BECAUSE WE  THEY NEVER DO HAVE THEY  HAVE THEY EVER \n"
     ]
    },
    {
     "name": "stdout",
     "output_type": "stream",
     "text": [
      "File 63 of 528\r"
     ]
    },
    {
     "name": "stderr",
     "output_type": "stream",
     "text": [
      "[2025-01-20 01:23:58,404][835302387.py][line:31][INFO] Transcription of file 64 has been formatted\n",
      "[2025-01-20 01:23:58,404][835302387.py][line:32][INFO] ORIGINAL:  Twice as every time we've tried this ever.\n",
      "[2025-01-20 01:23:58,404][835302387.py][line:33][INFO] FORMATTED:  TWICE AS EVERY TIME WE'VE TRIED THIS EVER\n"
     ]
    },
    {
     "name": "stdout",
     "output_type": "stream",
     "text": [
      "File 64 of 528\r"
     ]
    },
    {
     "name": "stderr",
     "output_type": "stream",
     "text": [
      "[2025-01-20 01:23:59,666][835302387.py][line:31][INFO] Transcription of file 65 has been formatted\n",
      "[2025-01-20 01:23:59,682][835302387.py][line:32][INFO] ORIGINAL:  I feel like I'm always just standing here waiting. I feel like this night is going to be the night, but it never is.\n",
      "[2025-01-20 01:23:59,682][835302387.py][line:33][INFO] FORMATTED:  I FEEL LIKE I'M ALWAYS JUST STANDING HERE WAITING I FEEL LIKE THIS NIGHT IS GOING TO BE THE NIGHT  BUT IT NEVER IS\n"
     ]
    },
    {
     "name": "stdout",
     "output_type": "stream",
     "text": [
      "File 65 of 528\r"
     ]
    },
    {
     "name": "stderr",
     "output_type": "stream",
     "text": [
      "[2025-01-20 01:24:00,311][835302387.py][line:31][INFO] Transcription of file 66 has been formatted\n",
      "[2025-01-20 01:24:00,311][835302387.py][line:32][INFO] ORIGINAL:  For God's sake, this is not about fish!\n",
      "[2025-01-20 01:24:00,327][835302387.py][line:33][INFO] FORMATTED:  FOR GOD'S SAKE  THIS IS NOT ABOUT FISH \n"
     ]
    },
    {
     "name": "stdout",
     "output_type": "stream",
     "text": [
      "File 66 of 528\r"
     ]
    },
    {
     "name": "stderr",
     "output_type": "stream",
     "text": [
      "[2025-01-20 01:24:01,286][835302387.py][line:31][INFO] Transcription of file 67 has been formatted\n",
      "[2025-01-20 01:24:01,288][835302387.py][line:32][INFO] ORIGINAL:  Do you remember the first year we came here? It was like four years after we got married.\n",
      "[2025-01-20 01:24:01,289][835302387.py][line:33][INFO] FORMATTED:  DO YOU REMEMBER THE FIRST YEAR WE CAME HERE  IT WAS LIKE FOUR YEARS AFTER WE GOT MARRIED\n"
     ]
    },
    {
     "name": "stdout",
     "output_type": "stream",
     "text": [
      "File 67 of 528\r"
     ]
    },
    {
     "name": "stderr",
     "output_type": "stream",
     "text": [
      "[2025-01-20 01:24:03,404][835302387.py][line:31][INFO] Transcription of file 68 has been formatted\n",
      "[2025-01-20 01:24:03,404][835302387.py][line:32][INFO] ORIGINAL:  He whispered the sweetest, most intimate things to me right into my ear so I could feel them as much as hear them. And I remember thinking, this is it. You know, finally, I'm as happy as I'm supposed to be.\n",
      "[2025-01-20 01:24:03,404][835302387.py][line:33][INFO] FORMATTED:  HE WHISPERED THE SWEETEST  MOST INTIMATE THINGS TO ME RIGHT INTO MY EAR SO I COULD FEEL THEM AS MUCH AS HEAR THEM AND I REMEMBER THINKING  THIS IS IT YOU KNOW  FINALLY  I'M AS HAPPY AS I'M SUPPOSED TO BE\n"
     ]
    },
    {
     "name": "stdout",
     "output_type": "stream",
     "text": [
      "File 68 of 528\r"
     ]
    },
    {
     "name": "stderr",
     "output_type": "stream",
     "text": [
      "[2025-01-20 01:24:04,310][835302387.py][line:31][INFO] Transcription of file 69 has been formatted\n",
      "[2025-01-20 01:24:04,310][835302387.py][line:32][INFO] ORIGINAL:  I'd rather not remember some things. I'd rather not hope for some things.\n",
      "[2025-01-20 01:24:04,310][835302387.py][line:33][INFO] FORMATTED:  I'D RATHER NOT REMEMBER SOME THINGS I'D RATHER NOT HOPE FOR SOME THINGS\n"
     ]
    },
    {
     "name": "stdout",
     "output_type": "stream",
     "text": [
      "File 69 of 528\r"
     ]
    },
    {
     "name": "stderr",
     "output_type": "stream",
     "text": [
      "[2025-01-20 01:24:04,616][835302387.py][line:31][INFO] Transcription of file 70 has been formatted\n",
      "[2025-01-20 01:24:04,616][835302387.py][line:32][INFO] ORIGINAL:  No.\n",
      "[2025-01-20 01:24:04,616][835302387.py][line:33][INFO] FORMATTED:  NO\n"
     ]
    },
    {
     "name": "stdout",
     "output_type": "stream",
     "text": [
      "File 70 of 528\r"
     ]
    },
    {
     "name": "stderr",
     "output_type": "stream",
     "text": [
      "[2025-01-20 01:24:04,908][835302387.py][line:31][INFO] Transcription of file 71 has been formatted\n",
      "[2025-01-20 01:24:04,908][835302387.py][line:32][INFO] ORIGINAL:  No.\n",
      "[2025-01-20 01:24:04,908][835302387.py][line:33][INFO] FORMATTED:  NO\n"
     ]
    },
    {
     "name": "stdout",
     "output_type": "stream",
     "text": [
      "File 71 of 528\r"
     ]
    },
    {
     "name": "stderr",
     "output_type": "stream",
     "text": [
      "[2025-01-20 01:24:05,537][835302387.py][line:31][INFO] Transcription of file 72 has been formatted\n",
      "[2025-01-20 01:24:05,537][835302387.py][line:32][INFO] ORIGINAL:  I know you are, Augie. I know.\n",
      "[2025-01-20 01:24:05,537][835302387.py][line:33][INFO] FORMATTED:  I KNOW YOU ARE  AUGIE I KNOW\n"
     ]
    },
    {
     "name": "stdout",
     "output_type": "stream",
     "text": [
      "File 72 of 528\r"
     ]
    },
    {
     "name": "stderr",
     "output_type": "stream",
     "text": [
      "[2025-01-20 01:24:07,482][835302387.py][line:31][INFO] Transcription of file 73 has been formatted\n",
      "[2025-01-20 01:24:07,482][835302387.py][line:32][INFO] ORIGINAL:  I know you meant to be special. I know you meant this to be special. I know that you wanted it to be right, but I just can't help thinking that... I can't help wishing that I was somewhere else.\n",
      "[2025-01-20 01:24:07,482][835302387.py][line:33][INFO] FORMATTED:  I KNOW YOU MEANT TO BE SPECIAL I KNOW YOU MEANT THIS TO BE SPECIAL I KNOW THAT YOU WANTED IT TO BE RIGHT  BUT I JUST CAN'T HELP THINKING THAT I CAN'T HELP WISHING THAT I WAS SOMEWHERE ELSE\n"
     ]
    },
    {
     "name": "stdout",
     "output_type": "stream",
     "text": [
      "File 73 of 528\r"
     ]
    },
    {
     "name": "stderr",
     "output_type": "stream",
     "text": [
      "[2025-01-20 01:24:07,923][835302387.py][line:31][INFO] Transcription of file 74 has been formatted\n",
      "[2025-01-20 01:24:07,939][835302387.py][line:32][INFO] ORIGINAL:  I didn't say that.\n",
      "[2025-01-20 01:24:07,940][835302387.py][line:33][INFO] FORMATTED:  I DIDN'T SAY THAT\n"
     ]
    },
    {
     "name": "stdout",
     "output_type": "stream",
     "text": [
      "File 74 of 528\r"
     ]
    },
    {
     "name": "stderr",
     "output_type": "stream",
     "text": [
      "[2025-01-20 01:24:09,146][835302387.py][line:31][INFO] Transcription of file 75 has been formatted\n",
      "[2025-01-20 01:24:09,146][835302387.py][line:32][INFO] ORIGINAL:  You're the one who probably wishes he was with somebody else. Somebody who didn't take things so seriously. Who could enjoy herself.\n",
      "[2025-01-20 01:24:09,146][835302387.py][line:33][INFO] FORMATTED:  YOU'RE THE ONE WHO PROBABLY WISHES HE WAS WITH SOMEBODY ELSE SOMEBODY WHO DIDN'T TAKE THINGS SO SERIOUSLY WHO COULD ENJOY HERSELF\n"
     ]
    },
    {
     "name": "stdout",
     "output_type": "stream",
     "text": [
      "File 75 of 528\r"
     ]
    },
    {
     "name": "stderr",
     "output_type": "stream",
     "text": [
      "[2025-01-20 01:24:10,009][835302387.py][line:31][INFO] Transcription of file 76 has been formatted\n",
      "[2025-01-20 01:24:10,009][835302387.py][line:32][INFO] ORIGINAL:  So maybe we're in the wrong spot, but we're with the right person.\n",
      "[2025-01-20 01:24:10,009][835302387.py][line:33][INFO] FORMATTED:  SO MAYBE WE'RE IN THE WRONG SPOT  BUT WE'RE WITH THE RIGHT PERSON\n"
     ]
    },
    {
     "name": "stdout",
     "output_type": "stream",
     "text": [
      "File 76 of 528\r"
     ]
    },
    {
     "name": "stderr",
     "output_type": "stream",
     "text": [
      "[2025-01-20 01:24:10,720][835302387.py][line:31][INFO] Transcription of file 77 has been formatted\n",
      "[2025-01-20 01:24:10,721][835302387.py][line:32][INFO] ORIGINAL:  I noticed that. It's pretty. Big old white moon.\n",
      "[2025-01-20 01:24:10,722][835302387.py][line:33][INFO] FORMATTED:  I NOTICED THAT IT'S PRETTY BIG OLD WHITE MOON\n"
     ]
    },
    {
     "name": "stdout",
     "output_type": "stream",
     "text": [
      "File 77 of 528\r"
     ]
    },
    {
     "name": "stderr",
     "output_type": "stream",
     "text": [
      "[2025-01-20 01:24:11,292][835302387.py][line:31][INFO] Transcription of file 78 has been formatted\n",
      "[2025-01-20 01:24:11,293][835302387.py][line:32][INFO] ORIGINAL:  Auggie, you brought refreshments.\n",
      "[2025-01-20 01:24:11,294][835302387.py][line:33][INFO] FORMATTED:  AUGGIE  YOU BROUGHT REFRESHMENTS\n"
     ]
    },
    {
     "name": "stdout",
     "output_type": "stream",
     "text": [
      "File 78 of 528\r"
     ]
    },
    {
     "name": "stderr",
     "output_type": "stream",
     "text": [
      "[2025-01-20 01:24:11,769][835302387.py][line:31][INFO] Transcription of file 79 has been formatted\n",
      "[2025-01-20 01:24:11,784][835302387.py][line:32][INFO] ORIGINAL:  I guess we don't need glasses.\n",
      "[2025-01-20 01:24:11,784][835302387.py][line:33][INFO] FORMATTED:  I GUESS WE DON'T NEED GLASSES\n"
     ]
    },
    {
     "name": "stdout",
     "output_type": "stream",
     "text": [
      "File 79 of 528\r"
     ]
    },
    {
     "name": "stderr",
     "output_type": "stream",
     "text": [
      "[2025-01-20 01:24:12,507][835302387.py][line:31][INFO] Transcription of file 80 has been formatted\n",
      "[2025-01-20 01:24:12,509][835302387.py][line:32][INFO] ORIGINAL:  I'm beginning to think this might be the right spot after all.\n",
      "[2025-01-20 01:24:12,509][835302387.py][line:33][INFO] FORMATTED:  I'M BEGINNING TO THINK THIS MIGHT BE THE RIGHT SPOT AFTER ALL\n"
     ]
    },
    {
     "name": "stdout",
     "output_type": "stream",
     "text": [
      "File 80 of 528\r"
     ]
    },
    {
     "name": "stderr",
     "output_type": "stream",
     "text": [
      "[2025-01-20 01:24:12,984][835302387.py][line:31][INFO] Transcription of file 81 has been formatted\n",
      "[2025-01-20 01:24:12,984][835302387.py][line:32][INFO] ORIGINAL:  Augie, I'm sorry.\n",
      "[2025-01-20 01:24:12,984][835302387.py][line:33][INFO] FORMATTED:  AUGIE  I'M SORRY\n"
     ]
    },
    {
     "name": "stdout",
     "output_type": "stream",
     "text": [
      "File 81 of 528\r"
     ]
    },
    {
     "name": "stderr",
     "output_type": "stream",
     "text": [
      "[2025-01-20 01:24:13,318][835302387.py][line:31][INFO] Transcription of file 82 has been formatted\n",
      "[2025-01-20 01:24:13,318][835302387.py][line:32][INFO] ORIGINAL:  Or not.\n",
      "[2025-01-20 01:24:13,318][835302387.py][line:33][INFO] FORMATTED:  OR NOT\n"
     ]
    },
    {
     "name": "stdout",
     "output_type": "stream",
     "text": [
      "File 82 of 528\r"
     ]
    },
    {
     "name": "stderr",
     "output_type": "stream",
     "text": [
      "[2025-01-20 01:24:13,756][835302387.py][line:31][INFO] Transcription of file 83 has been formatted\n",
      "[2025-01-20 01:24:13,771][835302387.py][line:32][INFO] ORIGINAL:  You seem kind of down.\n",
      "[2025-01-20 01:24:13,771][835302387.py][line:33][INFO] FORMATTED:  YOU SEEM KIND OF DOWN\n"
     ]
    },
    {
     "name": "stdout",
     "output_type": "stream",
     "text": [
      "File 83 of 528\r"
     ]
    },
    {
     "name": "stderr",
     "output_type": "stream",
     "text": [
      "[2025-01-20 01:24:14,185][835302387.py][line:31][INFO] Transcription of file 84 has been formatted\n",
      "[2025-01-20 01:24:14,185][835302387.py][line:32][INFO] ORIGINAL:  What do you mean?\n",
      "[2025-01-20 01:24:14,185][835302387.py][line:33][INFO] FORMATTED:  WHAT DO YOU MEAN \n"
     ]
    },
    {
     "name": "stdout",
     "output_type": "stream",
     "text": [
      "File 84 of 528\r"
     ]
    },
    {
     "name": "stderr",
     "output_type": "stream",
     "text": [
      "[2025-01-20 01:24:14,763][835302387.py][line:31][INFO] Transcription of file 85 has been formatted\n",
      "[2025-01-20 01:24:14,763][835302387.py][line:32][INFO] ORIGINAL:  There's a lot of people looking for jobs.\n",
      "[2025-01-20 01:24:14,778][835302387.py][line:33][INFO] FORMATTED:  THERE'S A LOT OF PEOPLE LOOKING FOR JOBS\n"
     ]
    },
    {
     "name": "stdout",
     "output_type": "stream",
     "text": [
      "File 85 of 528\r"
     ]
    },
    {
     "name": "stderr",
     "output_type": "stream",
     "text": [
      "[2025-01-20 01:24:15,521][835302387.py][line:31][INFO] Transcription of file 86 has been formatted\n",
      "[2025-01-20 01:24:15,521][835302387.py][line:32][INFO] ORIGINAL:  I don't know. I mean, I just don't think...\n",
      "[2025-01-20 01:24:15,521][835302387.py][line:33][INFO] FORMATTED:  I DON'T KNOW I MEAN  I JUST DON'T THINK\n"
     ]
    },
    {
     "name": "stdout",
     "output_type": "stream",
     "text": [
      "File 86 of 528\r"
     ]
    },
    {
     "name": "stderr",
     "output_type": "stream",
     "text": [
      "[2025-01-20 01:24:16,325][835302387.py][line:31][INFO] Transcription of file 87 has been formatted\n",
      "[2025-01-20 01:24:16,340][835302387.py][line:32][INFO] ORIGINAL:  Do you ever think it might be your attitude? What's like a woman?\n",
      "[2025-01-20 01:24:16,340][835302387.py][line:33][INFO] FORMATTED:  DO YOU EVER THINK IT MIGHT BE YOUR ATTITUDE  WHAT'S LIKE A WOMAN \n"
     ]
    },
    {
     "name": "stdout",
     "output_type": "stream",
     "text": [
      "File 87 of 528\r"
     ]
    },
    {
     "name": "stderr",
     "output_type": "stream",
     "text": [
      "[2025-01-20 01:24:17,656][835302387.py][line:31][INFO] Transcription of file 88 has been formatted\n",
      "[2025-01-20 01:24:17,656][835302387.py][line:32][INFO] ORIGINAL:  I don't know, just sometimes you get... You don't have a magic problem? No, I'm not saying that. I'm just...\n",
      "[2025-01-20 01:24:17,656][835302387.py][line:33][INFO] FORMATTED:  I DON'T KNOW  JUST SOMETIMES YOU GET YOU DON'T HAVE A MAGIC PROBLEM  NO  I'M NOT SAYING THAT I'M JUST\n"
     ]
    },
    {
     "name": "stdout",
     "output_type": "stream",
     "text": [
      "File 88 of 528\r"
     ]
    },
    {
     "name": "stderr",
     "output_type": "stream",
     "text": [
      "[2025-01-20 01:24:18,474][835302387.py][line:31][INFO] Transcription of file 89 has been formatted\n",
      "[2025-01-20 01:24:18,474][835302387.py][line:32][INFO] ORIGINAL:  Has anyone ever said anything like that to you before? No. Well, maybe\n",
      "[2025-01-20 01:24:18,474][835302387.py][line:33][INFO] FORMATTED:  HAS ANYONE EVER SAID ANYTHING LIKE THAT TO YOU BEFORE  NO WELL  MAYBE\n"
     ]
    },
    {
     "name": "stdout",
     "output_type": "stream",
     "text": [
      "File 89 of 528\r"
     ]
    },
    {
     "name": "stderr",
     "output_type": "stream",
     "text": [
      "[2025-01-20 01:24:18,839][835302387.py][line:31][INFO] Transcription of file 90 has been formatted\n",
      "[2025-01-20 01:24:18,839][835302387.py][line:32][INFO] ORIGINAL:  Right, sure.\n",
      "[2025-01-20 01:24:18,839][835302387.py][line:33][INFO] FORMATTED:  RIGHT  SURE\n"
     ]
    },
    {
     "name": "stdout",
     "output_type": "stream",
     "text": [
      "File 90 of 528\r"
     ]
    },
    {
     "name": "stderr",
     "output_type": "stream",
     "text": [
      "[2025-01-20 01:24:19,865][835302387.py][line:31][INFO] Transcription of file 91 has been formatted\n",
      "[2025-01-20 01:24:19,865][835302387.py][line:32][INFO] ORIGINAL:  But I mean, you kind of got to. You got to fake it until you feel it, right?\n",
      "[2025-01-20 01:24:19,865][835302387.py][line:33][INFO] FORMATTED:  BUT I MEAN  YOU KIND OF GOT TO YOU GOT TO FAKE IT UNTIL YOU FEEL IT  RIGHT \n"
     ]
    },
    {
     "name": "stdout",
     "output_type": "stream",
     "text": [
      "File 91 of 528\r"
     ]
    },
    {
     "name": "stderr",
     "output_type": "stream",
     "text": [
      "[2025-01-20 01:24:20,903][835302387.py][line:31][INFO] Transcription of file 92 has been formatted\n",
      "[2025-01-20 01:24:20,903][835302387.py][line:32][INFO] ORIGINAL:  I'm just saying that if I was looking to hire somebody and they were kind of... No, no.\n",
      "[2025-01-20 01:24:20,903][835302387.py][line:33][INFO] FORMATTED:  I'M JUST SAYING THAT IF I WAS LOOKING TO HIRE SOMEBODY AND THEY WERE KIND OF NO  NO\n"
     ]
    },
    {
     "name": "stdout",
     "output_type": "stream",
     "text": [
      "File 92 of 528\r"
     ]
    },
    {
     "name": "stderr",
     "output_type": "stream",
     "text": [
      "[2025-01-20 01:24:22,195][835302387.py][line:31][INFO] Transcription of file 93 has been formatted\n",
      "[2025-01-20 01:24:22,195][835302387.py][line:32][INFO] ORIGINAL:  No. I'm just saying though that if I was that person who was hiring somebody, I would not hire someone who was angry or upset.\n",
      "[2025-01-20 01:24:22,195][835302387.py][line:33][INFO] FORMATTED:  NO I'M JUST SAYING THOUGH THAT IF I WAS THAT PERSON WHO WAS HIRING SOMEBODY  I WOULD NOT HIRE SOMEONE WHO WAS ANGRY OR UPSET\n"
     ]
    },
    {
     "name": "stdout",
     "output_type": "stream",
     "text": [
      "File 93 of 528\r"
     ]
    },
    {
     "name": "stderr",
     "output_type": "stream",
     "text": [
      "[2025-01-20 01:24:22,483][835302387.py][line:31][INFO] Transcription of file 94 has been formatted\n",
      "[2025-01-20 01:24:22,483][835302387.py][line:32][INFO] ORIGINAL:  No.\n",
      "[2025-01-20 01:24:22,499][835302387.py][line:33][INFO] FORMATTED:  NO\n"
     ]
    },
    {
     "name": "stdout",
     "output_type": "stream",
     "text": [
      "File 94 of 528\r"
     ]
    },
    {
     "name": "stderr",
     "output_type": "stream",
     "text": [
      "[2025-01-20 01:24:23,266][835302387.py][line:31][INFO] Transcription of file 95 has been formatted\n",
      "[2025-01-20 01:24:23,266][835302387.py][line:32][INFO] ORIGINAL:  Well, you know, a little. If you were to listen to...\n",
      "[2025-01-20 01:24:23,266][835302387.py][line:33][INFO] FORMATTED:  WELL  YOU KNOW  A LITTLE IF YOU WERE TO LISTEN TO\n"
     ]
    },
    {
     "name": "stdout",
     "output_type": "stream",
     "text": [
      "File 95 of 528\r"
     ]
    },
    {
     "name": "stderr",
     "output_type": "stream",
     "text": [
      "[2025-01-20 01:24:24,005][835302387.py][line:31][INFO] Transcription of file 96 has been formatted\n",
      "[2025-01-20 01:24:24,005][835302387.py][line:32][INFO] ORIGINAL:  Please. I just don't want you to fly off the handle.\n",
      "[2025-01-20 01:24:24,005][835302387.py][line:33][INFO] FORMATTED:  PLEASE I JUST DON'T WANT YOU TO FLY OFF THE HANDLE\n"
     ]
    },
    {
     "name": "stdout",
     "output_type": "stream",
     "text": [
      "File 96 of 528\r"
     ]
    },
    {
     "name": "stderr",
     "output_type": "stream",
     "text": [
      "[2025-01-20 01:24:24,523][835302387.py][line:31][INFO] Transcription of file 97 has been formatted\n",
      "[2025-01-20 01:24:24,523][835302387.py][line:32][INFO] ORIGINAL:  You kind of have a short fuse.\n",
      "[2025-01-20 01:24:24,523][835302387.py][line:33][INFO] FORMATTED:  YOU KIND OF HAVE A SHORT FUSE\n"
     ]
    },
    {
     "name": "stdout",
     "output_type": "stream",
     "text": [
      "File 97 of 528\r"
     ]
    },
    {
     "name": "stderr",
     "output_type": "stream",
     "text": [
      "[2025-01-20 01:24:24,815][835302387.py][line:31][INFO] Transcription of file 98 has been formatted\n",
      "[2025-01-20 01:24:24,815][835302387.py][line:32][INFO] ORIGINAL:  Yeah.\n",
      "[2025-01-20 01:24:24,815][835302387.py][line:33][INFO] FORMATTED:  YEAH\n"
     ]
    },
    {
     "name": "stdout",
     "output_type": "stream",
     "text": [
      "File 98 of 528\r"
     ]
    },
    {
     "name": "stderr",
     "output_type": "stream",
     "text": [
      "[2025-01-20 01:24:25,519][835302387.py][line:31][INFO] Transcription of file 99 has been formatted\n",
      "[2025-01-20 01:24:25,519][835302387.py][line:32][INFO] ORIGINAL:  Like this right now, we're trying to have a conversation.\n",
      "[2025-01-20 01:24:25,519][835302387.py][line:33][INFO] FORMATTED:  LIKE THIS RIGHT NOW  WE'RE TRYING TO HAVE A CONVERSATION\n"
     ]
    },
    {
     "name": "stdout",
     "output_type": "stream",
     "text": [
      "File 99 of 528\r"
     ]
    },
    {
     "name": "stderr",
     "output_type": "stream",
     "text": [
      "[2025-01-20 01:24:26,775][835302387.py][line:31][INFO] Transcription of file 100 has been formatted\n",
      "[2025-01-20 01:24:26,775][835302387.py][line:32][INFO] ORIGINAL:  We're trying to have a conversation and you seem extremely hostile. I can't get a job, okay? You keep cutting me off.\n",
      "[2025-01-20 01:24:26,775][835302387.py][line:33][INFO] FORMATTED:  WE'RE TRYING TO HAVE A CONVERSATION AND YOU SEEM EXTREMELY HOSTILE I CAN'T GET A JOB  OKAY  YOU KEEP CUTTING ME OFF\n"
     ]
    },
    {
     "name": "stdout",
     "output_type": "stream",
     "text": [
      "File 100 of 528\r"
     ]
    },
    {
     "name": "stderr",
     "output_type": "stream",
     "text": [
      "[2025-01-20 01:24:27,402][835302387.py][line:31][INFO] Transcription of file 101 has been formatted\n",
      "[2025-01-20 01:24:27,402][835302387.py][line:32][INFO] ORIGINAL:  I can't finish the sentence without you jumping in.\n",
      "[2025-01-20 01:24:27,418][835302387.py][line:33][INFO] FORMATTED:  I CAN'T FINISH THE SENTENCE WITHOUT YOU JUMPING IN\n"
     ]
    },
    {
     "name": "stdout",
     "output_type": "stream",
     "text": [
      "File 101 of 528\r"
     ]
    },
    {
     "name": "stderr",
     "output_type": "stream",
     "text": [
      "[2025-01-20 01:24:27,845][835302387.py][line:31][INFO] Transcription of file 102 has been formatted\n",
      "[2025-01-20 01:24:27,845][835302387.py][line:32][INFO] ORIGINAL:  And you're always right.\n",
      "[2025-01-20 01:24:27,860][835302387.py][line:33][INFO] FORMATTED:  AND YOU'RE ALWAYS RIGHT\n"
     ]
    },
    {
     "name": "stdout",
     "output_type": "stream",
     "text": [
      "File 102 of 528\r"
     ]
    },
    {
     "name": "stderr",
     "output_type": "stream",
     "text": [
      "[2025-01-20 01:24:28,324][835302387.py][line:31][INFO] Transcription of file 103 has been formatted\n",
      "[2025-01-20 01:24:28,340][835302387.py][line:32][INFO] ORIGINAL:  You have an excuse for everything.\n",
      "[2025-01-20 01:24:28,340][835302387.py][line:33][INFO] FORMATTED:  YOU HAVE AN EXCUSE FOR EVERYTHING\n"
     ]
    },
    {
     "name": "stdout",
     "output_type": "stream",
     "text": [
      "File 103 of 528\r"
     ]
    },
    {
     "name": "stderr",
     "output_type": "stream",
     "text": [
      "[2025-01-20 01:24:29,291][835302387.py][line:31][INFO] Transcription of file 104 has been formatted\n",
      "[2025-01-20 01:24:29,292][835302387.py][line:32][INFO] ORIGINAL:  I'm just saying that maybe you should take in some information before you produce more of your own.\n",
      "[2025-01-20 01:24:29,293][835302387.py][line:33][INFO] FORMATTED:  I'M JUST SAYING THAT MAYBE YOU SHOULD TAKE IN SOME INFORMATION BEFORE YOU PRODUCE MORE OF YOUR OWN\n"
     ]
    },
    {
     "name": "stdout",
     "output_type": "stream",
     "text": [
      "File 104 of 528\r"
     ]
    },
    {
     "name": "stderr",
     "output_type": "stream",
     "text": [
      "[2025-01-20 01:24:29,580][835302387.py][line:31][INFO] Transcription of file 105 has been formatted\n",
      "[2025-01-20 01:24:29,580][835302387.py][line:32][INFO] ORIGINAL:  If...\n",
      "[2025-01-20 01:24:29,580][835302387.py][line:33][INFO] FORMATTED:  IF\n"
     ]
    },
    {
     "name": "stdout",
     "output_type": "stream",
     "text": [
      "File 105 of 528\r"
     ]
    },
    {
     "name": "stderr",
     "output_type": "stream",
     "text": [
      "[2025-01-20 01:24:30,286][835302387.py][line:31][INFO] Transcription of file 106 has been formatted\n",
      "[2025-01-20 01:24:30,288][835302387.py][line:32][INFO] ORIGINAL:  Well, what kind of field are you looking to go into?\n",
      "[2025-01-20 01:24:30,288][835302387.py][line:33][INFO] FORMATTED:  WELL  WHAT KIND OF FIELD ARE YOU LOOKING TO GO INTO \n"
     ]
    },
    {
     "name": "stdout",
     "output_type": "stream",
     "text": [
      "File 106 of 528\r"
     ]
    },
    {
     "name": "stderr",
     "output_type": "stream",
     "text": [
      "[2025-01-20 01:24:30,572][835302387.py][line:31][INFO] Transcription of file 107 has been formatted\n",
      "[2025-01-20 01:24:30,572][835302387.py][line:32][INFO] ORIGINAL:  Why?\n",
      "[2025-01-20 01:24:30,588][835302387.py][line:33][INFO] FORMATTED:  WHY \n"
     ]
    },
    {
     "name": "stdout",
     "output_type": "stream",
     "text": [
      "File 107 of 528\r"
     ]
    },
    {
     "name": "stderr",
     "output_type": "stream",
     "text": [
      "[2025-01-20 01:24:31,028][835302387.py][line:31][INFO] Transcription of file 108 has been formatted\n",
      "[2025-01-20 01:24:31,028][835302387.py][line:32][INFO] ORIGINAL:  Is she on the run?\n",
      "[2025-01-20 01:24:31,028][835302387.py][line:33][INFO] FORMATTED:  IS SHE ON THE RUN \n"
     ]
    },
    {
     "name": "stdout",
     "output_type": "stream",
     "text": [
      "File 108 of 528\r"
     ]
    },
    {
     "name": "stderr",
     "output_type": "stream",
     "text": [
      "[2025-01-20 01:24:31,761][835302387.py][line:31][INFO] Transcription of file 109 has been formatted\n",
      "[2025-01-20 01:24:31,761][835302387.py][line:32][INFO] ORIGINAL:  Oh, she just needs to marry you. She's just like,\n",
      "[2025-01-20 01:24:31,761][835302387.py][line:33][INFO] FORMATTED:  OH  SHE JUST NEEDS TO MARRY YOU SHE'S JUST LIKE \n"
     ]
    },
    {
     "name": "stdout",
     "output_type": "stream",
     "text": [
      "File 109 of 528\r"
     ]
    },
    {
     "name": "stderr",
     "output_type": "stream",
     "text": [
      "[2025-01-20 01:24:32,722][835302387.py][line:31][INFO] Transcription of file 110 has been formatted\n",
      "[2025-01-20 01:24:32,722][835302387.py][line:32][INFO] ORIGINAL:  That's incredible. That's awesome. Where's she from? Maybe you could get dual citizenship.\n",
      "[2025-01-20 01:24:32,722][835302387.py][line:33][INFO] FORMATTED:  THAT'S INCREDIBLE THAT'S AWESOME WHERE'S SHE FROM  MAYBE YOU COULD GET DUAL CITIZENSHIP\n"
     ]
    },
    {
     "name": "stdout",
     "output_type": "stream",
     "text": [
      "File 110 of 528\r"
     ]
    },
    {
     "name": "stderr",
     "output_type": "stream",
     "text": [
      "[2025-01-20 01:24:33,142][835302387.py][line:31][INFO] Transcription of file 111 has been formatted\n",
      "[2025-01-20 01:24:33,142][835302387.py][line:32][INFO] ORIGINAL:  That's so cool!\n",
      "[2025-01-20 01:24:33,142][835302387.py][line:33][INFO] FORMATTED:  THAT'S SO COOL \n"
     ]
    },
    {
     "name": "stdout",
     "output_type": "stream",
     "text": [
      "File 111 of 528\r"
     ]
    },
    {
     "name": "stderr",
     "output_type": "stream",
     "text": [
      "[2025-01-20 01:24:33,731][835302387.py][line:31][INFO] Transcription of file 112 has been formatted\n",
      "[2025-01-20 01:24:33,731][835302387.py][line:32][INFO] ORIGINAL:  Why did she pick you? Where were you?\n",
      "[2025-01-20 01:24:33,746][835302387.py][line:33][INFO] FORMATTED:  WHY DID SHE PICK YOU  WHERE WERE YOU \n"
     ]
    },
    {
     "name": "stdout",
     "output_type": "stream",
     "text": [
      "File 112 of 528\r"
     ]
    },
    {
     "name": "stderr",
     "output_type": "stream",
     "text": [
      "[2025-01-20 01:24:35,622][835302387.py][line:31][INFO] Transcription of file 113 has been formatted\n",
      "[2025-01-20 01:24:35,622][835302387.py][line:32][INFO] ORIGINAL:  You were at a party? Yeah. And she's like, hey. Yeah, she's like, hey, I'm like, girl. You see him unattached. She's like. I'm like $50.\n",
      "[2025-01-20 01:24:35,622][835302387.py][line:33][INFO] FORMATTED:  YOU WERE AT A PARTY  YEAH AND SHE'S LIKE  HEY YEAH  SHE'S LIKE  HEY  I'M LIKE  GIRL YOU SEE HIM UNATTACHED SHE'S LIKE I'M LIKE  50\n"
     ]
    },
    {
     "name": "stdout",
     "output_type": "stream",
     "text": [
      "File 113 of 528\r"
     ]
    },
    {
     "name": "stderr",
     "output_type": "stream",
     "text": [
      "[2025-01-20 01:24:36,069][835302387.py][line:31][INFO] Transcription of file 114 has been formatted\n",
      "[2025-01-20 01:24:36,069][835302387.py][line:32][INFO] ORIGINAL:  That's unbelievable. Yeah.\n",
      "[2025-01-20 01:24:36,069][835302387.py][line:33][INFO] FORMATTED:  THAT'S UNBELIEVABLE YEAH\n"
     ]
    },
    {
     "name": "stdout",
     "output_type": "stream",
     "text": [
      "File 114 of 528\r"
     ]
    },
    {
     "name": "stderr",
     "output_type": "stream",
     "text": [
      "[2025-01-20 01:24:37,896][835302387.py][line:31][INFO] Transcription of file 115 has been formatted\n",
      "[2025-01-20 01:24:37,896][835302387.py][line:32][INFO] ORIGINAL:  I've known people who've done this before. Yeah, yeah. You just, you just like, it's really fun actually. Cause you have like a fake engagement party and all your friends come over and like,\n",
      "[2025-01-20 01:24:37,896][835302387.py][line:33][INFO] FORMATTED:  I'VE KNOWN PEOPLE WHO'VE DONE THIS BEFORE YEAH  YEAH YOU JUST  YOU JUST LIKE  IT'S REALLY FUN ACTUALLY CAUSE YOU HAVE LIKE A FAKE ENGAGEMENT PARTY AND ALL YOUR FRIENDS COME OVER AND LIKE \n"
     ]
    },
    {
     "name": "stdout",
     "output_type": "stream",
     "text": [
      "File 115 of 528\r"
     ]
    },
    {
     "name": "stderr",
     "output_type": "stream",
     "text": [
      "[2025-01-20 01:24:39,409][835302387.py][line:31][INFO] Transcription of file 116 has been formatted\n",
      "[2025-01-20 01:24:39,409][835302387.py][line:32][INFO] ORIGINAL:  Yeah, yeah. And then, yeah. And then, you know, like you can, you could like, you could like, like soccer for a lot of money.\n",
      "[2025-01-20 01:24:39,409][835302387.py][line:33][INFO] FORMATTED:  YEAH  YEAH AND THEN  YEAH AND THEN  YOU KNOW  LIKE YOU CAN  YOU COULD LIKE  YOU COULD LIKE  LIKE SOCCER FOR A LOT OF MONEY\n"
     ]
    },
    {
     "name": "stdout",
     "output_type": "stream",
     "text": [
      "File 116 of 528\r"
     ]
    },
    {
     "name": "stderr",
     "output_type": "stream",
     "text": [
      "[2025-01-20 01:24:41,178][835302387.py][line:31][INFO] Transcription of file 117 has been formatted\n",
      "[2025-01-20 01:24:41,178][835302387.py][line:32][INFO] ORIGINAL:  Like make her rent the apartment that you two have to live together in, you know, and you won't pay any rent or you'll pay like a hundred bucks a month or something. Yeah. Like,\n",
      "[2025-01-20 01:24:41,178][835302387.py][line:33][INFO] FORMATTED:  LIKE MAKE HER RENT THE APARTMENT THAT YOU TWO HAVE TO LIVE TOGETHER IN  YOU KNOW  AND YOU WON'T PAY ANY RENT OR YOU'LL PAY LIKE A HUNDRED BUCKS A MONTH OR SOMETHING YEAH LIKE \n"
     ]
    },
    {
     "name": "stdout",
     "output_type": "stream",
     "text": [
      "File 117 of 528\r"
     ]
    },
    {
     "name": "stderr",
     "output_type": "stream",
     "text": [
      "[2025-01-20 01:24:41,486][835302387.py][line:31][INFO] Transcription of file 118 has been formatted\n",
      "[2025-01-20 01:24:41,486][835302387.py][line:32][INFO] ORIGINAL:  Yeah!\n",
      "[2025-01-20 01:24:41,486][835302387.py][line:33][INFO] FORMATTED:  YEAH \n"
     ]
    },
    {
     "name": "stdout",
     "output_type": "stream",
     "text": [
      "File 118 of 528\r"
     ]
    },
    {
     "name": "stderr",
     "output_type": "stream",
     "text": [
      "[2025-01-20 01:24:42,077][835302387.py][line:31][INFO] Transcription of file 119 has been formatted\n",
      "[2025-01-20 01:24:42,077][835302387.py][line:32][INFO] ORIGINAL:  Dude, you lucked out. I know.\n",
      "[2025-01-20 01:24:42,077][835302387.py][line:33][INFO] FORMATTED:  DUDE  YOU LUCKED OUT I KNOW\n"
     ]
    },
    {
     "name": "stdout",
     "output_type": "stream",
     "text": [
      "File 119 of 528\r"
     ]
    },
    {
     "name": "stderr",
     "output_type": "stream",
     "text": [
      "[2025-01-20 01:24:42,879][835302387.py][line:31][INFO] Transcription of file 120 has been formatted\n",
      "[2025-01-20 01:24:42,879][835302387.py][line:32][INFO] ORIGINAL:  Yeah My colors are blush and bay. What is it? Do you know?\n",
      "[2025-01-20 01:24:42,879][835302387.py][line:33][INFO] FORMATTED:  YEAH MY COLORS ARE BLUSH AND BAY WHAT IS IT  DO YOU KNOW \n"
     ]
    },
    {
     "name": "stdout",
     "output_type": "stream",
     "text": [
      "File 120 of 528\r"
     ]
    },
    {
     "name": "stderr",
     "output_type": "stream",
     "text": [
      "[2025-01-20 01:24:43,299][835302387.py][line:31][INFO] Transcription of file 121 has been formatted\n",
      "[2025-01-20 01:24:43,299][835302387.py][line:32][INFO] ORIGINAL:  I don't know.\n",
      "[2025-01-20 01:24:43,299][835302387.py][line:33][INFO] FORMATTED:  I DON'T KNOW\n"
     ]
    },
    {
     "name": "stdout",
     "output_type": "stream",
     "text": [
      "File 121 of 528\r"
     ]
    },
    {
     "name": "stderr",
     "output_type": "stream",
     "text": [
      "[2025-01-20 01:24:43,849][835302387.py][line:31][INFO] Transcription of file 122 has been formatted\n",
      "[2025-01-20 01:24:43,849][835302387.py][line:32][INFO] ORIGINAL:  I don't know. Get in cash.\n",
      "[2025-01-20 01:24:43,849][835302387.py][line:33][INFO] FORMATTED:  I DON'T KNOW GET IN CASH\n"
     ]
    },
    {
     "name": "stdout",
     "output_type": "stream",
     "text": [
      "File 122 of 528\r"
     ]
    },
    {
     "name": "stderr",
     "output_type": "stream",
     "text": [
      "[2025-01-20 01:24:44,148][835302387.py][line:31][INFO] Transcription of file 123 has been formatted\n",
      "[2025-01-20 01:24:44,148][835302387.py][line:32][INFO] ORIGINAL:  Yeah.\n",
      "[2025-01-20 01:24:44,148][835302387.py][line:33][INFO] FORMATTED:  YEAH\n"
     ]
    },
    {
     "name": "stdout",
     "output_type": "stream",
     "text": [
      "File 123 of 528\r"
     ]
    },
    {
     "name": "stderr",
     "output_type": "stream",
     "text": [
      "[2025-01-20 01:24:44,816][835302387.py][line:31][INFO] Transcription of file 124 has been formatted\n",
      "[2025-01-20 01:24:44,816][835302387.py][line:32][INFO] ORIGINAL:  How exciting! You should have a wedding on the beach.\n",
      "[2025-01-20 01:24:44,816][835302387.py][line:33][INFO] FORMATTED:  HOW EXCITING  YOU SHOULD HAVE A WEDDING ON THE BEACH\n"
     ]
    },
    {
     "name": "stdout",
     "output_type": "stream",
     "text": [
      "File 124 of 528\r"
     ]
    },
    {
     "name": "stderr",
     "output_type": "stream",
     "text": [
      "[2025-01-20 01:24:45,238][835302387.py][line:31][INFO] Transcription of file 125 has been formatted\n",
      "[2025-01-20 01:24:45,238][835302387.py][line:32][INFO] ORIGINAL:  Yeah, at night.\n",
      "[2025-01-20 01:24:45,238][835302387.py][line:33][INFO] FORMATTED:  YEAH  AT NIGHT\n"
     ]
    },
    {
     "name": "stdout",
     "output_type": "stream",
     "text": [
      "File 125 of 528\r"
     ]
    },
    {
     "name": "stderr",
     "output_type": "stream",
     "text": [
      "[2025-01-20 01:24:45,604][835302387.py][line:31][INFO] Transcription of file 126 has been formatted\n",
      "[2025-01-20 01:24:45,604][835302387.py][line:32][INFO] ORIGINAL:  Oh yeah absolutely absolutely\n",
      "[2025-01-20 01:24:45,604][835302387.py][line:33][INFO] FORMATTED:  OH YEAH ABSOLUTELY ABSOLUTELY\n"
     ]
    },
    {
     "name": "stdout",
     "output_type": "stream",
     "text": [
      "File 126 of 528\r"
     ]
    },
    {
     "name": "stderr",
     "output_type": "stream",
     "text": [
      "[2025-01-20 01:24:46,299][835302387.py][line:31][INFO] Transcription of file 127 has been formatted\n",
      "[2025-01-20 01:24:46,299][835302387.py][line:32][INFO] ORIGINAL:  How exciting! You should make her bring along your friends too.\n",
      "[2025-01-20 01:24:46,299][835302387.py][line:33][INFO] FORMATTED:  HOW EXCITING  YOU SHOULD MAKE HER BRING ALONG YOUR FRIENDS TOO\n"
     ]
    },
    {
     "name": "stdout",
     "output_type": "stream",
     "text": [
      "File 127 of 528\r"
     ]
    },
    {
     "name": "stderr",
     "output_type": "stream",
     "text": [
      "[2025-01-20 01:24:47,115][835302387.py][line:31][INFO] Transcription of file 128 has been formatted\n",
      "[2025-01-20 01:24:47,115][835302387.py][line:32][INFO] ORIGINAL:  She's got to be loaded. $50,000. That's incredible.\n",
      "[2025-01-20 01:24:47,115][835302387.py][line:33][INFO] FORMATTED:  SHE'S GOT TO BE LOADED  50 000 THAT'S INCREDIBLE\n"
     ]
    },
    {
     "name": "stdout",
     "output_type": "stream",
     "text": [
      "File 128 of 528\r"
     ]
    },
    {
     "name": "stderr",
     "output_type": "stream",
     "text": [
      "[2025-01-20 01:24:47,417][835302387.py][line:31][INFO] Transcription of file 129 has been formatted\n",
      "[2025-01-20 01:24:47,417][835302387.py][line:32][INFO] ORIGINAL:  Incredible.\n",
      "[2025-01-20 01:24:47,417][835302387.py][line:33][INFO] FORMATTED:  INCREDIBLE\n"
     ]
    },
    {
     "name": "stdout",
     "output_type": "stream",
     "text": [
      "File 129 of 528\r"
     ]
    },
    {
     "name": "stderr",
     "output_type": "stream",
     "text": [
      "[2025-01-20 01:24:48,007][835302387.py][line:31][INFO] Transcription of file 130 has been formatted\n",
      "[2025-01-20 01:24:48,007][835302387.py][line:32][INFO] ORIGINAL:  You're a lucky, lucky, lucky man.\n",
      "[2025-01-20 01:24:48,007][835302387.py][line:33][INFO] FORMATTED:  YOU'RE A LUCKY  LUCKY  LUCKY MAN\n"
     ]
    },
    {
     "name": "stdout",
     "output_type": "stream",
     "text": [
      "File 130 of 528\r"
     ]
    },
    {
     "name": "stderr",
     "output_type": "stream",
     "text": [
      "[2025-01-20 01:24:48,705][835302387.py][line:31][INFO] Transcription of file 131 has been formatted\n",
      "[2025-01-20 01:24:48,705][835302387.py][line:32][INFO] ORIGINAL:  Oh, totally. Yeah.\n",
      "[2025-01-20 01:24:48,705][835302387.py][line:33][INFO] FORMATTED:  OH  TOTALLY YEAH\n"
     ]
    },
    {
     "name": "stdout",
     "output_type": "stream",
     "text": [
      "File 131 of 528\r"
     ]
    },
    {
     "name": "stderr",
     "output_type": "stream",
     "text": [
      "[2025-01-20 01:24:49,511][835302387.py][line:31][INFO] Transcription of file 132 has been formatted\n",
      "[2025-01-20 01:24:49,511][835302387.py][line:32][INFO] ORIGINAL:  Did you get the mail? Did you sell my letter?\n",
      "[2025-01-20 01:24:49,511][835302387.py][line:33][INFO] FORMATTED:  DID YOU GET THE MAIL  DID YOU SELL MY LETTER \n"
     ]
    },
    {
     "name": "stdout",
     "output_type": "stream",
     "text": [
      "File 132 of 528\r"
     ]
    },
    {
     "name": "stderr",
     "output_type": "stream",
     "text": [
      "[2025-01-20 01:24:49,917][835302387.py][line:31][INFO] Transcription of file 133 has been formatted\n",
      "[2025-01-20 01:24:49,917][835302387.py][line:32][INFO] ORIGINAL:  Yeah, I know.\n",
      "[2025-01-20 01:24:49,917][835302387.py][line:33][INFO] FORMATTED:  YEAH  I KNOW\n"
     ]
    },
    {
     "name": "stdout",
     "output_type": "stream",
     "text": [
      "File 133 of 528\r"
     ]
    },
    {
     "name": "stderr",
     "output_type": "stream",
     "text": [
      "[2025-01-20 01:24:50,589][835302387.py][line:31][INFO] Transcription of file 134 has been formatted\n",
      "[2025-01-20 01:24:50,589][835302387.py][line:32][INFO] ORIGINAL:  I don't know. I put in that request too.\n",
      "[2025-01-20 01:24:50,589][835302387.py][line:33][INFO] FORMATTED:  I DON'T KNOW I PUT IN THAT REQUEST TOO\n"
     ]
    },
    {
     "name": "stdout",
     "output_type": "stream",
     "text": [
      "File 134 of 528\r"
     ]
    },
    {
     "name": "stderr",
     "output_type": "stream",
     "text": [
      "[2025-01-20 01:24:51,259][835302387.py][line:31][INFO] Transcription of file 135 has been formatted\n",
      "[2025-01-20 01:24:51,259][835302387.py][line:32][INFO] ORIGINAL:  I guess, you know, everybody has to make sacrifices.\n",
      "[2025-01-20 01:24:51,259][835302387.py][line:33][INFO] FORMATTED:  I GUESS  YOU KNOW  EVERYBODY HAS TO MAKE SACRIFICES\n"
     ]
    },
    {
     "name": "stdout",
     "output_type": "stream",
     "text": [
      "File 135 of 528\r"
     ]
    },
    {
     "name": "stderr",
     "output_type": "stream",
     "text": [
      "[2025-01-20 01:24:51,964][835302387.py][line:31][INFO] Transcription of file 136 has been formatted\n",
      "[2025-01-20 01:24:51,964][835302387.py][line:32][INFO] ORIGINAL:  There's people that have given more, though. You know.\n",
      "[2025-01-20 01:24:51,964][835302387.py][line:33][INFO] FORMATTED:  THERE'S PEOPLE THAT HAVE GIVEN MORE  THOUGH YOU KNOW\n"
     ]
    },
    {
     "name": "stdout",
     "output_type": "stream",
     "text": [
      "File 136 of 528\r"
     ]
    },
    {
     "name": "stderr",
     "output_type": "stream",
     "text": [
      "[2025-01-20 01:24:52,299][835302387.py][line:31][INFO] Transcription of file 137 has been formatted\n",
      "[2025-01-20 01:24:52,299][835302387.py][line:32][INFO] ORIGINAL:  I know.\n",
      "[2025-01-20 01:24:52,299][835302387.py][line:33][INFO] FORMATTED:  I KNOW\n"
     ]
    },
    {
     "name": "stdout",
     "output_type": "stream",
     "text": [
      "File 137 of 528\r"
     ]
    },
    {
     "name": "stderr",
     "output_type": "stream",
     "text": [
      "[2025-01-20 01:24:52,990][835302387.py][line:31][INFO] Transcription of file 138 has been formatted\n",
      "[2025-01-20 01:24:52,990][835302387.py][line:32][INFO] ORIGINAL:  There's babies over there, though, that need mothers.\n",
      "[2025-01-20 01:24:52,990][835302387.py][line:33][INFO] FORMATTED:  THERE'S BABIES OVER THERE  THOUGH  THAT NEED MOTHERS\n"
     ]
    },
    {
     "name": "stdout",
     "output_type": "stream",
     "text": [
      "File 138 of 528\r"
     ]
    },
    {
     "name": "stderr",
     "output_type": "stream",
     "text": [
      "[2025-01-20 01:24:53,432][835302387.py][line:31][INFO] Transcription of file 139 has been formatted\n",
      "[2025-01-20 01:24:53,432][835302387.py][line:32][INFO] ORIGINAL:  I'm just kicking myself.\n",
      "[2025-01-20 01:24:53,432][835302387.py][line:33][INFO] FORMATTED:  I'M JUST KICKING MYSELF\n"
     ]
    },
    {
     "name": "stdout",
     "output_type": "stream",
     "text": [
      "File 139 of 528\r"
     ]
    },
    {
     "name": "stderr",
     "output_type": "stream",
     "text": [
      "[2025-01-20 01:24:53,961][835302387.py][line:31][INFO] Transcription of file 140 has been formatted\n",
      "[2025-01-20 01:24:53,961][835302387.py][line:32][INFO] ORIGINAL:  Things just aren't what they seem.\n",
      "[2025-01-20 01:24:53,961][835302387.py][line:33][INFO] FORMATTED:  THINGS JUST AREN'T WHAT THEY SEEM\n"
     ]
    },
    {
     "name": "stdout",
     "output_type": "stream",
     "text": [
      "File 140 of 528\r"
     ]
    },
    {
     "name": "stderr",
     "output_type": "stream",
     "text": [
      "[2025-01-20 01:24:54,444][835302387.py][line:31][INFO] Transcription of file 141 has been formatted\n",
      "[2025-01-20 01:24:54,444][835302387.py][line:32][INFO] ORIGINAL:  If not me, then who?\n",
      "[2025-01-20 01:24:54,444][835302387.py][line:33][INFO] FORMATTED:  IF NOT ME  THEN WHO \n"
     ]
    },
    {
     "name": "stdout",
     "output_type": "stream",
     "text": [
      "File 141 of 528\r"
     ]
    },
    {
     "name": "stderr",
     "output_type": "stream",
     "text": [
      "[2025-01-20 01:24:55,003][835302387.py][line:31][INFO] Transcription of file 142 has been formatted\n",
      "[2025-01-20 01:24:55,003][835302387.py][line:32][INFO] ORIGINAL:  You'll videotape everything, yeah?\n",
      "[2025-01-20 01:24:55,003][835302387.py][line:33][INFO] FORMATTED:  YOU'LL VIDEOTAPE EVERYTHING  YEAH \n"
     ]
    },
    {
     "name": "stdout",
     "output_type": "stream",
     "text": [
      "File 142 of 528\r"
     ]
    },
    {
     "name": "stderr",
     "output_type": "stream",
     "text": [
      "[2025-01-20 01:24:55,785][835302387.py][line:31][INFO] Transcription of file 143 has been formatted\n",
      "[2025-01-20 01:24:55,785][835302387.py][line:32][INFO] ORIGINAL:  Maybe you can send it to me, like, stream it, yeah?\n",
      "[2025-01-20 01:24:55,785][835302387.py][line:33][INFO] FORMATTED:  MAYBE YOU CAN SEND IT TO ME  LIKE  STREAM IT  YEAH \n"
     ]
    },
    {
     "name": "stdout",
     "output_type": "stream",
     "text": [
      "File 143 of 528\r"
     ]
    },
    {
     "name": "stderr",
     "output_type": "stream",
     "text": [
      "[2025-01-20 01:24:56,266][835302387.py][line:31][INFO] Transcription of file 144 has been formatted\n",
      "[2025-01-20 01:24:56,266][835302387.py][line:32][INFO] ORIGINAL:  That's not it. Yeah.\n",
      "[2025-01-20 01:24:56,266][835302387.py][line:33][INFO] FORMATTED:  THAT'S NOT IT YEAH\n"
     ]
    },
    {
     "name": "stdout",
     "output_type": "stream",
     "text": [
      "File 144 of 528\r"
     ]
    },
    {
     "name": "stderr",
     "output_type": "stream",
     "text": [
      "[2025-01-20 01:24:56,751][835302387.py][line:31][INFO] Transcription of file 145 has been formatted\n",
      "[2025-01-20 01:24:56,751][835302387.py][line:32][INFO] ORIGINAL:  I have to find sitters.\n",
      "[2025-01-20 01:24:56,751][835302387.py][line:33][INFO] FORMATTED:  I HAVE TO FIND SITTERS\n"
     ]
    },
    {
     "name": "stdout",
     "output_type": "stream",
     "text": [
      "File 145 of 528\r"
     ]
    },
    {
     "name": "stderr",
     "output_type": "stream",
     "text": [
      "[2025-01-20 01:24:57,860][835302387.py][line:31][INFO] Transcription of file 146 has been formatted\n",
      "[2025-01-20 01:24:57,860][835302387.py][line:32][INFO] ORIGINAL:  We've got friends. That's why we moved here, huh? Because there's a daycare down the street.\n",
      "[2025-01-20 01:24:57,860][835302387.py][line:33][INFO] FORMATTED:  WE'VE GOT FRIENDS THAT'S WHY WE MOVED HERE  HUH  BECAUSE THERE'S A DAYCARE DOWN THE STREET\n"
     ]
    },
    {
     "name": "stdout",
     "output_type": "stream",
     "text": [
      "File 146 of 528\r"
     ]
    },
    {
     "name": "stderr",
     "output_type": "stream",
     "text": [
      "[2025-01-20 01:24:58,345][835302387.py][line:31][INFO] Transcription of file 147 has been formatted\n",
      "[2025-01-20 01:24:58,345][835302387.py][line:32][INFO] ORIGINAL:  And your mother's close by.\n",
      "[2025-01-20 01:24:58,345][835302387.py][line:33][INFO] FORMATTED:  AND YOUR MOTHER'S CLOSE BY\n"
     ]
    },
    {
     "name": "stdout",
     "output_type": "stream",
     "text": [
      "File 147 of 528\r"
     ]
    },
    {
     "name": "stderr",
     "output_type": "stream",
     "text": [
      "[2025-01-20 01:24:58,874][835302387.py][line:31][INFO] Transcription of file 148 has been formatted\n",
      "[2025-01-20 01:24:58,874][835302387.py][line:32][INFO] ORIGINAL:  I'll send you lots of letters.\n",
      "[2025-01-20 01:24:58,890][835302387.py][line:33][INFO] FORMATTED:  I'LL SEND YOU LOTS OF LETTERS\n"
     ]
    },
    {
     "name": "stdout",
     "output_type": "stream",
     "text": [
      "File 148 of 528\r"
     ]
    },
    {
     "name": "stderr",
     "output_type": "stream",
     "text": [
      "[2025-01-20 01:24:59,479][835302387.py][line:31][INFO] Transcription of file 149 has been formatted\n",
      "[2025-01-20 01:24:59,479][835302387.py][line:32][INFO] ORIGINAL:  and I want lots and lots and lots of pictures\n",
      "[2025-01-20 01:24:59,479][835302387.py][line:33][INFO] FORMATTED:  AND I WANT LOTS AND LOTS AND LOTS OF PICTURES\n"
     ]
    },
    {
     "name": "stdout",
     "output_type": "stream",
     "text": [
      "File 149 of 528\r"
     ]
    },
    {
     "name": "stderr",
     "output_type": "stream",
     "text": [
      "[2025-01-20 01:24:59,982][835302387.py][line:31][INFO] Transcription of file 150 has been formatted\n",
      "[2025-01-20 01:24:59,983][835302387.py][line:32][INFO] ORIGINAL:  Why did he invite her here?\n",
      "[2025-01-20 01:24:59,983][835302387.py][line:33][INFO] FORMATTED:  WHY DID HE INVITE HER HERE \n"
     ]
    },
    {
     "name": "stdout",
     "output_type": "stream",
     "text": [
      "File 150 of 528\r"
     ]
    },
    {
     "name": "stderr",
     "output_type": "stream",
     "text": [
      "[2025-01-20 01:25:00,753][835302387.py][line:31][INFO] Transcription of file 151 has been formatted\n",
      "[2025-01-20 01:25:00,753][835302387.py][line:32][INFO] ORIGINAL:  It's been three and a half years, why all of a sudden?\n",
      "[2025-01-20 01:25:00,753][835302387.py][line:33][INFO] FORMATTED:  IT'S BEEN THREE AND A HALF YEARS  WHY ALL OF A SUDDEN \n"
     ]
    },
    {
     "name": "stdout",
     "output_type": "stream",
     "text": [
      "File 151 of 528\r"
     ]
    },
    {
     "name": "stderr",
     "output_type": "stream",
     "text": [
      "[2025-01-20 01:25:01,284][835302387.py][line:31][INFO] Transcription of file 152 has been formatted\n",
      "[2025-01-20 01:25:01,284][835302387.py][line:32][INFO] ORIGINAL:  What is going on here, Joe?\n",
      "[2025-01-20 01:25:01,284][835302387.py][line:33][INFO] FORMATTED:  WHAT IS GOING ON HERE  JOE \n"
     ]
    },
    {
     "name": "stdout",
     "output_type": "stream",
     "text": [
      "File 152 of 528\r"
     ]
    },
    {
     "name": "stderr",
     "output_type": "stream",
     "text": [
      "[2025-01-20 01:25:02,441][835302387.py][line:31][INFO] Transcription of file 153 has been formatted\n",
      "[2025-01-20 01:25:02,441][835302387.py][line:32][INFO] ORIGINAL:  The girl is not Larry's. The girl is Larry's girl. She's not his. She knows she's not.\n",
      "[2025-01-20 01:25:02,441][835302387.py][line:33][INFO] FORMATTED:  THE GIRL IS NOT LARRY'S THE GIRL IS LARRY'S GIRL SHE'S NOT HIS SHE KNOWS SHE'S NOT\n"
     ]
    },
    {
     "name": "stdout",
     "output_type": "stream",
     "text": [
      "File 153 of 528\r"
     ]
    },
    {
     "name": "stderr",
     "output_type": "stream",
     "text": [
      "[2025-01-20 01:25:04,034][835302387.py][line:31][INFO] Transcription of file 154 has been formatted\n",
      "[2025-01-20 01:25:04,049][835302387.py][line:32][INFO] ORIGINAL:  I want you to act like he's coming back. Don't think I haven't noticed you, both of you, since Chris invited her here. I won't stand for any nonsense.\n",
      "[2025-01-20 01:25:04,049][835302387.py][line:33][INFO] FORMATTED:  I WANT YOU TO ACT LIKE HE'S COMING BACK DON'T THINK I HAVEN'T NOTICED YOU  BOTH OF YOU  SINCE CHRIS INVITED HER HERE I WON'T STAND FOR ANY NONSENSE\n"
     ]
    },
    {
     "name": "stdout",
     "output_type": "stream",
     "text": [
      "File 154 of 528\r"
     ]
    },
    {
     "name": "stderr",
     "output_type": "stream",
     "text": [
      "[2025-01-20 01:25:05,900][835302387.py][line:31][INFO] Transcription of file 155 has been formatted\n",
      "[2025-01-20 01:25:05,900][835302387.py][line:32][INFO] ORIGINAL:  Oh, laugh at me, laugh all you like, but why does this happen the very night she comes back? She goes to sleep in his room and his memorial breaks in pieces. Look at it, Joe, look!\n",
      "[2025-01-20 01:25:05,900][835302387.py][line:33][INFO] FORMATTED:  OH  LAUGH AT ME  LAUGH ALL YOU LIKE  BUT WHY DOES THIS HAPPEN THE VERY NIGHT SHE COMES BACK  SHE GOES TO SLEEP IN HIS ROOM AND HIS MEMORIAL BREAKS IN PIECES LOOK AT IT  JOE  LOOK \n"
     ]
    },
    {
     "name": "stdout",
     "output_type": "stream",
     "text": [
      "File 155 of 528\r"
     ]
    },
    {
     "name": "stderr",
     "output_type": "stream",
     "text": [
      "[2025-01-20 01:25:07,368][835302387.py][line:31][INFO] Transcription of file 156 has been formatted\n",
      "[2025-01-20 01:25:07,368][835302387.py][line:32][INFO] ORIGINAL:  Believe with me, Joe. You've got to believe. Okay, calm yourself. Only last week a boy came back missing longer than Larry. You read it yourself.\n",
      "[2025-01-20 01:25:07,368][835302387.py][line:33][INFO] FORMATTED:  BELIEVE WITH ME  JOE YOU'VE GOT TO BELIEVE OKAY  CALM YOURSELF ONLY LAST WEEK A BOY CAME BACK MISSING LONGER THAN LARRY YOU READ IT YOURSELF\n"
     ]
    },
    {
     "name": "stdout",
     "output_type": "stream",
     "text": [
      "File 156 of 528\r"
     ]
    },
    {
     "name": "stderr",
     "output_type": "stream",
     "text": [
      "[2025-01-20 01:25:08,114][835302387.py][line:31][INFO] Transcription of file 157 has been formatted\n",
      "[2025-01-20 01:25:08,114][835302387.py][line:32][INFO] ORIGINAL:  You above all have got to believe. Just don't stop believing.\n",
      "[2025-01-20 01:25:08,114][835302387.py][line:33][INFO] FORMATTED:  YOU ABOVE ALL HAVE GOT TO BELIEVE JUST DON'T STOP BELIEVING\n"
     ]
    },
    {
     "name": "stdout",
     "output_type": "stream",
     "text": [
      "File 157 of 528\r"
     ]
    },
    {
     "name": "stderr",
     "output_type": "stream",
     "text": [
      "[2025-01-20 01:25:08,634][835302387.py][line:31][INFO] Transcription of file 158 has been formatted\n",
      "[2025-01-20 01:25:08,634][835302387.py][line:32][INFO] ORIGINAL:  Flight 714. Uh-huh.\n",
      "[2025-01-20 01:25:08,634][835302387.py][line:33][INFO] FORMATTED:  FLIGHT 714 UH HUH\n"
     ]
    },
    {
     "name": "stdout",
     "output_type": "stream",
     "text": [
      "File 158 of 528\r"
     ]
    },
    {
     "name": "stderr",
     "output_type": "stream",
     "text": [
      "[2025-01-20 01:25:09,587][835302387.py][line:31][INFO] Transcription of file 159 has been formatted\n",
      "[2025-01-20 01:25:09,587][835302387.py][line:32][INFO] ORIGINAL:  Am I going to be getting free tickets, free mileage? When can I expect my bag here?\n",
      "[2025-01-20 01:25:09,587][835302387.py][line:33][INFO] FORMATTED:  AM I GOING TO BE GETTING FREE TICKETS  FREE MILEAGE  WHEN CAN I EXPECT MY BAG HERE \n"
     ]
    },
    {
     "name": "stdout",
     "output_type": "stream",
     "text": [
      "File 159 of 528\r"
     ]
    },
    {
     "name": "stderr",
     "output_type": "stream",
     "text": [
      "[2025-01-20 01:25:09,999][835302387.py][line:31][INFO] Transcription of file 160 has been formatted\n",
      "[2025-01-20 01:25:09,999][835302387.py][line:32][INFO] ORIGINAL:  Is this a joke?\n",
      "[2025-01-20 01:25:10,014][835302387.py][line:33][INFO] FORMATTED:  IS THIS A JOKE \n"
     ]
    },
    {
     "name": "stdout",
     "output_type": "stream",
     "text": [
      "File 160 of 528\r"
     ]
    },
    {
     "name": "stderr",
     "output_type": "stream",
     "text": [
      "[2025-01-20 01:25:11,082][835302387.py][line:31][INFO] Transcription of file 161 has been formatted\n",
      "[2025-01-20 01:25:11,082][835302387.py][line:32][INFO] ORIGINAL:  Are there candid cameras? Is this that movie? There's a show, right? Airplane? Airline?\n",
      "[2025-01-20 01:25:11,082][835302387.py][line:33][INFO] FORMATTED:  ARE THERE CANDID CAMERAS  IS THIS THAT MOVIE  THERE'S A SHOW  RIGHT  AIRPLANE  AIRLINE \n"
     ]
    },
    {
     "name": "stdout",
     "output_type": "stream",
     "text": [
      "File 161 of 528\r"
     ]
    },
    {
     "name": "stderr",
     "output_type": "stream",
     "text": [
      "[2025-01-20 01:25:11,665][835302387.py][line:31][INFO] Transcription of file 162 has been formatted\n",
      "[2025-01-20 01:25:11,665][835302387.py][line:32][INFO] ORIGINAL:  You're kidding me. This is a joke.\n",
      "[2025-01-20 01:25:11,665][835302387.py][line:33][INFO] FORMATTED:  YOU'RE KIDDING ME THIS IS A JOKE\n"
     ]
    },
    {
     "name": "stdout",
     "output_type": "stream",
     "text": [
      "File 162 of 528\r"
     ]
    },
    {
     "name": "stderr",
     "output_type": "stream",
     "text": [
      "[2025-01-20 01:25:13,775][835302387.py][line:31][INFO] Transcription of file 163 has been formatted\n",
      "[2025-01-20 01:25:13,775][835302387.py][line:32][INFO] ORIGINAL:  Do you have any idea? $50? Is that supposed to replace everything that I have? Do you understand how much I have packed in there? Not only does it have sentimental value, it can't be replaced like that. It was incredibly expensive.\n",
      "[2025-01-20 01:25:13,775][835302387.py][line:33][INFO] FORMATTED:  DO YOU HAVE ANY IDEA   50  IS THAT SUPPOSED TO REPLACE EVERYTHING THAT I HAVE  DO YOU UNDERSTAND HOW MUCH I HAVE PACKED IN THERE  NOT ONLY DOES IT HAVE SENTIMENTAL VALUE  IT CAN'T BE REPLACED LIKE THAT IT WAS INCREDIBLY EXPENSIVE\n"
     ]
    },
    {
     "name": "stdout",
     "output_type": "stream",
     "text": [
      "File 163 of 528\r"
     ]
    },
    {
     "name": "stderr",
     "output_type": "stream",
     "text": [
      "[2025-01-20 01:25:14,752][835302387.py][line:31][INFO] Transcription of file 164 has been formatted\n",
      "[2025-01-20 01:25:14,752][835302387.py][line:32][INFO] ORIGINAL:  We flew in from Paris. I've been shopping for three weeks. I'm very sorry.\n",
      "[2025-01-20 01:25:14,752][835302387.py][line:33][INFO] FORMATTED:  WE FLEW IN FROM PARIS I'VE BEEN SHOPPING FOR THREE WEEKS I'M VERY SORRY\n"
     ]
    },
    {
     "name": "stdout",
     "output_type": "stream",
     "text": [
      "File 164 of 528\r"
     ]
    },
    {
     "name": "stderr",
     "output_type": "stream",
     "text": [
      "[2025-01-20 01:25:16,001][835302387.py][line:31][INFO] Transcription of file 165 has been formatted\n",
      "[2025-01-20 01:25:16,001][835302387.py][line:32][INFO] ORIGINAL:  I don't care what your freaking sign says. Somebody needs to replace everything I've got there and give me money for my inconvenience.\n",
      "[2025-01-20 01:25:16,017][835302387.py][line:33][INFO] FORMATTED:  I DON'T CARE WHAT YOUR FREAKING SIGN SAYS SOMEBODY NEEDS TO REPLACE EVERYTHING I'VE GOT THERE AND GIVE ME MONEY FOR MY INCONVENIENCE\n"
     ]
    },
    {
     "name": "stdout",
     "output_type": "stream",
     "text": [
      "File 165 of 528\r"
     ]
    },
    {
     "name": "stderr",
     "output_type": "stream",
     "text": [
      "[2025-01-20 01:25:16,523][835302387.py][line:31][INFO] Transcription of file 166 has been formatted\n",
      "[2025-01-20 01:25:16,523][835302387.py][line:32][INFO] ORIGINAL:  Do you understand who my husband is?\n",
      "[2025-01-20 01:25:16,523][835302387.py][line:33][INFO] FORMATTED:  DO YOU UNDERSTAND WHO MY HUSBAND IS \n"
     ]
    },
    {
     "name": "stdout",
     "output_type": "stream",
     "text": [
      "File 166 of 528\r"
     ]
    },
    {
     "name": "stderr",
     "output_type": "stream",
     "text": [
      "[2025-01-20 01:25:17,273][835302387.py][line:31][INFO] Transcription of file 167 has been formatted\n",
      "[2025-01-20 01:25:17,273][835302387.py][line:32][INFO] ORIGINAL:  If you're looking for a lawsuit, baby, you found it.\n",
      "[2025-01-20 01:25:17,273][835302387.py][line:33][INFO] FORMATTED:  IF YOU'RE LOOKING FOR A LAWSUIT  BABY  YOU FOUND IT\n"
     ]
    },
    {
     "name": "stdout",
     "output_type": "stream",
     "text": [
      "File 167 of 528\r"
     ]
    },
    {
     "name": "stderr",
     "output_type": "stream",
     "text": [
      "[2025-01-20 01:25:18,000][835302387.py][line:31][INFO] Transcription of file 168 has been formatted\n",
      "[2025-01-20 01:25:18,000][835302387.py][line:32][INFO] ORIGINAL:  Oh, it's a gift. You're helping me out here.\n",
      "[2025-01-20 01:25:18,016][835302387.py][line:33][INFO] FORMATTED:  OH  IT'S A GIFT YOU'RE HELPING ME OUT HERE\n"
     ]
    },
    {
     "name": "stdout",
     "output_type": "stream",
     "text": [
      "File 168 of 528\r"
     ]
    },
    {
     "name": "stderr",
     "output_type": "stream",
     "text": [
      "[2025-01-20 01:25:18,892][835302387.py][line:31][INFO] Transcription of file 169 has been formatted\n",
      "[2025-01-20 01:25:18,892][835302387.py][line:32][INFO] ORIGINAL:  You are cruising for a bruising. You are in so much trouble. With you.\n",
      "[2025-01-20 01:25:18,892][835302387.py][line:33][INFO] FORMATTED:  YOU ARE CRUISING FOR A BRUISING YOU ARE IN SO MUCH TROUBLE WITH YOU\n"
     ]
    },
    {
     "name": "stdout",
     "output_type": "stream",
     "text": [
      "File 169 of 528\r"
     ]
    },
    {
     "name": "stderr",
     "output_type": "stream",
     "text": [
      "[2025-01-20 01:25:19,587][835302387.py][line:31][INFO] Transcription of file 170 has been formatted\n",
      "[2025-01-20 01:25:19,587][835302387.py][line:32][INFO] ORIGINAL:  Who's in charge? Who's the president of JetBlue?\n",
      "[2025-01-20 01:25:19,587][835302387.py][line:33][INFO] FORMATTED:  WHO'S IN CHARGE  WHO'S THE PRESIDENT OF JETBLUE \n"
     ]
    },
    {
     "name": "stdout",
     "output_type": "stream",
     "text": [
      "File 170 of 528\r"
     ]
    },
    {
     "name": "stderr",
     "output_type": "stream",
     "text": [
      "[2025-01-20 01:25:20,179][835302387.py][line:31][INFO] Transcription of file 171 has been formatted\n",
      "[2025-01-20 01:25:20,195][835302387.py][line:32][INFO] ORIGINAL:  Because I probably know him. I know him.\n",
      "[2025-01-20 01:25:20,195][835302387.py][line:33][INFO] FORMATTED:  BECAUSE I PROBABLY KNOW HIM I KNOW HIM\n"
     ]
    },
    {
     "name": "stdout",
     "output_type": "stream",
     "text": [
      "File 171 of 528\r"
     ]
    },
    {
     "name": "stderr",
     "output_type": "stream",
     "text": [
      "[2025-01-20 01:25:20,557][835302387.py][line:31][INFO] Transcription of file 172 has been formatted\n",
      "[2025-01-20 01:25:20,557][835302387.py][line:32][INFO] ORIGINAL:  Really? Yeah.\n",
      "[2025-01-20 01:25:20,557][835302387.py][line:33][INFO] FORMATTED:  REALLY  YEAH\n"
     ]
    },
    {
     "name": "stdout",
     "output_type": "stream",
     "text": [
      "File 172 of 528\r"
     ]
    },
    {
     "name": "stderr",
     "output_type": "stream",
     "text": [
      "[2025-01-20 01:25:21,191][835302387.py][line:31][INFO] Transcription of file 173 has been formatted\n",
      "[2025-01-20 01:25:21,191][835302387.py][line:32][INFO] ORIGINAL:  I don't want money, I want my clothes.\n",
      "[2025-01-20 01:25:21,198][835302387.py][line:33][INFO] FORMATTED:  I DON'T WANT MONEY  I WANT MY CLOTHES\n"
     ]
    },
    {
     "name": "stdout",
     "output_type": "stream",
     "text": [
      "File 173 of 528\r"
     ]
    },
    {
     "name": "stderr",
     "output_type": "stream",
     "text": [
      "[2025-01-20 01:25:21,595][835302387.py][line:31][INFO] Transcription of file 174 has been formatted\n",
      "[2025-01-20 01:25:21,595][835302387.py][line:32][INFO] ORIGINAL:  What's your name?\n",
      "[2025-01-20 01:25:21,595][835302387.py][line:33][INFO] FORMATTED:  WHAT'S YOUR NAME \n"
     ]
    },
    {
     "name": "stdout",
     "output_type": "stream",
     "text": [
      "File 174 of 528\r"
     ]
    },
    {
     "name": "stderr",
     "output_type": "stream",
     "text": [
      "[2025-01-20 01:25:22,076][835302387.py][line:31][INFO] Transcription of file 175 has been formatted\n",
      "[2025-01-20 01:25:22,092][835302387.py][line:32][INFO] ORIGINAL:  Okay, I'll do that.\n",
      "[2025-01-20 01:25:22,092][835302387.py][line:33][INFO] FORMATTED:  OKAY  I'LL DO THAT\n"
     ]
    },
    {
     "name": "stdout",
     "output_type": "stream",
     "text": [
      "File 175 of 528\r"
     ]
    },
    {
     "name": "stderr",
     "output_type": "stream",
     "text": [
      "[2025-01-20 01:25:23,072][835302387.py][line:31][INFO] Transcription of file 176 has been formatted\n",
      "[2025-01-20 01:25:23,072][835302387.py][line:32][INFO] ORIGINAL:  I don't think you've done everything you could do because I don't have my bag here yet.\n",
      "[2025-01-20 01:25:23,072][835302387.py][line:33][INFO] FORMATTED:  I DON'T THINK YOU'VE DONE EVERYTHING YOU COULD DO BECAUSE I DON'T HAVE MY BAG HERE YET\n"
     ]
    },
    {
     "name": "stdout",
     "output_type": "stream",
     "text": [
      "File 176 of 528\r"
     ]
    },
    {
     "name": "stderr",
     "output_type": "stream",
     "text": [
      "[2025-01-20 01:25:23,712][835302387.py][line:31][INFO] Transcription of file 177 has been formatted\n",
      "[2025-01-20 01:25:23,712][835302387.py][line:32][INFO] ORIGINAL:  A letter? I'll make a personal phone call.\n",
      "[2025-01-20 01:25:23,712][835302387.py][line:33][INFO] FORMATTED:  A LETTER  I'LL MAKE A PERSONAL PHONE CALL\n"
     ]
    },
    {
     "name": "stdout",
     "output_type": "stream",
     "text": [
      "File 177 of 528\r"
     ]
    },
    {
     "name": "stderr",
     "output_type": "stream",
     "text": [
      "[2025-01-20 01:25:24,241][835302387.py][line:31][INFO] Transcription of file 178 has been formatted\n",
      "[2025-01-20 01:25:24,241][835302387.py][line:32][INFO] ORIGINAL:  He's not going to marry her.\n",
      "[2025-01-20 01:25:24,241][835302387.py][line:33][INFO] FORMATTED:  HE'S NOT GOING TO MARRY HER\n"
     ]
    },
    {
     "name": "stdout",
     "output_type": "stream",
     "text": [
      "File 178 of 528\r"
     ]
    },
    {
     "name": "stderr",
     "output_type": "stream",
     "text": [
      "[2025-01-20 01:25:24,794][835302387.py][line:31][INFO] Transcription of file 179 has been formatted\n",
      "[2025-01-20 01:25:24,794][835302387.py][line:32][INFO] ORIGINAL:  MS. It's got that about it.\n",
      "[2025-01-20 01:25:24,794][835302387.py][line:33][INFO] FORMATTED:  MS IT'S GOT THAT ABOUT IT\n"
     ]
    },
    {
     "name": "stdout",
     "output_type": "stream",
     "text": [
      "File 179 of 528\r"
     ]
    },
    {
     "name": "stderr",
     "output_type": "stream",
     "text": [
      "[2025-01-20 01:25:25,311][835302387.py][line:31][INFO] Transcription of file 180 has been formatted\n",
      "[2025-01-20 01:25:25,311][835302387.py][line:32][INFO] ORIGINAL:  What is going on here, Joe?\n",
      "[2025-01-20 01:25:25,311][835302387.py][line:33][INFO] FORMATTED:  WHAT IS GOING ON HERE  JOE \n"
     ]
    },
    {
     "name": "stdout",
     "output_type": "stream",
     "text": [
      "File 180 of 528\r"
     ]
    },
    {
     "name": "stderr",
     "output_type": "stream",
     "text": [
      "[2025-01-20 01:25:25,995][835302387.py][line:31][INFO] Transcription of file 181 has been formatted\n",
      "[2025-01-20 01:25:25,995][835302387.py][line:32][INFO] ORIGINAL:  She is not his girl. She knows she's not.\n",
      "[2025-01-20 01:25:25,995][835302387.py][line:33][INFO] FORMATTED:  SHE IS NOT HIS GIRL SHE KNOWS SHE'S NOT\n"
     ]
    },
    {
     "name": "stdout",
     "output_type": "stream",
     "text": [
      "File 181 of 528\r"
     ]
    },
    {
     "name": "stderr",
     "output_type": "stream",
     "text": [
      "[2025-01-20 01:25:27,445][835302387.py][line:31][INFO] Transcription of file 182 has been formatted\n",
      "[2025-01-20 01:25:27,445][835302387.py][line:32][INFO] ORIGINAL:  Then why is she still single? New York is full of men. Why is she still single? Probably a hundred people told her she's foolish, but she waited.\n",
      "[2025-01-20 01:25:27,445][835302387.py][line:33][INFO] FORMATTED:  THEN WHY IS SHE STILL SINGLE  NEW YORK IS FULL OF MEN WHY IS SHE STILL SINGLE  PROBABLY A HUNDRED PEOPLE TOLD HER SHE'S FOOLISH  BUT SHE WAITED\n"
     ]
    },
    {
     "name": "stdout",
     "output_type": "stream",
     "text": [
      "File 182 of 528\r"
     ]
    },
    {
     "name": "stderr",
     "output_type": "stream",
     "text": [
      "[2025-01-20 01:25:28,999][835302387.py][line:31][INFO] Transcription of file 183 has been formatted\n",
      "[2025-01-20 01:25:28,999][835302387.py][line:32][INFO] ORIGINAL:  Because she knows what I know, that's why. She's faithful as a rock. In my darkest moments, I think of her waiting and I know that I'm right.\n",
      "[2025-01-20 01:25:28,999][835302387.py][line:33][INFO] FORMATTED:  BECAUSE SHE KNOWS WHAT I KNOW  THAT'S WHY SHE'S FAITHFUL AS A ROCK IN MY DARKEST MOMENTS  I THINK OF HER WAITING AND I KNOW THAT I'M RIGHT\n"
     ]
    },
    {
     "name": "stdout",
     "output_type": "stream",
     "text": [
      "File 183 of 528\r"
     ]
    },
    {
     "name": "stderr",
     "output_type": "stream",
     "text": [
      "[2025-01-20 01:25:30,158][835302387.py][line:31][INFO] Transcription of file 184 has been formatted\n",
      "[2025-01-20 01:25:30,158][835302387.py][line:32][INFO] ORIGINAL:  Nobody in this house dares take away her faith, Jill. You know strangers might, but not his father, not his brother.\n",
      "[2025-01-20 01:25:30,174][835302387.py][line:33][INFO] FORMATTED:  NOBODY IN THIS HOUSE DARES TAKE AWAY HER FAITH  JILL YOU KNOW STRANGERS MIGHT  BUT NOT HIS FATHER  NOT HIS BROTHER\n"
     ]
    },
    {
     "name": "stdout",
     "output_type": "stream",
     "text": [
      "File 184 of 528\r"
     ]
    },
    {
     "name": "stderr",
     "output_type": "stream",
     "text": [
      "[2025-01-20 01:25:31,454][835302387.py][line:31][INFO] Transcription of file 185 has been formatted\n",
      "[2025-01-20 01:25:31,454][835302387.py][line:32][INFO] ORIGINAL:  I want you to act like he's coming back. Both of you. Don't think I haven't noticed you since Chris invited her here.\n",
      "[2025-01-20 01:25:31,454][835302387.py][line:33][INFO] FORMATTED:  I WANT YOU TO ACT LIKE HE'S COMING BACK BOTH OF YOU DON'T THINK I HAVEN'T NOTICED YOU SINCE CHRIS INVITED HER HERE\n"
     ]
    },
    {
     "name": "stdout",
     "output_type": "stream",
     "text": [
      "File 185 of 528\r"
     ]
    },
    {
     "name": "stderr",
     "output_type": "stream",
     "text": [
      "[2025-01-20 01:25:31,968][835302387.py][line:31][INFO] Transcription of file 186 has been formatted\n",
      "[2025-01-20 01:25:31,984][835302387.py][line:32][INFO] ORIGINAL:  I won't stand for any nonsense.\n",
      "[2025-01-20 01:25:31,984][835302387.py][line:33][INFO] FORMATTED:  I WON'T STAND FOR ANY NONSENSE\n"
     ]
    },
    {
     "name": "stdout",
     "output_type": "stream",
     "text": [
      "File 186 of 528\r"
     ]
    },
    {
     "name": "stderr",
     "output_type": "stream",
     "text": [
      "[2025-01-20 01:25:34,349][835302387.py][line:31][INFO] Transcription of file 187 has been formatted\n",
      "[2025-01-20 01:25:34,349][835302387.py][line:32][INFO] ORIGINAL:  Because if he's not coming back, I'll kill myself. Oh, laugh. Laugh all you like. But why does this happen the very night he comes back? She goes to sleep in his room and his memorial breaks in pieces. Look at it, Joe. Look. Calm yourself.\n",
      "[2025-01-20 01:25:34,349][835302387.py][line:33][INFO] FORMATTED:  BECAUSE IF HE'S NOT COMING BACK  I'LL KILL MYSELF OH  LAUGH LAUGH ALL YOU LIKE BUT WHY DOES THIS HAPPEN THE VERY NIGHT HE COMES BACK  SHE GOES TO SLEEP IN HIS ROOM AND HIS MEMORIAL BREAKS IN PIECES LOOK AT IT  JOE LOOK CALM YOURSELF\n"
     ]
    },
    {
     "name": "stdout",
     "output_type": "stream",
     "text": [
      "File 187 of 528\r"
     ]
    },
    {
     "name": "stderr",
     "output_type": "stream",
     "text": [
      "[2025-01-20 01:25:36,238][835302387.py][line:31][INFO] Transcription of file 188 has been formatted\n",
      "[2025-01-20 01:25:36,238][835302387.py][line:32][INFO] ORIGINAL:  Just believe with me, Joe. Only last week a man came back in Detroit missing longer than Larry. Believe with me. You above all have got to believe. Just believe. What does that mean, me above all?\n",
      "[2025-01-20 01:25:36,238][835302387.py][line:33][INFO] FORMATTED:  JUST BELIEVE WITH ME  JOE ONLY LAST WEEK A MAN CAME BACK IN DETROIT MISSING LONGER THAN LARRY BELIEVE WITH ME YOU ABOVE ALL HAVE GOT TO BELIEVE JUST BELIEVE WHAT DOES THAT MEAN  ME ABOVE ALL \n"
     ]
    },
    {
     "name": "stdout",
     "output_type": "stream",
     "text": [
      "File 188 of 528\r"
     ]
    },
    {
     "name": "stderr",
     "output_type": "stream",
     "text": [
      "[2025-01-20 01:25:36,655][835302387.py][line:31][INFO] Transcription of file 189 has been formatted\n",
      "[2025-01-20 01:25:36,655][835302387.py][line:32][INFO] ORIGINAL:  That's the wind.\n",
      "[2025-01-20 01:25:36,655][835302387.py][line:33][INFO] FORMATTED:  THAT'S THE WIND\n"
     ]
    },
    {
     "name": "stdout",
     "output_type": "stream",
     "text": [
      "File 189 of 528\r"
     ]
    },
    {
     "name": "stderr",
     "output_type": "stream",
     "text": [
      "[2025-01-20 01:25:38,089][835302387.py][line:31][INFO] Transcription of file 190 has been formatted\n",
      "[2025-01-20 01:25:38,089][835302387.py][line:32][INFO] ORIGINAL:  Why do you ask me that? God damn it, I told you not to ask me that. I hate it when you ask me that. It's insulting.\n",
      "[2025-01-20 01:25:38,089][835302387.py][line:33][INFO] FORMATTED:  WHY DO YOU ASK ME THAT  GOD DAMN IT  I TOLD YOU NOT TO ASK ME THAT I HATE IT WHEN YOU ASK ME THAT IT'S INSULTING\n"
     ]
    },
    {
     "name": "stdout",
     "output_type": "stream",
     "text": [
      "File 190 of 528\r"
     ]
    },
    {
     "name": "stderr",
     "output_type": "stream",
     "text": [
      "[2025-01-20 01:25:38,968][835302387.py][line:31][INFO] Transcription of file 191 has been formatted\n",
      "[2025-01-20 01:25:38,968][835302387.py][line:32][INFO] ORIGINAL:  I just, we just have different ideas of what this evening is supposed to look like.\n",
      "[2025-01-20 01:25:38,968][835302387.py][line:33][INFO] FORMATTED:  I JUST  WE JUST HAVE DIFFERENT IDEAS OF WHAT THIS EVENING IS SUPPOSED TO LOOK LIKE\n"
     ]
    },
    {
     "name": "stdout",
     "output_type": "stream",
     "text": [
      "File 191 of 528\r"
     ]
    },
    {
     "name": "stderr",
     "output_type": "stream",
     "text": [
      "[2025-01-20 01:25:39,631][835302387.py][line:31][INFO] Transcription of file 192 has been formatted\n",
      "[2025-01-20 01:25:39,631][835302387.py][line:32][INFO] ORIGINAL:  Because they never do. Do they? Have they ever?\n",
      "[2025-01-20 01:25:39,631][835302387.py][line:33][INFO] FORMATTED:  BECAUSE THEY NEVER DO DO THEY  HAVE THEY EVER \n"
     ]
    },
    {
     "name": "stdout",
     "output_type": "stream",
     "text": [
      "File 192 of 528\r"
     ]
    },
    {
     "name": "stderr",
     "output_type": "stream",
     "text": [
      "[2025-01-20 01:25:40,310][835302387.py][line:31][INFO] Transcription of file 193 has been formatted\n",
      "[2025-01-20 01:25:40,310][835302387.py][line:32][INFO] ORIGINAL:  Twice as every year we've tried, that's ever.\n",
      "[2025-01-20 01:25:40,310][835302387.py][line:33][INFO] FORMATTED:  TWICE AS EVERY YEAR WE'VE TRIED  THAT'S EVER\n"
     ]
    },
    {
     "name": "stdout",
     "output_type": "stream",
     "text": [
      "File 193 of 528\r"
     ]
    },
    {
     "name": "stderr",
     "output_type": "stream",
     "text": [
      "[2025-01-20 01:25:41,382][835302387.py][line:31][INFO] Transcription of file 194 has been formatted\n",
      "[2025-01-20 01:25:41,382][835302387.py][line:32][INFO] ORIGINAL:  better spot. No, we won't. It's pointless. It's like waiting up to see Santa Claus.\n",
      "[2025-01-20 01:25:41,382][835302387.py][line:33][INFO] FORMATTED:  BETTER SPOT NO  WE WON'T IT'S POINTLESS IT'S LIKE WAITING UP TO SEE SANTA CLAUS\n"
     ]
    },
    {
     "name": "stdout",
     "output_type": "stream",
     "text": [
      "File 194 of 528\r"
     ]
    },
    {
     "name": "stderr",
     "output_type": "stream",
     "text": [
      "[2025-01-20 01:25:43,122][835302387.py][line:31][INFO] Transcription of file 195 has been formatted\n",
      "[2025-01-20 01:25:43,122][835302387.py][line:32][INFO] ORIGINAL:  I feel like my whole life is going to be spent here on the beach with my eyes wide open and my hands clasped expectantly waiting for fish to show up and the fish never show.\n",
      "[2025-01-20 01:25:43,122][835302387.py][line:33][INFO] FORMATTED:  I FEEL LIKE MY WHOLE LIFE IS GOING TO BE SPENT HERE ON THE BEACH WITH MY EYES WIDE OPEN AND MY HANDS CLASPED EXPECTANTLY WAITING FOR FISH TO SHOW UP AND THE FISH NEVER SHOW\n"
     ]
    },
    {
     "name": "stdout",
     "output_type": "stream",
     "text": [
      "File 195 of 528\r"
     ]
    },
    {
     "name": "stderr",
     "output_type": "stream",
     "text": [
      "[2025-01-20 01:25:44,204][835302387.py][line:31][INFO] Transcription of file 196 has been formatted\n",
      "[2025-01-20 01:25:44,204][835302387.py][line:32][INFO] ORIGINAL:  Do you remember the first year we came here? It was about four years ago, right after we got married.\n",
      "[2025-01-20 01:25:44,204][835302387.py][line:33][INFO] FORMATTED:  DO YOU REMEMBER THE FIRST YEAR WE CAME HERE  IT WAS ABOUT FOUR YEARS AGO  RIGHT AFTER WE GOT MARRIED\n"
     ]
    },
    {
     "name": "stdout",
     "output_type": "stream",
     "text": [
      "File 196 of 528\r"
     ]
    },
    {
     "name": "stderr",
     "output_type": "stream",
     "text": [
      "[2025-01-20 01:25:45,308][835302387.py][line:31][INFO] Transcription of file 197 has been formatted\n",
      "[2025-01-20 01:25:45,309][835302387.py][line:32][INFO] ORIGINAL:  And I remember thinking, this is it. Finally. Finally, I'm as happy as I'm supposed to be.\n",
      "[2025-01-20 01:25:45,309][835302387.py][line:33][INFO] FORMATTED:  AND I REMEMBER THINKING  THIS IS IT FINALLY FINALLY  I'M AS HAPPY AS I'M SUPPOSED TO BE\n"
     ]
    },
    {
     "name": "stdout",
     "output_type": "stream",
     "text": [
      "File 197 of 528\r"
     ]
    },
    {
     "name": "stderr",
     "output_type": "stream",
     "text": [
      "[2025-01-20 01:25:46,158][835302387.py][line:31][INFO] Transcription of file 198 has been formatted\n",
      "[2025-01-20 01:25:46,158][835302387.py][line:32][INFO] ORIGINAL:  I'd rather not remember some things. I'd rather not hope for some things.\n",
      "[2025-01-20 01:25:46,158][835302387.py][line:33][INFO] FORMATTED:  I'D RATHER NOT REMEMBER SOME THINGS I'D RATHER NOT HOPE FOR SOME THINGS\n"
     ]
    },
    {
     "name": "stdout",
     "output_type": "stream",
     "text": [
      "File 198 of 528\r"
     ]
    },
    {
     "name": "stderr",
     "output_type": "stream",
     "text": [
      "[2025-01-20 01:25:46,466][835302387.py][line:31][INFO] Transcription of file 199 has been formatted\n",
      "[2025-01-20 01:25:46,466][835302387.py][line:32][INFO] ORIGINAL:  No.\n",
      "[2025-01-20 01:25:46,466][835302387.py][line:33][INFO] FORMATTED:  NO\n"
     ]
    },
    {
     "name": "stdout",
     "output_type": "stream",
     "text": [
      "File 199 of 528\r"
     ]
    },
    {
     "name": "stderr",
     "output_type": "stream",
     "text": [
      "[2025-01-20 01:25:46,811][835302387.py][line:31][INFO] Transcription of file 200 has been formatted\n",
      "[2025-01-20 01:25:46,811][835302387.py][line:32][INFO] ORIGINAL:  Thank you.\n",
      "[2025-01-20 01:25:46,811][835302387.py][line:33][INFO] FORMATTED:  THANK YOU\n"
     ]
    },
    {
     "name": "stdout",
     "output_type": "stream",
     "text": [
      "File 200 of 528\r"
     ]
    },
    {
     "name": "stderr",
     "output_type": "stream",
     "text": [
      "[2025-01-20 01:25:47,544][835302387.py][line:31][INFO] Transcription of file 201 has been formatted\n",
      "[2025-01-20 01:25:47,544][835302387.py][line:32][INFO] ORIGINAL:  I want something to turn out the way that it's supposed to.\n",
      "[2025-01-20 01:25:47,560][835302387.py][line:33][INFO] FORMATTED:  I WANT SOMETHING TO TURN OUT THE WAY THAT IT'S SUPPOSED TO\n"
     ]
    },
    {
     "name": "stdout",
     "output_type": "stream",
     "text": [
      "File 201 of 528\r"
     ]
    },
    {
     "name": "stderr",
     "output_type": "stream",
     "text": [
      "[2025-01-20 01:25:48,267][835302387.py][line:31][INFO] Transcription of file 202 has been formatted\n",
      "[2025-01-20 01:25:48,267][835302387.py][line:32][INFO] ORIGINAL:  This what? What is this? This isn't even anything.\n",
      "[2025-01-20 01:25:48,267][835302387.py][line:33][INFO] FORMATTED:  THIS WHAT  WHAT IS THIS  THIS ISN'T EVEN ANYTHING\n"
     ]
    },
    {
     "name": "stdout",
     "output_type": "stream",
     "text": [
      "File 202 of 528\r"
     ]
    },
    {
     "name": "stderr",
     "output_type": "stream",
     "text": [
      "[2025-01-20 01:25:48,889][835302387.py][line:31][INFO] Transcription of file 203 has been formatted\n",
      "[2025-01-20 01:25:48,889][835302387.py][line:32][INFO] ORIGINAL:  sure this is standing on the beach this is waiting fighting\n",
      "[2025-01-20 01:25:48,889][835302387.py][line:33][INFO] FORMATTED:  SURE THIS IS STANDING ON THE BEACH THIS IS WAITING FIGHTING\n"
     ]
    },
    {
     "name": "stdout",
     "output_type": "stream",
     "text": [
      "File 203 of 528\r"
     ]
    },
    {
     "name": "stderr",
     "output_type": "stream",
     "text": [
      "[2025-01-20 01:25:49,530][835302387.py][line:31][INFO] Transcription of file 204 has been formatted\n",
      "[2025-01-20 01:25:49,530][835302387.py][line:32][INFO] ORIGINAL:  This isn't anything like I thought anything would be.\n",
      "[2025-01-20 01:25:49,530][835302387.py][line:33][INFO] FORMATTED:  THIS ISN'T ANYTHING LIKE I THOUGHT ANYTHING WOULD BE\n"
     ]
    },
    {
     "name": "stdout",
     "output_type": "stream",
     "text": [
      "File 204 of 528\r"
     ]
    },
    {
     "name": "stderr",
     "output_type": "stream",
     "text": [
      "[2025-01-20 01:25:50,679][835302387.py][line:31][INFO] Transcription of file 205 has been formatted\n",
      "[2025-01-20 01:25:50,679][835302387.py][line:32][INFO] ORIGINAL:  This is just this. I mean, it includes a lot in everything, but it's... Do you understand what I'm saying?\n",
      "[2025-01-20 01:25:50,679][835302387.py][line:33][INFO] FORMATTED:  THIS IS JUST THIS I MEAN  IT INCLUDES A LOT IN EVERYTHING  BUT IT'S DO YOU UNDERSTAND WHAT I'M SAYING \n"
     ]
    },
    {
     "name": "stdout",
     "output_type": "stream",
     "text": [
      "File 205 of 528\r"
     ]
    },
    {
     "name": "stderr",
     "output_type": "stream",
     "text": [
      "[2025-01-20 01:25:51,310][835302387.py][line:31][INFO] Transcription of file 206 has been formatted\n",
      "[2025-01-20 01:25:51,310][835302387.py][line:32][INFO] ORIGINAL:  I know that, Augie. I really do.\n",
      "[2025-01-20 01:25:51,325][835302387.py][line:33][INFO] FORMATTED:  I KNOW THAT  AUGIE I REALLY DO\n"
     ]
    },
    {
     "name": "stdout",
     "output_type": "stream",
     "text": [
      "File 206 of 528\r"
     ]
    },
    {
     "name": "stderr",
     "output_type": "stream",
     "text": [
      "[2025-01-20 01:25:52,016][835302387.py][line:31][INFO] Transcription of file 207 has been formatted\n",
      "[2025-01-20 01:25:52,016][835302387.py][line:32][INFO] ORIGINAL:  I just can't help wishing that I was somebody somewhere else.\n",
      "[2025-01-20 01:25:52,016][835302387.py][line:33][INFO] FORMATTED:  I JUST CAN'T HELP WISHING THAT I WAS SOMEBODY SOMEWHERE ELSE\n"
     ]
    },
    {
     "name": "stdout",
     "output_type": "stream",
     "text": [
      "File 207 of 528\r"
     ]
    },
    {
     "name": "stderr",
     "output_type": "stream",
     "text": [
      "[2025-01-20 01:25:52,459][835302387.py][line:31][INFO] Transcription of file 208 has been formatted\n",
      "[2025-01-20 01:25:52,459][835302387.py][line:32][INFO] ORIGINAL:  I didn't say that.\n",
      "[2025-01-20 01:25:52,459][835302387.py][line:33][INFO] FORMATTED:  I DIDN'T SAY THAT\n"
     ]
    },
    {
     "name": "stdout",
     "output_type": "stream",
     "text": [
      "File 208 of 528\r"
     ]
    },
    {
     "name": "stderr",
     "output_type": "stream",
     "text": [
      "[2025-01-20 01:25:53,705][835302387.py][line:31][INFO] Transcription of file 209 has been formatted\n",
      "[2025-01-20 01:25:53,705][835302387.py][line:32][INFO] ORIGINAL:  You're the one who probably wishes he was with somebody else. Someone who didn't take everything so seriously. Somebody who would enjoy herself.\n",
      "[2025-01-20 01:25:53,705][835302387.py][line:33][INFO] FORMATTED:  YOU'RE THE ONE WHO PROBABLY WISHES HE WAS WITH SOMEBODY ELSE SOMEONE WHO DIDN'T TAKE EVERYTHING SO SERIOUSLY SOMEBODY WHO WOULD ENJOY HERSELF\n"
     ]
    },
    {
     "name": "stdout",
     "output_type": "stream",
     "text": [
      "File 209 of 528\r"
     ]
    },
    {
     "name": "stderr",
     "output_type": "stream",
     "text": [
      "[2025-01-20 01:25:54,239][835302387.py][line:31][INFO] Transcription of file 210 has been formatted\n",
      "[2025-01-20 01:25:54,239][835302387.py][line:32][INFO] ORIGINAL:  I guess we don't need glasses.\n",
      "[2025-01-20 01:25:54,239][835302387.py][line:33][INFO] FORMATTED:  I GUESS WE DON'T NEED GLASSES\n"
     ]
    },
    {
     "name": "stdout",
     "output_type": "stream",
     "text": [
      "File 210 of 528\r"
     ]
    },
    {
     "name": "stderr",
     "output_type": "stream",
     "text": [
      "[2025-01-20 01:25:55,160][835302387.py][line:31][INFO] Transcription of file 211 has been formatted\n",
      "[2025-01-20 01:25:55,160][835302387.py][line:32][INFO] ORIGINAL:  I'm beginning to think you might rewrite. I think this might be the spot after all.\n",
      "[2025-01-20 01:25:55,160][835302387.py][line:33][INFO] FORMATTED:  I'M BEGINNING TO THINK YOU MIGHT REWRITE I THINK THIS MIGHT BE THE SPOT AFTER ALL\n"
     ]
    },
    {
     "name": "stdout",
     "output_type": "stream",
     "text": [
      "File 211 of 528\r"
     ]
    },
    {
     "name": "stderr",
     "output_type": "stream",
     "text": [
      "[2025-01-20 01:25:55,638][835302387.py][line:31][INFO] Transcription of file 212 has been formatted\n",
      "[2025-01-20 01:25:55,638][835302387.py][line:32][INFO] ORIGINAL:  Augie, I'm sorry.\n",
      "[2025-01-20 01:25:55,654][835302387.py][line:33][INFO] FORMATTED:  AUGIE  I'M SORRY\n"
     ]
    },
    {
     "name": "stdout",
     "output_type": "stream",
     "text": [
      "File 212 of 528\r"
     ]
    },
    {
     "name": "stderr",
     "output_type": "stream",
     "text": [
      "[2025-01-20 01:25:55,989][835302387.py][line:31][INFO] Transcription of file 213 has been formatted\n",
      "[2025-01-20 01:25:55,989][835302387.py][line:32][INFO] ORIGINAL:  Or not.\n",
      "[2025-01-20 01:25:55,989][835302387.py][line:33][INFO] FORMATTED:  OR NOT\n"
     ]
    },
    {
     "name": "stdout",
     "output_type": "stream",
     "text": [
      "File 213 of 528\r"
     ]
    },
    {
     "name": "stderr",
     "output_type": "stream",
     "text": [
      "[2025-01-20 01:25:56,600][835302387.py][line:31][INFO] Transcription of file 214 has been formatted\n",
      "[2025-01-20 01:25:56,600][835302387.py][line:32][INFO] ORIGINAL:  The only one I know who still loves his parents.\n",
      "[2025-01-20 01:25:56,600][835302387.py][line:33][INFO] FORMATTED:  THE ONLY ONE I KNOW WHO STILL LOVES HIS PARENTS\n"
     ]
    },
    {
     "name": "stdout",
     "output_type": "stream",
     "text": [
      "File 214 of 528\r"
     ]
    },
    {
     "name": "stderr",
     "output_type": "stream",
     "text": [
      "[2025-01-20 01:25:57,381][835302387.py][line:31][INFO] Transcription of file 215 has been formatted\n",
      "[2025-01-20 01:25:57,381][835302387.py][line:32][INFO] ORIGINAL:  Oh, it's not a bad thing. It's a good thing.\n",
      "[2025-01-20 01:25:57,381][835302387.py][line:33][INFO] FORMATTED:  OH  IT'S NOT A BAD THING IT'S A GOOD THING\n"
     ]
    },
    {
     "name": "stdout",
     "output_type": "stream",
     "text": [
      "File 215 of 528\r"
     ]
    },
    {
     "name": "stderr",
     "output_type": "stream",
     "text": [
      "[2025-01-20 01:25:58,051][835302387.py][line:31][INFO] Transcription of file 216 has been formatted\n",
      "[2025-01-20 01:25:58,055][835302387.py][line:32][INFO] ORIGINAL:  Not sorry, no. But I can't stay here.\n",
      "[2025-01-20 01:25:58,055][835302387.py][line:33][INFO] FORMATTED:  NOT SORRY  NO BUT I CAN'T STAY HERE\n"
     ]
    },
    {
     "name": "stdout",
     "output_type": "stream",
     "text": [
      "File 216 of 528\r"
     ]
    },
    {
     "name": "stderr",
     "output_type": "stream",
     "text": [
      "[2025-01-20 01:25:58,747][835302387.py][line:31][INFO] Transcription of file 217 has been formatted\n",
      "[2025-01-20 01:25:58,747][835302387.py][line:32][INFO] ORIGINAL:  For one thing, your mother's mother told me to go.\n",
      "[2025-01-20 01:25:58,747][835302387.py][line:33][INFO] FORMATTED:  FOR ONE THING  YOUR MOTHER'S MOTHER TOLD ME TO GO\n"
     ]
    },
    {
     "name": "stdout",
     "output_type": "stream",
     "text": [
      "File 217 of 528\r"
     ]
    },
    {
     "name": "stderr",
     "output_type": "stream",
     "text": [
      "[2025-01-20 01:25:59,257][835302387.py][line:31][INFO] Transcription of file 218 has been formatted\n",
      "[2025-01-20 01:25:59,257][835302387.py][line:32][INFO] ORIGINAL:  And then you've been kind of...\n",
      "[2025-01-20 01:25:59,273][835302387.py][line:33][INFO] FORMATTED:  AND THEN YOU'VE BEEN KIND OF\n"
     ]
    },
    {
     "name": "stdout",
     "output_type": "stream",
     "text": [
      "File 218 of 528\r"
     ]
    },
    {
     "name": "stderr",
     "output_type": "stream",
     "text": [
      "[2025-01-20 01:25:59,919][835302387.py][line:31][INFO] Transcription of file 219 has been formatted\n",
      "[2025-01-20 01:25:59,919][835302387.py][line:32][INFO] ORIGINAL:  You've been kind of embarrassed ever since I got here.\n",
      "[2025-01-20 01:25:59,919][835302387.py][line:33][INFO] FORMATTED:  YOU'VE BEEN KIND OF EMBARRASSED EVER SINCE I GOT HERE\n"
     ]
    },
    {
     "name": "stdout",
     "output_type": "stream",
     "text": [
      "File 219 of 528\r"
     ]
    },
    {
     "name": "stderr",
     "output_type": "stream",
     "text": [
      "[2025-01-20 01:26:00,591][835302387.py][line:31][INFO] Transcription of file 220 has been formatted\n",
      "[2025-01-20 01:26:00,591][835302387.py][line:32][INFO] ORIGINAL:  From her point of view, why else would I come?\n",
      "[2025-01-20 01:26:00,591][835302387.py][line:33][INFO] FORMATTED:  FROM HER POINT OF VIEW  WHY ELSE WOULD I COME \n"
     ]
    },
    {
     "name": "stdout",
     "output_type": "stream",
     "text": [
      "File 220 of 528\r"
     ]
    },
    {
     "name": "stderr",
     "output_type": "stream",
     "text": [
      "[2025-01-20 01:26:01,112][835302387.py][line:31][INFO] Transcription of file 221 has been formatted\n",
      "[2025-01-20 01:26:01,112][835302387.py][line:32][INFO] ORIGINAL:  I almost got married two years ago.\n",
      "[2025-01-20 01:26:01,128][835302387.py][line:33][INFO] FORMATTED:  I ALMOST GOT MARRIED TWO YEARS AGO\n"
     ]
    },
    {
     "name": "stdout",
     "output_type": "stream",
     "text": [
      "File 221 of 528\r"
     ]
    },
    {
     "name": "stderr",
     "output_type": "stream",
     "text": [
      "[2025-01-20 01:26:01,410][835302387.py][line:31][INFO] Transcription of file 222 has been formatted\n",
      "[2025-01-20 01:26:01,425][835302387.py][line:32][INFO] ORIGINAL:  Everyday thing\n",
      "[2025-01-20 01:26:01,425][835302387.py][line:33][INFO] FORMATTED:  EVERYDAY THING\n"
     ]
    },
    {
     "name": "stdout",
     "output_type": "stream",
     "text": [
      "File 222 of 528\r"
     ]
    },
    {
     "name": "stderr",
     "output_type": "stream",
     "text": [
      "[2025-01-20 01:26:02,764][835302387.py][line:31][INFO] Transcription of file 223 has been formatted\n",
      "[2025-01-20 01:26:02,764][835302387.py][line:32][INFO] ORIGINAL:  Because yeah, I was waiting for you Chris so then you never wrote me and then when you did you sure can't be ambiguous, you know, I\n",
      "[2025-01-20 01:26:02,764][835302387.py][line:33][INFO] FORMATTED:  BECAUSE YEAH  I WAS WAITING FOR YOU CHRIS SO THEN YOU NEVER WROTE ME AND THEN WHEN YOU DID YOU SURE CAN'T BE AMBIGUOUS  YOU KNOW  I\n"
     ]
    },
    {
     "name": "stdout",
     "output_type": "stream",
     "text": [
      "File 223 of 528\r"
     ]
    },
    {
     "name": "stderr",
     "output_type": "stream",
     "text": [
      "[2025-01-20 01:26:03,981][835302387.py][line:31][INFO] Transcription of file 224 has been formatted\n",
      "[2025-01-20 01:26:03,982][835302387.py][line:32][INFO] ORIGINAL:  I'll never forgive you for waiting so long. All I did was sit around and wonder if I was crazy for thinking about you.\n",
      "[2025-01-20 01:26:03,983][835302387.py][line:33][INFO] FORMATTED:  I'LL NEVER FORGIVE YOU FOR WAITING SO LONG ALL I DID WAS SIT AROUND AND WONDER IF I WAS CRAZY FOR THINKING ABOUT YOU\n"
     ]
    },
    {
     "name": "stdout",
     "output_type": "stream",
     "text": [
      "File 224 of 528\r"
     ]
    },
    {
     "name": "stderr",
     "output_type": "stream",
     "text": [
      "[2025-01-20 01:26:04,450][835302387.py][line:31][INFO] Transcription of file 225 has been formatted\n",
      "[2025-01-20 01:26:04,450][835302387.py][line:32][INFO] ORIGINAL:  Chris, what's the matter?\n",
      "[2025-01-20 01:26:04,450][835302387.py][line:33][INFO] FORMATTED:  CHRIS  WHAT'S THE MATTER \n"
     ]
    },
    {
     "name": "stdout",
     "output_type": "stream",
     "text": [
      "File 225 of 528\r"
     ]
    },
    {
     "name": "stderr",
     "output_type": "stream",
     "text": [
      "[2025-01-20 01:26:05,116][835302387.py][line:31][INFO] Transcription of file 226 has been formatted\n",
      "[2025-01-20 01:26:05,116][835302387.py][line:32][INFO] ORIGINAL:  No, but what is it? Is it your mother?\n",
      "[2025-01-20 01:26:05,116][835302387.py][line:33][INFO] FORMATTED:  NO  BUT WHAT IS IT  IS IT YOUR MOTHER \n"
     ]
    },
    {
     "name": "stdout",
     "output_type": "stream",
     "text": [
      "File 226 of 528\r"
     ]
    },
    {
     "name": "stderr",
     "output_type": "stream",
     "text": [
      "[2025-01-20 01:26:05,534][835302387.py][line:31][INFO] Transcription of file 227 has been formatted\n",
      "[2025-01-20 01:26:05,534][835302387.py][line:32][INFO] ORIGINAL:  You gotta tell me.\n",
      "[2025-01-20 01:26:05,534][835302387.py][line:33][INFO] FORMATTED:  YOU GOTTA TELL ME\n"
     ]
    },
    {
     "name": "stdout",
     "output_type": "stream",
     "text": [
      "File 227 of 528\r"
     ]
    },
    {
     "name": "stderr",
     "output_type": "stream",
     "text": [
      "[2025-01-20 01:26:06,015][835302387.py][line:31][INFO] Transcription of file 228 has been formatted\n",
      "[2025-01-20 01:26:06,015][835302387.py][line:32][INFO] ORIGINAL:  It wouldn't work like this.\n",
      "[2025-01-20 01:26:06,015][835302387.py][line:33][INFO] FORMATTED:  IT WOULDN'T WORK LIKE THIS\n"
     ]
    },
    {
     "name": "stdout",
     "output_type": "stream",
     "text": [
      "File 228 of 528\r"
     ]
    },
    {
     "name": "stderr",
     "output_type": "stream",
     "text": [
      "[2025-01-20 01:26:06,387][835302387.py][line:31][INFO] Transcription of file 229 has been formatted\n",
      "[2025-01-20 01:26:06,387][835302387.py][line:32][INFO] ORIGINAL:  Yeah, sure.\n",
      "[2025-01-20 01:26:06,387][835302387.py][line:33][INFO] FORMATTED:  YEAH  SURE\n"
     ]
    },
    {
     "name": "stdout",
     "output_type": "stream",
     "text": [
      "File 229 of 528\r"
     ]
    },
    {
     "name": "stderr",
     "output_type": "stream",
     "text": [
      "[2025-01-20 01:26:06,731][835302387.py][line:31][INFO] Transcription of file 230 has been formatted\n",
      "[2025-01-20 01:26:06,731][835302387.py][line:32][INFO] ORIGINAL:  How many?\n",
      "[2025-01-20 01:26:06,731][835302387.py][line:33][INFO] FORMATTED:  HOW MANY \n"
     ]
    },
    {
     "name": "stdout",
     "output_type": "stream",
     "text": [
      "File 230 of 528\r"
     ]
    },
    {
     "name": "stderr",
     "output_type": "stream",
     "text": [
      "[2025-01-20 01:26:07,062][835302387.py][line:31][INFO] Transcription of file 231 has been formatted\n",
      "[2025-01-20 01:26:07,062][835302387.py][line:32][INFO] ORIGINAL:  Jeez.\n",
      "[2025-01-20 01:26:07,062][835302387.py][line:33][INFO] FORMATTED:  JEEZ\n"
     ]
    },
    {
     "name": "stdout",
     "output_type": "stream",
     "text": [
      "File 231 of 528\r"
     ]
    },
    {
     "name": "stderr",
     "output_type": "stream",
     "text": [
      "[2025-01-20 01:26:07,560][835302387.py][line:31][INFO] Transcription of file 232 has been formatted\n",
      "[2025-01-20 01:26:07,560][835302387.py][line:32][INFO] ORIGINAL:  Do you still feel that way?\n",
      "[2025-01-20 01:26:07,560][835302387.py][line:33][INFO] FORMATTED:  DO YOU STILL FEEL THAT WAY \n"
     ]
    },
    {
     "name": "stdout",
     "output_type": "stream",
     "text": [
      "File 232 of 528\r"
     ]
    },
    {
     "name": "stderr",
     "output_type": "stream",
     "text": [
      "[2025-01-20 01:26:08,060][835302387.py][line:31][INFO] Transcription of file 233 has been formatted\n",
      "[2025-01-20 01:26:08,060][835302387.py][line:32][INFO] ORIGINAL:  What would I do with a fortune?\n",
      "[2025-01-20 01:26:08,060][835302387.py][line:33][INFO] FORMATTED:  WHAT WOULD I DO WITH A FORTUNE \n"
     ]
    },
    {
     "name": "stdout",
     "output_type": "stream",
     "text": [
      "File 233 of 528\r"
     ]
    },
    {
     "name": "stderr",
     "output_type": "stream",
     "text": [
      "[2025-01-20 01:26:08,655][835302387.py][line:31][INFO] Transcription of file 234 has been formatted\n",
      "[2025-01-20 01:26:08,655][835302387.py][line:32][INFO] ORIGINAL:  Craigslist. Oh, the internet thing?\n",
      "[2025-01-20 01:26:08,655][835302387.py][line:33][INFO] FORMATTED:  CRAIGSLIST OH  THE INTERNET THING \n"
     ]
    },
    {
     "name": "stdout",
     "output_type": "stream",
     "text": [
      "File 234 of 528\r"
     ]
    },
    {
     "name": "stderr",
     "output_type": "stream",
     "text": [
      "[2025-01-20 01:26:09,615][835302387.py][line:31][INFO] Transcription of file 235 has been formatted\n",
      "[2025-01-20 01:26:09,615][835302387.py][line:32][INFO] ORIGINAL:  I don't know, isn't that, that's all like escort services and things like that.\n",
      "[2025-01-20 01:26:09,615][835302387.py][line:33][INFO] FORMATTED:  I DON'T KNOW  ISN'T THAT  THAT'S ALL LIKE ESCORT SERVICES AND THINGS LIKE THAT\n"
     ]
    },
    {
     "name": "stdout",
     "output_type": "stream",
     "text": [
      "File 235 of 528\r"
     ]
    },
    {
     "name": "stderr",
     "output_type": "stream",
     "text": [
      "[2025-01-20 01:26:09,954][835302387.py][line:31][INFO] Transcription of file 236 has been formatted\n",
      "[2025-01-20 01:26:09,954][835302387.py][line:32][INFO] ORIGINAL:  He just...\n",
      "[2025-01-20 01:26:09,954][835302387.py][line:33][INFO] FORMATTED:  HE JUST\n"
     ]
    },
    {
     "name": "stdout",
     "output_type": "stream",
     "text": [
      "File 236 of 528\r"
     ]
    },
    {
     "name": "stderr",
     "output_type": "stream",
     "text": [
      "[2025-01-20 01:26:10,724][835302387.py][line:31][INFO] Transcription of file 237 has been formatted\n",
      "[2025-01-20 01:26:10,724][835302387.py][line:32][INFO] ORIGINAL:  You know what? I heard about that job. I applied for that.\n",
      "[2025-01-20 01:26:10,724][835302387.py][line:33][INFO] FORMATTED:  YOU KNOW WHAT  I HEARD ABOUT THAT JOB I APPLIED FOR THAT\n"
     ]
    },
    {
     "name": "stdout",
     "output_type": "stream",
     "text": [
      "File 237 of 528\r"
     ]
    },
    {
     "name": "stderr",
     "output_type": "stream",
     "text": [
      "[2025-01-20 01:26:11,033][835302387.py][line:31][INFO] Transcription of file 238 has been formatted\n",
      "[2025-01-20 01:26:11,033][835302387.py][line:32][INFO] ORIGINAL:  Yeah.\n",
      "[2025-01-20 01:26:11,033][835302387.py][line:33][INFO] FORMATTED:  YEAH\n"
     ]
    },
    {
     "name": "stdout",
     "output_type": "stream",
     "text": [
      "File 238 of 528\r"
     ]
    },
    {
     "name": "stderr",
     "output_type": "stream",
     "text": [
      "[2025-01-20 01:26:11,997][835302387.py][line:31][INFO] Transcription of file 239 has been formatted\n",
      "[2025-01-20 01:26:11,997][835302387.py][line:32][INFO] ORIGINAL:  I just, I mean, I call people up and I tell them what I'm good at.\n",
      "[2025-01-20 01:26:11,997][835302387.py][line:33][INFO] FORMATTED:  I JUST  I MEAN  I CALL PEOPLE UP AND I TELL THEM WHAT I'M GOOD AT\n"
     ]
    },
    {
     "name": "stdout",
     "output_type": "stream",
     "text": [
      "File 239 of 528\r"
     ]
    },
    {
     "name": "stderr",
     "output_type": "stream",
     "text": [
      "[2025-01-20 01:26:12,612][835302387.py][line:31][INFO] Transcription of file 240 has been formatted\n",
      "[2025-01-20 01:26:12,612][835302387.py][line:32][INFO] ORIGINAL:  done. Yeah. And I'll write it out.\n",
      "[2025-01-20 01:26:12,612][835302387.py][line:33][INFO] FORMATTED:  DONE YEAH AND I'LL WRITE IT OUT\n"
     ]
    },
    {
     "name": "stdout",
     "output_type": "stream",
     "text": [
      "File 240 of 528\r"
     ]
    },
    {
     "name": "stderr",
     "output_type": "stream",
     "text": [
      "[2025-01-20 01:26:13,022][835302387.py][line:31][INFO] Transcription of file 241 has been formatted\n",
      "[2025-01-20 01:26:13,022][835302387.py][line:32][INFO] ORIGINAL:  I'm not frustrated.\n",
      "[2025-01-20 01:26:13,038][835302387.py][line:33][INFO] FORMATTED:  I'M NOT FRUSTRATED\n"
     ]
    },
    {
     "name": "stdout",
     "output_type": "stream",
     "text": [
      "File 241 of 528\r"
     ]
    },
    {
     "name": "stderr",
     "output_type": "stream",
     "text": [
      "[2025-01-20 01:26:13,505][835302387.py][line:31][INFO] Transcription of file 242 has been formatted\n",
      "[2025-01-20 01:26:13,505][835302387.py][line:32][INFO] ORIGINAL:  Who do you think you are?\n",
      "[2025-01-20 01:26:13,505][835302387.py][line:33][INFO] FORMATTED:  WHO DO YOU THINK YOU ARE \n"
     ]
    },
    {
     "name": "stdout",
     "output_type": "stream",
     "text": [
      "File 242 of 528\r"
     ]
    },
    {
     "name": "stderr",
     "output_type": "stream",
     "text": [
      "[2025-01-20 01:26:14,098][835302387.py][line:31][INFO] Transcription of file 243 has been formatted\n",
      "[2025-01-20 01:26:14,098][835302387.py][line:32][INFO] ORIGINAL:  You are so high and mighty. I just...\n",
      "[2025-01-20 01:26:14,098][835302387.py][line:33][INFO] FORMATTED:  YOU ARE SO HIGH AND MIGHTY I JUST\n"
     ]
    },
    {
     "name": "stdout",
     "output_type": "stream",
     "text": [
      "File 243 of 528\r"
     ]
    },
    {
     "name": "stderr",
     "output_type": "stream",
     "text": [
      "[2025-01-20 01:26:14,981][835302387.py][line:31][INFO] Transcription of file 244 has been formatted\n",
      "[2025-01-20 01:26:14,981][835302387.py][line:32][INFO] ORIGINAL:  I'm saving the environment. I'm renting this car because I want to. What?\n",
      "[2025-01-20 01:26:14,981][835302387.py][line:33][INFO] FORMATTED:  I'M SAVING THE ENVIRONMENT I'M RENTING THIS CAR BECAUSE I WANT TO WHAT \n"
     ]
    },
    {
     "name": "stdout",
     "output_type": "stream",
     "text": [
      "File 244 of 528\r"
     ]
    },
    {
     "name": "stderr",
     "output_type": "stream",
     "text": [
      "[2025-01-20 01:26:15,832][835302387.py][line:31][INFO] Transcription of file 245 has been formatted\n",
      "[2025-01-20 01:26:15,832][835302387.py][line:32][INFO] ORIGINAL:  The bus. I'm riding the bus because I want to. You know why?\n",
      "[2025-01-20 01:26:15,832][835302387.py][line:33][INFO] FORMATTED:  THE BUS I'M RIDING THE BUS BECAUSE I WANT TO YOU KNOW WHY \n"
     ]
    },
    {
     "name": "stdout",
     "output_type": "stream",
     "text": [
      "File 245 of 528\r"
     ]
    },
    {
     "name": "stderr",
     "output_type": "stream",
     "text": [
      "[2025-01-20 01:26:16,708][835302387.py][line:31][INFO] Transcription of file 246 has been formatted\n",
      "[2025-01-20 01:26:16,708][835302387.py][line:32][INFO] ORIGINAL:  I cannot, you are not here by choice. Nobody would ride this bus by choice.\n",
      "[2025-01-20 01:26:16,708][835302387.py][line:33][INFO] FORMATTED:  I CANNOT  YOU ARE NOT HERE BY CHOICE NOBODY WOULD RIDE THIS BUS BY CHOICE\n"
     ]
    },
    {
     "name": "stdout",
     "output_type": "stream",
     "text": [
      "File 246 of 528\r"
     ]
    },
    {
     "name": "stderr",
     "output_type": "stream",
     "text": [
      "[2025-01-20 01:26:17,339][835302387.py][line:31][INFO] Transcription of file 247 has been formatted\n",
      "[2025-01-20 01:26:17,339][835302387.py][line:32][INFO] ORIGINAL:  Well, Vegas was awesome. Yeah, I heard.\n",
      "[2025-01-20 01:26:17,339][835302387.py][line:33][INFO] FORMATTED:  WELL  VEGAS WAS AWESOME YEAH  I HEARD\n"
     ]
    },
    {
     "name": "stdout",
     "output_type": "stream",
     "text": [
      "File 247 of 528\r"
     ]
    },
    {
     "name": "stderr",
     "output_type": "stream",
     "text": [
      "[2025-01-20 01:26:17,751][835302387.py][line:31][INFO] Transcription of file 248 has been formatted\n",
      "[2025-01-20 01:26:17,751][835302387.py][line:32][INFO] ORIGINAL:  and I got married.\n",
      "[2025-01-20 01:26:17,751][835302387.py][line:33][INFO] FORMATTED:  AND I GOT MARRIED\n"
     ]
    },
    {
     "name": "stdout",
     "output_type": "stream",
     "text": [
      "File 248 of 528\r"
     ]
    },
    {
     "name": "stderr",
     "output_type": "stream",
     "text": [
      "[2025-01-20 01:26:18,263][835302387.py][line:31][INFO] Transcription of file 249 has been formatted\n",
      "[2025-01-20 01:26:18,263][835302387.py][line:32][INFO] ORIGINAL:  Yeah, in the Old Town part.\n",
      "[2025-01-20 01:26:18,279][835302387.py][line:33][INFO] FORMATTED:  YEAH  IN THE OLD TOWN PART\n"
     ]
    },
    {
     "name": "stdout",
     "output_type": "stream",
     "text": [
      "File 249 of 528\r"
     ]
    },
    {
     "name": "stderr",
     "output_type": "stream",
     "text": [
      "[2025-01-20 01:26:18,753][835302387.py][line:31][INFO] Transcription of file 250 has been formatted\n",
      "[2025-01-20 01:26:18,753][835302387.py][line:32][INFO] ORIGINAL:  Yes, it was very romantic.\n",
      "[2025-01-20 01:26:18,753][835302387.py][line:33][INFO] FORMATTED:  YES  IT WAS VERY ROMANTIC\n"
     ]
    },
    {
     "name": "stdout",
     "output_type": "stream",
     "text": [
      "File 250 of 528\r"
     ]
    },
    {
     "name": "stderr",
     "output_type": "stream",
     "text": [
      "[2025-01-20 01:26:19,232][835302387.py][line:31][INFO] Transcription of file 251 has been formatted\n",
      "[2025-01-20 01:26:19,247][835302387.py][line:32][INFO] ORIGINAL:  It was at the slot machines.\n",
      "[2025-01-20 01:26:19,247][835302387.py][line:33][INFO] FORMATTED:  IT WAS AT THE SLOT MACHINES\n"
     ]
    },
    {
     "name": "stdout",
     "output_type": "stream",
     "text": [
      "File 251 of 528\r"
     ]
    },
    {
     "name": "stderr",
     "output_type": "stream",
     "text": [
      "[2025-01-20 01:26:20,231][835302387.py][line:31][INFO] Transcription of file 252 has been formatted\n",
      "[2025-01-20 01:26:20,231][835302387.py][line:32][INFO] ORIGINAL:  He went big and he realized that the only thing that would make it better was me as his bride.\n",
      "[2025-01-20 01:26:20,231][835302387.py][line:33][INFO] FORMATTED:  HE WENT BIG AND HE REALIZED THAT THE ONLY THING THAT WOULD MAKE IT BETTER WAS ME AS HIS BRIDE\n"
     ]
    },
    {
     "name": "stdout",
     "output_type": "stream",
     "text": [
      "File 252 of 528\r"
     ]
    },
    {
     "name": "stderr",
     "output_type": "stream",
     "text": [
      "[2025-01-20 01:26:21,018][835302387.py][line:31][INFO] Transcription of file 253 has been formatted\n",
      "[2025-01-20 01:26:21,018][835302387.py][line:32][INFO] ORIGINAL:  Yeah, well, you know, because he's leaving the next day.\n",
      "[2025-01-20 01:26:21,018][835302387.py][line:33][INFO] FORMATTED:  YEAH  WELL  YOU KNOW  BECAUSE HE'S LEAVING THE NEXT DAY\n"
     ]
    },
    {
     "name": "stdout",
     "output_type": "stream",
     "text": [
      "File 253 of 528\r"
     ]
    },
    {
     "name": "stderr",
     "output_type": "stream",
     "text": [
      "[2025-01-20 01:26:21,567][835302387.py][line:31][INFO] Transcription of file 254 has been formatted\n",
      "[2025-01-20 01:26:21,567][835302387.py][line:32][INFO] ORIGINAL:  But we're gonna have a honeymoon cruise.\n",
      "[2025-01-20 01:26:21,567][835302387.py][line:33][INFO] FORMATTED:  BUT WE'RE GONNA HAVE A HONEYMOON CRUISE\n"
     ]
    },
    {
     "name": "stdout",
     "output_type": "stream",
     "text": [
      "File 254 of 528\r"
     ]
    },
    {
     "name": "stderr",
     "output_type": "stream",
     "text": [
      "[2025-01-20 01:26:22,263][835302387.py][line:31][INFO] Transcription of file 255 has been formatted\n",
      "[2025-01-20 01:26:22,278][835302387.py][line:32][INFO] ORIGINAL:  or whatever? Oh, I hadn't even thought about that.\n",
      "[2025-01-20 01:26:22,278][835302387.py][line:33][INFO] FORMATTED:  OR WHATEVER  OH  I HADN'T EVEN THOUGHT ABOUT THAT\n"
     ]
    },
    {
     "name": "stdout",
     "output_type": "stream",
     "text": [
      "File 255 of 528\r"
     ]
    },
    {
     "name": "stderr",
     "output_type": "stream",
     "text": [
      "[2025-01-20 01:26:22,643][835302387.py][line:31][INFO] Transcription of file 256 has been formatted\n",
      "[2025-01-20 01:26:22,643][835302387.py][line:32][INFO] ORIGINAL:  Oh, totally.\n",
      "[2025-01-20 01:26:22,659][835302387.py][line:33][INFO] FORMATTED:  OH  TOTALLY\n"
     ]
    },
    {
     "name": "stdout",
     "output_type": "stream",
     "text": [
      "File 256 of 528\r"
     ]
    },
    {
     "name": "stderr",
     "output_type": "stream",
     "text": [
      "[2025-01-20 01:26:23,213][835302387.py][line:31][INFO] Transcription of file 257 has been formatted\n",
      "[2025-01-20 01:26:23,213][835302387.py][line:32][INFO] ORIGINAL:  I guess I'll have an internet husband.\n",
      "[2025-01-20 01:26:23,213][835302387.py][line:33][INFO] FORMATTED:  I GUESS I'LL HAVE AN INTERNET HUSBAND\n"
     ]
    },
    {
     "name": "stdout",
     "output_type": "stream",
     "text": [
      "File 257 of 528\r"
     ]
    },
    {
     "name": "stderr",
     "output_type": "stream",
     "text": [
      "[2025-01-20 01:26:23,808][835302387.py][line:31][INFO] Transcription of file 258 has been formatted\n",
      "[2025-01-20 01:26:23,808][835302387.py][line:32][INFO] ORIGINAL:  Yeah, so. He's calling me now.\n",
      "[2025-01-20 01:26:23,808][835302387.py][line:33][INFO] FORMATTED:  YEAH  SO HE'S CALLING ME NOW\n"
     ]
    },
    {
     "name": "stdout",
     "output_type": "stream",
     "text": [
      "File 258 of 528\r"
     ]
    },
    {
     "name": "stderr",
     "output_type": "stream",
     "text": [
      "[2025-01-20 01:26:24,369][835302387.py][line:31][INFO] Transcription of file 259 has been formatted\n",
      "[2025-01-20 01:26:24,370][835302387.py][line:32][INFO] ORIGINAL:  He likes to keep tabs, you know.\n",
      "[2025-01-20 01:26:24,371][835302387.py][line:33][INFO] FORMATTED:  HE LIKES TO KEEP TABS  YOU KNOW\n"
     ]
    },
    {
     "name": "stdout",
     "output_type": "stream",
     "text": [
      "File 259 of 528\r"
     ]
    },
    {
     "name": "stderr",
     "output_type": "stream",
     "text": [
      "[2025-01-20 01:26:24,774][835302387.py][line:31][INFO] Transcription of file 260 has been formatted\n",
      "[2025-01-20 01:26:24,774][835302387.py][line:32][INFO] ORIGINAL:  I think $750.\n",
      "[2025-01-20 01:26:24,774][835302387.py][line:33][INFO] FORMATTED:  I THINK  750\n"
     ]
    },
    {
     "name": "stdout",
     "output_type": "stream",
     "text": [
      "File 260 of 528\r"
     ]
    },
    {
     "name": "stderr",
     "output_type": "stream",
     "text": [
      "[2025-01-20 01:26:25,449][835302387.py][line:31][INFO] Transcription of file 261 has been formatted\n",
      "[2025-01-20 01:26:25,449][835302387.py][line:32][INFO] ORIGINAL:  Penny slots. Penny slots? That's what he plays.\n",
      "[2025-01-20 01:26:25,449][835302387.py][line:33][INFO] FORMATTED:  PENNY SLOTS PENNY SLOTS  THAT'S WHAT HE PLAYS\n"
     ]
    },
    {
     "name": "stdout",
     "output_type": "stream",
     "text": [
      "File 261 of 528\r"
     ]
    },
    {
     "name": "stderr",
     "output_type": "stream",
     "text": [
      "[2025-01-20 01:26:25,745][835302387.py][line:31][INFO] Transcription of file 262 has been formatted\n",
      "[2025-01-20 01:26:25,745][835302387.py][line:32][INFO] ORIGINAL:  Yeah.\n",
      "[2025-01-20 01:26:25,745][835302387.py][line:33][INFO] FORMATTED:  YEAH\n"
     ]
    },
    {
     "name": "stdout",
     "output_type": "stream",
     "text": [
      "File 262 of 528\r"
     ]
    },
    {
     "name": "stderr",
     "output_type": "stream",
     "text": [
      "[2025-01-20 01:26:26,777][835302387.py][line:31][INFO] Transcription of file 263 has been formatted\n",
      "[2025-01-20 01:26:26,777][835302387.py][line:32][INFO] ORIGINAL:  Yeah. We played Wheel of Fortune pennies. It's like a giant thing. The pennies always get\n",
      "[2025-01-20 01:26:26,777][835302387.py][line:33][INFO] FORMATTED:  YEAH WE PLAYED WHEEL OF FORTUNE PENNIES IT'S LIKE A GIANT THING THE PENNIES ALWAYS GET\n"
     ]
    },
    {
     "name": "stdout",
     "output_type": "stream",
     "text": [
      "File 263 of 528\r"
     ]
    },
    {
     "name": "stderr",
     "output_type": "stream",
     "text": [
      "[2025-01-20 01:26:27,228][835302387.py][line:31][INFO] Transcription of file 264 has been formatted\n",
      "[2025-01-20 01:26:27,228][835302387.py][line:32][INFO] ORIGINAL:  50 bucks. 50 bucks.\n",
      "[2025-01-20 01:26:27,228][835302387.py][line:33][INFO] FORMATTED:  50 BUCKS 50 BUCKS\n"
     ]
    },
    {
     "name": "stdout",
     "output_type": "stream",
     "text": [
      "File 264 of 528\r"
     ]
    },
    {
     "name": "stderr",
     "output_type": "stream",
     "text": [
      "[2025-01-20 01:26:27,533][835302387.py][line:31][INFO] Transcription of file 265 has been formatted\n",
      "[2025-01-20 01:26:27,533][835302387.py][line:32][INFO] ORIGINAL:  Yeah.\n",
      "[2025-01-20 01:26:27,533][835302387.py][line:33][INFO] FORMATTED:  YEAH\n"
     ]
    },
    {
     "name": "stdout",
     "output_type": "stream",
     "text": [
      "File 265 of 528\r"
     ]
    },
    {
     "name": "stderr",
     "output_type": "stream",
     "text": [
      "[2025-01-20 01:26:28,228][835302387.py][line:31][INFO] Transcription of file 266 has been formatted\n",
      "[2025-01-20 01:26:28,228][835302387.py][line:32][INFO] ORIGINAL:  But so, now we're married. We have cat children.\n",
      "[2025-01-20 01:26:28,228][835302387.py][line:33][INFO] FORMATTED:  BUT SO  NOW WE'RE MARRIED WE HAVE CAT CHILDREN\n"
     ]
    },
    {
     "name": "stdout",
     "output_type": "stream",
     "text": [
      "File 266 of 528\r"
     ]
    },
    {
     "name": "stderr",
     "output_type": "stream",
     "text": [
      "[2025-01-20 01:26:28,706][835302387.py][line:31][INFO] Transcription of file 267 has been formatted\n",
      "[2025-01-20 01:26:28,721][835302387.py][line:32][INFO] ORIGINAL:  We renamed Brenda Lumber Janet.\n",
      "[2025-01-20 01:26:28,721][835302387.py][line:33][INFO] FORMATTED:  WE RENAMED BRENDA LUMBER JANET\n"
     ]
    },
    {
     "name": "stdout",
     "output_type": "stream",
     "text": [
      "File 267 of 528\r"
     ]
    },
    {
     "name": "stderr",
     "output_type": "stream",
     "text": [
      "[2025-01-20 01:26:29,379][835302387.py][line:31][INFO] Transcription of file 268 has been formatted\n",
      "[2025-01-20 01:26:29,379][835302387.py][line:32][INFO] ORIGINAL:  She needs a new name each state that we go into.\n",
      "[2025-01-20 01:26:29,379][835302387.py][line:33][INFO] FORMATTED:  SHE NEEDS A NEW NAME EACH STATE THAT WE GO INTO\n"
     ]
    },
    {
     "name": "stdout",
     "output_type": "stream",
     "text": [
      "File 268 of 528\r"
     ]
    },
    {
     "name": "stderr",
     "output_type": "stream",
     "text": [
      "[2025-01-20 01:26:29,753][835302387.py][line:31][INFO] Transcription of file 269 has been formatted\n",
      "[2025-01-20 01:26:29,753][835302387.py][line:32][INFO] ORIGINAL:  What's happening?\n",
      "[2025-01-20 01:26:29,753][835302387.py][line:33][INFO] FORMATTED:  WHAT'S HAPPENING \n"
     ]
    },
    {
     "name": "stdout",
     "output_type": "stream",
     "text": [
      "File 269 of 528\r"
     ]
    },
    {
     "name": "stderr",
     "output_type": "stream",
     "text": [
      "[2025-01-20 01:26:30,354][835302387.py][line:31][INFO] Transcription of file 270 has been formatted\n",
      "[2025-01-20 01:26:30,354][835302387.py][line:32][INFO] ORIGINAL:  I don't even know what to tell you.\n",
      "[2025-01-20 01:26:30,354][835302387.py][line:33][INFO] FORMATTED:  I DON'T EVEN KNOW WHAT TO TELL YOU\n"
     ]
    },
    {
     "name": "stdout",
     "output_type": "stream",
     "text": [
      "File 270 of 528\r"
     ]
    },
    {
     "name": "stderr",
     "output_type": "stream",
     "text": [
      "[2025-01-20 01:26:30,789][835302387.py][line:31][INFO] Transcription of file 271 has been formatted\n",
      "[2025-01-20 01:26:30,789][835302387.py][line:32][INFO] ORIGINAL:  What about the birthday party?\n",
      "[2025-01-20 01:26:30,789][835302387.py][line:33][INFO] FORMATTED:  WHAT ABOUT THE BIRTHDAY PARTY \n"
     ]
    },
    {
     "name": "stdout",
     "output_type": "stream",
     "text": [
      "File 271 of 528\r"
     ]
    },
    {
     "name": "stderr",
     "output_type": "stream",
     "text": [
      "[2025-01-20 01:26:31,314][835302387.py][line:31][INFO] Transcription of file 272 has been formatted\n",
      "[2025-01-20 01:26:31,314][835302387.py][line:32][INFO] ORIGINAL:  You're going with the same ones.\n",
      "[2025-01-20 01:26:31,314][835302387.py][line:33][INFO] FORMATTED:  YOU'RE GOING WITH THE SAME ONES\n"
     ]
    },
    {
     "name": "stdout",
     "output_type": "stream",
     "text": [
      "File 272 of 528\r"
     ]
    },
    {
     "name": "stderr",
     "output_type": "stream",
     "text": [
      "[2025-01-20 01:26:31,797][835302387.py][line:31][INFO] Transcription of file 273 has been formatted\n",
      "[2025-01-20 01:26:31,797][835302387.py][line:32][INFO] ORIGINAL:  It's not the same though.\n",
      "[2025-01-20 01:26:31,797][835302387.py][line:33][INFO] FORMATTED:  IT'S NOT THE SAME THOUGH\n"
     ]
    },
    {
     "name": "stdout",
     "output_type": "stream",
     "text": [
      "File 273 of 528\r"
     ]
    },
    {
     "name": "stderr",
     "output_type": "stream",
     "text": [
      "[2025-01-20 01:26:32,377][835302387.py][line:31][INFO] Transcription of file 274 has been formatted\n",
      "[2025-01-20 01:26:32,377][835302387.py][line:32][INFO] ORIGINAL:  We'll build a bunker and never come out.\n",
      "[2025-01-20 01:26:32,377][835302387.py][line:33][INFO] FORMATTED:  WE'LL BUILD A BUNKER AND NEVER COME OUT\n"
     ]
    },
    {
     "name": "stdout",
     "output_type": "stream",
     "text": [
      "File 274 of 528\r"
     ]
    },
    {
     "name": "stderr",
     "output_type": "stream",
     "text": [
      "[2025-01-20 01:26:32,787][835302387.py][line:31][INFO] Transcription of file 275 has been formatted\n",
      "[2025-01-20 01:26:32,802][835302387.py][line:32][INFO] ORIGINAL:  Don't say that.\n",
      "[2025-01-20 01:26:32,802][835302387.py][line:33][INFO] FORMATTED:  DON'T SAY THAT\n"
     ]
    },
    {
     "name": "stdout",
     "output_type": "stream",
     "text": [
      "File 275 of 528\r"
     ]
    },
    {
     "name": "stderr",
     "output_type": "stream",
     "text": [
      "[2025-01-20 01:26:33,202][835302387.py][line:31][INFO] Transcription of file 276 has been formatted\n",
      "[2025-01-20 01:26:33,202][835302387.py][line:32][INFO] ORIGINAL:  Can I help you?\n",
      "[2025-01-20 01:26:33,202][835302387.py][line:33][INFO] FORMATTED:  CAN I HELP YOU \n"
     ]
    },
    {
     "name": "stdout",
     "output_type": "stream",
     "text": [
      "File 276 of 528\r"
     ]
    },
    {
     "name": "stderr",
     "output_type": "stream",
     "text": [
      "[2025-01-20 01:26:33,684][835302387.py][line:31][INFO] Transcription of file 277 has been formatted\n",
      "[2025-01-20 01:26:33,684][835302387.py][line:32][INFO] ORIGINAL:  I need a little more information.\n",
      "[2025-01-20 01:26:33,698][835302387.py][line:33][INFO] FORMATTED:  I NEED A LITTLE MORE INFORMATION\n"
     ]
    },
    {
     "name": "stdout",
     "output_type": "stream",
     "text": [
      "File 277 of 528\r"
     ]
    },
    {
     "name": "stderr",
     "output_type": "stream",
     "text": [
      "[2025-01-20 01:26:34,522][835302387.py][line:31][INFO] Transcription of file 278 has been formatted\n",
      "[2025-01-20 01:26:34,524][835302387.py][line:32][INFO] ORIGINAL:  I've been here for four hours. What flight did you come in on?\n",
      "[2025-01-20 01:26:34,524][835302387.py][line:33][INFO] FORMATTED:  I'VE BEEN HERE FOR FOUR HOURS WHAT FLIGHT DID YOU COME IN ON \n"
     ]
    },
    {
     "name": "stdout",
     "output_type": "stream",
     "text": [
      "File 278 of 528\r"
     ]
    },
    {
     "name": "stderr",
     "output_type": "stream",
     "text": [
      "[2025-01-20 01:26:34,807][835302387.py][line:31][INFO] Transcription of file 279 has been formatted\n",
      "[2025-01-20 01:26:34,823][835302387.py][line:32][INFO] ORIGINAL:  Georgia?\n",
      "[2025-01-20 01:26:34,823][835302387.py][line:33][INFO] FORMATTED:  GEORGIA \n"
     ]
    },
    {
     "name": "stdout",
     "output_type": "stream",
     "text": [
      "File 279 of 528\r"
     ]
    },
    {
     "name": "stderr",
     "output_type": "stream",
     "text": [
      "[2025-01-20 01:26:35,619][835302387.py][line:31][INFO] Transcription of file 280 has been formatted\n",
      "[2025-01-20 01:26:35,619][835302387.py][line:32][INFO] ORIGINAL:  for you. There's no need for you to raise your voice, sir.\n",
      "[2025-01-20 01:26:35,619][835302387.py][line:33][INFO] FORMATTED:  FOR YOU THERE'S NO NEED FOR YOU TO RAISE YOUR VOICE  SIR\n"
     ]
    },
    {
     "name": "stdout",
     "output_type": "stream",
     "text": [
      "File 280 of 528\r"
     ]
    },
    {
     "name": "stderr",
     "output_type": "stream",
     "text": [
      "[2025-01-20 01:26:36,075][835302387.py][line:31][INFO] Transcription of file 281 has been formatted\n",
      "[2025-01-20 01:26:36,075][835302387.py][line:32][INFO] ORIGINAL:  I've been college educated.\n",
      "[2025-01-20 01:26:36,075][835302387.py][line:33][INFO] FORMATTED:  I'VE BEEN COLLEGE EDUCATED\n"
     ]
    },
    {
     "name": "stdout",
     "output_type": "stream",
     "text": [
      "File 281 of 528\r"
     ]
    },
    {
     "name": "stderr",
     "output_type": "stream",
     "text": [
      "[2025-01-20 01:26:36,425][835302387.py][line:31][INFO] Transcription of file 282 has been formatted\n",
      "[2025-01-20 01:26:36,425][835302387.py][line:32][INFO] ORIGINAL:  speak your language\n",
      "[2025-01-20 01:26:36,425][835302387.py][line:33][INFO] FORMATTED:  SPEAK YOUR LANGUAGE\n"
     ]
    },
    {
     "name": "stdout",
     "output_type": "stream",
     "text": [
      "File 282 of 528\r"
     ]
    },
    {
     "name": "stderr",
     "output_type": "stream",
     "text": [
      "[2025-01-20 01:26:37,235][835302387.py][line:31][INFO] Transcription of file 283 has been formatted\n",
      "[2025-01-20 01:26:37,235][835302387.py][line:32][INFO] ORIGINAL:  I'm just saying you don't need to talk to you like I'm-\n",
      "[2025-01-20 01:26:37,235][835302387.py][line:33][INFO] FORMATTED:  I'M JUST SAYING YOU DON'T NEED TO TALK TO YOU LIKE I'M \n"
     ]
    },
    {
     "name": "stdout",
     "output_type": "stream",
     "text": [
      "File 283 of 528\r"
     ]
    },
    {
     "name": "stderr",
     "output_type": "stream",
     "text": [
      "[2025-01-20 01:26:37,987][835302387.py][line:31][INFO] Transcription of file 284 has been formatted\n",
      "[2025-01-20 01:26:37,987][835302387.py][line:32][INFO] ORIGINAL:  Details, shmeetails. Well, anyhow, can I...\n",
      "[2025-01-20 01:26:37,987][835302387.py][line:33][INFO] FORMATTED:  DETAILS  SHMEETAILS WELL  ANYHOW  CAN I\n"
     ]
    },
    {
     "name": "stdout",
     "output_type": "stream",
     "text": [
      "File 284 of 528\r"
     ]
    },
    {
     "name": "stderr",
     "output_type": "stream",
     "text": [
      "[2025-01-20 01:26:38,463][835302387.py][line:31][INFO] Transcription of file 285 has been formatted\n",
      "[2025-01-20 01:26:38,463][835302387.py][line:32][INFO] ORIGINAL:  So you flew in from Atlanta.\n",
      "[2025-01-20 01:26:38,463][835302387.py][line:33][INFO] FORMATTED:  SO YOU FLEW IN FROM ATLANTA\n"
     ]
    },
    {
     "name": "stdout",
     "output_type": "stream",
     "text": [
      "File 285 of 528\r"
     ]
    },
    {
     "name": "stderr",
     "output_type": "stream",
     "text": [
      "[2025-01-20 01:26:38,836][835302387.py][line:31][INFO] Transcription of file 286 has been formatted\n",
      "[2025-01-20 01:26:38,836][835302387.py][line:32][INFO] ORIGINAL:  Four hours ago.\n",
      "[2025-01-20 01:26:38,836][835302387.py][line:33][INFO] FORMATTED:  FOUR HOURS AGO\n"
     ]
    },
    {
     "name": "stdout",
     "output_type": "stream",
     "text": [
      "File 286 of 528\r"
     ]
    },
    {
     "name": "stderr",
     "output_type": "stream",
     "text": [
      "[2025-01-20 01:26:39,283][835302387.py][line:31][INFO] Transcription of file 287 has been formatted\n",
      "[2025-01-20 01:26:39,285][835302387.py][line:32][INFO] ORIGINAL:  Do you have any ideas?\n",
      "[2025-01-20 01:26:39,286][835302387.py][line:33][INFO] FORMATTED:  DO YOU HAVE ANY IDEAS \n"
     ]
    },
    {
     "name": "stdout",
     "output_type": "stream",
     "text": [
      "File 287 of 528\r"
     ]
    },
    {
     "name": "stderr",
     "output_type": "stream",
     "text": [
      "[2025-01-20 01:26:40,694][835302387.py][line:31][INFO] Transcription of file 288 has been formatted\n",
      "[2025-01-20 01:26:40,694][835302387.py][line:32][INFO] ORIGINAL:  You said I had to check it. I wouldn't let you. I was not in Atlanta. It's a tiny little bed. I was not in Atlanta.\n",
      "[2025-01-20 01:26:40,694][835302387.py][line:33][INFO] FORMATTED:  YOU SAID I HAD TO CHECK IT I WOULDN'T LET YOU I WAS NOT IN ATLANTA IT'S A TINY LITTLE BED I WAS NOT IN ATLANTA\n"
     ]
    },
    {
     "name": "stdout",
     "output_type": "stream",
     "text": [
      "File 288 of 528\r"
     ]
    },
    {
     "name": "stderr",
     "output_type": "stream",
     "text": [
      "[2025-01-20 01:26:41,691][835302387.py][line:31][INFO] Transcription of file 289 has been formatted\n",
      "[2025-01-20 01:26:41,691][835302387.py][line:32][INFO] ORIGINAL:  I had nothing to do with the boarding attendant. I'm sorry that your seat was wherever it was.\n",
      "[2025-01-20 01:26:41,691][835302387.py][line:33][INFO] FORMATTED:  I HAD NOTHING TO DO WITH THE BOARDING ATTENDANT I'M SORRY THAT YOUR SEAT WAS WHEREVER IT WAS\n"
     ]
    },
    {
     "name": "stdout",
     "output_type": "stream",
     "text": [
      "File 289 of 528\r"
     ]
    },
    {
     "name": "stderr",
     "output_type": "stream",
     "text": [
      "[2025-01-20 01:26:42,401][835302387.py][line:31][INFO] Transcription of file 290 has been formatted\n",
      "[2025-01-20 01:26:42,401][835302387.py][line:32][INFO] ORIGINAL:  I have some unfortunate news that your bag isn't going to be\n",
      "[2025-01-20 01:26:42,401][835302387.py][line:33][INFO] FORMATTED:  I HAVE SOME UNFORTUNATE NEWS THAT YOUR BAG ISN'T GOING TO BE\n"
     ]
    },
    {
     "name": "stdout",
     "output_type": "stream",
     "text": [
      "File 290 of 528\r"
     ]
    },
    {
     "name": "stderr",
     "output_type": "stream",
     "text": [
      "[2025-01-20 01:26:42,766][835302387.py][line:31][INFO] Transcription of file 291 has been formatted\n",
      "[2025-01-20 01:26:42,766][835302387.py][line:32][INFO] ORIGINAL:  arriving anytime soon.\n",
      "[2025-01-20 01:26:42,766][835302387.py][line:33][INFO] FORMATTED:  ARRIVING ANYTIME SOON\n"
     ]
    },
    {
     "name": "stdout",
     "output_type": "stream",
     "text": [
      "File 291 of 528\r"
     ]
    },
    {
     "name": "stderr",
     "output_type": "stream",
     "text": [
      "[2025-01-20 01:26:43,400][835302387.py][line:31][INFO] Transcription of file 292 has been formatted\n",
      "[2025-01-20 01:26:43,400][835302387.py][line:32][INFO] ORIGINAL:  I'm really sorry to tell you this, but...\n",
      "[2025-01-20 01:26:43,400][835302387.py][line:33][INFO] FORMATTED:  I'M REALLY SORRY TO TELL YOU THIS  BUT\n"
     ]
    },
    {
     "name": "stdout",
     "output_type": "stream",
     "text": [
      "File 292 of 528\r"
     ]
    },
    {
     "name": "stderr",
     "output_type": "stream",
     "text": [
      "[2025-01-20 01:26:44,344][835302387.py][line:31][INFO] Transcription of file 293 has been formatted\n",
      "[2025-01-20 01:26:44,344][835302387.py][line:32][INFO] ORIGINAL:  It's not. I can offer you $50 in reimbursement gift cards for our airline insurance.\n",
      "[2025-01-20 01:26:44,360][835302387.py][line:33][INFO] FORMATTED:  IT'S NOT I CAN OFFER YOU  50 IN REIMBURSEMENT GIFT CARDS FOR OUR AIRLINE INSURANCE\n"
     ]
    },
    {
     "name": "stdout",
     "output_type": "stream",
     "text": [
      "File 293 of 528\r"
     ]
    },
    {
     "name": "stderr",
     "output_type": "stream",
     "text": [
      "[2025-01-20 01:26:44,724][835302387.py][line:31][INFO] Transcription of file 294 has been formatted\n",
      "[2025-01-20 01:26:44,724][835302387.py][line:32][INFO] ORIGINAL:  and your future-\n",
      "[2025-01-20 01:26:44,724][835302387.py][line:33][INFO] FORMATTED:  AND YOUR FUTURE \n"
     ]
    },
    {
     "name": "stdout",
     "output_type": "stream",
     "text": [
      "File 294 of 528\r"
     ]
    },
    {
     "name": "stderr",
     "output_type": "stream",
     "text": [
      "[2025-01-20 01:26:45,022][835302387.py][line:31][INFO] Transcription of file 295 has been formatted\n",
      "[2025-01-20 01:26:45,022][835302387.py][line:32][INFO] ORIGINAL:  No.\n",
      "[2025-01-20 01:26:45,038][835302387.py][line:33][INFO] FORMATTED:  NO\n"
     ]
    },
    {
     "name": "stdout",
     "output_type": "stream",
     "text": [
      "File 295 of 528\r"
     ]
    },
    {
     "name": "stderr",
     "output_type": "stream",
     "text": [
      "[2025-01-20 01:26:45,336][835302387.py][line:31][INFO] Transcription of file 296 has been formatted\n",
      "[2025-01-20 01:26:45,337][835302387.py][line:32][INFO] ORIGINAL:  Yes.\n",
      "[2025-01-20 01:26:45,338][835302387.py][line:33][INFO] FORMATTED:  YES\n"
     ]
    },
    {
     "name": "stdout",
     "output_type": "stream",
     "text": [
      "File 296 of 528\r"
     ]
    },
    {
     "name": "stderr",
     "output_type": "stream",
     "text": [
      "[2025-01-20 01:26:45,718][835302387.py][line:31][INFO] Transcription of file 297 has been formatted\n",
      "[2025-01-20 01:26:45,719][835302387.py][line:32][INFO] ORIGINAL:  We've actually...\n",
      "[2025-01-20 01:26:45,720][835302387.py][line:33][INFO] FORMATTED:  WE'VE ACTUALLY\n"
     ]
    },
    {
     "name": "stdout",
     "output_type": "stream",
     "text": [
      "File 297 of 528\r"
     ]
    },
    {
     "name": "stderr",
     "output_type": "stream",
     "text": [
      "[2025-01-20 01:26:46,656][835302387.py][line:31][INFO] Transcription of file 298 has been formatted\n",
      "[2025-01-20 01:26:46,658][835302387.py][line:32][INFO] ORIGINAL:  They do, as a matter of fact. We don't like to publicize it because...\n",
      "[2025-01-20 01:26:46,659][835302387.py][line:33][INFO] FORMATTED:  THEY DO  AS A MATTER OF FACT WE DON'T LIKE TO PUBLICIZE IT BECAUSE\n"
     ]
    },
    {
     "name": "stdout",
     "output_type": "stream",
     "text": [
      "File 298 of 528\r"
     ]
    },
    {
     "name": "stderr",
     "output_type": "stream",
     "text": [
      "[2025-01-20 01:26:47,149][835302387.py][line:31][INFO] Transcription of file 299 has been formatted\n",
      "[2025-01-20 01:26:47,150][835302387.py][line:32][INFO] ORIGINAL:  people wouldn't buy our airline.\n",
      "[2025-01-20 01:26:47,151][835302387.py][line:33][INFO] FORMATTED:  PEOPLE WOULDN'T BUY OUR AIRLINE\n"
     ]
    },
    {
     "name": "stdout",
     "output_type": "stream",
     "text": [
      "File 299 of 528\r"
     ]
    },
    {
     "name": "stderr",
     "output_type": "stream",
     "text": [
      "[2025-01-20 01:26:47,652][835302387.py][line:31][INFO] Transcription of file 300 has been formatted\n",
      "[2025-01-20 01:26:47,653][835302387.py][line:32][INFO] ORIGINAL:  The check? What was that?\n",
      "[2025-01-20 01:26:47,654][835302387.py][line:33][INFO] FORMATTED:  THE CHECK  WHAT WAS THAT \n"
     ]
    },
    {
     "name": "stdout",
     "output_type": "stream",
     "text": [
      "File 300 of 528\r"
     ]
    },
    {
     "name": "stderr",
     "output_type": "stream",
     "text": [
      "[2025-01-20 01:26:48,040][835302387.py][line:31][INFO] Transcription of file 301 has been formatted\n",
      "[2025-01-20 01:26:48,040][835302387.py][line:32][INFO] ORIGINAL:  That's unfortunate.\n",
      "[2025-01-20 01:26:48,040][835302387.py][line:33][INFO] FORMATTED:  THAT'S UNFORTUNATE\n"
     ]
    },
    {
     "name": "stdout",
     "output_type": "stream",
     "text": [
      "File 301 of 528\r"
     ]
    },
    {
     "name": "stderr",
     "output_type": "stream",
     "text": [
      "[2025-01-20 01:26:48,447][835302387.py][line:31][INFO] Transcription of file 302 has been formatted\n",
      "[2025-01-20 01:26:48,447][835302387.py][line:32][INFO] ORIGINAL:  That's too bad.\n",
      "[2025-01-20 01:26:48,447][835302387.py][line:33][INFO] FORMATTED:  THAT'S TOO BAD\n"
     ]
    },
    {
     "name": "stdout",
     "output_type": "stream",
     "text": [
      "File 302 of 528\r"
     ]
    },
    {
     "name": "stderr",
     "output_type": "stream",
     "text": [
      "[2025-01-20 01:26:49,025][835302387.py][line:31][INFO] Transcription of file 303 has been formatted\n",
      "[2025-01-20 01:26:49,025][835302387.py][line:32][INFO] ORIGINAL:  I wish I could give it to you.\n",
      "[2025-01-20 01:26:49,025][835302387.py][line:33][INFO] FORMATTED:  I WISH I COULD GIVE IT TO YOU\n"
     ]
    },
    {
     "name": "stdout",
     "output_type": "stream",
     "text": [
      "File 303 of 528\r"
     ]
    },
    {
     "name": "stderr",
     "output_type": "stream",
     "text": [
      "[2025-01-20 01:26:49,431][835302387.py][line:31][INFO] Transcription of file 304 has been formatted\n",
      "[2025-01-20 01:26:49,431][835302387.py][line:32][INFO] ORIGINAL:  I wish I could.\n",
      "[2025-01-20 01:26:49,431][835302387.py][line:33][INFO] FORMATTED:  I WISH I COULD\n"
     ]
    },
    {
     "name": "stdout",
     "output_type": "stream",
     "text": [
      "File 304 of 528\r"
     ]
    },
    {
     "name": "stderr",
     "output_type": "stream",
     "text": [
      "[2025-01-20 01:26:50,161][835302387.py][line:31][INFO] Transcription of file 305 has been formatted\n",
      "[2025-01-20 01:26:50,161][835302387.py][line:32][INFO] ORIGINAL:  That's not- Can I just go back there and just go through\n",
      "[2025-01-20 01:26:50,161][835302387.py][line:33][INFO] FORMATTED:  THAT'S NOT  CAN I JUST GO BACK THERE AND JUST GO THROUGH\n"
     ]
    },
    {
     "name": "stdout",
     "output_type": "stream",
     "text": [
      "File 305 of 528\r"
     ]
    },
    {
     "name": "stderr",
     "output_type": "stream",
     "text": [
      "[2025-01-20 01:26:50,462][835302387.py][line:31][INFO] Transcription of file 306 has been formatted\n",
      "[2025-01-20 01:26:50,462][835302387.py][line:32][INFO] ORIGINAL:  No.\n",
      "[2025-01-20 01:26:50,462][835302387.py][line:33][INFO] FORMATTED:  NO\n"
     ]
    },
    {
     "name": "stdout",
     "output_type": "stream",
     "text": [
      "File 306 of 528\r"
     ]
    },
    {
     "name": "stderr",
     "output_type": "stream",
     "text": [
      "[2025-01-20 01:26:51,455][835302387.py][line:31][INFO] Transcription of file 307 has been formatted\n",
      "[2025-01-20 01:26:51,455][835302387.py][line:32][INFO] ORIGINAL:  stuff. We have plenty of aggressive searching going on. It's not there. Someone's taken it.\n",
      "[2025-01-20 01:26:51,455][835302387.py][line:33][INFO] FORMATTED:  STUFF WE HAVE PLENTY OF AGGRESSIVE SEARCHING GOING ON IT'S NOT THERE SOMEONE'S TAKEN IT\n"
     ]
    },
    {
     "name": "stdout",
     "output_type": "stream",
     "text": [
      "File 307 of 528\r"
     ]
    },
    {
     "name": "stderr",
     "output_type": "stream",
     "text": [
      "[2025-01-20 01:26:51,828][835302387.py][line:31][INFO] Transcription of file 308 has been formatted\n",
      "[2025-01-20 01:26:51,828][835302387.py][line:32][INFO] ORIGINAL:  Well, whatever.\n",
      "[2025-01-20 01:26:51,828][835302387.py][line:33][INFO] FORMATTED:  WELL  WHATEVER\n"
     ]
    },
    {
     "name": "stdout",
     "output_type": "stream",
     "text": [
      "File 308 of 528\r"
     ]
    },
    {
     "name": "stderr",
     "output_type": "stream",
     "text": [
      "[2025-01-20 01:26:52,236][835302387.py][line:31][INFO] Transcription of file 309 has been formatted\n",
      "[2025-01-20 01:26:52,236][835302387.py][line:32][INFO] ORIGINAL:  No, thank you.\n",
      "[2025-01-20 01:26:52,236][835302387.py][line:33][INFO] FORMATTED:  NO  THANK YOU\n"
     ]
    },
    {
     "name": "stdout",
     "output_type": "stream",
     "text": [
      "File 309 of 528\r"
     ]
    },
    {
     "name": "stderr",
     "output_type": "stream",
     "text": [
      "[2025-01-20 01:26:53,064][835302387.py][line:31][INFO] Transcription of file 310 has been formatted\n",
      "[2025-01-20 01:26:53,064][835302387.py][line:32][INFO] ORIGINAL:  I don't see why you want any. You've already had two glasses.\n",
      "[2025-01-20 01:26:53,064][835302387.py][line:33][INFO] FORMATTED:  I DON'T SEE WHY YOU WANT ANY YOU'VE ALREADY HAD TWO GLASSES\n"
     ]
    },
    {
     "name": "stdout",
     "output_type": "stream",
     "text": [
      "File 310 of 528\r"
     ]
    },
    {
     "name": "stderr",
     "output_type": "stream",
     "text": [
      "[2025-01-20 01:26:53,542][835302387.py][line:31][INFO] Transcription of file 311 has been formatted\n",
      "[2025-01-20 01:26:53,542][835302387.py][line:32][INFO] ORIGINAL:  Don't be stupid. What?\n",
      "[2025-01-20 01:26:53,542][835302387.py][line:33][INFO] FORMATTED:  DON'T BE STUPID WHAT \n"
     ]
    },
    {
     "name": "stdout",
     "output_type": "stream",
     "text": [
      "File 311 of 528\r"
     ]
    },
    {
     "name": "stderr",
     "output_type": "stream",
     "text": [
      "[2025-01-20 01:26:54,501][835302387.py][line:31][INFO] Transcription of file 312 has been formatted\n",
      "[2025-01-20 01:26:54,503][835302387.py][line:32][INFO] ORIGINAL:  That's a woman's duty to allure the man. Watch me a minute, will you?\n",
      "[2025-01-20 01:26:54,503][835302387.py][line:33][INFO] FORMATTED:  THAT'S A WOMAN'S DUTY TO ALLURE THE MAN WATCH ME A MINUTE  WILL YOU \n"
     ]
    },
    {
     "name": "stdout",
     "output_type": "stream",
     "text": [
      "File 312 of 528\r"
     ]
    },
    {
     "name": "stderr",
     "output_type": "stream",
     "text": [
      "[2025-01-20 01:26:54,932][835302387.py][line:31][INFO] Transcription of file 313 has been formatted\n",
      "[2025-01-20 01:26:54,948][835302387.py][line:32][INFO] ORIGINAL:  They stink. They stink.\n",
      "[2025-01-20 01:26:54,948][835302387.py][line:33][INFO] FORMATTED:  THEY STINK THEY STINK\n"
     ]
    },
    {
     "name": "stdout",
     "output_type": "stream",
     "text": [
      "File 313 of 528\r"
     ]
    },
    {
     "name": "stderr",
     "output_type": "stream",
     "text": [
      "[2025-01-20 01:26:56,236][835302387.py][line:31][INFO] Transcription of file 314 has been formatted\n",
      "[2025-01-20 01:26:56,236][835302387.py][line:32][INFO] ORIGINAL:  I don't care. I don't care, do you understand? I don't mind if they bark and they roll about like hoops.\n",
      "[2025-01-20 01:26:56,236][835302387.py][line:33][INFO] FORMATTED:  I DON'T CARE I DON'T CARE  DO YOU UNDERSTAND  I DON'T MIND IF THEY BARK AND THEY ROLL ABOUT LIKE HOOPS\n"
     ]
    },
    {
     "name": "stdout",
     "output_type": "stream",
     "text": [
      "File 314 of 528\r"
     ]
    },
    {
     "name": "stderr",
     "output_type": "stream",
     "text": [
      "[2025-01-20 01:26:56,790][835302387.py][line:31][INFO] Transcription of file 315 has been formatted\n",
      "[2025-01-20 01:26:56,790][835302387.py][line:32][INFO] ORIGINAL:  Yes, I did. Quite a lot.\n",
      "[2025-01-20 01:26:56,790][835302387.py][line:33][INFO] FORMATTED:  YES  I DID QUITE A LOT\n"
     ]
    },
    {
     "name": "stdout",
     "output_type": "stream",
     "text": [
      "File 315 of 528\r"
     ]
    },
    {
     "name": "stderr",
     "output_type": "stream",
     "text": [
      "[2025-01-20 01:26:57,264][835302387.py][line:31][INFO] Transcription of file 316 has been formatted\n",
      "[2025-01-20 01:26:57,264][835302387.py][line:32][INFO] ORIGINAL:  Oh, mind your own business.\n",
      "[2025-01-20 01:26:57,264][835302387.py][line:33][INFO] FORMATTED:  OH  MIND YOUR OWN BUSINESS\n"
     ]
    },
    {
     "name": "stdout",
     "output_type": "stream",
     "text": [
      "File 316 of 528\r"
     ]
    },
    {
     "name": "stderr",
     "output_type": "stream",
     "text": [
      "[2025-01-20 01:26:58,125][835302387.py][line:31][INFO] Transcription of file 317 has been formatted\n",
      "[2025-01-20 01:26:58,125][835302387.py][line:32][INFO] ORIGINAL:  You're quite insufferable. I expect it's because you're drunk.\n",
      "[2025-01-20 01:26:58,125][835302387.py][line:33][INFO] FORMATTED:  YOU'RE QUITE INSUFFERABLE I EXPECT IT'S BECAUSE YOU'RE DRUNK\n"
     ]
    },
    {
     "name": "stdout",
     "output_type": "stream",
     "text": [
      "File 317 of 528\r"
     ]
    },
    {
     "name": "stderr",
     "output_type": "stream",
     "text": [
      "[2025-01-20 01:26:58,602][835302387.py][line:31][INFO] Transcription of file 318 has been formatted\n",
      "[2025-01-20 01:26:58,602][835302387.py][line:32][INFO] ORIGINAL:  You always had a weak head.\n",
      "[2025-01-20 01:26:58,602][835302387.py][line:33][INFO] FORMATTED:  YOU ALWAYS HAD A WEAK HEAD\n"
     ]
    },
    {
     "name": "stdout",
     "output_type": "stream",
     "text": [
      "File 318 of 528\r"
     ]
    },
    {
     "name": "stderr",
     "output_type": "stream",
     "text": [
      "[2025-01-20 01:26:59,556][835302387.py][line:31][INFO] Transcription of file 319 has been formatted\n",
      "[2025-01-20 01:26:59,556][835302387.py][line:32][INFO] ORIGINAL:  On the contrary. A child or two could get violently drunk on only one glass of brandy.\n",
      "[2025-01-20 01:26:59,556][835302387.py][line:33][INFO] FORMATTED:  ON THE CONTRARY A CHILD OR TWO COULD GET VIOLENTLY DRUNK ON ONLY ONE GLASS OF BRANDY\n"
     ]
    },
    {
     "name": "stdout",
     "output_type": "stream",
     "text": [
      "File 319 of 528\r"
     ]
    },
    {
     "name": "stderr",
     "output_type": "stream",
     "text": [
      "[2025-01-20 01:26:59,854][835302387.py][line:31][INFO] Transcription of file 320 has been formatted\n",
      "[2025-01-20 01:26:59,854][835302387.py][line:32][INFO] ORIGINAL:  Shut up\n",
      "[2025-01-20 01:26:59,854][835302387.py][line:33][INFO] FORMATTED:  SHUT UP\n"
     ]
    },
    {
     "name": "stdout",
     "output_type": "stream",
     "text": [
      "File 320 of 528\r"
     ]
    },
    {
     "name": "stderr",
     "output_type": "stream",
     "text": [
      "[2025-01-20 01:27:00,634][835302387.py][line:31][INFO] Transcription of file 321 has been formatted\n",
      "[2025-01-20 01:27:00,634][835302387.py][line:32][INFO] ORIGINAL:  Not very funny darling. Why don't you have some more brandy?\n",
      "[2025-01-20 01:27:00,634][835302387.py][line:33][INFO] FORMATTED:  NOT VERY FUNNY DARLING WHY DON'T YOU HAVE SOME MORE BRANDY \n"
     ]
    },
    {
     "name": "stdout",
     "output_type": "stream",
     "text": [
      "File 321 of 528\r"
     ]
    },
    {
     "name": "stderr",
     "output_type": "stream",
     "text": [
      "[2025-01-20 01:27:00,924][835302387.py][line:31][INFO] Transcription of file 322 has been formatted\n",
      "[2025-01-20 01:27:00,924][835302387.py][line:32][INFO] ORIGINAL:  Why?\n",
      "[2025-01-20 01:27:00,924][835302387.py][line:33][INFO] FORMATTED:  WHY \n"
     ]
    },
    {
     "name": "stdout",
     "output_type": "stream",
     "text": [
      "File 322 of 528\r"
     ]
    },
    {
     "name": "stderr",
     "output_type": "stream",
     "text": [
      "[2025-01-20 01:27:01,406][835302387.py][line:31][INFO] Transcription of file 323 has been formatted\n",
      "[2025-01-20 01:27:01,422][835302387.py][line:32][INFO] ORIGINAL:  Bear away and to an east.\n",
      "[2025-01-20 01:27:01,422][835302387.py][line:33][INFO] FORMATTED:  BEAR AWAY AND TO AN EAST\n"
     ]
    },
    {
     "name": "stdout",
     "output_type": "stream",
     "text": [
      "File 323 of 528\r"
     ]
    },
    {
     "name": "stderr",
     "output_type": "stream",
     "text": [
      "[2025-01-20 01:27:01,890][835302387.py][line:31][INFO] Transcription of file 324 has been formatted\n",
      "[2025-01-20 01:27:01,890][835302387.py][line:32][INFO] ORIGINAL:  Turn it on again, please.\n",
      "[2025-01-20 01:27:01,890][835302387.py][line:33][INFO] FORMATTED:  TURN IT ON AGAIN  PLEASE\n"
     ]
    },
    {
     "name": "stdout",
     "output_type": "stream",
     "text": [
      "File 324 of 528\r"
     ]
    },
    {
     "name": "stderr",
     "output_type": "stream",
     "text": [
      "[2025-01-20 01:27:02,681][835302387.py][line:31][INFO] Transcription of file 325 has been formatted\n",
      "[2025-01-20 01:27:02,681][835302387.py][line:32][INFO] ORIGINAL:  Very well, if you insist on being boorish and idiotic.\n",
      "[2025-01-20 01:27:02,681][835302387.py][line:33][INFO] FORMATTED:  VERY WELL  IF YOU INSIST ON BEING BOORISH AND IDIOTIC\n"
     ]
    },
    {
     "name": "stdout",
     "output_type": "stream",
     "text": [
      "File 325 of 528\r"
     ]
    },
    {
     "name": "stderr",
     "output_type": "stream",
     "text": [
      "[2025-01-20 01:27:03,050][835302387.py][line:31][INFO] Transcription of file 326 has been formatted\n",
      "[2025-01-20 01:27:03,050][835302387.py][line:32][INFO] ORIGINAL:  I won't.\n",
      "[2025-01-20 01:27:03,050][835302387.py][line:33][INFO] FORMATTED:  I WON'T\n"
     ]
    },
    {
     "name": "stdout",
     "output_type": "stream",
     "text": [
      "File 326 of 528\r"
     ]
    },
    {
     "name": "stderr",
     "output_type": "stream",
     "text": [
      "[2025-01-20 01:27:03,562][835302387.py][line:31][INFO] Transcription of file 327 has been formatted\n",
      "[2025-01-20 01:27:03,562][835302387.py][line:32][INFO] ORIGINAL:  Stop it. No. Go away.\n",
      "[2025-01-20 01:27:03,578][835302387.py][line:33][INFO] FORMATTED:  STOP IT NO GO AWAY\n"
     ]
    },
    {
     "name": "stdout",
     "output_type": "stream",
     "text": [
      "File 327 of 528\r"
     ]
    },
    {
     "name": "stderr",
     "output_type": "stream",
     "text": [
      "[2025-01-20 01:27:04,531][835302387.py][line:31][INFO] Transcription of file 328 has been formatted\n",
      "[2025-01-20 01:27:04,531][835302387.py][line:32][INFO] ORIGINAL:  Listen! Oh, I'm sick and tired of listening to you, you damn sadistic bully!\n",
      "[2025-01-20 01:27:04,531][835302387.py][line:33][INFO] FORMATTED:  LISTEN  OH  I'M SICK AND TIRED OF LISTENING TO YOU  YOU DAMN SADISTIC BULLY \n"
     ]
    },
    {
     "name": "stdout",
     "output_type": "stream",
     "text": [
      "File 328 of 528\r"
     ]
    },
    {
     "name": "stderr",
     "output_type": "stream",
     "text": [
      "[2025-01-20 01:27:06,105][835302387.py][line:31][INFO] Transcription of file 329 has been formatted\n",
      "[2025-01-20 01:27:06,105][835302387.py][line:32][INFO] ORIGINAL:  Oh, you're cruel. I hate you. I hate you. Go away. You're conceited. You're overbearing. You're utterly impossible. So, Senator,\n",
      "[2025-01-20 01:27:06,105][835302387.py][line:33][INFO] FORMATTED:  OH  YOU'RE CRUEL I HATE YOU I HATE YOU GO AWAY YOU'RE CONCEITED YOU'RE OVERBEARING YOU'RE UTTERLY IMPOSSIBLE SO  SENATOR \n"
     ]
    },
    {
     "name": "stdout",
     "output_type": "stream",
     "text": [
      "File 329 of 528\r"
     ]
    },
    {
     "name": "stderr",
     "output_type": "stream",
     "text": [
      "[2025-01-20 01:27:06,837][835302387.py][line:31][INFO] Transcription of file 330 has been formatted\n",
      "[2025-01-20 01:27:06,837][835302387.py][line:32][INFO] ORIGINAL:  This is the end, do you hear me? Finally and forever.\n",
      "[2025-01-20 01:27:06,837][835302387.py][line:33][INFO] FORMATTED:  THIS IS THE END  DO YOU HEAR ME  FINALLY AND FOREVER\n"
     ]
    },
    {
     "name": "stdout",
     "output_type": "stream",
     "text": [
      "File 330 of 528\r"
     ]
    },
    {
     "name": "stderr",
     "output_type": "stream",
     "text": [
      "[2025-01-20 01:27:09,180][835302387.py][line:31][INFO] Transcription of file 331 has been formatted\n",
      "[2025-01-20 01:27:09,180][835302387.py][line:32][INFO] ORIGINAL:  Oh, yes I am. Oh, yes I am. Let go of me! You let go! You're a cruel fiend! I love and I hate you! Marry you again? Never, never, never, never. I hope you die in torment, you beast!\n",
      "[2025-01-20 01:27:09,180][835302387.py][line:33][INFO] FORMATTED:  OH  YES I AM OH  YES I AM LET GO OF ME  YOU LET GO  YOU'RE A CRUEL FIEND  I LOVE AND I HATE YOU  MARRY YOU AGAIN  NEVER  NEVER  NEVER  NEVER I HOPE YOU DIE IN TORMENT  YOU BEAST \n"
     ]
    },
    {
     "name": "stdout",
     "output_type": "stream",
     "text": [
      "File 331 of 528\r"
     ]
    },
    {
     "name": "stderr",
     "output_type": "stream",
     "text": [
      "[2025-01-20 01:27:10,165][835302387.py][line:31][INFO] Transcription of file 332 has been formatted\n",
      "[2025-01-20 01:27:10,165][835302387.py][line:32][INFO] ORIGINAL:  Yes! There's a big envelope. It says, you're it! I'm sorry.\n",
      "[2025-01-20 01:27:10,165][835302387.py][line:33][INFO] FORMATTED:  YES  THERE'S A BIG ENVELOPE IT SAYS  YOU'RE IT  I'M SORRY\n"
     ]
    },
    {
     "name": "stdout",
     "output_type": "stream",
     "text": [
      "File 332 of 528\r"
     ]
    },
    {
     "name": "stderr",
     "output_type": "stream",
     "text": [
      "[2025-01-20 01:27:13,065][835302387.py][line:31][INFO] Transcription of file 333 has been formatted\n",
      "[2025-01-20 01:27:13,069][835302387.py][line:32][INFO] ORIGINAL:  I'm really excited. Yeah. I don't know how I'm going to pay for anything, but I also, I, I, yeah. Loans too. Yeah. Yeah. I applied though for a bunch of grants and scholarships. So I'm still waiting to hear on that. Oh, good.\n",
      "[2025-01-20 01:27:13,072][835302387.py][line:33][INFO] FORMATTED:  I'M REALLY EXCITED YEAH I DON'T KNOW HOW I'M GOING TO PAY FOR ANYTHING  BUT I ALSO  I  I  YEAH LOANS TOO YEAH YEAH I APPLIED THOUGH FOR A BUNCH OF GRANTS AND SCHOLARSHIPS SO I'M STILL WAITING TO HEAR ON THAT OH  GOOD\n"
     ]
    },
    {
     "name": "stdout",
     "output_type": "stream",
     "text": [
      "File 333 of 528\r"
     ]
    },
    {
     "name": "stderr",
     "output_type": "stream",
     "text": [
      "[2025-01-20 01:27:13,949][835302387.py][line:31][INFO] Transcription of file 334 has been formatted\n",
      "[2025-01-20 01:27:13,949][835302387.py][line:32][INFO] ORIGINAL:  I know, I know, I know, I know.\n",
      "[2025-01-20 01:27:13,949][835302387.py][line:33][INFO] FORMATTED:  I KNOW  I KNOW  I KNOW  I KNOW\n"
     ]
    },
    {
     "name": "stdout",
     "output_type": "stream",
     "text": [
      "File 334 of 528\r"
     ]
    },
    {
     "name": "stderr",
     "output_type": "stream",
     "text": [
      "[2025-01-20 01:27:15,087][835302387.py][line:31][INFO] Transcription of file 335 has been formatted\n",
      "[2025-01-20 01:27:15,088][835302387.py][line:32][INFO] ORIGINAL:  I don't know. I spend so much time commuting it as it is. I'd rather...\n",
      "[2025-01-20 01:27:15,088][835302387.py][line:33][INFO] FORMATTED:  I DON'T KNOW I SPEND SO MUCH TIME COMMUTING IT AS IT IS I'D RATHER\n"
     ]
    },
    {
     "name": "stdout",
     "output_type": "stream",
     "text": [
      "File 335 of 528\r"
     ]
    },
    {
     "name": "stderr",
     "output_type": "stream",
     "text": [
      "[2025-01-20 01:27:15,908][835302387.py][line:31][INFO] Transcription of file 336 has been formatted\n",
      "[2025-01-20 01:27:15,908][835302387.py][line:32][INFO] ORIGINAL:  I'm happy, you're the same. We should throw a party.\n",
      "[2025-01-20 01:27:15,908][835302387.py][line:33][INFO] FORMATTED:  I'M HAPPY  YOU'RE THE SAME WE SHOULD THROW A PARTY\n"
     ]
    },
    {
     "name": "stdout",
     "output_type": "stream",
     "text": [
      "File 336 of 528\r"
     ]
    },
    {
     "name": "stderr",
     "output_type": "stream",
     "text": [
      "[2025-01-20 01:27:16,397][835302387.py][line:31][INFO] Transcription of file 337 has been formatted\n",
      "[2025-01-20 01:27:16,398][835302387.py][line:32][INFO] ORIGINAL:  Yeah, I'm not sure.\n",
      "[2025-01-20 01:27:16,398][835302387.py][line:33][INFO] FORMATTED:  YEAH  I'M NOT SURE\n"
     ]
    },
    {
     "name": "stdout",
     "output_type": "stream",
     "text": [
      "File 337 of 528\r"
     ]
    },
    {
     "name": "stderr",
     "output_type": "stream",
     "text": [
      "[2025-01-20 01:27:16,704][835302387.py][line:31][INFO] Transcription of file 338 has been formatted\n",
      "[2025-01-20 01:27:16,706][835302387.py][line:32][INFO] ORIGINAL:  PhD.\n",
      "[2025-01-20 01:27:16,706][835302387.py][line:33][INFO] FORMATTED:  PHD\n"
     ]
    },
    {
     "name": "stdout",
     "output_type": "stream",
     "text": [
      "File 338 of 528\r"
     ]
    },
    {
     "name": "stderr",
     "output_type": "stream",
     "text": [
      "[2025-01-20 01:27:17,768][835302387.py][line:31][INFO] Transcription of file 339 has been formatted\n",
      "[2025-01-20 01:27:17,778][835302387.py][line:32][INFO] ORIGINAL:  So I get to mold young minds. Mrs. Nurse. Mrs. That's my mother.\n",
      "[2025-01-20 01:27:17,778][835302387.py][line:33][INFO] FORMATTED:  SO I GET TO MOLD YOUNG MINDS MRS NURSE MRS THAT'S MY MOTHER\n"
     ]
    },
    {
     "name": "stdout",
     "output_type": "stream",
     "text": [
      "File 339 of 528\r"
     ]
    },
    {
     "name": "stderr",
     "output_type": "stream",
     "text": [
      "[2025-01-20 01:27:18,233][835302387.py][line:31][INFO] Transcription of file 340 has been formatted\n",
      "[2025-01-20 01:27:18,238][835302387.py][line:32][INFO] ORIGINAL:  I'm only lying.\n",
      "[2025-01-20 01:27:18,238][835302387.py][line:33][INFO] FORMATTED:  I'M ONLY LYING\n"
     ]
    },
    {
     "name": "stdout",
     "output_type": "stream",
     "text": [
      "File 340 of 528\r"
     ]
    },
    {
     "name": "stderr",
     "output_type": "stream",
     "text": [
      "[2025-01-20 01:27:19,728][835302387.py][line:31][INFO] Transcription of file 341 has been formatted\n",
      "[2025-01-20 01:27:19,734][835302387.py][line:32][INFO] ORIGINAL:  I know, I made such a mess of it the entire time. The last three things I've done have ruined everything, I think. So rude. Yeah.\n",
      "[2025-01-20 01:27:19,734][835302387.py][line:33][INFO] FORMATTED:  I KNOW  I MADE SUCH A MESS OF IT THE ENTIRE TIME THE LAST THREE THINGS I'VE DONE HAVE RUINED EVERYTHING  I THINK SO RUDE YEAH\n"
     ]
    },
    {
     "name": "stdout",
     "output_type": "stream",
     "text": [
      "File 341 of 528\r"
     ]
    },
    {
     "name": "stderr",
     "output_type": "stream",
     "text": [
      "[2025-01-20 01:27:20,101][835302387.py][line:31][INFO] Transcription of file 342 has been formatted\n",
      "[2025-01-20 01:27:20,103][835302387.py][line:32][INFO] ORIGINAL:  You okay?\n",
      "[2025-01-20 01:27:20,104][835302387.py][line:33][INFO] FORMATTED:  YOU OKAY \n"
     ]
    },
    {
     "name": "stdout",
     "output_type": "stream",
     "text": [
      "File 342 of 528\r"
     ]
    },
    {
     "name": "stderr",
     "output_type": "stream",
     "text": [
      "[2025-01-20 01:27:20,515][835302387.py][line:31][INFO] Transcription of file 343 has been formatted\n",
      "[2025-01-20 01:27:20,515][835302387.py][line:32][INFO] ORIGINAL:  What's happening?\n",
      "[2025-01-20 01:27:20,516][835302387.py][line:33][INFO] FORMATTED:  WHAT'S HAPPENING \n"
     ]
    },
    {
     "name": "stdout",
     "output_type": "stream",
     "text": [
      "File 343 of 528\r"
     ]
    },
    {
     "name": "stderr",
     "output_type": "stream",
     "text": [
      "[2025-01-20 01:27:21,275][835302387.py][line:31][INFO] Transcription of file 344 has been formatted\n",
      "[2025-01-20 01:27:21,275][835302387.py][line:32][INFO] ORIGINAL:  You don't have to, if you don't want to.\n",
      "[2025-01-20 01:27:21,275][835302387.py][line:33][INFO] FORMATTED:  YOU DON'T HAVE TO  IF YOU DON'T WANT TO\n"
     ]
    },
    {
     "name": "stdout",
     "output_type": "stream",
     "text": [
      "File 344 of 528\r"
     ]
    },
    {
     "name": "stderr",
     "output_type": "stream",
     "text": [
      "[2025-01-20 01:27:21,782][835302387.py][line:31][INFO] Transcription of file 345 has been formatted\n",
      "[2025-01-20 01:27:21,782][835302387.py][line:32][INFO] ORIGINAL:  I'm sorry to hear that.\n",
      "[2025-01-20 01:27:21,782][835302387.py][line:33][INFO] FORMATTED:  I'M SORRY TO HEAR THAT\n"
     ]
    },
    {
     "name": "stdout",
     "output_type": "stream",
     "text": [
      "File 345 of 528\r"
     ]
    },
    {
     "name": "stderr",
     "output_type": "stream",
     "text": [
      "[2025-01-20 01:27:22,388][835302387.py][line:31][INFO] Transcription of file 346 has been formatted\n",
      "[2025-01-20 01:27:22,388][835302387.py][line:32][INFO] ORIGINAL:  You've been taking care of that all.\n",
      "[2025-01-20 01:27:22,388][835302387.py][line:33][INFO] FORMATTED:  YOU'VE BEEN TAKING CARE OF THAT ALL\n"
     ]
    },
    {
     "name": "stdout",
     "output_type": "stream",
     "text": [
      "File 346 of 528\r"
     ]
    },
    {
     "name": "stderr",
     "output_type": "stream",
     "text": [
      "[2025-01-20 01:27:22,798][835302387.py][line:31][INFO] Transcription of file 347 has been formatted\n",
      "[2025-01-20 01:27:22,798][835302387.py][line:32][INFO] ORIGINAL:  Oh, Jesus.\n",
      "[2025-01-20 01:27:22,798][835302387.py][line:33][INFO] FORMATTED:  OH  JESUS\n"
     ]
    },
    {
     "name": "stdout",
     "output_type": "stream",
     "text": [
      "File 347 of 528\r"
     ]
    },
    {
     "name": "stderr",
     "output_type": "stream",
     "text": [
      "[2025-01-20 01:27:23,261][835302387.py][line:31][INFO] Transcription of file 348 has been formatted\n",
      "[2025-01-20 01:27:23,261][835302387.py][line:32][INFO] ORIGINAL:  You sick for a while?\n",
      "[2025-01-20 01:27:23,261][835302387.py][line:33][INFO] FORMATTED:  YOU SICK FOR A WHILE \n"
     ]
    },
    {
     "name": "stdout",
     "output_type": "stream",
     "text": [
      "File 348 of 528\r"
     ]
    },
    {
     "name": "stderr",
     "output_type": "stream",
     "text": [
      "[2025-01-20 01:27:23,691][835302387.py][line:31][INFO] Transcription of file 349 has been formatted\n",
      "[2025-01-20 01:27:23,698][835302387.py][line:32][INFO] ORIGINAL:  It's an accident.\n",
      "[2025-01-20 01:27:23,700][835302387.py][line:33][INFO] FORMATTED:  IT'S AN ACCIDENT\n"
     ]
    },
    {
     "name": "stdout",
     "output_type": "stream",
     "text": [
      "File 349 of 528\r"
     ]
    },
    {
     "name": "stderr",
     "output_type": "stream",
     "text": [
      "[2025-01-20 01:27:24,088][835302387.py][line:31][INFO] Transcription of file 350 has been formatted\n",
      "[2025-01-20 01:27:24,088][835302387.py][line:32][INFO] ORIGINAL:  Yusuf.\n",
      "[2025-01-20 01:27:24,088][835302387.py][line:33][INFO] FORMATTED:  YUSUF\n"
     ]
    },
    {
     "name": "stdout",
     "output_type": "stream",
     "text": [
      "File 350 of 528\r"
     ]
    },
    {
     "name": "stderr",
     "output_type": "stream",
     "text": [
      "[2025-01-20 01:27:24,801][835302387.py][line:31][INFO] Transcription of file 351 has been formatted\n",
      "[2025-01-20 01:27:24,808][835302387.py][line:32][INFO] ORIGINAL:  I'm confused. He was sick or it was an accident?\n",
      "[2025-01-20 01:27:24,808][835302387.py][line:33][INFO] FORMATTED:  I'M CONFUSED HE WAS SICK OR IT WAS AN ACCIDENT \n"
     ]
    },
    {
     "name": "stdout",
     "output_type": "stream",
     "text": [
      "File 351 of 528\r"
     ]
    },
    {
     "name": "stderr",
     "output_type": "stream",
     "text": [
      "[2025-01-20 01:27:25,250][835302387.py][line:31][INFO] Transcription of file 352 has been formatted\n",
      "[2025-01-20 01:27:25,251][835302387.py][line:32][INFO] ORIGINAL:  Really fast.\n",
      "[2025-01-20 01:27:25,252][835302387.py][line:33][INFO] FORMATTED:  REALLY FAST\n"
     ]
    },
    {
     "name": "stdout",
     "output_type": "stream",
     "text": [
      "File 352 of 528\r"
     ]
    },
    {
     "name": "stderr",
     "output_type": "stream",
     "text": [
      "[2025-01-20 01:27:25,616][835302387.py][line:31][INFO] Transcription of file 353 has been formatted\n",
      "[2025-01-20 01:27:25,618][835302387.py][line:32][INFO] ORIGINAL:  Yeah.\n",
      "[2025-01-20 01:27:25,619][835302387.py][line:33][INFO] FORMATTED:  YEAH\n"
     ]
    },
    {
     "name": "stdout",
     "output_type": "stream",
     "text": [
      "File 353 of 528\r"
     ]
    },
    {
     "name": "stderr",
     "output_type": "stream",
     "text": [
      "[2025-01-20 01:27:25,909][835302387.py][line:31][INFO] Transcription of file 354 has been formatted\n",
      "[2025-01-20 01:27:25,909][835302387.py][line:32][INFO] ORIGINAL:  Yeah.\n",
      "[2025-01-20 01:27:25,909][835302387.py][line:33][INFO] FORMATTED:  YEAH\n"
     ]
    },
    {
     "name": "stdout",
     "output_type": "stream",
     "text": [
      "File 354 of 528\r"
     ]
    },
    {
     "name": "stderr",
     "output_type": "stream",
     "text": [
      "[2025-01-20 01:27:26,311][835302387.py][line:31][INFO] Transcription of file 355 has been formatted\n",
      "[2025-01-20 01:27:26,311][835302387.py][line:32][INFO] ORIGINAL:  Totally, yeah.\n",
      "[2025-01-20 01:27:26,311][835302387.py][line:33][INFO] FORMATTED:  TOTALLY  YEAH\n"
     ]
    },
    {
     "name": "stdout",
     "output_type": "stream",
     "text": [
      "File 355 of 528\r"
     ]
    },
    {
     "name": "stderr",
     "output_type": "stream",
     "text": [
      "[2025-01-20 01:27:26,703][835302387.py][line:31][INFO] Transcription of file 356 has been formatted\n",
      "[2025-01-20 01:27:26,706][835302387.py][line:32][INFO] ORIGINAL:  Mm-hmm.\n",
      "[2025-01-20 01:27:26,707][835302387.py][line:33][INFO] FORMATTED:  MM HMM\n"
     ]
    },
    {
     "name": "stdout",
     "output_type": "stream",
     "text": [
      "File 356 of 528\r"
     ]
    },
    {
     "name": "stderr",
     "output_type": "stream",
     "text": [
      "[2025-01-20 01:27:27,021][835302387.py][line:31][INFO] Transcription of file 357 has been formatted\n",
      "[2025-01-20 01:27:27,021][835302387.py][line:32][INFO] ORIGINAL:  Okay.\n",
      "[2025-01-20 01:27:27,021][835302387.py][line:33][INFO] FORMATTED:  OKAY\n"
     ]
    },
    {
     "name": "stdout",
     "output_type": "stream",
     "text": [
      "File 357 of 528\r"
     ]
    },
    {
     "name": "stderr",
     "output_type": "stream",
     "text": [
      "[2025-01-20 01:27:27,401][835302387.py][line:31][INFO] Transcription of file 358 has been formatted\n",
      "[2025-01-20 01:27:27,401][835302387.py][line:32][INFO] ORIGINAL:  Mm-hmm.\n",
      "[2025-01-20 01:27:27,401][835302387.py][line:33][INFO] FORMATTED:  MM HMM\n"
     ]
    },
    {
     "name": "stdout",
     "output_type": "stream",
     "text": [
      "File 358 of 528\r"
     ]
    },
    {
     "name": "stderr",
     "output_type": "stream",
     "text": [
      "[2025-01-20 01:27:27,978][835302387.py][line:31][INFO] Transcription of file 359 has been formatted\n",
      "[2025-01-20 01:27:27,978][835302387.py][line:32][INFO] ORIGINAL:  The clans you make out of it.\n",
      "[2025-01-20 01:27:27,978][835302387.py][line:33][INFO] FORMATTED:  THE CLANS YOU MAKE OUT OF IT\n"
     ]
    },
    {
     "name": "stdout",
     "output_type": "stream",
     "text": [
      "File 359 of 528\r"
     ]
    },
    {
     "name": "stderr",
     "output_type": "stream",
     "text": [
      "[2025-01-20 01:27:28,530][835302387.py][line:31][INFO] Transcription of file 360 has been formatted\n",
      "[2025-01-20 01:27:28,531][835302387.py][line:32][INFO] ORIGINAL:  It leaves a hole for you two.\n",
      "[2025-01-20 01:27:28,532][835302387.py][line:33][INFO] FORMATTED:  IT LEAVES A HOLE FOR YOU TWO\n"
     ]
    },
    {
     "name": "stdout",
     "output_type": "stream",
     "text": [
      "File 360 of 528\r"
     ]
    },
    {
     "name": "stderr",
     "output_type": "stream",
     "text": [
      "[2025-01-20 01:27:29,278][835302387.py][line:31][INFO] Transcription of file 361 has been formatted\n",
      "[2025-01-20 01:27:29,281][835302387.py][line:32][INFO] ORIGINAL:  It leaves a hole for you too, and your plans together.\n",
      "[2025-01-20 01:27:29,282][835302387.py][line:33][INFO] FORMATTED:  IT LEAVES A HOLE FOR YOU TOO  AND YOUR PLANS TOGETHER\n"
     ]
    },
    {
     "name": "stdout",
     "output_type": "stream",
     "text": [
      "File 361 of 528\r"
     ]
    },
    {
     "name": "stderr",
     "output_type": "stream",
     "text": [
      "[2025-01-20 01:27:29,653][835302387.py][line:31][INFO] Transcription of file 362 has been formatted\n",
      "[2025-01-20 01:27:29,653][835302387.py][line:32][INFO] ORIGINAL:  It gets better.\n",
      "[2025-01-20 01:27:29,658][835302387.py][line:33][INFO] FORMATTED:  IT GETS BETTER\n"
     ]
    },
    {
     "name": "stdout",
     "output_type": "stream",
     "text": [
      "File 362 of 528\r"
     ]
    },
    {
     "name": "stderr",
     "output_type": "stream",
     "text": [
      "[2025-01-20 01:27:29,969][835302387.py][line:31][INFO] Transcription of file 363 has been formatted\n",
      "[2025-01-20 01:27:29,969][835302387.py][line:32][INFO] ORIGINAL:  응.\n",
      "[2025-01-20 01:27:29,971][835302387.py][line:33][INFO] FORMATTED:  \n"
     ]
    },
    {
     "name": "stdout",
     "output_type": "stream",
     "text": [
      "File 363 of 528\r"
     ]
    },
    {
     "name": "stderr",
     "output_type": "stream",
     "text": [
      "[2025-01-20 01:27:30,288][835302387.py][line:31][INFO] Transcription of file 364 has been formatted\n",
      "[2025-01-20 01:27:30,289][835302387.py][line:32][INFO] ORIGINAL:  Hmm.\n",
      "[2025-01-20 01:27:30,290][835302387.py][line:33][INFO] FORMATTED:  HMM\n"
     ]
    },
    {
     "name": "stdout",
     "output_type": "stream",
     "text": [
      "File 364 of 528\r"
     ]
    },
    {
     "name": "stderr",
     "output_type": "stream",
     "text": [
      "[2025-01-20 01:27:30,636][835302387.py][line:31][INFO] Transcription of file 365 has been formatted\n",
      "[2025-01-20 01:27:30,638][835302387.py][line:32][INFO] ORIGINAL:  Mm-hmm\n",
      "[2025-01-20 01:27:30,638][835302387.py][line:33][INFO] FORMATTED:  MM HMM\n"
     ]
    },
    {
     "name": "stdout",
     "output_type": "stream",
     "text": [
      "File 365 of 528\r"
     ]
    },
    {
     "name": "stderr",
     "output_type": "stream",
     "text": [
      "[2025-01-20 01:27:31,188][835302387.py][line:31][INFO] Transcription of file 366 has been formatted\n",
      "[2025-01-20 01:27:31,188][835302387.py][line:32][INFO] ORIGINAL:  How long do you know each other?\n",
      "[2025-01-20 01:27:31,188][835302387.py][line:33][INFO] FORMATTED:  HOW LONG DO YOU KNOW EACH OTHER \n"
     ]
    },
    {
     "name": "stdout",
     "output_type": "stream",
     "text": [
      "File 366 of 528\r"
     ]
    },
    {
     "name": "stderr",
     "output_type": "stream",
     "text": [
      "[2025-01-20 01:27:31,498][835302387.py][line:31][INFO] Transcription of file 367 has been formatted\n",
      "[2025-01-20 01:27:31,498][835302387.py][line:32][INFO] ORIGINAL: 昨天\n",
      "[2025-01-20 01:27:31,498][835302387.py][line:33][INFO] FORMATTED: \n"
     ]
    },
    {
     "name": "stdout",
     "output_type": "stream",
     "text": [
      "File 367 of 528\r"
     ]
    },
    {
     "name": "stderr",
     "output_type": "stream",
     "text": [
      "[2025-01-20 01:27:32,051][835302387.py][line:31][INFO] Transcription of file 368 has been formatted\n",
      "[2025-01-20 01:27:32,052][835302387.py][line:32][INFO] ORIGINAL:  It's good that you were there.\n",
      "[2025-01-20 01:27:32,053][835302387.py][line:33][INFO] FORMATTED:  IT'S GOOD THAT YOU WERE THERE\n"
     ]
    },
    {
     "name": "stdout",
     "output_type": "stream",
     "text": [
      "File 368 of 528\r"
     ]
    },
    {
     "name": "stderr",
     "output_type": "stream",
     "text": [
      "[2025-01-20 01:27:32,443][835302387.py][line:31][INFO] Transcription of file 369 has been formatted\n",
      "[2025-01-20 01:27:32,444][835302387.py][line:32][INFO] ORIGINAL: 嗯,对啊\n",
      "[2025-01-20 01:27:32,445][835302387.py][line:33][INFO] FORMATTED:  \n"
     ]
    },
    {
     "name": "stdout",
     "output_type": "stream",
     "text": [
      "File 369 of 528\r"
     ]
    },
    {
     "name": "stderr",
     "output_type": "stream",
     "text": [
      "[2025-01-20 01:27:33,024][835302387.py][line:31][INFO] Transcription of file 370 has been formatted\n",
      "[2025-01-20 01:27:33,025][835302387.py][line:32][INFO] ORIGINAL:  Other things you wish you'd done differently?\n",
      "[2025-01-20 01:27:33,026][835302387.py][line:33][INFO] FORMATTED:  OTHER THINGS YOU WISH YOU'D DONE DIFFERENTLY \n"
     ]
    },
    {
     "name": "stdout",
     "output_type": "stream",
     "text": [
      "File 370 of 528\r"
     ]
    },
    {
     "name": "stderr",
     "output_type": "stream",
     "text": [
      "[2025-01-20 01:27:33,337][835302387.py][line:31][INFO] Transcription of file 371 has been formatted\n",
      "[2025-01-20 01:27:33,339][835302387.py][line:32][INFO] ORIGINAL:  Next.\n",
      "[2025-01-20 01:27:33,340][835302387.py][line:33][INFO] FORMATTED:  NEXT\n"
     ]
    },
    {
     "name": "stdout",
     "output_type": "stream",
     "text": [
      "File 371 of 528\r"
     ]
    },
    {
     "name": "stderr",
     "output_type": "stream",
     "text": [
      "[2025-01-20 01:27:33,830][835302387.py][line:31][INFO] Transcription of file 372 has been formatted\n",
      "[2025-01-20 01:27:33,830][835302387.py][line:32][INFO] ORIGINAL:  Yes. My window's open.\n",
      "[2025-01-20 01:27:33,830][835302387.py][line:33][INFO] FORMATTED:  YES MY WINDOW'S OPEN\n"
     ]
    },
    {
     "name": "stdout",
     "output_type": "stream",
     "text": [
      "File 372 of 528\r"
     ]
    },
    {
     "name": "stderr",
     "output_type": "stream",
     "text": [
      "[2025-01-20 01:27:34,573][835302387.py][line:31][INFO] Transcription of file 373 has been formatted\n",
      "[2025-01-20 01:27:34,578][835302387.py][line:32][INFO] ORIGINAL:  No, I need your ID to give you a second ID.\n",
      "[2025-01-20 01:27:34,580][835302387.py][line:33][INFO] FORMATTED:  NO  I NEED YOUR ID TO GIVE YOU A SECOND ID\n"
     ]
    },
    {
     "name": "stdout",
     "output_type": "stream",
     "text": [
      "File 373 of 528\r"
     ]
    },
    {
     "name": "stderr",
     "output_type": "stream",
     "text": [
      "[2025-01-20 01:27:35,453][835302387.py][line:31][INFO] Transcription of file 374 has been formatted\n",
      "[2025-01-20 01:27:35,454][835302387.py][line:32][INFO] ORIGINAL:  It's really simple. If you have a problem with it, maybe you should...\n",
      "[2025-01-20 01:27:35,455][835302387.py][line:33][INFO] FORMATTED:  IT'S REALLY SIMPLE IF YOU HAVE A PROBLEM WITH IT  MAYBE YOU SHOULD\n"
     ]
    },
    {
     "name": "stdout",
     "output_type": "stream",
     "text": [
      "File 374 of 528\r"
     ]
    },
    {
     "name": "stderr",
     "output_type": "stream",
     "text": [
      "[2025-01-20 01:27:35,978][835302387.py][line:31][INFO] Transcription of file 375 has been formatted\n",
      "[2025-01-20 01:27:35,978][835302387.py][line:32][INFO] ORIGINAL:  What do you expect me to do?\n",
      "[2025-01-20 01:27:35,978][835302387.py][line:33][INFO] FORMATTED:  WHAT DO YOU EXPECT ME TO DO \n"
     ]
    },
    {
     "name": "stdout",
     "output_type": "stream",
     "text": [
      "File 375 of 528\r"
     ]
    },
    {
     "name": "stderr",
     "output_type": "stream",
     "text": [
      "[2025-01-20 01:27:36,293][835302387.py][line:31][INFO] Transcription of file 376 has been formatted\n",
      "[2025-01-20 01:27:36,295][835302387.py][line:32][INFO] ORIGINAL:  Probably.\n",
      "[2025-01-20 01:27:36,295][835302387.py][line:33][INFO] FORMATTED:  PROBABLY\n"
     ]
    },
    {
     "name": "stdout",
     "output_type": "stream",
     "text": [
      "File 376 of 528\r"
     ]
    },
    {
     "name": "stderr",
     "output_type": "stream",
     "text": [
      "[2025-01-20 01:27:36,808][835302387.py][line:31][INFO] Transcription of file 377 has been formatted\n",
      "[2025-01-20 01:27:36,812][835302387.py][line:32][INFO] ORIGINAL:  Don't raise your voice at me.\n",
      "[2025-01-20 01:27:36,814][835302387.py][line:33][INFO] FORMATTED:  DON'T RAISE YOUR VOICE AT ME\n"
     ]
    },
    {
     "name": "stdout",
     "output_type": "stream",
     "text": [
      "File 377 of 528\r"
     ]
    },
    {
     "name": "stderr",
     "output_type": "stream",
     "text": [
      "[2025-01-20 01:27:37,450][835302387.py][line:31][INFO] Transcription of file 378 has been formatted\n",
      "[2025-01-20 01:27:37,451][835302387.py][line:32][INFO] ORIGINAL:  Don't talk to me like I'm a child.\n",
      "[2025-01-20 01:27:37,452][835302387.py][line:33][INFO] FORMATTED:  DON'T TALK TO ME LIKE I'M A CHILD\n"
     ]
    },
    {
     "name": "stdout",
     "output_type": "stream",
     "text": [
      "File 378 of 528\r"
     ]
    },
    {
     "name": "stderr",
     "output_type": "stream",
     "text": [
      "[2025-01-20 01:27:38,403][835302387.py][line:31][INFO] Transcription of file 379 has been formatted\n",
      "[2025-01-20 01:27:38,404][835302387.py][line:32][INFO] ORIGINAL:  Do you know how long I've been working here? How long have you lived in California?\n",
      "[2025-01-20 01:27:38,404][835302387.py][line:33][INFO] FORMATTED:  DO YOU KNOW HOW LONG I'VE BEEN WORKING HERE  HOW LONG HAVE YOU LIVED IN CALIFORNIA \n"
     ]
    },
    {
     "name": "stdout",
     "output_type": "stream",
     "text": [
      "File 379 of 528\r"
     ]
    },
    {
     "name": "stderr",
     "output_type": "stream",
     "text": [
      "[2025-01-20 01:27:40,173][835302387.py][line:31][INFO] Transcription of file 380 has been formatted\n",
      "[2025-01-20 01:27:40,173][835302387.py][line:32][INFO] ORIGINAL:  Maybe you've never been to the DMV before. Maybe you should get back in line. You know what? Sit in line again, and if you get my number, ask for a different one.\n",
      "[2025-01-20 01:27:40,173][835302387.py][line:33][INFO] FORMATTED:  MAYBE YOU'VE NEVER BEEN TO THE DMV BEFORE MAYBE YOU SHOULD GET BACK IN LINE YOU KNOW WHAT  SIT IN LINE AGAIN  AND IF YOU GET MY NUMBER  ASK FOR A DIFFERENT ONE\n"
     ]
    },
    {
     "name": "stdout",
     "output_type": "stream",
     "text": [
      "File 380 of 528\r"
     ]
    },
    {
     "name": "stderr",
     "output_type": "stream",
     "text": [
      "[2025-01-20 01:27:41,054][835302387.py][line:31][INFO] Transcription of file 381 has been formatted\n",
      "[2025-01-20 01:27:41,055][835302387.py][line:32][INFO] ORIGINAL:  Uh-huh. I didn't come here to get in a yelling match either.\n",
      "[2025-01-20 01:27:41,055][835302387.py][line:33][INFO] FORMATTED:  UH HUH I DIDN'T COME HERE TO GET IN A YELLING MATCH EITHER\n"
     ]
    },
    {
     "name": "stdout",
     "output_type": "stream",
     "text": [
      "File 381 of 528\r"
     ]
    },
    {
     "name": "stderr",
     "output_type": "stream",
     "text": [
      "[2025-01-20 01:27:41,782][835302387.py][line:31][INFO] Transcription of file 382 has been formatted\n",
      "[2025-01-20 01:27:41,784][835302387.py][line:32][INFO] ORIGINAL:  They don't pay me enough to deal with people like you.\n",
      "[2025-01-20 01:27:41,785][835302387.py][line:33][INFO] FORMATTED:  THEY DON'T PAY ME ENOUGH TO DEAL WITH PEOPLE LIKE YOU\n"
     ]
    },
    {
     "name": "stdout",
     "output_type": "stream",
     "text": [
      "File 382 of 528\r"
     ]
    },
    {
     "name": "stderr",
     "output_type": "stream",
     "text": [
      "[2025-01-20 01:27:42,238][835302387.py][line:31][INFO] Transcription of file 383 has been formatted\n",
      "[2025-01-20 01:27:42,238][835302387.py][line:32][INFO] ORIGINAL:  No one always sweeps.\n",
      "[2025-01-20 01:27:42,238][835302387.py][line:33][INFO] FORMATTED:  NO ONE ALWAYS SWEEPS\n"
     ]
    },
    {
     "name": "stdout",
     "output_type": "stream",
     "text": [
      "File 383 of 528\r"
     ]
    },
    {
     "name": "stderr",
     "output_type": "stream",
     "text": [
      "[2025-01-20 01:27:42,848][835302387.py][line:31][INFO] Transcription of file 384 has been formatted\n",
      "[2025-01-20 01:27:42,853][835302387.py][line:32][INFO] ORIGINAL:  It had to happen sooner or later. Yes.\n",
      "[2025-01-20 01:27:42,853][835302387.py][line:33][INFO] FORMATTED:  IT HAD TO HAPPEN SOONER OR LATER YES\n"
     ]
    },
    {
     "name": "stdout",
     "output_type": "stream",
     "text": [
      "File 384 of 528\r"
     ]
    },
    {
     "name": "stderr",
     "output_type": "stream",
     "text": [
      "[2025-01-20 01:27:43,204][835302387.py][line:31][INFO] Transcription of file 385 has been formatted\n",
      "[2025-01-20 01:27:43,205][835302387.py][line:32][INFO] ORIGINAL:  Once you have\n",
      "[2025-01-20 01:27:43,206][835302387.py][line:33][INFO] FORMATTED:  ONCE YOU HAVE\n"
     ]
    },
    {
     "name": "stdout",
     "output_type": "stream",
     "text": [
      "File 385 of 528\r"
     ]
    },
    {
     "name": "stderr",
     "output_type": "stream",
     "text": [
      "[2025-01-20 01:27:43,655][835302387.py][line:31][INFO] Transcription of file 386 has been formatted\n",
      "[2025-01-20 01:27:43,656][835302387.py][line:32][INFO] ORIGINAL:  We behave exquisitely.\n",
      "[2025-01-20 01:27:43,658][835302387.py][line:33][INFO] FORMATTED:  WE BEHAVE EXQUISITELY\n"
     ]
    },
    {
     "name": "stdout",
     "output_type": "stream",
     "text": [
      "File 386 of 528\r"
     ]
    },
    {
     "name": "stderr",
     "output_type": "stream",
     "text": [
      "[2025-01-20 01:27:44,263][835302387.py][line:31][INFO] Transcription of file 387 has been formatted\n",
      "[2025-01-20 01:27:44,264][835302387.py][line:32][INFO] ORIGINAL:  I think I shall do a court curtsy.\n",
      "[2025-01-20 01:27:44,265][835302387.py][line:33][INFO] FORMATTED:  I THINK I SHALL DO A COURT CURTSY\n"
     ]
    },
    {
     "name": "stdout",
     "output_type": "stream",
     "text": [
      "File 387 of 528\r"
     ]
    },
    {
     "name": "stderr",
     "output_type": "stream",
     "text": [
      "[2025-01-20 01:27:44,566][835302387.py][line:31][INFO] Transcription of file 388 has been formatted\n",
      "[2025-01-20 01:27:44,567][835302387.py][line:32][INFO] ORIGINAL:  Yeah.\n",
      "[2025-01-20 01:27:44,568][835302387.py][line:33][INFO] FORMATTED:  YEAH\n"
     ]
    },
    {
     "name": "stdout",
     "output_type": "stream",
     "text": [
      "File 388 of 528\r"
     ]
    },
    {
     "name": "stderr",
     "output_type": "stream",
     "text": [
      "[2025-01-20 01:27:44,836][835302387.py][line:31][INFO] Transcription of file 389 has been formatted\n",
      "[2025-01-20 01:27:44,839][835302387.py][line:32][INFO] ORIGINAL:  Mmm.\n",
      "[2025-01-20 01:27:44,839][835302387.py][line:33][INFO] FORMATTED:  MMM\n"
     ]
    },
    {
     "name": "stdout",
     "output_type": "stream",
     "text": [
      "File 389 of 528\r"
     ]
    },
    {
     "name": "stderr",
     "output_type": "stream",
     "text": [
      "[2025-01-20 01:27:45,290][835302387.py][line:31][INFO] Transcription of file 390 has been formatted\n",
      "[2025-01-20 01:27:45,291][835302387.py][line:32][INFO] ORIGINAL:  Yes, meaning just that.\n",
      "[2025-01-20 01:27:45,292][835302387.py][line:33][INFO] FORMATTED:  YES  MEANING JUST THAT\n"
     ]
    },
    {
     "name": "stdout",
     "output_type": "stream",
     "text": [
      "File 390 of 528\r"
     ]
    },
    {
     "name": "stderr",
     "output_type": "stream",
     "text": [
      "[2025-01-20 01:27:45,924][835302387.py][line:31][INFO] Transcription of file 391 has been formatted\n",
      "[2025-01-20 01:27:45,925][835302387.py][line:32][INFO] ORIGINAL:  Don't laugh at me, I'm being serious.\n",
      "[2025-01-20 01:27:45,926][835302387.py][line:33][INFO] FORMATTED:  DON'T LAUGH AT ME  I'M BEING SERIOUS\n"
     ]
    },
    {
     "name": "stdout",
     "output_type": "stream",
     "text": [
      "File 391 of 528\r"
     ]
    },
    {
     "name": "stderr",
     "output_type": "stream",
     "text": [
      "[2025-01-20 01:27:46,664][835302387.py][line:31][INFO] Transcription of file 392 has been formatted\n",
      "[2025-01-20 01:27:46,664][835302387.py][line:32][INFO] ORIGINAL:  If I mislaugh at everything, I mislaugh at us too.\n",
      "[2025-01-20 01:27:46,665][835302387.py][line:33][INFO] FORMATTED:  IF I MISLAUGH AT EVERYTHING  I MISLAUGH AT US TOO\n"
     ]
    },
    {
     "name": "stdout",
     "output_type": "stream",
     "text": [
      "File 392 of 528\r"
     ]
    },
    {
     "name": "stderr",
     "output_type": "stream",
     "text": [
      "[2025-01-20 01:27:47,547][835302387.py][line:31][INFO] Transcription of file 393 has been formatted\n",
      "[2025-01-20 01:27:47,547][835302387.py][line:32][INFO] ORIGINAL:  How long will it last, this ludicrous, overbearing love of ours?\n",
      "[2025-01-20 01:27:47,548][835302387.py][line:33][INFO] FORMATTED:  HOW LONG WILL IT LAST  THIS LUDICROUS  OVERBEARING LOVE OF OURS \n"
     ]
    },
    {
     "name": "stdout",
     "output_type": "stream",
     "text": [
      "File 393 of 528\r"
     ]
    },
    {
     "name": "stderr",
     "output_type": "stream",
     "text": [
      "[2025-01-20 01:27:48,142][835302387.py][line:31][INFO] Transcription of file 394 has been formatted\n",
      "[2025-01-20 01:27:48,143][835302387.py][line:32][INFO] ORIGINAL:  Shall we always want to bicker and fight?\n",
      "[2025-01-20 01:27:48,144][835302387.py][line:33][INFO] FORMATTED:  SHALL WE ALWAYS WANT TO BICKER AND FIGHT \n"
     ]
    },
    {
     "name": "stdout",
     "output_type": "stream",
     "text": [
      "File 394 of 528\r"
     ]
    },
    {
     "name": "stderr",
     "output_type": "stream",
     "text": [
      "[2025-01-20 01:27:48,554][835302387.py][line:31][INFO] Transcription of file 395 has been formatted\n",
      "[2025-01-20 01:27:48,555][835302387.py][line:32][INFO] ORIGINAL:  If one of us dies\n",
      "[2025-01-20 01:27:48,556][835302387.py][line:33][INFO] FORMATTED:  IF ONE OF US DIES\n"
     ]
    },
    {
     "name": "stdout",
     "output_type": "stream",
     "text": [
      "File 395 of 528\r"
     ]
    },
    {
     "name": "stderr",
     "output_type": "stream",
     "text": [
      "[2025-01-20 01:27:49,042][835302387.py][line:31][INFO] Transcription of file 396 has been formatted\n",
      "[2025-01-20 01:27:49,043][835302387.py][line:32][INFO] ORIGINAL:  I think you're talking nonsense.\n",
      "[2025-01-20 01:27:49,044][835302387.py][line:33][INFO] FORMATTED:  I THINK YOU'RE TALKING NONSENSE\n"
     ]
    },
    {
     "name": "stdout",
     "output_type": "stream",
     "text": [
      "File 396 of 528\r"
     ]
    },
    {
     "name": "stderr",
     "output_type": "stream",
     "text": [
      "[2025-01-20 01:27:49,418][835302387.py][line:31][INFO] Transcription of file 397 has been formatted\n",
      "[2025-01-20 01:27:49,420][835302387.py][line:32][INFO] ORIGINAL:  Which particular one?\n",
      "[2025-01-20 01:27:49,421][835302387.py][line:33][INFO] FORMATTED:  WHICH PARTICULAR ONE \n"
     ]
    },
    {
     "name": "stdout",
     "output_type": "stream",
     "text": [
      "File 397 of 528\r"
     ]
    },
    {
     "name": "stderr",
     "output_type": "stream",
     "text": [
      "[2025-01-20 01:27:50,377][835302387.py][line:31][INFO] Transcription of file 398 has been formatted\n",
      "[2025-01-20 01:27:50,378][835302387.py][line:32][INFO] ORIGINAL:  Oh, Charles! Oh, that was his name, Charles. He just wriggles so beautifully.\n",
      "[2025-01-20 01:27:50,379][835302387.py][line:33][INFO] FORMATTED:  OH  CHARLES  OH  THAT WAS HIS NAME  CHARLES HE JUST WRIGGLES SO BEAUTIFULLY\n"
     ]
    },
    {
     "name": "stdout",
     "output_type": "stream",
     "text": [
      "File 398 of 528\r"
     ]
    },
    {
     "name": "stderr",
     "output_type": "stream",
     "text": [
      "[2025-01-20 01:27:50,826][835302387.py][line:31][INFO] Transcription of file 399 has been formatted\n",
      "[2025-01-20 01:27:50,827][835302387.py][line:32][INFO] ORIGINAL:  Pants. Pants.\n",
      "[2025-01-20 01:27:50,828][835302387.py][line:33][INFO] FORMATTED:  PANTS PANTS\n"
     ]
    },
    {
     "name": "stdout",
     "output_type": "stream",
     "text": [
      "File 399 of 528\r"
     ]
    },
    {
     "name": "stderr",
     "output_type": "stream",
     "text": [
      "[2025-01-20 01:27:51,533][835302387.py][line:31][INFO] Transcription of file 400 has been formatted\n",
      "[2025-01-20 01:27:51,535][835302387.py][line:32][INFO] ORIGINAL:  The manager came in. He found us rolling about the floor.\n",
      "[2025-01-20 01:27:51,536][835302387.py][line:33][INFO] FORMATTED:  THE MANAGER CAME IN HE FOUND US ROLLING ABOUT THE FLOOR\n"
     ]
    },
    {
     "name": "stdout",
     "output_type": "stream",
     "text": [
      "File 400 of 528\r"
     ]
    },
    {
     "name": "stderr",
     "output_type": "stream",
     "text": [
      "[2025-01-20 01:27:51,983][835302387.py][line:31][INFO] Transcription of file 401 has been formatted\n",
      "[2025-01-20 01:27:51,984][835302387.py][line:32][INFO] ORIGINAL:  scratching and biting like panthers\n",
      "[2025-01-20 01:27:51,985][835302387.py][line:33][INFO] FORMATTED:  SCRATCHING AND BITING LIKE PANTHERS\n"
     ]
    },
    {
     "name": "stdout",
     "output_type": "stream",
     "text": [
      "File 401 of 528\r"
     ]
    },
    {
     "name": "stderr",
     "output_type": "stream",
     "text": [
      "[2025-01-20 01:27:52,473][835302387.py][line:31][INFO] Transcription of file 402 has been formatted\n",
      "[2025-01-20 01:27:52,474][835302387.py][line:32][INFO] ORIGINAL:  Utterly, utterly ridiculous.\n",
      "[2025-01-20 01:27:52,475][835302387.py][line:33][INFO] FORMATTED:  UTTERLY  UTTERLY RIDICULOUS\n"
     ]
    },
    {
     "name": "stdout",
     "output_type": "stream",
     "text": [
      "File 402 of 528\r"
     ]
    },
    {
     "name": "stderr",
     "output_type": "stream",
     "text": [
      "[2025-01-20 01:27:52,779][835302387.py][line:31][INFO] Transcription of file 403 has been formatted\n",
      "[2025-01-20 01:27:52,780][835302387.py][line:32][INFO] ORIGINAL:  Uh...\n",
      "[2025-01-20 01:27:52,781][835302387.py][line:33][INFO] FORMATTED:  UH\n"
     ]
    },
    {
     "name": "stdout",
     "output_type": "stream",
     "text": [
      "File 403 of 528\r"
     ]
    },
    {
     "name": "stderr",
     "output_type": "stream",
     "text": [
      "[2025-01-20 01:27:53,198][835302387.py][line:31][INFO] Transcription of file 404 has been formatted\n",
      "[2025-01-20 01:27:53,198][835302387.py][line:32][INFO] ORIGINAL:  Very much sillier.\n",
      "[2025-01-20 01:27:53,200][835302387.py][line:33][INFO] FORMATTED:  VERY MUCH SILLIER\n"
     ]
    },
    {
     "name": "stdout",
     "output_type": "stream",
     "text": [
      "File 404 of 528\r"
     ]
    },
    {
     "name": "stderr",
     "output_type": "stream",
     "text": [
      "[2025-01-20 01:27:53,793][835302387.py][line:31][INFO] Transcription of file 405 has been formatted\n",
      "[2025-01-20 01:27:53,794][835302387.py][line:32][INFO] ORIGINAL:  Oh, you knew there was nothing in that.\n",
      "[2025-01-20 01:27:53,796][835302387.py][line:33][INFO] FORMATTED:  OH  YOU KNEW THERE WAS NOTHING IN THAT\n"
     ]
    },
    {
     "name": "stdout",
     "output_type": "stream",
     "text": [
      "File 405 of 528\r"
     ]
    },
    {
     "name": "stderr",
     "output_type": "stream",
     "text": [
      "[2025-01-20 01:27:54,379][835302387.py][line:31][INFO] Transcription of file 406 has been formatted\n",
      "[2025-01-20 01:27:54,380][835302387.py][line:32][INFO] ORIGINAL:  Just dreaming of him again. Walking around.\n",
      "[2025-01-20 01:27:54,381][835302387.py][line:33][INFO] FORMATTED:  JUST DREAMING OF HIM AGAIN WALKING AROUND\n"
     ]
    },
    {
     "name": "stdout",
     "output_type": "stream",
     "text": [
      "File 406 of 528\r"
     ]
    },
    {
     "name": "stderr",
     "output_type": "stream",
     "text": [
      "[2025-01-20 01:27:55,122][835302387.py][line:31][INFO] Transcription of file 407 has been formatted\n",
      "[2025-01-20 01:27:55,123][835302387.py][line:32][INFO] ORIGINAL:  Well, I've got an idea, but what's your story?\n",
      "[2025-01-20 01:27:55,124][835302387.py][line:33][INFO] FORMATTED:  WELL  I'VE GOT AN IDEA  BUT WHAT'S YOUR STORY \n"
     ]
    },
    {
     "name": "stdout",
     "output_type": "stream",
     "text": [
      "File 407 of 528\r"
     ]
    },
    {
     "name": "stderr",
     "output_type": "stream",
     "text": [
      "[2025-01-20 01:27:55,612][835302387.py][line:31][INFO] Transcription of file 408 has been formatted\n",
      "[2025-01-20 01:27:55,613][835302387.py][line:32][INFO] ORIGINAL:  Just give it some more thought.\n",
      "[2025-01-20 01:27:55,615][835302387.py][line:33][INFO] FORMATTED:  JUST GIVE IT SOME MORE THOUGHT\n"
     ]
    },
    {
     "name": "stdout",
     "output_type": "stream",
     "text": [
      "File 408 of 528\r"
     ]
    },
    {
     "name": "stderr",
     "output_type": "stream",
     "text": [
      "[2025-01-20 01:27:56,070][835302387.py][line:31][INFO] Transcription of file 409 has been formatted\n",
      "[2025-01-20 01:27:56,071][835302387.py][line:32][INFO] ORIGINAL:  What the hell is this?\n",
      "[2025-01-20 01:27:56,071][835302387.py][line:33][INFO] FORMATTED:  WHAT THE HELL IS THIS \n"
     ]
    },
    {
     "name": "stdout",
     "output_type": "stream",
     "text": [
      "File 409 of 528\r"
     ]
    },
    {
     "name": "stderr",
     "output_type": "stream",
     "text": [
      "[2025-01-20 01:27:56,745][835302387.py][line:31][INFO] Transcription of file 410 has been formatted\n",
      "[2025-01-20 01:27:56,746][835302387.py][line:32][INFO] ORIGINAL:  You have a business here. What the hell is this?\n",
      "[2025-01-20 01:27:56,747][835302387.py][line:33][INFO] FORMATTED:  YOU HAVE A BUSINESS HERE WHAT THE HELL IS THIS \n"
     ]
    },
    {
     "name": "stdout",
     "output_type": "stream",
     "text": [
      "File 410 of 528\r"
     ]
    },
    {
     "name": "stderr",
     "output_type": "stream",
     "text": [
      "[2025-01-20 01:27:57,456][835302387.py][line:31][INFO] Transcription of file 411 has been formatted\n",
      "[2025-01-20 01:27:57,458][835302387.py][line:32][INFO] ORIGINAL:  Inspire me. Oh, must you be inspired. Yes.\n",
      "[2025-01-20 01:27:57,459][835302387.py][line:33][INFO] FORMATTED:  INSPIRE ME OH  MUST YOU BE INSPIRED YES\n"
     ]
    },
    {
     "name": "stdout",
     "output_type": "stream",
     "text": [
      "File 411 of 528\r"
     ]
    },
    {
     "name": "stderr",
     "output_type": "stream",
     "text": [
      "[2025-01-20 01:27:59,237][835302387.py][line:31][INFO] Transcription of file 412 has been formatted\n",
      "[2025-01-20 01:27:59,238][835302387.py][line:32][INFO] ORIGINAL:  All right, but you don't want to think like that. Because what the hell are we working for, Chris? It's all for you. This whole shooting match is for you. I know that.\n",
      "[2025-01-20 01:27:59,239][835302387.py][line:33][INFO] FORMATTED:  ALL RIGHT  BUT YOU DON'T WANT TO THINK LIKE THAT BECAUSE WHAT THE HELL ARE WE WORKING FOR  CHRIS  IT'S ALL FOR YOU THIS WHOLE SHOOTING MATCH IS FOR YOU I KNOW THAT\n"
     ]
    },
    {
     "name": "stdout",
     "output_type": "stream",
     "text": [
      "File 412 of 528\r"
     ]
    },
    {
     "name": "stderr",
     "output_type": "stream",
     "text": [
      "[2025-01-20 01:27:59,690][835302387.py][line:31][INFO] Transcription of file 413 has been formatted\n",
      "[2025-01-20 01:27:59,690][835302387.py][line:32][INFO] ORIGINAL:  Just don't think like that.\n",
      "[2025-01-20 01:27:59,691][835302387.py][line:33][INFO] FORMATTED:  JUST DON'T THINK LIKE THAT\n"
     ]
    },
    {
     "name": "stdout",
     "output_type": "stream",
     "text": [
      "File 413 of 528\r"
     ]
    },
    {
     "name": "stderr",
     "output_type": "stream",
     "text": [
      "[2025-01-20 01:28:00,702][835302387.py][line:31][INFO] Transcription of file 414 has been formatted\n",
      "[2025-01-20 01:28:00,703][835302387.py][line:32][INFO] ORIGINAL:  You keep saying my flashlight like somehow it's just yours. How's that supposed to make me feel?\n",
      "[2025-01-20 01:28:00,704][835302387.py][line:33][INFO] FORMATTED:  YOU KEEP SAYING MY FLASHLIGHT LIKE SOMEHOW IT'S JUST YOURS HOW'S THAT SUPPOSED TO MAKE ME FEEL \n"
     ]
    },
    {
     "name": "stdout",
     "output_type": "stream",
     "text": [
      "File 414 of 528\r"
     ]
    },
    {
     "name": "stderr",
     "output_type": "stream",
     "text": [
      "[2025-01-20 01:28:01,011][835302387.py][line:31][INFO] Transcription of file 415 has been formatted\n",
      "[2025-01-20 01:28:01,012][835302387.py][line:32][INFO] ORIGINAL:  No.\n",
      "[2025-01-20 01:28:01,013][835302387.py][line:33][INFO] FORMATTED:  NO\n"
     ]
    },
    {
     "name": "stdout",
     "output_type": "stream",
     "text": [
      "File 415 of 528\r"
     ]
    },
    {
     "name": "stderr",
     "output_type": "stream",
     "text": [
      "[2025-01-20 01:28:01,399][835302387.py][line:31][INFO] Transcription of file 416 has been formatted\n",
      "[2025-01-20 01:28:01,400][835302387.py][line:32][INFO] ORIGINAL:  I'm fine.\n",
      "[2025-01-20 01:28:01,401][835302387.py][line:33][INFO] FORMATTED:  I'M FINE\n"
     ]
    },
    {
     "name": "stdout",
     "output_type": "stream",
     "text": [
      "File 416 of 528\r"
     ]
    },
    {
     "name": "stderr",
     "output_type": "stream",
     "text": [
      "[2025-01-20 01:28:01,962][835302387.py][line:31][INFO] Transcription of file 417 has been formatted\n",
      "[2025-01-20 01:28:01,962][835302387.py][line:32][INFO] ORIGINAL:  I wonder if they can hear me talk.\n",
      "[2025-01-20 01:28:01,964][835302387.py][line:33][INFO] FORMATTED:  I WONDER IF THEY CAN HEAR ME TALK\n"
     ]
    },
    {
     "name": "stdout",
     "output_type": "stream",
     "text": [
      "File 417 of 528\r"
     ]
    },
    {
     "name": "stderr",
     "output_type": "stream",
     "text": [
      "[2025-01-20 01:28:02,382][835302387.py][line:31][INFO] Transcription of file 418 has been formatted\n",
      "[2025-01-20 01:28:02,383][835302387.py][line:32][INFO] ORIGINAL:  The not-go!\n",
      "[2025-01-20 01:28:02,384][835302387.py][line:33][INFO] FORMATTED:  THE NOT GO \n"
     ]
    },
    {
     "name": "stdout",
     "output_type": "stream",
     "text": [
      "File 418 of 528\r"
     ]
    },
    {
     "name": "stderr",
     "output_type": "stream",
     "text": [
      "[2025-01-20 01:28:03,667][835302387.py][line:31][INFO] Transcription of file 419 has been formatted\n",
      "[2025-01-20 01:28:03,668][835302387.py][line:32][INFO] ORIGINAL:  Pass what up? These little fish swim out of the ocean, they flop around on the sand, then they swim back and then they die.\n",
      "[2025-01-20 01:28:03,669][835302387.py][line:33][INFO] FORMATTED:  PASS WHAT UP  THESE LITTLE FISH SWIM OUT OF THE OCEAN  THEY FLOP AROUND ON THE SAND  THEN THEY SWIM BACK AND THEN THEY DIE\n"
     ]
    },
    {
     "name": "stdout",
     "output_type": "stream",
     "text": [
      "File 419 of 528\r"
     ]
    },
    {
     "name": "stderr",
     "output_type": "stream",
     "text": [
      "[2025-01-20 01:28:03,970][835302387.py][line:31][INFO] Transcription of file 420 has been formatted\n",
      "[2025-01-20 01:28:03,971][835302387.py][line:32][INFO] ORIGINAL:  Yes.\n",
      "[2025-01-20 01:28:03,972][835302387.py][line:33][INFO] FORMATTED:  YES\n"
     ]
    },
    {
     "name": "stdout",
     "output_type": "stream",
     "text": [
      "File 420 of 528\r"
     ]
    },
    {
     "name": "stderr",
     "output_type": "stream",
     "text": [
      "[2025-01-20 01:28:05,808][835302387.py][line:31][INFO] Transcription of file 421 has been formatted\n",
      "[2025-01-20 01:28:05,810][835302387.py][line:32][INFO] ORIGINAL:  Last year, you'll also remember, our shoes got wet, I got sand in my panties, you got a sore throat, we got into a big fight, and we did not see the grunions.\n",
      "[2025-01-20 01:28:05,810][835302387.py][line:33][INFO] FORMATTED:  LAST YEAR  YOU'LL ALSO REMEMBER  OUR SHOES GOT WET  I GOT SAND IN MY PANTIES  YOU GOT A SORE THROAT  WE GOT INTO A BIG FIGHT  AND WE DID NOT SEE THE GRUNIONS\n"
     ]
    },
    {
     "name": "stdout",
     "output_type": "stream",
     "text": [
      "File 421 of 528\r"
     ]
    },
    {
     "name": "stderr",
     "output_type": "stream",
     "text": [
      "[2025-01-20 01:28:06,405][835302387.py][line:31][INFO] Transcription of file 422 has been formatted\n",
      "[2025-01-20 01:28:06,407][835302387.py][line:32][INFO] ORIGINAL:  We didn't see him the year before either.\n",
      "[2025-01-20 01:28:06,407][835302387.py][line:33][INFO] FORMATTED:  WE DIDN'T SEE HIM THE YEAR BEFORE EITHER\n"
     ]
    },
    {
     "name": "stdout",
     "output_type": "stream",
     "text": [
      "File 422 of 528\r"
     ]
    },
    {
     "name": "stderr",
     "output_type": "stream",
     "text": [
      "[2025-01-20 01:28:06,748][835302387.py][line:31][INFO] Transcription of file 423 has been formatted\n",
      "[2025-01-20 01:28:06,749][835302387.py][line:32][INFO] ORIGINAL:  Crying.\n",
      "[2025-01-20 01:28:06,750][835302387.py][line:33][INFO] FORMATTED:  CRYING\n"
     ]
    },
    {
     "name": "stdout",
     "output_type": "stream",
     "text": [
      "File 423 of 528\r"
     ]
    },
    {
     "name": "stderr",
     "output_type": "stream",
     "text": [
      "[2025-01-20 01:28:07,199][835302387.py][line:31][INFO] Transcription of file 424 has been formatted\n",
      "[2025-01-20 01:28:07,201][835302387.py][line:32][INFO] ORIGINAL:  That's not your flashlight.\n",
      "[2025-01-20 01:28:07,202][835302387.py][line:33][INFO] FORMATTED:  THAT'S NOT YOUR FLASHLIGHT\n"
     ]
    },
    {
     "name": "stdout",
     "output_type": "stream",
     "text": [
      "File 424 of 528\r"
     ]
    },
    {
     "name": "stderr",
     "output_type": "stream",
     "text": [
      "[2025-01-20 01:28:07,842][835302387.py][line:31][INFO] Transcription of file 425 has been formatted\n",
      "[2025-01-20 01:28:07,843][835302387.py][line:32][INFO] ORIGINAL:  You keep saying my flashlight like it's just yours.\n",
      "[2025-01-20 01:28:07,843][835302387.py][line:33][INFO] FORMATTED:  YOU KEEP SAYING MY FLASHLIGHT LIKE IT'S JUST YOURS\n"
     ]
    },
    {
     "name": "stdout",
     "output_type": "stream",
     "text": [
      "File 425 of 528\r"
     ]
    },
    {
     "name": "stderr",
     "output_type": "stream",
     "text": [
      "[2025-01-20 01:28:08,524][835302387.py][line:31][INFO] Transcription of file 426 has been formatted\n",
      "[2025-01-20 01:28:08,525][835302387.py][line:32][INFO] ORIGINAL:  How's that supposed to make me feel? Of course.\n",
      "[2025-01-20 01:28:08,526][835302387.py][line:33][INFO] FORMATTED:  HOW'S THAT SUPPOSED TO MAKE ME FEEL  OF COURSE\n"
     ]
    },
    {
     "name": "stdout",
     "output_type": "stream",
     "text": [
      "File 426 of 528\r"
     ]
    },
    {
     "name": "stderr",
     "output_type": "stream",
     "text": [
      "[2025-01-20 01:28:08,826][835302387.py][line:31][INFO] Transcription of file 427 has been formatted\n",
      "[2025-01-20 01:28:08,827][835302387.py][line:32][INFO] ORIGINAL:  Yeah.\n",
      "[2025-01-20 01:28:08,828][835302387.py][line:33][INFO] FORMATTED:  YEAH\n"
     ]
    },
    {
     "name": "stdout",
     "output_type": "stream",
     "text": [
      "File 427 of 528\r"
     ]
    },
    {
     "name": "stderr",
     "output_type": "stream",
     "text": [
      "[2025-01-20 01:28:09,237][835302387.py][line:31][INFO] Transcription of file 428 has been formatted\n",
      "[2025-01-20 01:28:09,238][835302387.py][line:32][INFO] ORIGINAL:  I'm not sure.\n",
      "[2025-01-20 01:28:09,239][835302387.py][line:33][INFO] FORMATTED:  I'M NOT SURE\n"
     ]
    },
    {
     "name": "stdout",
     "output_type": "stream",
     "text": [
      "File 428 of 528\r"
     ]
    },
    {
     "name": "stderr",
     "output_type": "stream",
     "text": [
      "[2025-01-20 01:28:09,611][835302387.py][line:31][INFO] Transcription of file 429 has been formatted\n",
      "[2025-01-20 01:28:09,612][835302387.py][line:32][INFO] ORIGINAL:  I'm cold.\n",
      "[2025-01-20 01:28:09,613][835302387.py][line:33][INFO] FORMATTED:  I'M COLD\n"
     ]
    },
    {
     "name": "stdout",
     "output_type": "stream",
     "text": [
      "File 429 of 528\r"
     ]
    },
    {
     "name": "stderr",
     "output_type": "stream",
     "text": [
      "[2025-01-20 01:28:09,945][835302387.py][line:31][INFO] Transcription of file 430 has been formatted\n",
      "[2025-01-20 01:28:09,947][835302387.py][line:32][INFO] ORIGINAL:  Not particularly.\n",
      "[2025-01-20 01:28:09,948][835302387.py][line:33][INFO] FORMATTED:  NOT PARTICULARLY\n"
     ]
    },
    {
     "name": "stdout",
     "output_type": "stream",
     "text": [
      "File 430 of 528\r"
     ]
    },
    {
     "name": "stderr",
     "output_type": "stream",
     "text": [
      "[2025-01-20 01:28:10,361][835302387.py][line:31][INFO] Transcription of file 431 has been formatted\n",
      "[2025-01-20 01:28:10,362][835302387.py][line:32][INFO] ORIGINAL:  It's the wind.\n",
      "[2025-01-20 01:28:10,363][835302387.py][line:33][INFO] FORMATTED:  IT'S THE WIND\n"
     ]
    },
    {
     "name": "stdout",
     "output_type": "stream",
     "text": [
      "File 431 of 528\r"
     ]
    },
    {
     "name": "stderr",
     "output_type": "stream",
     "text": [
      "[2025-01-20 01:28:10,704][835302387.py][line:31][INFO] Transcription of file 432 has been formatted\n",
      "[2025-01-20 01:28:10,705][835302387.py][line:32][INFO] ORIGINAL:  About what?\n",
      "[2025-01-20 01:28:10,706][835302387.py][line:33][INFO] FORMATTED:  ABOUT WHAT \n"
     ]
    },
    {
     "name": "stdout",
     "output_type": "stream",
     "text": [
      "File 432 of 528\r"
     ]
    },
    {
     "name": "stderr",
     "output_type": "stream",
     "text": [
      "[2025-01-20 01:28:11,009][835302387.py][line:31][INFO] Transcription of file 433 has been formatted\n",
      "[2025-01-20 01:28:11,011][835302387.py][line:32][INFO] ORIGINAL:  Yeah.\n",
      "[2025-01-20 01:28:11,012][835302387.py][line:33][INFO] FORMATTED:  YEAH\n"
     ]
    },
    {
     "name": "stdout",
     "output_type": "stream",
     "text": [
      "File 433 of 528\r"
     ]
    },
    {
     "name": "stderr",
     "output_type": "stream",
     "text": [
      "[2025-01-20 01:28:11,865][835302387.py][line:31][INFO] Transcription of file 434 has been formatted\n",
      "[2025-01-20 01:28:11,866][835302387.py][line:32][INFO] ORIGINAL:  For softball? For softball? That's unbelievable. Is it slow pitch?\n",
      "[2025-01-20 01:28:11,867][835302387.py][line:33][INFO] FORMATTED:  FOR SOFTBALL  FOR SOFTBALL  THAT'S UNBELIEVABLE IS IT SLOW PITCH \n"
     ]
    },
    {
     "name": "stdout",
     "output_type": "stream",
     "text": [
      "File 434 of 528\r"
     ]
    },
    {
     "name": "stderr",
     "output_type": "stream",
     "text": [
      "[2025-01-20 01:28:12,302][835302387.py][line:31][INFO] Transcription of file 435 has been formatted\n",
      "[2025-01-20 01:28:12,304][835302387.py][line:32][INFO] ORIGINAL:  Pinch hitting softball.\n",
      "[2025-01-20 01:28:12,304][835302387.py][line:33][INFO] FORMATTED:  PINCH HITTING SOFTBALL\n"
     ]
    },
    {
     "name": "stdout",
     "output_type": "stream",
     "text": [
      "File 435 of 528\r"
     ]
    },
    {
     "name": "stderr",
     "output_type": "stream",
     "text": [
      "[2025-01-20 01:28:12,680][835302387.py][line:31][INFO] Transcription of file 436 has been formatted\n",
      "[2025-01-20 01:28:12,681][835302387.py][line:32][INFO] ORIGINAL:  That is incredible!\n",
      "[2025-01-20 01:28:12,682][835302387.py][line:33][INFO] FORMATTED:  THAT IS INCREDIBLE \n"
     ]
    },
    {
     "name": "stdout",
     "output_type": "stream",
     "text": [
      "File 436 of 528\r"
     ]
    },
    {
     "name": "stderr",
     "output_type": "stream",
     "text": [
      "[2025-01-20 01:28:13,254][835302387.py][line:31][INFO] Transcription of file 437 has been formatted\n",
      "[2025-01-20 01:28:13,254][835302387.py][line:32][INFO] ORIGINAL:  That's amazing! They pay for everything?\n",
      "[2025-01-20 01:28:13,255][835302387.py][line:33][INFO] FORMATTED:  THAT'S AMAZING  THEY PAY FOR EVERYTHING \n"
     ]
    },
    {
     "name": "stdout",
     "output_type": "stream",
     "text": [
      "File 437 of 528\r"
     ]
    },
    {
     "name": "stderr",
     "output_type": "stream",
     "text": [
      "[2025-01-20 01:28:13,885][835302387.py][line:31][INFO] Transcription of file 438 has been formatted\n",
      "[2025-01-20 01:28:13,886][835302387.py][line:32][INFO] ORIGINAL:  Your housing, books, everything? That's incredible.\n",
      "[2025-01-20 01:28:13,887][835302387.py][line:33][INFO] FORMATTED:  YOUR HOUSING  BOOKS  EVERYTHING  THAT'S INCREDIBLE\n"
     ]
    },
    {
     "name": "stdout",
     "output_type": "stream",
     "text": [
      "File 438 of 528\r"
     ]
    },
    {
     "name": "stderr",
     "output_type": "stream",
     "text": [
      "[2025-01-20 01:28:14,595][835302387.py][line:31][INFO] Transcription of file 439 has been formatted\n",
      "[2025-01-20 01:28:14,595][835302387.py][line:32][INFO] ORIGINAL:  That is incredible. Do you get like a per diem?\n",
      "[2025-01-20 01:28:14,596][835302387.py][line:33][INFO] FORMATTED:  THAT IS INCREDIBLE DO YOU GET LIKE A PER DIEM \n"
     ]
    },
    {
     "name": "stdout",
     "output_type": "stream",
     "text": [
      "File 439 of 528\r"
     ]
    },
    {
     "name": "stderr",
     "output_type": "stream",
     "text": [
      "[2025-01-20 01:28:15,115][835302387.py][line:31][INFO] Transcription of file 440 has been formatted\n",
      "[2025-01-20 01:28:15,115][835302387.py][line:32][INFO] ORIGINAL:  You should look into that. Yeah.\n",
      "[2025-01-20 01:28:15,116][835302387.py][line:33][INFO] FORMATTED:  YOU SHOULD LOOK INTO THAT YEAH\n"
     ]
    },
    {
     "name": "stdout",
     "output_type": "stream",
     "text": [
      "File 440 of 528\r"
     ]
    },
    {
     "name": "stderr",
     "output_type": "stream",
     "text": [
      "[2025-01-20 01:28:15,710][835302387.py][line:31][INFO] Transcription of file 441 has been formatted\n",
      "[2025-01-20 01:28:15,711][835302387.py][line:32][INFO] ORIGINAL:  That is amazing. Congratulations. Good for you.\n",
      "[2025-01-20 01:28:15,711][835302387.py][line:33][INFO] FORMATTED:  THAT IS AMAZING CONGRATULATIONS GOOD FOR YOU\n"
     ]
    },
    {
     "name": "stdout",
     "output_type": "stream",
     "text": [
      "File 441 of 528\r"
     ]
    },
    {
     "name": "stderr",
     "output_type": "stream",
     "text": [
      "[2025-01-20 01:28:16,012][835302387.py][line:31][INFO] Transcription of file 442 has been formatted\n",
      "[2025-01-20 01:28:16,013][835302387.py][line:32][INFO] ORIGINAL:  Oh.\n",
      "[2025-01-20 01:28:16,014][835302387.py][line:33][INFO] FORMATTED:  OH\n"
     ]
    },
    {
     "name": "stdout",
     "output_type": "stream",
     "text": [
      "File 442 of 528\r"
     ]
    },
    {
     "name": "stderr",
     "output_type": "stream",
     "text": [
      "[2025-01-20 01:28:16,933][835302387.py][line:31][INFO] Transcription of file 443 has been formatted\n",
      "[2025-01-20 01:28:16,934][835302387.py][line:32][INFO] ORIGINAL:  Yeah, you probably... You should stay in one of these Victorian houses around by. Oh!\n",
      "[2025-01-20 01:28:16,935][835302387.py][line:33][INFO] FORMATTED:  YEAH  YOU PROBABLY YOU SHOULD STAY IN ONE OF THESE VICTORIAN HOUSES AROUND BY OH \n"
     ]
    },
    {
     "name": "stdout",
     "output_type": "stream",
     "text": [
      "File 443 of 528\r"
     ]
    },
    {
     "name": "stderr",
     "output_type": "stream",
     "text": [
      "[2025-01-20 01:28:17,240][835302387.py][line:31][INFO] Transcription of file 444 has been formatted\n",
      "[2025-01-20 01:28:17,241][835302387.py][line:32][INFO] ORIGINAL:  Venice Beach\n",
      "[2025-01-20 01:28:17,241][835302387.py][line:33][INFO] FORMATTED:  VENICE BEACH\n"
     ]
    },
    {
     "name": "stdout",
     "output_type": "stream",
     "text": [
      "File 444 of 528\r"
     ]
    },
    {
     "name": "stderr",
     "output_type": "stream",
     "text": [
      "[2025-01-20 01:28:18,015][835302387.py][line:31][INFO] Transcription of file 445 has been formatted\n",
      "[2025-01-20 01:28:18,016][835302387.py][line:32][INFO] ORIGINAL:  Oh, you don't like that. You're a West Sider.\n",
      "[2025-01-20 01:28:18,017][835302387.py][line:33][INFO] FORMATTED:  OH  YOU DON'T LIKE THAT YOU'RE A WEST SIDER\n"
     ]
    },
    {
     "name": "stdout",
     "output_type": "stream",
     "text": [
      "File 445 of 528\r"
     ]
    },
    {
     "name": "stderr",
     "output_type": "stream",
     "text": [
      "[2025-01-20 01:28:19,626][835302387.py][line:31][INFO] Transcription of file 446 has been formatted\n",
      "[2025-01-20 01:28:19,626][835302387.py][line:32][INFO] ORIGINAL:  Okay. That would be way too much. You can't do that. I know. Especially from, I don't know. What was I going to say? I don't know.\n",
      "[2025-01-20 01:28:19,627][835302387.py][line:33][INFO] FORMATTED:  OKAY THAT WOULD BE WAY TOO MUCH YOU CAN'T DO THAT I KNOW ESPECIALLY FROM  I DON'T KNOW WHAT WAS I GOING TO SAY  I DON'T KNOW\n"
     ]
    },
    {
     "name": "stdout",
     "output_type": "stream",
     "text": [
      "File 446 of 528\r"
     ]
    },
    {
     "name": "stderr",
     "output_type": "stream",
     "text": [
      "[2025-01-20 01:28:20,470][835302387.py][line:31][INFO] Transcription of file 447 has been formatted\n",
      "[2025-01-20 01:28:20,471][835302387.py][line:32][INFO] ORIGINAL:  I don't know. Commuting from Malibu? That would be ridiculous.\n",
      "[2025-01-20 01:28:20,472][835302387.py][line:33][INFO] FORMATTED:  I DON'T KNOW COMMUTING FROM MALIBU  THAT WOULD BE RIDICULOUS\n"
     ]
    },
    {
     "name": "stdout",
     "output_type": "stream",
     "text": [
      "File 447 of 528\r"
     ]
    },
    {
     "name": "stderr",
     "output_type": "stream",
     "text": [
      "[2025-01-20 01:28:21,131][835302387.py][line:31][INFO] Transcription of file 448 has been formatted\n",
      "[2025-01-20 01:28:21,133][835302387.py][line:32][INFO] ORIGINAL:  Oh yeah. He could drop you right off at practice.\n",
      "[2025-01-20 01:28:21,133][835302387.py][line:33][INFO] FORMATTED:  OH YEAH HE COULD DROP YOU RIGHT OFF AT PRACTICE\n"
     ]
    },
    {
     "name": "stdout",
     "output_type": "stream",
     "text": [
      "File 448 of 528\r"
     ]
    },
    {
     "name": "stderr",
     "output_type": "stream",
     "text": [
      "[2025-01-20 01:28:22,052][835302387.py][line:31][INFO] Transcription of file 449 has been formatted\n",
      "[2025-01-20 01:28:22,053][835302387.py][line:32][INFO] ORIGINAL:  They have those neon softballs. They're like day glow. You can see them anywhere.\n",
      "[2025-01-20 01:28:22,054][835302387.py][line:33][INFO] FORMATTED:  THEY HAVE THOSE NEON SOFTBALLS THEY'RE LIKE DAY GLOW YOU CAN SEE THEM ANYWHERE\n"
     ]
    },
    {
     "name": "stdout",
     "output_type": "stream",
     "text": [
      "File 449 of 528\r"
     ]
    },
    {
     "name": "stderr",
     "output_type": "stream",
     "text": [
      "[2025-01-20 01:28:22,537][835302387.py][line:31][INFO] Transcription of file 450 has been formatted\n",
      "[2025-01-20 01:28:22,538][835302387.py][line:32][INFO] ORIGINAL:  That is incredible. Is it...\n",
      "[2025-01-20 01:28:22,539][835302387.py][line:33][INFO] FORMATTED:  THAT IS INCREDIBLE IS IT\n"
     ]
    },
    {
     "name": "stdout",
     "output_type": "stream",
     "text": [
      "File 450 of 528\r"
     ]
    },
    {
     "name": "stderr",
     "output_type": "stream",
     "text": [
      "[2025-01-20 01:28:24,214][835302387.py][line:31][INFO] Transcription of file 451 has been formatted\n",
      "[2025-01-20 01:28:24,215][835302387.py][line:32][INFO] ORIGINAL:  Do they have, is it a co-ed softball team? I mean, do they have- No, softballs. Really? Yeah, I didn't even know that they had that.\n",
      "[2025-01-20 01:28:24,216][835302387.py][line:33][INFO] FORMATTED:  DO THEY HAVE  IS IT A CO ED SOFTBALL TEAM  I MEAN  DO THEY HAVE  NO  SOFTBALLS REALLY  YEAH  I DIDN'T EVEN KNOW THAT THEY HAD THAT\n"
     ]
    },
    {
     "name": "stdout",
     "output_type": "stream",
     "text": [
      "File 451 of 528\r"
     ]
    },
    {
     "name": "stderr",
     "output_type": "stream",
     "text": [
      "[2025-01-20 01:28:25,028][835302387.py][line:31][INFO] Transcription of file 452 has been formatted\n",
      "[2025-01-20 01:28:25,028][835302387.py][line:32][INFO] ORIGINAL:  Who do you play? Are you nationally ranked? I just fell into it.\n",
      "[2025-01-20 01:28:25,029][835302387.py][line:33][INFO] FORMATTED:  WHO DO YOU PLAY  ARE YOU NATIONALLY RANKED  I JUST FELL INTO IT\n"
     ]
    },
    {
     "name": "stdout",
     "output_type": "stream",
     "text": [
      "File 452 of 528\r"
     ]
    },
    {
     "name": "stderr",
     "output_type": "stream",
     "text": [
      "[2025-01-20 01:28:25,397][835302387.py][line:31][INFO] Transcription of file 453 has been formatted\n",
      "[2025-01-20 01:28:25,398][835302387.py][line:32][INFO] ORIGINAL:  That is unbelievable.\n",
      "[2025-01-20 01:28:25,399][835302387.py][line:33][INFO] FORMATTED:  THAT IS UNBELIEVABLE\n"
     ]
    },
    {
     "name": "stdout",
     "output_type": "stream",
     "text": [
      "File 453 of 528\r"
     ]
    },
    {
     "name": "stderr",
     "output_type": "stream",
     "text": [
      "[2025-01-20 01:28:26,028][835302387.py][line:31][INFO] Transcription of file 454 has been formatted\n",
      "[2025-01-20 01:28:26,029][835302387.py][line:32][INFO] ORIGINAL:  I would put that right up there with ping pong.\n",
      "[2025-01-20 01:28:26,030][835302387.py][line:33][INFO] FORMATTED:  I WOULD PUT THAT RIGHT UP THERE WITH PING PONG\n"
     ]
    },
    {
     "name": "stdout",
     "output_type": "stream",
     "text": [
      "File 454 of 528\r"
     ]
    },
    {
     "name": "stderr",
     "output_type": "stream",
     "text": [
      "[2025-01-20 01:28:26,941][835302387.py][line:31][INFO] Transcription of file 455 has been formatted\n",
      "[2025-01-20 01:28:26,943][835302387.py][line:32][INFO] ORIGINAL:  I mean, not to denigrate what you're doing. I think that's great.\n",
      "[2025-01-20 01:28:26,944][835302387.py][line:33][INFO] FORMATTED:  I MEAN  NOT TO DENIGRATE WHAT YOU'RE DOING I THINK THAT'S GREAT\n"
     ]
    },
    {
     "name": "stdout",
     "output_type": "stream",
     "text": [
      "File 455 of 528\r"
     ]
    },
    {
     "name": "stderr",
     "output_type": "stream",
     "text": [
      "[2025-01-20 01:28:27,790][835302387.py][line:31][INFO] Transcription of file 456 has been formatted\n",
      "[2025-01-20 01:28:27,792][835302387.py][line:32][INFO] ORIGINAL:  No, no, I love softball. I play softball all the time.\n",
      "[2025-01-20 01:28:27,793][835302387.py][line:33][INFO] FORMATTED:  NO  NO  I LOVE SOFTBALL I PLAY SOFTBALL ALL THE TIME\n"
     ]
    },
    {
     "name": "stdout",
     "output_type": "stream",
     "text": [
      "File 456 of 528\r"
     ]
    },
    {
     "name": "stderr",
     "output_type": "stream",
     "text": [
      "[2025-01-20 01:28:29,812][835302387.py][line:31][INFO] Transcription of file 457 has been formatted\n",
      "[2025-01-20 01:28:29,813][835302387.py][line:32][INFO] ORIGINAL:  I am not saying you should be. I'm not. No, I think it's great. I think you should be incredibly proud of yourself, especially because you're going to USC for free for doing it. For free. For free.\n",
      "[2025-01-20 01:28:29,814][835302387.py][line:33][INFO] FORMATTED:  I AM NOT SAYING YOU SHOULD BE I'M NOT NO  I THINK IT'S GREAT I THINK YOU SHOULD BE INCREDIBLY PROUD OF YOURSELF  ESPECIALLY BECAUSE YOU'RE GOING TO USC FOR FREE FOR DOING IT FOR FREE FOR FREE\n"
     ]
    },
    {
     "name": "stdout",
     "output_type": "stream",
     "text": [
      "File 457 of 528\r"
     ]
    },
    {
     "name": "stderr",
     "output_type": "stream",
     "text": [
      "[2025-01-20 01:28:30,439][835302387.py][line:31][INFO] Transcription of file 458 has been formatted\n",
      "[2025-01-20 01:28:30,440][835302387.py][line:32][INFO] ORIGINAL:  You're like the rookie, the new kid.\n",
      "[2025-01-20 01:28:30,441][835302387.py][line:33][INFO] FORMATTED:  YOU'RE LIKE THE ROOKIE  THE NEW KID\n"
     ]
    },
    {
     "name": "stdout",
     "output_type": "stream",
     "text": [
      "File 458 of 528\r"
     ]
    },
    {
     "name": "stderr",
     "output_type": "stream",
     "text": [
      "[2025-01-20 01:28:31,503][835302387.py][line:31][INFO] Transcription of file 459 has been formatted\n",
      "[2025-01-20 01:28:31,504][835302387.py][line:32][INFO] ORIGINAL:  Just watch in five years, you'll be like on the force. You carry around donuts in your back pocket.\n",
      "[2025-01-20 01:28:31,505][835302387.py][line:33][INFO] FORMATTED:  JUST WATCH IN FIVE YEARS  YOU'LL BE LIKE ON THE FORCE YOU CARRY AROUND DONUTS IN YOUR BACK POCKET\n"
     ]
    },
    {
     "name": "stdout",
     "output_type": "stream",
     "text": [
      "File 459 of 528\r"
     ]
    },
    {
     "name": "stderr",
     "output_type": "stream",
     "text": [
      "[2025-01-20 01:28:31,948][835302387.py][line:31][INFO] Transcription of file 460 has been formatted\n",
      "[2025-01-20 01:28:31,949][835302387.py][line:32][INFO] ORIGINAL:  Did you talk to him?\n",
      "[2025-01-20 01:28:31,950][835302387.py][line:33][INFO] FORMATTED:  DID YOU TALK TO HIM \n"
     ]
    },
    {
     "name": "stdout",
     "output_type": "stream",
     "text": [
      "File 460 of 528\r"
     ]
    },
    {
     "name": "stderr",
     "output_type": "stream",
     "text": [
      "[2025-01-20 01:28:32,322][835302387.py][line:31][INFO] Transcription of file 461 has been formatted\n",
      "[2025-01-20 01:28:32,323][835302387.py][line:32][INFO] ORIGINAL:  He cried hard.\n",
      "[2025-01-20 01:28:32,324][835302387.py][line:33][INFO] FORMATTED:  HE CRIED HARD\n"
     ]
    },
    {
     "name": "stdout",
     "output_type": "stream",
     "text": [
      "File 461 of 528\r"
     ]
    },
    {
     "name": "stderr",
     "output_type": "stream",
     "text": [
      "[2025-01-20 01:28:32,591][835302387.py][line:31][INFO] Transcription of file 462 has been formatted\n",
      "[2025-01-20 01:28:32,592][835302387.py][line:32][INFO] ORIGINAL: 我\n",
      "[2025-01-20 01:28:32,593][835302387.py][line:33][INFO] FORMATTED: \n"
     ]
    },
    {
     "name": "stdout",
     "output_type": "stream",
     "text": [
      "File 462 of 528\r"
     ]
    },
    {
     "name": "stderr",
     "output_type": "stream",
     "text": [
      "[2025-01-20 01:28:33,147][835302387.py][line:31][INFO] Transcription of file 463 has been formatted\n",
      "[2025-01-20 01:28:33,147][835302387.py][line:32][INFO] ORIGINAL:  streaming about him again, walking the streets.\n",
      "[2025-01-20 01:28:33,148][835302387.py][line:33][INFO] FORMATTED:  STREAMING ABOUT HIM AGAIN  WALKING THE STREETS\n"
     ]
    },
    {
     "name": "stdout",
     "output_type": "stream",
     "text": [
      "File 463 of 528\r"
     ]
    },
    {
     "name": "stderr",
     "output_type": "stream",
     "text": [
      "[2025-01-20 01:28:33,670][835302387.py][line:31][INFO] Transcription of file 464 has been formatted\n",
      "[2025-01-20 01:28:33,671][835302387.py][line:32][INFO] ORIGINAL:  What do you mean, a mistake?\n",
      "[2025-01-20 01:28:33,672][835302387.py][line:33][INFO] FORMATTED:  WHAT DO YOU MEAN  A MISTAKE \n"
     ]
    },
    {
     "name": "stdout",
     "output_type": "stream",
     "text": [
      "File 464 of 528\r"
     ]
    },
    {
     "name": "stderr",
     "output_type": "stream",
     "text": [
      "[2025-01-20 01:28:34,536][835302387.py][line:31][INFO] Transcription of file 465 has been formatted\n",
      "[2025-01-20 01:28:34,537][835302387.py][line:32][INFO] ORIGINAL:  What can you prove it? What proof do you have? Can you prove it?\n",
      "[2025-01-20 01:28:34,538][835302387.py][line:33][INFO] FORMATTED:  WHAT CAN YOU PROVE IT  WHAT PROOF DO YOU HAVE  CAN YOU PROVE IT \n"
     ]
    },
    {
     "name": "stdout",
     "output_type": "stream",
     "text": [
      "File 465 of 528\r"
     ]
    },
    {
     "name": "stderr",
     "output_type": "stream",
     "text": [
      "[2025-01-20 01:28:36,381][835302387.py][line:31][INFO] Transcription of file 466 has been formatted\n",
      "[2025-01-20 01:28:36,382][835302387.py][line:32][INFO] ORIGINAL:  Well, to you it is, to me it is. But to your father? You can talk yourself to your blue in the face, but there's no grave and there's no body, so where are you?\n",
      "[2025-01-20 01:28:36,382][835302387.py][line:33][INFO] FORMATTED:  WELL  TO YOU IT IS  TO ME IT IS BUT TO YOUR FATHER  YOU CAN TALK YOURSELF TO YOUR BLUE IN THE FACE  BUT THERE'S NO GRAVE AND THERE'S NO BODY  SO WHERE ARE YOU \n"
     ]
    },
    {
     "name": "stdout",
     "output_type": "stream",
     "text": [
      "File 466 of 528\r"
     ]
    },
    {
     "name": "stderr",
     "output_type": "stream",
     "text": [
      "[2025-01-20 01:28:37,343][835302387.py][line:31][INFO] Transcription of file 467 has been formatted\n",
      "[2025-01-20 01:28:37,344][835302387.py][line:32][INFO] ORIGINAL:  The trouble is those goddamn newspapers. Every month some boy comes back missing longer than Larry, so...\n",
      "[2025-01-20 01:28:37,345][835302387.py][line:33][INFO] FORMATTED:  THE TROUBLE IS THOSE GODDAMN NEWSPAPERS EVERY MONTH SOME BOY COMES BACK MISSING LONGER THAN LARRY  SO\n"
     ]
    },
    {
     "name": "stdout",
     "output_type": "stream",
     "text": [
      "File 467 of 528\r"
     ]
    },
    {
     "name": "stderr",
     "output_type": "stream",
     "text": [
      "[2025-01-20 01:28:37,649][835302387.py][line:31][INFO] Transcription of file 468 has been formatted\n",
      "[2025-01-20 01:28:37,650][835302387.py][line:32][INFO] ORIGINAL:  Why?\n",
      "[2025-01-20 01:28:37,651][835302387.py][line:33][INFO] FORMATTED:  WHY \n"
     ]
    },
    {
     "name": "stdout",
     "output_type": "stream",
     "text": [
      "File 468 of 528\r"
     ]
    },
    {
     "name": "stderr",
     "output_type": "stream",
     "text": [
      "[2025-01-20 01:28:38,613][835302387.py][line:31][INFO] Transcription of file 469 has been formatted\n",
      "[2025-01-20 01:28:38,614][835302387.py][line:32][INFO] ORIGINAL:  Well, what do you want me to do? You're old enough to know your own business.\n",
      "[2025-01-20 01:28:38,615][835302387.py][line:33][INFO] FORMATTED:  WELL  WHAT DO YOU WANT ME TO DO  YOU'RE OLD ENOUGH TO KNOW YOUR OWN BUSINESS\n"
     ]
    },
    {
     "name": "stdout",
     "output_type": "stream",
     "text": [
      "File 469 of 528\r"
     ]
    },
    {
     "name": "stderr",
     "output_type": "stream",
     "text": [
      "[2025-01-20 01:28:39,574][835302387.py][line:31][INFO] Transcription of file 470 has been formatted\n",
      "[2025-01-20 01:28:39,575][835302387.py][line:32][INFO] ORIGINAL:  I'm sorry. I ignore what I've got to ignore. That girl is Larry's girl.\n",
      "[2025-01-20 01:28:39,576][835302387.py][line:33][INFO] FORMATTED:  I'M SORRY I IGNORE WHAT I'VE GOT TO IGNORE THAT GIRL IS LARRY'S GIRL\n"
     ]
    },
    {
     "name": "stdout",
     "output_type": "stream",
     "text": [
      "File 470 of 528\r"
     ]
    },
    {
     "name": "stderr",
     "output_type": "stream",
     "text": [
      "[2025-01-20 01:28:41,905][835302387.py][line:31][INFO] Transcription of file 471 has been formatted\n",
      "[2025-01-20 01:28:41,906][835302387.py][line:32][INFO] ORIGINAL:  From father's point of view, he is not dead and you have no right to take his girl. I'm just saying you can go on from there if you know where to go, but I'm saying I don't know where to go. See, I don't know.\n",
      "[2025-01-20 01:28:41,907][835302387.py][line:33][INFO] FORMATTED:  FROM FATHER'S POINT OF VIEW  HE IS NOT DEAD AND YOU HAVE NO RIGHT TO TAKE HIS GIRL I'M JUST SAYING YOU CAN GO ON FROM THERE IF YOU KNOW WHERE TO GO  BUT I'M SAYING I DON'T KNOW WHERE TO GO SEE  I DON'T KNOW\n"
     ]
    },
    {
     "name": "stdout",
     "output_type": "stream",
     "text": [
      "File 471 of 528\r"
     ]
    },
    {
     "name": "stderr",
     "output_type": "stream",
     "text": [
      "[2025-01-20 01:28:42,691][835302387.py][line:31][INFO] Transcription of file 472 has been formatted\n",
      "[2025-01-20 01:28:42,691][835302387.py][line:32][INFO] ORIGINAL:  You're a considerate fellow. There's nothing wrong in that.\n",
      "[2025-01-20 01:28:42,692][835302387.py][line:33][INFO] FORMATTED:  YOU'RE A CONSIDERATE FELLOW THERE'S NOTHING WRONG IN THAT\n"
     ]
    },
    {
     "name": "stdout",
     "output_type": "stream",
     "text": [
      "File 472 of 528\r"
     ]
    },
    {
     "name": "stderr",
     "output_type": "stream",
     "text": [
      "[2025-01-20 01:28:43,146][835302387.py][line:31][INFO] Transcription of file 473 has been formatted\n",
      "[2025-01-20 01:28:43,147][835302387.py][line:32][INFO] ORIGINAL:  Did you ask Annie yet?\n",
      "[2025-01-20 01:28:43,148][835302387.py][line:33][INFO] FORMATTED:  DID YOU ASK ANNIE YET \n"
     ]
    },
    {
     "name": "stdout",
     "output_type": "stream",
     "text": [
      "File 473 of 528\r"
     ]
    },
    {
     "name": "stderr",
     "output_type": "stream",
     "text": [
      "[2025-01-20 01:28:43,777][835302387.py][line:31][INFO] Transcription of file 474 has been formatted\n",
      "[2025-01-20 01:28:43,778][835302387.py][line:32][INFO] ORIGINAL:  I don't see why it has to be Annie.\n",
      "[2025-01-20 01:28:43,779][835302387.py][line:33][INFO] FORMATTED:  I DON'T SEE WHY IT HAS TO BE ANNIE\n"
     ]
    },
    {
     "name": "stdout",
     "output_type": "stream",
     "text": [
      "File 474 of 528\r"
     ]
    },
    {
     "name": "stderr",
     "output_type": "stream",
     "text": [
      "[2025-01-20 01:28:45,291][835302387.py][line:31][INFO] Transcription of file 475 has been formatted\n",
      "[2025-01-20 01:28:45,292][835302387.py][line:32][INFO] ORIGINAL:  That's a good answer, but it doesn't answer anything. You haven't seen her since you went away to war. It's been five years. Oh, no.\n",
      "[2025-01-20 01:28:45,294][835302387.py][line:33][INFO] FORMATTED:  THAT'S A GOOD ANSWER  BUT IT DOESN'T ANSWER ANYTHING YOU HAVEN'T SEEN HER SINCE YOU WENT AWAY TO WAR IT'S BEEN FIVE YEARS OH  NO\n"
     ]
    },
    {
     "name": "stdout",
     "output_type": "stream",
     "text": [
      "File 475 of 528\r"
     ]
    },
    {
     "name": "stderr",
     "output_type": "stream",
     "text": [
      "[2025-01-20 01:28:46,285][835302387.py][line:31][INFO] Transcription of file 476 has been formatted\n",
      "[2025-01-20 01:28:46,286][835302387.py][line:32][INFO] ORIGINAL:  He thinks he's coming back, Chris. You marry that girl, you're pronouncing him dead.\n",
      "[2025-01-20 01:28:46,287][835302387.py][line:33][INFO] FORMATTED:  HE THINKS HE'S COMING BACK  CHRIS YOU MARRY THAT GIRL  YOU'RE PRONOUNCING HIM DEAD\n"
     ]
    },
    {
     "name": "stdout",
     "output_type": "stream",
     "text": [
      "File 476 of 528\r"
     ]
    },
    {
     "name": "stderr",
     "output_type": "stream",
     "text": [
      "[2025-01-20 01:28:47,325][835302387.py][line:31][INFO] Transcription of file 477 has been formatted\n",
      "[2025-01-20 01:28:47,326][835302387.py][line:32][INFO] ORIGINAL:  Do you know what that'll do to you? To your father? Do you know? I don't!\n",
      "[2025-01-20 01:28:47,327][835302387.py][line:33][INFO] FORMATTED:  DO YOU KNOW WHAT THAT'LL DO TO YOU  TO YOUR FATHER  DO YOU KNOW  I DON'T \n"
     ]
    },
    {
     "name": "stdout",
     "output_type": "stream",
     "text": [
      "File 477 of 528\r"
     ]
    },
    {
     "name": "stderr",
     "output_type": "stream",
     "text": [
      "[2025-01-20 01:28:47,708][835302387.py][line:31][INFO] Transcription of file 478 has been formatted\n",
      "[2025-01-20 01:28:47,709][835302387.py][line:32][INFO] ORIGINAL:  Are you crazy?\n",
      "[2025-01-20 01:28:47,710][835302387.py][line:33][INFO] FORMATTED:  ARE YOU CRAZY \n"
     ]
    },
    {
     "name": "stdout",
     "output_type": "stream",
     "text": [
      "File 478 of 528\r"
     ]
    },
    {
     "name": "stderr",
     "output_type": "stream",
     "text": [
      "[2025-01-20 01:28:48,378][835302387.py][line:31][INFO] Transcription of file 479 has been formatted\n",
      "[2025-01-20 01:28:48,379][835302387.py][line:32][INFO] ORIGINAL:  You have a business here. What the hell is this?\n",
      "[2025-01-20 01:28:48,380][835302387.py][line:33][INFO] FORMATTED:  YOU HAVE A BUSINESS HERE WHAT THE HELL IS THIS \n"
     ]
    },
    {
     "name": "stdout",
     "output_type": "stream",
     "text": [
      "File 479 of 528\r"
     ]
    },
    {
     "name": "stderr",
     "output_type": "stream",
     "text": [
      "[2025-01-20 01:28:48,942][835302387.py][line:31][INFO] Transcription of file 480 has been formatted\n",
      "[2025-01-20 01:28:48,943][835302387.py][line:32][INFO] ORIGINAL:  Oh, must you be inspired? Yes.\n",
      "[2025-01-20 01:28:48,944][835302387.py][line:33][INFO] FORMATTED:  OH  MUST YOU BE INSPIRED  YES\n"
     ]
    },
    {
     "name": "stdout",
     "output_type": "stream",
     "text": [
      "File 480 of 528\r"
     ]
    },
    {
     "name": "stderr",
     "output_type": "stream",
     "text": [
      "[2025-01-20 01:28:49,575][835302387.py][line:31][INFO] Transcription of file 481 has been formatted\n",
      "[2025-01-20 01:28:49,576][835302387.py][line:32][INFO] ORIGINAL:  Well, you don't want to think like that.\n",
      "[2025-01-20 01:28:49,577][835302387.py][line:33][INFO] FORMATTED:  WELL  YOU DON'T WANT TO THINK LIKE THAT\n"
     ]
    },
    {
     "name": "stdout",
     "output_type": "stream",
     "text": [
      "File 481 of 528\r"
     ]
    },
    {
     "name": "stderr",
     "output_type": "stream",
     "text": [
      "[2025-01-20 01:28:51,536][835302387.py][line:31][INFO] Transcription of file 482 has been formatted\n",
      "[2025-01-20 01:28:51,537][835302387.py][line:32][INFO] ORIGINAL:  Alright, but you don't think like that. Because what the hell is this all for? This is all for you? What are we working for, Chris? I know, I know. The whole shoot match is for you.\n",
      "[2025-01-20 01:28:51,538][835302387.py][line:33][INFO] FORMATTED:  ALRIGHT  BUT YOU DON'T THINK LIKE THAT BECAUSE WHAT THE HELL IS THIS ALL FOR  THIS IS ALL FOR YOU  WHAT ARE WE WORKING FOR  CHRIS  I KNOW  I KNOW THE WHOLE SHOOT MATCH IS FOR YOU\n"
     ]
    },
    {
     "name": "stdout",
     "output_type": "stream",
     "text": [
      "File 482 of 528\r"
     ]
    },
    {
     "name": "stderr",
     "output_type": "stream",
     "text": [
      "[2025-01-20 01:28:52,136][835302387.py][line:31][INFO] Transcription of file 483 has been formatted\n",
      "[2025-01-20 01:28:52,137][835302387.py][line:32][INFO] ORIGINAL:  Well, you don't think like that.\n",
      "[2025-01-20 01:28:52,137][835302387.py][line:33][INFO] FORMATTED:  WELL  YOU DON'T THINK LIKE THAT\n"
     ]
    },
    {
     "name": "stdout",
     "output_type": "stream",
     "text": [
      "File 483 of 528\r"
     ]
    },
    {
     "name": "stderr",
     "output_type": "stream",
     "text": [
      "[2025-01-20 01:28:52,691][835302387.py][line:31][INFO] Transcription of file 484 has been formatted\n",
      "[2025-01-20 01:28:52,692][835302387.py][line:32][INFO] ORIGINAL:  I don't understand you, do I?\n",
      "[2025-01-20 01:28:52,693][835302387.py][line:33][INFO] FORMATTED:  I DON'T UNDERSTAND YOU  DO I \n"
     ]
    },
    {
     "name": "stdout",
     "output_type": "stream",
     "text": [
      "File 484 of 528\r"
     ]
    },
    {
     "name": "stderr",
     "output_type": "stream",
     "text": [
      "[2025-01-20 01:28:53,171][835302387.py][line:31][INFO] Transcription of file 485 has been formatted\n",
      "[2025-01-20 01:28:53,172][835302387.py][line:32][INFO] ORIGINAL:  Well, I can see that.\n",
      "[2025-01-20 01:28:53,173][835302387.py][line:33][INFO] FORMATTED:  WELL  I CAN SEE THAT\n"
     ]
    },
    {
     "name": "stdout",
     "output_type": "stream",
     "text": [
      "File 485 of 528\r"
     ]
    },
    {
     "name": "stderr",
     "output_type": "stream",
     "text": [
      "[2025-01-20 01:28:53,474][835302387.py][line:31][INFO] Transcription of file 486 has been formatted\n",
      "[2025-01-20 01:28:53,475][835302387.py][line:32][INFO] ORIGINAL:  No.\n",
      "[2025-01-20 01:28:53,476][835302387.py][line:33][INFO] FORMATTED:  NO\n"
     ]
    },
    {
     "name": "stdout",
     "output_type": "stream",
     "text": [
      "File 486 of 528\r"
     ]
    },
    {
     "name": "stderr",
     "output_type": "stream",
     "text": [
      "[2025-01-20 01:28:53,847][835302387.py][line:31][INFO] Transcription of file 487 has been formatted\n",
      "[2025-01-20 01:28:53,848][835302387.py][line:32][INFO] ORIGINAL:  That's sweet.\n",
      "[2025-01-20 01:28:53,849][835302387.py][line:33][INFO] FORMATTED:  THAT'S SWEET\n"
     ]
    },
    {
     "name": "stdout",
     "output_type": "stream",
     "text": [
      "File 487 of 528\r"
     ]
    },
    {
     "name": "stderr",
     "output_type": "stream",
     "text": [
      "[2025-01-20 01:28:54,186][835302387.py][line:31][INFO] Transcription of file 488 has been formatted\n",
      "[2025-01-20 01:28:54,187][835302387.py][line:32][INFO] ORIGINAL:  Thank you.\n",
      "[2025-01-20 01:28:54,188][835302387.py][line:33][INFO] FORMATTED:  THANK YOU\n"
     ]
    },
    {
     "name": "stdout",
     "output_type": "stream",
     "text": [
      "File 488 of 528\r"
     ]
    },
    {
     "name": "stderr",
     "output_type": "stream",
     "text": [
      "[2025-01-20 01:28:54,892][835302387.py][line:31][INFO] Transcription of file 489 has been formatted\n",
      "[2025-01-20 01:28:54,893][835302387.py][line:32][INFO] ORIGINAL:  I went to see her headstone a week or two ago.\n",
      "[2025-01-20 01:28:54,895][835302387.py][line:33][INFO] FORMATTED:  I WENT TO SEE HER HEADSTONE A WEEK OR TWO AGO\n"
     ]
    },
    {
     "name": "stdout",
     "output_type": "stream",
     "text": [
      "File 489 of 528\r"
     ]
    },
    {
     "name": "stderr",
     "output_type": "stream",
     "text": [
      "[2025-01-20 01:28:56,805][835302387.py][line:31][INFO] Transcription of file 490 has been formatted\n",
      "[2025-01-20 01:28:56,807][835302387.py][line:32][INFO] ORIGINAL:  I used to go to cemeteries a lot before she died. I just, you know, they're just, I felt like they were urban oases, you know, there's always this green in the city.\n",
      "[2025-01-20 01:28:56,808][835302387.py][line:33][INFO] FORMATTED:  I USED TO GO TO CEMETERIES A LOT BEFORE SHE DIED I JUST  YOU KNOW  THEY'RE JUST  I FELT LIKE THEY WERE URBAN OASES  YOU KNOW  THERE'S ALWAYS THIS GREEN IN THE CITY\n"
     ]
    },
    {
     "name": "stdout",
     "output_type": "stream",
     "text": [
      "File 490 of 528\r"
     ]
    },
    {
     "name": "stderr",
     "output_type": "stream",
     "text": [
      "[2025-01-20 01:28:58,084][835302387.py][line:31][INFO] Transcription of file 491 has been formatted\n",
      "[2025-01-20 01:28:58,085][835302387.py][line:32][INFO] ORIGINAL:  So I was like wandering around before. I always, it takes forever to find your headstone. I always lose it, you know?\n",
      "[2025-01-20 01:28:58,086][835302387.py][line:33][INFO] FORMATTED:  SO I WAS LIKE WANDERING AROUND BEFORE I ALWAYS  IT TAKES FOREVER TO FIND YOUR HEADSTONE I ALWAYS LOSE IT  YOU KNOW \n"
     ]
    },
    {
     "name": "stdout",
     "output_type": "stream",
     "text": [
      "File 491 of 528\r"
     ]
    },
    {
     "name": "stderr",
     "output_type": "stream",
     "text": [
      "[2025-01-20 01:28:59,551][835302387.py][line:31][INFO] Transcription of file 492 has been formatted\n",
      "[2025-01-20 01:28:59,552][835302387.py][line:32][INFO] ORIGINAL:  So I was looking at this other one and there was like a piece of candy there and I thought that I would take the candy and put it on her headstone and\n",
      "[2025-01-20 01:28:59,553][835302387.py][line:33][INFO] FORMATTED:  SO I WAS LOOKING AT THIS OTHER ONE AND THERE WAS LIKE A PIECE OF CANDY THERE AND I THOUGHT THAT I WOULD TAKE THE CANDY AND PUT IT ON HER HEADSTONE AND\n"
     ]
    },
    {
     "name": "stdout",
     "output_type": "stream",
     "text": [
      "File 492 of 528\r"
     ]
    },
    {
     "name": "stderr",
     "output_type": "stream",
     "text": [
      "[2025-01-20 01:29:00,517][835302387.py][line:31][INFO] Transcription of file 493 has been formatted\n",
      "[2025-01-20 01:29:00,518][835302387.py][line:32][INFO] ORIGINAL:  this woman it came up and you know it was hers it was her person that was there but she\n",
      "[2025-01-20 01:29:00,519][835302387.py][line:33][INFO] FORMATTED:  THIS WOMAN IT CAME UP AND YOU KNOW IT WAS HERS IT WAS HER PERSON THAT WAS THERE BUT SHE\n"
     ]
    },
    {
     "name": "stdout",
     "output_type": "stream",
     "text": [
      "File 493 of 528\r"
     ]
    },
    {
     "name": "stderr",
     "output_type": "stream",
     "text": [
      "[2025-01-20 01:29:01,386][835302387.py][line:31][INFO] Transcription of file 494 has been formatted\n",
      "[2025-01-20 01:29:01,387][835302387.py][line:32][INFO] ORIGINAL:  Yeah, and she was like, that's pathetic. I hope you enjoy it.\n",
      "[2025-01-20 01:29:01,388][835302387.py][line:33][INFO] FORMATTED:  YEAH  AND SHE WAS LIKE  THAT'S PATHETIC I HOPE YOU ENJOY IT\n"
     ]
    },
    {
     "name": "stdout",
     "output_type": "stream",
     "text": [
      "File 494 of 528\r"
     ]
    },
    {
     "name": "stderr",
     "output_type": "stream",
     "text": [
      "[2025-01-20 01:29:03,990][835302387.py][line:31][INFO] Transcription of file 495 has been formatted\n",
      "[2025-01-20 01:29:03,991][835302387.py][line:32][INFO] ORIGINAL:  And I, you know, I mean, I said I was sorry and I brought it back to her, kind of, and I, like, put it on the ground and she was like, no, it's, you know, it's fine. She was like, I'd rather have her back, honestly.\n",
      "[2025-01-20 01:29:03,992][835302387.py][line:33][INFO] FORMATTED:  AND I  YOU KNOW  I MEAN  I SAID I WAS SORRY AND I BROUGHT IT BACK TO HER  KIND OF  AND I  LIKE  PUT IT ON THE GROUND AND SHE WAS LIKE  NO  IT'S  YOU KNOW  IT'S FINE SHE WAS LIKE  I'D RATHER HAVE HER BACK  HONESTLY\n"
     ]
    },
    {
     "name": "stdout",
     "output_type": "stream",
     "text": [
      "File 495 of 528\r"
     ]
    },
    {
     "name": "stderr",
     "output_type": "stream",
     "text": [
      "[2025-01-20 01:29:05,280][835302387.py][line:31][INFO] Transcription of file 496 has been formatted\n",
      "[2025-01-20 01:29:05,281][835302387.py][line:32][INFO] ORIGINAL:  I don't know. It's just like I felt so bad because I shouldn't have done it. I don't know. Whatever.\n",
      "[2025-01-20 01:29:05,282][835302387.py][line:33][INFO] FORMATTED:  I DON'T KNOW IT'S JUST LIKE I FELT SO BAD BECAUSE I SHOULDN'T HAVE DONE IT I DON'T KNOW WHATEVER\n"
     ]
    },
    {
     "name": "stdout",
     "output_type": "stream",
     "text": [
      "File 496 of 528\r"
     ]
    },
    {
     "name": "stderr",
     "output_type": "stream",
     "text": [
      "[2025-01-20 01:29:05,695][835302387.py][line:31][INFO] Transcription of file 497 has been formatted\n",
      "[2025-01-20 01:29:05,695][835302387.py][line:32][INFO] ORIGINAL:  I don't know.\n",
      "[2025-01-20 01:29:05,696][835302387.py][line:33][INFO] FORMATTED:  I DON'T KNOW\n"
     ]
    },
    {
     "name": "stdout",
     "output_type": "stream",
     "text": [
      "File 497 of 528\r"
     ]
    },
    {
     "name": "stderr",
     "output_type": "stream",
     "text": [
      "[2025-01-20 01:29:06,110][835302387.py][line:31][INFO] Transcription of file 498 has been formatted\n",
      "[2025-01-20 01:29:06,112][835302387.py][line:32][INFO] ORIGINAL:  That's the cemetery?\n",
      "[2025-01-20 01:29:06,113][835302387.py][line:33][INFO] FORMATTED:  THAT'S THE CEMETERY \n"
     ]
    },
    {
     "name": "stdout",
     "output_type": "stream",
     "text": [
      "File 498 of 528\r"
     ]
    },
    {
     "name": "stderr",
     "output_type": "stream",
     "text": [
      "[2025-01-20 01:29:06,451][835302387.py][line:31][INFO] Transcription of file 499 has been formatted\n",
      "[2025-01-20 01:29:06,452][835302387.py][line:32][INFO] ORIGINAL:  Couple hours.\n",
      "[2025-01-20 01:29:06,452][835302387.py][line:33][INFO] FORMATTED:  COUPLE HOURS\n"
     ]
    },
    {
     "name": "stdout",
     "output_type": "stream",
     "text": [
      "File 499 of 528\r"
     ]
    },
    {
     "name": "stderr",
     "output_type": "stream",
     "text": [
      "[2025-01-20 01:29:07,595][835302387.py][line:31][INFO] Transcription of file 500 has been formatted\n",
      "[2025-01-20 01:29:07,596][835302387.py][line:32][INFO] ORIGINAL:  I brought Chuck with me. We went to Redlands, yeah, for the day. We ran through the sprinklers.\n",
      "[2025-01-20 01:29:07,597][835302387.py][line:33][INFO] FORMATTED:  I BROUGHT CHUCK WITH ME WE WENT TO REDLANDS  YEAH  FOR THE DAY WE RAN THROUGH THE SPRINKLERS\n"
     ]
    },
    {
     "name": "stdout",
     "output_type": "stream",
     "text": [
      "File 500 of 528\r"
     ]
    },
    {
     "name": "stderr",
     "output_type": "stream",
     "text": [
      "[2025-01-20 01:29:08,643][835302387.py][line:31][INFO] Transcription of file 501 has been formatted\n",
      "[2025-01-20 01:29:08,644][835302387.py][line:32][INFO] ORIGINAL:  Yeah, it's huge. Redlands is an old city, so there's lots and lots of stones.\n",
      "[2025-01-20 01:29:08,645][835302387.py][line:33][INFO] FORMATTED:  YEAH  IT'S HUGE REDLANDS IS AN OLD CITY  SO THERE'S LOTS AND LOTS OF STONES\n"
     ]
    },
    {
     "name": "stdout",
     "output_type": "stream",
     "text": [
      "File 501 of 528\r"
     ]
    },
    {
     "name": "stderr",
     "output_type": "stream",
     "text": [
      "[2025-01-20 01:29:08,946][835302387.py][line:31][INFO] Transcription of file 502 has been formatted\n",
      "[2025-01-20 01:29:08,947][835302387.py][line:32][INFO] ORIGINAL:  Yeah.\n",
      "[2025-01-20 01:29:08,948][835302387.py][line:33][INFO] FORMATTED:  YEAH\n"
     ]
    },
    {
     "name": "stdout",
     "output_type": "stream",
     "text": [
      "File 502 of 528\r"
     ]
    },
    {
     "name": "stderr",
     "output_type": "stream",
     "text": [
      "[2025-01-20 01:29:11,081][835302387.py][line:31][INFO] Transcription of file 503 has been formatted\n",
      "[2025-01-20 01:29:11,081][835302387.py][line:32][INFO] ORIGINAL:  It's weird, whenever I go back to town, I think of her. I mean, it's like, I mean, we grew up together, and she died when we were 21. And yeah, she had cancer, she had two brain tumors.\n",
      "[2025-01-20 01:29:11,082][835302387.py][line:33][INFO] FORMATTED:  IT'S WEIRD  WHENEVER I GO BACK TO TOWN  I THINK OF HER I MEAN  IT'S LIKE  I MEAN  WE GREW UP TOGETHER  AND SHE DIED WHEN WE WERE 21 AND YEAH  SHE HAD CANCER  SHE HAD TWO BRAIN TUMORS\n"
     ]
    },
    {
     "name": "stdout",
     "output_type": "stream",
     "text": [
      "File 503 of 528\r"
     ]
    },
    {
     "name": "stderr",
     "output_type": "stream",
     "text": [
      "[2025-01-20 01:29:12,998][835302387.py][line:31][INFO] Transcription of file 504 has been formatted\n",
      "[2025-01-20 01:29:12,998][835302387.py][line:32][INFO] ORIGINAL:  My best friend Heather. She's got a, we have a, we built this like little, there's a park, Prospect Park, and there's like a garden section of it that we set up for her.\n",
      "[2025-01-20 01:29:12,999][835302387.py][line:33][INFO] FORMATTED:  MY BEST FRIEND HEATHER SHE'S GOT A  WE HAVE A  WE BUILT THIS LIKE LITTLE  THERE'S A PARK  PROSPECT PARK  AND THERE'S LIKE A GARDEN SECTION OF IT THAT WE SET UP FOR HER\n"
     ]
    },
    {
     "name": "stdout",
     "output_type": "stream",
     "text": [
      "File 504 of 528\r"
     ]
    },
    {
     "name": "stderr",
     "output_type": "stream",
     "text": [
      "[2025-01-20 01:29:13,624][835302387.py][line:31][INFO] Transcription of file 505 has been formatted\n",
      "[2025-01-20 01:29:13,624][835302387.py][line:32][INFO] ORIGINAL:  She used to have these poetry parties on Memorial Day.\n",
      "[2025-01-20 01:29:13,625][835302387.py][line:33][INFO] FORMATTED:  SHE USED TO HAVE THESE POETRY PARTIES ON MEMORIAL DAY\n"
     ]
    },
    {
     "name": "stdout",
     "output_type": "stream",
     "text": [
      "File 505 of 528\r"
     ]
    },
    {
     "name": "stderr",
     "output_type": "stream",
     "text": [
      "[2025-01-20 01:29:13,929][835302387.py][line:31][INFO] Transcription of file 506 has been formatted\n",
      "[2025-01-20 01:29:13,930][835302387.py][line:32][INFO] ORIGINAL:  Yeah.\n",
      "[2025-01-20 01:29:13,931][835302387.py][line:33][INFO] FORMATTED:  YEAH\n"
     ]
    },
    {
     "name": "stdout",
     "output_type": "stream",
     "text": [
      "File 506 of 528\r"
     ]
    },
    {
     "name": "stderr",
     "output_type": "stream",
     "text": [
      "[2025-01-20 01:29:14,735][835302387.py][line:31][INFO] Transcription of file 507 has been formatted\n",
      "[2025-01-20 01:29:14,736][835302387.py][line:32][INFO] ORIGINAL:  And the last one before she died, I remember she couldn't really stand.\n",
      "[2025-01-20 01:29:14,737][835302387.py][line:33][INFO] FORMATTED:  AND THE LAST ONE BEFORE SHE DIED  I REMEMBER SHE COULDN'T REALLY STAND\n"
     ]
    },
    {
     "name": "stdout",
     "output_type": "stream",
     "text": [
      "File 507 of 528\r"
     ]
    },
    {
     "name": "stderr",
     "output_type": "stream",
     "text": [
      "[2025-01-20 01:29:18,080][835302387.py][line:31][INFO] Transcription of file 508 has been formatted\n",
      "[2025-01-20 01:29:18,080][835302387.py][line:32][INFO] ORIGINAL:  But, I mean, she could, but it was, so I, it was kind of sitting on her feet, like holding her up, and she had these poems she had memorized. I remember looking up, she had curly red hair, and there was this palm tree right behind her, and it's like, it was like, it was crown, you know, growing out of her head. It's cool.\n",
      "[2025-01-20 01:29:18,081][835302387.py][line:33][INFO] FORMATTED:  BUT  I MEAN  SHE COULD  BUT IT WAS  SO I  IT WAS KIND OF SITTING ON HER FEET  LIKE HOLDING HER UP  AND SHE HAD THESE POEMS SHE HAD MEMORIZED I REMEMBER LOOKING UP  SHE HAD CURLY RED HAIR  AND THERE WAS THIS PALM TREE RIGHT BEHIND HER  AND IT'S LIKE  IT WAS LIKE  IT WAS CROWN  YOU KNOW  GROWING OUT OF HER HEAD IT'S COOL\n"
     ]
    },
    {
     "name": "stdout",
     "output_type": "stream",
     "text": [
      "File 508 of 528\r"
     ]
    },
    {
     "name": "stderr",
     "output_type": "stream",
     "text": [
      "[2025-01-20 01:29:19,283][835302387.py][line:31][INFO] Transcription of file 509 has been formatted\n",
      "[2025-01-20 01:29:19,284][835302387.py][line:32][INFO] ORIGINAL:  Some, I guess. She memorized this one, John Donne. It's called Death Be Not Proud. Um...\n",
      "[2025-01-20 01:29:19,285][835302387.py][line:33][INFO] FORMATTED:  SOME  I GUESS SHE MEMORIZED THIS ONE  JOHN DONNE IT'S CALLED DEATH BE NOT PROUD UM\n"
     ]
    },
    {
     "name": "stdout",
     "output_type": "stream",
     "text": [
      "File 509 of 528\r"
     ]
    },
    {
     "name": "stderr",
     "output_type": "stream",
     "text": [
      "[2025-01-20 01:29:19,883][835302387.py][line:31][INFO] Transcription of file 510 has been formatted\n",
      "[2025-01-20 01:29:19,883][835302387.py][line:32][INFO] ORIGINAL:  There's another one. I can't remember.\n",
      "[2025-01-20 01:29:19,884][835302387.py][line:33][INFO] FORMATTED:  THERE'S ANOTHER ONE I CAN'T REMEMBER\n"
     ]
    },
    {
     "name": "stdout",
     "output_type": "stream",
     "text": [
      "File 510 of 528\r"
     ]
    },
    {
     "name": "stderr",
     "output_type": "stream",
     "text": [
      "[2025-01-20 01:29:23,560][835302387.py][line:31][INFO] Transcription of file 511 has been formatted\n",
      "[2025-01-20 01:29:23,561][835302387.py][line:32][INFO] ORIGINAL:  I remember too when we were, she died at UCLA, she had brain surgery and there wasn't much hope to begin with. I gave blood for her surgery, her mom and I before, so we dropped her off in the waiting room and then we were giving blood and came back and she's in her wheelchair, like can hardly do anything, reciting her poetry for these people like in the waiting room. All she needs is a goddamn audience, you know.\n",
      "[2025-01-20 01:29:23,562][835302387.py][line:33][INFO] FORMATTED:  I REMEMBER TOO WHEN WE WERE  SHE DIED AT UCLA  SHE HAD BRAIN SURGERY AND THERE WASN'T MUCH HOPE TO BEGIN WITH I GAVE BLOOD FOR HER SURGERY  HER MOM AND I BEFORE  SO WE DROPPED HER OFF IN THE WAITING ROOM AND THEN WE WERE GIVING BLOOD AND CAME BACK AND SHE'S IN HER WHEELCHAIR  LIKE CAN HARDLY DO ANYTHING  RECITING HER POETRY FOR THESE PEOPLE LIKE IN THE WAITING ROOM ALL SHE NEEDS IS A GODDAMN AUDIENCE  YOU KNOW\n"
     ]
    },
    {
     "name": "stdout",
     "output_type": "stream",
     "text": [
      "File 511 of 528\r"
     ]
    },
    {
     "name": "stderr",
     "output_type": "stream",
     "text": [
      "[2025-01-20 01:29:23,952][835302387.py][line:31][INFO] Transcription of file 512 has been formatted\n",
      "[2025-01-20 01:29:23,953][835302387.py][line:32][INFO] ORIGINAL:  Excuse me?\n",
      "[2025-01-20 01:29:23,954][835302387.py][line:33][INFO] FORMATTED:  EXCUSE ME \n"
     ]
    },
    {
     "name": "stdout",
     "output_type": "stream",
     "text": [
      "File 512 of 528\r"
     ]
    },
    {
     "name": "stderr",
     "output_type": "stream",
     "text": [
      "[2025-01-20 01:29:24,255][835302387.py][line:31][INFO] Transcription of file 513 has been formatted\n",
      "[2025-01-20 01:29:24,256][835302387.py][line:32][INFO] ORIGINAL:  Yeah.\n",
      "[2025-01-20 01:29:24,257][835302387.py][line:33][INFO] FORMATTED:  YEAH\n"
     ]
    },
    {
     "name": "stdout",
     "output_type": "stream",
     "text": [
      "File 513 of 528\r"
     ]
    },
    {
     "name": "stderr",
     "output_type": "stream",
     "text": [
      "[2025-01-20 01:29:24,665][835302387.py][line:31][INFO] Transcription of file 514 has been formatted\n",
      "[2025-01-20 01:29:24,666][835302387.py][line:32][INFO] ORIGINAL:  Is there a problem?\n",
      "[2025-01-20 01:29:24,667][835302387.py][line:33][INFO] FORMATTED:  IS THERE A PROBLEM \n"
     ]
    },
    {
     "name": "stdout",
     "output_type": "stream",
     "text": [
      "File 514 of 528\r"
     ]
    },
    {
     "name": "stderr",
     "output_type": "stream",
     "text": [
      "[2025-01-20 01:29:25,335][835302387.py][line:31][INFO] Transcription of file 515 has been formatted\n",
      "[2025-01-20 01:29:25,336][835302387.py][line:32][INFO] ORIGINAL:  Well, what's the problem? Let me change it.\n",
      "[2025-01-20 01:29:25,338][835302387.py][line:33][INFO] FORMATTED:  WELL  WHAT'S THE PROBLEM  LET ME CHANGE IT\n"
     ]
    },
    {
     "name": "stdout",
     "output_type": "stream",
     "text": [
      "File 515 of 528\r"
     ]
    },
    {
     "name": "stderr",
     "output_type": "stream",
     "text": [
      "[2025-01-20 01:29:25,783][835302387.py][line:31][INFO] Transcription of file 516 has been formatted\n",
      "[2025-01-20 01:29:25,785][835302387.py][line:32][INFO] ORIGINAL:  That's out of control.\n",
      "[2025-01-20 01:29:25,785][835302387.py][line:33][INFO] FORMATTED:  THAT'S OUT OF CONTROL\n"
     ]
    },
    {
     "name": "stdout",
     "output_type": "stream",
     "text": [
      "File 516 of 528\r"
     ]
    },
    {
     "name": "stderr",
     "output_type": "stream",
     "text": [
      "[2025-01-20 01:29:26,600][835302387.py][line:31][INFO] Transcription of file 517 has been formatted\n",
      "[2025-01-20 01:29:26,600][835302387.py][line:32][INFO] ORIGINAL:  Clearly. You know, do you have like a supervisor or something? Yeah.\n",
      "[2025-01-20 01:29:26,601][835302387.py][line:33][INFO] FORMATTED:  CLEARLY YOU KNOW  DO YOU HAVE LIKE A SUPERVISOR OR SOMETHING  YEAH\n"
     ]
    },
    {
     "name": "stdout",
     "output_type": "stream",
     "text": [
      "File 517 of 528\r"
     ]
    },
    {
     "name": "stderr",
     "output_type": "stream",
     "text": [
      "[2025-01-20 01:29:27,115][835302387.py][line:31][INFO] Transcription of file 518 has been formatted\n",
      "[2025-01-20 01:29:27,116][835302387.py][line:32][INFO] ORIGINAL:  It sent shivers up my spine.\n",
      "[2025-01-20 01:29:27,117][835302387.py][line:33][INFO] FORMATTED:  IT SENT SHIVERS UP MY SPINE\n"
     ]
    },
    {
     "name": "stdout",
     "output_type": "stream",
     "text": [
      "File 518 of 528\r"
     ]
    },
    {
     "name": "stderr",
     "output_type": "stream",
     "text": [
      "[2025-01-20 01:29:27,562][835302387.py][line:31][INFO] Transcription of file 519 has been formatted\n",
      "[2025-01-20 01:29:27,563][835302387.py][line:32][INFO] ORIGINAL:  will behave exquisitely.\n",
      "[2025-01-20 01:29:27,565][835302387.py][line:33][INFO] FORMATTED:  WILL BEHAVE EXQUISITELY\n"
     ]
    },
    {
     "name": "stdout",
     "output_type": "stream",
     "text": [
      "File 519 of 528\r"
     ]
    },
    {
     "name": "stderr",
     "output_type": "stream",
     "text": [
      "[2025-01-20 01:29:28,191][835302387.py][line:31][INFO] Transcription of file 520 has been formatted\n",
      "[2025-01-20 01:29:28,193][835302387.py][line:32][INFO] ORIGINAL:  I think I shall do a court curtsy.\n",
      "[2025-01-20 01:29:28,194][835302387.py][line:33][INFO] FORMATTED:  I THINK I SHALL DO A COURT CURTSY\n"
     ]
    },
    {
     "name": "stdout",
     "output_type": "stream",
     "text": [
      "File 520 of 528\r"
     ]
    },
    {
     "name": "stderr",
     "output_type": "stream",
     "text": [
      "[2025-01-20 01:29:28,641][835302387.py][line:31][INFO] Transcription of file 521 has been formatted\n",
      "[2025-01-20 01:29:28,642][835302387.py][line:32][INFO] ORIGINAL:  Yes, meaning just that.\n",
      "[2025-01-20 01:29:28,643][835302387.py][line:33][INFO] FORMATTED:  YES  MEANING JUST THAT\n"
     ]
    },
    {
     "name": "stdout",
     "output_type": "stream",
     "text": [
      "File 521 of 528\r"
     ]
    },
    {
     "name": "stderr",
     "output_type": "stream",
     "text": [
      "[2025-01-20 01:29:29,283][835302387.py][line:31][INFO] Transcription of file 522 has been formatted\n",
      "[2025-01-20 01:29:29,283][835302387.py][line:32][INFO] ORIGINAL:  Don't laugh at me. I'm being serious.\n",
      "[2025-01-20 01:29:29,284][835302387.py][line:33][INFO] FORMATTED:  DON'T LAUGH AT ME I'M BEING SERIOUS\n"
     ]
    },
    {
     "name": "stdout",
     "output_type": "stream",
     "text": [
      "File 522 of 528\r"
     ]
    },
    {
     "name": "stderr",
     "output_type": "stream",
     "text": [
      "[2025-01-20 01:29:29,657][835302387.py][line:31][INFO] Transcription of file 523 has been formatted\n",
      "[2025-01-20 01:29:29,658][835302387.py][line:32][INFO] ORIGINAL:  Who's they?\n",
      "[2025-01-20 01:29:29,659][835302387.py][line:33][INFO] FORMATTED:  WHO'S THEY \n"
     ]
    },
    {
     "name": "stdout",
     "output_type": "stream",
     "text": [
      "File 523 of 528\r"
     ]
    },
    {
     "name": "stderr",
     "output_type": "stream",
     "text": [
      "[2025-01-20 01:29:30,072][835302387.py][line:31][INFO] Transcription of file 524 has been formatted\n",
      "[2025-01-20 01:29:30,073][835302387.py][line:32][INFO] ORIGINAL:  school children. Oh.\n",
      "[2025-01-20 01:29:30,075][835302387.py][line:33][INFO] FORMATTED:  SCHOOL CHILDREN OH\n"
     ]
    },
    {
     "name": "stdout",
     "output_type": "stream",
     "text": [
      "File 524 of 528\r"
     ]
    },
    {
     "name": "stderr",
     "output_type": "stream",
     "text": [
      "[2025-01-20 01:29:30,627][835302387.py][line:31][INFO] Transcription of file 525 has been formatted\n",
      "[2025-01-20 01:29:30,628][835302387.py][line:32][INFO] ORIGINAL:  Oh, Elliot, worms don't pop.\n",
      "[2025-01-20 01:29:30,629][835302387.py][line:33][INFO] FORMATTED:  OH  ELLIOT  WORMS DON'T POP\n"
     ]
    },
    {
     "name": "stdout",
     "output_type": "stream",
     "text": [
      "File 525 of 528\r"
     ]
    },
    {
     "name": "stderr",
     "output_type": "stream",
     "text": [
      "[2025-01-20 01:29:32,024][835302387.py][line:31][INFO] Transcription of file 526 has been formatted\n",
      "[2025-01-20 01:29:32,025][835302387.py][line:32][INFO] ORIGINAL:  Oh, thank you, darling. The same applies to you, too. Except that if you so much as look at another woman, I'll kill you.\n",
      "[2025-01-20 01:29:32,026][835302387.py][line:33][INFO] FORMATTED:  OH  THANK YOU  DARLING THE SAME APPLIES TO YOU  TOO EXCEPT THAT IF YOU SO MUCH AS LOOK AT ANOTHER WOMAN  I'LL KILL YOU\n"
     ]
    },
    {
     "name": "stdout",
     "output_type": "stream",
     "text": [
      "File 526 of 528\r"
     ]
    },
    {
     "name": "stderr",
     "output_type": "stream",
     "text": [
      "[2025-01-20 01:29:32,909][835302387.py][line:31][INFO] Transcription of file 527 has been formatted\n",
      "[2025-01-20 01:29:32,910][835302387.py][line:32][INFO] ORIGINAL:  Oh, Charles! Oh, that was his name. He did Wiggles so beautifully.\n",
      "[2025-01-20 01:29:32,911][835302387.py][line:33][INFO] FORMATTED:  OH  CHARLES  OH  THAT WAS HIS NAME HE DID WIGGLES SO BEAUTIFULLY\n"
     ]
    },
    {
     "name": "stdout",
     "output_type": "stream",
     "text": [
      "File 527 of 528\r"
     ]
    },
    {
     "name": "stderr",
     "output_type": "stream",
     "text": [
      "[2025-01-20 01:29:34,090][835302387.py][line:31][INFO] Transcription of file 528 has been formatted\n",
      "[2025-01-20 01:29:34,091][835302387.py][line:32][INFO] ORIGINAL:  The manager came in, he found us rolling about the floor, biting and scratching like panthers. How utterly, utterly ridiculous.\n",
      "[2025-01-20 01:29:34,092][835302387.py][line:33][INFO] FORMATTED:  THE MANAGER CAME IN  HE FOUND US ROLLING ABOUT THE FLOOR  BITING AND SCRATCHING LIKE PANTHERS HOW UTTERLY  UTTERLY RIDICULOUS\n"
     ]
    },
    {
     "name": "stdout",
     "output_type": "stream",
     "text": [
      "File 528 of 528\r"
     ]
    },
    {
     "name": "stderr",
     "output_type": "stream",
     "text": [
      "[2025-01-20 01:29:34,763][835302387.py][line:31][INFO] Transcription of file 529 has been formatted\n",
      "[2025-01-20 01:29:34,764][835302387.py][line:32][INFO] ORIGINAL:  We were very much younger then. And very much sillier.\n",
      "[2025-01-20 01:29:34,765][835302387.py][line:33][INFO] FORMATTED:  WE WERE VERY MUCH YOUNGER THEN AND VERY MUCH SILLIER\n",
      "[2025-01-20 01:29:34,767][2267696535.py][line:52][INFO] Done processing 528 files\n",
      "[2025-01-20 01:29:34,769][2267696535.py][line:63][INFO] Transcriptions saved to ./fold_0\\test-transcriptions.csv\n"
     ]
    },
    {
     "data": {
      "text/plain": [
       "'./fold_0\\\\test-transcriptions.csv'"
      ]
     },
     "execution_count": 17,
     "metadata": {},
     "output_type": "execute_result"
    }
   ],
   "source": [
    "predict(val_dataframe, 'val')\n",
    "predict(test_dataframe, 'test')"
   ]
  },
  {
   "cell_type": "markdown",
   "id": "7dca6e4d-8bcf-4a31-82d9-81a559502279",
   "metadata": {},
   "source": [
    "## Convert CSV into TXT file\n",
    "- Optional step to convert into TXT file for use in compute_wer.py\n",
    "- This function can also be found in notebooks/TranscriptionFormatter.ipynb, where you can optionaly convert each fold at once"
   ]
  },
  {
   "cell_type": "code",
   "execution_count": 18,
   "id": "8bc49d59-cbca-4eb4-86fb-8cfd0ca9e731",
   "metadata": {
    "tags": []
   },
   "outputs": [],
   "source": [
    "# Input and output file paths\n",
    "input_csv = CSV_FILEPATH  # Replace with your CSV file path"
   ]
  },
  {
   "cell_type": "code",
   "execution_count": 19,
   "id": "26b55b66-748b-4b51-8963-d3654712af37",
   "metadata": {
    "tags": []
   },
   "outputs": [
    {
     "name": "stdout",
     "output_type": "stream",
     "text": [
      "Converted and formatted ./fold_0\\test-transcriptions.csv to ./fold_0/val-transcriptions.txt for use in computing word error rate.\n",
      "Converted and formatted ./fold_0\\test-transcriptions.csv to ./fold_0/test-transcriptions.txt for use in computing word error rate.\n"
     ]
    }
   ],
   "source": [
    "# Open the CSV file and read its content\n",
    "def convert_csv_to_txt(input_csv, output_txt):\n",
    "    with open(input_csv, mode=\"r\", encoding=\"utf-8\") as csv_file:\n",
    "        csv_reader = csv.reader(csv_file)\n",
    "        header = next(csv_reader, None)  # Skip header if present\n",
    "        with open(output_txt, mode=\"w\", encoding=\"utf-8\") as txt_file:\n",
    "            for row in csv_reader:\n",
    "                # Combine ID and Transcript with a space separator\n",
    "                txt_file.write(f\"{row[0]} {row[1]}\\n\")\n",
    "\n",
    "\n",
    "for split in ['val', 'test']:\n",
    "    output_txt = OUTPUT_FOLDER + f\"/{split}-transcriptions.txt\"\n",
    "    convert_csv_to_txt(input_csv, output_txt)\n",
    "    print(f\"Converted and formatted {input_csv} to {output_txt} for use in computing word error rate.\")"
   ]
  }
 ],
 "metadata": {
  "colab": {
   "provenance": []
  },
  "kaggle": {
   "accelerator": "gpu",
   "dataSources": [
    {
     "datasetId": 5782060,
     "sourceId": 9500890,
     "sourceType": "datasetVersion"
    }
   ],
   "dockerImageVersionId": 30787,
   "isGpuEnabled": true,
   "isInternetEnabled": true,
   "language": "python",
   "sourceType": "notebook"
  },
  "kernelspec": {
   "display_name": "AAI3001",
   "language": "python",
   "name": "aai3001"
  },
  "language_info": {
   "codemirror_mode": {
    "name": "ipython",
    "version": 3
   },
   "file_extension": ".py",
   "mimetype": "text/x-python",
   "name": "python",
   "nbconvert_exporter": "python",
   "pygments_lexer": "ipython3",
   "version": "3.11.9"
  }
 },
 "nbformat": 4,
 "nbformat_minor": 5
}
