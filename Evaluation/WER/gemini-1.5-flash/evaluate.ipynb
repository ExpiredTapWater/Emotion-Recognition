{
 "cells": [
  {
   "cell_type": "markdown",
   "id": "c3c9b5c9",
   "metadata": {
    "id": "e36c34af-36e8-483f-90dd-bc10634ebbd2",
    "tags": []
   },
   "source": [
    "## Evaluate.ipynb\n",
    "#### **This notebook evaluates the accuracy of just one model on the IEMOCAP dataset ground truths.**\n",
    "\n",
    "- **Transcription Model (S2T):** gemini-flash-1.5\n",
    "- Source: Google"
   ]
  },
  {
   "cell_type": "markdown",
   "id": "762d5995-95fe-4940-b295-6ab91c446e5c",
   "metadata": {},
   "source": [
    "## Setup"
   ]
  },
  {
   "cell_type": "code",
   "execution_count": 1,
   "id": "82dda0d5-0c4e-4cd6-b171-3d441877cba7",
   "metadata": {},
   "outputs": [],
   "source": [
    "# Run\n",
    "SEED = 22\n",
    "FOLD = 0\n",
    "\n",
    "# Models\n",
    "TRANSCRIPTION_MODEL_NAME = 'models/gemini-1.5-flash'\n",
    "\n",
    "# Flag to enable parsing of arguments when converted to script. Set true after converting\n",
    "PYTHON_SCRIPT = False"
   ]
  },
  {
   "cell_type": "markdown",
   "id": "9068ddfb-a09b-4e82-91b5-a28f5930eb19",
   "metadata": {},
   "source": [
    "### For Conversion to .py file"
   ]
  },
  {
   "cell_type": "code",
   "execution_count": null,
   "id": "8447906f-be18-408b-bdd5-5e47911c6089",
   "metadata": {},
   "outputs": [],
   "source": [
    "if PYTHON_SCRIPT:\n",
    "\n",
    "    import argparse\n",
    "\n",
    "    parser = argparse.ArgumentParser(description=\"\")\n",
    "    parser.add_argument('--seed',default=2021,type=int)\n",
    "    parser.add_argument('--fold',type=int,required=True)\n",
    "    parser.add_argument('--remap',type=bool,required=True)\n",
    "    parser.add_argument('--threshold',type=float,required=False)\n",
    "    parser.add_argument('--mode',required=False)\n",
    "    parser.add_argument('--flip',type=bool,required=False)\n",
    "\n",
    "    # Parse the arguments\n",
    "    args = parser.parse_args()\n",
    "\n",
    "    # Run\n",
    "    SEED = args.seed\n",
    "    FOLD = args.fold\n",
    "    RUN_REMAP = args.remap\n",
    "    THRESHOLD = args.threshold\n",
    "    MODE = args.mode\n",
    "    FLIP = args.flip"
   ]
  },
  {
   "cell_type": "markdown",
   "id": "154e1bde-c41d-4cd2-a994-152060ad0a03",
   "metadata": {},
   "source": [
    "### Folders"
   ]
  },
  {
   "cell_type": "code",
   "execution_count": 2,
   "id": "c23c382c-733f-4299-b748-a92b760bdfa1",
   "metadata": {},
   "outputs": [],
   "source": [
    "# Filepaths\n",
    "OUTPUT_FOLDER = f'./fold_{FOLD}'\n",
    "LOG_OUTPUT = OUTPUT_FOLDER + f'/fold-{FOLD}.log'"
   ]
  },
  {
   "cell_type": "markdown",
   "id": "99b0f670-50ec-4ede-b8bc-0b2af067a327",
   "metadata": {},
   "source": [
    "### Dataset Setup"
   ]
  },
  {
   "cell_type": "code",
   "execution_count": 3,
   "id": "f710661d-9e56-4137-9ed1-f96b8e39f09b",
   "metadata": {
    "tags": []
   },
   "outputs": [],
   "source": [
    "# Dataset\n",
    "TSV = r'C:\\Users\\ChenYi\\Downloads\\AAI3001_Project\\labels\\IEMOCAP_4.tsv'\n",
    "AUDIO_DIRECTORY = r'C:\\Users\\ChenYi\\Downloads\\AAI3001_Project\\small-project\\IEMOCAP_full_release_audio'"
   ]
  },
  {
   "cell_type": "markdown",
   "id": "80069643-074b-4084-bcf5-d6bd2393cc08",
   "metadata": {},
   "source": [
    "### Select GPUs (For multi-GPU setup)"
   ]
  },
  {
   "cell_type": "code",
   "execution_count": 4,
   "id": "914881e1-ae8c-45a2-9b85-0140639b3c4b",
   "metadata": {},
   "outputs": [],
   "source": [
    "import os\n",
    "#os.environ[\"CUDA_VISIBLE_DEVICES\"] = \"0\""
   ]
  },
  {
   "cell_type": "markdown",
   "id": "db9ef3cb-d36c-49fe-ae9a-7321ca2945b5",
   "metadata": {},
   "source": [
    "### Logger"
   ]
  },
  {
   "cell_type": "code",
   "execution_count": 5,
   "id": "fcd59e8e-ec78-4775-9abb-4c599e79306e",
   "metadata": {},
   "outputs": [],
   "source": [
    "import logging\n",
    "def get_logger(filename, verbosity=1, name=None):\n",
    "    level_dict = {0: logging.DEBUG, 1: logging.INFO, 2: logging.WARNING}\n",
    "    formatter = logging.Formatter(\"[%(asctime)s][%(filename)s][line:%(lineno)d][%(levelname)s] %(message)s\")\n",
    "    logger = logging.getLogger(name)\n",
    "    logger.setLevel(level_dict[verbosity])\n",
    "\n",
    "    fh = logging.FileHandler(filename, \"w\")\n",
    "    fh.setFormatter(formatter)                                                                                                                                                                                     \n",
    "    logger.addHandler(fh)                                                                                                                                                                                          \n",
    "                                                                                                                                                                                                                   \n",
    "    sh = logging.StreamHandler()                                                                                                                                                                                   \n",
    "    sh.setFormatter(formatter)                                                                                                                                                                                     \n",
    "    logger.addHandler(sh)                                                                                                                                                                                          \n",
    "                                                                                                                                                                                                                   \n",
    "    return logger\n",
    "os.makedirs(OUTPUT_FOLDER, exist_ok=True)\n",
    "logger = get_logger(LOG_OUTPUT)"
   ]
  },
  {
   "cell_type": "markdown",
   "id": "3eb00abe-4faf-45f1-a0c3-28c6172de5d1",
   "metadata": {},
   "source": [
    "## Imports"
   ]
  },
  {
   "cell_type": "code",
   "execution_count": 6,
   "id": "a1e6792e-53d3-4af3-af88-2da33070c734",
   "metadata": {},
   "outputs": [
    {
     "name": "stderr",
     "output_type": "stream",
     "text": [
      "[2025-01-12 09:07:26,055][config.py][line:54][INFO] PyTorch version 2.4.1+cu124 available.\n",
      "[2025-01-12 09:07:26,058][config.py][line:101][INFO] TensorFlow version 2.18.0 available.\n"
     ]
    }
   ],
   "source": [
    "import google.generativeai as genai\n",
    "import pathlib\n",
    "import time\n",
    "import csv\n",
    "import torch\n",
    "import random\n",
    "import librosa\n",
    "import torchaudio\n",
    "import contractions\n",
    "import torch.nn as nn\n",
    "import pandas as pd\n",
    "import numpy as np\n",
    "import seaborn as sns\n",
    "import matplotlib.pyplot as plt\n",
    "from datasets import Dataset, DatasetDict\n",
    "from torchaudio import functional as audioF\n",
    "from torchaudio.transforms import Resample\n",
    "from torchaudio.compliance import kaldi\n",
    "from torch.utils.data import Dataset, DataLoader\n",
    "from sklearn.metrics import confusion_matrix, classification_report, recall_score, accuracy_score"
   ]
  },
  {
   "cell_type": "markdown",
   "id": "01b93704-f348-4aaf-8bf1-18fd7237bc0d",
   "metadata": {},
   "source": [
    "### Log Details"
   ]
  },
  {
   "cell_type": "code",
   "execution_count": 7,
   "id": "86eaf711-220a-46fa-967c-ca03246db008",
   "metadata": {},
   "outputs": [
    {
     "name": "stderr",
     "output_type": "stream",
     "text": [
      "[2025-01-12 09:07:26,276][475919163.py][line:1][INFO] ----- Parameters -----\n",
      "[2025-01-12 09:07:26,277][475919163.py][line:2][INFO] Seed: 22\n",
      "[2025-01-12 09:07:26,278][475919163.py][line:3][INFO] Fold: 0\n"
     ]
    }
   ],
   "source": [
    "logger.info(\"----- Parameters -----\")\n",
    "logger.info(f\"Seed: {SEED}\")\n",
    "logger.info(f\"Fold: {FOLD}\")"
   ]
  },
  {
   "cell_type": "markdown",
   "id": "e050c689-e0ec-4a01-8eb2-c38c7222069c",
   "metadata": {},
   "source": [
    "### Provided Code"
   ]
  },
  {
   "cell_type": "code",
   "execution_count": 8,
   "id": "273aedcd-5423-4f3b-bddc-530ee08dfb24",
   "metadata": {},
   "outputs": [],
   "source": [
    "class Pad_trunc_wav(nn.Module):\n",
    "    def __init__(self, max_len: int = 6*16000):\n",
    "        super(Pad_trunc_wav, self).__init__()\n",
    "        self.max_len = max_len\n",
    "    def forward(self,x):\n",
    "        shape = x.shape\n",
    "        length = shape[1]\n",
    "        if length < self.max_len:\n",
    "            multiple = self.max_len//length+1\n",
    "            x_tmp = torch.cat((x,)*multiple, axis=1)\n",
    "            x_new = x_tmp[:,0:self.max_len]\n",
    "        else:\n",
    "            x_new = x[:,0:self.max_len]\n",
    "        return x_new"
   ]
  },
  {
   "cell_type": "code",
   "execution_count": 9,
   "id": "90c61650-5d76-4bde-bae6-26ef3f8e75ea",
   "metadata": {},
   "outputs": [],
   "source": [
    "def setup_seed(seed=2021):\n",
    "    torch.manual_seed(seed)\n",
    "    torch.cuda.manual_seed(seed)\n",
    "    torch.cuda.manual_seed_all(seed)\n",
    "    np.random.seed(seed)\n",
    "    random.seed(seed)\n",
    "    torch.backends.cudnn.benchmark = False\n",
    "    torch.backends.cudnn.deterministic = True\n",
    "setup_seed(SEED)"
   ]
  },
  {
   "cell_type": "markdown",
   "id": "4882d066-c8a2-455b-92d3-d34639944e33",
   "metadata": {},
   "source": [
    "### Setup Gemini"
   ]
  },
  {
   "cell_type": "code",
   "execution_count": 10,
   "id": "c287ecca-df96-4cdb-be78-1bb8da46bf1f",
   "metadata": {
    "tags": []
   },
   "outputs": [],
   "source": [
    "genai.configure(api_key=\"\")\n",
    "\n",
    "# Initialize a Gemini model appropriate for your use case.\n",
    "model = genai.GenerativeModel('models/gemini-1.5-flash')"
   ]
  },
  {
   "cell_type": "code",
   "execution_count": 11,
   "id": "f4ce7e50-12d1-46e9-b806-9264a10a8138",
   "metadata": {
    "tags": []
   },
   "outputs": [],
   "source": [
    "prompt = \"Please provide an English transcript of the audio file. If there is an error with the file, or you are not able to transcribe it, respond with a single space character like ' '\"\n",
    "CURRENT_TOKEN_COUNT = 0 # Manually updated entry to keep track of API usage"
   ]
  },
  {
   "cell_type": "code",
   "execution_count": 12,
   "id": "74051fd1-bf90-4e9a-af39-c1597f7f2740",
   "metadata": {},
   "outputs": [
    {
     "name": "stderr",
     "output_type": "stream",
     "text": [
      "[2025-01-12 09:07:26,313][1209516506.py][line:1][INFO] ----- Gemini API -----\n",
      "[2025-01-12 09:07:26,314][1209516506.py][line:2][INFO] Model: models/gemini-1.5-flash\n",
      "[2025-01-12 09:07:26,314][1209516506.py][line:3][INFO] Current Token Count: 167193\n",
      "[2025-01-12 09:07:26,315][1209516506.py][line:4][INFO] --------------------\n"
     ]
    }
   ],
   "source": [
    "logger.info(\"----- Gemini API -----\")\n",
    "logger.info(f\"Model: {TRANSCRIPTION_MODEL_NAME}\")\n",
    "logger.info(f\"Current Token Count: {CURRENT_TOKEN_COUNT}\")\n",
    "logger.info(\"--------------------\")"
   ]
  },
  {
   "cell_type": "markdown",
   "id": "d267a401-d541-40ca-8dfd-a44b1abdd79a",
   "metadata": {},
   "source": [
    "### Dataset & Loading"
   ]
  },
  {
   "cell_type": "code",
   "execution_count": 13,
   "id": "5c61df84-9d17-4a42-a82c-7881921b8b6f",
   "metadata": {},
   "outputs": [],
   "source": [
    "class Mydataset(Dataset):\n",
    "    def __init__(self, mode='train', max_len=6, seed=2021, fold=0, data_path=TSV, audio_dir=AUDIO_DIRECTORY):\n",
    "        self.mode = mode\n",
    "        data_all = pd.read_csv(data_path, sep='\\t')\n",
    "        SpkNames = np.unique(data_all['speaker'])  # ['Ses01F', 'Ses01M', ..., 'Ses05M']\n",
    "        self.data_info = self.split_dataset(data_all, fold, SpkNames, mode)\n",
    "        self.get_audio_dir_path = os.path.join(audio_dir)\n",
    "        self.pad_trunc = Pad_trunc_wav(max_len * 16000)\n",
    "         \n",
    "        # Label encoding\n",
    "        self.label = self.data_info['label'].astype('category').cat.codes.values\n",
    "        self.ClassNames = np.unique(self.data_info['label'])\n",
    "        self.NumClasses = len(self.ClassNames)\n",
    "        self.weight = 1 / torch.tensor([(self.label == i).sum() for i in range(self.NumClasses)]).float()\n",
    "\n",
    "    def get_classname(self):\n",
    "        return self.ClassNames\n",
    "    \n",
    "    # Updated split_dataset function using fold\n",
    "    \n",
    "    def split_dataset(self, df_all, fold, speakers, mode):\n",
    "        \n",
    "        spk_len = len(speakers)\n",
    "        test_idx = np.array(df_all['speaker']==speakers[fold%spk_len])\n",
    "        if fold%2==0:\n",
    "            val_idx = np.array(df_all['speaker']==speakers[(fold+1)%spk_len])\n",
    "        else:\n",
    "            val_idx = np.array(df_all['speaker']==speakers[(fold-1)%spk_len])\n",
    "        train_idx = True^(test_idx+val_idx)\n",
    "        train_data_info = df_all[train_idx].reset_index(drop=True)\n",
    "        val_data_info = df_all[val_idx].reset_index(drop=True)\n",
    "        test_data_info = df_all[test_idx].reset_index(drop=True)\n",
    "\n",
    "        if self.mode == 'train':\n",
    "            data_info = train_data_info\n",
    "        elif self.mode == 'val':\n",
    "            data_info = val_data_info\n",
    "        elif self.mode == 'test':\n",
    "            data_info = test_data_info\n",
    "        else:\n",
    "            data_info = df_all\n",
    "        \n",
    "        logger.info(f\"Mode: {mode} Fold: {fold}\")\n",
    "        return data_info\n",
    "\n",
    "    def pre_process(self, wav):\n",
    "        \n",
    "        if self.mode == 'test': \n",
    "            return wav\n",
    "        else:\n",
    "            wav = self.pad_trunc(wav)\n",
    "            return wav\n",
    "\n",
    "    def __len__(self):\n",
    "        return len(self.data_info)\n",
    "\n",
    "    def __getitem__(self, idx):\n",
    "        # Load the raw waveform from file using data_info to get filenames\n",
    "        wav_path = os.path.join(self.get_audio_dir_path, self.data_info['filename'][idx]) + '.wav'\n",
    "        wav, sample_rate = torchaudio.load(wav_path)\n",
    "\n",
    "        # Preprocess the waveform (e.g., pad/truncate if needed)\n",
    "        wav = self.pre_process(wav)\n",
    "\n",
    "        # Apply Wav2Vec2 feature extractor\n",
    "        inputs = feature_extractor(\n",
    "            wav.squeeze().numpy(),  # Convert PyTorch tensor to numpy array\n",
    "            sampling_rate=sample_rate,\n",
    "            return_tensors=\"pt\",  # Return PyTorch tensors\n",
    "            padding=True  # Optionally pad to a fixed length\n",
    "        )\n",
    "\n",
    "        label = self.label[idx]\n",
    "\n",
    "        # Return the processed input values and the label\n",
    "        return {\n",
    "            'input_values': inputs['input_values'].squeeze(0),  # Remove extra batch dimension\n",
    "            'labels': torch.tensor(label, dtype=torch.long)}"
   ]
  },
  {
   "cell_type": "code",
   "execution_count": 14,
   "id": "81905e24-6e30-4ac3-9187-132aab58d7d9",
   "metadata": {},
   "outputs": [
    {
     "name": "stderr",
     "output_type": "stream",
     "text": [
      "[2025-01-12 09:07:26,345][1700717295.py][line:43][INFO] Mode: test Fold: 0\n",
      "[2025-01-12 09:07:26,347][1146238807.py][line:4][INFO] Dataset Loaded\n"
     ]
    }
   ],
   "source": [
    "# Instantiate datasets\n",
    "test_dataset = Mydataset(mode='test', max_len=6, fold=FOLD)\n",
    "\n",
    "logger.info(\"Dataset Loaded\")"
   ]
  },
  {
   "cell_type": "code",
   "execution_count": 15,
   "id": "1bc062c2-432e-4e44-9cc8-d51339176b5e",
   "metadata": {},
   "outputs": [],
   "source": [
    "# Put test information into a dataframe for later use\n",
    "data_info = test_dataset.data_info\n",
    "test_dataframe = data_info[['filename', 'label']].copy()\n",
    "test_dataframe['filepath'] = test_dataframe['filename'].apply(\n",
    "    lambda x: os.path.join(test_dataset.get_audio_dir_path, f\"{x}.wav\"))"
   ]
  },
  {
   "cell_type": "markdown",
   "id": "b530b91c-7c90-42b7-a270-9ecd3f831a7a",
   "metadata": {},
   "source": [
    "## Perform Inference and Obtain Transcriptions"
   ]
  },
  {
   "cell_type": "markdown",
   "id": "22aa70b8-021a-4ec5-98ca-f282e2e470ef",
   "metadata": {},
   "source": [
    "#### Function to clean up transcription to match what is required for compute_wer.py\n",
    "- Remove full stop\n",
    "- Remove all punctuations except apostrophe\n",
    "- Change all to UPPERCASE"
   ]
  },
  {
   "cell_type": "code",
   "execution_count": 16,
   "id": "ec548ad2-b17a-42cd-9de5-73f06f24231b",
   "metadata": {
    "tags": []
   },
   "outputs": [],
   "source": [
    "def format_transcription(ID, count, text):\n",
    "    \n",
    "    original_text = text  # Store the original text for comparison\n",
    "    \n",
    "    # Remove all non-ASCII characters\n",
    "    clean_text = ''.join(c for c in text if ord(c) < 128)\n",
    "    \n",
    "    # 2. Remove full stops (periods)\n",
    "    clean_text = clean_text.replace('.', '')\n",
    "    \n",
    "    # 3. Remove all punctuations except apostrophes\n",
    "    #    (everything that is not alphanumeric or apostrophe => replaced by space)\n",
    "    clean_text = ''.join(char if char.isalnum() or char == \"'\" else ' ' \n",
    "                         for char in clean_text)\n",
    "    \n",
    "    # 4. Convert to uppercase\n",
    "    clean_text = clean_text.upper()\n",
    "\n",
    "    # Alert if any formatting was done\n",
    "    # (i.e., if the final clean_text differs from the *original*, unmodified text)\n",
    "    if clean_text != original_text:\n",
    "        logger.info(f\"Transcription of file {count} '{ID}' has been formatted\")\n",
    "        logger.info(f\"ORIGINAL: {original_text}\")\n",
    "        logger.info(f\"FORMATTED: {clean_text}\")\n",
    "    \n",
    "    return clean_text"
   ]
  },
  {
   "cell_type": "code",
   "execution_count": 17,
   "id": "50d944a7-561c-4c82-88c9-a5843f4b3b5d",
   "metadata": {},
   "outputs": [],
   "source": [
    "def predict(test_dataframe):\n",
    "\n",
    "    results = []\n",
    "    total = test_dataframe.shape[0]\n",
    "    count = 1\n",
    "    total_tokens = CURRENT_TOKEN_COUNT\n",
    "\n",
    "    # Iterate over each audio file in the test folder\n",
    "    for index, row in test_dataframe.iterrows():\n",
    "\n",
    "        # Display progress\n",
    "        print(f'File {count} of {total}', end='\\r')\n",
    "        count += 1\n",
    "\n",
    "        # Get audio filename\n",
    "        filename = row['filename'] + '.wav'\n",
    "        audio_file = os.path.join(AUDIO_DIRECTORY, filename)\n",
    "        \n",
    "        response = model.generate_content([\n",
    "            prompt,\n",
    "            {\n",
    "                \"mime_type\": \"audio/wav\",\n",
    "                \"data\": pathlib.Path(audio_file).read_bytes()\n",
    "            }\n",
    "        ])\n",
    "        \n",
    "        total_token_count = response.usage_metadata.total_token_count\n",
    "        total_tokens += total_token_count\n",
    "        \n",
    "        text = response.candidates[0].content.parts[0].text\n",
    "        \n",
    "        #print(f\"[Total Tokens Used] {total_tokens}\")\n",
    "        #print(f\"[Text] {text}\")\n",
    "        \n",
    "        # Perform cleaning\n",
    "        formatted_transcription = format_transcription(filename, count, text)\n",
    "\n",
    "        # Extract the filename without the extension\n",
    "        filename = os.path.splitext(os.path.basename(audio_file))[0]\n",
    "\n",
    "        # Append the result to the list\n",
    "        results.append([filename,\n",
    "                        formatted_transcription])\n",
    "        \n",
    "        # Log tokens usage\n",
    "        if (count%55 == 0):\n",
    "            logger.info(f\"------ Gemini API Usage Metrics ------\")\n",
    "            logger.info(f\"[Files Processed] {count} of {total}\")\n",
    "            logger.info(f\"[Total Tokens] {total_tokens}\")\n",
    "            logger.info(f\"--------------------------------------\")\n",
    "            \n",
    "\n",
    "    logger.info(f\"Done processing {total} files\")\n",
    "    \n",
    "    logger.info(f\"------ Gemini API Usage Metrics ------\")\n",
    "    logger.info(f\"[Files Processed] {count-1} of {total}\")\n",
    "    logger.info(f\"[Total Tokens] {total_tokens}\")\n",
    "    logger.info(f\"--------------------------------------\")\n",
    "\n",
    "    # Write the results to a CSV file\n",
    "    global CSV_FILEPATH\n",
    "    CSV_FILEPATH = os.path.join(OUTPUT_FOLDER, \"transcriptions.csv\")\n",
    "\n",
    "    with open(CSV_FILEPATH, 'w', newline='') as csvfile:\n",
    "        writer = csv.writer(csvfile)\n",
    "        writer.writerow(['ID', 'transcription'])\n",
    "        writer.writerows(results)\n",
    "\n",
    "    logger.info(f\"Transcriptions saved to {CSV_FILEPATH}\")\n",
    "    return CSV_FILEPATH"
   ]
  },
  {
   "cell_type": "code",
   "execution_count": 18,
   "id": "d251a5c1-56c8-4e69-a07c-ba5d4672ee46",
   "metadata": {},
   "outputs": [
    {
     "name": "stdout",
     "output_type": "stream",
     "text": [
      "File 1 of 528\r"
     ]
    },
    {
     "name": "stderr",
     "output_type": "stream",
     "text": [
      "[2025-01-12 09:07:28,259][850594287.py][line:22][INFO] Transcription of file Ses01F_script01_3_F000.wav has been formatted\n",
      "[2025-01-12 09:07:28,260][850594287.py][line:23][INFO] ORIGINAL: You're the only one who still loves his parents.\n",
      "\n",
      "[2025-01-12 09:07:28,261][850594287.py][line:24][INFO] FORMATTED: YOU'RE THE ONLY ONE WHO STILL LOVES HIS PARENTS \n"
     ]
    },
    {
     "name": "stdout",
     "output_type": "stream",
     "text": [
      "File 2 of 528\r"
     ]
    },
    {
     "name": "stderr",
     "output_type": "stream",
     "text": [
      "[2025-01-12 09:07:29,299][850594287.py][line:22][INFO] Transcription of file Ses01F_script01_3_F001.wav has been formatted\n",
      "[2025-01-12 09:07:29,300][850594287.py][line:23][INFO] ORIGINAL: It's not so bad.  It's a good thing.\n",
      "\n",
      "[2025-01-12 09:07:29,300][850594287.py][line:24][INFO] FORMATTED: IT'S NOT SO BAD  IT'S A GOOD THING \n"
     ]
    },
    {
     "name": "stdout",
     "output_type": "stream",
     "text": [
      "File 3 of 528\r"
     ]
    },
    {
     "name": "stderr",
     "output_type": "stream",
     "text": [
      "[2025-01-12 09:07:30,503][850594287.py][line:22][INFO] Transcription of file Ses01F_script01_3_F002.wav has been formatted\n",
      "[2025-01-12 09:07:30,504][850594287.py][line:23][INFO] ORIGINAL: You know, it's lovely here. The air is sweet.\n",
      "\n",
      "[2025-01-12 09:07:30,505][850594287.py][line:24][INFO] FORMATTED: YOU KNOW  IT'S LOVELY HERE THE AIR IS SWEET \n"
     ]
    },
    {
     "name": "stdout",
     "output_type": "stream",
     "text": [
      "File 4 of 528\r"
     ]
    },
    {
     "name": "stderr",
     "output_type": "stream",
     "text": [
      "[2025-01-12 09:07:31,674][850594287.py][line:22][INFO] Transcription of file Ses01F_script01_3_F003.wav has been formatted\n",
      "[2025-01-12 09:07:31,675][850594287.py][line:23][INFO] ORIGINAL: I'm sorry, no.  But I'm I can't stay.\n",
      "\n",
      "[2025-01-12 09:07:31,675][850594287.py][line:24][INFO] FORMATTED: I'M SORRY  NO  BUT I'M I CAN'T STAY \n"
     ]
    },
    {
     "name": "stdout",
     "output_type": "stream",
     "text": [
      "File 5 of 528\r"
     ]
    },
    {
     "name": "stderr",
     "output_type": "stream",
     "text": [
      "[2025-01-12 09:07:32,646][850594287.py][line:22][INFO] Transcription of file Ses01F_script01_3_F004.wav has been formatted\n",
      "[2025-01-12 09:07:32,647][850594287.py][line:23][INFO] ORIGINAL: For one thing, your mother most assuredly told me to go.\n",
      "\n",
      "[2025-01-12 09:07:32,648][850594287.py][line:24][INFO] FORMATTED: FOR ONE THING  YOUR MOTHER MOST ASSUREDLY TOLD ME TO GO \n"
     ]
    },
    {
     "name": "stdout",
     "output_type": "stream",
     "text": [
      "File 6 of 528\r"
     ]
    },
    {
     "name": "stderr",
     "output_type": "stream",
     "text": [
      "[2025-01-12 09:07:33,680][850594287.py][line:22][INFO] Transcription of file Ses01F_script01_3_F005.wav has been formatted\n",
      "[2025-01-12 09:07:33,683][850594287.py][line:23][INFO] ORIGINAL: And then you you've been kind of  beep beep beep\n",
      "\n",
      "[2025-01-12 09:07:33,684][850594287.py][line:24][INFO] FORMATTED: AND THEN YOU YOU'VE BEEN KIND OF  BEEP BEEP BEEP \n"
     ]
    },
    {
     "name": "stdout",
     "output_type": "stream",
     "text": [
      "File 7 of 528\r"
     ]
    },
    {
     "name": "stderr",
     "output_type": "stream",
     "text": [
      "[2025-01-12 09:07:34,729][850594287.py][line:22][INFO] Transcription of file Ses01F_script01_3_F006.wav has been formatted\n",
      "[2025-01-12 09:07:34,729][850594287.py][line:23][INFO] ORIGINAL: I've sort of embarrassed ever since I got here.\n",
      "\n",
      "[2025-01-12 09:07:34,730][850594287.py][line:24][INFO] FORMATTED: I'VE SORT OF EMBARRASSED EVER SINCE I GOT HERE \n"
     ]
    },
    {
     "name": "stdout",
     "output_type": "stream",
     "text": [
      "File 8 of 528\r"
     ]
    },
    {
     "name": "stderr",
     "output_type": "stream",
     "text": [
      "[2025-01-12 09:07:35,620][850594287.py][line:22][INFO] Transcription of file Ses01F_script01_3_F007.wav has been formatted\n",
      "[2025-01-12 09:07:35,621][850594287.py][line:23][INFO] ORIGINAL: Hmm, I knew they would.\n",
      "\n",
      "[2025-01-12 09:07:35,622][850594287.py][line:24][INFO] FORMATTED: HMM  I KNEW THEY WOULD \n"
     ]
    },
    {
     "name": "stdout",
     "output_type": "stream",
     "text": [
      "File 9 of 528\r"
     ]
    },
    {
     "name": "stderr",
     "output_type": "stream",
     "text": [
      "[2025-01-12 09:07:36,808][850594287.py][line:22][INFO] Transcription of file Ses01F_script01_3_F008.wav has been formatted\n",
      "[2025-01-12 09:07:36,810][850594287.py][line:23][INFO] ORIGINAL: Well, sure, from your mother's point of view.  Why else would I come?\n",
      "\n",
      "[2025-01-12 09:07:36,811][850594287.py][line:24][INFO] FORMATTED: WELL  SURE  FROM YOUR MOTHER'S POINT OF VIEW  WHY ELSE WOULD I COME  \n"
     ]
    },
    {
     "name": "stdout",
     "output_type": "stream",
     "text": [
      "File 10 of 528\r"
     ]
    },
    {
     "name": "stderr",
     "output_type": "stream",
     "text": [
      "[2025-01-12 09:07:37,965][850594287.py][line:22][INFO] Transcription of file Ses01F_script01_3_F009.wav has been formatted\n",
      "[2025-01-12 09:07:37,966][850594287.py][line:23][INFO] ORIGINAL: I I mean I guess this I guess that's kind of why I came.\n",
      "\n",
      "[2025-01-12 09:07:37,967][850594287.py][line:24][INFO] FORMATTED: I I MEAN I GUESS THIS I GUESS THAT'S KIND OF WHY I CAME \n"
     ]
    },
    {
     "name": "stdout",
     "output_type": "stream",
     "text": [
      "File 11 of 528\r"
     ]
    },
    {
     "name": "stderr",
     "output_type": "stream",
     "text": [
      "[2025-01-12 09:07:38,640][850594287.py][line:22][INFO] Transcription of file Ses01F_script01_3_F010.wav has been formatted\n",
      "[2025-01-12 09:07:38,642][850594287.py][line:23][INFO] ORIGINAL:  \n",
      "\n",
      "[2025-01-12 09:07:38,643][850594287.py][line:24][INFO] FORMATTED:  \n"
     ]
    },
    {
     "name": "stdout",
     "output_type": "stream",
     "text": [
      "File 12 of 528\r"
     ]
    },
    {
     "name": "stderr",
     "output_type": "stream",
     "text": [
      "[2025-01-12 09:07:39,508][850594287.py][line:22][INFO] Transcription of file Ses01F_script01_3_F011.wav has been formatted\n",
      "[2025-01-12 09:07:39,510][850594287.py][line:23][INFO] ORIGINAL:  \n",
      "\n",
      "[2025-01-12 09:07:39,512][850594287.py][line:24][INFO] FORMATTED:  \n"
     ]
    },
    {
     "name": "stdout",
     "output_type": "stream",
     "text": [
      "File 13 of 528\r"
     ]
    },
    {
     "name": "stderr",
     "output_type": "stream",
     "text": [
      "[2025-01-12 09:07:40,438][850594287.py][line:22][INFO] Transcription of file Ses01F_script01_3_F012.wav has been formatted\n",
      "[2025-01-12 09:07:40,439][850594287.py][line:23][INFO] ORIGINAL:  \n",
      "\n",
      "[2025-01-12 09:07:40,439][850594287.py][line:24][INFO] FORMATTED:  \n"
     ]
    },
    {
     "name": "stdout",
     "output_type": "stream",
     "text": [
      "File 14 of 528\r"
     ]
    },
    {
     "name": "stderr",
     "output_type": "stream",
     "text": [
      "[2025-01-12 09:07:41,196][850594287.py][line:22][INFO] Transcription of file Ses01F_script01_3_F013.wav has been formatted\n",
      "[2025-01-12 09:07:41,198][850594287.py][line:23][INFO] ORIGINAL: No, no.\n",
      "\n",
      "[2025-01-12 09:07:41,199][850594287.py][line:24][INFO] FORMATTED: NO  NO \n"
     ]
    },
    {
     "name": "stdout",
     "output_type": "stream",
     "text": [
      "File 15 of 528\r"
     ]
    },
    {
     "name": "stderr",
     "output_type": "stream",
     "text": [
      "[2025-01-12 09:07:42,199][850594287.py][line:22][INFO] Transcription of file Ses01F_script01_3_F014.wav has been formatted\n",
      "[2025-01-12 09:07:42,202][850594287.py][line:23][INFO] ORIGINAL: Chris, I've been ready a long, long time.\n",
      "\n",
      "[2025-01-12 09:07:42,203][850594287.py][line:24][INFO] FORMATTED: CHRIS  I'VE BEEN READY A LONG  LONG TIME \n"
     ]
    },
    {
     "name": "stdout",
     "output_type": "stream",
     "text": [
      "File 16 of 528\r"
     ]
    },
    {
     "name": "stderr",
     "output_type": "stream",
     "text": [
      "[2025-01-12 09:07:43,138][850594287.py][line:22][INFO] Transcription of file Ses01F_script01_3_F015.wav has been formatted\n",
      "[2025-01-12 09:07:43,139][850594287.py][line:23][INFO] ORIGINAL: I almost got married two years ago.\n",
      "\n",
      "[2025-01-12 09:07:43,140][850594287.py][line:24][INFO] FORMATTED: I ALMOST GOT MARRIED TWO YEARS AGO \n"
     ]
    },
    {
     "name": "stdout",
     "output_type": "stream",
     "text": [
      "File 17 of 528\r"
     ]
    },
    {
     "name": "stderr",
     "output_type": "stream",
     "text": [
      "[2025-01-12 09:07:44,029][850594287.py][line:22][INFO] Transcription of file Ses01F_script01_3_F016.wav has been formatted\n",
      "[2025-01-12 09:07:44,031][850594287.py][line:23][INFO] ORIGINAL: You started to write me?\n",
      "\n",
      "[2025-01-12 09:07:44,031][850594287.py][line:24][INFO] FORMATTED: YOU STARTED TO WRITE ME  \n"
     ]
    },
    {
     "name": "stdout",
     "output_type": "stream",
     "text": [
      "File 18 of 528\r"
     ]
    },
    {
     "name": "stderr",
     "output_type": "stream",
     "text": [
      "[2025-01-12 09:07:44,839][850594287.py][line:22][INFO] Transcription of file Ses01F_script01_3_F017.wav has been formatted\n",
      "[2025-01-12 09:07:44,842][850594287.py][line:23][INFO] ORIGINAL: Every day since.\n",
      "\n",
      "[2025-01-12 09:07:44,843][850594287.py][line:24][INFO] FORMATTED: EVERY DAY SINCE \n"
     ]
    },
    {
     "name": "stdout",
     "output_type": "stream",
     "text": [
      "File 19 of 528\r"
     ]
    },
    {
     "name": "stderr",
     "output_type": "stream",
     "text": [
      "[2025-01-12 09:07:45,751][850594287.py][line:22][INFO] Transcription of file Ses01F_script01_3_F019.wav has been formatted\n",
      "[2025-01-12 09:07:45,752][850594287.py][line:23][INFO] ORIGINAL: Beating around the bush.\n",
      "\n",
      "[2025-01-12 09:07:45,754][850594287.py][line:24][INFO] FORMATTED: BEATING AROUND THE BUSH \n"
     ]
    },
    {
     "name": "stdout",
     "output_type": "stream",
     "text": [
      "File 20 of 528\r"
     ]
    },
    {
     "name": "stderr",
     "output_type": "stream",
     "text": [
      "[2025-01-12 09:07:46,914][850594287.py][line:22][INFO] Transcription of file Ses01F_script01_3_F020.wav has been formatted\n",
      "[2025-01-12 09:07:46,915][850594287.py][line:23][INFO] ORIGINAL: I will never forgive you. All I done was sit around wondering if I was crazy, waiting so long, wondering if you were thinking about me. You're gonna leave?\n",
      "\n",
      "[2025-01-12 09:07:46,916][850594287.py][line:24][INFO] FORMATTED: I WILL NEVER FORGIVE YOU ALL I DONE WAS SIT AROUND WONDERING IF I WAS CRAZY  WAITING SO LONG  WONDERING IF YOU WERE THINKING ABOUT ME YOU'RE GONNA LEAVE  \n"
     ]
    },
    {
     "name": "stdout",
     "output_type": "stream",
     "text": [
      "File 21 of 528\r"
     ]
    },
    {
     "name": "stderr",
     "output_type": "stream",
     "text": [
      "[2025-01-12 09:07:47,947][850594287.py][line:22][INFO] Transcription of file Ses01F_script01_3_F021.wav has been formatted\n",
      "[2025-01-12 09:07:47,949][850594287.py][line:23][INFO] ORIGINAL: I like that you're not\n",
      "\n",
      "[2025-01-12 09:07:47,951][850594287.py][line:24][INFO] FORMATTED: I LIKE THAT YOU'RE NOT \n"
     ]
    },
    {
     "name": "stdout",
     "output_type": "stream",
     "text": [
      "File 22 of 528\r"
     ]
    },
    {
     "name": "stderr",
     "output_type": "stream",
     "text": [
      "[2025-01-12 09:07:49,066][850594287.py][line:22][INFO] Transcription of file Ses01F_script01_3_F022.wav has been formatted\n",
      "[2025-01-12 09:07:49,067][850594287.py][line:23][INFO] ORIGINAL: like Larry's brother.  Do it like you Chris.\n",
      "\n",
      "[2025-01-12 09:07:49,068][850594287.py][line:24][INFO] FORMATTED: LIKE LARRY'S BROTHER  DO IT LIKE YOU CHRIS \n"
     ]
    },
    {
     "name": "stdout",
     "output_type": "stream",
     "text": [
      "File 23 of 528\r"
     ]
    },
    {
     "name": "stderr",
     "output_type": "stream",
     "text": [
      "[2025-01-12 09:07:49,962][850594287.py][line:22][INFO] Transcription of file Ses01F_script01_3_F028.wav has been formatted\n",
      "[2025-01-12 09:07:49,964][850594287.py][line:23][INFO] ORIGINAL: Yeah, sure.\n",
      "\n",
      "[2025-01-12 09:07:49,966][850594287.py][line:24][INFO] FORMATTED: YEAH  SURE \n"
     ]
    },
    {
     "name": "stdout",
     "output_type": "stream",
     "text": [
      "File 24 of 528\r"
     ]
    },
    {
     "name": "stderr",
     "output_type": "stream",
     "text": [
      "[2025-01-12 09:07:50,846][850594287.py][line:22][INFO] Transcription of file Ses01F_script01_3_F029.wav has been formatted\n",
      "[2025-01-12 09:07:50,848][850594287.py][line:23][INFO] ORIGINAL: How many?  P p p p p\n",
      "\n",
      "[2025-01-12 09:07:50,849][850594287.py][line:24][INFO] FORMATTED: HOW MANY   P P P P P \n",
      "[2025-01-12 09:07:50,850][2649188033.py][line:47][INFO] ------ Gemini API Usage Metrics ------\n",
      "[2025-01-12 09:07:50,851][2649188033.py][line:48][INFO] [Files Processed] 25 of 528\n",
      "[2025-01-12 09:07:50,852][2649188033.py][line:49][INFO] [Total Tokens] 171695\n",
      "[2025-01-12 09:07:50,853][2649188033.py][line:50][INFO] --------------------------------------\n"
     ]
    },
    {
     "name": "stdout",
     "output_type": "stream",
     "text": [
      "File 25 of 528\r"
     ]
    },
    {
     "name": "stderr",
     "output_type": "stream",
     "text": [
      "[2025-01-12 09:07:56,748][850594287.py][line:22][INFO] Transcription of file Ses01F_script01_3_F030.wav has been formatted\n",
      "[2025-01-12 09:07:56,750][850594287.py][line:23][INFO] ORIGINAL: Uh, jeez.  Beep beep.\n",
      "\n",
      "[2025-01-12 09:07:56,751][850594287.py][line:24][INFO] FORMATTED: UH  JEEZ  BEEP BEEP \n"
     ]
    },
    {
     "name": "stdout",
     "output_type": "stream",
     "text": [
      "File 26 of 528\r"
     ]
    },
    {
     "name": "stderr",
     "output_type": "stream",
     "text": [
      "[2025-01-12 09:07:57,405][850594287.py][line:22][INFO] Transcription of file Ses01F_script01_3_F031.wav has been formatted\n",
      "[2025-01-12 09:07:57,405][850594287.py][line:23][INFO] ORIGINAL:  \n",
      "\n",
      "[2025-01-12 09:07:57,406][850594287.py][line:24][INFO] FORMATTED:  \n"
     ]
    },
    {
     "name": "stdout",
     "output_type": "stream",
     "text": [
      "File 27 of 528\r"
     ]
    },
    {
     "name": "stderr",
     "output_type": "stream",
     "text": [
      "[2025-01-12 09:07:58,369][850594287.py][line:22][INFO] Transcription of file Ses01F_script01_3_F035.wav has been formatted\n",
      "[2025-01-12 09:07:58,370][850594287.py][line:23][INFO] ORIGINAL: What would I do with a fortune?\n",
      "\n",
      "[2025-01-12 09:07:58,371][850594287.py][line:24][INFO] FORMATTED: WHAT WOULD I DO WITH A FORTUNE  \n"
     ]
    },
    {
     "name": "stdout",
     "output_type": "stream",
     "text": [
      "File 28 of 528\r"
     ]
    },
    {
     "name": "stderr",
     "output_type": "stream",
     "text": [
      "[2025-01-12 09:07:59,499][850594287.py][line:22][INFO] Transcription of file Ses01F_script03_2_F000.wav has been formatted\n",
      "[2025-01-12 09:07:59,500][850594287.py][line:23][INFO] ORIGINAL: Oh, I'm very much sillier.\n",
      "Ah.\n",
      "P\n",
      "P\n",
      "P\n",
      "\n",
      "[2025-01-12 09:07:59,503][850594287.py][line:24][INFO] FORMATTED: OH  I'M VERY MUCH SILLIER AH P P P \n"
     ]
    },
    {
     "name": "stdout",
     "output_type": "stream",
     "text": [
      "File 29 of 528\r"
     ]
    },
    {
     "name": "stderr",
     "output_type": "stream",
     "text": [
      "[2025-01-12 09:08:00,444][850594287.py][line:22][INFO] Transcription of file Ses01F_script03_2_F001.wav has been formatted\n",
      "[2025-01-12 09:08:00,444][850594287.py][line:23][INFO] ORIGINAL: Oh, you knew there was nothing in that.\n",
      "\n",
      "[2025-01-12 09:08:00,446][850594287.py][line:24][INFO] FORMATTED: OH  YOU KNEW THERE WAS NOTHING IN THAT \n"
     ]
    },
    {
     "name": "stdout",
     "output_type": "stream",
     "text": [
      "File 30 of 528\r"
     ]
    },
    {
     "name": "stderr",
     "output_type": "stream",
     "text": [
      "[2025-01-12 09:08:01,432][850594287.py][line:22][INFO] Transcription of file Ses01F_script03_2_F002.wav has been formatted\n",
      "[2025-01-12 09:08:01,433][850594287.py][line:23][INFO] ORIGINAL: A present? There's only a trivial little brooch.\n",
      "\n",
      "[2025-01-12 09:08:01,433][850594287.py][line:24][INFO] FORMATTED: A PRESENT  THERE'S ONLY A TRIVIAL LITTLE BROOCH \n"
     ]
    },
    {
     "name": "stdout",
     "output_type": "stream",
     "text": [
      "File 31 of 528\r"
     ]
    },
    {
     "name": "stderr",
     "output_type": "stream",
     "text": [
      "[2025-01-12 09:08:02,397][850594287.py][line:22][INFO] Transcription of file Ses01F_script03_2_F004.wav has been formatted\n",
      "[2025-01-12 09:08:02,399][850594287.py][line:23][INFO] ORIGINAL: I did not! You worked that whole thing up in your jealous imagination.\n",
      "\n",
      "[2025-01-12 09:08:02,400][850594287.py][line:24][INFO] FORMATTED: I DID NOT  YOU WORKED THAT WHOLE THING UP IN YOUR JEALOUS IMAGINATION \n"
     ]
    },
    {
     "name": "stdout",
     "output_type": "stream",
     "text": [
      "File 32 of 528\r"
     ]
    },
    {
     "name": "stderr",
     "output_type": "stream",
     "text": [
      "[2025-01-12 09:08:03,264][850594287.py][line:22][INFO] Transcription of file Ses01F_script03_2_F005.wav has been formatted\n",
      "[2025-01-12 09:08:03,265][850594287.py][line:23][INFO] ORIGINAL: Well, what of it?\n",
      "\n",
      "[2025-01-12 09:08:03,265][850594287.py][line:24][INFO] FORMATTED: WELL  WHAT OF IT  \n"
     ]
    },
    {
     "name": "stdout",
     "output_type": "stream",
     "text": [
      "File 33 of 528\r"
     ]
    },
    {
     "name": "stderr",
     "output_type": "stream",
     "text": [
      "[2025-01-12 09:08:04,236][850594287.py][line:22][INFO] Transcription of file Ses01F_script03_2_F013.wav has been formatted\n",
      "[2025-01-12 09:08:04,237][850594287.py][line:23][INFO] ORIGINAL: You don't be stupid.  Ppppppp\n",
      "\n",
      "[2025-01-12 09:08:04,238][850594287.py][line:24][INFO] FORMATTED: YOU DON'T BE STUPID  PPPPPPP \n"
     ]
    },
    {
     "name": "stdout",
     "output_type": "stream",
     "text": [
      "File 34 of 528\r"
     ]
    },
    {
     "name": "stderr",
     "output_type": "stream",
     "text": [
      "[2025-01-12 09:08:05,117][850594287.py][line:22][INFO] Transcription of file Ses01F_script03_2_F014.wav has been formatted\n",
      "[2025-01-12 09:08:05,118][850594287.py][line:23][INFO] ORIGINAL: What?  Ppppppp\n",
      "\n",
      "[2025-01-12 09:08:05,119][850594287.py][line:24][INFO] FORMATTED: WHAT   PPPPPPP \n"
     ]
    },
    {
     "name": "stdout",
     "output_type": "stream",
     "text": [
      "File 35 of 528\r"
     ]
    },
    {
     "name": "stderr",
     "output_type": "stream",
     "text": [
      "[2025-01-12 09:08:06,105][850594287.py][line:22][INFO] Transcription of file Ses01F_script03_2_F015.wav has been formatted\n",
      "[2025-01-12 09:08:06,106][850594287.py][line:23][INFO] ORIGINAL: No, I'm just making myself fascinating for you.\n",
      "\n",
      "[2025-01-12 09:08:06,107][850594287.py][line:24][INFO] FORMATTED: NO  I'M JUST MAKING MYSELF FASCINATING FOR YOU \n"
     ]
    },
    {
     "name": "stdout",
     "output_type": "stream",
     "text": [
      "File 36 of 528\r"
     ]
    },
    {
     "name": "stderr",
     "output_type": "stream",
     "text": [
      "[2025-01-12 09:08:07,117][850594287.py][line:22][INFO] Transcription of file Ses01F_script03_2_F016.wav has been formatted\n",
      "[2025-01-12 09:08:07,118][850594287.py][line:23][INFO] ORIGINAL: Oh, it's a woman's duty to allure the man.\n",
      "\n",
      "[2025-01-12 09:08:07,118][850594287.py][line:24][INFO] FORMATTED: OH  IT'S A WOMAN'S DUTY TO ALLURE THE MAN \n"
     ]
    },
    {
     "name": "stdout",
     "output_type": "stream",
     "text": [
      "File 37 of 528\r"
     ]
    },
    {
     "name": "stderr",
     "output_type": "stream",
     "text": [
      "[2025-01-12 09:08:07,814][850594287.py][line:22][INFO] Transcription of file Ses01F_script03_2_F017.wav has been formatted\n",
      "[2025-01-12 09:08:07,815][850594287.py][line:23][INFO] ORIGINAL: No, it isn't.\n",
      "\n",
      "[2025-01-12 09:08:07,817][850594287.py][line:24][INFO] FORMATTED: NO  IT ISN'T \n"
     ]
    },
    {
     "name": "stdout",
     "output_type": "stream",
     "text": [
      "File 38 of 528\r"
     ]
    },
    {
     "name": "stderr",
     "output_type": "stream",
     "text": [
      "[2025-01-12 09:08:08,540][850594287.py][line:22][INFO] Transcription of file Ses01F_script03_2_F018.wav has been formatted\n",
      "[2025-01-12 09:08:08,540][850594287.py][line:23][INFO] ORIGINAL: Shut up.\n",
      "\n",
      "[2025-01-12 09:08:08,541][850594287.py][line:24][INFO] FORMATTED: SHUT UP \n"
     ]
    },
    {
     "name": "stdout",
     "output_type": "stream",
     "text": [
      "File 39 of 528\r"
     ]
    },
    {
     "name": "stderr",
     "output_type": "stream",
     "text": [
      "[2025-01-12 09:08:09,762][850594287.py][line:22][INFO] Transcription of file Ses01F_script03_2_F021.wav has been formatted\n",
      "[2025-01-12 09:08:09,762][850594287.py][line:23][INFO] ORIGINAL: They sting! They snap! I don't care! Do you understand? I don't care if they bark and they roll about like hoops!  *beep beep beep*\n",
      "\n",
      "[2025-01-12 09:08:09,763][850594287.py][line:24][INFO] FORMATTED: THEY STING  THEY SNAP  I DON'T CARE  DO YOU UNDERSTAND  I DON'T CARE IF THEY BARK AND THEY ROLL ABOUT LIKE HOOPS    BEEP BEEP BEEP  \n"
     ]
    },
    {
     "name": "stdout",
     "output_type": "stream",
     "text": [
      "File 40 of 528\r"
     ]
    },
    {
     "name": "stderr",
     "output_type": "stream",
     "text": [
      "[2025-01-12 09:08:10,627][850594287.py][line:22][INFO] Transcription of file Ses01F_script03_2_F022.wav has been formatted\n",
      "[2025-01-12 09:08:10,629][850594287.py][line:23][INFO] ORIGINAL: Yes, I did. Quite a lot.\n",
      "\n",
      "[2025-01-12 09:08:10,630][850594287.py][line:24][INFO] FORMATTED: YES  I DID QUITE A LOT \n"
     ]
    },
    {
     "name": "stdout",
     "output_type": "stream",
     "text": [
      "File 41 of 528\r"
     ]
    },
    {
     "name": "stderr",
     "output_type": "stream",
     "text": [
      "[2025-01-12 09:08:11,485][850594287.py][line:22][INFO] Transcription of file Ses01F_script03_2_F023.wav has been formatted\n",
      "[2025-01-12 09:08:11,486][850594287.py][line:23][INFO] ORIGINAL: Mind your own business.\n",
      "\n",
      "[2025-01-12 09:08:11,486][850594287.py][line:24][INFO] FORMATTED: MIND YOUR OWN BUSINESS \n"
     ]
    },
    {
     "name": "stdout",
     "output_type": "stream",
     "text": [
      "File 42 of 528\r"
     ]
    },
    {
     "name": "stderr",
     "output_type": "stream",
     "text": [
      "[2025-01-12 09:08:12,493][850594287.py][line:22][INFO] Transcription of file Ses01F_script03_2_F024.wav has been formatted\n",
      "[2025-01-12 09:08:12,495][850594287.py][line:23][INFO] ORIGINAL: You're quite insufferable. I expect it's because you're drunk.\n",
      "\n",
      "[2025-01-12 09:08:12,496][850594287.py][line:24][INFO] FORMATTED: YOU'RE QUITE INSUFFERABLE I EXPECT IT'S BECAUSE YOU'RE DRUNK \n"
     ]
    },
    {
     "name": "stdout",
     "output_type": "stream",
     "text": [
      "File 43 of 528\r"
     ]
    },
    {
     "name": "stderr",
     "output_type": "stream",
     "text": [
      "[2025-01-12 09:08:13,415][850594287.py][line:22][INFO] Transcription of file Ses01F_script03_2_F025.wav has been formatted\n",
      "[2025-01-12 09:08:13,416][850594287.py][line:23][INFO] ORIGINAL: Is he a bit drunk? You always had a weak head. Think...\n",
      "\n",
      "[2025-01-12 09:08:13,417][850594287.py][line:24][INFO] FORMATTED: IS HE A BIT DRUNK  YOU ALWAYS HAD A WEAK HEAD THINK \n"
     ]
    },
    {
     "name": "stdout",
     "output_type": "stream",
     "text": [
      "File 44 of 528\r"
     ]
    },
    {
     "name": "stderr",
     "output_type": "stream",
     "text": [
      "[2025-01-12 09:08:14,475][850594287.py][line:22][INFO] Transcription of file Ses01F_script03_2_F026.wav has been formatted\n",
      "[2025-01-12 09:08:14,476][850594287.py][line:23][INFO] ORIGINAL: On the contrary, a child of two could get violently drunk on only one glass of brandy.\n",
      "\n",
      "[2025-01-12 09:08:14,476][850594287.py][line:24][INFO] FORMATTED: ON THE CONTRARY  A CHILD OF TWO COULD GET VIOLENTLY DRUNK ON ONLY ONE GLASS OF BRANDY \n"
     ]
    },
    {
     "name": "stdout",
     "output_type": "stream",
     "text": [
      "File 45 of 528\r"
     ]
    },
    {
     "name": "stderr",
     "output_type": "stream",
     "text": [
      "[2025-01-12 09:08:15,349][850594287.py][line:22][INFO] Transcription of file Ses01F_script03_2_F027.wav has been formatted\n",
      "[2025-01-12 09:08:15,351][850594287.py][line:23][INFO] ORIGINAL: Oh, shut up.  About a child.\n",
      "\n",
      "[2025-01-12 09:08:15,352][850594287.py][line:24][INFO] FORMATTED: OH  SHUT UP  ABOUT A CHILD \n"
     ]
    },
    {
     "name": "stdout",
     "output_type": "stream",
     "text": [
      "File 46 of 528\r"
     ]
    },
    {
     "name": "stderr",
     "output_type": "stream",
     "text": [
      "[2025-01-12 09:08:16,196][850594287.py][line:22][INFO] Transcription of file Ses01F_script03_2_F028.wav has been formatted\n",
      "[2025-01-12 09:08:16,197][850594287.py][line:23][INFO] ORIGINAL: Shut up!\n",
      "\n",
      "[2025-01-12 09:08:16,197][850594287.py][line:24][INFO] FORMATTED: SHUT UP  \n"
     ]
    },
    {
     "name": "stdout",
     "output_type": "stream",
     "text": [
      "File 47 of 528\r"
     ]
    },
    {
     "name": "stderr",
     "output_type": "stream",
     "text": [
      "[2025-01-12 09:08:17,158][850594287.py][line:22][INFO] Transcription of file Ses01F_script03_2_F029.wav has been formatted\n",
      "[2025-01-12 09:08:17,159][850594287.py][line:23][INFO] ORIGINAL: Not very funny, darling. Wouldn't you have some more brandy?\n",
      "\n",
      "[2025-01-12 09:08:17,160][850594287.py][line:24][INFO] FORMATTED: NOT VERY FUNNY  DARLING WOULDN'T YOU HAVE SOME MORE BRANDY  \n"
     ]
    },
    {
     "name": "stdout",
     "output_type": "stream",
     "text": [
      "File 48 of 528\r"
     ]
    },
    {
     "name": "stderr",
     "output_type": "stream",
     "text": [
      "[2025-01-12 09:08:17,873][850594287.py][line:22][INFO] Transcription of file Ses01F_script03_2_F030.wav has been formatted\n",
      "[2025-01-12 09:08:17,875][850594287.py][line:23][INFO] ORIGINAL: I don't wanna wake up the people.\n",
      "\n",
      "[2025-01-12 09:08:17,876][850594287.py][line:24][INFO] FORMATTED: I DON'T WANNA WAKE UP THE PEOPLE \n"
     ]
    },
    {
     "name": "stdout",
     "output_type": "stream",
     "text": [
      "File 49 of 528\r"
     ]
    },
    {
     "name": "stderr",
     "output_type": "stream",
     "text": [
      "[2025-01-12 09:08:18,841][850594287.py][line:22][INFO] Transcription of file Ses01F_script03_2_F031.wav has been formatted\n",
      "[2025-01-12 09:08:18,843][850594287.py][line:23][INFO] ORIGINAL: There are no people upstairs. It's a photographer's studio.\n",
      "\n",
      "[2025-01-12 09:08:18,844][850594287.py][line:24][INFO] FORMATTED: THERE ARE NO PEOPLE UPSTAIRS IT'S A PHOTOGRAPHER'S STUDIO \n",
      "[2025-01-12 09:08:18,846][2649188033.py][line:47][INFO] ------ Gemini API Usage Metrics ------\n",
      "[2025-01-12 09:08:18,846][2649188033.py][line:48][INFO] [Files Processed] 50 of 528\n",
      "[2025-01-12 09:08:18,848][2649188033.py][line:49][INFO] [Total Tokens] 175708\n",
      "[2025-01-12 09:08:18,849][2649188033.py][line:50][INFO] --------------------------------------\n"
     ]
    },
    {
     "name": "stdout",
     "output_type": "stream",
     "text": [
      "File 50 of 528\r"
     ]
    },
    {
     "name": "stderr",
     "output_type": "stream",
     "text": [
      "[2025-01-12 09:08:24,705][850594287.py][line:22][INFO] Transcription of file Ses01F_script03_2_F032.wav has been formatted\n",
      "[2025-01-12 09:08:24,705][850594287.py][line:23][INFO] ORIGINAL: Their way into Tunis.\n",
      "\n",
      "[2025-01-12 09:08:24,706][850594287.py][line:24][INFO] FORMATTED: THEIR WAY INTO TUNIS \n"
     ]
    },
    {
     "name": "stdout",
     "output_type": "stream",
     "text": [
      "File 51 of 528\r"
     ]
    },
    {
     "name": "stderr",
     "output_type": "stream",
     "text": [
      "[2025-01-12 09:08:25,687][850594287.py][line:22][INFO] Transcription of file Ses01F_script03_2_F034.wav has been formatted\n",
      "[2025-01-12 09:08:25,689][850594287.py][line:23][INFO] ORIGINAL: Fine, if you insist on being boorish and idiotic.\n",
      "\n",
      "[2025-01-12 09:08:25,691][850594287.py][line:24][INFO] FORMATTED: FINE  IF YOU INSIST ON BEING BOORISH AND IDIOTIC \n"
     ]
    },
    {
     "name": "stdout",
     "output_type": "stream",
     "text": [
      "File 52 of 528\r"
     ]
    },
    {
     "name": "stderr",
     "output_type": "stream",
     "text": [
      "[2025-01-12 09:08:26,688][850594287.py][line:22][INFO] Transcription of file Ses01F_script03_2_F035.wav has been formatted\n",
      "[2025-01-12 09:08:26,690][850594287.py][line:23][INFO] ORIGINAL: You're far too temperamental. Try to control yourself.\n",
      "\n",
      "[2025-01-12 09:08:26,693][850594287.py][line:24][INFO] FORMATTED: YOU'RE FAR TOO TEMPERAMENTAL TRY TO CONTROL YOURSELF \n"
     ]
    },
    {
     "name": "stdout",
     "output_type": "stream",
     "text": [
      "File 53 of 528\r"
     ]
    },
    {
     "name": "stderr",
     "output_type": "stream",
     "text": [
      "[2025-01-12 09:08:27,835][850594287.py][line:22][INFO] Transcription of file Ses01F_script03_2_F036.wav has been formatted\n",
      "[2025-01-12 09:08:27,835][850594287.py][line:23][INFO] ORIGINAL: I won't. Let go! Let go of me! Man, listen. Listen! Listen! I'm sick and tired of listening to you, you sadistic bully!\n",
      "\n",
      "[2025-01-12 09:08:27,836][850594287.py][line:24][INFO] FORMATTED: I WON'T LET GO  LET GO OF ME  MAN  LISTEN LISTEN  LISTEN  I'M SICK AND TIRED OF LISTENING TO YOU  YOU SADISTIC BULLY  \n"
     ]
    },
    {
     "name": "stdout",
     "output_type": "stream",
     "text": [
      "File 54 of 528\r"
     ]
    },
    {
     "name": "stderr",
     "output_type": "stream",
     "text": [
      "[2025-01-12 09:08:29,050][850594287.py][line:22][INFO] Transcription of file Ses01F_script03_2_F037.wav has been formatted\n",
      "[2025-01-12 09:08:29,051][850594287.py][line:23][INFO] ORIGINAL: Indeed. Oh, shut up! Let go! I hate you! I hate you! Do you hear? You're conceited and overbearing and utterly impossible! Wickedness!\n",
      "\n",
      "[2025-01-12 09:08:29,052][850594287.py][line:24][INFO] FORMATTED: INDEED OH  SHUT UP  LET GO  I HATE YOU  I HATE YOU  DO YOU HEAR  YOU'RE CONCEITED AND OVERBEARING AND UTTERLY IMPOSSIBLE  WICKEDNESS  \n"
     ]
    },
    {
     "name": "stdout",
     "output_type": "stream",
     "text": [
      "File 55 of 528\r"
     ]
    },
    {
     "name": "stderr",
     "output_type": "stream",
     "text": [
      "[2025-01-12 09:08:30,027][850594287.py][line:22][INFO] Transcription of file Ses01F_script03_2_F038.wav has been formatted\n",
      "[2025-01-12 09:08:30,027][850594287.py][line:23][INFO] ORIGINAL: This is the end. Do you hear me? Finally and forever.\n",
      "\n",
      "[2025-01-12 09:08:30,028][850594287.py][line:24][INFO] FORMATTED: THIS IS THE END DO YOU HEAR ME  FINALLY AND FOREVER \n"
     ]
    },
    {
     "name": "stdout",
     "output_type": "stream",
     "text": [
      "File 56 of 528\r"
     ]
    },
    {
     "name": "stderr",
     "output_type": "stream",
     "text": [
      "[2025-01-12 09:08:30,880][850594287.py][line:22][INFO] Transcription of file Ses01F_script03_2_F039.wav has been formatted\n",
      "[2025-01-12 09:08:30,881][850594287.py][line:23][INFO] ORIGINAL: Oh yes, I am.\n",
      "\n",
      "[2025-01-12 09:08:30,881][850594287.py][line:24][INFO] FORMATTED: OH YES  I AM \n"
     ]
    },
    {
     "name": "stdout",
     "output_type": "stream",
     "text": [
      "File 57 of 528\r"
     ]
    },
    {
     "name": "stderr",
     "output_type": "stream",
     "text": [
      "[2025-01-12 09:08:32,535][850594287.py][line:22][INFO] Transcription of file Ses01F_script03_2_F040.wav has been formatted\n",
      "[2025-01-12 09:08:32,537][850594287.py][line:23][INFO] ORIGINAL: Yes, I am. Stop it! Stop it! Let go of me! Oh, you're a cruel fiend! I loathe and I hate you! Marry you again? Never, never, never, never, never! I hope you die in torment! You brute, beast, cad!\n",
      "\n",
      "[2025-01-12 09:08:32,538][850594287.py][line:24][INFO] FORMATTED: YES  I AM STOP IT  STOP IT  LET GO OF ME  OH  YOU'RE A CRUEL FIEND  I LOATHE AND I HATE YOU  MARRY YOU AGAIN  NEVER  NEVER  NEVER  NEVER  NEVER  I HOPE YOU DIE IN TORMENT  YOU BRUTE  BEAST  CAD  \n"
     ]
    },
    {
     "name": "stdout",
     "output_type": "stream",
     "text": [
      "File 58 of 528\r"
     ]
    },
    {
     "name": "stderr",
     "output_type": "stream",
     "text": [
      "[2025-01-12 09:08:33,374][850594287.py][line:22][INFO] Transcription of file Ses01F_script02_2_F000.wav has been formatted\n",
      "[2025-01-12 09:08:33,374][850594287.py][line:23][INFO] ORIGINAL: The end.\n",
      "\n",
      "[2025-01-12 09:08:33,375][850594287.py][line:24][INFO] FORMATTED: THE END \n"
     ]
    },
    {
     "name": "stdout",
     "output_type": "stream",
     "text": [
      "File 59 of 528\r"
     ]
    },
    {
     "name": "stderr",
     "output_type": "stream",
     "text": [
      "[2025-01-12 09:08:34,049][850594287.py][line:22][INFO] Transcription of file Ses01F_script02_2_F001.wav has been formatted\n",
      "[2025-01-12 09:08:34,050][850594287.py][line:23][INFO] ORIGINAL: About what?\n",
      "\n",
      "[2025-01-12 09:08:34,050][850594287.py][line:24][INFO] FORMATTED: ABOUT WHAT  \n"
     ]
    },
    {
     "name": "stdout",
     "output_type": "stream",
     "text": [
      "File 60 of 528\r"
     ]
    },
    {
     "name": "stderr",
     "output_type": "stream",
     "text": [
      "[2025-01-12 09:08:35,217][850594287.py][line:22][INFO] Transcription of file Ses01F_script02_2_F006.wav has been formatted\n",
      "[2025-01-12 09:08:35,218][850594287.py][line:23][INFO] ORIGINAL: Oh, don't ask me that. I I hate it when you ask me that. You always ask me that. It's insulting!\n",
      "\n",
      "[2025-01-12 09:08:35,220][850594287.py][line:24][INFO] FORMATTED: OH  DON'T ASK ME THAT I I HATE IT WHEN YOU ASK ME THAT YOU ALWAYS ASK ME THAT IT'S INSULTING  \n"
     ]
    },
    {
     "name": "stdout",
     "output_type": "stream",
     "text": [
      "File 61 of 528\r"
     ]
    },
    {
     "name": "stderr",
     "output_type": "stream",
     "text": [
      "[2025-01-12 09:08:36,215][850594287.py][line:22][INFO] Transcription of file Ses01F_script02_2_F008.wav has been formatted\n",
      "[2025-01-12 09:08:36,216][850594287.py][line:23][INFO] ORIGINAL: For god's sake, go home. Grow up, Oggy. The fish are not gonna arrive.\n",
      "\n",
      "[2025-01-12 09:08:36,217][850594287.py][line:24][INFO] FORMATTED: FOR GOD'S SAKE  GO HOME GROW UP  OGGY THE FISH ARE NOT GONNA ARRIVE \n"
     ]
    },
    {
     "name": "stdout",
     "output_type": "stream",
     "text": [
      "File 62 of 528\r"
     ]
    },
    {
     "name": "stderr",
     "output_type": "stream",
     "text": [
      "[2025-01-12 09:08:37,133][850594287.py][line:22][INFO] Transcription of file Ses01F_script02_2_F009.wav has been formatted\n",
      "[2025-01-12 09:08:37,134][850594287.py][line:23][INFO] ORIGINAL: Because we they never do. Have they have they ever?\n",
      "\n",
      "[2025-01-12 09:08:37,134][850594287.py][line:24][INFO] FORMATTED: BECAUSE WE THEY NEVER DO HAVE THEY HAVE THEY EVER  \n"
     ]
    },
    {
     "name": "stdout",
     "output_type": "stream",
     "text": [
      "File 63 of 528\r"
     ]
    },
    {
     "name": "stderr",
     "output_type": "stream",
     "text": [
      "[2025-01-12 09:08:38,282][850594287.py][line:22][INFO] Transcription of file Ses01F_script02_2_F010.wav has been formatted\n",
      "[2025-01-12 09:08:38,283][850594287.py][line:23][INFO] ORIGINAL: Twice is every time we've tried. That's ever.\n",
      "\n",
      "[2025-01-12 09:08:38,283][850594287.py][line:24][INFO] FORMATTED: TWICE IS EVERY TIME WE'VE TRIED THAT'S EVER \n"
     ]
    },
    {
     "name": "stdout",
     "output_type": "stream",
     "text": [
      "File 64 of 528\r"
     ]
    },
    {
     "name": "stderr",
     "output_type": "stream",
     "text": [
      "[2025-01-12 09:08:39,437][850594287.py][line:22][INFO] Transcription of file Ses01F_script02_2_F015.wav has been formatted\n",
      "[2025-01-12 09:08:39,437][850594287.py][line:23][INFO] ORIGINAL: I feel like I'm always just standing here waiting. I feel like this night is gonna be the night, but it never is.  It's just...\n",
      "\n",
      "[2025-01-12 09:08:39,438][850594287.py][line:24][INFO] FORMATTED: I FEEL LIKE I'M ALWAYS JUST STANDING HERE WAITING I FEEL LIKE THIS NIGHT IS GONNA BE THE NIGHT  BUT IT NEVER IS  IT'S JUST \n"
     ]
    },
    {
     "name": "stdout",
     "output_type": "stream",
     "text": [
      "File 65 of 528\r"
     ]
    },
    {
     "name": "stderr",
     "output_type": "stream",
     "text": [
      "[2025-01-12 09:08:40,321][850594287.py][line:22][INFO] Transcription of file Ses01F_script02_2_F016.wav has been formatted\n",
      "[2025-01-12 09:08:40,323][850594287.py][line:23][INFO] ORIGINAL: For God's sake, this is not about fish!\n",
      "\n",
      "[2025-01-12 09:08:40,325][850594287.py][line:24][INFO] FORMATTED: FOR GOD'S SAKE  THIS IS NOT ABOUT FISH  \n"
     ]
    },
    {
     "name": "stdout",
     "output_type": "stream",
     "text": [
      "File 66 of 528\r"
     ]
    },
    {
     "name": "stderr",
     "output_type": "stream",
     "text": [
      "[2025-01-12 09:08:41,395][850594287.py][line:22][INFO] Transcription of file Ses01F_script02_2_F017.wav has been formatted\n",
      "[2025-01-12 09:08:41,396][850594287.py][line:23][INFO] ORIGINAL: Do you remember the first year we came here?\n",
      "\n",
      "It was like four years after we got married.\n",
      "\n",
      "[2025-01-12 09:08:41,397][850594287.py][line:24][INFO] FORMATTED: DO YOU REMEMBER THE FIRST YEAR WE CAME HERE   IT WAS LIKE FOUR YEARS AFTER WE GOT MARRIED \n"
     ]
    },
    {
     "name": "stdout",
     "output_type": "stream",
     "text": [
      "File 67 of 528\r"
     ]
    },
    {
     "name": "stderr",
     "output_type": "stream",
     "text": [
      "[2025-01-12 09:08:43,004][850594287.py][line:22][INFO] Transcription of file Ses01F_script02_2_F019.wav has been formatted\n",
      "[2025-01-12 09:08:43,007][850594287.py][line:23][INFO] ORIGINAL: You whispered the sweetest, most intimate things to me, right into my ear, so I could feel them as much as hear them. And I remember thinking, this is it. You know, finally, I'm as happy as I'm supposed to be.\n",
      "\n",
      "[2025-01-12 09:08:43,009][850594287.py][line:24][INFO] FORMATTED: YOU WHISPERED THE SWEETEST  MOST INTIMATE THINGS TO ME  RIGHT INTO MY EAR  SO I COULD FEEL THEM AS MUCH AS HEAR THEM AND I REMEMBER THINKING  THIS IS IT YOU KNOW  FINALLY  I'M AS HAPPY AS I'M SUPPOSED TO BE \n"
     ]
    },
    {
     "name": "stdout",
     "output_type": "stream",
     "text": [
      "File 68 of 528\r"
     ]
    },
    {
     "name": "stderr",
     "output_type": "stream",
     "text": [
      "[2025-01-12 09:08:44,017][850594287.py][line:22][INFO] Transcription of file Ses01F_script02_2_F022.wav has been formatted\n",
      "[2025-01-12 09:08:44,019][850594287.py][line:23][INFO] ORIGINAL: I'd rather not remember some things.  I'd rather not hope for some things.\n",
      "\n",
      "[2025-01-12 09:08:44,021][850594287.py][line:24][INFO] FORMATTED: I'D RATHER NOT REMEMBER SOME THINGS  I'D RATHER NOT HOPE FOR SOME THINGS \n"
     ]
    },
    {
     "name": "stdout",
     "output_type": "stream",
     "text": [
      "File 69 of 528\r"
     ]
    },
    {
     "name": "stderr",
     "output_type": "stream",
     "text": [
      "[2025-01-12 09:08:44,845][850594287.py][line:22][INFO] Transcription of file Ses01F_script02_2_F023.wav has been formatted\n",
      "[2025-01-12 09:08:44,847][850594287.py][line:23][INFO] ORIGINAL: No.\n",
      "\n",
      "[2025-01-12 09:08:44,848][850594287.py][line:24][INFO] FORMATTED: NO \n"
     ]
    },
    {
     "name": "stdout",
     "output_type": "stream",
     "text": [
      "File 70 of 528\r"
     ]
    },
    {
     "name": "stderr",
     "output_type": "stream",
     "text": [
      "[2025-01-12 09:08:45,513][850594287.py][line:22][INFO] Transcription of file Ses01F_script02_2_F026.wav has been formatted\n",
      "[2025-01-12 09:08:45,515][850594287.py][line:23][INFO] ORIGINAL: No.\n",
      "\n",
      "[2025-01-12 09:08:45,516][850594287.py][line:24][INFO] FORMATTED: NO \n"
     ]
    },
    {
     "name": "stdout",
     "output_type": "stream",
     "text": [
      "File 71 of 528\r"
     ]
    },
    {
     "name": "stderr",
     "output_type": "stream",
     "text": [
      "[2025-01-12 09:08:46,417][850594287.py][line:22][INFO] Transcription of file Ses01F_script02_2_F034.wav has been formatted\n",
      "[2025-01-12 09:08:46,418][850594287.py][line:23][INFO] ORIGINAL: I know you are Auggie. I know.\n",
      "\n",
      "[2025-01-12 09:08:46,418][850594287.py][line:24][INFO] FORMATTED: I KNOW YOU ARE AUGGIE I KNOW \n"
     ]
    },
    {
     "name": "stdout",
     "output_type": "stream",
     "text": [
      "File 72 of 528\r"
     ]
    },
    {
     "name": "stderr",
     "output_type": "stream",
     "text": [
      "[2025-01-12 09:08:47,689][850594287.py][line:22][INFO] Transcription of file Ses01F_script02_2_F035.wav has been formatted\n",
      "[2025-01-12 09:08:47,692][850594287.py][line:23][INFO] ORIGINAL: I know you meant to be special. I mean, I know you meant this to be special. I know that you wanted it to be right, but I just can't help thinking that I can't help wishing that I was somewhere else.\n",
      "\n",
      "[2025-01-12 09:08:47,693][850594287.py][line:24][INFO] FORMATTED: I KNOW YOU MEANT TO BE SPECIAL I MEAN  I KNOW YOU MEANT THIS TO BE SPECIAL I KNOW THAT YOU WANTED IT TO BE RIGHT  BUT I JUST CAN'T HELP THINKING THAT I CAN'T HELP WISHING THAT I WAS SOMEWHERE ELSE \n"
     ]
    },
    {
     "name": "stdout",
     "output_type": "stream",
     "text": [
      "File 73 of 528\r"
     ]
    },
    {
     "name": "stderr",
     "output_type": "stream",
     "text": [
      "[2025-01-12 09:08:48,576][850594287.py][line:22][INFO] Transcription of file Ses01F_script02_2_F036.wav has been formatted\n",
      "[2025-01-12 09:08:48,578][850594287.py][line:23][INFO] ORIGINAL: I didn't say that.\n",
      "\n",
      "[2025-01-12 09:08:48,579][850594287.py][line:24][INFO] FORMATTED: I DIDN'T SAY THAT \n"
     ]
    },
    {
     "name": "stdout",
     "output_type": "stream",
     "text": [
      "File 74 of 528\r"
     ]
    },
    {
     "name": "stderr",
     "output_type": "stream",
     "text": [
      "[2025-01-12 09:08:49,959][850594287.py][line:22][INFO] Transcription of file Ses01F_script02_2_F040.wav has been formatted\n",
      "[2025-01-12 09:08:49,961][850594287.py][line:23][INFO] ORIGINAL: You're the one who probably wishes he was with somebody else.  Somebody didn't take things so seriously. Could enjoy yourself.\n",
      "\n",
      "[2025-01-12 09:08:49,962][850594287.py][line:24][INFO] FORMATTED: YOU'RE THE ONE WHO PROBABLY WISHES HE WAS WITH SOMEBODY ELSE  SOMEBODY DIDN'T TAKE THINGS SO SERIOUSLY COULD ENJOY YOURSELF \n",
      "[2025-01-12 09:08:49,963][2649188033.py][line:47][INFO] ------ Gemini API Usage Metrics ------\n",
      "[2025-01-12 09:08:49,964][2649188033.py][line:48][INFO] [Files Processed] 75 of 528\n",
      "[2025-01-12 09:08:49,965][2649188033.py][line:49][INFO] [Total Tokens] 182307\n",
      "[2025-01-12 09:08:49,967][2649188033.py][line:50][INFO] --------------------------------------\n"
     ]
    },
    {
     "name": "stdout",
     "output_type": "stream",
     "text": [
      "File 75 of 528\r"
     ]
    },
    {
     "name": "stderr",
     "output_type": "stream",
     "text": [
      "[2025-01-12 09:08:55,942][850594287.py][line:22][INFO] Transcription of file Ses01F_script02_2_F041.wav has been formatted\n",
      "[2025-01-12 09:08:55,942][850594287.py][line:23][INFO] ORIGINAL: So maybe we're in the wrong spot, but we're with the right person.\n",
      "\n",
      "[2025-01-12 09:08:55,943][850594287.py][line:24][INFO] FORMATTED: SO MAYBE WE'RE IN THE WRONG SPOT  BUT WE'RE WITH THE RIGHT PERSON \n"
     ]
    },
    {
     "name": "stdout",
     "output_type": "stream",
     "text": [
      "File 76 of 528\r"
     ]
    },
    {
     "name": "stderr",
     "output_type": "stream",
     "text": [
      "[2025-01-12 09:08:56,940][850594287.py][line:22][INFO] Transcription of file Ses01F_script02_2_F042.wav has been formatted\n",
      "[2025-01-12 09:08:56,941][850594287.py][line:23][INFO] ORIGINAL: Mm. I noticed that.  It's pretty. Big old white moon.  Pppp\n",
      "\n",
      "[2025-01-12 09:08:56,942][850594287.py][line:24][INFO] FORMATTED: MM I NOTICED THAT  IT'S PRETTY BIG OLD WHITE MOON  PPPP \n"
     ]
    },
    {
     "name": "stdout",
     "output_type": "stream",
     "text": [
      "File 77 of 528\r"
     ]
    },
    {
     "name": "stderr",
     "output_type": "stream",
     "text": [
      "[2025-01-12 09:08:57,861][850594287.py][line:22][INFO] Transcription of file Ses01F_script02_2_F043.wav has been formatted\n",
      "[2025-01-12 09:08:57,863][850594287.py][line:23][INFO] ORIGINAL: Ah, Gigi! You brought refreshments!\n",
      "\n",
      "[2025-01-12 09:08:57,864][850594287.py][line:24][INFO] FORMATTED: AH  GIGI  YOU BROUGHT REFRESHMENTS  \n"
     ]
    },
    {
     "name": "stdout",
     "output_type": "stream",
     "text": [
      "File 78 of 528\r"
     ]
    },
    {
     "name": "stderr",
     "output_type": "stream",
     "text": [
      "[2025-01-12 09:08:58,728][850594287.py][line:22][INFO] Transcription of file Ses01F_script02_2_F044.wav has been formatted\n",
      "[2025-01-12 09:08:58,729][850594287.py][line:23][INFO] ORIGINAL: I guess we don't need glasses.\n",
      "\n",
      "[2025-01-12 09:08:58,731][850594287.py][line:24][INFO] FORMATTED: I GUESS WE DON'T NEED GLASSES \n"
     ]
    },
    {
     "name": "stdout",
     "output_type": "stream",
     "text": [
      "File 79 of 528\r"
     ]
    },
    {
     "name": "stderr",
     "output_type": "stream",
     "text": [
      "[2025-01-12 09:08:59,662][850594287.py][line:22][INFO] Transcription of file Ses01F_script02_2_F045.wav has been formatted\n",
      "[2025-01-12 09:08:59,663][850594287.py][line:23][INFO] ORIGINAL: I'm beginning to think this might be the right spot after all.\n",
      "\n",
      "[2025-01-12 09:08:59,664][850594287.py][line:24][INFO] FORMATTED: I'M BEGINNING TO THINK THIS MIGHT BE THE RIGHT SPOT AFTER ALL \n"
     ]
    },
    {
     "name": "stdout",
     "output_type": "stream",
     "text": [
      "File 80 of 528\r"
     ]
    },
    {
     "name": "stderr",
     "output_type": "stream",
     "text": [
      "[2025-01-12 09:09:00,518][850594287.py][line:22][INFO] Transcription of file Ses01F_script02_2_F046.wav has been formatted\n",
      "[2025-01-12 09:09:00,521][850594287.py][line:23][INFO] ORIGINAL: Okay, I'm sorry.\n",
      "\n",
      "[2025-01-12 09:09:00,522][850594287.py][line:24][INFO] FORMATTED: OKAY  I'M SORRY \n"
     ]
    },
    {
     "name": "stdout",
     "output_type": "stream",
     "text": [
      "File 81 of 528\r"
     ]
    },
    {
     "name": "stderr",
     "output_type": "stream",
     "text": [
      "[2025-01-12 09:09:01,344][850594287.py][line:22][INFO] Transcription of file Ses01F_script02_2_F047.wav has been formatted\n",
      "[2025-01-12 09:09:01,345][850594287.py][line:23][INFO] ORIGINAL: or not\n",
      "\n",
      "[2025-01-12 09:09:01,345][850594287.py][line:24][INFO] FORMATTED: OR NOT \n"
     ]
    },
    {
     "name": "stdout",
     "output_type": "stream",
     "text": [
      "File 82 of 528\r"
     ]
    },
    {
     "name": "stderr",
     "output_type": "stream",
     "text": [
      "[2025-01-12 09:09:02,243][850594287.py][line:22][INFO] Transcription of file Ses01M_impro04_F000.wav has been formatted\n",
      "[2025-01-12 09:09:02,245][850594287.py][line:23][INFO] ORIGINAL: You seem kind of down.\n",
      "\n",
      "[2025-01-12 09:09:02,246][850594287.py][line:24][INFO] FORMATTED: YOU SEEM KIND OF DOWN \n"
     ]
    },
    {
     "name": "stdout",
     "output_type": "stream",
     "text": [
      "File 83 of 528\r"
     ]
    },
    {
     "name": "stderr",
     "output_type": "stream",
     "text": [
      "[2025-01-12 09:09:02,882][850594287.py][line:22][INFO] Transcription of file Ses01M_impro04_F002.wav has been formatted\n",
      "[2025-01-12 09:09:02,882][850594287.py][line:23][INFO] ORIGINAL: What do you mean?\n",
      "\n",
      "[2025-01-12 09:09:02,884][850594287.py][line:24][INFO] FORMATTED: WHAT DO YOU MEAN  \n"
     ]
    },
    {
     "name": "stdout",
     "output_type": "stream",
     "text": [
      "File 84 of 528\r"
     ]
    },
    {
     "name": "stderr",
     "output_type": "stream",
     "text": [
      "[2025-01-12 09:09:03,873][850594287.py][line:22][INFO] Transcription of file Ses01M_impro04_F003.wav has been formatted\n",
      "[2025-01-12 09:09:03,874][850594287.py][line:23][INFO] ORIGINAL: There's a lot of people looking for jobs.\n",
      "\n",
      "[2025-01-12 09:09:03,875][850594287.py][line:24][INFO] FORMATTED: THERE'S A LOT OF PEOPLE LOOKING FOR JOBS \n"
     ]
    },
    {
     "name": "stdout",
     "output_type": "stream",
     "text": [
      "File 85 of 528\r"
     ]
    },
    {
     "name": "stderr",
     "output_type": "stream",
     "text": [
      "[2025-01-12 09:09:04,899][850594287.py][line:22][INFO] Transcription of file Ses01M_impro04_F004.wav has been formatted\n",
      "[2025-01-12 09:09:04,901][850594287.py][line:23][INFO] ORIGINAL: I don't know. I mean, I just don't think\n",
      "\n",
      "[2025-01-12 09:09:04,902][850594287.py][line:24][INFO] FORMATTED: I DON'T KNOW I MEAN  I JUST DON'T THINK \n"
     ]
    },
    {
     "name": "stdout",
     "output_type": "stream",
     "text": [
      "File 86 of 528\r"
     ]
    },
    {
     "name": "stderr",
     "output_type": "stream",
     "text": [
      "[2025-01-12 09:09:05,875][850594287.py][line:22][INFO] Transcription of file Ses01M_impro04_F005.wav has been formatted\n",
      "[2025-01-12 09:09:05,877][850594287.py][line:23][INFO] ORIGINAL: Do you ever think it might be your attitude that's... [sound of static/interference]\n",
      "\n",
      "[2025-01-12 09:09:05,879][850594287.py][line:24][INFO] FORMATTED: DO YOU EVER THINK IT MIGHT BE YOUR ATTITUDE THAT'S  SOUND OF STATIC INTERFERENCE  \n"
     ]
    },
    {
     "name": "stdout",
     "output_type": "stream",
     "text": [
      "File 87 of 528\r"
     ]
    },
    {
     "name": "stderr",
     "output_type": "stream",
     "text": [
      "[2025-01-12 09:09:07,022][850594287.py][line:22][INFO] Transcription of file Ses01M_impro04_F006.wav has been formatted\n",
      "[2025-01-12 09:09:07,023][850594287.py][line:23][INFO] ORIGINAL: I don't know. Just just sometimes you get tired.  You're not happy, are you? No, I'm not I'm not saying that. I'm just  [beep]\n",
      "\n",
      "[2025-01-12 09:09:07,024][850594287.py][line:24][INFO] FORMATTED: I DON'T KNOW JUST JUST SOMETIMES YOU GET TIRED  YOU'RE NOT HAPPY  ARE YOU  NO  I'M NOT I'M NOT SAYING THAT I'M JUST   BEEP  \n"
     ]
    },
    {
     "name": "stdout",
     "output_type": "stream",
     "text": [
      "File 88 of 528\r"
     ]
    },
    {
     "name": "stderr",
     "output_type": "stream",
     "text": [
      "[2025-01-12 09:09:07,964][850594287.py][line:22][INFO] Transcription of file Ses01M_impro04_F007.wav has been formatted\n",
      "[2025-01-12 09:09:07,966][850594287.py][line:23][INFO] ORIGINAL: Has anyone ever said anything like that to you before?  No. Well maybe...\n",
      "\n",
      "[2025-01-12 09:09:07,967][850594287.py][line:24][INFO] FORMATTED: HAS ANYONE EVER SAID ANYTHING LIKE THAT TO YOU BEFORE   NO WELL MAYBE \n"
     ]
    },
    {
     "name": "stdout",
     "output_type": "stream",
     "text": [
      "File 89 of 528\r"
     ]
    },
    {
     "name": "stderr",
     "output_type": "stream",
     "text": [
      "[2025-01-12 09:09:08,804][850594287.py][line:22][INFO] Transcription of file Ses01M_impro04_F008.wav has been formatted\n",
      "[2025-01-12 09:09:08,806][850594287.py][line:23][INFO] ORIGINAL: Right. Sure.\n",
      "\n",
      "[2025-01-12 09:09:08,807][850594287.py][line:24][INFO] FORMATTED: RIGHT SURE \n"
     ]
    },
    {
     "name": "stdout",
     "output_type": "stream",
     "text": [
      "File 90 of 528\r"
     ]
    },
    {
     "name": "stderr",
     "output_type": "stream",
     "text": [
      "[2025-01-12 09:09:09,804][850594287.py][line:22][INFO] Transcription of file Ses01M_impro04_F009.wav has been formatted\n",
      "[2025-01-12 09:09:09,805][850594287.py][line:23][INFO] ORIGINAL: but I mean you kinda got to. You gotta fake it till you feel it, right?\n",
      "\n",
      "[2025-01-12 09:09:09,805][850594287.py][line:24][INFO] FORMATTED: BUT I MEAN YOU KINDA GOT TO YOU GOTTA FAKE IT TILL YOU FEEL IT  RIGHT  \n"
     ]
    },
    {
     "name": "stdout",
     "output_type": "stream",
     "text": [
      "File 91 of 528\r"
     ]
    },
    {
     "name": "stderr",
     "output_type": "stream",
     "text": [
      "[2025-01-12 09:09:10,881][850594287.py][line:22][INFO] Transcription of file Ses01M_impro04_F010.wav has been formatted\n",
      "[2025-01-12 09:09:10,883][850594287.py][line:23][INFO] ORIGINAL: I'm just saying that if I was looking to hire somebody and they were kind of No. No. No. Ppp\n",
      "\n",
      "[2025-01-12 09:09:10,884][850594287.py][line:24][INFO] FORMATTED: I'M JUST SAYING THAT IF I WAS LOOKING TO HIRE SOMEBODY AND THEY WERE KIND OF NO NO NO PPP \n"
     ]
    },
    {
     "name": "stdout",
     "output_type": "stream",
     "text": [
      "File 92 of 528\r"
     ]
    },
    {
     "name": "stderr",
     "output_type": "stream",
     "text": [
      "[2025-01-12 09:09:12,109][850594287.py][line:22][INFO] Transcription of file Ses01M_impro04_F011.wav has been formatted\n",
      "[2025-01-12 09:09:12,111][850594287.py][line:23][INFO] ORIGINAL: No. I'm just saying though that if I was a person who was hiring somebody, I would not hire someone who was angry or upset.\n",
      "\n",
      "[2025-01-12 09:09:12,113][850594287.py][line:24][INFO] FORMATTED: NO I'M JUST SAYING THOUGH THAT IF I WAS A PERSON WHO WAS HIRING SOMEBODY  I WOULD NOT HIRE SOMEONE WHO WAS ANGRY OR UPSET \n"
     ]
    },
    {
     "name": "stdout",
     "output_type": "stream",
     "text": [
      "File 93 of 528\r"
     ]
    },
    {
     "name": "stderr",
     "output_type": "stream",
     "text": [
      "[2025-01-12 09:09:12,826][850594287.py][line:22][INFO] Transcription of file Ses01M_impro04_F012.wav has been formatted\n",
      "[2025-01-12 09:09:12,828][850594287.py][line:23][INFO] ORIGINAL: No.\n",
      "P-p-p\n",
      "\n",
      "[2025-01-12 09:09:12,830][850594287.py][line:24][INFO] FORMATTED: NO P P P \n"
     ]
    },
    {
     "name": "stdout",
     "output_type": "stream",
     "text": [
      "File 94 of 528\r"
     ]
    },
    {
     "name": "stderr",
     "output_type": "stream",
     "text": [
      "[2025-01-12 09:09:13,793][850594287.py][line:22][INFO] Transcription of file Ses01M_impro04_F013.wav has been formatted\n",
      "[2025-01-12 09:09:13,796][850594287.py][line:23][INFO] ORIGINAL: Well, you know, a little. If you were to listen to...\n",
      "\n",
      "[2025-01-12 09:09:13,796][850594287.py][line:24][INFO] FORMATTED: WELL  YOU KNOW  A LITTLE IF YOU WERE TO LISTEN TO \n"
     ]
    },
    {
     "name": "stdout",
     "output_type": "stream",
     "text": [
      "File 95 of 528\r"
     ]
    },
    {
     "name": "stderr",
     "output_type": "stream",
     "text": [
      "[2025-01-12 09:09:14,724][850594287.py][line:22][INFO] Transcription of file Ses01M_impro04_F014.wav has been formatted\n",
      "[2025-01-12 09:09:14,726][850594287.py][line:23][INFO] ORIGINAL: Please. I just don't want you to fly off the handle.\n",
      "\n",
      "[2025-01-12 09:09:14,727][850594287.py][line:24][INFO] FORMATTED: PLEASE I JUST DON'T WANT YOU TO FLY OFF THE HANDLE \n"
     ]
    },
    {
     "name": "stdout",
     "output_type": "stream",
     "text": [
      "File 96 of 528\r"
     ]
    },
    {
     "name": "stderr",
     "output_type": "stream",
     "text": [
      "[2025-01-12 09:09:15,659][850594287.py][line:22][INFO] Transcription of file Ses01M_impro04_F015.wav has been formatted\n",
      "[2025-01-12 09:09:15,660][850594287.py][line:23][INFO] ORIGINAL: You get all... you kinda have a short fuse.  A short [beep]\n",
      "\n",
      "[2025-01-12 09:09:15,661][850594287.py][line:24][INFO] FORMATTED: YOU GET ALL YOU KINDA HAVE A SHORT FUSE  A SHORT  BEEP  \n"
     ]
    },
    {
     "name": "stdout",
     "output_type": "stream",
     "text": [
      "File 97 of 528\r"
     ]
    },
    {
     "name": "stderr",
     "output_type": "stream",
     "text": [
      "[2025-01-12 09:09:16,314][850594287.py][line:22][INFO] Transcription of file Ses01M_impro04_F016.wav has been formatted\n",
      "[2025-01-12 09:09:16,316][850594287.py][line:23][INFO] ORIGINAL: Ja.\n",
      "\n",
      "[2025-01-12 09:09:16,317][850594287.py][line:24][INFO] FORMATTED: JA \n"
     ]
    },
    {
     "name": "stdout",
     "output_type": "stream",
     "text": [
      "File 98 of 528\r"
     ]
    },
    {
     "name": "stderr",
     "output_type": "stream",
     "text": [
      "[2025-01-12 09:09:17,250][850594287.py][line:22][INFO] Transcription of file Ses01M_impro04_F017.wav has been formatted\n",
      "[2025-01-12 09:09:17,251][850594287.py][line:23][INFO] ORIGINAL: Like this right now, we're trying to have a conversation.\n",
      "\n",
      "[2025-01-12 09:09:17,252][850594287.py][line:24][INFO] FORMATTED: LIKE THIS RIGHT NOW  WE'RE TRYING TO HAVE A CONVERSATION \n"
     ]
    },
    {
     "name": "stdout",
     "output_type": "stream",
     "text": [
      "File 99 of 528\r"
     ]
    },
    {
     "name": "stderr",
     "output_type": "stream",
     "text": [
      "[2025-01-12 09:09:18,411][850594287.py][line:22][INFO] Transcription of file Ses01M_impro04_F018.wav has been formatted\n",
      "[2025-01-12 09:09:18,411][850594287.py][line:23][INFO] ORIGINAL: We're trying to have a conversation and you seem extremely hostile. You You can't get a job, okay? You keep cutting me off.\n",
      "\n",
      "[2025-01-12 09:09:18,412][850594287.py][line:24][INFO] FORMATTED: WE'RE TRYING TO HAVE A CONVERSATION AND YOU SEEM EXTREMELY HOSTILE YOU YOU CAN'T GET A JOB  OKAY  YOU KEEP CUTTING ME OFF \n",
      "[2025-01-12 09:09:18,412][2649188033.py][line:47][INFO] ------ Gemini API Usage Metrics ------\n",
      "[2025-01-12 09:09:18,413][2649188033.py][line:48][INFO] [Files Processed] 100 of 528\n",
      "[2025-01-12 09:09:18,413][2649188033.py][line:49][INFO] [Total Tokens] 187016\n",
      "[2025-01-12 09:09:18,414][2649188033.py][line:50][INFO] --------------------------------------\n"
     ]
    },
    {
     "name": "stdout",
     "output_type": "stream",
     "text": [
      "File 100 of 528\r"
     ]
    },
    {
     "name": "stderr",
     "output_type": "stream",
     "text": [
      "[2025-01-12 09:09:24,341][850594287.py][line:22][INFO] Transcription of file Ses01M_impro04_F019.wav has been formatted\n",
      "[2025-01-12 09:09:24,342][850594287.py][line:23][INFO] ORIGINAL: I can't finish the sentence with you without you jumping in.\n",
      "\n",
      "[2025-01-12 09:09:24,343][850594287.py][line:24][INFO] FORMATTED: I CAN'T FINISH THE SENTENCE WITH YOU WITHOUT YOU JUMPING IN \n"
     ]
    },
    {
     "name": "stdout",
     "output_type": "stream",
     "text": [
      "File 101 of 528\r"
     ]
    },
    {
     "name": "stderr",
     "output_type": "stream",
     "text": [
      "[2025-01-12 09:09:25,168][850594287.py][line:22][INFO] Transcription of file Ses01M_impro04_F020.wav has been formatted\n",
      "[2025-01-12 09:09:25,170][850594287.py][line:23][INFO] ORIGINAL: and you're always right\n",
      "P\n",
      "\n",
      "[2025-01-12 09:09:25,173][850594287.py][line:24][INFO] FORMATTED: AND YOU'RE ALWAYS RIGHT P \n"
     ]
    },
    {
     "name": "stdout",
     "output_type": "stream",
     "text": [
      "File 102 of 528\r"
     ]
    },
    {
     "name": "stderr",
     "output_type": "stream",
     "text": [
      "[2025-01-12 09:09:26,064][850594287.py][line:22][INFO] Transcription of file Ses01M_impro04_F021.wav has been formatted\n",
      "[2025-01-12 09:09:26,065][850594287.py][line:23][INFO] ORIGINAL: You have an excuse for everything.\n",
      "\n",
      "[2025-01-12 09:09:26,066][850594287.py][line:24][INFO] FORMATTED: YOU HAVE AN EXCUSE FOR EVERYTHING \n"
     ]
    },
    {
     "name": "stdout",
     "output_type": "stream",
     "text": [
      "File 103 of 528\r"
     ]
    },
    {
     "name": "stderr",
     "output_type": "stream",
     "text": [
      "[2025-01-12 09:09:27,074][850594287.py][line:22][INFO] Transcription of file Ses01M_impro04_F022.wav has been formatted\n",
      "[2025-01-12 09:09:27,076][850594287.py][line:23][INFO] ORIGINAL: I'm just saying that maybe you should take in some information before you produce more of your own.\n",
      "\n",
      "[2025-01-12 09:09:27,077][850594287.py][line:24][INFO] FORMATTED: I'M JUST SAYING THAT MAYBE YOU SHOULD TAKE IN SOME INFORMATION BEFORE YOU PRODUCE MORE OF YOUR OWN \n"
     ]
    },
    {
     "name": "stdout",
     "output_type": "stream",
     "text": [
      "File 104 of 528\r"
     ]
    },
    {
     "name": "stderr",
     "output_type": "stream",
     "text": [
      "[2025-01-12 09:09:27,928][850594287.py][line:22][INFO] Transcription of file Ses01M_impro04_F023.wav has been formatted\n",
      "[2025-01-12 09:09:27,930][850594287.py][line:23][INFO] ORIGINAL:  \n",
      "\n",
      "[2025-01-12 09:09:27,932][850594287.py][line:24][INFO] FORMATTED:  \n"
     ]
    },
    {
     "name": "stdout",
     "output_type": "stream",
     "text": [
      "File 105 of 528\r"
     ]
    },
    {
     "name": "stderr",
     "output_type": "stream",
     "text": [
      "[2025-01-12 09:09:28,857][850594287.py][line:22][INFO] Transcription of file Ses01M_impro04_F025.wav has been formatted\n",
      "[2025-01-12 09:09:28,860][850594287.py][line:23][INFO] ORIGINAL: Well what kind of field are you looking to go into?\n",
      "\n",
      "[2025-01-12 09:09:28,860][850594287.py][line:24][INFO] FORMATTED: WELL WHAT KIND OF FIELD ARE YOU LOOKING TO GO INTO  \n"
     ]
    },
    {
     "name": "stdout",
     "output_type": "stream",
     "text": [
      "File 106 of 528\r"
     ]
    },
    {
     "name": "stderr",
     "output_type": "stream",
     "text": [
      "[2025-01-12 09:09:29,512][850594287.py][line:22][INFO] Transcription of file Ses01M_impro03_F002.wav has been formatted\n",
      "[2025-01-12 09:09:29,514][850594287.py][line:23][INFO] ORIGINAL: Why?\n",
      "\n",
      "[2025-01-12 09:09:29,516][850594287.py][line:24][INFO] FORMATTED: WHY  \n"
     ]
    },
    {
     "name": "stdout",
     "output_type": "stream",
     "text": [
      "File 107 of 528\r"
     ]
    },
    {
     "name": "stderr",
     "output_type": "stream",
     "text": [
      "[2025-01-12 09:09:30,227][850594287.py][line:22][INFO] Transcription of file Ses01M_impro03_F003.wav has been formatted\n",
      "[2025-01-12 09:09:30,229][850594287.py][line:23][INFO] ORIGINAL: Is she on the run?\n",
      "\n",
      "[2025-01-12 09:09:30,231][850594287.py][line:24][INFO] FORMATTED: IS SHE ON THE RUN  \n"
     ]
    },
    {
     "name": "stdout",
     "output_type": "stream",
     "text": [
      "File 108 of 528\r"
     ]
    },
    {
     "name": "stderr",
     "output_type": "stream",
     "text": [
      "[2025-01-12 09:09:31,176][850594287.py][line:22][INFO] Transcription of file Ses01M_impro03_F004.wav has been formatted\n",
      "[2025-01-12 09:09:31,178][850594287.py][line:23][INFO] ORIGINAL: Oh, she just needs to marry you.  Just like p-p-p-\n",
      "\n",
      "[2025-01-12 09:09:31,179][850594287.py][line:24][INFO] FORMATTED: OH  SHE JUST NEEDS TO MARRY YOU  JUST LIKE P P P  \n"
     ]
    },
    {
     "name": "stdout",
     "output_type": "stream",
     "text": [
      "File 109 of 528\r"
     ]
    },
    {
     "name": "stderr",
     "output_type": "stream",
     "text": [
      "[2025-01-12 09:09:32,251][850594287.py][line:22][INFO] Transcription of file Ses01M_impro03_F005.wav has been formatted\n",
      "[2025-01-12 09:09:32,253][850594287.py][line:23][INFO] ORIGINAL: That's incredible! That's awesome! Where's she from? Maybe you can get dual citizenship.  She's actually p p p p p\n",
      "\n",
      "[2025-01-12 09:09:32,253][850594287.py][line:24][INFO] FORMATTED: THAT'S INCREDIBLE  THAT'S AWESOME  WHERE'S SHE FROM  MAYBE YOU CAN GET DUAL CITIZENSHIP  SHE'S ACTUALLY P P P P P \n"
     ]
    },
    {
     "name": "stdout",
     "output_type": "stream",
     "text": [
      "File 110 of 528\r"
     ]
    },
    {
     "name": "stderr",
     "output_type": "stream",
     "text": [
      "[2025-01-12 09:09:33,258][850594287.py][line:22][INFO] Transcription of file Ses01M_impro03_F006.wav has been formatted\n",
      "[2025-01-12 09:09:33,260][850594287.py][line:23][INFO] ORIGINAL: That's so cool! You talk English, but you have an accent. Uh-huh.  Even...\n",
      "\n",
      "[2025-01-12 09:09:33,261][850594287.py][line:24][INFO] FORMATTED: THAT'S SO COOL  YOU TALK ENGLISH  BUT YOU HAVE AN ACCENT UH HUH  EVEN \n"
     ]
    },
    {
     "name": "stdout",
     "output_type": "stream",
     "text": [
      "File 111 of 528\r"
     ]
    },
    {
     "name": "stderr",
     "output_type": "stream",
     "text": [
      "[2025-01-12 09:09:34,243][850594287.py][line:22][INFO] Transcription of file Ses01M_impro03_F007.wav has been formatted\n",
      "[2025-01-12 09:09:34,245][850594287.py][line:23][INFO] ORIGINAL: Why did she pick you? Where were you?\n",
      "\n",
      "[2025-01-12 09:09:34,246][850594287.py][line:24][INFO] FORMATTED: WHY DID SHE PICK YOU  WHERE WERE YOU  \n"
     ]
    },
    {
     "name": "stdout",
     "output_type": "stream",
     "text": [
      "File 112 of 528\r"
     ]
    },
    {
     "name": "stderr",
     "output_type": "stream",
     "text": [
      "[2025-01-12 09:09:35,588][850594287.py][line:22][INFO] Transcription of file Ses01M_impro03_F008.wav has been formatted\n",
      "[2025-01-12 09:09:35,591][850594287.py][line:23][INFO] ORIGINAL: You at a party?  Yeah. And she And she's like, hey. Yeah, she's like, hey. I'm like, bruh. You see Monet Tash? She's like I'm like,  [imitates a prolonged whistling sound]\n",
      "\n",
      "[2025-01-12 09:09:35,592][850594287.py][line:24][INFO] FORMATTED: YOU AT A PARTY   YEAH AND SHE AND SHE'S LIKE  HEY YEAH  SHE'S LIKE  HEY I'M LIKE  BRUH YOU SEE MONET TASH  SHE'S LIKE I'M LIKE    IMITATES A PROLONGED WHISTLING SOUND  \n"
     ]
    },
    {
     "name": "stdout",
     "output_type": "stream",
     "text": [
      "File 113 of 528\r"
     ]
    },
    {
     "name": "stderr",
     "output_type": "stream",
     "text": [
      "[2025-01-12 09:09:36,525][850594287.py][line:22][INFO] Transcription of file Ses01M_impro03_F009.wav has been formatted\n",
      "[2025-01-12 09:09:36,527][850594287.py][line:23][INFO] ORIGINAL: That's unbelievable.  It's kind of like illegal. Yeah. So like people\n",
      "\n",
      "[2025-01-12 09:09:36,529][850594287.py][line:24][INFO] FORMATTED: THAT'S UNBELIEVABLE  IT'S KIND OF LIKE ILLEGAL YEAH SO LIKE PEOPLE \n"
     ]
    },
    {
     "name": "stdout",
     "output_type": "stream",
     "text": [
      "File 114 of 528\r"
     ]
    },
    {
     "name": "stderr",
     "output_type": "stream",
     "text": [
      "[2025-01-12 09:09:37,797][850594287.py][line:22][INFO] Transcription of file Ses01M_impro03_F010.wav has been formatted\n",
      "[2025-01-12 09:09:37,798][850594287.py][line:23][INFO] ORIGINAL: Well, I've known people who've done this before. Have you? Yeah, yeah, yeah. You just you just like It's really fun, actually, cuz you have like a fake engagement party, and all your friends come over, and like\n",
      "<noise>\n",
      "\n",
      "[2025-01-12 09:09:37,800][850594287.py][line:24][INFO] FORMATTED: WELL  I'VE KNOWN PEOPLE WHO'VE DONE THIS BEFORE HAVE YOU  YEAH  YEAH  YEAH YOU JUST YOU JUST LIKE IT'S REALLY FUN  ACTUALLY  CUZ YOU HAVE LIKE A FAKE ENGAGEMENT PARTY  AND ALL YOUR FRIENDS COME OVER  AND LIKE  NOISE  \n"
     ]
    },
    {
     "name": "stdout",
     "output_type": "stream",
     "text": [
      "File 115 of 528\r"
     ]
    },
    {
     "name": "stderr",
     "output_type": "stream",
     "text": [
      "[2025-01-12 09:09:39,001][850594287.py][line:22][INFO] Transcription of file Ses01M_impro03_F011.wav has been formatted\n",
      "[2025-01-12 09:09:39,002][850594287.py][line:23][INFO] ORIGINAL: Yeah! Yeah! And then yeah, and then you know, like you can you could like you could like like sock her for a lot of money.\n",
      "\n",
      "[2025-01-12 09:09:39,003][850594287.py][line:24][INFO] FORMATTED: YEAH  YEAH  AND THEN YEAH  AND THEN YOU KNOW  LIKE YOU CAN YOU COULD LIKE YOU COULD LIKE LIKE SOCK HER FOR A LOT OF MONEY \n"
     ]
    },
    {
     "name": "stdout",
     "output_type": "stream",
     "text": [
      "File 116 of 528\r"
     ]
    },
    {
     "name": "stderr",
     "output_type": "stream",
     "text": [
      "[2025-01-12 09:09:40,186][850594287.py][line:22][INFO] Transcription of file Ses01M_impro03_F012.wav has been formatted\n",
      "[2025-01-12 09:09:40,188][850594287.py][line:23][INFO] ORIGINAL: Like make her rent the apartment that you two have to live together in, you know? And you won't pay any rent or you'll pay like a hundred bucks a month or something?\n",
      "Yeah. And like\n",
      "[beep]\n",
      "\n",
      "[2025-01-12 09:09:40,189][850594287.py][line:24][INFO] FORMATTED: LIKE MAKE HER RENT THE APARTMENT THAT YOU TWO HAVE TO LIVE TOGETHER IN  YOU KNOW  AND YOU WON'T PAY ANY RENT OR YOU'LL PAY LIKE A HUNDRED BUCKS A MONTH OR SOMETHING  YEAH AND LIKE  BEEP  \n"
     ]
    },
    {
     "name": "stdout",
     "output_type": "stream",
     "text": [
      "File 117 of 528\r"
     ]
    },
    {
     "name": "stderr",
     "output_type": "stream",
     "text": [
      "[2025-01-12 09:09:40,877][850594287.py][line:22][INFO] Transcription of file Ses01M_impro03_F013.wav has been formatted\n",
      "[2025-01-12 09:09:40,877][850594287.py][line:23][INFO] ORIGINAL: Meow!\n",
      "Ppp\n",
      "\n",
      "[2025-01-12 09:09:40,878][850594287.py][line:24][INFO] FORMATTED: MEOW  PPP \n"
     ]
    },
    {
     "name": "stdout",
     "output_type": "stream",
     "text": [
      "File 118 of 528\r"
     ]
    },
    {
     "name": "stderr",
     "output_type": "stream",
     "text": [
      "[2025-01-12 09:09:41,789][850594287.py][line:22][INFO] Transcription of file Ses01M_impro03_F014.wav has been formatted\n",
      "[2025-01-12 09:09:41,792][850594287.py][line:23][INFO] ORIGINAL: Dude, you lucked out.  No.  Ppp\n",
      "\n",
      "[2025-01-12 09:09:41,792][850594287.py][line:24][INFO] FORMATTED: DUDE  YOU LUCKED OUT  NO  PPP \n"
     ]
    },
    {
     "name": "stdout",
     "output_type": "stream",
     "text": [
      "File 119 of 528\r"
     ]
    },
    {
     "name": "stderr",
     "output_type": "stream",
     "text": [
      "[2025-01-12 09:09:42,810][850594287.py][line:22][INFO] Transcription of file Ses01M_impro03_F015.wav has been formatted\n",
      "[2025-01-12 09:09:42,811][850594287.py][line:23][INFO] ORIGINAL: Yeah! My colors are blush and beige. What is it? Do you know?\n",
      "\n",
      "[2025-01-12 09:09:42,811][850594287.py][line:24][INFO] FORMATTED: YEAH  MY COLORS ARE BLUSH AND BEIGE WHAT IS IT  DO YOU KNOW  \n"
     ]
    },
    {
     "name": "stdout",
     "output_type": "stream",
     "text": [
      "File 120 of 528\r"
     ]
    },
    {
     "name": "stderr",
     "output_type": "stream",
     "text": [
      "[2025-01-12 09:09:43,728][850594287.py][line:22][INFO] Transcription of file Ses01M_impro03_F016.wav has been formatted\n",
      "[2025-01-12 09:09:43,730][850594287.py][line:23][INFO] ORIGINAL: Uh.  I don't know.\n",
      "\n",
      "[2025-01-12 09:09:43,732][850594287.py][line:24][INFO] FORMATTED: UH  I DON'T KNOW \n"
     ]
    },
    {
     "name": "stdout",
     "output_type": "stream",
     "text": [
      "File 121 of 528\r"
     ]
    },
    {
     "name": "stderr",
     "output_type": "stream",
     "text": [
      "[2025-01-12 09:09:44,606][850594287.py][line:22][INFO] Transcription of file Ses01M_impro03_F017.wav has been formatted\n",
      "[2025-01-12 09:09:44,608][850594287.py][line:23][INFO] ORIGINAL: I don't know.  Get in cash.\n",
      "\n",
      "[2025-01-12 09:09:44,609][850594287.py][line:24][INFO] FORMATTED: I DON'T KNOW  GET IN CASH \n"
     ]
    },
    {
     "name": "stdout",
     "output_type": "stream",
     "text": [
      "File 122 of 528\r"
     ]
    },
    {
     "name": "stderr",
     "output_type": "stream",
     "text": [
      "[2025-01-12 09:09:45,240][850594287.py][line:22][INFO] Transcription of file Ses01M_impro03_F018.wav has been formatted\n",
      "[2025-01-12 09:09:45,241][850594287.py][line:23][INFO] ORIGINAL: Yeah.\n",
      "\n",
      "[2025-01-12 09:09:45,242][850594287.py][line:24][INFO] FORMATTED: YEAH \n"
     ]
    },
    {
     "name": "stdout",
     "output_type": "stream",
     "text": [
      "File 123 of 528\r"
     ]
    },
    {
     "name": "stderr",
     "output_type": "stream",
     "text": [
      "[2025-01-12 09:09:46,136][850594287.py][line:22][INFO] Transcription of file Ses01M_impro03_F019.wav has been formatted\n",
      "[2025-01-12 09:09:46,137][850594287.py][line:23][INFO] ORIGINAL: How exciting! You should have a wedding on the beach.\n",
      "\n",
      "[2025-01-12 09:09:46,137][850594287.py][line:24][INFO] FORMATTED: HOW EXCITING  YOU SHOULD HAVE A WEDDING ON THE BEACH \n"
     ]
    },
    {
     "name": "stdout",
     "output_type": "stream",
     "text": [
      "File 124 of 528\r"
     ]
    },
    {
     "name": "stderr",
     "output_type": "stream",
     "text": [
      "[2025-01-12 09:09:46,781][850594287.py][line:22][INFO] Transcription of file Ses01M_impro03_F020.wav has been formatted\n",
      "[2025-01-12 09:09:46,783][850594287.py][line:23][INFO] ORIGINAL: Yeah, at night.\n",
      "\n",
      "[2025-01-12 09:09:46,784][850594287.py][line:24][INFO] FORMATTED: YEAH  AT NIGHT \n",
      "[2025-01-12 09:09:46,785][2649188033.py][line:47][INFO] ------ Gemini API Usage Metrics ------\n",
      "[2025-01-12 09:09:46,786][2649188033.py][line:48][INFO] [Files Processed] 125 of 528\n",
      "[2025-01-12 09:09:46,787][2649188033.py][line:49][INFO] [Total Tokens] 191875\n",
      "[2025-01-12 09:09:46,788][2649188033.py][line:50][INFO] --------------------------------------\n"
     ]
    },
    {
     "name": "stdout",
     "output_type": "stream",
     "text": [
      "File 125 of 528\r"
     ]
    },
    {
     "name": "stderr",
     "output_type": "stream",
     "text": [
      "[2025-01-12 09:09:52,661][850594287.py][line:22][INFO] Transcription of file Ses01M_impro03_F021.wav has been formatted\n",
      "[2025-01-12 09:09:52,663][850594287.py][line:23][INFO] ORIGINAL: Oh yeah. Absolutely. Absolutely.\n",
      "\n",
      "[2025-01-12 09:09:52,666][850594287.py][line:24][INFO] FORMATTED: OH YEAH ABSOLUTELY ABSOLUTELY \n"
     ]
    },
    {
     "name": "stdout",
     "output_type": "stream",
     "text": [
      "File 126 of 528\r"
     ]
    },
    {
     "name": "stderr",
     "output_type": "stream",
     "text": [
      "[2025-01-12 09:09:53,596][850594287.py][line:22][INFO] Transcription of file Ses01M_impro03_F022.wav has been formatted\n",
      "[2025-01-12 09:09:53,597][850594287.py][line:23][INFO] ORIGINAL: How exciting! You should make her bring along your friends, too.\n",
      "\n",
      "[2025-01-12 09:09:53,598][850594287.py][line:24][INFO] FORMATTED: HOW EXCITING  YOU SHOULD MAKE HER BRING ALONG YOUR FRIENDS  TOO \n"
     ]
    },
    {
     "name": "stdout",
     "output_type": "stream",
     "text": [
      "File 127 of 528\r"
     ]
    },
    {
     "name": "stderr",
     "output_type": "stream",
     "text": [
      "[2025-01-12 09:09:54,846][850594287.py][line:22][INFO] Transcription of file Ses01M_impro03_F023.wav has been formatted\n",
      "[2025-01-12 09:09:54,849][850594287.py][line:23][INFO] ORIGINAL: I hear she's like totally loaded.  She's gotta be loaded. Like fifty thousand dollars! That's incredible! Never moved.\n",
      "\n",
      "[2025-01-12 09:09:54,850][850594287.py][line:24][INFO] FORMATTED: I HEAR SHE'S LIKE TOTALLY LOADED  SHE'S GOTTA BE LOADED LIKE FIFTY THOUSAND DOLLARS  THAT'S INCREDIBLE  NEVER MOVED \n"
     ]
    },
    {
     "name": "stdout",
     "output_type": "stream",
     "text": [
      "File 128 of 528\r"
     ]
    },
    {
     "name": "stderr",
     "output_type": "stream",
     "text": [
      "[2025-01-12 09:09:55,557][850594287.py][line:22][INFO] Transcription of file Ses01M_impro03_F024.wav has been formatted\n",
      "[2025-01-12 09:09:55,559][850594287.py][line:23][INFO] ORIGINAL: Incredible.\n",
      "\n",
      "[2025-01-12 09:09:55,560][850594287.py][line:24][INFO] FORMATTED: INCREDIBLE \n"
     ]
    },
    {
     "name": "stdout",
     "output_type": "stream",
     "text": [
      "File 129 of 528\r"
     ]
    },
    {
     "name": "stderr",
     "output_type": "stream",
     "text": [
      "[2025-01-12 09:09:56,510][850594287.py][line:22][INFO] Transcription of file Ses01M_impro03_F025.wav has been formatted\n",
      "[2025-01-12 09:09:56,511][850594287.py][line:23][INFO] ORIGINAL: You're a lucky, lucky, lucky man.\n",
      "\n",
      "[2025-01-12 09:09:56,512][850594287.py][line:24][INFO] FORMATTED: YOU'RE A LUCKY  LUCKY  LUCKY MAN \n"
     ]
    },
    {
     "name": "stdout",
     "output_type": "stream",
     "text": [
      "File 130 of 528\r"
     ]
    },
    {
     "name": "stderr",
     "output_type": "stream",
     "text": [
      "[2025-01-12 09:09:57,406][850594287.py][line:22][INFO] Transcription of file Ses01M_impro03_F026.wav has been formatted\n",
      "[2025-01-12 09:09:57,407][850594287.py][line:23][INFO] ORIGINAL: Oh, totally. Yeah.\n",
      "\n",
      "[2025-01-12 09:09:57,408][850594287.py][line:24][INFO] FORMATTED: OH  TOTALLY YEAH \n"
     ]
    },
    {
     "name": "stdout",
     "output_type": "stream",
     "text": [
      "File 131 of 528\r"
     ]
    },
    {
     "name": "stderr",
     "output_type": "stream",
     "text": [
      "[2025-01-12 09:09:58,424][850594287.py][line:22][INFO] Transcription of file Ses01F_impro02_F000.wav has been formatted\n",
      "[2025-01-12 09:09:58,425][850594287.py][line:23][INFO] ORIGINAL: Did you get the mail?  Did you see my letter?\n",
      "\n",
      "[2025-01-12 09:09:58,425][850594287.py][line:24][INFO] FORMATTED: DID YOU GET THE MAIL   DID YOU SEE MY LETTER  \n"
     ]
    },
    {
     "name": "stdout",
     "output_type": "stream",
     "text": [
      "File 132 of 528\r"
     ]
    },
    {
     "name": "stderr",
     "output_type": "stream",
     "text": [
      "[2025-01-12 09:09:59,286][850594287.py][line:22][INFO] Transcription of file Ses01F_impro02_F001.wav has been formatted\n",
      "[2025-01-12 09:09:59,287][850594287.py][line:23][INFO] ORIGINAL: Yeah, no.\n",
      "\n",
      "[2025-01-12 09:09:59,288][850594287.py][line:24][INFO] FORMATTED: YEAH  NO \n"
     ]
    },
    {
     "name": "stdout",
     "output_type": "stream",
     "text": [
      "File 133 of 528\r"
     ]
    },
    {
     "name": "stderr",
     "output_type": "stream",
     "text": [
      "[2025-01-12 09:10:00,263][850594287.py][line:22][INFO] Transcription of file Ses01F_impro02_F002.wav has been formatted\n",
      "[2025-01-12 09:10:00,265][850594287.py][line:23][INFO] ORIGINAL: I don't know. I put in that request too, they didn't.\n",
      "\n",
      "[2025-01-12 09:10:00,266][850594287.py][line:24][INFO] FORMATTED: I DON'T KNOW I PUT IN THAT REQUEST TOO  THEY DIDN'T \n"
     ]
    },
    {
     "name": "stdout",
     "output_type": "stream",
     "text": [
      "File 134 of 528\r"
     ]
    },
    {
     "name": "stderr",
     "output_type": "stream",
     "text": [
      "[2025-01-12 09:10:01,347][850594287.py][line:22][INFO] Transcription of file Ses01F_impro02_F003.wav has been formatted\n",
      "[2025-01-12 09:10:01,349][850594287.py][line:23][INFO] ORIGINAL: I guess you know, everybody has to make sacrifices.\n",
      "\n",
      "[2025-01-12 09:10:01,351][850594287.py][line:24][INFO] FORMATTED: I GUESS YOU KNOW  EVERYBODY HAS TO MAKE SACRIFICES \n"
     ]
    },
    {
     "name": "stdout",
     "output_type": "stream",
     "text": [
      "File 135 of 528\r"
     ]
    },
    {
     "name": "stderr",
     "output_type": "stream",
     "text": [
      "[2025-01-12 09:10:02,317][850594287.py][line:22][INFO] Transcription of file Ses01F_impro02_F004.wav has been formatted\n",
      "[2025-01-12 09:10:02,317][850594287.py][line:23][INFO] ORIGINAL: There's people that have given more though, you know.\n",
      "\n",
      "[2025-01-12 09:10:02,319][850594287.py][line:24][INFO] FORMATTED: THERE'S PEOPLE THAT HAVE GIVEN MORE THOUGH  YOU KNOW \n"
     ]
    },
    {
     "name": "stdout",
     "output_type": "stream",
     "text": [
      "File 136 of 528\r"
     ]
    },
    {
     "name": "stderr",
     "output_type": "stream",
     "text": [
      "[2025-01-12 09:10:03,143][850594287.py][line:22][INFO] Transcription of file Ses01F_impro02_F005.wav has been formatted\n",
      "[2025-01-12 09:10:03,145][850594287.py][line:23][INFO] ORIGINAL: I know.\n",
      "\n",
      "[2025-01-12 09:10:03,146][850594287.py][line:24][INFO] FORMATTED: I KNOW \n"
     ]
    },
    {
     "name": "stdout",
     "output_type": "stream",
     "text": [
      "File 137 of 528\r"
     ]
    },
    {
     "name": "stderr",
     "output_type": "stream",
     "text": [
      "[2025-01-12 09:10:04,103][850594287.py][line:22][INFO] Transcription of file Ses01F_impro02_F006.wav has been formatted\n",
      "[2025-01-12 09:10:04,104][850594287.py][line:23][INFO] ORIGINAL: There's babies over there though that need mothers.\n",
      "\n",
      "[2025-01-12 09:10:04,106][850594287.py][line:24][INFO] FORMATTED: THERE'S BABIES OVER THERE THOUGH THAT NEED MOTHERS \n"
     ]
    },
    {
     "name": "stdout",
     "output_type": "stream",
     "text": [
      "File 138 of 528\r"
     ]
    },
    {
     "name": "stderr",
     "output_type": "stream",
     "text": [
      "[2025-01-12 09:10:05,011][850594287.py][line:22][INFO] Transcription of file Ses01F_impro02_F008.wav has been formatted\n",
      "[2025-01-12 09:10:05,011][850594287.py][line:23][INFO] ORIGINAL: Just keep, you know, kicking myself.\n",
      "\n",
      "[2025-01-12 09:10:05,013][850594287.py][line:24][INFO] FORMATTED: JUST KEEP  YOU KNOW  KICKING MYSELF \n"
     ]
    },
    {
     "name": "stdout",
     "output_type": "stream",
     "text": [
      "File 139 of 528\r"
     ]
    },
    {
     "name": "stderr",
     "output_type": "stream",
     "text": [
      "[2025-01-12 09:10:05,917][850594287.py][line:22][INFO] Transcription of file Ses01F_impro02_F010.wav has been formatted\n",
      "[2025-01-12 09:10:05,920][850594287.py][line:23][INFO] ORIGINAL: things just aren't they seem\n",
      "\n",
      "[2025-01-12 09:10:05,921][850594287.py][line:24][INFO] FORMATTED: THINGS JUST AREN'T THEY SEEM \n"
     ]
    },
    {
     "name": "stdout",
     "output_type": "stream",
     "text": [
      "File 140 of 528\r"
     ]
    },
    {
     "name": "stderr",
     "output_type": "stream",
     "text": [
      "[2025-01-12 09:10:06,815][850594287.py][line:22][INFO] Transcription of file Ses01F_impro02_F012.wav has been formatted\n",
      "[2025-01-12 09:10:06,816][850594287.py][line:23][INFO] ORIGINAL: If not me, then who?\n",
      "\n",
      "[2025-01-12 09:10:06,817][850594287.py][line:24][INFO] FORMATTED: IF NOT ME  THEN WHO  \n"
     ]
    },
    {
     "name": "stdout",
     "output_type": "stream",
     "text": [
      "File 141 of 528\r"
     ]
    },
    {
     "name": "stderr",
     "output_type": "stream",
     "text": [
      "[2025-01-12 09:10:07,810][850594287.py][line:22][INFO] Transcription of file Ses01F_impro02_F013.wav has been formatted\n",
      "[2025-01-12 09:10:07,812][850594287.py][line:23][INFO] ORIGINAL: You'll videotape everything, yeah?\n",
      "\n",
      "[2025-01-12 09:10:07,813][850594287.py][line:24][INFO] FORMATTED: YOU'LL VIDEOTAPE EVERYTHING  YEAH  \n"
     ]
    },
    {
     "name": "stdout",
     "output_type": "stream",
     "text": [
      "File 142 of 528\r"
     ]
    },
    {
     "name": "stderr",
     "output_type": "stream",
     "text": [
      "[2025-01-12 09:10:08,814][850594287.py][line:22][INFO] Transcription of file Ses01F_impro02_F014.wav has been formatted\n",
      "[2025-01-12 09:10:08,816][850594287.py][line:23][INFO] ORIGINAL: Maybe you can send it to me, like stream it, yeah?\n",
      "\n",
      "[2025-01-12 09:10:08,817][850594287.py][line:24][INFO] FORMATTED: MAYBE YOU CAN SEND IT TO ME  LIKE STREAM IT  YEAH  \n"
     ]
    },
    {
     "name": "stdout",
     "output_type": "stream",
     "text": [
      "File 143 of 528\r"
     ]
    },
    {
     "name": "stderr",
     "output_type": "stream",
     "text": [
      "[2025-01-12 09:10:09,743][850594287.py][line:22][INFO] Transcription of file Ses01F_impro02_F015.wav has been formatted\n",
      "[2025-01-12 09:10:09,744][850594287.py][line:23][INFO] ORIGINAL: That's not it. Yeah.  P p p\n",
      "\n",
      "[2025-01-12 09:10:09,744][850594287.py][line:24][INFO] FORMATTED: THAT'S NOT IT YEAH  P P P \n"
     ]
    },
    {
     "name": "stdout",
     "output_type": "stream",
     "text": [
      "File 144 of 528\r"
     ]
    },
    {
     "name": "stderr",
     "output_type": "stream",
     "text": [
      "[2025-01-12 09:10:10,593][850594287.py][line:22][INFO] Transcription of file Ses01F_impro02_F016.wav has been formatted\n",
      "[2025-01-12 09:10:10,593][850594287.py][line:23][INFO] ORIGINAL: We have to find the cedars.\n",
      "\n",
      "[2025-01-12 09:10:10,594][850594287.py][line:24][INFO] FORMATTED: WE HAVE TO FIND THE CEDARS \n"
     ]
    },
    {
     "name": "stdout",
     "output_type": "stream",
     "text": [
      "File 145 of 528\r"
     ]
    },
    {
     "name": "stderr",
     "output_type": "stream",
     "text": [
      "[2025-01-12 09:10:11,734][850594287.py][line:22][INFO] Transcription of file Ses01F_impro02_F017.wav has been formatted\n",
      "[2025-01-12 09:10:11,736][850594287.py][line:23][INFO] ORIGINAL: We've got friends. That's why we, that's why we, that's why we moved here, huh?  'Cause there's a daycare down the street.  [beep]\n",
      "\n",
      "[2025-01-12 09:10:11,738][850594287.py][line:24][INFO] FORMATTED: WE'VE GOT FRIENDS THAT'S WHY WE  THAT'S WHY WE  THAT'S WHY WE MOVED HERE  HUH   'CAUSE THERE'S A DAYCARE DOWN THE STREET   BEEP  \n"
     ]
    },
    {
     "name": "stdout",
     "output_type": "stream",
     "text": [
      "File 146 of 528\r"
     ]
    },
    {
     "name": "stderr",
     "output_type": "stream",
     "text": [
      "[2025-01-12 09:10:12,651][850594287.py][line:22][INFO] Transcription of file Ses01F_impro02_F018.wav has been formatted\n",
      "[2025-01-12 09:10:12,652][850594287.py][line:23][INFO] ORIGINAL: and your mother's close by.\n",
      "\n",
      "[2025-01-12 09:10:12,654][850594287.py][line:24][INFO] FORMATTED: AND YOUR MOTHER'S CLOSE BY \n"
     ]
    },
    {
     "name": "stdout",
     "output_type": "stream",
     "text": [
      "File 147 of 528\r"
     ]
    },
    {
     "name": "stderr",
     "output_type": "stream",
     "text": [
      "[2025-01-12 09:10:13,539][850594287.py][line:22][INFO] Transcription of file Ses01F_impro02_F019.wav has been formatted\n",
      "[2025-01-12 09:10:13,541][850594287.py][line:23][INFO] ORIGINAL: I'll send you lots of letters.\n",
      "\n",
      "[2025-01-12 09:10:13,543][850594287.py][line:24][INFO] FORMATTED: I'LL SEND YOU LOTS OF LETTERS \n"
     ]
    },
    {
     "name": "stdout",
     "output_type": "stream",
     "text": [
      "File 148 of 528\r"
     ]
    },
    {
     "name": "stderr",
     "output_type": "stream",
     "text": [
      "[2025-01-12 09:10:14,479][850594287.py][line:22][INFO] Transcription of file Ses01F_impro02_F020.wav has been formatted\n",
      "[2025-01-12 09:10:14,480][850594287.py][line:23][INFO] ORIGINAL: And I've got lots and lots and lots of pictures.\n",
      "\n",
      "[2025-01-12 09:10:14,481][850594287.py][line:24][INFO] FORMATTED: AND I'VE GOT LOTS AND LOTS AND LOTS OF PICTURES \n"
     ]
    },
    {
     "name": "stdout",
     "output_type": "stream",
     "text": [
      "File 149 of 528\r"
     ]
    },
    {
     "name": "stderr",
     "output_type": "stream",
     "text": [
      "[2025-01-12 09:10:15,367][850594287.py][line:22][INFO] Transcription of file Ses01M_script01_2_F000.wav has been formatted\n",
      "[2025-01-12 09:10:15,369][850594287.py][line:23][INFO] ORIGINAL: Why did he invite her here?\n",
      "\n",
      "[2025-01-12 09:10:15,371][850594287.py][line:24][INFO] FORMATTED: WHY DID HE INVITE HER HERE  \n",
      "[2025-01-12 09:10:15,372][2649188033.py][line:47][INFO] ------ Gemini API Usage Metrics ------\n",
      "[2025-01-12 09:10:15,373][2649188033.py][line:48][INFO] [Files Processed] 150 of 528\n",
      "[2025-01-12 09:10:15,374][2649188033.py][line:49][INFO] [Total Tokens] 196699\n",
      "[2025-01-12 09:10:15,375][2649188033.py][line:50][INFO] --------------------------------------\n"
     ]
    },
    {
     "name": "stdout",
     "output_type": "stream",
     "text": [
      "File 150 of 528\r"
     ]
    },
    {
     "name": "stderr",
     "output_type": "stream",
     "text": [
      "[2025-01-12 09:10:21,349][850594287.py][line:22][INFO] Transcription of file Ses01M_script01_2_F001.wav has been formatted\n",
      "[2025-01-12 09:10:21,351][850594287.py][line:23][INFO] ORIGINAL: It's been three and a half years, my love, a sudden\n",
      "\n",
      "[2025-01-12 09:10:21,352][850594287.py][line:24][INFO] FORMATTED: IT'S BEEN THREE AND A HALF YEARS  MY LOVE  A SUDDEN \n"
     ]
    },
    {
     "name": "stdout",
     "output_type": "stream",
     "text": [
      "File 151 of 528\r"
     ]
    },
    {
     "name": "stderr",
     "output_type": "stream",
     "text": [
      "[2025-01-12 09:10:22,261][850594287.py][line:22][INFO] Transcription of file Ses01M_script01_2_F004.wav has been formatted\n",
      "[2025-01-12 09:10:22,261][850594287.py][line:23][INFO] ORIGINAL: What is going on here, Joe?  P p p\n",
      "\n",
      "[2025-01-12 09:10:22,262][850594287.py][line:24][INFO] FORMATTED: WHAT IS GOING ON HERE  JOE   P P P \n"
     ]
    },
    {
     "name": "stdout",
     "output_type": "stream",
     "text": [
      "File 152 of 528\r"
     ]
    },
    {
     "name": "stderr",
     "output_type": "stream",
     "text": [
      "[2025-01-12 09:10:23,343][850594287.py][line:22][INFO] Transcription of file Ses01M_script01_2_F005.wav has been formatted\n",
      "[2025-01-12 09:10:23,345][850594287.py][line:23][INFO] ORIGINAL: The girl is not Larry's. The girl is Larry's girl.  She's not his. She knows she's not.\n",
      "\n",
      "[2025-01-12 09:10:23,346][850594287.py][line:24][INFO] FORMATTED: THE GIRL IS NOT LARRY'S THE GIRL IS LARRY'S GIRL  SHE'S NOT HIS SHE KNOWS SHE'S NOT \n"
     ]
    },
    {
     "name": "stdout",
     "output_type": "stream",
     "text": [
      "File 153 of 528\r"
     ]
    },
    {
     "name": "stderr",
     "output_type": "stream",
     "text": [
      "[2025-01-12 09:10:24,641][850594287.py][line:22][INFO] Transcription of file Ses01M_script01_2_F009.wav has been formatted\n",
      "[2025-01-12 09:10:24,641][850594287.py][line:23][INFO] ORIGINAL: I want you to act like he's coming back! Don't think I haven't noticed you. Both of you. Since you Since Chris invited her here.  I won't stand for any nonsense.\n",
      "\n",
      "[2025-01-12 09:10:24,642][850594287.py][line:24][INFO] FORMATTED: I WANT YOU TO ACT LIKE HE'S COMING BACK  DON'T THINK I HAVEN'T NOTICED YOU BOTH OF YOU SINCE YOU SINCE CHRIS INVITED HER HERE  I WON'T STAND FOR ANY NONSENSE \n"
     ]
    },
    {
     "name": "stdout",
     "output_type": "stream",
     "text": [
      "File 154 of 528\r"
     ]
    },
    {
     "name": "stderr",
     "output_type": "stream",
     "text": [
      "[2025-01-12 09:10:25,884][850594287.py][line:22][INFO] Transcription of file Ses01M_script01_2_F011.wav has been formatted\n",
      "[2025-01-12 09:10:25,886][850594287.py][line:23][INFO] ORIGINAL: Yo, laugh at me, laugh all you like, but why does this happen the very night she comes back? She goes to sleep in his room and his memorial breaks in pieces. Look at it, Joe, look!\n",
      "\n",
      "[2025-01-12 09:10:25,889][850594287.py][line:24][INFO] FORMATTED: YO  LAUGH AT ME  LAUGH ALL YOU LIKE  BUT WHY DOES THIS HAPPEN THE VERY NIGHT SHE COMES BACK  SHE GOES TO SLEEP IN HIS ROOM AND HIS MEMORIAL BREAKS IN PIECES LOOK AT IT  JOE  LOOK  \n"
     ]
    },
    {
     "name": "stdout",
     "output_type": "stream",
     "text": [
      "File 155 of 528\r"
     ]
    },
    {
     "name": "stderr",
     "output_type": "stream",
     "text": [
      "[2025-01-12 09:10:27,050][850594287.py][line:22][INFO] Transcription of file Ses01M_script01_2_F012.wav has been formatted\n",
      "[2025-01-12 09:10:27,050][850594287.py][line:23][INFO] ORIGINAL: Believe with me, Joe. You've got to believe! You calm yourself. Only last week a a a boy came back missing longer than Larry. You read it yourself!\n",
      "\n",
      "[2025-01-12 09:10:27,051][850594287.py][line:24][INFO] FORMATTED: BELIEVE WITH ME  JOE YOU'VE GOT TO BELIEVE  YOU CALM YOURSELF ONLY LAST WEEK A A A BOY CAME BACK MISSING LONGER THAN LARRY YOU READ IT YOURSELF  \n"
     ]
    },
    {
     "name": "stdout",
     "output_type": "stream",
     "text": [
      "File 156 of 528\r"
     ]
    },
    {
     "name": "stderr",
     "output_type": "stream",
     "text": [
      "[2025-01-12 09:10:27,985][850594287.py][line:22][INFO] Transcription of file Ses01M_script01_2_F013.wav has been formatted\n",
      "[2025-01-12 09:10:27,986][850594287.py][line:23][INFO] ORIGINAL: You above all have got to believe. Just don't stop believing.\n",
      "\n",
      "[2025-01-12 09:10:27,987][850594287.py][line:24][INFO] FORMATTED: YOU ABOVE ALL HAVE GOT TO BELIEVE JUST DON'T STOP BELIEVING \n"
     ]
    },
    {
     "name": "stdout",
     "output_type": "stream",
     "text": [
      "File 157 of 528\r"
     ]
    },
    {
     "name": "stderr",
     "output_type": "stream",
     "text": [
      "[2025-01-12 09:10:28,929][850594287.py][line:22][INFO] Transcription of file Ses01F_impro05_F008.wav has been formatted\n",
      "[2025-01-12 09:10:28,931][850594287.py][line:23][INFO] ORIGINAL: Flight 714.  Uh huh.  [static sound]\n",
      "\n",
      "[2025-01-12 09:10:28,932][850594287.py][line:24][INFO] FORMATTED: FLIGHT 714  UH HUH   STATIC SOUND  \n"
     ]
    },
    {
     "name": "stdout",
     "output_type": "stream",
     "text": [
      "File 158 of 528\r"
     ]
    },
    {
     "name": "stderr",
     "output_type": "stream",
     "text": [
      "[2025-01-12 09:10:29,910][850594287.py][line:22][INFO] Transcription of file Ses01F_impro05_F009.wav has been formatted\n",
      "[2025-01-12 09:10:29,911][850594287.py][line:23][INFO] ORIGINAL: Am I going to be getting like free tickets, free mileage? When can I expect my bag here?\n",
      "\n",
      "[2025-01-12 09:10:29,911][850594287.py][line:24][INFO] FORMATTED: AM I GOING TO BE GETTING LIKE FREE TICKETS  FREE MILEAGE  WHEN CAN I EXPECT MY BAG HERE  \n"
     ]
    },
    {
     "name": "stdout",
     "output_type": "stream",
     "text": [
      "File 159 of 528\r"
     ]
    },
    {
     "name": "stderr",
     "output_type": "stream",
     "text": [
      "[2025-01-12 09:10:30,596][850594287.py][line:22][INFO] Transcription of file Ses01F_impro05_F011.wav has been formatted\n",
      "[2025-01-12 09:10:30,597][850594287.py][line:23][INFO] ORIGINAL: Is this a joke?\n",
      "\n",
      "[2025-01-12 09:10:30,598][850594287.py][line:24][INFO] FORMATTED: IS THIS A JOKE  \n"
     ]
    },
    {
     "name": "stdout",
     "output_type": "stream",
     "text": [
      "File 160 of 528\r"
     ]
    },
    {
     "name": "stderr",
     "output_type": "stream",
     "text": [
      "[2025-01-12 09:10:31,654][850594287.py][line:22][INFO] Transcription of file Ses01F_impro05_F012.wav has been formatted\n",
      "[2025-01-12 09:10:31,654][850594287.py][line:23][INFO] ORIGINAL: Are there candid cameras? Is this that movie? There's a show, right? Airplane, airline?  [sound of beeping]\n",
      "\n",
      "[2025-01-12 09:10:31,655][850594287.py][line:24][INFO] FORMATTED: ARE THERE CANDID CAMERAS  IS THIS THAT MOVIE  THERE'S A SHOW  RIGHT  AIRPLANE  AIRLINE    SOUND OF BEEPING  \n"
     ]
    },
    {
     "name": "stdout",
     "output_type": "stream",
     "text": [
      "File 161 of 528\r"
     ]
    },
    {
     "name": "stderr",
     "output_type": "stream",
     "text": [
      "[2025-01-12 09:10:32,630][850594287.py][line:22][INFO] Transcription of file Ses01F_impro05_F014.wav has been formatted\n",
      "[2025-01-12 09:10:32,632][850594287.py][line:23][INFO] ORIGINAL: You're you're kidding me. This is a joke.\n",
      "\n",
      "[2025-01-12 09:10:32,634][850594287.py][line:24][INFO] FORMATTED: YOU'RE YOU'RE KIDDING ME THIS IS A JOKE \n"
     ]
    },
    {
     "name": "stdout",
     "output_type": "stream",
     "text": [
      "File 162 of 528\r"
     ]
    },
    {
     "name": "stderr",
     "output_type": "stream",
     "text": [
      "[2025-01-12 09:10:34,039][850594287.py][line:22][INFO] Transcription of file Ses01F_impro05_F015.wav has been formatted\n",
      "[2025-01-12 09:10:34,039][850594287.py][line:23][INFO] ORIGINAL: Do you have any idea? $50? Is that supposed to replace everything that I have? Do you understand how much I have packed in there? Not only does it have sentimental value, it can't be replaced like that. It was incredibly expensive.\n",
      "\n",
      "[2025-01-12 09:10:34,040][850594287.py][line:24][INFO] FORMATTED: DO YOU HAVE ANY IDEA   50  IS THAT SUPPOSED TO REPLACE EVERYTHING THAT I HAVE  DO YOU UNDERSTAND HOW MUCH I HAVE PACKED IN THERE  NOT ONLY DOES IT HAVE SENTIMENTAL VALUE  IT CAN'T BE REPLACED LIKE THAT IT WAS INCREDIBLY EXPENSIVE \n"
     ]
    },
    {
     "name": "stdout",
     "output_type": "stream",
     "text": [
      "File 163 of 528\r"
     ]
    },
    {
     "name": "stderr",
     "output_type": "stream",
     "text": [
      "[2025-01-12 09:10:35,002][850594287.py][line:22][INFO] Transcription of file Ses01F_impro05_F016.wav has been formatted\n",
      "[2025-01-12 09:10:35,003][850594287.py][line:23][INFO] ORIGINAL: We flew in from Paris. I've been shopping for three weeks!\n",
      "\n",
      "[2025-01-12 09:10:35,003][850594287.py][line:24][INFO] FORMATTED: WE FLEW IN FROM PARIS I'VE BEEN SHOPPING FOR THREE WEEKS  \n"
     ]
    },
    {
     "name": "stdout",
     "output_type": "stream",
     "text": [
      "File 164 of 528\r"
     ]
    },
    {
     "name": "stderr",
     "output_type": "stream",
     "text": [
      "[2025-01-12 09:10:36,174][850594287.py][line:22][INFO] Transcription of file Ses01F_impro05_F017.wav has been formatted\n",
      "[2025-01-12 09:10:36,175][850594287.py][line:23][INFO] ORIGINAL: I don't care what your freaking science says! Somebody, somebody needs to replace everything I've got there, and and give me money for my inconvenience.\n",
      "\n",
      "[2025-01-12 09:10:36,176][850594287.py][line:24][INFO] FORMATTED: I DON'T CARE WHAT YOUR FREAKING SCIENCE SAYS  SOMEBODY  SOMEBODY NEEDS TO REPLACE EVERYTHING I'VE GOT THERE  AND AND GIVE ME MONEY FOR MY INCONVENIENCE \n"
     ]
    },
    {
     "name": "stdout",
     "output_type": "stream",
     "text": [
      "File 165 of 528\r"
     ]
    },
    {
     "name": "stderr",
     "output_type": "stream",
     "text": [
      "[2025-01-12 09:10:37,055][850594287.py][line:22][INFO] Transcription of file Ses01F_impro05_F018.wav has been formatted\n",
      "[2025-01-12 09:10:37,057][850594287.py][line:23][INFO] ORIGINAL: Do you understand who my husband is?\n",
      "\n",
      "[2025-01-12 09:10:37,058][850594287.py][line:24][INFO] FORMATTED: DO YOU UNDERSTAND WHO MY HUSBAND IS  \n"
     ]
    },
    {
     "name": "stdout",
     "output_type": "stream",
     "text": [
      "File 166 of 528\r"
     ]
    },
    {
     "name": "stderr",
     "output_type": "stream",
     "text": [
      "[2025-01-12 09:10:38,045][850594287.py][line:22][INFO] Transcription of file Ses01F_impro05_F019.wav has been formatted\n",
      "[2025-01-12 09:10:38,046][850594287.py][line:23][INFO] ORIGINAL: If you're if you're if you're looking for a lawsuit baby, you found it.\n",
      "\n",
      "[2025-01-12 09:10:38,046][850594287.py][line:24][INFO] FORMATTED: IF YOU'RE IF YOU'RE IF YOU'RE LOOKING FOR A LAWSUIT BABY  YOU FOUND IT \n"
     ]
    },
    {
     "name": "stdout",
     "output_type": "stream",
     "text": [
      "File 167 of 528\r"
     ]
    },
    {
     "name": "stderr",
     "output_type": "stream",
     "text": [
      "[2025-01-12 09:10:39,103][850594287.py][line:22][INFO] Transcription of file Ses01F_impro05_F020.wav has been formatted\n",
      "[2025-01-12 09:10:39,104][850594287.py][line:23][INFO] ORIGINAL: Oh! It's a gift. You're you're helping me out here. You know the end of the\n",
      "\n",
      "[2025-01-12 09:10:39,106][850594287.py][line:24][INFO] FORMATTED: OH  IT'S A GIFT YOU'RE YOU'RE HELPING ME OUT HERE YOU KNOW THE END OF THE \n"
     ]
    },
    {
     "name": "stdout",
     "output_type": "stream",
     "text": [
      "File 168 of 528\r"
     ]
    },
    {
     "name": "stderr",
     "output_type": "stream",
     "text": [
      "[2025-01-12 09:10:40,121][850594287.py][line:22][INFO] Transcription of file Ses01F_impro05_F021.wav has been formatted\n",
      "[2025-01-12 09:10:40,122][850594287.py][line:23][INFO] ORIGINAL: You are cruisin' for a bruisin'. You are in so much trouble. With the P-\n",
      "\n",
      "[2025-01-12 09:10:40,123][850594287.py][line:24][INFO] FORMATTED: YOU ARE CRUISIN' FOR A BRUISIN' YOU ARE IN SO MUCH TROUBLE WITH THE P  \n"
     ]
    },
    {
     "name": "stdout",
     "output_type": "stream",
     "text": [
      "File 169 of 528\r"
     ]
    },
    {
     "name": "stderr",
     "output_type": "stream",
     "text": [
      "[2025-01-12 09:10:41,106][850594287.py][line:22][INFO] Transcription of file Ses01F_impro05_F022.wav has been formatted\n",
      "[2025-01-12 09:10:41,108][850594287.py][line:23][INFO] ORIGINAL: Who's in charge? Who's the president of JetBlue?\n",
      "P-p-p-\n",
      "\n",
      "[2025-01-12 09:10:41,110][850594287.py][line:24][INFO] FORMATTED: WHO'S IN CHARGE  WHO'S THE PRESIDENT OF JETBLUE  P P P  \n"
     ]
    },
    {
     "name": "stdout",
     "output_type": "stream",
     "text": [
      "File 170 of 528\r"
     ]
    },
    {
     "name": "stderr",
     "output_type": "stream",
     "text": [
      "[2025-01-12 09:10:41,983][850594287.py][line:22][INFO] Transcription of file Ses01F_impro05_F023.wav has been formatted\n",
      "[2025-01-12 09:10:41,984][850594287.py][line:23][INFO] ORIGINAL: 'Cause they probably know him.\n",
      "\n",
      "[2025-01-12 09:10:41,985][850594287.py][line:24][INFO] FORMATTED: 'CAUSE THEY PROBABLY KNOW HIM \n"
     ]
    },
    {
     "name": "stdout",
     "output_type": "stream",
     "text": [
      "File 171 of 528\r"
     ]
    },
    {
     "name": "stderr",
     "output_type": "stream",
     "text": [
      "[2025-01-12 09:10:42,651][850594287.py][line:22][INFO] Transcription of file Ses01F_impro05_F024.wav has been formatted\n",
      "[2025-01-12 09:10:42,652][850594287.py][line:23][INFO] ORIGINAL: Yeah.\n",
      "\n",
      "[2025-01-12 09:10:42,653][850594287.py][line:24][INFO] FORMATTED: YEAH \n"
     ]
    },
    {
     "name": "stdout",
     "output_type": "stream",
     "text": [
      "File 172 of 528\r"
     ]
    },
    {
     "name": "stderr",
     "output_type": "stream",
     "text": [
      "[2025-01-12 09:10:43,554][850594287.py][line:22][INFO] Transcription of file Ses01F_impro05_F025.wav has been formatted\n",
      "[2025-01-12 09:10:43,554][850594287.py][line:23][INFO] ORIGINAL: I don't want money. I want my clothes.\n",
      "\n",
      "[2025-01-12 09:10:43,555][850594287.py][line:24][INFO] FORMATTED: I DON'T WANT MONEY I WANT MY CLOTHES \n"
     ]
    },
    {
     "name": "stdout",
     "output_type": "stream",
     "text": [
      "File 173 of 528\r"
     ]
    },
    {
     "name": "stderr",
     "output_type": "stream",
     "text": [
      "[2025-01-12 09:10:44,211][850594287.py][line:22][INFO] Transcription of file Ses01F_impro05_F026.wav has been formatted\n",
      "[2025-01-12 09:10:44,212][850594287.py][line:23][INFO] ORIGINAL: P\n",
      "\n",
      "[2025-01-12 09:10:44,212][850594287.py][line:24][INFO] FORMATTED: P \n"
     ]
    },
    {
     "name": "stdout",
     "output_type": "stream",
     "text": [
      "File 174 of 528\r"
     ]
    },
    {
     "name": "stderr",
     "output_type": "stream",
     "text": [
      "[2025-01-12 09:10:45,069][850594287.py][line:22][INFO] Transcription of file Ses01F_impro05_F028.wav has been formatted\n",
      "[2025-01-12 09:10:45,069][850594287.py][line:23][INFO] ORIGINAL: Okay. I'll do that.\n",
      "\n",
      "[2025-01-12 09:10:45,070][850594287.py][line:24][INFO] FORMATTED: OKAY I'LL DO THAT \n",
      "[2025-01-12 09:10:45,070][2649188033.py][line:47][INFO] ------ Gemini API Usage Metrics ------\n",
      "[2025-01-12 09:10:45,071][2649188033.py][line:48][INFO] [Files Processed] 175 of 528\n",
      "[2025-01-12 09:10:45,072][2649188033.py][line:49][INFO] [Total Tokens] 202472\n",
      "[2025-01-12 09:10:45,073][2649188033.py][line:50][INFO] --------------------------------------\n"
     ]
    },
    {
     "name": "stdout",
     "output_type": "stream",
     "text": [
      "File 175 of 528\r"
     ]
    },
    {
     "name": "stderr",
     "output_type": "stream",
     "text": [
      "[2025-01-12 09:10:51,161][850594287.py][line:22][INFO] Transcription of file Ses01F_impro05_F029.wav has been formatted\n",
      "[2025-01-12 09:10:51,163][850594287.py][line:23][INFO] ORIGINAL: I don't think you've done everything you could do because I don't have my bag here yet.\n",
      "\n",
      "[2025-01-12 09:10:51,166][850594287.py][line:24][INFO] FORMATTED: I DON'T THINK YOU'VE DONE EVERYTHING YOU COULD DO BECAUSE I DON'T HAVE MY BAG HERE YET \n"
     ]
    },
    {
     "name": "stdout",
     "output_type": "stream",
     "text": [
      "File 176 of 528\r"
     ]
    },
    {
     "name": "stderr",
     "output_type": "stream",
     "text": [
      "[2025-01-12 09:10:52,115][850594287.py][line:22][INFO] Transcription of file Ses01F_impro05_F030.wav has been formatted\n",
      "[2025-01-12 09:10:52,116][850594287.py][line:23][INFO] ORIGINAL: A letter? Yeah. I'll make a personal phone call.\n",
      "Pppp\n",
      "\n",
      "[2025-01-12 09:10:52,118][850594287.py][line:24][INFO] FORMATTED: A LETTER  YEAH I'LL MAKE A PERSONAL PHONE CALL PPPP \n"
     ]
    },
    {
     "name": "stdout",
     "output_type": "stream",
     "text": [
      "File 177 of 528\r"
     ]
    },
    {
     "name": "stderr",
     "output_type": "stream",
     "text": [
      "[2025-01-12 09:10:52,976][850594287.py][line:22][INFO] Transcription of file Ses01F_script01_2_F003.wav has been formatted\n",
      "[2025-01-12 09:10:52,976][850594287.py][line:23][INFO] ORIGINAL: He's not gonna marry her.\n",
      "\n",
      "[2025-01-12 09:10:52,976][850594287.py][line:24][INFO] FORMATTED: HE'S NOT GONNA MARRY HER \n"
     ]
    },
    {
     "name": "stdout",
     "output_type": "stream",
     "text": [
      "File 178 of 528\r"
     ]
    },
    {
     "name": "stderr",
     "output_type": "stream",
     "text": [
      "[2025-01-12 09:10:53,842][850594287.py][line:22][INFO] Transcription of file Ses01F_script01_2_F004.wav has been formatted\n",
      "[2025-01-12 09:10:53,843][850594287.py][line:23][INFO] ORIGINAL: It's got that about it.\n",
      "\n",
      "[2025-01-12 09:10:53,846][850594287.py][line:24][INFO] FORMATTED: IT'S GOT THAT ABOUT IT \n"
     ]
    },
    {
     "name": "stdout",
     "output_type": "stream",
     "text": [
      "File 179 of 528\r"
     ]
    },
    {
     "name": "stderr",
     "output_type": "stream",
     "text": [
      "[2025-01-12 09:10:54,760][850594287.py][line:22][INFO] Transcription of file Ses01F_script01_2_F005.wav has been formatted\n",
      "[2025-01-12 09:10:54,761][850594287.py][line:23][INFO] ORIGINAL: What is going on here, Joe?\n",
      "\n",
      "[2025-01-12 09:10:54,763][850594287.py][line:24][INFO] FORMATTED: WHAT IS GOING ON HERE  JOE  \n"
     ]
    },
    {
     "name": "stdout",
     "output_type": "stream",
     "text": [
      "File 180 of 528\r"
     ]
    },
    {
     "name": "stderr",
     "output_type": "stream",
     "text": [
      "[2025-01-12 09:10:55,690][850594287.py][line:22][INFO] Transcription of file Ses01F_script01_2_F006.wav has been formatted\n",
      "[2025-01-12 09:10:55,692][850594287.py][line:23][INFO] ORIGINAL: She is not his girl. She knows she's not.\n",
      "\n",
      "[2025-01-12 09:10:55,693][850594287.py][line:24][INFO] FORMATTED: SHE IS NOT HIS GIRL SHE KNOWS SHE'S NOT \n"
     ]
    },
    {
     "name": "stdout",
     "output_type": "stream",
     "text": [
      "File 181 of 528\r"
     ]
    },
    {
     "name": "stderr",
     "output_type": "stream",
     "text": [
      "[2025-01-12 09:10:56,915][850594287.py][line:22][INFO] Transcription of file Ses01F_script01_2_F007.wav has been formatted\n",
      "[2025-01-12 09:10:56,916][850594287.py][line:23][INFO] ORIGINAL: Then why is she still single? New York is full of men. Why is she still single? Probably a hundred people told her she's foolish, but she waited.\n",
      "\n",
      "[2025-01-12 09:10:56,917][850594287.py][line:24][INFO] FORMATTED: THEN WHY IS SHE STILL SINGLE  NEW YORK IS FULL OF MEN WHY IS SHE STILL SINGLE  PROBABLY A HUNDRED PEOPLE TOLD HER SHE'S FOOLISH  BUT SHE WAITED \n"
     ]
    },
    {
     "name": "stdout",
     "output_type": "stream",
     "text": [
      "File 182 of 528\r"
     ]
    },
    {
     "name": "stderr",
     "output_type": "stream",
     "text": [
      "[2025-01-12 09:10:58,171][850594287.py][line:22][INFO] Transcription of file Ses01F_script01_2_F008.wav has been formatted\n",
      "[2025-01-12 09:10:58,173][850594287.py][line:23][INFO] ORIGINAL: Because she knows what I know. That's why.  She's faithful as a rock. In my darkest moments, I think of her waiting and and I know that I'm right.\n",
      "\n",
      "[2025-01-12 09:10:58,175][850594287.py][line:24][INFO] FORMATTED: BECAUSE SHE KNOWS WHAT I KNOW THAT'S WHY  SHE'S FAITHFUL AS A ROCK IN MY DARKEST MOMENTS  I THINK OF HER WAITING AND AND I KNOW THAT I'M RIGHT \n"
     ]
    },
    {
     "name": "stdout",
     "output_type": "stream",
     "text": [
      "File 183 of 528\r"
     ]
    },
    {
     "name": "stderr",
     "output_type": "stream",
     "text": [
      "[2025-01-12 09:10:59,362][850594287.py][line:22][INFO] Transcription of file Ses01F_script01_2_F009.wav has been formatted\n",
      "[2025-01-12 09:10:59,363][850594287.py][line:23][INFO] ORIGINAL: Nobody in this house dares take away her faith, Joe. You know strangers might, but not his father, not his brother.\n",
      "  P\n",
      "\n",
      "[2025-01-12 09:10:59,363][850594287.py][line:24][INFO] FORMATTED: NOBODY IN THIS HOUSE DARES TAKE AWAY HER FAITH  JOE YOU KNOW STRANGERS MIGHT  BUT NOT HIS FATHER  NOT HIS BROTHER   P \n"
     ]
    },
    {
     "name": "stdout",
     "output_type": "stream",
     "text": [
      "File 184 of 528\r"
     ]
    },
    {
     "name": "stderr",
     "output_type": "stream",
     "text": [
      "[2025-01-12 09:11:00,499][850594287.py][line:22][INFO] Transcription of file Ses01F_script01_2_F010.wav has been formatted\n",
      "[2025-01-12 09:11:00,500][850594287.py][line:23][INFO] ORIGINAL: I want you to I want you to act like he's coming back. Both of you. Don't think I haven't noticed you since Chris invited her here.\n",
      "\n",
      "[2025-01-12 09:11:00,501][850594287.py][line:24][INFO] FORMATTED: I WANT YOU TO I WANT YOU TO ACT LIKE HE'S COMING BACK BOTH OF YOU DON'T THINK I HAVEN'T NOTICED YOU SINCE CHRIS INVITED HER HERE \n"
     ]
    },
    {
     "name": "stdout",
     "output_type": "stream",
     "text": [
      "File 185 of 528\r"
     ]
    },
    {
     "name": "stderr",
     "output_type": "stream",
     "text": [
      "[2025-01-12 09:11:01,372][850594287.py][line:22][INFO] Transcription of file Ses01F_script01_2_F011.wav has been formatted\n",
      "[2025-01-12 09:11:01,373][850594287.py][line:23][INFO] ORIGINAL: I won't stand for any nonsense.\n",
      "\n",
      "[2025-01-12 09:11:01,374][850594287.py][line:24][INFO] FORMATTED: I WON'T STAND FOR ANY NONSENSE \n"
     ]
    },
    {
     "name": "stdout",
     "output_type": "stream",
     "text": [
      "File 186 of 528\r"
     ]
    },
    {
     "name": "stderr",
     "output_type": "stream",
     "text": [
      "[2025-01-12 09:11:02,887][850594287.py][line:22][INFO] Transcription of file Ses01F_script01_2_F012.wav has been formatted\n",
      "[2025-01-12 09:11:02,889][850594287.py][line:23][INFO] ORIGINAL: Because if he's not coming back, I'll kill myself. Oh, laugh, laugh all you like. But why does this happen the very night he comes back? She goes to sleep in his room and and his memorial breaks in pieces. Look at it, Jo. Look!  \n",
      "(Sound of something breaking)\n",
      "\n",
      "[2025-01-12 09:11:02,890][850594287.py][line:24][INFO] FORMATTED: BECAUSE IF HE'S NOT COMING BACK  I'LL KILL MYSELF OH  LAUGH  LAUGH ALL YOU LIKE BUT WHY DOES THIS HAPPEN THE VERY NIGHT HE COMES BACK  SHE GOES TO SLEEP IN HIS ROOM AND AND HIS MEMORIAL BREAKS IN PIECES LOOK AT IT  JO LOOK     SOUND OF SOMETHING BREAKING  \n"
     ]
    },
    {
     "name": "stdout",
     "output_type": "stream",
     "text": [
      "File 187 of 528\r"
     ]
    },
    {
     "name": "stderr",
     "output_type": "stream",
     "text": [
      "[2025-01-12 09:11:04,077][850594287.py][line:22][INFO] Transcription of file Ses01F_script01_2_F013.wav has been formatted\n",
      "[2025-01-12 09:11:04,079][850594287.py][line:23][INFO] ORIGINAL: Believe with me, Joe. Only last week a man came back into Detroit missing longer than Larry. Believe with me. You above all have got to believe. Just believe. You above all.\n",
      "\n",
      "[2025-01-12 09:11:04,080][850594287.py][line:24][INFO] FORMATTED: BELIEVE WITH ME  JOE ONLY LAST WEEK A MAN CAME BACK INTO DETROIT MISSING LONGER THAN LARRY BELIEVE WITH ME YOU ABOVE ALL HAVE GOT TO BELIEVE JUST BELIEVE YOU ABOVE ALL \n"
     ]
    },
    {
     "name": "stdout",
     "output_type": "stream",
     "text": [
      "File 188 of 528\r"
     ]
    },
    {
     "name": "stderr",
     "output_type": "stream",
     "text": [
      "[2025-01-12 09:11:04,918][850594287.py][line:22][INFO] Transcription of file Ses01M_script02_2_F000.wav has been formatted\n",
      "[2025-01-12 09:11:04,921][850594287.py][line:23][INFO] ORIGINAL: That's the wind.\n",
      "\n",
      "[2025-01-12 09:11:04,922][850594287.py][line:24][INFO] FORMATTED: THAT'S THE WIND \n"
     ]
    },
    {
     "name": "stdout",
     "output_type": "stream",
     "text": [
      "File 189 of 528\r"
     ]
    },
    {
     "name": "stderr",
     "output_type": "stream",
     "text": [
      "[2025-01-12 09:11:05,975][850594287.py][line:22][INFO] Transcription of file Ses01M_script02_2_F010.wav has been formatted\n",
      "[2025-01-12 09:11:05,977][850594287.py][line:23][INFO] ORIGINAL: Why do you ask me that? God damn it! I told you not to ask me that! I hate it when you ask me that! It's insulting!\n",
      "\n",
      "[2025-01-12 09:11:05,978][850594287.py][line:24][INFO] FORMATTED: WHY DO YOU ASK ME THAT  GOD DAMN IT  I TOLD YOU NOT TO ASK ME THAT  I HATE IT WHEN YOU ASK ME THAT  IT'S INSULTING  \n"
     ]
    },
    {
     "name": "stdout",
     "output_type": "stream",
     "text": [
      "File 190 of 528\r"
     ]
    },
    {
     "name": "stderr",
     "output_type": "stream",
     "text": [
      "[2025-01-12 09:11:06,986][850594287.py][line:22][INFO] Transcription of file Ses01M_script02_2_F011.wav has been formatted\n",
      "[2025-01-12 09:11:06,988][850594287.py][line:23][INFO] ORIGINAL: I just we just have different ideas of what this evening is supposed to look like.\n",
      "\n",
      "[2025-01-12 09:11:06,989][850594287.py][line:24][INFO] FORMATTED: I JUST WE JUST HAVE DIFFERENT IDEAS OF WHAT THIS EVENING IS SUPPOSED TO LOOK LIKE \n"
     ]
    },
    {
     "name": "stdout",
     "output_type": "stream",
     "text": [
      "File 191 of 528\r"
     ]
    },
    {
     "name": "stderr",
     "output_type": "stream",
     "text": [
      "[2025-01-12 09:11:07,882][850594287.py][line:22][INFO] Transcription of file Ses01M_script02_2_F013.wav has been formatted\n",
      "[2025-01-12 09:11:07,884][850594287.py][line:23][INFO] ORIGINAL: Because they never do. Do they? Have they ever?\n",
      "\n",
      "[2025-01-12 09:11:07,885][850594287.py][line:24][INFO] FORMATTED: BECAUSE THEY NEVER DO DO THEY  HAVE THEY EVER  \n"
     ]
    },
    {
     "name": "stdout",
     "output_type": "stream",
     "text": [
      "File 192 of 528\r"
     ]
    },
    {
     "name": "stderr",
     "output_type": "stream",
     "text": [
      "[2025-01-12 09:11:08,797][850594287.py][line:22][INFO] Transcription of file Ses01M_script02_2_F014.wav has been formatted\n",
      "[2025-01-12 09:11:08,798][850594287.py][line:23][INFO] ORIGINAL: Twice as every year we've tried that's ever.\n",
      "\n",
      "[2025-01-12 09:11:08,800][850594287.py][line:24][INFO] FORMATTED: TWICE AS EVERY YEAR WE'VE TRIED THAT'S EVER \n"
     ]
    },
    {
     "name": "stdout",
     "output_type": "stream",
     "text": [
      "File 193 of 528\r"
     ]
    },
    {
     "name": "stderr",
     "output_type": "stream",
     "text": [
      "[2025-01-12 09:11:09,900][850594287.py][line:22][INFO] Transcription of file Ses01M_script02_2_F015.wav has been formatted\n",
      "[2025-01-12 09:11:09,902][850594287.py][line:23][INFO] ORIGINAL: Better response. No, we won't. It's pointless. It's like waiting up to see Santa Claus.  [sound of static]\n",
      "\n",
      "[2025-01-12 09:11:09,904][850594287.py][line:24][INFO] FORMATTED: BETTER RESPONSE NO  WE WON'T IT'S POINTLESS IT'S LIKE WAITING UP TO SEE SANTA CLAUS   SOUND OF STATIC  \n"
     ]
    },
    {
     "name": "stdout",
     "output_type": "stream",
     "text": [
      "File 194 of 528\r"
     ]
    },
    {
     "name": "stderr",
     "output_type": "stream",
     "text": [
      "[2025-01-12 09:11:11,129][850594287.py][line:22][INFO] Transcription of file Ses01M_script02_2_F016.wav has been formatted\n",
      "[2025-01-12 09:11:11,132][850594287.py][line:23][INFO] ORIGINAL: I feel like my whole life is going to be spent here on the beach with my eyes wide open and my hands clasped expectantly, waiting for fish to show up and the fish never show.\n",
      "\n",
      "[2025-01-12 09:11:11,133][850594287.py][line:24][INFO] FORMATTED: I FEEL LIKE MY WHOLE LIFE IS GOING TO BE SPENT HERE ON THE BEACH WITH MY EYES WIDE OPEN AND MY HANDS CLASPED EXPECTANTLY  WAITING FOR FISH TO SHOW UP AND THE FISH NEVER SHOW \n"
     ]
    },
    {
     "name": "stdout",
     "output_type": "stream",
     "text": [
      "File 195 of 528\r"
     ]
    },
    {
     "name": "stderr",
     "output_type": "stream",
     "text": [
      "[2025-01-12 09:11:12,169][850594287.py][line:22][INFO] Transcription of file Ses01M_script02_2_F019.wav has been formatted\n",
      "[2025-01-12 09:11:12,171][850594287.py][line:23][INFO] ORIGINAL: Do you remember the first year we came here?\n",
      "\n",
      "It's about four years ago, right after we got married.\n",
      "\n",
      "[2025-01-12 09:11:12,172][850594287.py][line:24][INFO] FORMATTED: DO YOU REMEMBER THE FIRST YEAR WE CAME HERE   IT'S ABOUT FOUR YEARS AGO  RIGHT AFTER WE GOT MARRIED \n"
     ]
    },
    {
     "name": "stdout",
     "output_type": "stream",
     "text": [
      "File 196 of 528\r"
     ]
    },
    {
     "name": "stderr",
     "output_type": "stream",
     "text": [
      "[2025-01-12 09:11:13,232][850594287.py][line:22][INFO] Transcription of file Ses01M_script02_2_F022.wav has been formatted\n",
      "[2025-01-12 09:11:13,233][850594287.py][line:23][INFO] ORIGINAL: And I remember thinking, this is it. Finally. Finally, I'm as happy as I'm supposed to be.\n",
      "\n",
      "[2025-01-12 09:11:13,235][850594287.py][line:24][INFO] FORMATTED: AND I REMEMBER THINKING  THIS IS IT FINALLY FINALLY  I'M AS HAPPY AS I'M SUPPOSED TO BE \n"
     ]
    },
    {
     "name": "stdout",
     "output_type": "stream",
     "text": [
      "File 197 of 528\r"
     ]
    },
    {
     "name": "stderr",
     "output_type": "stream",
     "text": [
      "[2025-01-12 09:11:14,211][850594287.py][line:22][INFO] Transcription of file Ses01M_script02_2_F024.wav has been formatted\n",
      "[2025-01-12 09:11:14,213][850594287.py][line:23][INFO] ORIGINAL: I'd rather not remember some things.  I'd rather not hope for some things.\n",
      "\n",
      "[2025-01-12 09:11:14,214][850594287.py][line:24][INFO] FORMATTED: I'D RATHER NOT REMEMBER SOME THINGS  I'D RATHER NOT HOPE FOR SOME THINGS \n"
     ]
    },
    {
     "name": "stdout",
     "output_type": "stream",
     "text": [
      "File 198 of 528\r"
     ]
    },
    {
     "name": "stderr",
     "output_type": "stream",
     "text": [
      "[2025-01-12 09:11:14,991][850594287.py][line:22][INFO] Transcription of file Ses01M_script02_2_F025.wav has been formatted\n",
      "[2025-01-12 09:11:14,993][850594287.py][line:23][INFO] ORIGINAL:  \n",
      "\n",
      "[2025-01-12 09:11:14,994][850594287.py][line:24][INFO] FORMATTED:   \n"
     ]
    },
    {
     "name": "stdout",
     "output_type": "stream",
     "text": [
      "File 199 of 528\r"
     ]
    },
    {
     "name": "stderr",
     "output_type": "stream",
     "text": [
      "[2025-01-12 09:11:15,632][850594287.py][line:22][INFO] Transcription of file Ses01M_script02_2_F026.wav has been formatted\n",
      "[2025-01-12 09:11:15,634][850594287.py][line:23][INFO] ORIGINAL:  \n",
      "\n",
      "[2025-01-12 09:11:15,636][850594287.py][line:24][INFO] FORMATTED:  \n",
      "[2025-01-12 09:11:15,637][2649188033.py][line:47][INFO] ------ Gemini API Usage Metrics ------\n",
      "[2025-01-12 09:11:15,638][2649188033.py][line:48][INFO] [Files Processed] 200 of 528\n",
      "[2025-01-12 09:11:15,639][2649188033.py][line:49][INFO] [Total Tokens] 208999\n",
      "[2025-01-12 09:11:15,640][2649188033.py][line:50][INFO] --------------------------------------\n"
     ]
    },
    {
     "name": "stdout",
     "output_type": "stream",
     "text": [
      "File 200 of 528\r"
     ]
    },
    {
     "name": "stderr",
     "output_type": "stream",
     "text": [
      "[2025-01-12 09:11:21,648][850594287.py][line:22][INFO] Transcription of file Ses01M_script02_2_F030.wav has been formatted\n",
      "[2025-01-12 09:11:21,650][850594287.py][line:23][INFO] ORIGINAL: How'd you want? I want something to turn out the way that it's supposed to.  But what can...\n",
      "\n",
      "[2025-01-12 09:11:21,651][850594287.py][line:24][INFO] FORMATTED: HOW'D YOU WANT  I WANT SOMETHING TO TURN OUT THE WAY THAT IT'S SUPPOSED TO  BUT WHAT CAN \n"
     ]
    },
    {
     "name": "stdout",
     "output_type": "stream",
     "text": [
      "File 201 of 528\r"
     ]
    },
    {
     "name": "stderr",
     "output_type": "stream",
     "text": [
      "[2025-01-12 09:11:22,645][850594287.py][line:22][INFO] Transcription of file Ses01M_script02_2_F031.wav has been formatted\n",
      "[2025-01-12 09:11:22,647][850594287.py][line:23][INFO] ORIGINAL: This what? What is this? This isn't even anything.  Pppppp\n",
      "\n",
      "[2025-01-12 09:11:22,648][850594287.py][line:24][INFO] FORMATTED: THIS WHAT  WHAT IS THIS  THIS ISN'T EVEN ANYTHING  PPPPPP \n"
     ]
    },
    {
     "name": "stdout",
     "output_type": "stream",
     "text": [
      "File 202 of 528\r"
     ]
    },
    {
     "name": "stderr",
     "output_type": "stream",
     "text": [
      "[2025-01-12 09:11:23,672][850594287.py][line:22][INFO] Transcription of file Ses01M_script02_2_F032.wav has been formatted\n",
      "[2025-01-12 09:11:23,673][850594287.py][line:23][INFO] ORIGINAL: Oh, sure. This is standing on the beach. This is waiting. Fighting.  Beep beep beep beep beep beep beep.\n",
      "\n",
      "[2025-01-12 09:11:23,673][850594287.py][line:24][INFO] FORMATTED: OH  SURE THIS IS STANDING ON THE BEACH THIS IS WAITING FIGHTING  BEEP BEEP BEEP BEEP BEEP BEEP BEEP \n"
     ]
    },
    {
     "name": "stdout",
     "output_type": "stream",
     "text": [
      "File 203 of 528\r"
     ]
    },
    {
     "name": "stderr",
     "output_type": "stream",
     "text": [
      "[2025-01-12 09:11:24,599][850594287.py][line:22][INFO] Transcription of file Ses01M_script02_2_F033.wav has been formatted\n",
      "[2025-01-12 09:11:24,602][850594287.py][line:23][INFO] ORIGINAL: This isn't anything like I thought anything would be.\n",
      "\n",
      "[2025-01-12 09:11:24,603][850594287.py][line:24][INFO] FORMATTED: THIS ISN'T ANYTHING LIKE I THOUGHT ANYTHING WOULD BE \n"
     ]
    },
    {
     "name": "stdout",
     "output_type": "stream",
     "text": [
      "File 204 of 528\r"
     ]
    },
    {
     "name": "stderr",
     "output_type": "stream",
     "text": [
      "[2025-01-12 09:11:25,706][850594287.py][line:22][INFO] Transcription of file Ses01M_script02_2_F034.wav has been formatted\n",
      "[2025-01-12 09:11:25,708][850594287.py][line:23][INFO] ORIGINAL: This is just this.  I mean it includes a lot and everything but it's...\n",
      "\n",
      "Do you understand what I'm saying?\n",
      "\n",
      "[2025-01-12 09:11:25,709][850594287.py][line:24][INFO] FORMATTED: THIS IS JUST THIS  I MEAN IT INCLUDES A LOT AND EVERYTHING BUT IT'S  DO YOU UNDERSTAND WHAT I'M SAYING  \n"
     ]
    },
    {
     "name": "stdout",
     "output_type": "stream",
     "text": [
      "File 205 of 528\r"
     ]
    },
    {
     "name": "stderr",
     "output_type": "stream",
     "text": [
      "[2025-01-12 09:11:26,699][850594287.py][line:22][INFO] Transcription of file Ses01M_script02_2_F035.wav has been formatted\n",
      "[2025-01-12 09:11:26,701][850594287.py][line:23][INFO] ORIGINAL: I know that, Augie. I really do.  *sh*  *pfft*\n",
      "\n",
      "[2025-01-12 09:11:26,702][850594287.py][line:24][INFO] FORMATTED: I KNOW THAT  AUGIE I REALLY DO   SH    PFFT  \n"
     ]
    },
    {
     "name": "stdout",
     "output_type": "stream",
     "text": [
      "File 206 of 528\r"
     ]
    },
    {
     "name": "stderr",
     "output_type": "stream",
     "text": [
      "[2025-01-12 09:11:27,682][850594287.py][line:22][INFO] Transcription of file Ses01M_script02_2_F036.wav has been formatted\n",
      "[2025-01-12 09:11:27,683][850594287.py][line:23][INFO] ORIGINAL: I just can't help wishing that I was somebody somewhere else.\n",
      "\n",
      "[2025-01-12 09:11:27,683][850594287.py][line:24][INFO] FORMATTED: I JUST CAN'T HELP WISHING THAT I WAS SOMEBODY SOMEWHERE ELSE \n"
     ]
    },
    {
     "name": "stdout",
     "output_type": "stream",
     "text": [
      "File 207 of 528\r"
     ]
    },
    {
     "name": "stderr",
     "output_type": "stream",
     "text": [
      "[2025-01-12 09:11:28,534][850594287.py][line:22][INFO] Transcription of file Ses01M_script02_2_F037.wav has been formatted\n",
      "[2025-01-12 09:11:28,535][850594287.py][line:23][INFO] ORIGINAL: I didn't say that.\n",
      "\n",
      "[2025-01-12 09:11:28,536][850594287.py][line:24][INFO] FORMATTED: I DIDN'T SAY THAT \n"
     ]
    },
    {
     "name": "stdout",
     "output_type": "stream",
     "text": [
      "File 208 of 528\r"
     ]
    },
    {
     "name": "stderr",
     "output_type": "stream",
     "text": [
      "[2025-01-12 09:11:29,653][850594287.py][line:22][INFO] Transcription of file Ses01M_script02_2_F040.wav has been formatted\n",
      "[2025-01-12 09:11:29,655][850594287.py][line:23][INFO] ORIGINAL: You're the one who probably wishes he was with somebody else. Somebody who didn't take everything so seriously. Somebody who can enjoy yourself.\n",
      "\n",
      "[2025-01-12 09:11:29,656][850594287.py][line:24][INFO] FORMATTED: YOU'RE THE ONE WHO PROBABLY WISHES HE WAS WITH SOMEBODY ELSE SOMEBODY WHO DIDN'T TAKE EVERYTHING SO SERIOUSLY SOMEBODY WHO CAN ENJOY YOURSELF \n"
     ]
    },
    {
     "name": "stdout",
     "output_type": "stream",
     "text": [
      "File 209 of 528\r"
     ]
    },
    {
     "name": "stderr",
     "output_type": "stream",
     "text": [
      "[2025-01-12 09:11:30,643][850594287.py][line:22][INFO] Transcription of file Ses01M_script02_2_F044.wav has been formatted\n",
      "[2025-01-12 09:11:30,645][850594287.py][line:23][INFO] ORIGINAL: Mm, I guess we don't need glasses.\n",
      "\n",
      "[2025-01-12 09:11:30,646][850594287.py][line:24][INFO] FORMATTED: MM  I GUESS WE DON'T NEED GLASSES \n"
     ]
    },
    {
     "name": "stdout",
     "output_type": "stream",
     "text": [
      "File 210 of 528\r"
     ]
    },
    {
     "name": "stderr",
     "output_type": "stream",
     "text": [
      "[2025-01-12 09:11:31,680][850594287.py][line:22][INFO] Transcription of file Ses01M_script02_2_F045.wav has been formatted\n",
      "[2025-01-12 09:11:31,683][850594287.py][line:23][INFO] ORIGINAL: I'm beginning to think you might be right.  I think this might be the spot after all.\n",
      "\n",
      "[2025-01-12 09:11:31,684][850594287.py][line:24][INFO] FORMATTED: I'M BEGINNING TO THINK YOU MIGHT BE RIGHT  I THINK THIS MIGHT BE THE SPOT AFTER ALL \n"
     ]
    },
    {
     "name": "stdout",
     "output_type": "stream",
     "text": [
      "File 211 of 528\r"
     ]
    },
    {
     "name": "stderr",
     "output_type": "stream",
     "text": [
      "[2025-01-12 09:11:32,503][850594287.py][line:22][INFO] Transcription of file Ses01M_script02_2_F046.wav has been formatted\n",
      "[2025-01-12 09:11:32,504][850594287.py][line:23][INFO] ORIGINAL: Okay, I'm sorry.\n",
      "\n",
      "[2025-01-12 09:11:32,505][850594287.py][line:24][INFO] FORMATTED: OKAY  I'M SORRY \n"
     ]
    },
    {
     "name": "stdout",
     "output_type": "stream",
     "text": [
      "File 212 of 528\r"
     ]
    },
    {
     "name": "stderr",
     "output_type": "stream",
     "text": [
      "[2025-01-12 09:11:33,356][850594287.py][line:22][INFO] Transcription of file Ses01M_script02_2_F047.wav has been formatted\n",
      "[2025-01-12 09:11:33,358][850594287.py][line:23][INFO] ORIGINAL: Or not?\n",
      "\n",
      "[2025-01-12 09:11:33,361][850594287.py][line:24][INFO] FORMATTED: OR NOT  \n"
     ]
    },
    {
     "name": "stdout",
     "output_type": "stream",
     "text": [
      "File 213 of 528\r"
     ]
    },
    {
     "name": "stderr",
     "output_type": "stream",
     "text": [
      "[2025-01-12 09:11:34,254][850594287.py][line:22][INFO] Transcription of file Ses01M_script01_3_F000.wav has been formatted\n",
      "[2025-01-12 09:11:34,256][850594287.py][line:23][INFO] ORIGINAL: The only one I know who still loves his parents.\n",
      "\n",
      "[2025-01-12 09:11:34,257][850594287.py][line:24][INFO] FORMATTED: THE ONLY ONE I KNOW WHO STILL LOVES HIS PARENTS \n"
     ]
    },
    {
     "name": "stdout",
     "output_type": "stream",
     "text": [
      "File 214 of 528\r"
     ]
    },
    {
     "name": "stderr",
     "output_type": "stream",
     "text": [
      "[2025-01-12 09:11:35,236][850594287.py][line:22][INFO] Transcription of file Ses01M_script01_3_F001.wav has been formatted\n",
      "[2025-01-12 09:11:35,238][850594287.py][line:23][INFO] ORIGINAL: Oh, it's not a bad thing. It's a good thing.\n",
      "\n",
      "[2025-01-12 09:11:35,239][850594287.py][line:24][INFO] FORMATTED: OH  IT'S NOT A BAD THING IT'S A GOOD THING \n"
     ]
    },
    {
     "name": "stdout",
     "output_type": "stream",
     "text": [
      "File 215 of 528\r"
     ]
    },
    {
     "name": "stderr",
     "output_type": "stream",
     "text": [
      "[2025-01-12 09:11:36,179][850594287.py][line:22][INFO] Transcription of file Ses01M_script01_3_F003.wav has been formatted\n",
      "[2025-01-12 09:11:36,182][850594287.py][line:23][INFO] ORIGINAL: Not sorry, no.\n",
      "\n",
      "But I can't stay here.\n",
      "\n",
      "[2025-01-12 09:11:36,183][850594287.py][line:24][INFO] FORMATTED: NOT SORRY  NO  BUT I CAN'T STAY HERE \n"
     ]
    },
    {
     "name": "stdout",
     "output_type": "stream",
     "text": [
      "File 216 of 528\r"
     ]
    },
    {
     "name": "stderr",
     "output_type": "stream",
     "text": [
      "[2025-01-12 09:11:37,086][850594287.py][line:22][INFO] Transcription of file Ses01M_script01_3_F004.wav has been formatted\n",
      "[2025-01-12 09:11:37,087][850594287.py][line:23][INFO] ORIGINAL: The one thing my mother's always told me to go.\n",
      "\n",
      "[2025-01-12 09:11:37,088][850594287.py][line:24][INFO] FORMATTED: THE ONE THING MY MOTHER'S ALWAYS TOLD ME TO GO \n"
     ]
    },
    {
     "name": "stdout",
     "output_type": "stream",
     "text": [
      "File 217 of 528\r"
     ]
    },
    {
     "name": "stderr",
     "output_type": "stream",
     "text": [
      "[2025-01-12 09:11:38,001][850594287.py][line:22][INFO] Transcription of file Ses01M_script01_3_F005.wav has been formatted\n",
      "[2025-01-12 09:11:38,002][850594287.py][line:23][INFO] ORIGINAL: and then you you've been kinda\n",
      "\n",
      "[2025-01-12 09:11:38,003][850594287.py][line:24][INFO] FORMATTED: AND THEN YOU YOU'VE BEEN KINDA \n"
     ]
    },
    {
     "name": "stdout",
     "output_type": "stream",
     "text": [
      "File 218 of 528\r"
     ]
    },
    {
     "name": "stderr",
     "output_type": "stream",
     "text": [
      "[2025-01-12 09:11:38,976][850594287.py][line:22][INFO] Transcription of file Ses01M_script01_3_F006.wav has been formatted\n",
      "[2025-01-12 09:11:38,978][850594287.py][line:23][INFO] ORIGINAL: You've been kind of embarrassed ever since I got here.\n",
      "\n",
      "[2025-01-12 09:11:38,979][850594287.py][line:24][INFO] FORMATTED: YOU'VE BEEN KIND OF EMBARRASSED EVER SINCE I GOT HERE \n"
     ]
    },
    {
     "name": "stdout",
     "output_type": "stream",
     "text": [
      "File 219 of 528\r"
     ]
    },
    {
     "name": "stderr",
     "output_type": "stream",
     "text": [
      "[2025-01-12 09:11:39,912][850594287.py][line:22][INFO] Transcription of file Ses01M_script01_3_F008.wav has been formatted\n",
      "[2025-01-12 09:11:39,913][850594287.py][line:23][INFO] ORIGINAL: From her point of view, why else would I come?\n",
      "\n",
      "[2025-01-12 09:11:39,914][850594287.py][line:24][INFO] FORMATTED: FROM HER POINT OF VIEW  WHY ELSE WOULD I COME  \n"
     ]
    },
    {
     "name": "stdout",
     "output_type": "stream",
     "text": [
      "File 220 of 528\r"
     ]
    },
    {
     "name": "stderr",
     "output_type": "stream",
     "text": [
      "[2025-01-12 09:11:40,779][850594287.py][line:22][INFO] Transcription of file Ses01M_script01_3_F012.wav has been formatted\n",
      "[2025-01-12 09:11:40,782][850594287.py][line:23][INFO] ORIGINAL: I almost got married two years ago.\n",
      "\n",
      "[2025-01-12 09:11:40,783][850594287.py][line:24][INFO] FORMATTED: I ALMOST GOT MARRIED TWO YEARS AGO \n"
     ]
    },
    {
     "name": "stdout",
     "output_type": "stream",
     "text": [
      "File 221 of 528\r"
     ]
    },
    {
     "name": "stderr",
     "output_type": "stream",
     "text": [
      "[2025-01-12 09:11:41,693][850594287.py][line:22][INFO] Transcription of file Ses01M_script01_3_F014.wav has been formatted\n",
      "[2025-01-12 09:11:41,695][850594287.py][line:23][INFO] ORIGINAL: How bad? Every day since.\n",
      "\n",
      "[2025-01-12 09:11:41,695][850594287.py][line:24][INFO] FORMATTED: HOW BAD  EVERY DAY SINCE \n"
     ]
    },
    {
     "name": "stdout",
     "output_type": "stream",
     "text": [
      "File 222 of 528\r"
     ]
    },
    {
     "name": "stderr",
     "output_type": "stream",
     "text": [
      "[2025-01-12 09:11:42,825][850594287.py][line:22][INFO] Transcription of file Ses01M_script01_3_F015.wav has been formatted\n",
      "[2025-01-12 09:11:42,827][850594287.py][line:23][INFO] ORIGINAL: No. Because yeah, yeah, I was waiting for you, Chris. Till then you never wrote me, and then when you did, phew, you sure can be ambiguous, you know.\n",
      "\n",
      "[2025-01-12 09:11:42,828][850594287.py][line:24][INFO] FORMATTED: NO BECAUSE YEAH  YEAH  I WAS WAITING FOR YOU  CHRIS TILL THEN YOU NEVER WROTE ME  AND THEN WHEN YOU DID  PHEW  YOU SURE CAN BE AMBIGUOUS  YOU KNOW \n"
     ]
    },
    {
     "name": "stdout",
     "output_type": "stream",
     "text": [
      "File 223 of 528\r"
     ]
    },
    {
     "name": "stderr",
     "output_type": "stream",
     "text": [
      "[2025-01-12 09:11:43,899][850594287.py][line:22][INFO] Transcription of file Ses01M_script01_3_F016.wav has been formatted\n",
      "[2025-01-12 09:11:43,902][850594287.py][line:23][INFO] ORIGINAL: Andy. I'll never forgive you for waiting so long. All I did was sit around and wonder if I was crazy for thinking about you.\n",
      "\n",
      "[2025-01-12 09:11:43,904][850594287.py][line:24][INFO] FORMATTED: ANDY I'LL NEVER FORGIVE YOU FOR WAITING SO LONG ALL I DID WAS SIT AROUND AND WONDER IF I WAS CRAZY FOR THINKING ABOUT YOU \n"
     ]
    },
    {
     "name": "stdout",
     "output_type": "stream",
     "text": [
      "File 224 of 528\r"
     ]
    },
    {
     "name": "stderr",
     "output_type": "stream",
     "text": [
      "[2025-01-12 09:11:44,838][850594287.py][line:22][INFO] Transcription of file Ses01M_script01_3_F018.wav has been formatted\n",
      "[2025-01-12 09:11:44,839][850594287.py][line:23][INFO] ORIGINAL: Chris, what's the matter?  Ppppppp\n",
      "\n",
      "[2025-01-12 09:11:44,840][850594287.py][line:24][INFO] FORMATTED: CHRIS  WHAT'S THE MATTER   PPPPPPP \n",
      "[2025-01-12 09:11:44,842][2649188033.py][line:47][INFO] ------ Gemini API Usage Metrics ------\n",
      "[2025-01-12 09:11:44,843][2649188033.py][line:48][INFO] [Files Processed] 225 of 528\n",
      "[2025-01-12 09:11:44,844][2649188033.py][line:49][INFO] [Total Tokens] 214782\n",
      "[2025-01-12 09:11:44,845][2649188033.py][line:50][INFO] --------------------------------------\n"
     ]
    },
    {
     "name": "stdout",
     "output_type": "stream",
     "text": [
      "File 225 of 528\r"
     ]
    },
    {
     "name": "stderr",
     "output_type": "stream",
     "text": [
      "[2025-01-12 09:11:50,796][850594287.py][line:22][INFO] Transcription of file Ses01M_script01_3_F019.wav has been formatted\n",
      "[2025-01-12 09:11:50,798][850594287.py][line:23][INFO] ORIGINAL: No, what what is it?  Is it your mother?\n",
      "\n",
      "[2025-01-12 09:11:50,799][850594287.py][line:24][INFO] FORMATTED: NO  WHAT WHAT IS IT   IS IT YOUR MOTHER  \n"
     ]
    },
    {
     "name": "stdout",
     "output_type": "stream",
     "text": [
      "File 226 of 528\r"
     ]
    },
    {
     "name": "stderr",
     "output_type": "stream",
     "text": [
      "[2025-01-12 09:11:51,656][850594287.py][line:22][INFO] Transcription of file Ses01M_script01_3_F021.wav has been formatted\n",
      "[2025-01-12 09:11:51,658][850594287.py][line:23][INFO] ORIGINAL: You guys will tell me.\n",
      "\n",
      "[2025-01-12 09:11:51,659][850594287.py][line:24][INFO] FORMATTED: YOU GUYS WILL TELL ME \n"
     ]
    },
    {
     "name": "stdout",
     "output_type": "stream",
     "text": [
      "File 227 of 528\r"
     ]
    },
    {
     "name": "stderr",
     "output_type": "stream",
     "text": [
      "[2025-01-12 09:11:52,561][850594287.py][line:22][INFO] Transcription of file Ses01M_script01_3_F022.wav has been formatted\n",
      "[2025-01-12 09:11:52,563][850594287.py][line:23][INFO] ORIGINAL: It wouldn't work like this.\n",
      "\n",
      "[2025-01-12 09:11:52,564][850594287.py][line:24][INFO] FORMATTED: IT WOULDN'T WORK LIKE THIS \n"
     ]
    },
    {
     "name": "stdout",
     "output_type": "stream",
     "text": [
      "File 228 of 528\r"
     ]
    },
    {
     "name": "stderr",
     "output_type": "stream",
     "text": [
      "[2025-01-12 09:11:53,389][850594287.py][line:22][INFO] Transcription of file Ses01M_script01_3_F023.wav has been formatted\n",
      "[2025-01-12 09:11:53,390][850594287.py][line:23][INFO] ORIGINAL: Yes sir.\n",
      "\n",
      "[2025-01-12 09:11:53,391][850594287.py][line:24][INFO] FORMATTED: YES SIR \n"
     ]
    },
    {
     "name": "stdout",
     "output_type": "stream",
     "text": [
      "File 229 of 528\r"
     ]
    },
    {
     "name": "stderr",
     "output_type": "stream",
     "text": [
      "[2025-01-12 09:11:54,225][850594287.py][line:22][INFO] Transcription of file Ses01M_script01_3_F024.wav has been formatted\n",
      "[2025-01-12 09:11:54,226][850594287.py][line:23][INFO] ORIGINAL: How many?\n",
      "P-P-P\n",
      "\n",
      "[2025-01-12 09:11:54,226][850594287.py][line:24][INFO] FORMATTED: HOW MANY  P P P \n"
     ]
    },
    {
     "name": "stdout",
     "output_type": "stream",
     "text": [
      "File 230 of 528\r"
     ]
    },
    {
     "name": "stderr",
     "output_type": "stream",
     "text": [
      "[2025-01-12 09:11:55,199][850594287.py][line:22][INFO] Transcription of file Ses01M_script01_3_F025.wav has been formatted\n",
      "[2025-01-12 09:11:55,201][850594287.py][line:23][INFO] ORIGINAL: Jeez.\n",
      "\n",
      "[2025-01-12 09:11:55,202][850594287.py][line:24][INFO] FORMATTED: JEEZ \n"
     ]
    },
    {
     "name": "stdout",
     "output_type": "stream",
     "text": [
      "File 231 of 528\r"
     ]
    },
    {
     "name": "stderr",
     "output_type": "stream",
     "text": [
      "[2025-01-12 09:11:56,086][850594287.py][line:22][INFO] Transcription of file Ses01M_script01_3_F026.wav has been formatted\n",
      "[2025-01-12 09:11:56,086][850594287.py][line:23][INFO] ORIGINAL: Do you still feel that way?\n",
      "\n",
      "[2025-01-12 09:11:56,087][850594287.py][line:24][INFO] FORMATTED: DO YOU STILL FEEL THAT WAY  \n"
     ]
    },
    {
     "name": "stdout",
     "output_type": "stream",
     "text": [
      "File 232 of 528\r"
     ]
    },
    {
     "name": "stderr",
     "output_type": "stream",
     "text": [
      "[2025-01-12 09:11:56,921][850594287.py][line:22][INFO] Transcription of file Ses01M_script01_3_F030.wav has been formatted\n",
      "[2025-01-12 09:11:56,922][850594287.py][line:23][INFO] ORIGINAL: What would I do with a fortune?\n",
      "\n",
      "[2025-01-12 09:11:56,925][850594287.py][line:24][INFO] FORMATTED: WHAT WOULD I DO WITH A FORTUNE  \n"
     ]
    },
    {
     "name": "stdout",
     "output_type": "stream",
     "text": [
      "File 233 of 528\r"
     ]
    },
    {
     "name": "stderr",
     "output_type": "stream",
     "text": [
      "[2025-01-12 09:11:57,803][850594287.py][line:22][INFO] Transcription of file Ses01F_impro04_F000.wav has been formatted\n",
      "[2025-01-12 09:11:57,803][850594287.py][line:23][INFO] ORIGINAL: Uh, what? Craigslist? Oh, the internet thing?  Yeah.\n",
      "\n",
      "[2025-01-12 09:11:57,804][850594287.py][line:24][INFO] FORMATTED: UH  WHAT  CRAIGSLIST  OH  THE INTERNET THING   YEAH \n"
     ]
    },
    {
     "name": "stdout",
     "output_type": "stream",
     "text": [
      "File 234 of 528\r"
     ]
    },
    {
     "name": "stderr",
     "output_type": "stream",
     "text": [
      "[2025-01-12 09:11:58,779][850594287.py][line:22][INFO] Transcription of file Ses01F_impro04_F001.wav has been formatted\n",
      "[2025-01-12 09:11:58,780][850594287.py][line:23][INFO] ORIGINAL: I don't know. Isn't that that's all like escort services and things like that.\n",
      "\n",
      "[2025-01-12 09:11:58,781][850594287.py][line:24][INFO] FORMATTED: I DON'T KNOW ISN'T THAT THAT'S ALL LIKE ESCORT SERVICES AND THINGS LIKE THAT \n"
     ]
    },
    {
     "name": "stdout",
     "output_type": "stream",
     "text": [
      "File 235 of 528\r"
     ]
    },
    {
     "name": "stderr",
     "output_type": "stream",
     "text": [
      "[2025-01-12 09:11:59,633][850594287.py][line:22][INFO] Transcription of file Ses01F_impro04_F005.wav has been formatted\n",
      "[2025-01-12 09:11:59,635][850594287.py][line:23][INFO] ORIGINAL: He just\n",
      "\n",
      "[2025-01-12 09:11:59,636][850594287.py][line:24][INFO] FORMATTED: HE JUST \n"
     ]
    },
    {
     "name": "stdout",
     "output_type": "stream",
     "text": [
      "File 236 of 528\r"
     ]
    },
    {
     "name": "stderr",
     "output_type": "stream",
     "text": [
      "[2025-01-12 09:12:00,589][850594287.py][line:22][INFO] Transcription of file Ses01F_impro04_F006.wav has been formatted\n",
      "[2025-01-12 09:12:00,591][850594287.py][line:23][INFO] ORIGINAL: You know what? I heard about that job. I applied for that.\n",
      "\n",
      "[2025-01-12 09:12:00,592][850594287.py][line:24][INFO] FORMATTED: YOU KNOW WHAT  I HEARD ABOUT THAT JOB I APPLIED FOR THAT \n"
     ]
    },
    {
     "name": "stdout",
     "output_type": "stream",
     "text": [
      "File 237 of 528\r"
     ]
    },
    {
     "name": "stderr",
     "output_type": "stream",
     "text": [
      "[2025-01-12 09:12:01,243][850594287.py][line:22][INFO] Transcription of file Ses01F_impro04_F009.wav has been formatted\n",
      "[2025-01-12 09:12:01,245][850594287.py][line:23][INFO] ORIGINAL: Yeah.\n",
      "\n",
      "[2025-01-12 09:12:01,246][850594287.py][line:24][INFO] FORMATTED: YEAH \n"
     ]
    },
    {
     "name": "stdout",
     "output_type": "stream",
     "text": [
      "File 238 of 528\r"
     ]
    },
    {
     "name": "stderr",
     "output_type": "stream",
     "text": [
      "[2025-01-12 09:12:02,217][850594287.py][line:22][INFO] Transcription of file Ses01F_impro04_F013.wav has been formatted\n",
      "[2025-01-12 09:12:02,219][850594287.py][line:23][INFO] ORIGINAL: I just I mean I call people up and I tell them what I'm good at.\n",
      "\n",
      "[2025-01-12 09:12:02,221][850594287.py][line:24][INFO] FORMATTED: I JUST I MEAN I CALL PEOPLE UP AND I TELL THEM WHAT I'M GOOD AT \n"
     ]
    },
    {
     "name": "stdout",
     "output_type": "stream",
     "text": [
      "File 239 of 528\r"
     ]
    },
    {
     "name": "stderr",
     "output_type": "stream",
     "text": [
      "[2025-01-12 09:12:03,125][850594287.py][line:22][INFO] Transcription of file Ses01F_impro04_F014.wav has been formatted\n",
      "[2025-01-12 09:12:03,126][850594287.py][line:23][INFO] ORIGINAL: It's done.  And I'll write it out.\n",
      "Yeah.\n",
      "\n",
      "[2025-01-12 09:12:03,127][850594287.py][line:24][INFO] FORMATTED: IT'S DONE  AND I'LL WRITE IT OUT YEAH \n"
     ]
    },
    {
     "name": "stdout",
     "output_type": "stream",
     "text": [
      "File 240 of 528\r"
     ]
    },
    {
     "name": "stderr",
     "output_type": "stream",
     "text": [
      "[2025-01-12 09:12:03,989][850594287.py][line:22][INFO] Transcription of file Ses01F_impro04_F028.wav has been formatted\n",
      "[2025-01-12 09:12:03,992][850594287.py][line:23][INFO] ORIGINAL: I'm not frustrated. You can't get it.\n",
      "\n",
      "[2025-01-12 09:12:03,993][850594287.py][line:24][INFO] FORMATTED: I'M NOT FRUSTRATED YOU CAN'T GET IT \n"
     ]
    },
    {
     "name": "stdout",
     "output_type": "stream",
     "text": [
      "File 241 of 528\r"
     ]
    },
    {
     "name": "stderr",
     "output_type": "stream",
     "text": [
      "[2025-01-12 09:12:04,879][850594287.py][line:22][INFO] Transcription of file Ses01F_impro04_F029.wav has been formatted\n",
      "[2025-01-12 09:12:04,879][850594287.py][line:23][INFO] ORIGINAL: Who do you think you are?\n",
      "P\n",
      "\n",
      "[2025-01-12 09:12:04,880][850594287.py][line:24][INFO] FORMATTED: WHO DO YOU THINK YOU ARE  P \n"
     ]
    },
    {
     "name": "stdout",
     "output_type": "stream",
     "text": [
      "File 242 of 528\r"
     ]
    },
    {
     "name": "stderr",
     "output_type": "stream",
     "text": [
      "[2025-01-12 09:12:05,802][850594287.py][line:22][INFO] Transcription of file Ses01F_impro04_F030.wav has been formatted\n",
      "[2025-01-12 09:12:05,804][850594287.py][line:23][INFO] ORIGINAL: You were so high and mighty. I just  p-p-p-p-\n",
      "\n",
      "[2025-01-12 09:12:05,805][850594287.py][line:24][INFO] FORMATTED: YOU WERE SO HIGH AND MIGHTY I JUST  P P P P  \n"
     ]
    },
    {
     "name": "stdout",
     "output_type": "stream",
     "text": [
      "File 243 of 528\r"
     ]
    },
    {
     "name": "stderr",
     "output_type": "stream",
     "text": [
      "[2025-01-12 09:12:06,757][850594287.py][line:22][INFO] Transcription of file Ses01F_impro04_F031.wav has been formatted\n",
      "[2025-01-12 09:12:06,760][850594287.py][line:23][INFO] ORIGINAL: Oh, I'm saving the environment. I'm riding this car because I I want to.\n",
      "\n",
      "[2025-01-12 09:12:06,761][850594287.py][line:24][INFO] FORMATTED: OH  I'M SAVING THE ENVIRONMENT I'M RIDING THIS CAR BECAUSE I I WANT TO \n"
     ]
    },
    {
     "name": "stdout",
     "output_type": "stream",
     "text": [
      "File 244 of 528\r"
     ]
    },
    {
     "name": "stderr",
     "output_type": "stream",
     "text": [
      "[2025-01-12 09:12:07,704][850594287.py][line:22][INFO] Transcription of file Ses01F_impro04_F032.wav has been formatted\n",
      "[2025-01-12 09:12:07,706][850594287.py][line:23][INFO] ORIGINAL: the bus. I'm riding the bus because I want to. You know what?\n",
      "\n",
      "[2025-01-12 09:12:07,707][850594287.py][line:24][INFO] FORMATTED: THE BUS I'M RIDING THE BUS BECAUSE I WANT TO YOU KNOW WHAT  \n"
     ]
    },
    {
     "name": "stdout",
     "output_type": "stream",
     "text": [
      "File 245 of 528\r"
     ]
    },
    {
     "name": "stderr",
     "output_type": "stream",
     "text": [
      "[2025-01-12 09:12:08,697][850594287.py][line:22][INFO] Transcription of file Ses01F_impro04_F033.wav has been formatted\n",
      "[2025-01-12 09:12:08,699][850594287.py][line:23][INFO] ORIGINAL: I cannot. You are not here by choice. Nobody would ride this bus by choice.\n",
      "\n",
      "[2025-01-12 09:12:08,700][850594287.py][line:24][INFO] FORMATTED: I CANNOT YOU ARE NOT HERE BY CHOICE NOBODY WOULD RIDE THIS BUS BY CHOICE \n"
     ]
    },
    {
     "name": "stdout",
     "output_type": "stream",
     "text": [
      "File 246 of 528\r"
     ]
    },
    {
     "name": "stderr",
     "output_type": "stream",
     "text": [
      "[2025-01-12 09:12:09,635][850594287.py][line:22][INFO] Transcription of file Ses01F_impro03_F000.wav has been formatted\n",
      "[2025-01-12 09:12:09,637][850594287.py][line:23][INFO] ORIGINAL: Well, Vegas was awesome. Yeah, I heard.\n",
      "\n",
      "[2025-01-12 09:12:09,638][850594287.py][line:24][INFO] FORMATTED: WELL  VEGAS WAS AWESOME YEAH  I HEARD \n"
     ]
    },
    {
     "name": "stdout",
     "output_type": "stream",
     "text": [
      "File 247 of 528\r"
     ]
    },
    {
     "name": "stderr",
     "output_type": "stream",
     "text": [
      "[2025-01-12 09:12:10,526][850594287.py][line:22][INFO] Transcription of file Ses01F_impro03_F001.wav has been formatted\n",
      "[2025-01-12 09:12:10,528][850594287.py][line:23][INFO] ORIGINAL: And uh I got married.\n",
      "\n",
      "[2025-01-12 09:12:10,529][850594287.py][line:24][INFO] FORMATTED: AND UH I GOT MARRIED \n"
     ]
    },
    {
     "name": "stdout",
     "output_type": "stream",
     "text": [
      "File 248 of 528\r"
     ]
    },
    {
     "name": "stderr",
     "output_type": "stream",
     "text": [
      "[2025-01-12 09:12:11,422][850594287.py][line:22][INFO] Transcription of file Ses01F_impro03_F002.wav has been formatted\n",
      "[2025-01-12 09:12:11,423][850594287.py][line:23][INFO] ORIGINAL: Yeah. In the old town part.\n",
      "\n",
      "[2025-01-12 09:12:11,423][850594287.py][line:24][INFO] FORMATTED: YEAH IN THE OLD TOWN PART \n"
     ]
    },
    {
     "name": "stdout",
     "output_type": "stream",
     "text": [
      "File 249 of 528\r"
     ]
    },
    {
     "name": "stderr",
     "output_type": "stream",
     "text": [
      "[2025-01-12 09:12:12,331][850594287.py][line:22][INFO] Transcription of file Ses01F_impro03_F004.wav has been formatted\n",
      "[2025-01-12 09:12:12,333][850594287.py][line:23][INFO] ORIGINAL: Um, yes. It was very romantic.\n",
      "\n",
      "[2025-01-12 09:12:12,334][850594287.py][line:24][INFO] FORMATTED: UM  YES IT WAS VERY ROMANTIC \n",
      "[2025-01-12 09:12:12,335][2649188033.py][line:47][INFO] ------ Gemini API Usage Metrics ------\n",
      "[2025-01-12 09:12:12,336][2649188033.py][line:48][INFO] [Files Processed] 250 of 528\n",
      "[2025-01-12 09:12:12,337][2649188033.py][line:49][INFO] [Total Tokens] 218674\n",
      "[2025-01-12 09:12:12,338][2649188033.py][line:50][INFO] --------------------------------------\n"
     ]
    },
    {
     "name": "stdout",
     "output_type": "stream",
     "text": [
      "File 250 of 528\r"
     ]
    },
    {
     "name": "stderr",
     "output_type": "stream",
     "text": [
      "[2025-01-12 09:12:18,184][850594287.py][line:22][INFO] Transcription of file Ses01F_impro03_F005.wav has been formatted\n",
      "[2025-01-12 09:12:18,185][850594287.py][line:23][INFO] ORIGINAL: It was at the slot machines.\n",
      "\n",
      "[2025-01-12 09:12:18,186][850594287.py][line:24][INFO] FORMATTED: IT WAS AT THE SLOT MACHINES \n"
     ]
    },
    {
     "name": "stdout",
     "output_type": "stream",
     "text": [
      "File 251 of 528\r"
     ]
    },
    {
     "name": "stderr",
     "output_type": "stream",
     "text": [
      "[2025-01-12 09:12:19,297][850594287.py][line:22][INFO] Transcription of file Ses01F_impro03_F006.wav has been formatted\n",
      "[2025-01-12 09:12:19,299][850594287.py][line:23][INFO] ORIGINAL: Uh-huh. Uh-huh. He went big and he and he and he realized that the only thing that would make it better was me as his bride.  [Sound of beeping]\n",
      "\n",
      "[2025-01-12 09:12:19,300][850594287.py][line:24][INFO] FORMATTED: UH HUH UH HUH HE WENT BIG AND HE AND HE AND HE REALIZED THAT THE ONLY THING THAT WOULD MAKE IT BETTER WAS ME AS HIS BRIDE   SOUND OF BEEPING  \n"
     ]
    },
    {
     "name": "stdout",
     "output_type": "stream",
     "text": [
      "File 252 of 528\r"
     ]
    },
    {
     "name": "stderr",
     "output_type": "stream",
     "text": [
      "[2025-01-12 09:12:20,244][850594287.py][line:22][INFO] Transcription of file Ses01F_impro03_F008.wav has been formatted\n",
      "[2025-01-12 09:12:20,246][850594287.py][line:23][INFO] ORIGINAL: Yeah, well, you know, because he's leaving the next day.\n",
      "\n",
      "[2025-01-12 09:12:20,247][850594287.py][line:24][INFO] FORMATTED: YEAH  WELL  YOU KNOW  BECAUSE HE'S LEAVING THE NEXT DAY \n"
     ]
    },
    {
     "name": "stdout",
     "output_type": "stream",
     "text": [
      "File 253 of 528\r"
     ]
    },
    {
     "name": "stderr",
     "output_type": "stream",
     "text": [
      "[2025-01-12 09:12:20,959][850594287.py][line:22][INFO] Transcription of file Ses01F_impro03_F009.wav has been formatted\n",
      "[2025-01-12 09:12:20,961][850594287.py][line:23][INFO] ORIGINAL: But we're gonna have a honeymoon cruise.\n",
      "\n",
      "[2025-01-12 09:12:20,963][850594287.py][line:24][INFO] FORMATTED: BUT WE'RE GONNA HAVE A HONEYMOON CRUISE \n"
     ]
    },
    {
     "name": "stdout",
     "output_type": "stream",
     "text": [
      "File 254 of 528\r"
     ]
    },
    {
     "name": "stderr",
     "output_type": "stream",
     "text": [
      "[2025-01-12 09:12:21,855][850594287.py][line:22][INFO] Transcription of file Ses01F_impro03_F010.wav has been formatted\n",
      "[2025-01-12 09:12:21,857][850594287.py][line:23][INFO] ORIGINAL: Oh, I hadn't even thought about that.\n",
      "\n",
      "[2025-01-12 09:12:21,858][850594287.py][line:24][INFO] FORMATTED: OH  I HADN'T EVEN THOUGHT ABOUT THAT \n"
     ]
    },
    {
     "name": "stdout",
     "output_type": "stream",
     "text": [
      "File 255 of 528\r"
     ]
    },
    {
     "name": "stderr",
     "output_type": "stream",
     "text": [
      "[2025-01-12 09:12:22,672][850594287.py][line:22][INFO] Transcription of file Ses01F_impro03_F012.wav has been formatted\n",
      "[2025-01-12 09:12:22,673][850594287.py][line:23][INFO] ORIGINAL: Oh, totally. Yeah.\n",
      "\n",
      "[2025-01-12 09:12:22,673][850594287.py][line:24][INFO] FORMATTED: OH  TOTALLY YEAH \n"
     ]
    },
    {
     "name": "stdout",
     "output_type": "stream",
     "text": [
      "File 256 of 528\r"
     ]
    },
    {
     "name": "stderr",
     "output_type": "stream",
     "text": [
      "[2025-01-12 09:12:23,634][850594287.py][line:22][INFO] Transcription of file Ses01F_impro03_F013.wav has been formatted\n",
      "[2025-01-12 09:12:23,636][850594287.py][line:23][INFO] ORIGINAL: I guess I guess I have an internet husband.\n",
      "\n",
      "[2025-01-12 09:12:23,638][850594287.py][line:24][INFO] FORMATTED: I GUESS I GUESS I HAVE AN INTERNET HUSBAND \n"
     ]
    },
    {
     "name": "stdout",
     "output_type": "stream",
     "text": [
      "File 257 of 528\r"
     ]
    },
    {
     "name": "stderr",
     "output_type": "stream",
     "text": [
      "[2025-01-12 09:12:24,543][850594287.py][line:22][INFO] Transcription of file Ses01F_impro03_F015.wav has been formatted\n",
      "[2025-01-12 09:12:24,544][850594287.py][line:23][INFO] ORIGINAL: Yeah, so. He's calling me now.\n",
      "\n",
      "[2025-01-12 09:12:24,545][850594287.py][line:24][INFO] FORMATTED: YEAH  SO HE'S CALLING ME NOW \n"
     ]
    },
    {
     "name": "stdout",
     "output_type": "stream",
     "text": [
      "File 258 of 528\r"
     ]
    },
    {
     "name": "stderr",
     "output_type": "stream",
     "text": [
      "[2025-01-12 09:12:25,396][850594287.py][line:22][INFO] Transcription of file Ses01F_impro03_F016.wav has been formatted\n",
      "[2025-01-12 09:12:25,398][850594287.py][line:23][INFO] ORIGINAL: We like to keep tabs, you know.\n",
      "\n",
      "[2025-01-12 09:12:25,399][850594287.py][line:24][INFO] FORMATTED: WE LIKE TO KEEP TABS  YOU KNOW \n"
     ]
    },
    {
     "name": "stdout",
     "output_type": "stream",
     "text": [
      "File 259 of 528\r"
     ]
    },
    {
     "name": "stderr",
     "output_type": "stream",
     "text": [
      "[2025-01-12 09:12:26,296][850594287.py][line:22][INFO] Transcription of file Ses01F_impro03_F017.wav has been formatted\n",
      "[2025-01-12 09:12:26,298][850594287.py][line:23][INFO] ORIGINAL: Uh, I think $750.\n",
      "\n",
      "[2025-01-12 09:12:26,299][850594287.py][line:24][INFO] FORMATTED: UH  I THINK  750 \n"
     ]
    },
    {
     "name": "stdout",
     "output_type": "stream",
     "text": [
      "File 260 of 528\r"
     ]
    },
    {
     "name": "stderr",
     "output_type": "stream",
     "text": [
      "[2025-01-12 09:12:27,251][850594287.py][line:22][INFO] Transcription of file Ses01F_impro03_F018.wav has been formatted\n",
      "[2025-01-12 09:12:27,253][850594287.py][line:23][INFO] ORIGINAL: Really? Penny slots. Penny slots? That's what you play?\n",
      "\n",
      "[2025-01-12 09:12:27,254][850594287.py][line:24][INFO] FORMATTED: REALLY  PENNY SLOTS PENNY SLOTS  THAT'S WHAT YOU PLAY  \n"
     ]
    },
    {
     "name": "stdout",
     "output_type": "stream",
     "text": [
      "File 261 of 528\r"
     ]
    },
    {
     "name": "stderr",
     "output_type": "stream",
     "text": [
      "[2025-01-12 09:12:28,022][850594287.py][line:22][INFO] Transcription of file Ses01F_impro03_F019.wav has been formatted\n",
      "[2025-01-12 09:12:28,024][850594287.py][line:23][INFO] ORIGINAL: Wow. Yeah.  [sound of a blown raspberry or similar sound effect]\n",
      "\n",
      "[2025-01-12 09:12:28,025][850594287.py][line:24][INFO] FORMATTED: WOW YEAH   SOUND OF A BLOWN RASPBERRY OR SIMILAR SOUND EFFECT  \n"
     ]
    },
    {
     "name": "stdout",
     "output_type": "stream",
     "text": [
      "File 262 of 528\r"
     ]
    },
    {
     "name": "stderr",
     "output_type": "stream",
     "text": [
      "[2025-01-12 09:12:29,037][850594287.py][line:22][INFO] Transcription of file Ses01F_impro03_F021.wav has been formatted\n",
      "[2025-01-12 09:12:29,039][850594287.py][line:23][INFO] ORIGINAL: Yeah. We played Wheel of Fortune and pennies. It's like a giant thing with like pennies always get  P P P\n",
      "\n",
      "[2025-01-12 09:12:29,039][850594287.py][line:24][INFO] FORMATTED: YEAH WE PLAYED WHEEL OF FORTUNE AND PENNIES IT'S LIKE A GIANT THING WITH LIKE PENNIES ALWAYS GET  P P P \n"
     ]
    },
    {
     "name": "stdout",
     "output_type": "stream",
     "text": [
      "File 263 of 528\r"
     ]
    },
    {
     "name": "stderr",
     "output_type": "stream",
     "text": [
      "[2025-01-12 09:12:29,931][850594287.py][line:22][INFO] Transcription of file Ses01F_impro03_F022.wav has been formatted\n",
      "[2025-01-12 09:12:29,933][850594287.py][line:23][INFO] ORIGINAL: fifty bucks. fifty bucks.  It's like wait pppp\n",
      "\n",
      "[2025-01-12 09:12:29,935][850594287.py][line:24][INFO] FORMATTED: FIFTY BUCKS FIFTY BUCKS  IT'S LIKE WAIT PPPP \n"
     ]
    },
    {
     "name": "stdout",
     "output_type": "stream",
     "text": [
      "File 264 of 528\r"
     ]
    },
    {
     "name": "stderr",
     "output_type": "stream",
     "text": [
      "[2025-01-12 09:12:30,562][850594287.py][line:22][INFO] Transcription of file Ses01F_impro03_F023.wav has been formatted\n",
      "[2025-01-12 09:12:30,563][850594287.py][line:23][INFO] ORIGINAL: Yeah.\n",
      "\n",
      "[2025-01-12 09:12:30,564][850594287.py][line:24][INFO] FORMATTED: YEAH \n"
     ]
    },
    {
     "name": "stdout",
     "output_type": "stream",
     "text": [
      "File 265 of 528\r"
     ]
    },
    {
     "name": "stderr",
     "output_type": "stream",
     "text": [
      "[2025-01-12 09:12:31,490][850594287.py][line:22][INFO] Transcription of file Ses01F_impro03_F024.wav has been formatted\n",
      "[2025-01-12 09:12:31,491][850594287.py][line:23][INFO] ORIGINAL: But so, now we're married.  We have cat children.\n",
      "\n",
      "[2025-01-12 09:12:31,493][850594287.py][line:24][INFO] FORMATTED: BUT SO  NOW WE'RE MARRIED  WE HAVE CAT CHILDREN \n"
     ]
    },
    {
     "name": "stdout",
     "output_type": "stream",
     "text": [
      "File 266 of 528\r"
     ]
    },
    {
     "name": "stderr",
     "output_type": "stream",
     "text": [
      "[2025-01-12 09:12:32,391][850594287.py][line:22][INFO] Transcription of file Ses01F_impro03_F025.wav has been formatted\n",
      "[2025-01-12 09:12:32,394][850594287.py][line:23][INFO] ORIGINAL: We renamed Brenda Lumberjanette.\n",
      "\n",
      "[2025-01-12 09:12:32,395][850594287.py][line:24][INFO] FORMATTED: WE RENAMED BRENDA LUMBERJANETTE \n"
     ]
    },
    {
     "name": "stdout",
     "output_type": "stream",
     "text": [
      "File 267 of 528\r"
     ]
    },
    {
     "name": "stderr",
     "output_type": "stream",
     "text": [
      "[2025-01-12 09:12:33,372][850594287.py][line:22][INFO] Transcription of file Ses01F_impro03_F026.wav has been formatted\n",
      "[2025-01-12 09:12:33,373][850594287.py][line:23][INFO] ORIGINAL: She needs a new name each state that we go into.\n",
      "\n",
      "[2025-01-12 09:12:33,374][850594287.py][line:24][INFO] FORMATTED: SHE NEEDS A NEW NAME EACH STATE THAT WE GO INTO \n"
     ]
    },
    {
     "name": "stdout",
     "output_type": "stream",
     "text": [
      "File 268 of 528\r"
     ]
    },
    {
     "name": "stderr",
     "output_type": "stream",
     "text": [
      "[2025-01-12 09:12:34,234][850594287.py][line:22][INFO] Transcription of file Ses01M_impro02_F000.wav has been formatted\n",
      "[2025-01-12 09:12:34,235][850594287.py][line:23][INFO] ORIGINAL: What's happening?\n",
      "\n",
      "[2025-01-12 09:12:34,236][850594287.py][line:24][INFO] FORMATTED: WHAT'S HAPPENING  \n"
     ]
    },
    {
     "name": "stdout",
     "output_type": "stream",
     "text": [
      "File 269 of 528\r"
     ]
    },
    {
     "name": "stderr",
     "output_type": "stream",
     "text": [
      "[2025-01-12 09:12:35,130][850594287.py][line:22][INFO] Transcription of file Ses01M_impro02_F009.wav has been formatted\n",
      "[2025-01-12 09:12:35,131][850594287.py][line:23][INFO] ORIGINAL: I don't even know what to tell you.\n",
      "\n",
      "[2025-01-12 09:12:35,133][850594287.py][line:24][INFO] FORMATTED: I DON'T EVEN KNOW WHAT TO TELL YOU \n"
     ]
    },
    {
     "name": "stdout",
     "output_type": "stream",
     "text": [
      "File 270 of 528\r"
     ]
    },
    {
     "name": "stderr",
     "output_type": "stream",
     "text": [
      "[2025-01-12 09:12:36,003][850594287.py][line:22][INFO] Transcription of file Ses01M_impro02_F010.wav has been formatted\n",
      "[2025-01-12 09:12:36,006][850594287.py][line:23][INFO] ORIGINAL: What about the birthday party?\n",
      "\n",
      "[2025-01-12 09:12:36,007][850594287.py][line:24][INFO] FORMATTED: WHAT ABOUT THE BIRTHDAY PARTY  \n"
     ]
    },
    {
     "name": "stdout",
     "output_type": "stream",
     "text": [
      "File 271 of 528\r"
     ]
    },
    {
     "name": "stderr",
     "output_type": "stream",
     "text": [
      "[2025-01-12 09:12:36,925][850594287.py][line:22][INFO] Transcription of file Ses01M_impro02_F013.wav has been formatted\n",
      "[2025-01-12 09:12:36,927][850594287.py][line:23][INFO] ORIGINAL: You're going with the same ones?\n",
      "\n",
      "[2025-01-12 09:12:36,928][850594287.py][line:24][INFO] FORMATTED: YOU'RE GOING WITH THE SAME ONES  \n"
     ]
    },
    {
     "name": "stdout",
     "output_type": "stream",
     "text": [
      "File 272 of 528\r"
     ]
    },
    {
     "name": "stderr",
     "output_type": "stream",
     "text": [
      "[2025-01-12 09:12:37,821][850594287.py][line:22][INFO] Transcription of file Ses01M_impro02_F015.wav has been formatted\n",
      "[2025-01-12 09:12:37,824][850594287.py][line:23][INFO] ORIGINAL: It's not the thing though.\n",
      "\n",
      "[2025-01-12 09:12:37,825][850594287.py][line:24][INFO] FORMATTED: IT'S NOT THE THING THOUGH \n"
     ]
    },
    {
     "name": "stdout",
     "output_type": "stream",
     "text": [
      "File 273 of 528\r"
     ]
    },
    {
     "name": "stderr",
     "output_type": "stream",
     "text": [
      "[2025-01-12 09:12:38,764][850594287.py][line:22][INFO] Transcription of file Ses01M_impro02_F017.wav has been formatted\n",
      "[2025-01-12 09:12:38,766][850594287.py][line:23][INFO] ORIGINAL: Mm-hm. We'll build a bunker and never come out.\n",
      "\n",
      "[2025-01-12 09:12:38,767][850594287.py][line:24][INFO] FORMATTED: MM HM WE'LL BUILD A BUNKER AND NEVER COME OUT \n"
     ]
    },
    {
     "name": "stdout",
     "output_type": "stream",
     "text": [
      "File 274 of 528\r"
     ]
    },
    {
     "name": "stderr",
     "output_type": "stream",
     "text": [
      "[2025-01-12 09:12:39,642][850594287.py][line:22][INFO] Transcription of file Ses01M_impro02_F019.wav has been formatted\n",
      "[2025-01-12 09:12:39,643][850594287.py][line:23][INFO] ORIGINAL: It's on the air.\n",
      "\n",
      "[2025-01-12 09:12:39,645][850594287.py][line:24][INFO] FORMATTED: IT'S ON THE AIR \n",
      "[2025-01-12 09:12:39,646][2649188033.py][line:47][INFO] ------ Gemini API Usage Metrics ------\n",
      "[2025-01-12 09:12:39,647][2649188033.py][line:48][INFO] [Files Processed] 275 of 528\n",
      "[2025-01-12 09:12:39,648][2649188033.py][line:49][INFO] [Total Tokens] 222694\n",
      "[2025-01-12 09:12:39,649][2649188033.py][line:50][INFO] --------------------------------------\n"
     ]
    },
    {
     "name": "stdout",
     "output_type": "stream",
     "text": [
      "File 275 of 528\r"
     ]
    },
    {
     "name": "stderr",
     "output_type": "stream",
     "text": [
      "[2025-01-12 09:12:45,504][850594287.py][line:22][INFO] Transcription of file Ses01M_impro05_F000.wav has been formatted\n",
      "[2025-01-12 09:12:45,506][850594287.py][line:23][INFO] ORIGINAL: Can I help you?  Yes.\n",
      "\n",
      "[2025-01-12 09:12:45,508][850594287.py][line:24][INFO] FORMATTED: CAN I HELP YOU   YES \n"
     ]
    },
    {
     "name": "stdout",
     "output_type": "stream",
     "text": [
      "File 276 of 528\r"
     ]
    },
    {
     "name": "stderr",
     "output_type": "stream",
     "text": [
      "[2025-01-12 09:12:46,378][850594287.py][line:22][INFO] Transcription of file Ses01M_impro05_F001.wav has been formatted\n",
      "[2025-01-12 09:12:46,379][850594287.py][line:23][INFO] ORIGINAL: I need a little more information.\n",
      "\n",
      "[2025-01-12 09:12:46,380][850594287.py][line:24][INFO] FORMATTED: I NEED A LITTLE MORE INFORMATION \n"
     ]
    },
    {
     "name": "stdout",
     "output_type": "stream",
     "text": [
      "File 277 of 528\r"
     ]
    },
    {
     "name": "stderr",
     "output_type": "stream",
     "text": [
      "[2025-01-12 09:12:47,354][850594287.py][line:22][INFO] Transcription of file Ses01M_impro05_F002.wav has been formatted\n",
      "[2025-01-12 09:12:47,356][850594287.py][line:23][INFO] ORIGINAL: One. I've been here for four hours. What flight did you come in on?  P-p-p-\n",
      "\n",
      "[2025-01-12 09:12:47,358][850594287.py][line:24][INFO] FORMATTED: ONE I'VE BEEN HERE FOR FOUR HOURS WHAT FLIGHT DID YOU COME IN ON   P P P  \n"
     ]
    },
    {
     "name": "stdout",
     "output_type": "stream",
     "text": [
      "File 278 of 528\r"
     ]
    },
    {
     "name": "stderr",
     "output_type": "stream",
     "text": [
      "[2025-01-12 09:12:48,019][850594287.py][line:22][INFO] Transcription of file Ses01M_impro05_F003.wav has been formatted\n",
      "[2025-01-12 09:12:48,021][850594287.py][line:23][INFO] ORIGINAL: Georgia? Yes.\n",
      "\n",
      "[2025-01-12 09:12:48,022][850594287.py][line:24][INFO] FORMATTED: GEORGIA  YES \n"
     ]
    },
    {
     "name": "stdout",
     "output_type": "stream",
     "text": [
      "File 279 of 528\r"
     ]
    },
    {
     "name": "stderr",
     "output_type": "stream",
     "text": [
      "[2025-01-12 09:12:48,948][850594287.py][line:22][INFO] Transcription of file Ses01M_impro05_F004.wav has been formatted\n",
      "[2025-01-12 09:12:48,951][850594287.py][line:23][INFO] ORIGINAL: There's no need for you to raise your voice, sir.\n",
      "\n",
      "[2025-01-12 09:12:48,953][850594287.py][line:24][INFO] FORMATTED: THERE'S NO NEED FOR YOU TO RAISE YOUR VOICE  SIR \n"
     ]
    },
    {
     "name": "stdout",
     "output_type": "stream",
     "text": [
      "File 280 of 528\r"
     ]
    },
    {
     "name": "stderr",
     "output_type": "stream",
     "text": [
      "[2025-01-12 09:12:49,813][850594287.py][line:22][INFO] Transcription of file Ses01M_impro05_F005.wav has been formatted\n",
      "[2025-01-12 09:12:49,815][850594287.py][line:23][INFO] ORIGINAL: I've been college educated.\n",
      "\n",
      "[2025-01-12 09:12:49,815][850594287.py][line:24][INFO] FORMATTED: I'VE BEEN COLLEGE EDUCATED \n"
     ]
    },
    {
     "name": "stdout",
     "output_type": "stream",
     "text": [
      "File 281 of 528\r"
     ]
    },
    {
     "name": "stderr",
     "output_type": "stream",
     "text": [
      "[2025-01-12 09:12:50,679][850594287.py][line:22][INFO] Transcription of file Ses01M_impro05_F006.wav has been formatted\n",
      "[2025-01-12 09:12:50,681][850594287.py][line:23][INFO] ORIGINAL: I speak your language.\n",
      "\n",
      "[2025-01-12 09:12:50,683][850594287.py][line:24][INFO] FORMATTED: I SPEAK YOUR LANGUAGE \n"
     ]
    },
    {
     "name": "stdout",
     "output_type": "stream",
     "text": [
      "File 282 of 528\r"
     ]
    },
    {
     "name": "stderr",
     "output_type": "stream",
     "text": [
      "[2025-01-12 09:12:51,696][850594287.py][line:22][INFO] Transcription of file Ses01M_impro05_F007.wav has been formatted\n",
      "[2025-01-12 09:12:51,698][850594287.py][line:23][INFO] ORIGINAL: I'm just saying you don't need to talk to him like that.  It's just smug.\n",
      "\n",
      "[2025-01-12 09:12:51,699][850594287.py][line:24][INFO] FORMATTED: I'M JUST SAYING YOU DON'T NEED TO TALK TO HIM LIKE THAT  IT'S JUST SMUG \n"
     ]
    },
    {
     "name": "stdout",
     "output_type": "stream",
     "text": [
      "File 283 of 528\r"
     ]
    },
    {
     "name": "stderr",
     "output_type": "stream",
     "text": [
      "[2025-01-12 09:12:52,615][850594287.py][line:22][INFO] Transcription of file Ses01M_impro05_F011.wav has been formatted\n",
      "[2025-01-12 09:12:52,617][850594287.py][line:23][INFO] ORIGINAL: Details, me tails. Uh, well anyhow, can I  p p p\n",
      "\n",
      "[2025-01-12 09:12:52,618][850594287.py][line:24][INFO] FORMATTED: DETAILS  ME TAILS UH  WELL ANYHOW  CAN I  P P P \n"
     ]
    },
    {
     "name": "stdout",
     "output_type": "stream",
     "text": [
      "File 284 of 528\r"
     ]
    },
    {
     "name": "stderr",
     "output_type": "stream",
     "text": [
      "[2025-01-12 09:12:53,468][850594287.py][line:22][INFO] Transcription of file Ses01M_impro05_F012.wav has been formatted\n",
      "[2025-01-12 09:12:53,469][850594287.py][line:23][INFO] ORIGINAL: So you flew in from Atlanta.\n",
      "\n",
      "[2025-01-12 09:12:53,470][850594287.py][line:24][INFO] FORMATTED: SO YOU FLEW IN FROM ATLANTA \n"
     ]
    },
    {
     "name": "stdout",
     "output_type": "stream",
     "text": [
      "File 285 of 528\r"
     ]
    },
    {
     "name": "stderr",
     "output_type": "stream",
     "text": [
      "[2025-01-12 09:12:54,418][850594287.py][line:22][INFO] Transcription of file Ses01M_impro05_F013.wav has been formatted\n",
      "[2025-01-12 09:12:54,421][850594287.py][line:23][INFO] ORIGINAL: Four, four hours ago.  It's a little... p-p-p-\n",
      "\n",
      "[2025-01-12 09:12:54,422][850594287.py][line:24][INFO] FORMATTED: FOUR  FOUR HOURS AGO  IT'S A LITTLE P P P  \n"
     ]
    },
    {
     "name": "stdout",
     "output_type": "stream",
     "text": [
      "File 286 of 528\r"
     ]
    },
    {
     "name": "stderr",
     "output_type": "stream",
     "text": [
      "[2025-01-12 09:12:55,124][850594287.py][line:22][INFO] Transcription of file Ses01M_impro05_F014.wav has been formatted\n",
      "[2025-01-12 09:12:55,126][850594287.py][line:23][INFO] ORIGINAL: Do you have any?  Um, let me put\n",
      "\n",
      "[2025-01-12 09:12:55,127][850594287.py][line:24][INFO] FORMATTED: DO YOU HAVE ANY   UM  LET ME PUT \n"
     ]
    },
    {
     "name": "stdout",
     "output_type": "stream",
     "text": [
      "File 287 of 528\r"
     ]
    },
    {
     "name": "stderr",
     "output_type": "stream",
     "text": [
      "[2025-01-12 09:12:56,151][850594287.py][line:22][INFO] Transcription of file Ses01M_impro05_F015.wav has been formatted\n",
      "[2025-01-12 09:12:56,151][850594287.py][line:23][INFO] ORIGINAL: You should have been sick.  I wouldn't let you. I was not in Atlanta.  You should have been a little bit. I was not in Atlanta.\n",
      "\n",
      "[2025-01-12 09:12:56,152][850594287.py][line:24][INFO] FORMATTED: YOU SHOULD HAVE BEEN SICK  I WOULDN'T LET YOU I WAS NOT IN ATLANTA  YOU SHOULD HAVE BEEN A LITTLE BIT I WAS NOT IN ATLANTA \n"
     ]
    },
    {
     "name": "stdout",
     "output_type": "stream",
     "text": [
      "File 288 of 528\r"
     ]
    },
    {
     "name": "stderr",
     "output_type": "stream",
     "text": [
      "[2025-01-12 09:12:57,094][850594287.py][line:22][INFO] Transcription of file Ses01M_impro05_F016.wav has been formatted\n",
      "[2025-01-12 09:12:57,096][850594287.py][line:23][INFO] ORIGINAL: I had nothing to do with the boarding attendant. I'm sorry that your seat was wherever it was.\n",
      "\n",
      "[2025-01-12 09:12:57,098][850594287.py][line:24][INFO] FORMATTED: I HAD NOTHING TO DO WITH THE BOARDING ATTENDANT I'M SORRY THAT YOUR SEAT WAS WHEREVER IT WAS \n"
     ]
    },
    {
     "name": "stdout",
     "output_type": "stream",
     "text": [
      "File 289 of 528\r"
     ]
    },
    {
     "name": "stderr",
     "output_type": "stream",
     "text": [
      "[2025-01-12 09:12:58,117][850594287.py][line:22][INFO] Transcription of file Ses01M_impro05_F017.wav has been formatted\n",
      "[2025-01-12 09:12:58,118][850594287.py][line:23][INFO] ORIGINAL: I have some unfortunate news uh that your bag isn't going to be\n",
      "\n",
      "[2025-01-12 09:12:58,119][850594287.py][line:24][INFO] FORMATTED: I HAVE SOME UNFORTUNATE NEWS UH THAT YOUR BAG ISN'T GOING TO BE \n"
     ]
    },
    {
     "name": "stdout",
     "output_type": "stream",
     "text": [
      "File 290 of 528\r"
     ]
    },
    {
     "name": "stderr",
     "output_type": "stream",
     "text": [
      "[2025-01-12 09:12:58,967][850594287.py][line:22][INFO] Transcription of file Ses01M_impro05_F018.wav has been formatted\n",
      "[2025-01-12 09:12:58,969][850594287.py][line:23][INFO] ORIGINAL: arriving anytime soon.\n",
      "\n",
      "[2025-01-12 09:12:58,971][850594287.py][line:24][INFO] FORMATTED: ARRIVING ANYTIME SOON \n"
     ]
    },
    {
     "name": "stdout",
     "output_type": "stream",
     "text": [
      "File 291 of 528\r"
     ]
    },
    {
     "name": "stderr",
     "output_type": "stream",
     "text": [
      "[2025-01-12 09:12:59,862][850594287.py][line:22][INFO] Transcription of file Ses01M_impro05_F019.wav has been formatted\n",
      "[2025-01-12 09:12:59,863][850594287.py][line:23][INFO] ORIGINAL: I'm really sorry to tell you this, but...\n",
      "\n",
      "[2025-01-12 09:12:59,864][850594287.py][line:24][INFO] FORMATTED: I'M REALLY SORRY TO TELL YOU THIS  BUT \n"
     ]
    },
    {
     "name": "stdout",
     "output_type": "stream",
     "text": [
      "File 292 of 528\r"
     ]
    },
    {
     "name": "stderr",
     "output_type": "stream",
     "text": [
      "[2025-01-12 09:13:00,883][850594287.py][line:22][INFO] Transcription of file Ses01M_impro05_F020.wav has been formatted\n",
      "[2025-01-12 09:13:00,885][850594287.py][line:23][INFO] ORIGINAL: It's not. I can offer you $50 in uh reimbursement gift cards for our airline.\n",
      "\n",
      "[2025-01-12 09:13:00,887][850594287.py][line:24][INFO] FORMATTED: IT'S NOT I CAN OFFER YOU  50 IN UH REIMBURSEMENT GIFT CARDS FOR OUR AIRLINE \n"
     ]
    },
    {
     "name": "stdout",
     "output_type": "stream",
     "text": [
      "File 293 of 528\r"
     ]
    },
    {
     "name": "stderr",
     "output_type": "stream",
     "text": [
      "[2025-01-12 09:13:01,615][850594287.py][line:22][INFO] Transcription of file Ses01M_impro05_F021.wav has been formatted\n",
      "[2025-01-12 09:13:01,616][850594287.py][line:23][INFO] ORIGINAL: And your future. Are you saying p-p-p-p-\n",
      "\n",
      "[2025-01-12 09:13:01,617][850594287.py][line:24][INFO] FORMATTED: AND YOUR FUTURE ARE YOU SAYING P P P P  \n"
     ]
    },
    {
     "name": "stdout",
     "output_type": "stream",
     "text": [
      "File 294 of 528\r"
     ]
    },
    {
     "name": "stderr",
     "output_type": "stream",
     "text": [
      "[2025-01-12 09:13:02,275][850594287.py][line:22][INFO] Transcription of file Ses01M_impro05_F022.wav has been formatted\n",
      "[2025-01-12 09:13:02,277][850594287.py][line:23][INFO] ORIGINAL: No.\n",
      "\n",
      "[2025-01-12 09:13:02,279][850594287.py][line:24][INFO] FORMATTED: NO \n"
     ]
    },
    {
     "name": "stdout",
     "output_type": "stream",
     "text": [
      "File 295 of 528\r"
     ]
    },
    {
     "name": "stderr",
     "output_type": "stream",
     "text": [
      "[2025-01-12 09:13:02,948][850594287.py][line:22][INFO] Transcription of file Ses01M_impro05_F023.wav has been formatted\n",
      "[2025-01-12 09:13:02,949][850594287.py][line:23][INFO] ORIGINAL: Yes.\n",
      "\n",
      "[2025-01-12 09:13:02,951][850594287.py][line:24][INFO] FORMATTED: YES \n"
     ]
    },
    {
     "name": "stdout",
     "output_type": "stream",
     "text": [
      "File 296 of 528\r"
     ]
    },
    {
     "name": "stderr",
     "output_type": "stream",
     "text": [
      "[2025-01-12 09:13:03,717][850594287.py][line:22][INFO] Transcription of file Ses01M_impro05_F024.wav has been formatted\n",
      "[2025-01-12 09:13:03,719][850594287.py][line:23][INFO] ORIGINAL: We've actually\n",
      "\n",
      "[2025-01-12 09:13:03,721][850594287.py][line:24][INFO] FORMATTED: WE'VE ACTUALLY \n"
     ]
    },
    {
     "name": "stdout",
     "output_type": "stream",
     "text": [
      "File 297 of 528\r"
     ]
    },
    {
     "name": "stderr",
     "output_type": "stream",
     "text": [
      "[2025-01-12 09:13:05,259][850594287.py][line:22][INFO] Transcription of file Ses01M_impro05_F025.wav has been formatted\n",
      "[2025-01-12 09:13:05,261][850594287.py][line:23][INFO] ORIGINAL: They do, as a matter of fact. We don't like to publicize it because\n",
      "\n",
      "[2025-01-12 09:13:05,261][850594287.py][line:24][INFO] FORMATTED: THEY DO  AS A MATTER OF FACT WE DON'T LIKE TO PUBLICIZE IT BECAUSE \n"
     ]
    },
    {
     "name": "stdout",
     "output_type": "stream",
     "text": [
      "File 298 of 528\r"
     ]
    },
    {
     "name": "stderr",
     "output_type": "stream",
     "text": [
      "[2025-01-12 09:13:06,209][850594287.py][line:22][INFO] Transcription of file Ses01M_impro05_F026.wav has been formatted\n",
      "[2025-01-12 09:13:06,210][850594287.py][line:23][INFO] ORIGINAL: people wouldn't buy our airline.  [Sound of beeping]\n",
      "\n",
      "[2025-01-12 09:13:06,211][850594287.py][line:24][INFO] FORMATTED: PEOPLE WOULDN'T BUY OUR AIRLINE   SOUND OF BEEPING  \n"
     ]
    },
    {
     "name": "stdout",
     "output_type": "stream",
     "text": [
      "File 299 of 528\r"
     ]
    },
    {
     "name": "stderr",
     "output_type": "stream",
     "text": [
      "[2025-01-12 09:13:06,920][850594287.py][line:22][INFO] Transcription of file Ses01M_impro05_F027.wav has been formatted\n",
      "[2025-01-12 09:13:06,922][850594287.py][line:23][INFO] ORIGINAL: What was that?  [sound of beeping]\n",
      "\n",
      "[2025-01-12 09:13:06,924][850594287.py][line:24][INFO] FORMATTED: WHAT WAS THAT    SOUND OF BEEPING  \n",
      "[2025-01-12 09:13:06,926][2649188033.py][line:47][INFO] ------ Gemini API Usage Metrics ------\n",
      "[2025-01-12 09:13:06,927][2649188033.py][line:48][INFO] [Files Processed] 300 of 528\n",
      "[2025-01-12 09:13:06,928][2649188033.py][line:49][INFO] [Total Tokens] 226622\n",
      "[2025-01-12 09:13:06,928][2649188033.py][line:50][INFO] --------------------------------------\n"
     ]
    },
    {
     "name": "stdout",
     "output_type": "stream",
     "text": [
      "File 300 of 528\r"
     ]
    },
    {
     "name": "stderr",
     "output_type": "stream",
     "text": [
      "[2025-01-12 09:13:12,805][850594287.py][line:22][INFO] Transcription of file Ses01M_impro05_F028.wav has been formatted\n",
      "[2025-01-12 09:13:12,807][850594287.py][line:23][INFO] ORIGINAL: That's unfortunate.\n",
      "\n",
      "[2025-01-12 09:13:12,808][850594287.py][line:24][INFO] FORMATTED: THAT'S UNFORTUNATE \n"
     ]
    },
    {
     "name": "stdout",
     "output_type": "stream",
     "text": [
      "File 301 of 528\r"
     ]
    },
    {
     "name": "stderr",
     "output_type": "stream",
     "text": [
      "[2025-01-12 09:13:13,565][850594287.py][line:22][INFO] Transcription of file Ses01M_impro05_F029.wav has been formatted\n",
      "[2025-01-12 09:13:13,567][850594287.py][line:23][INFO] ORIGINAL: That's too bad.  Did you doubt?\n",
      "\n",
      "[2025-01-12 09:13:13,568][850594287.py][line:24][INFO] FORMATTED: THAT'S TOO BAD  DID YOU DOUBT  \n"
     ]
    },
    {
     "name": "stdout",
     "output_type": "stream",
     "text": [
      "File 302 of 528\r"
     ]
    },
    {
     "name": "stderr",
     "output_type": "stream",
     "text": [
      "[2025-01-12 09:13:14,444][850594287.py][line:22][INFO] Transcription of file Ses01M_impro05_F030.wav has been formatted\n",
      "[2025-01-12 09:13:14,445][850594287.py][line:23][INFO] ORIGINAL: I wish I could give it to you.  Well you need to pppp\n",
      "\n",
      "[2025-01-12 09:13:14,445][850594287.py][line:24][INFO] FORMATTED: I WISH I COULD GIVE IT TO YOU  WELL YOU NEED TO PPPP \n"
     ]
    },
    {
     "name": "stdout",
     "output_type": "stream",
     "text": [
      "File 303 of 528\r"
     ]
    },
    {
     "name": "stderr",
     "output_type": "stream",
     "text": [
      "[2025-01-12 09:13:15,189][850594287.py][line:22][INFO] Transcription of file Ses01M_impro05_F031.wav has been formatted\n",
      "[2025-01-12 09:13:15,191][850594287.py][line:23][INFO] ORIGINAL: I wish I could just go back to P...P...P...\n",
      "\n",
      "[2025-01-12 09:13:15,192][850594287.py][line:24][INFO] FORMATTED: I WISH I COULD JUST GO BACK TO PPP \n"
     ]
    },
    {
     "name": "stdout",
     "output_type": "stream",
     "text": [
      "File 304 of 528\r"
     ]
    },
    {
     "name": "stderr",
     "output_type": "stream",
     "text": [
      "[2025-01-12 09:13:16,160][850594287.py][line:22][INFO] Transcription of file Ses01M_impro05_F032.wav has been formatted\n",
      "[2025-01-12 09:13:16,161][850594287.py][line:23][INFO] ORIGINAL: That's not it, Paul.  Let's go back there and just go through one.  P p p p\n",
      "\n",
      "[2025-01-12 09:13:16,162][850594287.py][line:24][INFO] FORMATTED: THAT'S NOT IT  PAUL  LET'S GO BACK THERE AND JUST GO THROUGH ONE  P P P P \n"
     ]
    },
    {
     "name": "stdout",
     "output_type": "stream",
     "text": [
      "File 305 of 528\r"
     ]
    },
    {
     "name": "stderr",
     "output_type": "stream",
     "text": [
      "[2025-01-12 09:13:16,799][850594287.py][line:22][INFO] Transcription of file Ses01M_impro05_F033.wav has been formatted\n",
      "[2025-01-12 09:13:16,801][850594287.py][line:23][INFO] ORIGINAL:  \n",
      "\n",
      "[2025-01-12 09:13:16,802][850594287.py][line:24][INFO] FORMATTED:  \n"
     ]
    },
    {
     "name": "stdout",
     "output_type": "stream",
     "text": [
      "File 306 of 528\r"
     ]
    },
    {
     "name": "stderr",
     "output_type": "stream",
     "text": [
      "[2025-01-12 09:13:17,801][850594287.py][line:22][INFO] Transcription of file Ses01M_impro05_F034.wav has been formatted\n",
      "[2025-01-12 09:13:17,803][850594287.py][line:23][INFO] ORIGINAL: Stop.  We have plenty of aggressive searching going on. It's not there. Someone's taken it.\n",
      "\n",
      "[2025-01-12 09:13:17,804][850594287.py][line:24][INFO] FORMATTED: STOP  WE HAVE PLENTY OF AGGRESSIVE SEARCHING GOING ON IT'S NOT THERE SOMEONE'S TAKEN IT \n"
     ]
    },
    {
     "name": "stdout",
     "output_type": "stream",
     "text": [
      "File 307 of 528\r"
     ]
    },
    {
     "name": "stderr",
     "output_type": "stream",
     "text": [
      "[2025-01-12 09:13:18,663][850594287.py][line:22][INFO] Transcription of file Ses01M_script03_2_F006.wav has been formatted\n",
      "[2025-01-12 09:13:18,664][850594287.py][line:23][INFO] ORIGINAL: Well, what of it?\n",
      "\n",
      "[2025-01-12 09:13:18,666][850594287.py][line:24][INFO] FORMATTED: WELL  WHAT OF IT  \n"
     ]
    },
    {
     "name": "stdout",
     "output_type": "stream",
     "text": [
      "File 308 of 528\r"
     ]
    },
    {
     "name": "stderr",
     "output_type": "stream",
     "text": [
      "[2025-01-12 09:13:19,511][850594287.py][line:22][INFO] Transcription of file Ses01M_script03_2_F010.wav has been formatted\n",
      "[2025-01-12 09:13:19,512][850594287.py][line:23][INFO] ORIGINAL: No, thank you.\n",
      "\n",
      "[2025-01-12 09:13:19,513][850594287.py][line:24][INFO] FORMATTED: NO  THANK YOU \n"
     ]
    },
    {
     "name": "stdout",
     "output_type": "stream",
     "text": [
      "File 309 of 528\r"
     ]
    },
    {
     "name": "stderr",
     "output_type": "stream",
     "text": [
      "[2025-01-12 09:13:20,462][850594287.py][line:22][INFO] Transcription of file Ses01M_script03_2_F011.wav has been formatted\n",
      "[2025-01-12 09:13:20,462][850594287.py][line:23][INFO] ORIGINAL: I don't see why you want any. You've already had two glasses.  Oh.\n",
      "\n",
      "[2025-01-12 09:13:20,463][850594287.py][line:24][INFO] FORMATTED: I DON'T SEE WHY YOU WANT ANY YOU'VE ALREADY HAD TWO GLASSES  OH \n"
     ]
    },
    {
     "name": "stdout",
     "output_type": "stream",
     "text": [
      "File 310 of 528\r"
     ]
    },
    {
     "name": "stderr",
     "output_type": "stream",
     "text": [
      "[2025-01-12 09:13:21,329][850594287.py][line:22][INFO] Transcription of file Ses01M_script03_2_F015.wav has been formatted\n",
      "[2025-01-12 09:13:21,330][850594287.py][line:23][INFO] ORIGINAL: Don't be stupid. What?\n",
      "\n",
      "[2025-01-12 09:13:21,331][850594287.py][line:24][INFO] FORMATTED: DON'T BE STUPID WHAT  \n"
     ]
    },
    {
     "name": "stdout",
     "output_type": "stream",
     "text": [
      "File 311 of 528\r"
     ]
    },
    {
     "name": "stderr",
     "output_type": "stream",
     "text": [
      "[2025-01-12 09:13:22,353][850594287.py][line:22][INFO] Transcription of file Ses01M_script03_2_F017.wav has been formatted\n",
      "[2025-01-12 09:13:22,353][850594287.py][line:23][INFO] ORIGINAL: No, it's a woman's duty to allure the man. Watch me a minute, will you?\n",
      "\n",
      "[2025-01-12 09:13:22,354][850594287.py][line:24][INFO] FORMATTED: NO  IT'S A WOMAN'S DUTY TO ALLURE THE MAN WATCH ME A MINUTE  WILL YOU  \n"
     ]
    },
    {
     "name": "stdout",
     "output_type": "stream",
     "text": [
      "File 312 of 528\r"
     ]
    },
    {
     "name": "stderr",
     "output_type": "stream",
     "text": [
      "[2025-01-12 09:13:23,077][850594287.py][line:22][INFO] Transcription of file Ses01M_script03_2_F022.wav has been formatted\n",
      "[2025-01-12 09:13:23,078][850594287.py][line:23][INFO] ORIGINAL: This thing. This net.\n",
      "\n",
      "[2025-01-12 09:13:23,080][850594287.py][line:24][INFO] FORMATTED: THIS THING THIS NET \n"
     ]
    },
    {
     "name": "stdout",
     "output_type": "stream",
     "text": [
      "File 313 of 528\r"
     ]
    },
    {
     "name": "stderr",
     "output_type": "stream",
     "text": [
      "[2025-01-12 09:13:24,304][850594287.py][line:22][INFO] Transcription of file Ses01M_script03_2_F023.wav has been formatted\n",
      "[2025-01-12 09:13:24,306][850594287.py][line:23][INFO] ORIGINAL: I don't care! I don't care, do you understand? I don't mind if they bark and they roll about like hoops.  Ppppppp\n",
      "\n",
      "[2025-01-12 09:13:24,308][850594287.py][line:24][INFO] FORMATTED: I DON'T CARE  I DON'T CARE  DO YOU UNDERSTAND  I DON'T MIND IF THEY BARK AND THEY ROLL ABOUT LIKE HOOPS  PPPPPPP \n"
     ]
    },
    {
     "name": "stdout",
     "output_type": "stream",
     "text": [
      "File 314 of 528\r"
     ]
    },
    {
     "name": "stderr",
     "output_type": "stream",
     "text": [
      "[2025-01-12 09:13:25,168][850594287.py][line:22][INFO] Transcription of file Ses01M_script03_2_F024.wav has been formatted\n",
      "[2025-01-12 09:13:25,170][850594287.py][line:23][INFO] ORIGINAL: Yes, I did. Quite a lot.\n",
      "\n",
      "[2025-01-12 09:13:25,172][850594287.py][line:24][INFO] FORMATTED: YES  I DID QUITE A LOT \n"
     ]
    },
    {
     "name": "stdout",
     "output_type": "stream",
     "text": [
      "File 315 of 528\r"
     ]
    },
    {
     "name": "stderr",
     "output_type": "stream",
     "text": [
      "[2025-01-12 09:13:26,052][850594287.py][line:22][INFO] Transcription of file Ses01M_script03_2_F025.wav has been formatted\n",
      "[2025-01-12 09:13:26,054][850594287.py][line:23][INFO] ORIGINAL: Oh, mind your own business.\n",
      "\n",
      "[2025-01-12 09:13:26,055][850594287.py][line:24][INFO] FORMATTED: OH  MIND YOUR OWN BUSINESS \n"
     ]
    },
    {
     "name": "stdout",
     "output_type": "stream",
     "text": [
      "File 316 of 528\r"
     ]
    },
    {
     "name": "stderr",
     "output_type": "stream",
     "text": [
      "[2025-01-12 09:13:26,953][850594287.py][line:22][INFO] Transcription of file Ses01M_script03_2_F026.wav has been formatted\n",
      "[2025-01-12 09:13:26,955][850594287.py][line:23][INFO] ORIGINAL: You're quite insufferable. I expect it's because you're drunk.\n",
      "\n",
      "[2025-01-12 09:13:26,957][850594287.py][line:24][INFO] FORMATTED: YOU'RE QUITE INSUFFERABLE I EXPECT IT'S BECAUSE YOU'RE DRUNK \n"
     ]
    },
    {
     "name": "stdout",
     "output_type": "stream",
     "text": [
      "File 317 of 528\r"
     ]
    },
    {
     "name": "stderr",
     "output_type": "stream",
     "text": [
      "[2025-01-12 09:13:27,829][850594287.py][line:22][INFO] Transcription of file Ses01M_script03_2_F027.wav has been formatted\n",
      "[2025-01-12 09:13:27,831][850594287.py][line:23][INFO] ORIGINAL: You always had a weak head.\n",
      "\n",
      "[2025-01-12 09:13:27,832][850594287.py][line:24][INFO] FORMATTED: YOU ALWAYS HAD A WEAK HEAD \n"
     ]
    },
    {
     "name": "stdout",
     "output_type": "stream",
     "text": [
      "File 318 of 528\r"
     ]
    },
    {
     "name": "stderr",
     "output_type": "stream",
     "text": [
      "[2025-01-12 09:13:28,809][850594287.py][line:22][INFO] Transcription of file Ses01M_script03_2_F028.wav has been formatted\n",
      "[2025-01-12 09:13:28,812][850594287.py][line:23][INFO] ORIGINAL: On the contrary! A child or two could get violently drunk on only one glass of brandy.\n",
      "\n",
      "[2025-01-12 09:13:28,814][850594287.py][line:24][INFO] FORMATTED: ON THE CONTRARY  A CHILD OR TWO COULD GET VIOLENTLY DRUNK ON ONLY ONE GLASS OF BRANDY \n"
     ]
    },
    {
     "name": "stdout",
     "output_type": "stream",
     "text": [
      "File 319 of 528\r"
     ]
    },
    {
     "name": "stderr",
     "output_type": "stream",
     "text": [
      "[2025-01-12 09:13:29,711][850594287.py][line:22][INFO] Transcription of file Ses01M_script03_2_F029.wav has been formatted\n",
      "[2025-01-12 09:13:29,712][850594287.py][line:23][INFO] ORIGINAL: Nine. Shut up.\n",
      "\n",
      "[2025-01-12 09:13:29,714][850594287.py][line:24][INFO] FORMATTED: NINE SHUT UP \n"
     ]
    },
    {
     "name": "stdout",
     "output_type": "stream",
     "text": [
      "File 320 of 528\r"
     ]
    },
    {
     "name": "stderr",
     "output_type": "stream",
     "text": [
      "[2025-01-12 09:13:30,751][850594287.py][line:22][INFO] Transcription of file Ses01M_script03_2_F030.wav has been formatted\n",
      "[2025-01-12 09:13:30,754][850594287.py][line:23][INFO] ORIGINAL: Not very funny, darling. Why don't you have some more brandy? That's very...  *p* *p* *p*\n",
      "\n",
      "[2025-01-12 09:13:30,754][850594287.py][line:24][INFO] FORMATTED: NOT VERY FUNNY  DARLING WHY DON'T YOU HAVE SOME MORE BRANDY  THAT'S VERY   P   P   P  \n"
     ]
    },
    {
     "name": "stdout",
     "output_type": "stream",
     "text": [
      "File 321 of 528\r"
     ]
    },
    {
     "name": "stderr",
     "output_type": "stream",
     "text": [
      "[2025-01-12 09:13:31,455][850594287.py][line:22][INFO] Transcription of file Ses01M_script03_2_F031.wav has been formatted\n",
      "[2025-01-12 09:13:31,457][850594287.py][line:23][INFO] ORIGINAL: Please. Why? You're gonna pee?\n",
      "\n",
      "[2025-01-12 09:13:31,458][850594287.py][line:24][INFO] FORMATTED: PLEASE WHY  YOU'RE GONNA PEE  \n"
     ]
    },
    {
     "name": "stdout",
     "output_type": "stream",
     "text": [
      "File 322 of 528\r"
     ]
    },
    {
     "name": "stderr",
     "output_type": "stream",
     "text": [
      "[2025-01-12 09:13:32,300][850594287.py][line:22][INFO] Transcription of file Ses01M_script03_2_F033.wav has been formatted\n",
      "[2025-01-12 09:13:32,302][850594287.py][line:23][INFO] ORIGINAL: Their way into Tunis.\n",
      "\n",
      "[2025-01-12 09:13:32,303][850594287.py][line:24][INFO] FORMATTED: THEIR WAY INTO TUNIS \n"
     ]
    },
    {
     "name": "stdout",
     "output_type": "stream",
     "text": [
      "File 323 of 528\r"
     ]
    },
    {
     "name": "stderr",
     "output_type": "stream",
     "text": [
      "[2025-01-12 09:13:33,181][850594287.py][line:22][INFO] Transcription of file Ses01M_script03_2_F034.wav has been formatted\n",
      "[2025-01-12 09:13:33,182][850594287.py][line:23][INFO] ORIGINAL: Turn it on again, please.\n",
      "Beep.\n",
      "\n",
      "[2025-01-12 09:13:33,183][850594287.py][line:24][INFO] FORMATTED: TURN IT ON AGAIN  PLEASE BEEP \n"
     ]
    },
    {
     "name": "stdout",
     "output_type": "stream",
     "text": [
      "File 324 of 528\r"
     ]
    },
    {
     "name": "stderr",
     "output_type": "stream",
     "text": [
      "[2025-01-12 09:13:34,172][850594287.py][line:22][INFO] Transcription of file Ses01M_script03_2_F035.wav has been formatted\n",
      "[2025-01-12 09:13:34,173][850594287.py][line:23][INFO] ORIGINAL: Very well, if you insist on being boorish and idiotic.\n",
      "\n",
      "[2025-01-12 09:13:34,174][850594287.py][line:24][INFO] FORMATTED: VERY WELL  IF YOU INSIST ON BEING BOORISH AND IDIOTIC \n",
      "[2025-01-12 09:13:34,176][2649188033.py][line:47][INFO] ------ Gemini API Usage Metrics ------\n",
      "[2025-01-12 09:13:34,177][2649188033.py][line:48][INFO] [Files Processed] 325 of 528\n",
      "[2025-01-12 09:13:34,178][2649188033.py][line:49][INFO] [Total Tokens] 230437\n",
      "[2025-01-12 09:13:34,179][2649188033.py][line:50][INFO] --------------------------------------\n"
     ]
    },
    {
     "name": "stdout",
     "output_type": "stream",
     "text": [
      "File 325 of 528\r"
     ]
    },
    {
     "name": "stderr",
     "output_type": "stream",
     "text": [
      "[2025-01-12 09:13:39,976][850594287.py][line:22][INFO] Transcription of file Ses01M_script03_2_F036.wav has been formatted\n",
      "[2025-01-12 09:13:39,978][850594287.py][line:23][INFO] ORIGINAL: I won't.\n",
      "\n",
      "[2025-01-12 09:13:39,978][850594287.py][line:24][INFO] FORMATTED: I WON'T \n"
     ]
    },
    {
     "name": "stdout",
     "output_type": "stream",
     "text": [
      "File 326 of 528\r"
     ]
    },
    {
     "name": "stderr",
     "output_type": "stream",
     "text": [
      "[2025-01-12 09:13:40,870][850594287.py][line:22][INFO] Transcription of file Ses01M_script03_2_F037.wav has been formatted\n",
      "[2025-01-12 09:13:40,872][850594287.py][line:23][INFO] ORIGINAL: Stop it! No! Go away!  Listen.\n",
      "\n",
      "[2025-01-12 09:13:40,873][850594287.py][line:24][INFO] FORMATTED: STOP IT  NO  GO AWAY   LISTEN \n"
     ]
    },
    {
     "name": "stdout",
     "output_type": "stream",
     "text": [
      "File 327 of 528\r"
     ]
    },
    {
     "name": "stderr",
     "output_type": "stream",
     "text": [
      "[2025-01-12 09:13:41,883][850594287.py][line:22][INFO] Transcription of file Ses01M_script03_2_F038.wav has been formatted\n",
      "[2025-01-12 09:13:41,885][850594287.py][line:23][INFO] ORIGINAL: Listen! Oh, I'm sick and tired of listening to you, you damn sadistic bully!\n",
      "\n",
      "[2025-01-12 09:13:41,886][850594287.py][line:24][INFO] FORMATTED: LISTEN  OH  I'M SICK AND TIRED OF LISTENING TO YOU  YOU DAMN SADISTIC BULLY  \n"
     ]
    },
    {
     "name": "stdout",
     "output_type": "stream",
     "text": [
      "File 328 of 528\r"
     ]
    },
    {
     "name": "stderr",
     "output_type": "stream",
     "text": [
      "[2025-01-12 09:13:43,263][850594287.py][line:22][INFO] Transcription of file Ses01M_script03_2_F039.wav has been formatted\n",
      "[2025-01-12 09:13:43,265][850594287.py][line:23][INFO] ORIGINAL: Oh, you're cruel! You're You're I hate you! I hate you! Go away! You're You're conceited! You're overbearing! You're utterly impossible!  [Sound of sobbing]\n",
      "\n",
      "[2025-01-12 09:13:43,266][850594287.py][line:24][INFO] FORMATTED: OH  YOU'RE CRUEL  YOU'RE YOU'RE I HATE YOU  I HATE YOU  GO AWAY  YOU'RE YOU'RE CONCEITED  YOU'RE OVERBEARING  YOU'RE UTTERLY IMPOSSIBLE    SOUND OF SOBBING  \n"
     ]
    },
    {
     "name": "stdout",
     "output_type": "stream",
     "text": [
      "File 329 of 528\r"
     ]
    },
    {
     "name": "stderr",
     "output_type": "stream",
     "text": [
      "[2025-01-12 09:13:44,200][850594287.py][line:22][INFO] Transcription of file Ses01M_script03_2_F040.wav has been formatted\n",
      "[2025-01-12 09:13:44,202][850594287.py][line:23][INFO] ORIGINAL: This is the end. Do you hear me? Finally and forever.\n",
      "\n",
      "[2025-01-12 09:13:44,204][850594287.py][line:24][INFO] FORMATTED: THIS IS THE END DO YOU HEAR ME  FINALLY AND FOREVER \n"
     ]
    },
    {
     "name": "stdout",
     "output_type": "stream",
     "text": [
      "File 330 of 528\r"
     ]
    },
    {
     "name": "stderr",
     "output_type": "stream",
     "text": [
      "[2025-01-12 09:13:45,757][850594287.py][line:22][INFO] Transcription of file Ses01M_script03_2_F041.wav has been formatted\n",
      "[2025-01-12 09:13:45,758][850594287.py][line:23][INFO] ORIGINAL: Oh, yes, I am. No, you're not. Oh, yes, I am! Let go of me! You let go! You! Oh! You're You're a cruel thing! I loved and I hate you! Marry you again? Never! Never! Never! Never! I hope you die in torment, you beast!\n",
      "\n",
      "[2025-01-12 09:13:45,759][850594287.py][line:24][INFO] FORMATTED: OH  YES  I AM NO  YOU'RE NOT OH  YES  I AM  LET GO OF ME  YOU LET GO  YOU  OH  YOU'RE YOU'RE A CRUEL THING  I LOVED AND I HATE YOU  MARRY YOU AGAIN  NEVER  NEVER  NEVER  NEVER  I HOPE YOU DIE IN TORMENT  YOU BEAST  \n"
     ]
    },
    {
     "name": "stdout",
     "output_type": "stream",
     "text": [
      "File 331 of 528\r"
     ]
    },
    {
     "name": "stderr",
     "output_type": "stream",
     "text": [
      "[2025-01-12 09:13:46,764][850594287.py][line:22][INFO] Transcription of file Ses01F_impro07_F000.wav has been formatted\n",
      "[2025-01-12 09:13:46,766][850594287.py][line:23][INFO] ORIGINAL: Yes! There's a big envelope. It says, \"You're in!\" Yes! I'm out!\n",
      "\n",
      "[2025-01-12 09:13:46,767][850594287.py][line:24][INFO] FORMATTED: YES  THERE'S A BIG ENVELOPE IT SAYS   YOU'RE IN   YES  I'M OUT  \n"
     ]
    },
    {
     "name": "stdout",
     "output_type": "stream",
     "text": [
      "File 332 of 528\r"
     ]
    },
    {
     "name": "stderr",
     "output_type": "stream",
     "text": [
      "[2025-01-12 09:13:48,264][850594287.py][line:22][INFO] Transcription of file Ses01F_impro07_F002.wav has been formatted\n",
      "[2025-01-12 09:13:48,266][850594287.py][line:23][INFO] ORIGINAL: I'm really excited. Yeah. Yeah, I bet you are.  I don't know how I'm going to pay for anything but Oh, that's a lot. I also I I uh yeah, loans too. Yeah, yeah. I applied though for a bunch of grants and scholarships, so I'm still waiting to hear on that. Oh, okay.\n",
      "\n",
      "[2025-01-12 09:13:48,266][850594287.py][line:24][INFO] FORMATTED: I'M REALLY EXCITED YEAH YEAH  I BET YOU ARE  I DON'T KNOW HOW I'M GOING TO PAY FOR ANYTHING BUT OH  THAT'S A LOT I ALSO I I UH YEAH  LOANS TOO YEAH  YEAH I APPLIED THOUGH FOR A BUNCH OF GRANTS AND SCHOLARSHIPS  SO I'M STILL WAITING TO HEAR ON THAT OH  OKAY \n"
     ]
    },
    {
     "name": "stdout",
     "output_type": "stream",
     "text": [
      "File 333 of 528\r"
     ]
    },
    {
     "name": "stderr",
     "output_type": "stream",
     "text": [
      "[2025-01-12 09:13:49,219][850594287.py][line:22][INFO] Transcription of file Ses01F_impro07_F003.wav has been formatted\n",
      "[2025-01-12 09:13:49,221][850594287.py][line:23][INFO] ORIGINAL: I know, I know, I know, I know. Are you gonna stay right— Pppppp\n",
      "\n",
      "[2025-01-12 09:13:49,222][850594287.py][line:24][INFO] FORMATTED: I KNOW  I KNOW  I KNOW  I KNOW ARE YOU GONNA STAY RIGHT PPPPPP \n"
     ]
    },
    {
     "name": "stdout",
     "output_type": "stream",
     "text": [
      "File 334 of 528\r"
     ]
    },
    {
     "name": "stderr",
     "output_type": "stream",
     "text": [
      "[2025-01-12 09:13:50,195][850594287.py][line:22][INFO] Transcription of file Ses01F_impro07_F004.wav has been formatted\n",
      "[2025-01-12 09:13:50,197][850594287.py][line:23][INFO] ORIGINAL: Uh, I don't know. I spend so much time commuting as it is, I'd rather So um\n",
      "\n",
      "[2025-01-12 09:13:50,197][850594287.py][line:24][INFO] FORMATTED: UH  I DON'T KNOW I SPEND SO MUCH TIME COMMUTING AS IT IS  I'D RATHER SO UM \n"
     ]
    },
    {
     "name": "stdout",
     "output_type": "stream",
     "text": [
      "File 335 of 528\r"
     ]
    },
    {
     "name": "stderr",
     "output_type": "stream",
     "text": [
      "[2025-01-12 09:13:51,095][850594287.py][line:22][INFO] Transcription of file Ses01F_impro07_F005.wav has been formatted\n",
      "[2025-01-12 09:13:51,098][850594287.py][line:23][INFO] ORIGINAL: Happy birthday!  We should throw a party!\n",
      "\n",
      "[2025-01-12 09:13:51,099][850594287.py][line:24][INFO] FORMATTED: HAPPY BIRTHDAY   WE SHOULD THROW A PARTY  \n"
     ]
    },
    {
     "name": "stdout",
     "output_type": "stream",
     "text": [
      "File 336 of 528\r"
     ]
    },
    {
     "name": "stderr",
     "output_type": "stream",
     "text": [
      "[2025-01-12 09:13:51,983][850594287.py][line:22][INFO] Transcription of file Ses01F_impro07_F009.wav has been formatted\n",
      "[2025-01-12 09:13:51,985][850594287.py][line:23][INFO] ORIGINAL: Yeah. I'm not sure.  What?\n",
      "\n",
      "[2025-01-12 09:13:51,986][850594287.py][line:24][INFO] FORMATTED: YEAH I'M NOT SURE  WHAT  \n"
     ]
    },
    {
     "name": "stdout",
     "output_type": "stream",
     "text": [
      "File 337 of 528\r"
     ]
    },
    {
     "name": "stderr",
     "output_type": "stream",
     "text": [
      "[2025-01-12 09:13:52,963][850594287.py][line:22][INFO] Transcription of file Ses01F_impro07_F010.wav has been formatted\n",
      "[2025-01-12 09:13:52,965][850594287.py][line:23][INFO] ORIGINAL: um PhD\n",
      "PhD\n",
      "\n",
      "[2025-01-12 09:13:52,966][850594287.py][line:24][INFO] FORMATTED: UM PHD PHD \n"
     ]
    },
    {
     "name": "stdout",
     "output_type": "stream",
     "text": [
      "File 338 of 528\r"
     ]
    },
    {
     "name": "stderr",
     "output_type": "stream",
     "text": [
      "[2025-01-12 09:13:53,969][850594287.py][line:22][INFO] Transcription of file Ses01F_impro07_F012.wav has been formatted\n",
      "[2025-01-12 09:13:53,970][850594287.py][line:23][INFO] ORIGINAL: Teacher. So I get to mold young minds.  Mrs. That's my mother.\n",
      "\n",
      "[2025-01-12 09:13:53,971][850594287.py][line:24][INFO] FORMATTED: TEACHER SO I GET TO MOLD YOUNG MINDS  MRS THAT'S MY MOTHER \n"
     ]
    },
    {
     "name": "stdout",
     "output_type": "stream",
     "text": [
      "File 339 of 528\r"
     ]
    },
    {
     "name": "stderr",
     "output_type": "stream",
     "text": [
      "[2025-01-12 09:13:55,139][850594287.py][line:22][INFO] Transcription of file Ses01F_impro07_F013.wav has been formatted\n",
      "[2025-01-12 09:13:55,139][850594287.py][line:23][INFO] ORIGINAL: I'm having a lovely life. Dash.  I think you've confused this as dash, which is the proper... Oh right, right, right, right. Um, p p p p p\n",
      "\n",
      "[2025-01-12 09:13:55,139][850594287.py][line:24][INFO] FORMATTED: I'M HAVING A LOVELY LIFE DASH  I THINK YOU'VE CONFUSED THIS AS DASH  WHICH IS THE PROPER OH RIGHT  RIGHT  RIGHT  RIGHT UM  P P P P P \n"
     ]
    },
    {
     "name": "stdout",
     "output_type": "stream",
     "text": [
      "File 340 of 528\r"
     ]
    },
    {
     "name": "stderr",
     "output_type": "stream",
     "text": [
      "[2025-01-12 09:13:56,276][850594287.py][line:22][INFO] Transcription of file Ses01F_impro07_F016.wav has been formatted\n",
      "[2025-01-12 09:13:56,278][850594287.py][line:23][INFO] ORIGINAL: I know. I made such a mess of it the entire time. The last like three things I've done have ruined everything, I think.  Ruined.  Yeah.\n",
      "\n",
      "[2025-01-12 09:13:56,280][850594287.py][line:24][INFO] FORMATTED: I KNOW I MADE SUCH A MESS OF IT THE ENTIRE TIME THE LAST LIKE THREE THINGS I'VE DONE HAVE RUINED EVERYTHING  I THINK  RUINED  YEAH \n"
     ]
    },
    {
     "name": "stdout",
     "output_type": "stream",
     "text": [
      "File 341 of 528\r"
     ]
    },
    {
     "name": "stderr",
     "output_type": "stream",
     "text": [
      "[2025-01-12 09:13:57,149][850594287.py][line:22][INFO] Transcription of file Ses01M_impro06_F000.wav has been formatted\n",
      "[2025-01-12 09:13:57,150][850594287.py][line:23][INFO] ORIGINAL: You okay?\n",
      "(sound of beeping)\n",
      "\n",
      "[2025-01-12 09:13:57,151][850594287.py][line:24][INFO] FORMATTED: YOU OKAY   SOUND OF BEEPING  \n"
     ]
    },
    {
     "name": "stdout",
     "output_type": "stream",
     "text": [
      "File 342 of 528\r"
     ]
    },
    {
     "name": "stderr",
     "output_type": "stream",
     "text": [
      "[2025-01-12 09:13:58,012][850594287.py][line:22][INFO] Transcription of file Ses01M_impro06_F001.wav has been formatted\n",
      "[2025-01-12 09:13:58,014][850594287.py][line:23][INFO] ORIGINAL: Something.\n",
      "Beep beep beep beep beep.\n",
      "\n",
      "[2025-01-12 09:13:58,015][850594287.py][line:24][INFO] FORMATTED: SOMETHING BEEP BEEP BEEP BEEP BEEP \n"
     ]
    },
    {
     "name": "stdout",
     "output_type": "stream",
     "text": [
      "File 343 of 528\r"
     ]
    },
    {
     "name": "stderr",
     "output_type": "stream",
     "text": [
      "[2025-01-12 09:13:58,891][850594287.py][line:22][INFO] Transcription of file Ses01M_impro06_F002.wav has been formatted\n",
      "[2025-01-12 09:13:58,892][850594287.py][line:23][INFO] ORIGINAL: I don't understand what you're saying.\n",
      "\n",
      "[2025-01-12 09:13:58,894][850594287.py][line:24][INFO] FORMATTED: I DON'T UNDERSTAND WHAT YOU'RE SAYING \n"
     ]
    },
    {
     "name": "stdout",
     "output_type": "stream",
     "text": [
      "File 344 of 528\r"
     ]
    },
    {
     "name": "stderr",
     "output_type": "stream",
     "text": [
      "[2025-01-12 09:13:59,790][850594287.py][line:22][INFO] Transcription of file Ses01M_impro06_F003.wav has been formatted\n",
      "[2025-01-12 09:13:59,793][850594287.py][line:23][INFO] ORIGINAL: I'm sorry to hear that.\n",
      "\n",
      "[2025-01-12 09:13:59,794][850594287.py][line:24][INFO] FORMATTED: I'M SORRY TO HEAR THAT \n"
     ]
    },
    {
     "name": "stdout",
     "output_type": "stream",
     "text": [
      "File 345 of 528\r"
     ]
    },
    {
     "name": "stderr",
     "output_type": "stream",
     "text": [
      "[2025-01-12 09:14:00,637][850594287.py][line:22][INFO] Transcription of file Ses01M_impro06_F004.wav has been formatted\n",
      "[2025-01-12 09:14:00,639][850594287.py][line:23][INFO] ORIGINAL: You've been taking care of it all.\n",
      "\n",
      "[2025-01-12 09:14:00,640][850594287.py][line:24][INFO] FORMATTED: YOU'VE BEEN TAKING CARE OF IT ALL \n"
     ]
    },
    {
     "name": "stdout",
     "output_type": "stream",
     "text": [
      "File 346 of 528\r"
     ]
    },
    {
     "name": "stderr",
     "output_type": "stream",
     "text": [
      "[2025-01-12 09:14:01,498][850594287.py][line:22][INFO] Transcription of file Ses01M_impro06_F005.wav has been formatted\n",
      "[2025-01-12 09:14:01,499][850594287.py][line:23][INFO] ORIGINAL: Oh Jesus.\n",
      "\n",
      "[2025-01-12 09:14:01,500][850594287.py][line:24][INFO] FORMATTED: OH JESUS \n"
     ]
    },
    {
     "name": "stdout",
     "output_type": "stream",
     "text": [
      "File 347 of 528\r"
     ]
    },
    {
     "name": "stderr",
     "output_type": "stream",
     "text": [
      "[2025-01-12 09:14:02,385][850594287.py][line:22][INFO] Transcription of file Ses01M_impro06_F006.wav has been formatted\n",
      "[2025-01-12 09:14:02,387][850594287.py][line:23][INFO] ORIGINAL: You stick around for a while?\n",
      "\n",
      "[2025-01-12 09:14:02,388][850594287.py][line:24][INFO] FORMATTED: YOU STICK AROUND FOR A WHILE  \n"
     ]
    },
    {
     "name": "stdout",
     "output_type": "stream",
     "text": [
      "File 348 of 528\r"
     ]
    },
    {
     "name": "stderr",
     "output_type": "stream",
     "text": [
      "[2025-01-12 09:14:03,236][850594287.py][line:22][INFO] Transcription of file Ses01M_impro06_F007.wav has been formatted\n",
      "[2025-01-12 09:14:03,238][850594287.py][line:23][INFO] ORIGINAL: It's an accident?\n",
      "\n",
      "[2025-01-12 09:14:03,239][850594287.py][line:24][INFO] FORMATTED: IT'S AN ACCIDENT  \n"
     ]
    },
    {
     "name": "stdout",
     "output_type": "stream",
     "text": [
      "File 349 of 528\r"
     ]
    },
    {
     "name": "stderr",
     "output_type": "stream",
     "text": [
      "[2025-01-12 09:14:03,917][850594287.py][line:22][INFO] Transcription of file Ses01M_impro06_F008.wav has been formatted\n",
      "--- Logging error ---\n",
      "Traceback (most recent call last):\n",
      "  File \"C:\\Users\\ChenYi\\anaconda3\\envs\\aai3001\\Lib\\logging\\__init__.py\", line 1113, in emit\n",
      "    stream.write(msg + self.terminator)\n",
      "  File \"C:\\Users\\ChenYi\\anaconda3\\envs\\aai3001\\Lib\\encodings\\cp1252.py\", line 19, in encode\n",
      "    return codecs.charmap_encode(input,self.errors,encoding_table)[0]\n",
      "           ^^^^^^^^^^^^^^^^^^^^^^^^^^^^^^^^^^^^^^^^^^^^^^^^^^^^^^^\n",
      "UnicodeEncodeError: 'charmap' codec can't encode characters in position 65-71: character maps to <undefined>\n",
      "Call stack:\n",
      "  File \"<frozen runpy>\", line 198, in _run_module_as_main\n",
      "  File \"<frozen runpy>\", line 88, in _run_code\n",
      "  File \"C:\\Users\\ChenYi\\anaconda3\\envs\\aai3001\\Lib\\site-packages\\ipykernel_launcher.py\", line 17, in <module>\n",
      "    app.launch_new_instance()\n",
      "  File \"C:\\Users\\ChenYi\\anaconda3\\envs\\aai3001\\Lib\\site-packages\\traitlets\\config\\application.py\", line 1075, in launch_instance\n",
      "    app.start()\n",
      "  File \"C:\\Users\\ChenYi\\anaconda3\\envs\\aai3001\\Lib\\site-packages\\ipykernel\\kernelapp.py\", line 701, in start\n",
      "    self.io_loop.start()\n",
      "  File \"C:\\Users\\ChenYi\\anaconda3\\envs\\aai3001\\Lib\\site-packages\\tornado\\platform\\asyncio.py\", line 205, in start\n",
      "    self.asyncio_loop.run_forever()\n",
      "  File \"C:\\Users\\ChenYi\\anaconda3\\envs\\aai3001\\Lib\\asyncio\\windows_events.py\", line 321, in run_forever\n",
      "    super().run_forever()\n",
      "  File \"C:\\Users\\ChenYi\\anaconda3\\envs\\aai3001\\Lib\\asyncio\\base_events.py\", line 608, in run_forever\n",
      "    self._run_once()\n",
      "  File \"C:\\Users\\ChenYi\\anaconda3\\envs\\aai3001\\Lib\\asyncio\\base_events.py\", line 1936, in _run_once\n",
      "    handle._run()\n",
      "  File \"C:\\Users\\ChenYi\\anaconda3\\envs\\aai3001\\Lib\\asyncio\\events.py\", line 84, in _run\n",
      "    self._context.run(self._callback, *self._args)\n",
      "  File \"C:\\Users\\ChenYi\\anaconda3\\envs\\aai3001\\Lib\\site-packages\\ipykernel\\kernelbase.py\", line 534, in dispatch_queue\n",
      "    await self.process_one()\n",
      "  File \"C:\\Users\\ChenYi\\anaconda3\\envs\\aai3001\\Lib\\site-packages\\ipykernel\\kernelbase.py\", line 523, in process_one\n",
      "    await dispatch(*args)\n",
      "  File \"C:\\Users\\ChenYi\\anaconda3\\envs\\aai3001\\Lib\\site-packages\\ipykernel\\kernelbase.py\", line 429, in dispatch_shell\n",
      "    await result\n",
      "  File \"C:\\Users\\ChenYi\\anaconda3\\envs\\aai3001\\Lib\\site-packages\\ipykernel\\kernelbase.py\", line 767, in execute_request\n",
      "    reply_content = await reply_content\n",
      "  File \"C:\\Users\\ChenYi\\anaconda3\\envs\\aai3001\\Lib\\site-packages\\ipykernel\\ipkernel.py\", line 429, in do_execute\n",
      "    res = shell.run_cell(\n",
      "  File \"C:\\Users\\ChenYi\\anaconda3\\envs\\aai3001\\Lib\\site-packages\\ipykernel\\zmqshell.py\", line 549, in run_cell\n",
      "    return super().run_cell(*args, **kwargs)\n",
      "  File \"C:\\Users\\ChenYi\\anaconda3\\envs\\aai3001\\Lib\\site-packages\\IPython\\core\\interactiveshell.py\", line 3075, in run_cell\n",
      "    result = self._run_cell(\n",
      "  File \"C:\\Users\\ChenYi\\anaconda3\\envs\\aai3001\\Lib\\site-packages\\IPython\\core\\interactiveshell.py\", line 3130, in _run_cell\n",
      "    result = runner(coro)\n",
      "  File \"C:\\Users\\ChenYi\\anaconda3\\envs\\aai3001\\Lib\\site-packages\\IPython\\core\\async_helpers.py\", line 128, in _pseudo_sync_runner\n",
      "    coro.send(None)\n",
      "  File \"C:\\Users\\ChenYi\\anaconda3\\envs\\aai3001\\Lib\\site-packages\\IPython\\core\\interactiveshell.py\", line 3334, in run_cell_async\n",
      "    has_raised = await self.run_ast_nodes(code_ast.body, cell_name,\n",
      "  File \"C:\\Users\\ChenYi\\anaconda3\\envs\\aai3001\\Lib\\site-packages\\IPython\\core\\interactiveshell.py\", line 3517, in run_ast_nodes\n",
      "    if await self.run_code(code, result, async_=asy):\n",
      "  File \"C:\\Users\\ChenYi\\anaconda3\\envs\\aai3001\\Lib\\site-packages\\IPython\\core\\interactiveshell.py\", line 3577, in run_code\n",
      "    exec(code_obj, self.user_global_ns, self.user_ns)\n",
      "  File \"C:\\Users\\ChenYi\\AppData\\Local\\Temp\\ipykernel_19576\\468832354.py\", line 1, in <module>\n",
      "    predict(test_dataframe)\n",
      "  File \"C:\\Users\\ChenYi\\AppData\\Local\\Temp\\ipykernel_19576\\2649188033.py\", line 36, in predict\n",
      "    formatted_transcription = format_transcription(filename, count, text)\n",
      "  File \"C:\\Users\\ChenYi\\AppData\\Local\\Temp\\ipykernel_19576\\850594287.py\", line 23, in format_transcription\n",
      "    logger.info(f\"ORIGINAL: {original_text}\")\n",
      "Message: 'ORIGINAL: ヒューストン。\\n'\n",
      "Arguments: ()\n",
      "[2025-01-12 09:14:03,917][850594287.py][line:23][INFO] ORIGINAL: ヒューストン。\n",
      "\n",
      "[2025-01-12 09:14:03,920][850594287.py][line:24][INFO] FORMATTED:  \n",
      "[2025-01-12 09:14:03,921][2649188033.py][line:47][INFO] ------ Gemini API Usage Metrics ------\n",
      "[2025-01-12 09:14:03,922][2649188033.py][line:48][INFO] [Files Processed] 350 of 528\n",
      "[2025-01-12 09:14:03,922][2649188033.py][line:49][INFO] [Total Tokens] 235885\n",
      "[2025-01-12 09:14:03,923][2649188033.py][line:50][INFO] --------------------------------------\n"
     ]
    },
    {
     "name": "stdout",
     "output_type": "stream",
     "text": [
      "File 350 of 528\r"
     ]
    },
    {
     "name": "stderr",
     "output_type": "stream",
     "text": [
      "[2025-01-12 09:14:09,968][850594287.py][line:22][INFO] Transcription of file Ses01M_impro06_F009.wav has been formatted\n",
      "[2025-01-12 09:14:09,970][850594287.py][line:23][INFO] ORIGINAL: Well, I'm confused. He he was sick or or it was an accident?  He was.\n",
      "\n",
      "[2025-01-12 09:14:09,971][850594287.py][line:24][INFO] FORMATTED: WELL  I'M CONFUSED HE HE WAS SICK OR OR IT WAS AN ACCIDENT   HE WAS \n"
     ]
    },
    {
     "name": "stdout",
     "output_type": "stream",
     "text": [
      "File 351 of 528\r"
     ]
    },
    {
     "name": "stderr",
     "output_type": "stream",
     "text": [
      "[2025-01-12 09:14:10,827][850594287.py][line:22][INFO] Transcription of file Ses01M_impro06_F010.wav has been formatted\n",
      "[2025-01-12 09:14:10,829][850594287.py][line:23][INFO] ORIGINAL: Really fast.\n",
      "\n",
      "[2025-01-12 09:14:10,830][850594287.py][line:24][INFO] FORMATTED: REALLY FAST \n"
     ]
    },
    {
     "name": "stdout",
     "output_type": "stream",
     "text": [
      "File 352 of 528\r"
     ]
    },
    {
     "name": "stderr",
     "output_type": "stream",
     "text": [
      "[2025-01-12 09:14:11,474][850594287.py][line:22][INFO] Transcription of file Ses01M_impro06_F011.wav has been formatted\n",
      "[2025-01-12 09:14:11,475][850594287.py][line:23][INFO] ORIGINAL:  \n",
      "\n",
      "[2025-01-12 09:14:11,476][850594287.py][line:24][INFO] FORMATTED:  \n"
     ]
    },
    {
     "name": "stdout",
     "output_type": "stream",
     "text": [
      "File 353 of 528\r"
     ]
    },
    {
     "name": "stderr",
     "output_type": "stream",
     "text": [
      "[2025-01-12 09:14:12,128][850594287.py][line:22][INFO] Transcription of file Ses01M_impro06_F012.wav has been formatted\n",
      "[2025-01-12 09:14:12,129][850594287.py][line:23][INFO] ORIGINAL:  \n",
      "\n",
      "[2025-01-12 09:14:12,131][850594287.py][line:24][INFO] FORMATTED:  \n"
     ]
    },
    {
     "name": "stdout",
     "output_type": "stream",
     "text": [
      "File 354 of 528\r"
     ]
    },
    {
     "name": "stderr",
     "output_type": "stream",
     "text": [
      "[2025-01-12 09:14:12,973][850594287.py][line:22][INFO] Transcription of file Ses01M_impro06_F013.wav has been formatted\n",
      "[2025-01-12 09:14:12,975][850594287.py][line:23][INFO] ORIGINAL: Totally, yeah.\n",
      "\n",
      "[2025-01-12 09:14:12,976][850594287.py][line:24][INFO] FORMATTED: TOTALLY  YEAH \n"
     ]
    },
    {
     "name": "stdout",
     "output_type": "stream",
     "text": [
      "File 355 of 528\r"
     ]
    },
    {
     "name": "stderr",
     "output_type": "stream",
     "text": [
      "[2025-01-12 09:14:13,629][850594287.py][line:22][INFO] Transcription of file Ses01M_impro06_F014.wav has been formatted\n",
      "[2025-01-12 09:14:13,631][850594287.py][line:23][INFO] ORIGINAL: Uh-huh.\n",
      "\n",
      "[2025-01-12 09:14:13,632][850594287.py][line:24][INFO] FORMATTED: UH HUH \n"
     ]
    },
    {
     "name": "stdout",
     "output_type": "stream",
     "text": [
      "File 356 of 528\r"
     ]
    },
    {
     "name": "stderr",
     "output_type": "stream",
     "text": [
      "[2025-01-12 09:14:14,401][850594287.py][line:22][INFO] Transcription of file Ses01M_impro06_F015.wav has been formatted\n",
      "[2025-01-12 09:14:14,401][850594287.py][line:23][INFO] ORIGINAL: The provided audio seems to contain only a series of repeated \"P\" sounds, not intelligible speech.\n",
      "\n",
      "[2025-01-12 09:14:14,402][850594287.py][line:24][INFO] FORMATTED: THE PROVIDED AUDIO SEEMS TO CONTAIN ONLY A SERIES OF REPEATED  P  SOUNDS  NOT INTELLIGIBLE SPEECH \n"
     ]
    },
    {
     "name": "stdout",
     "output_type": "stream",
     "text": [
      "File 357 of 528\r"
     ]
    },
    {
     "name": "stderr",
     "output_type": "stream",
     "text": [
      "[2025-01-12 09:14:15,058][850594287.py][line:22][INFO] Transcription of file Ses01M_impro06_F016.wav has been formatted\n",
      "[2025-01-12 09:14:15,060][850594287.py][line:23][INFO] ORIGINAL: Mm-hmm.\n",
      "\n",
      "[2025-01-12 09:14:15,061][850594287.py][line:24][INFO] FORMATTED: MM HMM \n"
     ]
    },
    {
     "name": "stdout",
     "output_type": "stream",
     "text": [
      "File 358 of 528\r"
     ]
    },
    {
     "name": "stderr",
     "output_type": "stream",
     "text": [
      "[2025-01-12 09:14:15,912][850594287.py][line:22][INFO] Transcription of file Ses01M_impro06_F017.wav has been formatted\n",
      "[2025-01-12 09:14:15,913][850594287.py][line:23][INFO] ORIGINAL: the plans you make others\n",
      "\n",
      "[2025-01-12 09:14:15,914][850594287.py][line:24][INFO] FORMATTED: THE PLANS YOU MAKE OTHERS \n"
     ]
    },
    {
     "name": "stdout",
     "output_type": "stream",
     "text": [
      "File 359 of 528\r"
     ]
    },
    {
     "name": "stderr",
     "output_type": "stream",
     "text": [
      "[2025-01-12 09:14:16,781][850594287.py][line:22][INFO] Transcription of file Ses01M_impro06_F018.wav has been formatted\n",
      "[2025-01-12 09:14:16,783][850594287.py][line:23][INFO] ORIGINAL: It leaves a hole for you too.\n",
      "\n",
      "[2025-01-12 09:14:16,784][850594287.py][line:24][INFO] FORMATTED: IT LEAVES A HOLE FOR YOU TOO \n"
     ]
    },
    {
     "name": "stdout",
     "output_type": "stream",
     "text": [
      "File 360 of 528\r"
     ]
    },
    {
     "name": "stderr",
     "output_type": "stream",
     "text": [
      "[2025-01-12 09:14:17,686][850594287.py][line:22][INFO] Transcription of file Ses01M_impro06_F019.wav has been formatted\n",
      "[2025-01-12 09:14:17,687][850594287.py][line:23][INFO] ORIGINAL: Leaves a hole for you too. And your plants together.\n",
      "\n",
      "[2025-01-12 09:14:17,688][850594287.py][line:24][INFO] FORMATTED: LEAVES A HOLE FOR YOU TOO AND YOUR PLANTS TOGETHER \n"
     ]
    },
    {
     "name": "stdout",
     "output_type": "stream",
     "text": [
      "File 361 of 528\r"
     ]
    },
    {
     "name": "stderr",
     "output_type": "stream",
     "text": [
      "[2025-01-12 09:14:18,571][850594287.py][line:22][INFO] Transcription of file Ses01M_impro06_F020.wav has been formatted\n",
      "[2025-01-12 09:14:18,571][850594287.py][line:23][INFO] ORIGINAL: It gets better.\n",
      "\n",
      "[2025-01-12 09:14:18,571][850594287.py][line:24][INFO] FORMATTED: IT GETS BETTER \n"
     ]
    },
    {
     "name": "stdout",
     "output_type": "stream",
     "text": [
      "File 362 of 528\r"
     ]
    },
    {
     "name": "stderr",
     "output_type": "stream",
     "text": [
      "[2025-01-12 09:14:19,450][850594287.py][line:22][INFO] Transcription of file Ses01M_impro06_F021.wav has been formatted\n",
      "[2025-01-12 09:14:19,451][850594287.py][line:23][INFO] ORIGINAL:  \n",
      "\n",
      "[2025-01-12 09:14:19,451][850594287.py][line:24][INFO] FORMATTED:  \n"
     ]
    },
    {
     "name": "stdout",
     "output_type": "stream",
     "text": [
      "File 363 of 528\r"
     ]
    },
    {
     "name": "stderr",
     "output_type": "stream",
     "text": [
      "[2025-01-12 09:14:20,305][850594287.py][line:22][INFO] Transcription of file Ses01M_impro06_F022.wav has been formatted\n",
      "[2025-01-12 09:14:20,306][850594287.py][line:23][INFO] ORIGINAL: Hm.\n",
      "\n",
      "[2025-01-12 09:14:20,306][850594287.py][line:24][INFO] FORMATTED: HM \n"
     ]
    },
    {
     "name": "stdout",
     "output_type": "stream",
     "text": [
      "File 364 of 528\r"
     ]
    },
    {
     "name": "stderr",
     "output_type": "stream",
     "text": [
      "[2025-01-12 09:14:21,150][850594287.py][line:22][INFO] Transcription of file Ses01M_impro06_F023.wav has been formatted\n",
      "[2025-01-12 09:14:21,152][850594287.py][line:23][INFO] ORIGINAL: Mm-hmm.\n",
      "\n",
      "[2025-01-12 09:14:21,153][850594287.py][line:24][INFO] FORMATTED: MM HMM \n"
     ]
    },
    {
     "name": "stdout",
     "output_type": "stream",
     "text": [
      "File 365 of 528\r"
     ]
    },
    {
     "name": "stderr",
     "output_type": "stream",
     "text": [
      "[2025-01-12 09:14:22,038][850594287.py][line:22][INFO] Transcription of file Ses01M_impro06_F024.wav has been formatted\n",
      "[2025-01-12 09:14:22,040][850594287.py][line:23][INFO] ORIGINAL: How long do you know each other?\n",
      "\n",
      "[2025-01-12 09:14:22,041][850594287.py][line:24][INFO] FORMATTED: HOW LONG DO YOU KNOW EACH OTHER  \n"
     ]
    },
    {
     "name": "stdout",
     "output_type": "stream",
     "text": [
      "File 366 of 528\r"
     ]
    },
    {
     "name": "stderr",
     "output_type": "stream",
     "text": [
      "[2025-01-12 09:14:22,715][850594287.py][line:22][INFO] Transcription of file Ses01M_impro06_F025.wav has been formatted\n",
      "[2025-01-12 09:14:22,716][850594287.py][line:23][INFO] ORIGINAL: One time.\n",
      "\n",
      "[2025-01-12 09:14:22,717][850594287.py][line:24][INFO] FORMATTED: ONE TIME \n"
     ]
    },
    {
     "name": "stdout",
     "output_type": "stream",
     "text": [
      "File 367 of 528\r"
     ]
    },
    {
     "name": "stderr",
     "output_type": "stream",
     "text": [
      "[2025-01-12 09:14:23,625][850594287.py][line:22][INFO] Transcription of file Ses01M_impro06_F026.wav has been formatted\n",
      "[2025-01-12 09:14:23,628][850594287.py][line:23][INFO] ORIGINAL: It's good that you were there.\n",
      "\n",
      "[2025-01-12 09:14:23,628][850594287.py][line:24][INFO] FORMATTED: IT'S GOOD THAT YOU WERE THERE \n"
     ]
    },
    {
     "name": "stdout",
     "output_type": "stream",
     "text": [
      "File 368 of 528\r"
     ]
    },
    {
     "name": "stderr",
     "output_type": "stream",
     "text": [
      "[2025-01-12 09:14:24,409][850594287.py][line:22][INFO] Transcription of file Ses01M_impro06_F027.wav has been formatted\n",
      "[2025-01-12 09:14:24,410][850594287.py][line:23][INFO] ORIGINAL:  \n",
      "\n",
      "[2025-01-12 09:14:24,411][850594287.py][line:24][INFO] FORMATTED:   \n"
     ]
    },
    {
     "name": "stdout",
     "output_type": "stream",
     "text": [
      "File 369 of 528\r"
     ]
    },
    {
     "name": "stderr",
     "output_type": "stream",
     "text": [
      "[2025-01-12 09:14:25,313][850594287.py][line:22][INFO] Transcription of file Ses01M_impro06_F028.wav has been formatted\n",
      "[2025-01-12 09:14:25,314][850594287.py][line:23][INFO] ORIGINAL: Are there things you wish you'd done differently?\n",
      "\n",
      "[2025-01-12 09:14:25,315][850594287.py][line:24][INFO] FORMATTED: ARE THERE THINGS YOU WISH YOU'D DONE DIFFERENTLY  \n"
     ]
    },
    {
     "name": "stdout",
     "output_type": "stream",
     "text": [
      "File 370 of 528\r"
     ]
    },
    {
     "name": "stderr",
     "output_type": "stream",
     "text": [
      "[2025-01-12 09:14:26,009][850594287.py][line:22][INFO] Transcription of file Ses01M_impro01_F000.wav has been formatted\n",
      "[2025-01-12 09:14:26,012][850594287.py][line:23][INFO] ORIGINAL: Next.\n",
      "P...\n",
      "\n",
      "[2025-01-12 09:14:26,015][850594287.py][line:24][INFO] FORMATTED: NEXT P \n"
     ]
    },
    {
     "name": "stdout",
     "output_type": "stream",
     "text": [
      "File 371 of 528\r"
     ]
    },
    {
     "name": "stderr",
     "output_type": "stream",
     "text": [
      "[2025-01-12 09:14:26,972][850594287.py][line:22][INFO] Transcription of file Ses01M_impro01_F001.wav has been formatted\n",
      "[2025-01-12 09:14:26,974][850594287.py][line:23][INFO] ORIGINAL: Yes. My window's open. Okay, here we go. Peep peep peep peep peep peep\n",
      "\n",
      "[2025-01-12 09:14:26,975][850594287.py][line:24][INFO] FORMATTED: YES MY WINDOW'S OPEN OKAY  HERE WE GO PEEP PEEP PEEP PEEP PEEP PEEP \n"
     ]
    },
    {
     "name": "stdout",
     "output_type": "stream",
     "text": [
      "File 372 of 528\r"
     ]
    },
    {
     "name": "stderr",
     "output_type": "stream",
     "text": [
      "[2025-01-12 09:14:27,944][850594287.py][line:22][INFO] Transcription of file Ses01M_impro01_F007.wav has been formatted\n",
      "[2025-01-12 09:14:27,946][850594287.py][line:23][INFO] ORIGINAL: No, I need your ID to give you a second ID.\n",
      "Ppp\n",
      "\n",
      "[2025-01-12 09:14:27,946][850594287.py][line:24][INFO] FORMATTED: NO  I NEED YOUR ID TO GIVE YOU A SECOND ID PPP \n"
     ]
    },
    {
     "name": "stdout",
     "output_type": "stream",
     "text": [
      "File 373 of 528\r"
     ]
    },
    {
     "name": "stderr",
     "output_type": "stream",
     "text": [
      "[2025-01-12 09:14:28,897][850594287.py][line:22][INFO] Transcription of file Ses01M_impro01_F008.wav has been formatted\n",
      "[2025-01-12 09:14:28,899][850594287.py][line:23][INFO] ORIGINAL: It's really simple. If you have a problem with it, maybe you should...\n",
      "\n",
      "[2025-01-12 09:14:28,900][850594287.py][line:24][INFO] FORMATTED: IT'S REALLY SIMPLE IF YOU HAVE A PROBLEM WITH IT  MAYBE YOU SHOULD \n"
     ]
    },
    {
     "name": "stdout",
     "output_type": "stream",
     "text": [
      "File 374 of 528\r"
     ]
    },
    {
     "name": "stderr",
     "output_type": "stream",
     "text": [
      "[2025-01-12 09:14:29,780][850594287.py][line:22][INFO] Transcription of file Ses01M_impro01_F011.wav has been formatted\n",
      "[2025-01-12 09:14:29,781][850594287.py][line:23][INFO] ORIGINAL: somewhere. What do you expect me to do?\n",
      "\n",
      "[2025-01-12 09:14:29,782][850594287.py][line:24][INFO] FORMATTED: SOMEWHERE WHAT DO YOU EXPECT ME TO DO  \n",
      "[2025-01-12 09:14:29,783][2649188033.py][line:47][INFO] ------ Gemini API Usage Metrics ------\n",
      "[2025-01-12 09:14:29,784][2649188033.py][line:48][INFO] [Files Processed] 375 of 528\n",
      "[2025-01-12 09:14:29,785][2649188033.py][line:49][INFO] [Total Tokens] 239109\n",
      "[2025-01-12 09:14:29,786][2649188033.py][line:50][INFO] --------------------------------------\n"
     ]
    },
    {
     "name": "stdout",
     "output_type": "stream",
     "text": [
      "File 375 of 528\r"
     ]
    },
    {
     "name": "stderr",
     "output_type": "stream",
     "text": [
      "[2025-01-12 09:14:35,432][850594287.py][line:22][INFO] Transcription of file Ses01M_impro01_F012.wav has been formatted\n",
      "[2025-01-12 09:14:35,432][850594287.py][line:23][INFO] ORIGINAL: Probably.\n",
      "\n",
      "[2025-01-12 09:14:35,433][850594287.py][line:24][INFO] FORMATTED: PROBABLY \n"
     ]
    },
    {
     "name": "stdout",
     "output_type": "stream",
     "text": [
      "File 376 of 528\r"
     ]
    },
    {
     "name": "stderr",
     "output_type": "stream",
     "text": [
      "[2025-01-12 09:14:36,392][850594287.py][line:22][INFO] Transcription of file Ses01M_impro01_F019.wav has been formatted\n",
      "[2025-01-12 09:14:36,393][850594287.py][line:23][INFO] ORIGINAL: Don't raise your voice at me!\n",
      "\n",
      "[2025-01-12 09:14:36,394][850594287.py][line:24][INFO] FORMATTED: DON'T RAISE YOUR VOICE AT ME  \n"
     ]
    },
    {
     "name": "stdout",
     "output_type": "stream",
     "text": [
      "File 377 of 528\r"
     ]
    },
    {
     "name": "stderr",
     "output_type": "stream",
     "text": [
      "[2025-01-12 09:14:37,278][850594287.py][line:22][INFO] Transcription of file Ses01M_impro01_F020.wav has been formatted\n",
      "[2025-01-12 09:14:37,280][850594287.py][line:23][INFO] ORIGINAL: Don't talk to me like I'm a child.\n",
      "\n",
      "[2025-01-12 09:14:37,280][850594287.py][line:24][INFO] FORMATTED: DON'T TALK TO ME LIKE I'M A CHILD \n"
     ]
    },
    {
     "name": "stdout",
     "output_type": "stream",
     "text": [
      "File 378 of 528\r"
     ]
    },
    {
     "name": "stderr",
     "output_type": "stream",
     "text": [
      "[2025-01-12 09:14:38,295][850594287.py][line:22][INFO] Transcription of file Ses01M_impro01_F021.wav has been formatted\n",
      "[2025-01-12 09:14:38,296][850594287.py][line:23][INFO] ORIGINAL: Do you know how long I've been working here?  How long have you lived in California?\n",
      "\n",
      "[2025-01-12 09:14:38,297][850594287.py][line:24][INFO] FORMATTED: DO YOU KNOW HOW LONG I'VE BEEN WORKING HERE   HOW LONG HAVE YOU LIVED IN CALIFORNIA  \n"
     ]
    },
    {
     "name": "stdout",
     "output_type": "stream",
     "text": [
      "File 379 of 528\r"
     ]
    },
    {
     "name": "stderr",
     "output_type": "stream",
     "text": [
      "[2025-01-12 09:14:39,499][850594287.py][line:22][INFO] Transcription of file Ses01M_impro01_F022.wav has been formatted\n",
      "[2025-01-12 09:14:39,501][850594287.py][line:23][INFO] ORIGINAL: Maybe you've never been to the DMV before. Maybe you should get back in line. You know what? Sit in line again. And if you get my number, ask for a different one.\n",
      "\n",
      "[2025-01-12 09:14:39,502][850594287.py][line:24][INFO] FORMATTED: MAYBE YOU'VE NEVER BEEN TO THE DMV BEFORE MAYBE YOU SHOULD GET BACK IN LINE YOU KNOW WHAT  SIT IN LINE AGAIN AND IF YOU GET MY NUMBER  ASK FOR A DIFFERENT ONE \n"
     ]
    },
    {
     "name": "stdout",
     "output_type": "stream",
     "text": [
      "File 380 of 528\r"
     ]
    },
    {
     "name": "stderr",
     "output_type": "stream",
     "text": [
      "[2025-01-12 09:14:40,478][850594287.py][line:22][INFO] Transcription of file Ses01M_impro01_F024.wav has been formatted\n",
      "[2025-01-12 09:14:40,479][850594287.py][line:23][INFO] ORIGINAL: Uh-huh. I didn't come here to get in a yelling match either.\n",
      "\n",
      "[2025-01-12 09:14:40,480][850594287.py][line:24][INFO] FORMATTED: UH HUH I DIDN'T COME HERE TO GET IN A YELLING MATCH EITHER \n"
     ]
    },
    {
     "name": "stdout",
     "output_type": "stream",
     "text": [
      "File 381 of 528\r"
     ]
    },
    {
     "name": "stderr",
     "output_type": "stream",
     "text": [
      "[2025-01-12 09:14:41,411][850594287.py][line:22][INFO] Transcription of file Ses01M_impro01_F025.wav has been formatted\n",
      "[2025-01-12 09:14:41,412][850594287.py][line:23][INFO] ORIGINAL: They don't pay me enough to deal with people like you.\n",
      "\n",
      "[2025-01-12 09:14:41,413][850594287.py][line:24][INFO] FORMATTED: THEY DON'T PAY ME ENOUGH TO DEAL WITH PEOPLE LIKE YOU \n"
     ]
    },
    {
     "name": "stdout",
     "output_type": "stream",
     "text": [
      "File 382 of 528\r"
     ]
    },
    {
     "name": "stderr",
     "output_type": "stream",
     "text": [
      "[2025-01-12 09:14:42,238][850594287.py][line:22][INFO] Transcription of file Ses01M_script03_1_F003.wav has been formatted\n",
      "[2025-01-12 09:14:42,240][850594287.py][line:23][INFO] ORIGINAL: No one is always sweet.\n",
      "\n",
      "[2025-01-12 09:14:42,242][850594287.py][line:24][INFO] FORMATTED: NO ONE IS ALWAYS SWEET \n"
     ]
    },
    {
     "name": "stdout",
     "output_type": "stream",
     "text": [
      "File 383 of 528\r"
     ]
    },
    {
     "name": "stderr",
     "output_type": "stream",
     "text": [
      "[2025-01-12 09:14:43,099][850594287.py][line:22][INFO] Transcription of file Ses01M_script03_1_F004.wav has been formatted\n",
      "[2025-01-12 09:14:43,099][850594287.py][line:23][INFO] ORIGINAL: It had to happen sooner or later. Yes.\n",
      "\n",
      "[2025-01-12 09:14:43,100][850594287.py][line:24][INFO] FORMATTED: IT HAD TO HAPPEN SOONER OR LATER YES \n"
     ]
    },
    {
     "name": "stdout",
     "output_type": "stream",
     "text": [
      "File 384 of 528\r"
     ]
    },
    {
     "name": "stderr",
     "output_type": "stream",
     "text": [
      "[2025-01-12 09:14:43,788][850594287.py][line:22][INFO] Transcription of file Ses01M_script03_1_F007.wav has been formatted\n",
      "[2025-01-12 09:14:43,790][850594287.py][line:23][INFO] ORIGINAL: Whatcha doing?\n",
      "\n",
      "[2025-01-12 09:14:43,791][850594287.py][line:24][INFO] FORMATTED: WHATCHA DOING  \n"
     ]
    },
    {
     "name": "stdout",
     "output_type": "stream",
     "text": [
      "File 385 of 528\r"
     ]
    },
    {
     "name": "stderr",
     "output_type": "stream",
     "text": [
      "[2025-01-12 09:14:44,637][850594287.py][line:22][INFO] Transcription of file Ses01M_script03_1_F008.wav has been formatted\n",
      "[2025-01-12 09:14:44,639][850594287.py][line:23][INFO] ORIGINAL: We'll behave exquisitely.\n",
      "\n",
      "[2025-01-12 09:14:44,640][850594287.py][line:24][INFO] FORMATTED: WE'LL BEHAVE EXQUISITELY \n"
     ]
    },
    {
     "name": "stdout",
     "output_type": "stream",
     "text": [
      "File 386 of 528\r"
     ]
    },
    {
     "name": "stderr",
     "output_type": "stream",
     "text": [
      "[2025-01-12 09:14:45,546][850594287.py][line:22][INFO] Transcription of file Ses01M_script03_1_F009.wav has been formatted\n",
      "[2025-01-12 09:14:45,547][850594287.py][line:23][INFO] ORIGINAL: Boys, I think I shall do a court curtsy.\n",
      "\n",
      "[2025-01-12 09:14:45,548][850594287.py][line:24][INFO] FORMATTED: BOYS  I THINK I SHALL DO A COURT CURTSY \n"
     ]
    },
    {
     "name": "stdout",
     "output_type": "stream",
     "text": [
      "File 387 of 528\r"
     ]
    },
    {
     "name": "stderr",
     "output_type": "stream",
     "text": [
      "[2025-01-12 09:14:46,171][850594287.py][line:22][INFO] Transcription of file Ses01M_script03_1_F010.wav has been formatted\n",
      "[2025-01-12 09:14:46,172][850594287.py][line:23][INFO] ORIGINAL:  \n",
      "\n",
      "[2025-01-12 09:14:46,173][850594287.py][line:24][INFO] FORMATTED:  \n"
     ]
    },
    {
     "name": "stdout",
     "output_type": "stream",
     "text": [
      "File 388 of 528\r"
     ]
    },
    {
     "name": "stderr",
     "output_type": "stream",
     "text": [
      "[2025-01-12 09:14:46,814][850594287.py][line:22][INFO] Transcription of file Ses01M_script03_1_F011.wav has been formatted\n",
      "[2025-01-12 09:14:46,815][850594287.py][line:23][INFO] ORIGINAL:  \n",
      "\n",
      "[2025-01-12 09:14:46,817][850594287.py][line:24][INFO] FORMATTED:  \n"
     ]
    },
    {
     "name": "stdout",
     "output_type": "stream",
     "text": [
      "File 389 of 528\r"
     ]
    },
    {
     "name": "stderr",
     "output_type": "stream",
     "text": [
      "[2025-01-12 09:14:47,681][850594287.py][line:22][INFO] Transcription of file Ses01M_script03_1_F014.wav has been formatted\n",
      "[2025-01-12 09:14:47,682][850594287.py][line:23][INFO] ORIGINAL: Yes, meaning just that.\n",
      "\n",
      "[2025-01-12 09:14:47,683][850594287.py][line:24][INFO] FORMATTED: YES  MEANING JUST THAT \n"
     ]
    },
    {
     "name": "stdout",
     "output_type": "stream",
     "text": [
      "File 390 of 528\r"
     ]
    },
    {
     "name": "stderr",
     "output_type": "stream",
     "text": [
      "[2025-01-12 09:14:48,626][850594287.py][line:22][INFO] Transcription of file Ses01M_script03_1_F015.wav has been formatted\n",
      "[2025-01-12 09:14:48,628][850594287.py][line:23][INFO] ORIGINAL: Don't laugh at me. I'm being serious.\n",
      "\n",
      "[2025-01-12 09:14:48,630][850594287.py][line:24][INFO] FORMATTED: DON'T LAUGH AT ME I'M BEING SERIOUS \n"
     ]
    },
    {
     "name": "stdout",
     "output_type": "stream",
     "text": [
      "File 391 of 528\r"
     ]
    },
    {
     "name": "stderr",
     "output_type": "stream",
     "text": [
      "[2025-01-12 09:14:49,577][850594287.py][line:22][INFO] Transcription of file Ses01M_script03_1_F017.wav has been formatted\n",
      "[2025-01-12 09:14:49,578][850594287.py][line:23][INFO] ORIGINAL: Mm. If I must laugh at everything, I must laugh at us too.\n",
      "\n",
      "[2025-01-12 09:14:49,579][850594287.py][line:24][INFO] FORMATTED: MM IF I MUST LAUGH AT EVERYTHING  I MUST LAUGH AT US TOO \n"
     ]
    },
    {
     "name": "stdout",
     "output_type": "stream",
     "text": [
      "File 392 of 528\r"
     ]
    },
    {
     "name": "stderr",
     "output_type": "stream",
     "text": [
      "[2025-01-12 09:14:50,544][850594287.py][line:22][INFO] Transcription of file Ses01M_script03_1_F018.wav has been formatted\n",
      "[2025-01-12 09:14:50,546][850594287.py][line:23][INFO] ORIGINAL: How long will it last? This ludicrous, overbearing love of ours?\n",
      "\n",
      "[2025-01-12 09:14:50,548][850594287.py][line:24][INFO] FORMATTED: HOW LONG WILL IT LAST  THIS LUDICROUS  OVERBEARING LOVE OF OURS  \n"
     ]
    },
    {
     "name": "stdout",
     "output_type": "stream",
     "text": [
      "File 393 of 528\r"
     ]
    },
    {
     "name": "stderr",
     "output_type": "stream",
     "text": [
      "[2025-01-12 09:14:51,435][850594287.py][line:22][INFO] Transcription of file Ses01M_script03_1_F019.wav has been formatted\n",
      "[2025-01-12 09:14:51,436][850594287.py][line:23][INFO] ORIGINAL: They always want to bicker and fight.\n",
      "\n",
      "[2025-01-12 09:14:51,436][850594287.py][line:24][INFO] FORMATTED: THEY ALWAYS WANT TO BICKER AND FIGHT \n"
     ]
    },
    {
     "name": "stdout",
     "output_type": "stream",
     "text": [
      "File 394 of 528\r"
     ]
    },
    {
     "name": "stderr",
     "output_type": "stream",
     "text": [
      "[2025-01-12 09:14:52,360][850594287.py][line:22][INFO] Transcription of file Ses01M_script03_1_F021.wav has been formatted\n",
      "[2025-01-12 09:14:52,362][850594287.py][line:23][INFO] ORIGINAL: If one of us dies,\n",
      "P\n",
      "\n",
      "[2025-01-12 09:14:52,363][850594287.py][line:24][INFO] FORMATTED: IF ONE OF US DIES  P \n"
     ]
    },
    {
     "name": "stdout",
     "output_type": "stream",
     "text": [
      "File 395 of 528\r"
     ]
    },
    {
     "name": "stderr",
     "output_type": "stream",
     "text": [
      "[2025-01-12 09:14:53,259][850594287.py][line:22][INFO] Transcription of file Ses01M_script03_1_F024.wav has been formatted\n",
      "[2025-01-12 09:14:53,261][850594287.py][line:23][INFO] ORIGINAL: I think you're talking nonsense.  Uh so...\n",
      "\n",
      "[2025-01-12 09:14:53,261][850594287.py][line:24][INFO] FORMATTED: I THINK YOU'RE TALKING NONSENSE  UH SO \n"
     ]
    },
    {
     "name": "stdout",
     "output_type": "stream",
     "text": [
      "File 396 of 528\r"
     ]
    },
    {
     "name": "stderr",
     "output_type": "stream",
     "text": [
      "[2025-01-12 09:14:54,112][850594287.py][line:22][INFO] Transcription of file Ses01M_script03_1_F030.wav has been formatted\n",
      "[2025-01-12 09:14:54,112][850594287.py][line:23][INFO] ORIGINAL: Which particular one?\n",
      "\n",
      "[2025-01-12 09:14:54,113][850594287.py][line:24][INFO] FORMATTED: WHICH PARTICULAR ONE  \n"
     ]
    },
    {
     "name": "stdout",
     "output_type": "stream",
     "text": [
      "File 397 of 528\r"
     ]
    },
    {
     "name": "stderr",
     "output_type": "stream",
     "text": [
      "[2025-01-12 09:14:55,121][850594287.py][line:22][INFO] Transcription of file Ses01M_script03_1_F031.wav has been formatted\n",
      "[2025-01-12 09:14:55,122][850594287.py][line:23][INFO] ORIGINAL: Oh, Charles! Ooh, that was his name, Charles. He just wriggles so beautifully.\n",
      "\n",
      "[2025-01-12 09:14:55,124][850594287.py][line:24][INFO] FORMATTED: OH  CHARLES  OOH  THAT WAS HIS NAME  CHARLES HE JUST WRIGGLES SO BEAUTIFULLY \n"
     ]
    },
    {
     "name": "stdout",
     "output_type": "stream",
     "text": [
      "File 398 of 528\r"
     ]
    },
    {
     "name": "stderr",
     "output_type": "stream",
     "text": [
      "[2025-01-12 09:14:56,019][850594287.py][line:22][INFO] Transcription of file Ses01M_script03_1_F034.wav has been formatted\n",
      "[2025-01-12 09:14:56,020][850594287.py][line:23][INFO] ORIGINAL: Pens.  Pure P's.\n",
      "\n",
      "[2025-01-12 09:14:56,021][850594287.py][line:24][INFO] FORMATTED: PENS  PURE P'S \n"
     ]
    },
    {
     "name": "stdout",
     "output_type": "stream",
     "text": [
      "File 399 of 528\r"
     ]
    },
    {
     "name": "stderr",
     "output_type": "stream",
     "text": [
      "[2025-01-12 09:14:56,968][850594287.py][line:22][INFO] Transcription of file Ses01M_script03_1_F036.wav has been formatted\n",
      "[2025-01-12 09:14:56,970][850594287.py][line:23][INFO] ORIGINAL: The ... the manager came in. He found us rolling about the floor.\n",
      "\n",
      "[2025-01-12 09:14:56,972][850594287.py][line:24][INFO] FORMATTED: THE  THE MANAGER CAME IN HE FOUND US ROLLING ABOUT THE FLOOR \n",
      "[2025-01-12 09:14:56,973][2649188033.py][line:47][INFO] ------ Gemini API Usage Metrics ------\n",
      "[2025-01-12 09:14:56,973][2649188033.py][line:48][INFO] [Files Processed] 400 of 528\n",
      "[2025-01-12 09:14:56,974][2649188033.py][line:49][INFO] [Total Tokens] 243301\n",
      "[2025-01-12 09:14:56,975][2649188033.py][line:50][INFO] --------------------------------------\n"
     ]
    },
    {
     "name": "stdout",
     "output_type": "stream",
     "text": [
      "File 400 of 528\r"
     ]
    },
    {
     "name": "stderr",
     "output_type": "stream",
     "text": [
      "[2025-01-12 09:15:02,866][850594287.py][line:22][INFO] Transcription of file Ses01M_script03_1_F037.wav has been formatted\n",
      "[2025-01-12 09:15:02,866][850594287.py][line:23][INFO] ORIGINAL: Scratching and fighting like panthers!\n",
      "\n",
      "[2025-01-12 09:15:02,867][850594287.py][line:24][INFO] FORMATTED: SCRATCHING AND FIGHTING LIKE PANTHERS  \n"
     ]
    },
    {
     "name": "stdout",
     "output_type": "stream",
     "text": [
      "File 401 of 528\r"
     ]
    },
    {
     "name": "stderr",
     "output_type": "stream",
     "text": [
      "[2025-01-12 09:15:03,829][850594287.py][line:22][INFO] Transcription of file Ses01M_script03_1_F038.wav has been formatted\n",
      "[2025-01-12 09:15:03,831][850594287.py][line:23][INFO] ORIGINAL: Oh, utterly, utterly ridiculous.\n",
      "\n",
      "[2025-01-12 09:15:03,834][850594287.py][line:24][INFO] FORMATTED: OH  UTTERLY  UTTERLY RIDICULOUS \n"
     ]
    },
    {
     "name": "stdout",
     "output_type": "stream",
     "text": [
      "File 402 of 528\r"
     ]
    },
    {
     "name": "stderr",
     "output_type": "stream",
     "text": [
      "[2025-01-12 09:15:04,663][850594287.py][line:22][INFO] Transcription of file Ses01M_script03_1_F039.wav has been formatted\n",
      "[2025-01-12 09:15:04,664][850594287.py][line:23][INFO] ORIGINAL: Uh\n",
      "\n",
      "[2025-01-12 09:15:04,665][850594287.py][line:24][INFO] FORMATTED: UH \n"
     ]
    },
    {
     "name": "stdout",
     "output_type": "stream",
     "text": [
      "File 403 of 528\r"
     ]
    },
    {
     "name": "stderr",
     "output_type": "stream",
     "text": [
      "[2025-01-12 09:15:05,545][850594287.py][line:22][INFO] Transcription of file Ses01M_script03_1_F040.wav has been formatted\n",
      "[2025-01-12 09:15:05,547][850594287.py][line:23][INFO] ORIGINAL: Very much sillier.\n",
      "\n",
      "[2025-01-12 09:15:05,548][850594287.py][line:24][INFO] FORMATTED: VERY MUCH SILLIER \n"
     ]
    },
    {
     "name": "stdout",
     "output_type": "stream",
     "text": [
      "File 404 of 528\r"
     ]
    },
    {
     "name": "stderr",
     "output_type": "stream",
     "text": [
      "[2025-01-12 09:15:06,428][850594287.py][line:22][INFO] Transcription of file Ses01M_script03_1_F041.wav has been formatted\n",
      "[2025-01-12 09:15:06,429][850594287.py][line:23][INFO] ORIGINAL: Oh, you knew there was nothing in that.\n",
      "\n",
      "[2025-01-12 09:15:06,429][850594287.py][line:24][INFO] FORMATTED: OH  YOU KNEW THERE WAS NOTHING IN THAT \n"
     ]
    },
    {
     "name": "stdout",
     "output_type": "stream",
     "text": [
      "File 405 of 528\r"
     ]
    },
    {
     "name": "stderr",
     "output_type": "stream",
     "text": [
      "[2025-01-12 09:15:07,326][850594287.py][line:22][INFO] Transcription of file Ses01F_script01_1_F005.wav has been formatted\n",
      "[2025-01-12 09:15:07,326][850594287.py][line:23][INFO] ORIGINAL: Just dreaming of him again. Walking around.\n",
      "\n",
      "[2025-01-12 09:15:07,327][850594287.py][line:24][INFO] FORMATTED: JUST DREAMING OF HIM AGAIN WALKING AROUND \n"
     ]
    },
    {
     "name": "stdout",
     "output_type": "stream",
     "text": [
      "File 406 of 528\r"
     ]
    },
    {
     "name": "stderr",
     "output_type": "stream",
     "text": [
      "[2025-01-12 09:15:08,280][850594287.py][line:22][INFO] Transcription of file Ses01F_script01_1_F015.wav has been formatted\n",
      "[2025-01-12 09:15:08,281][850594287.py][line:23][INFO] ORIGINAL: Well, I got an idea, but what's your story?\n",
      "\n",
      "[2025-01-12 09:15:08,281][850594287.py][line:24][INFO] FORMATTED: WELL  I GOT AN IDEA  BUT WHAT'S YOUR STORY  \n"
     ]
    },
    {
     "name": "stdout",
     "output_type": "stream",
     "text": [
      "File 407 of 528\r"
     ]
    },
    {
     "name": "stderr",
     "output_type": "stream",
     "text": [
      "[2025-01-12 09:15:09,143][850594287.py][line:22][INFO] Transcription of file Ses01F_script01_1_F034.wav has been formatted\n",
      "[2025-01-12 09:15:09,144][850594287.py][line:23][INFO] ORIGINAL: Just give it some more thought.\n",
      "\n",
      "[2025-01-12 09:15:09,144][850594287.py][line:24][INFO] FORMATTED: JUST GIVE IT SOME MORE THOUGHT \n"
     ]
    },
    {
     "name": "stdout",
     "output_type": "stream",
     "text": [
      "File 408 of 528\r"
     ]
    },
    {
     "name": "stderr",
     "output_type": "stream",
     "text": [
      "[2025-01-12 09:15:10,016][850594287.py][line:22][INFO] Transcription of file Ses01F_script01_1_F035.wav has been formatted\n",
      "[2025-01-12 09:15:10,019][850594287.py][line:23][INFO] ORIGINAL: What the hell is this?\n",
      "\n",
      "[2025-01-12 09:15:10,022][850594287.py][line:24][INFO] FORMATTED: WHAT THE HELL IS THIS  \n"
     ]
    },
    {
     "name": "stdout",
     "output_type": "stream",
     "text": [
      "File 409 of 528\r"
     ]
    },
    {
     "name": "stderr",
     "output_type": "stream",
     "text": [
      "[2025-01-12 09:15:10,923][850594287.py][line:22][INFO] Transcription of file Ses01F_script01_1_F037.wav has been formatted\n",
      "[2025-01-12 09:15:10,925][850594287.py][line:23][INFO] ORIGINAL: You have a business here. What the hell is this?  The business…\n",
      "\n",
      "[2025-01-12 09:15:10,926][850594287.py][line:24][INFO] FORMATTED: YOU HAVE A BUSINESS HERE WHAT THE HELL IS THIS   THE BUSINESS \n"
     ]
    },
    {
     "name": "stdout",
     "output_type": "stream",
     "text": [
      "File 410 of 528\r"
     ]
    },
    {
     "name": "stderr",
     "output_type": "stream",
     "text": [
      "[2025-01-12 09:15:11,849][850594287.py][line:22][INFO] Transcription of file Ses01F_script01_1_F038.wav has been formatted\n",
      "[2025-01-12 09:15:11,851][850594287.py][line:23][INFO] ORIGINAL: inspired. Oh, must you be inspired? Yes. P-\n",
      "\n",
      "[2025-01-12 09:15:11,852][850594287.py][line:24][INFO] FORMATTED: INSPIRED OH  MUST YOU BE INSPIRED  YES P  \n"
     ]
    },
    {
     "name": "stdout",
     "output_type": "stream",
     "text": [
      "File 411 of 528\r"
     ]
    },
    {
     "name": "stderr",
     "output_type": "stream",
     "text": [
      "[2025-01-12 09:15:13,012][850594287.py][line:22][INFO] Transcription of file Ses01F_script01_1_F041.wav has been formatted\n",
      "[2025-01-12 09:15:13,013][850594287.py][line:23][INFO] ORIGINAL: All right, but you don't wanna think like that. Because what the what the hell are we working for, Chris? It's all for you. This whole shooting matches for you. I know that.\n",
      "\n",
      "[2025-01-12 09:15:13,014][850594287.py][line:24][INFO] FORMATTED: ALL RIGHT  BUT YOU DON'T WANNA THINK LIKE THAT BECAUSE WHAT THE WHAT THE HELL ARE WE WORKING FOR  CHRIS  IT'S ALL FOR YOU THIS WHOLE SHOOTING MATCHES FOR YOU I KNOW THAT \n"
     ]
    },
    {
     "name": "stdout",
     "output_type": "stream",
     "text": [
      "File 412 of 528\r"
     ]
    },
    {
     "name": "stderr",
     "output_type": "stream",
     "text": [
      "[2025-01-12 09:15:13,906][850594287.py][line:22][INFO] Transcription of file Ses01F_script01_1_F042.wav has been formatted\n",
      "[2025-01-12 09:15:13,907][850594287.py][line:23][INFO] ORIGINAL: Just don't think like that.\n",
      "\n",
      "[2025-01-12 09:15:13,908][850594287.py][line:24][INFO] FORMATTED: JUST DON'T THINK LIKE THAT \n"
     ]
    },
    {
     "name": "stdout",
     "output_type": "stream",
     "text": [
      "File 413 of 528\r"
     ]
    },
    {
     "name": "stderr",
     "output_type": "stream",
     "text": [
      "[2025-01-12 09:15:14,925][850594287.py][line:22][INFO] Transcription of file Ses01M_script02_1_F005.wav has been formatted\n",
      "[2025-01-12 09:15:14,927][850594287.py][line:23][INFO] ORIGINAL: You keep saying my flashlight like somehow it's just yours. How's that supposed to make me feel?\n",
      " Beep beep\n",
      "\n",
      "[2025-01-12 09:15:14,928][850594287.py][line:24][INFO] FORMATTED: YOU KEEP SAYING MY FLASHLIGHT LIKE SOMEHOW IT'S JUST YOURS HOW'S THAT SUPPOSED TO MAKE ME FEEL   BEEP BEEP \n"
     ]
    },
    {
     "name": "stdout",
     "output_type": "stream",
     "text": [
      "File 414 of 528\r"
     ]
    },
    {
     "name": "stderr",
     "output_type": "stream",
     "text": [
      "[2025-01-12 09:15:15,665][850594287.py][line:22][INFO] Transcription of file Ses01M_script02_1_F007.wav has been formatted\n",
      "[2025-01-12 09:15:15,666][850594287.py][line:23][INFO] ORIGINAL: Okay. Uh, what's that?  [Sound of buzzing/static]\n",
      "\n",
      "[2025-01-12 09:15:15,668][850594287.py][line:24][INFO] FORMATTED: OKAY UH  WHAT'S THAT    SOUND OF BUZZING STATIC  \n"
     ]
    },
    {
     "name": "stdout",
     "output_type": "stream",
     "text": [
      "File 415 of 528\r"
     ]
    },
    {
     "name": "stderr",
     "output_type": "stream",
     "text": [
      "[2025-01-12 09:15:16,341][850594287.py][line:22][INFO] Transcription of file Ses01M_script02_1_F008.wav has been formatted\n",
      "[2025-01-12 09:15:16,342][850594287.py][line:23][INFO] ORIGINAL: einfach\n",
      "\n",
      "[2025-01-12 09:15:16,344][850594287.py][line:24][INFO] FORMATTED: EINFACH \n"
     ]
    },
    {
     "name": "stdout",
     "output_type": "stream",
     "text": [
      "File 416 of 528\r"
     ]
    },
    {
     "name": "stderr",
     "output_type": "stream",
     "text": [
      "[2025-01-12 09:15:17,207][850594287.py][line:22][INFO] Transcription of file Ses01M_script02_1_F009.wav has been formatted\n",
      "[2025-01-12 09:15:17,208][850594287.py][line:23][INFO] ORIGINAL: I wonder if they can hear me talk.\n",
      "\n",
      "[2025-01-12 09:15:17,209][850594287.py][line:24][INFO] FORMATTED: I WONDER IF THEY CAN HEAR ME TALK \n"
     ]
    },
    {
     "name": "stdout",
     "output_type": "stream",
     "text": [
      "File 417 of 528\r"
     ]
    },
    {
     "name": "stderr",
     "output_type": "stream",
     "text": [
      "[2025-01-12 09:15:18,071][850594287.py][line:22][INFO] Transcription of file Ses01M_script02_1_F014.wav has been formatted\n",
      "[2025-01-12 09:15:18,071][850594287.py][line:23][INFO] ORIGINAL: Then let's go.\n",
      "\n",
      "[2025-01-12 09:15:18,072][850594287.py][line:24][INFO] FORMATTED: THEN LET'S GO \n"
     ]
    },
    {
     "name": "stdout",
     "output_type": "stream",
     "text": [
      "File 418 of 528\r"
     ]
    },
    {
     "name": "stderr",
     "output_type": "stream",
     "text": [
      "[2025-01-12 09:15:19,121][850594287.py][line:22][INFO] Transcription of file Ses01M_script02_1_F017.wav has been formatted\n",
      "[2025-01-12 09:15:19,122][850594287.py][line:23][INFO] ORIGINAL: But what up? These little fish swim out of the ocean, they flop around on the sand, then they swim back and then they die.\n",
      "\n",
      "[2025-01-12 09:15:19,123][850594287.py][line:24][INFO] FORMATTED: BUT WHAT UP  THESE LITTLE FISH SWIM OUT OF THE OCEAN  THEY FLOP AROUND ON THE SAND  THEN THEY SWIM BACK AND THEN THEY DIE \n"
     ]
    },
    {
     "name": "stdout",
     "output_type": "stream",
     "text": [
      "File 419 of 528\r"
     ]
    },
    {
     "name": "stderr",
     "output_type": "stream",
     "text": [
      "[2025-01-12 09:15:19,773][850594287.py][line:22][INFO] Transcription of file Ses01M_script02_1_F021.wav has been formatted\n",
      "[2025-01-12 09:15:19,774][850594287.py][line:23][INFO] ORIGINAL: Yes.  P\n",
      "\n",
      "[2025-01-12 09:15:19,775][850594287.py][line:24][INFO] FORMATTED: YES  P \n"
     ]
    },
    {
     "name": "stdout",
     "output_type": "stream",
     "text": [
      "File 420 of 528\r"
     ]
    },
    {
     "name": "stderr",
     "output_type": "stream",
     "text": [
      "[2025-01-12 09:15:21,000][850594287.py][line:22][INFO] Transcription of file Ses01M_script02_1_F022.wav has been formatted\n",
      "[2025-01-12 09:15:21,002][850594287.py][line:23][INFO] ORIGINAL: Last year you'll also remember we got our shoes got wet. I got sand in my panties. You got a sore throat. We got into a big fight and we did not see the grunion.\n",
      "\n",
      "[2025-01-12 09:15:21,003][850594287.py][line:24][INFO] FORMATTED: LAST YEAR YOU'LL ALSO REMEMBER WE GOT OUR SHOES GOT WET I GOT SAND IN MY PANTIES YOU GOT A SORE THROAT WE GOT INTO A BIG FIGHT AND WE DID NOT SEE THE GRUNION \n"
     ]
    },
    {
     "name": "stdout",
     "output_type": "stream",
     "text": [
      "File 421 of 528\r"
     ]
    },
    {
     "name": "stderr",
     "output_type": "stream",
     "text": [
      "[2025-01-12 09:15:21,889][850594287.py][line:22][INFO] Transcription of file Ses01M_script02_1_F023.wav has been formatted\n",
      "[2025-01-12 09:15:21,892][850594287.py][line:23][INFO] ORIGINAL: We didn't see him the year before either.\n",
      "\n",
      "[2025-01-12 09:15:21,893][850594287.py][line:24][INFO] FORMATTED: WE DIDN'T SEE HIM THE YEAR BEFORE EITHER \n"
     ]
    },
    {
     "name": "stdout",
     "output_type": "stream",
     "text": [
      "File 422 of 528\r"
     ]
    },
    {
     "name": "stderr",
     "output_type": "stream",
     "text": [
      "[2025-01-12 09:15:22,694][850594287.py][line:22][INFO] Transcription of file Ses01F_script02_1_F000.wav has been formatted\n",
      "[2025-01-12 09:15:22,695][850594287.py][line:23][INFO] ORIGINAL: Fine.\n",
      "\n",
      "[2025-01-12 09:15:22,696][850594287.py][line:24][INFO] FORMATTED: FINE \n"
     ]
    },
    {
     "name": "stdout",
     "output_type": "stream",
     "text": [
      "File 423 of 528\r"
     ]
    },
    {
     "name": "stderr",
     "output_type": "stream",
     "text": [
      "[2025-01-12 09:15:23,564][850594287.py][line:22][INFO] Transcription of file Ses01F_script02_1_F004.wav has been formatted\n",
      "[2025-01-12 09:15:23,565][850594287.py][line:23][INFO] ORIGINAL: That's not your flashlight.\n",
      "\n",
      "[2025-01-12 09:15:23,566][850594287.py][line:24][INFO] FORMATTED: THAT'S NOT YOUR FLASHLIGHT \n"
     ]
    },
    {
     "name": "stdout",
     "output_type": "stream",
     "text": [
      "File 424 of 528\r"
     ]
    },
    {
     "name": "stderr",
     "output_type": "stream",
     "text": [
      "[2025-01-12 09:15:24,594][850594287.py][line:22][INFO] Transcription of file Ses01F_script02_1_F006.wav has been formatted\n",
      "[2025-01-12 09:15:24,597][850594287.py][line:23][INFO] ORIGINAL: You keep saying \"my flashlight\" like it's just yours. No,\n",
      "\n",
      "[2025-01-12 09:15:24,598][850594287.py][line:24][INFO] FORMATTED: YOU KEEP SAYING  MY FLASHLIGHT  LIKE IT'S JUST YOURS NO  \n",
      "[2025-01-12 09:15:24,598][2649188033.py][line:47][INFO] ------ Gemini API Usage Metrics ------\n",
      "[2025-01-12 09:15:24,600][2649188033.py][line:48][INFO] [Files Processed] 425 of 528\n",
      "[2025-01-12 09:15:24,601][2649188033.py][line:49][INFO] [Total Tokens] 247779\n",
      "[2025-01-12 09:15:24,602][2649188033.py][line:50][INFO] --------------------------------------\n"
     ]
    },
    {
     "name": "stdout",
     "output_type": "stream",
     "text": [
      "File 425 of 528\r"
     ]
    },
    {
     "name": "stderr",
     "output_type": "stream",
     "text": [
      "[2025-01-12 09:15:30,361][850594287.py][line:22][INFO] Transcription of file Ses01F_script02_1_F007.wav has been formatted\n",
      "[2025-01-12 09:15:30,362][850594287.py][line:23][INFO] ORIGINAL: How's that supposed to make me feel?  Of course.\n",
      "\n",
      "[2025-01-12 09:15:30,363][850594287.py][line:24][INFO] FORMATTED: HOW'S THAT SUPPOSED TO MAKE ME FEEL   OF COURSE \n"
     ]
    },
    {
     "name": "stdout",
     "output_type": "stream",
     "text": [
      "File 426 of 528\r"
     ]
    },
    {
     "name": "stderr",
     "output_type": "stream",
     "text": [
      "[2025-01-12 09:15:31,037][850594287.py][line:22][INFO] Transcription of file Ses01F_script02_1_F008.wav has been formatted\n",
      "[2025-01-12 09:15:31,039][850594287.py][line:23][INFO] ORIGINAL: Ja.\n",
      "Okay.\n",
      "P\n",
      "\n",
      "[2025-01-12 09:15:31,040][850594287.py][line:24][INFO] FORMATTED: JA OKAY P \n"
     ]
    },
    {
     "name": "stdout",
     "output_type": "stream",
     "text": [
      "File 427 of 528\r"
     ]
    },
    {
     "name": "stderr",
     "output_type": "stream",
     "text": [
      "[2025-01-12 09:15:31,712][850594287.py][line:22][INFO] Transcription of file Ses01F_script02_1_F009.wav has been formatted\n",
      "[2025-01-12 09:15:31,713][850594287.py][line:23][INFO] ORIGINAL:  \n",
      "\n",
      "[2025-01-12 09:15:31,714][850594287.py][line:24][INFO] FORMATTED:  \n"
     ]
    },
    {
     "name": "stdout",
     "output_type": "stream",
     "text": [
      "File 428 of 528\r"
     ]
    },
    {
     "name": "stderr",
     "output_type": "stream",
     "text": [
      "[2025-01-12 09:15:32,409][850594287.py][line:22][INFO] Transcription of file Ses01F_script02_1_F010.wav has been formatted\n",
      "[2025-01-12 09:15:32,409][850594287.py][line:23][INFO] ORIGINAL: I'm cold.\n",
      "\n",
      "[2025-01-12 09:15:32,410][850594287.py][line:24][INFO] FORMATTED: I'M COLD \n"
     ]
    },
    {
     "name": "stdout",
     "output_type": "stream",
     "text": [
      "File 429 of 528\r"
     ]
    },
    {
     "name": "stderr",
     "output_type": "stream",
     "text": [
      "[2025-01-12 09:15:33,255][850594287.py][line:22][INFO] Transcription of file Ses01F_script02_1_F015.wav has been formatted\n",
      "[2025-01-12 09:15:33,256][850594287.py][line:23][INFO] ORIGINAL: Not particularly.\n",
      "\n",
      "[2025-01-12 09:15:33,257][850594287.py][line:24][INFO] FORMATTED: NOT PARTICULARLY \n"
     ]
    },
    {
     "name": "stdout",
     "output_type": "stream",
     "text": [
      "File 430 of 528\r"
     ]
    },
    {
     "name": "stderr",
     "output_type": "stream",
     "text": [
      "[2025-01-12 09:15:34,115][850594287.py][line:22][INFO] Transcription of file Ses01F_script02_1_F024.wav has been formatted\n",
      "[2025-01-12 09:15:34,116][850594287.py][line:23][INFO] ORIGINAL: It's the wind.\n",
      "\n",
      "[2025-01-12 09:15:34,119][850594287.py][line:24][INFO] FORMATTED: IT'S THE WIND \n"
     ]
    },
    {
     "name": "stdout",
     "output_type": "stream",
     "text": [
      "File 431 of 528\r"
     ]
    },
    {
     "name": "stderr",
     "output_type": "stream",
     "text": [
      "[2025-01-12 09:15:34,940][850594287.py][line:22][INFO] Transcription of file Ses01F_script02_1_F025.wav has been formatted\n",
      "[2025-01-12 09:15:34,941][850594287.py][line:23][INFO] ORIGINAL: About what?\n",
      "\n",
      "[2025-01-12 09:15:34,942][850594287.py][line:24][INFO] FORMATTED: ABOUT WHAT  \n"
     ]
    },
    {
     "name": "stdout",
     "output_type": "stream",
     "text": [
      "File 432 of 528\r"
     ]
    },
    {
     "name": "stderr",
     "output_type": "stream",
     "text": [
      "[2025-01-12 09:15:35,570][850594287.py][line:22][INFO] Transcription of file Ses01M_impro07_F000.wav has been formatted\n",
      "[2025-01-12 09:15:35,571][850594287.py][line:23][INFO] ORIGINAL: Ja.\n",
      "\n",
      "[2025-01-12 09:15:35,572][850594287.py][line:24][INFO] FORMATTED: JA \n"
     ]
    },
    {
     "name": "stdout",
     "output_type": "stream",
     "text": [
      "File 433 of 528\r"
     ]
    },
    {
     "name": "stderr",
     "output_type": "stream",
     "text": [
      "[2025-01-12 09:15:36,573][850594287.py][line:22][INFO] Transcription of file Ses01M_impro07_F001.wav has been formatted\n",
      "[2025-01-12 09:15:36,573][850594287.py][line:23][INFO] ORIGINAL: For softball? For softball? That's unbelievable! Is it slow pitch?  P-p-p-\n",
      "\n",
      "[2025-01-12 09:15:36,574][850594287.py][line:24][INFO] FORMATTED: FOR SOFTBALL  FOR SOFTBALL  THAT'S UNBELIEVABLE  IS IT SLOW PITCH   P P P  \n"
     ]
    },
    {
     "name": "stdout",
     "output_type": "stream",
     "text": [
      "File 434 of 528\r"
     ]
    },
    {
     "name": "stderr",
     "output_type": "stream",
     "text": [
      "[2025-01-12 09:15:37,421][850594287.py][line:22][INFO] Transcription of file Ses01M_impro07_F003.wav has been formatted\n",
      "[2025-01-12 09:15:37,422][850594287.py][line:23][INFO] ORIGINAL: Pinch hitting softball.\n",
      "\n",
      "[2025-01-12 09:15:37,423][850594287.py][line:24][INFO] FORMATTED: PINCH HITTING SOFTBALL \n"
     ]
    },
    {
     "name": "stdout",
     "output_type": "stream",
     "text": [
      "File 435 of 528\r"
     ]
    },
    {
     "name": "stderr",
     "output_type": "stream",
     "text": [
      "[2025-01-12 09:15:38,248][850594287.py][line:22][INFO] Transcription of file Ses01M_impro07_F004.wav has been formatted\n",
      "[2025-01-12 09:15:38,248][850594287.py][line:23][INFO] ORIGINAL: That is incredible!\n",
      "\n",
      "[2025-01-12 09:15:38,249][850594287.py][line:24][INFO] FORMATTED: THAT IS INCREDIBLE  \n"
     ]
    },
    {
     "name": "stdout",
     "output_type": "stream",
     "text": [
      "File 436 of 528\r"
     ]
    },
    {
     "name": "stderr",
     "output_type": "stream",
     "text": [
      "[2025-01-12 09:15:39,129][850594287.py][line:22][INFO] Transcription of file Ses01M_impro07_F005.wav has been formatted\n",
      "[2025-01-12 09:15:39,130][850594287.py][line:23][INFO] ORIGINAL: That's amazing! They pay for everything?\n",
      "\n",
      "[2025-01-12 09:15:39,132][850594287.py][line:24][INFO] FORMATTED: THAT'S AMAZING  THEY PAY FOR EVERYTHING  \n"
     ]
    },
    {
     "name": "stdout",
     "output_type": "stream",
     "text": [
      "File 437 of 528\r"
     ]
    },
    {
     "name": "stderr",
     "output_type": "stream",
     "text": [
      "[2025-01-12 09:15:40,083][850594287.py][line:22][INFO] Transcription of file Ses01M_impro07_F006.wav has been formatted\n",
      "[2025-01-12 09:15:40,083][850594287.py][line:23][INFO] ORIGINAL: Yeah. Your housing, books, everything? Everything. It's incredible.\n",
      "\n",
      "[2025-01-12 09:15:40,085][850594287.py][line:24][INFO] FORMATTED: YEAH YOUR HOUSING  BOOKS  EVERYTHING  EVERYTHING IT'S INCREDIBLE \n"
     ]
    },
    {
     "name": "stdout",
     "output_type": "stream",
     "text": [
      "File 438 of 528\r"
     ]
    },
    {
     "name": "stderr",
     "output_type": "stream",
     "text": [
      "[2025-01-12 09:15:41,207][850594287.py][line:22][INFO] Transcription of file Ses01M_impro07_F007.wav has been formatted\n",
      "[2025-01-12 09:15:41,208][850594287.py][line:23][INFO] ORIGINAL: That is incredible. Did you get like a premium?\n",
      "P\n",
      "P\n",
      "P\n",
      "\n",
      "[2025-01-12 09:15:41,208][850594287.py][line:24][INFO] FORMATTED: THAT IS INCREDIBLE DID YOU GET LIKE A PREMIUM  P P P \n"
     ]
    },
    {
     "name": "stdout",
     "output_type": "stream",
     "text": [
      "File 439 of 528\r"
     ]
    },
    {
     "name": "stderr",
     "output_type": "stream",
     "text": [
      "[2025-01-12 09:15:42,088][850594287.py][line:22][INFO] Transcription of file Ses01M_impro07_F008.wav has been formatted\n",
      "[2025-01-12 09:15:42,089][850594287.py][line:23][INFO] ORIGINAL: No. You should you should look into that.  Yeah.\n",
      "\n",
      "[2025-01-12 09:15:42,089][850594287.py][line:24][INFO] FORMATTED: NO YOU SHOULD YOU SHOULD LOOK INTO THAT  YEAH \n"
     ]
    },
    {
     "name": "stdout",
     "output_type": "stream",
     "text": [
      "File 440 of 528\r"
     ]
    },
    {
     "name": "stderr",
     "output_type": "stream",
     "text": [
      "[2025-01-12 09:15:42,974][850594287.py][line:22][INFO] Transcription of file Ses01M_impro07_F009.wav has been formatted\n",
      "[2025-01-12 09:15:42,975][850594287.py][line:23][INFO] ORIGINAL: That is amazing! Congratulations!  Good for you!\n",
      "\n",
      "[2025-01-12 09:15:42,976][850594287.py][line:24][INFO] FORMATTED: THAT IS AMAZING  CONGRATULATIONS   GOOD FOR YOU  \n"
     ]
    },
    {
     "name": "stdout",
     "output_type": "stream",
     "text": [
      "File 441 of 528\r"
     ]
    },
    {
     "name": "stderr",
     "output_type": "stream",
     "text": [
      "[2025-01-12 09:15:43,672][850594287.py][line:22][INFO] Transcription of file Ses01M_impro07_F010.wav has been formatted\n",
      "[2025-01-12 09:15:43,673][850594287.py][line:23][INFO] ORIGINAL: I cannot access external files like audio, so I cannot provide a transcription.\n",
      "\n",
      "[2025-01-12 09:15:43,675][850594287.py][line:24][INFO] FORMATTED: I CANNOT ACCESS EXTERNAL FILES LIKE AUDIO  SO I CANNOT PROVIDE A TRANSCRIPTION \n"
     ]
    },
    {
     "name": "stdout",
     "output_type": "stream",
     "text": [
      "File 442 of 528\r"
     ]
    },
    {
     "name": "stderr",
     "output_type": "stream",
     "text": [
      "[2025-01-12 09:15:44,692][850594287.py][line:22][INFO] Transcription of file Ses01M_impro07_F011.wav has been formatted\n",
      "[2025-01-12 09:15:44,692][850594287.py][line:23][INFO] ORIGINAL: Yeah, that you probably. You should see one of these Victorian houses around by.\n",
      "\n",
      "[2025-01-12 09:15:44,693][850594287.py][line:24][INFO] FORMATTED: YEAH  THAT YOU PROBABLY YOU SHOULD SEE ONE OF THESE VICTORIAN HOUSES AROUND BY \n"
     ]
    },
    {
     "name": "stdout",
     "output_type": "stream",
     "text": [
      "File 443 of 528\r"
     ]
    },
    {
     "name": "stderr",
     "output_type": "stream",
     "text": [
      "[2025-01-12 09:15:45,567][850594287.py][line:22][INFO] Transcription of file Ses01M_impro07_F012.wav has been formatted\n",
      "[2025-01-12 09:15:45,568][850594287.py][line:23][INFO] ORIGINAL: Venice Beach.\n",
      "\n",
      "[2025-01-12 09:15:45,568][850594287.py][line:24][INFO] FORMATTED: VENICE BEACH \n"
     ]
    },
    {
     "name": "stdout",
     "output_type": "stream",
     "text": [
      "File 444 of 528\r"
     ]
    },
    {
     "name": "stderr",
     "output_type": "stream",
     "text": [
      "[2025-01-12 09:15:46,518][850594287.py][line:22][INFO] Transcription of file Ses01M_impro07_F013.wav has been formatted\n",
      "[2025-01-12 09:15:46,519][850594287.py][line:23][INFO] ORIGINAL: Oh, you don't like that?  You're a West Sider.\n",
      "\n",
      "[2025-01-12 09:15:46,520][850594287.py][line:24][INFO] FORMATTED: OH  YOU DON'T LIKE THAT   YOU'RE A WEST SIDER \n"
     ]
    },
    {
     "name": "stdout",
     "output_type": "stream",
     "text": [
      "File 445 of 528\r"
     ]
    },
    {
     "name": "stderr",
     "output_type": "stream",
     "text": [
      "[2025-01-12 09:15:47,731][850594287.py][line:22][INFO] Transcription of file Ses01M_impro07_F014.wav has been formatted\n",
      "[2025-01-12 09:15:47,731][850594287.py][line:23][INFO] ORIGINAL: Okay. That would be way too much of a commute. You can't do that. Especially I know. Especially, especially from, I don't know. What was I going to say? I don't know.\n",
      "\n",
      "[2025-01-12 09:15:47,732][850594287.py][line:24][INFO] FORMATTED: OKAY THAT WOULD BE WAY TOO MUCH OF A COMMUTE YOU CAN'T DO THAT ESPECIALLY I KNOW ESPECIALLY  ESPECIALLY FROM  I DON'T KNOW WHAT WAS I GOING TO SAY  I DON'T KNOW \n"
     ]
    },
    {
     "name": "stdout",
     "output_type": "stream",
     "text": [
      "File 446 of 528\r"
     ]
    },
    {
     "name": "stderr",
     "output_type": "stream",
     "text": [
      "[2025-01-12 09:15:48,616][850594287.py][line:22][INFO] Transcription of file Ses01M_impro07_F015.wav has been formatted\n",
      "[2025-01-12 09:15:48,617][850594287.py][line:23][INFO] ORIGINAL: I don't know. Commuting from Malibu would be ridiculous.\n",
      "\n",
      "[2025-01-12 09:15:48,617][850594287.py][line:24][INFO] FORMATTED: I DON'T KNOW COMMUTING FROM MALIBU WOULD BE RIDICULOUS \n"
     ]
    },
    {
     "name": "stdout",
     "output_type": "stream",
     "text": [
      "File 447 of 528\r"
     ]
    },
    {
     "name": "stderr",
     "output_type": "stream",
     "text": [
      "[2025-01-12 09:15:49,606][850594287.py][line:22][INFO] Transcription of file Ses01M_impro07_F016.wav has been formatted\n",
      "[2025-01-12 09:15:49,606][850594287.py][line:23][INFO] ORIGINAL: Oh yeah. He could drop you right off of practice.  Ppp\n",
      "\n",
      "[2025-01-12 09:15:49,607][850594287.py][line:24][INFO] FORMATTED: OH YEAH HE COULD DROP YOU RIGHT OFF OF PRACTICE  PPP \n"
     ]
    },
    {
     "name": "stdout",
     "output_type": "stream",
     "text": [
      "File 448 of 528\r"
     ]
    },
    {
     "name": "stderr",
     "output_type": "stream",
     "text": [
      "[2025-01-12 09:15:50,604][850594287.py][line:22][INFO] Transcription of file Ses01M_impro07_F018.wav has been formatted\n",
      "[2025-01-12 09:15:50,606][850594287.py][line:23][INFO] ORIGINAL: They have those neon softballs. They're like day-glo. You can see them anywhere. Yeah, but beep beep.\n",
      "\n",
      "[2025-01-12 09:15:50,607][850594287.py][line:24][INFO] FORMATTED: THEY HAVE THOSE NEON SOFTBALLS THEY'RE LIKE DAY GLO YOU CAN SEE THEM ANYWHERE YEAH  BUT BEEP BEEP \n"
     ]
    },
    {
     "name": "stdout",
     "output_type": "stream",
     "text": [
      "File 449 of 528\r"
     ]
    },
    {
     "name": "stderr",
     "output_type": "stream",
     "text": [
      "[2025-01-12 09:15:51,528][850594287.py][line:22][INFO] Transcription of file Ses01M_impro07_F020.wav has been formatted\n",
      "[2025-01-12 09:15:51,529][850594287.py][line:23][INFO] ORIGINAL: Oh. That is incredible. Is it?\n",
      "\n",
      "[2025-01-12 09:15:51,532][850594287.py][line:24][INFO] FORMATTED: OH THAT IS INCREDIBLE IS IT  \n",
      "[2025-01-12 09:15:51,533][2649188033.py][line:47][INFO] ------ Gemini API Usage Metrics ------\n",
      "[2025-01-12 09:15:51,534][2649188033.py][line:48][INFO] [Files Processed] 450 of 528\n",
      "[2025-01-12 09:15:51,535][2649188033.py][line:49][INFO] [Total Tokens] 252058\n",
      "[2025-01-12 09:15:51,536][2649188033.py][line:50][INFO] --------------------------------------\n"
     ]
    },
    {
     "name": "stdout",
     "output_type": "stream",
     "text": [
      "File 450 of 528\r"
     ]
    },
    {
     "name": "stderr",
     "output_type": "stream",
     "text": [
      "[2025-01-12 09:15:57,665][850594287.py][line:22][INFO] Transcription of file Ses01M_impro07_F021.wav has been formatted\n",
      "[2025-01-12 09:15:57,667][850594287.py][line:23][INFO] ORIGINAL: Do they have, is it a co-ed softball team? I mean, do they have...\n",
      "\n",
      "Really?\n",
      "\n",
      "You know, I didn't even know that they had that.\n",
      "\n",
      "[2025-01-12 09:15:57,667][850594287.py][line:24][INFO] FORMATTED: DO THEY HAVE  IS IT A CO ED SOFTBALL TEAM  I MEAN  DO THEY HAVE  REALLY   YOU KNOW  I DIDN'T EVEN KNOW THAT THEY HAD THAT \n"
     ]
    },
    {
     "name": "stdout",
     "output_type": "stream",
     "text": [
      "File 451 of 528\r"
     ]
    },
    {
     "name": "stderr",
     "output_type": "stream",
     "text": [
      "[2025-01-12 09:15:58,751][850594287.py][line:22][INFO] Transcription of file Ses01M_impro07_F022.wav has been formatted\n",
      "[2025-01-12 09:15:58,752][850594287.py][line:23][INFO] ORIGINAL: Who do you play? Like do are are you like nationally ranked?\n",
      "I just kind of fell into it.  Pppppp\n",
      "\n",
      "[2025-01-12 09:15:58,754][850594287.py][line:24][INFO] FORMATTED: WHO DO YOU PLAY  LIKE DO ARE ARE YOU LIKE NATIONALLY RANKED  I JUST KIND OF FELL INTO IT  PPPPPP \n"
     ]
    },
    {
     "name": "stdout",
     "output_type": "stream",
     "text": [
      "File 452 of 528\r"
     ]
    },
    {
     "name": "stderr",
     "output_type": "stream",
     "text": [
      "[2025-01-12 09:15:59,609][850594287.py][line:22][INFO] Transcription of file Ses01M_impro07_F023.wav has been formatted\n",
      "[2025-01-12 09:15:59,611][850594287.py][line:23][INFO] ORIGINAL: That is unbelievable.\n",
      "\n",
      "[2025-01-12 09:15:59,612][850594287.py][line:24][INFO] FORMATTED: THAT IS UNBELIEVABLE \n"
     ]
    },
    {
     "name": "stdout",
     "output_type": "stream",
     "text": [
      "File 453 of 528\r"
     ]
    },
    {
     "name": "stderr",
     "output_type": "stream",
     "text": [
      "[2025-01-12 09:16:00,514][850594287.py][line:22][INFO] Transcription of file Ses01M_impro07_F024.wav has been formatted\n",
      "[2025-01-12 09:16:00,516][850594287.py][line:23][INFO] ORIGINAL: I would put that right up there with ping pong.  Ping\n",
      "\n",
      "[2025-01-12 09:16:00,518][850594287.py][line:24][INFO] FORMATTED: I WOULD PUT THAT RIGHT UP THERE WITH PING PONG  PING \n"
     ]
    },
    {
     "name": "stdout",
     "output_type": "stream",
     "text": [
      "File 454 of 528\r"
     ]
    },
    {
     "name": "stderr",
     "output_type": "stream",
     "text": [
      "[2025-01-12 09:16:01,515][850594287.py][line:22][INFO] Transcription of file Ses01M_impro07_F025.wav has been formatted\n",
      "[2025-01-12 09:16:01,517][850594287.py][line:23][INFO] ORIGINAL: Well, I mean, not to denigrate what you're doing. I think that's great.\n",
      "\n",
      "[2025-01-12 09:16:01,518][850594287.py][line:24][INFO] FORMATTED: WELL  I MEAN  NOT TO DENIGRATE WHAT YOU'RE DOING I THINK THAT'S GREAT \n"
     ]
    },
    {
     "name": "stdout",
     "output_type": "stream",
     "text": [
      "File 455 of 528\r"
     ]
    },
    {
     "name": "stderr",
     "output_type": "stream",
     "text": [
      "[2025-01-12 09:16:02,464][850594287.py][line:22][INFO] Transcription of file Ses01M_impro07_F026.wav has been formatted\n",
      "[2025-01-12 09:16:02,465][850594287.py][line:23][INFO] ORIGINAL: No! No, I love softball. I play softball all the time.\n",
      "\n",
      "[2025-01-12 09:16:02,466][850594287.py][line:24][INFO] FORMATTED: NO  NO  I LOVE SOFTBALL I PLAY SOFTBALL ALL THE TIME \n"
     ]
    },
    {
     "name": "stdout",
     "output_type": "stream",
     "text": [
      "File 456 of 528\r"
     ]
    },
    {
     "name": "stderr",
     "output_type": "stream",
     "text": [
      "[2025-01-12 09:16:03,840][850594287.py][line:22][INFO] Transcription of file Ses01M_impro07_F027.wav has been formatted\n",
      "[2025-01-12 09:16:03,841][850594287.py][line:23][INFO] ORIGINAL: I'm not saying you shouldn't be proud. I'm not. No. I think I think it's great. I think you should be incredibly proud of yourself, especially because you're going to USC for free for doing it. For free. That's really amazing. For free. Who cares?  P p p\n",
      "\n",
      "[2025-01-12 09:16:03,841][850594287.py][line:24][INFO] FORMATTED: I'M NOT SAYING YOU SHOULDN'T BE PROUD I'M NOT NO I THINK I THINK IT'S GREAT I THINK YOU SHOULD BE INCREDIBLY PROUD OF YOURSELF  ESPECIALLY BECAUSE YOU'RE GOING TO USC FOR FREE FOR DOING IT FOR FREE THAT'S REALLY AMAZING FOR FREE WHO CARES   P P P \n"
     ]
    },
    {
     "name": "stdout",
     "output_type": "stream",
     "text": [
      "File 457 of 528\r"
     ]
    },
    {
     "name": "stderr",
     "output_type": "stream",
     "text": [
      "[2025-01-12 09:16:04,700][850594287.py][line:22][INFO] Transcription of file Ses01M_impro07_F033.wav has been formatted\n",
      "[2025-01-12 09:16:04,701][850594287.py][line:23][INFO] ORIGINAL: You're like the rookie, the new kid.\n",
      "\n",
      "[2025-01-12 09:16:04,702][850594287.py][line:24][INFO] FORMATTED: YOU'RE LIKE THE ROOKIE  THE NEW KID \n"
     ]
    },
    {
     "name": "stdout",
     "output_type": "stream",
     "text": [
      "File 458 of 528\r"
     ]
    },
    {
     "name": "stderr",
     "output_type": "stream",
     "text": [
      "[2025-01-12 09:16:05,824][850594287.py][line:22][INFO] Transcription of file Ses01M_impro07_F034.wav has been formatted\n",
      "[2025-01-12 09:16:05,824][850594287.py][line:23][INFO] ORIGINAL: Yeah. Just watch in 5 years, you'll be like on the force. You carry your own donuts in your backpack.  \n",
      "P p p p\n",
      "\n",
      "[2025-01-12 09:16:05,825][850594287.py][line:24][INFO] FORMATTED: YEAH JUST WATCH IN 5 YEARS  YOU'LL BE LIKE ON THE FORCE YOU CARRY YOUR OWN DONUTS IN YOUR BACKPACK   P P P P \n"
     ]
    },
    {
     "name": "stdout",
     "output_type": "stream",
     "text": [
      "File 459 of 528\r"
     ]
    },
    {
     "name": "stderr",
     "output_type": "stream",
     "text": [
      "[2025-01-12 09:16:06,701][850594287.py][line:22][INFO] Transcription of file Ses01M_script01_1_F004.wav has been formatted\n",
      "[2025-01-12 09:16:06,702][850594287.py][line:23][INFO] ORIGINAL: Did you talk to him?\n",
      "\n",
      "[2025-01-12 09:16:06,703][850594287.py][line:24][INFO] FORMATTED: DID YOU TALK TO HIM  \n"
     ]
    },
    {
     "name": "stdout",
     "output_type": "stream",
     "text": [
      "File 460 of 528\r"
     ]
    },
    {
     "name": "stderr",
     "output_type": "stream",
     "text": [
      "[2025-01-12 09:16:07,531][850594287.py][line:22][INFO] Transcription of file Ses01M_script01_1_F005.wav has been formatted\n",
      "[2025-01-12 09:16:07,533][850594287.py][line:23][INFO] ORIGINAL: He cried hard.\n",
      "\n",
      "[2025-01-12 09:16:07,536][850594287.py][line:24][INFO] FORMATTED: HE CRIED HARD \n"
     ]
    },
    {
     "name": "stdout",
     "output_type": "stream",
     "text": [
      "File 461 of 528\r"
     ]
    },
    {
     "name": "stderr",
     "output_type": "stream",
     "text": [
      "[2025-01-12 09:16:08,297][850594287.py][line:22][INFO] Transcription of file Ses01M_script01_1_F006.wav has been formatted\n",
      "[2025-01-12 09:16:08,298][850594287.py][line:23][INFO] ORIGINAL:  \n",
      "\n",
      "[2025-01-12 09:16:08,299][850594287.py][line:24][INFO] FORMATTED:   \n"
     ]
    },
    {
     "name": "stdout",
     "output_type": "stream",
     "text": [
      "File 462 of 528\r"
     ]
    },
    {
     "name": "stderr",
     "output_type": "stream",
     "text": [
      "[2025-01-12 09:16:09,227][850594287.py][line:22][INFO] Transcription of file Ses01M_script01_1_F008.wav has been formatted\n",
      "[2025-01-12 09:16:09,229][850594287.py][line:23][INFO] ORIGINAL: dreaming about him again. Walking the streets.\n",
      "\n",
      "[2025-01-12 09:16:09,229][850594287.py][line:24][INFO] FORMATTED: DREAMING ABOUT HIM AGAIN WALKING THE STREETS \n"
     ]
    },
    {
     "name": "stdout",
     "output_type": "stream",
     "text": [
      "File 463 of 528\r"
     ]
    },
    {
     "name": "stderr",
     "output_type": "stream",
     "text": [
      "[2025-01-12 09:16:10,181][850594287.py][line:22][INFO] Transcription of file Ses01M_script01_1_F011.wav has been formatted\n",
      "[2025-01-12 09:16:10,183][850594287.py][line:23][INFO] ORIGINAL: What do you mean a mistake?\n",
      "Ppp\n",
      "\n",
      "[2025-01-12 09:16:10,183][850594287.py][line:24][INFO] FORMATTED: WHAT DO YOU MEAN A MISTAKE  PPP \n"
     ]
    },
    {
     "name": "stdout",
     "output_type": "stream",
     "text": [
      "File 464 of 528\r"
     ]
    },
    {
     "name": "stderr",
     "output_type": "stream",
     "text": [
      "[2025-01-12 09:16:11,218][850594287.py][line:22][INFO] Transcription of file Ses01M_script01_1_F014.wav has been formatted\n",
      "[2025-01-12 09:16:11,220][850594287.py][line:23][INFO] ORIGINAL: What can you prove it? What proof do you have? Can you prove it?\n",
      "\n",
      "[2025-01-12 09:16:11,221][850594287.py][line:24][INFO] FORMATTED: WHAT CAN YOU PROVE IT  WHAT PROOF DO YOU HAVE  CAN YOU PROVE IT  \n"
     ]
    },
    {
     "name": "stdout",
     "output_type": "stream",
     "text": [
      "File 465 of 528\r"
     ]
    },
    {
     "name": "stderr",
     "output_type": "stream",
     "text": [
      "[2025-01-12 09:16:12,505][850594287.py][line:22][INFO] Transcription of file Ses01M_script01_1_F015.wav has been formatted\n",
      "[2025-01-12 09:16:12,506][850594287.py][line:23][INFO] ORIGINAL: Well, to you it is, to me it is. But to your father?\n",
      "\n",
      "You can talk yourself to your blue in the face, but there's no grave and there's no body, so where are you?\n",
      "P P P P\n",
      "\n",
      "[2025-01-12 09:16:12,506][850594287.py][line:24][INFO] FORMATTED: WELL  TO YOU IT IS  TO ME IT IS BUT TO YOUR FATHER   YOU CAN TALK YOURSELF TO YOUR BLUE IN THE FACE  BUT THERE'S NO GRAVE AND THERE'S NO BODY  SO WHERE ARE YOU  P P P P \n"
     ]
    },
    {
     "name": "stdout",
     "output_type": "stream",
     "text": [
      "File 466 of 528\r"
     ]
    },
    {
     "name": "stderr",
     "output_type": "stream",
     "text": [
      "[2025-01-12 09:16:13,531][850594287.py][line:22][INFO] Transcription of file Ses01M_script01_1_F016.wav has been formatted\n",
      "[2025-01-12 09:16:13,533][850594287.py][line:23][INFO] ORIGINAL: The trouble is those goddamn newspapers. Every month some boy comes back missing longer than Larry so…\n",
      "\n",
      "[2025-01-12 09:16:13,534][850594287.py][line:24][INFO] FORMATTED: THE TROUBLE IS THOSE GODDAMN NEWSPAPERS EVERY MONTH SOME BOY COMES BACK MISSING LONGER THAN LARRY SO \n"
     ]
    },
    {
     "name": "stdout",
     "output_type": "stream",
     "text": [
      "File 467 of 528\r"
     ]
    },
    {
     "name": "stderr",
     "output_type": "stream",
     "text": [
      "[2025-01-12 09:16:14,413][850594287.py][line:22][INFO] Transcription of file Ses01M_script01_1_F017.wav has been formatted\n",
      "[2025-01-12 09:16:14,413][850594287.py][line:23][INFO] ORIGINAL: Why?  Ppppppp\n",
      "\n",
      "[2025-01-12 09:16:14,414][850594287.py][line:24][INFO] FORMATTED: WHY   PPPPPPP \n"
     ]
    },
    {
     "name": "stdout",
     "output_type": "stream",
     "text": [
      "File 468 of 528\r"
     ]
    },
    {
     "name": "stderr",
     "output_type": "stream",
     "text": [
      "[2025-01-12 09:16:15,495][850594287.py][line:22][INFO] Transcription of file Ses01M_script01_1_F020.wav has been formatted\n",
      "[2025-01-12 09:16:15,496][850594287.py][line:23][INFO] ORIGINAL: Well, what do you want me to do? You're old enough to know your own business.  It's okay.\n",
      "\n",
      "[2025-01-12 09:16:15,498][850594287.py][line:24][INFO] FORMATTED: WELL  WHAT DO YOU WANT ME TO DO  YOU'RE OLD ENOUGH TO KNOW YOUR OWN BUSINESS  IT'S OKAY \n"
     ]
    },
    {
     "name": "stdout",
     "output_type": "stream",
     "text": [
      "File 469 of 528\r"
     ]
    },
    {
     "name": "stderr",
     "output_type": "stream",
     "text": [
      "[2025-01-12 09:16:16,587][850594287.py][line:22][INFO] Transcription of file Ses01M_script01_1_F023.wav has been formatted\n",
      "[2025-01-12 09:16:16,590][850594287.py][line:23][INFO] ORIGINAL: I'm sorry. I ignore what I've got to ignore. That girl is Larry's girl. She is not.\n",
      "\n",
      "[2025-01-12 09:16:16,592][850594287.py][line:24][INFO] FORMATTED: I'M SORRY I IGNORE WHAT I'VE GOT TO IGNORE THAT GIRL IS LARRY'S GIRL SHE IS NOT \n"
     ]
    },
    {
     "name": "stdout",
     "output_type": "stream",
     "text": [
      "File 470 of 528\r"
     ]
    },
    {
     "name": "stderr",
     "output_type": "stream",
     "text": [
      "[2025-01-12 09:16:17,885][850594287.py][line:22][INFO] Transcription of file Ses01M_script01_1_F024.wav has been formatted\n",
      "[2025-01-12 09:16:17,886][850594287.py][line:23][INFO] ORIGINAL: From Father's point of view, he is not dead and you have no right to take his girl.  I'm just saying if you can go on from there if you know where to go, but I'm saying I don't know where to go. See, I don't know.\n",
      "\n",
      "[2025-01-12 09:16:17,887][850594287.py][line:24][INFO] FORMATTED: FROM FATHER'S POINT OF VIEW  HE IS NOT DEAD AND YOU HAVE NO RIGHT TO TAKE HIS GIRL  I'M JUST SAYING IF YOU CAN GO ON FROM THERE IF YOU KNOW WHERE TO GO  BUT I'M SAYING I DON'T KNOW WHERE TO GO SEE  I DON'T KNOW \n"
     ]
    },
    {
     "name": "stdout",
     "output_type": "stream",
     "text": [
      "File 471 of 528\r"
     ]
    },
    {
     "name": "stderr",
     "output_type": "stream",
     "text": [
      "[2025-01-12 09:16:18,826][850594287.py][line:22][INFO] Transcription of file Ses01M_script01_1_F025.wav has been formatted\n",
      "[2025-01-12 09:16:18,828][850594287.py][line:23][INFO] ORIGINAL: You're a considerate fellow. There's nothing wrong in that.\n",
      "\n",
      "[2025-01-12 09:16:18,829][850594287.py][line:24][INFO] FORMATTED: YOU'RE A CONSIDERATE FELLOW THERE'S NOTHING WRONG IN THAT \n"
     ]
    },
    {
     "name": "stdout",
     "output_type": "stream",
     "text": [
      "File 472 of 528\r"
     ]
    },
    {
     "name": "stderr",
     "output_type": "stream",
     "text": [
      "[2025-01-12 09:16:19,703][850594287.py][line:22][INFO] Transcription of file Ses01M_script01_1_F026.wav has been formatted\n",
      "[2025-01-12 09:16:19,704][850594287.py][line:23][INFO] ORIGINAL: Did you ask Annie yet?\n",
      "\n",
      "[2025-01-12 09:16:19,704][850594287.py][line:24][INFO] FORMATTED: DID YOU ASK ANNIE YET  \n"
     ]
    },
    {
     "name": "stdout",
     "output_type": "stream",
     "text": [
      "File 473 of 528\r"
     ]
    },
    {
     "name": "stderr",
     "output_type": "stream",
     "text": [
      "[2025-01-12 09:16:20,599][850594287.py][line:22][INFO] Transcription of file Ses01M_script01_1_F029.wav has been formatted\n",
      "[2025-01-12 09:16:20,601][850594287.py][line:23][INFO] ORIGINAL: I don't see why it has to be Annie. Because p p p p p\n",
      "\n",
      "[2025-01-12 09:16:20,604][850594287.py][line:24][INFO] FORMATTED: I DON'T SEE WHY IT HAS TO BE ANNIE BECAUSE P P P P P \n"
     ]
    },
    {
     "name": "stdout",
     "output_type": "stream",
     "text": [
      "File 474 of 528\r"
     ]
    },
    {
     "name": "stderr",
     "output_type": "stream",
     "text": [
      "[2025-01-12 09:16:21,676][850594287.py][line:22][INFO] Transcription of file Ses01M_script01_1_F030.wav has been formatted\n",
      "[2025-01-12 09:16:21,676][850594287.py][line:23][INFO] ORIGINAL: That's a good answer, but it doesn't answer anything.  You haven't seen her since you went away to war. It's been five years! No.\n",
      "\n",
      "[2025-01-12 09:16:21,677][850594287.py][line:24][INFO] FORMATTED: THAT'S A GOOD ANSWER  BUT IT DOESN'T ANSWER ANYTHING  YOU HAVEN'T SEEN HER SINCE YOU WENT AWAY TO WAR IT'S BEEN FIVE YEARS  NO \n",
      "[2025-01-12 09:16:21,677][2649188033.py][line:47][INFO] ------ Gemini API Usage Metrics ------\n",
      "[2025-01-12 09:16:21,678][2649188033.py][line:48][INFO] [Files Processed] 475 of 528\n",
      "[2025-01-12 09:16:21,679][2649188033.py][line:49][INFO] [Total Tokens] 257995\n",
      "[2025-01-12 09:16:21,679][2649188033.py][line:50][INFO] --------------------------------------\n"
     ]
    },
    {
     "name": "stdout",
     "output_type": "stream",
     "text": [
      "File 475 of 528\r"
     ]
    },
    {
     "name": "stderr",
     "output_type": "stream",
     "text": [
      "[2025-01-12 09:16:27,702][850594287.py][line:22][INFO] Transcription of file Ses01M_script01_1_F031.wav has been formatted\n",
      "[2025-01-12 09:16:27,704][850594287.py][line:23][INFO] ORIGINAL: He thinks he's coming back, Chris. You marry that girl, you're pronouncing him dead.\n",
      "\n",
      "[2025-01-12 09:16:27,706][850594287.py][line:24][INFO] FORMATTED: HE THINKS HE'S COMING BACK  CHRIS YOU MARRY THAT GIRL  YOU'RE PRONOUNCING HIM DEAD \n"
     ]
    },
    {
     "name": "stdout",
     "output_type": "stream",
     "text": [
      "File 476 of 528\r"
     ]
    },
    {
     "name": "stderr",
     "output_type": "stream",
     "text": [
      "[2025-01-12 09:16:28,725][850594287.py][line:22][INFO] Transcription of file Ses01M_script01_1_F032.wav has been formatted\n",
      "[2025-01-12 09:16:28,727][850594287.py][line:23][INFO] ORIGINAL: Do you know what that'll do to you? To your father? Do you know? I don't.\n",
      "\n",
      "[2025-01-12 09:16:28,728][850594287.py][line:24][INFO] FORMATTED: DO YOU KNOW WHAT THAT'LL DO TO YOU  TO YOUR FATHER  DO YOU KNOW  I DON'T \n"
     ]
    },
    {
     "name": "stdout",
     "output_type": "stream",
     "text": [
      "File 477 of 528\r"
     ]
    },
    {
     "name": "stderr",
     "output_type": "stream",
     "text": [
      "[2025-01-12 09:16:29,570][850594287.py][line:22][INFO] Transcription of file Ses01M_script01_1_F035.wav has been formatted\n",
      "[2025-01-12 09:16:29,571][850594287.py][line:23][INFO] ORIGINAL: Are you crazy?\n",
      "\n",
      "[2025-01-12 09:16:29,572][850594287.py][line:24][INFO] FORMATTED: ARE YOU CRAZY  \n"
     ]
    },
    {
     "name": "stdout",
     "output_type": "stream",
     "text": [
      "File 478 of 528\r"
     ]
    },
    {
     "name": "stderr",
     "output_type": "stream",
     "text": [
      "[2025-01-12 09:16:30,529][850594287.py][line:22][INFO] Transcription of file Ses01M_script01_1_F036.wav has been formatted\n",
      "[2025-01-12 09:16:30,530][850594287.py][line:23][INFO] ORIGINAL: You have a business here. Is it what the hell is this?\n",
      "\n",
      "[2025-01-12 09:16:30,532][850594287.py][line:24][INFO] FORMATTED: YOU HAVE A BUSINESS HERE IS IT WHAT THE HELL IS THIS  \n"
     ]
    },
    {
     "name": "stdout",
     "output_type": "stream",
     "text": [
      "File 479 of 528\r"
     ]
    },
    {
     "name": "stderr",
     "output_type": "stream",
     "text": [
      "[2025-01-12 09:16:31,514][850594287.py][line:22][INFO] Transcription of file Ses01M_script01_1_F037.wav has been formatted\n",
      "[2025-01-12 09:16:31,517][850594287.py][line:23][INFO] ORIGINAL: inspired me. Oh, must you be inspired? Yes, yes. I like\n",
      "\n",
      "[2025-01-12 09:16:31,518][850594287.py][line:24][INFO] FORMATTED: INSPIRED ME OH  MUST YOU BE INSPIRED  YES  YES I LIKE \n"
     ]
    },
    {
     "name": "stdout",
     "output_type": "stream",
     "text": [
      "File 480 of 528\r"
     ]
    },
    {
     "name": "stderr",
     "output_type": "stream",
     "text": [
      "[2025-01-12 09:16:32,401][850594287.py][line:22][INFO] Transcription of file Ses01M_script01_1_F039.wav has been formatted\n",
      "[2025-01-12 09:16:32,401][850594287.py][line:23][INFO] ORIGINAL: Well, you don't wanna think like that.\n",
      "\n",
      "[2025-01-12 09:16:32,402][850594287.py][line:24][INFO] FORMATTED: WELL  YOU DON'T WANNA THINK LIKE THAT \n"
     ]
    },
    {
     "name": "stdout",
     "output_type": "stream",
     "text": [
      "File 481 of 528\r"
     ]
    },
    {
     "name": "stderr",
     "output_type": "stream",
     "text": [
      "[2025-01-12 09:16:33,563][850594287.py][line:22][INFO] Transcription of file Ses01M_script01_1_F040.wav has been formatted\n",
      "[2025-01-12 09:16:33,563][850594287.py][line:23][INFO] ORIGINAL: All right, but you don't think like that. Because what the hell is this all for? This is this is all for you! What are we working for, Chris? The whole shooting match is for you!\n",
      "\n",
      "[2025-01-12 09:16:33,564][850594287.py][line:24][INFO] FORMATTED: ALL RIGHT  BUT YOU DON'T THINK LIKE THAT BECAUSE WHAT THE HELL IS THIS ALL FOR  THIS IS THIS IS ALL FOR YOU  WHAT ARE WE WORKING FOR  CHRIS  THE WHOLE SHOOTING MATCH IS FOR YOU  \n"
     ]
    },
    {
     "name": "stdout",
     "output_type": "stream",
     "text": [
      "File 482 of 528\r"
     ]
    },
    {
     "name": "stderr",
     "output_type": "stream",
     "text": [
      "[2025-01-12 09:16:34,439][850594287.py][line:22][INFO] Transcription of file Ses01M_script01_1_F041.wav has been formatted\n",
      "[2025-01-12 09:16:34,440][850594287.py][line:23][INFO] ORIGINAL: Well you don't think like that. Right?\n",
      "\n",
      "[2025-01-12 09:16:34,440][850594287.py][line:24][INFO] FORMATTED: WELL YOU DON'T THINK LIKE THAT RIGHT  \n"
     ]
    },
    {
     "name": "stdout",
     "output_type": "stream",
     "text": [
      "File 483 of 528\r"
     ]
    },
    {
     "name": "stderr",
     "output_type": "stream",
     "text": [
      "[2025-01-12 09:16:35,337][850594287.py][line:22][INFO] Transcription of file Ses01M_script01_1_F042.wav has been formatted\n",
      "[2025-01-12 09:16:35,338][850594287.py][line:23][INFO] ORIGINAL: I don't understand you, do I?\n",
      "\n",
      "[2025-01-12 09:16:35,338][850594287.py][line:24][INFO] FORMATTED: I DON'T UNDERSTAND YOU  DO I  \n"
     ]
    },
    {
     "name": "stdout",
     "output_type": "stream",
     "text": [
      "File 484 of 528\r"
     ]
    },
    {
     "name": "stderr",
     "output_type": "stream",
     "text": [
      "[2025-01-12 09:16:36,200][850594287.py][line:22][INFO] Transcription of file Ses01M_script01_1_F043.wav has been formatted\n",
      "[2025-01-12 09:16:36,200][850594287.py][line:23][INFO] ORIGINAL: Well, I can see that.\n",
      "\n",
      "[2025-01-12 09:16:36,201][850594287.py][line:24][INFO] FORMATTED: WELL  I CAN SEE THAT \n"
     ]
    },
    {
     "name": "stdout",
     "output_type": "stream",
     "text": [
      "File 485 of 528\r"
     ]
    },
    {
     "name": "stderr",
     "output_type": "stream",
     "text": [
      "[2025-01-12 09:16:36,849][850594287.py][line:22][INFO] Transcription of file Ses01F_impro06_F002.wav has been formatted\n",
      "[2025-01-12 09:16:36,850][850594287.py][line:23][INFO] ORIGINAL:  \n",
      "\n",
      "[2025-01-12 09:16:36,851][850594287.py][line:24][INFO] FORMATTED:  \n"
     ]
    },
    {
     "name": "stdout",
     "output_type": "stream",
     "text": [
      "File 486 of 528\r"
     ]
    },
    {
     "name": "stderr",
     "output_type": "stream",
     "text": [
      "[2025-01-12 09:16:37,582][850594287.py][line:22][INFO] Transcription of file Ses01F_impro06_F003.wav has been formatted\n",
      "[2025-01-12 09:16:37,584][850594287.py][line:23][INFO] ORIGINAL: That's three.  Beep beep beep beep beep.\n",
      "\n",
      "[2025-01-12 09:16:37,585][850594287.py][line:24][INFO] FORMATTED: THAT'S THREE  BEEP BEEP BEEP BEEP BEEP \n"
     ]
    },
    {
     "name": "stdout",
     "output_type": "stream",
     "text": [
      "File 487 of 528\r"
     ]
    },
    {
     "name": "stderr",
     "output_type": "stream",
     "text": [
      "[2025-01-12 09:16:38,425][850594287.py][line:22][INFO] Transcription of file Ses01F_impro06_F004.wav has been formatted\n",
      "[2025-01-12 09:16:38,426][850594287.py][line:23][INFO] ORIGINAL: Take it.\n",
      "\n",
      "[2025-01-12 09:16:38,426][850594287.py][line:24][INFO] FORMATTED: TAKE IT \n"
     ]
    },
    {
     "name": "stdout",
     "output_type": "stream",
     "text": [
      "File 488 of 528\r"
     ]
    },
    {
     "name": "stderr",
     "output_type": "stream",
     "text": [
      "[2025-01-12 09:16:39,364][850594287.py][line:22][INFO] Transcription of file Ses01F_impro06_F005.wav has been formatted\n",
      "[2025-01-12 09:16:39,366][850594287.py][line:23][INFO] ORIGINAL: I uh I went to see her headstone a week or two ago.\n",
      "\n",
      "[2025-01-12 09:16:39,368][850594287.py][line:24][INFO] FORMATTED: I UH I WENT TO SEE HER HEADSTONE A WEEK OR TWO AGO \n"
     ]
    },
    {
     "name": "stdout",
     "output_type": "stream",
     "text": [
      "File 489 of 528\r"
     ]
    },
    {
     "name": "stderr",
     "output_type": "stream",
     "text": [
      "[2025-01-12 09:16:40,612][850594287.py][line:22][INFO] Transcription of file Ses01F_impro06_F006.wav has been formatted\n",
      "[2025-01-12 09:16:40,613][850594287.py][line:23][INFO] ORIGINAL: I used to go to cemeteries a lot before she died. I just, you know, they're just I felt like they were urban oases, you know? There's always this green in in the city.\n",
      "\n",
      "[2025-01-12 09:16:40,614][850594287.py][line:24][INFO] FORMATTED: I USED TO GO TO CEMETERIES A LOT BEFORE SHE DIED I JUST  YOU KNOW  THEY'RE JUST I FELT LIKE THEY WERE URBAN OASES  YOU KNOW  THERE'S ALWAYS THIS GREEN IN IN THE CITY \n"
     ]
    },
    {
     "name": "stdout",
     "output_type": "stream",
     "text": [
      "File 490 of 528\r"
     ]
    },
    {
     "name": "stderr",
     "output_type": "stream",
     "text": [
      "[2025-01-12 09:16:41,657][850594287.py][line:22][INFO] Transcription of file Ses01F_impro06_F007.wav has been formatted\n",
      "[2025-01-12 09:16:41,658][850594287.py][line:23][INFO] ORIGINAL: So I was like wandering around before. I always it takes forever to find your headstone. I always lose it, you know.\n",
      "\n",
      "[2025-01-12 09:16:41,659][850594287.py][line:24][INFO] FORMATTED: SO I WAS LIKE WANDERING AROUND BEFORE I ALWAYS IT TAKES FOREVER TO FIND YOUR HEADSTONE I ALWAYS LOSE IT  YOU KNOW \n"
     ]
    },
    {
     "name": "stdout",
     "output_type": "stream",
     "text": [
      "File 491 of 528\r"
     ]
    },
    {
     "name": "stderr",
     "output_type": "stream",
     "text": [
      "[2025-01-12 09:16:42,949][850594287.py][line:22][INFO] Transcription of file Ses01F_impro06_F008.wav has been formatted\n",
      "[2025-01-12 09:16:42,951][850594287.py][line:23][INFO] ORIGINAL: So I was looking at this other one and there was like a piece of candy there and I thought that I would take the candy and put it on her headstone and um\n",
      "\n",
      "[2025-01-12 09:16:42,953][850594287.py][line:24][INFO] FORMATTED: SO I WAS LOOKING AT THIS OTHER ONE AND THERE WAS LIKE A PIECE OF CANDY THERE AND I THOUGHT THAT I WOULD TAKE THE CANDY AND PUT IT ON HER HEADSTONE AND UM \n"
     ]
    },
    {
     "name": "stdout",
     "output_type": "stream",
     "text": [
      "File 492 of 528\r"
     ]
    },
    {
     "name": "stderr",
     "output_type": "stream",
     "text": [
      "[2025-01-12 09:16:43,958][850594287.py][line:22][INFO] Transcription of file Ses01F_impro06_F009.wav has been formatted\n",
      "[2025-01-12 09:16:43,959][850594287.py][line:23][INFO] ORIGINAL: this woman it came up and you know it was hers. It was her person that was there. But she\n",
      "\n",
      "[2025-01-12 09:16:43,960][850594287.py][line:24][INFO] FORMATTED: THIS WOMAN IT CAME UP AND YOU KNOW IT WAS HERS IT WAS HER PERSON THAT WAS THERE BUT SHE \n"
     ]
    },
    {
     "name": "stdout",
     "output_type": "stream",
     "text": [
      "File 493 of 528\r"
     ]
    },
    {
     "name": "stderr",
     "output_type": "stream",
     "text": [
      "[2025-01-12 09:16:44,976][850594287.py][line:22][INFO] Transcription of file Ses01F_impro06_F010.wav has been formatted\n",
      "[2025-01-12 09:16:44,977][850594287.py][line:23][INFO] ORIGINAL: Yeah, and she uh she was like, \"That's pathetic. I hope you enjoy it.\"\n",
      "\n",
      "[2025-01-12 09:16:44,978][850594287.py][line:24][INFO] FORMATTED: YEAH  AND SHE UH SHE WAS LIKE   THAT'S PATHETIC I HOPE YOU ENJOY IT  \n"
     ]
    },
    {
     "name": "stdout",
     "output_type": "stream",
     "text": [
      "File 494 of 528\r"
     ]
    },
    {
     "name": "stderr",
     "output_type": "stream",
     "text": [
      "[2025-01-12 09:16:46,338][850594287.py][line:22][INFO] Transcription of file Ses01F_impro06_F011.wav has been formatted\n",
      "[2025-01-12 09:16:46,338][850594287.py][line:23][INFO] ORIGINAL: And I, you know, I mean, I said I was sorry and I brought it back to her kind of and I like put it on the ground and she she was like, no it's you know, it's fine. I I she's like I'd I'd rather have her back, honestly.\n",
      "\n",
      "[2025-01-12 09:16:46,339][850594287.py][line:24][INFO] FORMATTED: AND I  YOU KNOW  I MEAN  I SAID I WAS SORRY AND I BROUGHT IT BACK TO HER KIND OF AND I LIKE PUT IT ON THE GROUND AND SHE SHE WAS LIKE  NO IT'S YOU KNOW  IT'S FINE I I SHE'S LIKE I'D I'D RATHER HAVE HER BACK  HONESTLY \n"
     ]
    },
    {
     "name": "stdout",
     "output_type": "stream",
     "text": [
      "File 495 of 528\r"
     ]
    },
    {
     "name": "stderr",
     "output_type": "stream",
     "text": [
      "[2025-01-12 09:16:47,409][850594287.py][line:22][INFO] Transcription of file Ses01F_impro06_F012.wav has been formatted\n",
      "[2025-01-12 09:16:47,410][850594287.py][line:23][INFO] ORIGINAL: I I don't know. It's just like I felt so bad because I shouldn't have done it. I don't know, whatever.\n",
      "\n",
      "[2025-01-12 09:16:47,410][850594287.py][line:24][INFO] FORMATTED: I I DON'T KNOW IT'S JUST LIKE I FELT SO BAD BECAUSE I SHOULDN'T HAVE DONE IT I DON'T KNOW  WHATEVER \n"
     ]
    },
    {
     "name": "stdout",
     "output_type": "stream",
     "text": [
      "File 496 of 528\r"
     ]
    },
    {
     "name": "stderr",
     "output_type": "stream",
     "text": [
      "[2025-01-12 09:16:48,124][850594287.py][line:22][INFO] Transcription of file Ses01F_impro06_F013.wav has been formatted\n",
      "[2025-01-12 09:16:48,126][850594287.py][line:23][INFO] ORIGINAL: I don't know.  P P P\n",
      "\n",
      "[2025-01-12 09:16:48,127][850594287.py][line:24][INFO] FORMATTED: I DON'T KNOW  P P P \n"
     ]
    },
    {
     "name": "stdout",
     "output_type": "stream",
     "text": [
      "File 497 of 528\r"
     ]
    },
    {
     "name": "stderr",
     "output_type": "stream",
     "text": [
      "[2025-01-12 09:16:49,066][850594287.py][line:22][INFO] Transcription of file Ses01F_impro06_F014.wav has been formatted\n",
      "[2025-01-12 09:16:49,067][850594287.py][line:23][INFO] ORIGINAL: as a cemetery.\n",
      "\n",
      "[2025-01-12 09:16:49,068][850594287.py][line:24][INFO] FORMATTED: AS A CEMETERY \n"
     ]
    },
    {
     "name": "stdout",
     "output_type": "stream",
     "text": [
      "File 498 of 528\r"
     ]
    },
    {
     "name": "stderr",
     "output_type": "stream",
     "text": [
      "[2025-01-12 09:16:49,927][850594287.py][line:22][INFO] Transcription of file Ses01F_impro06_F015.wav has been formatted\n",
      "[2025-01-12 09:16:49,929][850594287.py][line:23][INFO] ORIGINAL: a couple hours\n",
      "\n",
      "[2025-01-12 09:16:49,931][850594287.py][line:24][INFO] FORMATTED: A COUPLE HOURS \n"
     ]
    },
    {
     "name": "stdout",
     "output_type": "stream",
     "text": [
      "File 499 of 528\r"
     ]
    },
    {
     "name": "stderr",
     "output_type": "stream",
     "text": [
      "[2025-01-12 09:16:51,029][850594287.py][line:22][INFO] Transcription of file Ses01F_impro06_F016.wav has been formatted\n",
      "[2025-01-12 09:16:51,032][850594287.py][line:23][INFO] ORIGINAL: I brought I brought Chuck with me. We went to Redlands, yeah, for the day. And we ran through the sprinklers.  Ppppt.\n",
      "\n",
      "[2025-01-12 09:16:51,033][850594287.py][line:24][INFO] FORMATTED: I BROUGHT I BROUGHT CHUCK WITH ME WE WENT TO REDLANDS  YEAH  FOR THE DAY AND WE RAN THROUGH THE SPRINKLERS  PPPPT \n",
      "[2025-01-12 09:16:51,034][2649188033.py][line:47][INFO] ------ Gemini API Usage Metrics ------\n",
      "[2025-01-12 09:16:51,035][2649188033.py][line:48][INFO] [Files Processed] 500 of 528\n",
      "[2025-01-12 09:16:51,036][2649188033.py][line:49][INFO] [Total Tokens] 264178\n",
      "[2025-01-12 09:16:51,038][2649188033.py][line:50][INFO] --------------------------------------\n"
     ]
    },
    {
     "name": "stdout",
     "output_type": "stream",
     "text": [
      "File 500 of 528\r"
     ]
    },
    {
     "name": "stderr",
     "output_type": "stream",
     "text": [
      "[2025-01-12 09:16:57,113][850594287.py][line:22][INFO] Transcription of file Ses01F_impro06_F018.wav has been formatted\n",
      "[2025-01-12 09:16:57,115][850594287.py][line:23][INFO] ORIGINAL: Yeah, it's huge. Uh Redlands is an old city, so there's lots and lots of stones.  <noise>\n",
      "\n",
      "[2025-01-12 09:16:57,116][850594287.py][line:24][INFO] FORMATTED: YEAH  IT'S HUGE UH REDLANDS IS AN OLD CITY  SO THERE'S LOTS AND LOTS OF STONES   NOISE  \n"
     ]
    },
    {
     "name": "stdout",
     "output_type": "stream",
     "text": [
      "File 501 of 528\r"
     ]
    },
    {
     "name": "stderr",
     "output_type": "stream",
     "text": [
      "[2025-01-12 09:16:57,845][850594287.py][line:22][INFO] Transcription of file Ses01F_impro06_F019.wav has been formatted\n",
      "[2025-01-12 09:16:57,846][850594287.py][line:23][INFO] ORIGINAL:  \n",
      "\n",
      "[2025-01-12 09:16:57,847][850594287.py][line:24][INFO] FORMATTED:  \n"
     ]
    },
    {
     "name": "stdout",
     "output_type": "stream",
     "text": [
      "File 502 of 528\r"
     ]
    },
    {
     "name": "stderr",
     "output_type": "stream",
     "text": [
      "[2025-01-12 09:16:59,178][850594287.py][line:22][INFO] Transcription of file Ses01F_impro06_F020.wav has been formatted\n",
      "[2025-01-12 09:16:59,181][850594287.py][line:23][INFO] ORIGINAL: It's weird whenever I go back to town, it's like I think of her. I mean it's like I mean we grew up together and uh she died when we were 21. And yeah, she had cancer. She had two brain tumors.\n",
      "\n",
      "[2025-01-12 09:16:59,183][850594287.py][line:24][INFO] FORMATTED: IT'S WEIRD WHENEVER I GO BACK TO TOWN  IT'S LIKE I THINK OF HER I MEAN IT'S LIKE I MEAN WE GREW UP TOGETHER AND UH SHE DIED WHEN WE WERE 21 AND YEAH  SHE HAD CANCER SHE HAD TWO BRAIN TUMORS \n"
     ]
    },
    {
     "name": "stdout",
     "output_type": "stream",
     "text": [
      "File 503 of 528\r"
     ]
    },
    {
     "name": "stderr",
     "output_type": "stream",
     "text": [
      "[2025-01-12 09:17:00,413][850594287.py][line:22][INFO] Transcription of file Ses01F_impro06_F021.wav has been formatted\n",
      "[2025-01-12 09:17:00,414][850594287.py][line:23][INFO] ORIGINAL: my best friend Heather. She's got a we have a we built this like little there's a park, Prospect Park and um there's like a garden section of it that we set up for her.\n",
      "\n",
      "[2025-01-12 09:17:00,415][850594287.py][line:24][INFO] FORMATTED: MY BEST FRIEND HEATHER SHE'S GOT A WE HAVE A WE BUILT THIS LIKE LITTLE THERE'S A PARK  PROSPECT PARK AND UM THERE'S LIKE A GARDEN SECTION OF IT THAT WE SET UP FOR HER \n"
     ]
    },
    {
     "name": "stdout",
     "output_type": "stream",
     "text": [
      "File 504 of 528\r"
     ]
    },
    {
     "name": "stderr",
     "output_type": "stream",
     "text": [
      "[2025-01-12 09:17:01,356][850594287.py][line:22][INFO] Transcription of file Ses01F_impro06_F022.wav has been formatted\n",
      "[2025-01-12 09:17:01,358][850594287.py][line:23][INFO] ORIGINAL: She used to have these poetry parties on Memorial Day.\n",
      "\n",
      "[2025-01-12 09:17:01,360][850594287.py][line:24][INFO] FORMATTED: SHE USED TO HAVE THESE POETRY PARTIES ON MEMORIAL DAY \n"
     ]
    },
    {
     "name": "stdout",
     "output_type": "stream",
     "text": [
      "File 505 of 528\r"
     ]
    },
    {
     "name": "stderr",
     "output_type": "stream",
     "text": [
      "[2025-01-12 09:17:02,153][850594287.py][line:22][INFO] Transcription of file Ses01F_impro06_F023.wav has been formatted\n",
      "[2025-01-12 09:17:02,155][850594287.py][line:23][INFO] ORIGINAL:  \n",
      "\n",
      "[2025-01-12 09:17:02,156][850594287.py][line:24][INFO] FORMATTED:   \n"
     ]
    },
    {
     "name": "stdout",
     "output_type": "stream",
     "text": [
      "File 506 of 528\r"
     ]
    },
    {
     "name": "stderr",
     "output_type": "stream",
     "text": [
      "[2025-01-12 09:17:03,091][850594287.py][line:22][INFO] Transcription of file Ses01F_impro06_F024.wav has been formatted\n",
      "[2025-01-12 09:17:03,093][850594287.py][line:23][INFO] ORIGINAL: And the last one before she died, I remember she couldn't really stand. Um\n",
      "\n",
      "[2025-01-12 09:17:03,093][850594287.py][line:24][INFO] FORMATTED: AND THE LAST ONE BEFORE SHE DIED  I REMEMBER SHE COULDN'T REALLY STAND UM \n"
     ]
    },
    {
     "name": "stdout",
     "output_type": "stream",
     "text": [
      "File 507 of 528\r"
     ]
    },
    {
     "name": "stderr",
     "output_type": "stream",
     "text": [
      "[2025-01-12 09:17:04,595][850594287.py][line:22][INFO] Transcription of file Ses01F_impro06_F025.wav has been formatted\n",
      "[2025-01-12 09:17:04,597][850594287.py][line:23][INFO] ORIGINAL: But I mean she could but it was so I was it was kind of sitting on her feet like holding her up and she had these poems she had memorized and I remember looking up she had curly red hair and there was this palm tree right behind her and it's like it was like a this crown you know growing overhead it's cool.\n",
      "\n",
      "[2025-01-12 09:17:04,598][850594287.py][line:24][INFO] FORMATTED: BUT I MEAN SHE COULD BUT IT WAS SO I WAS IT WAS KIND OF SITTING ON HER FEET LIKE HOLDING HER UP AND SHE HAD THESE POEMS SHE HAD MEMORIZED AND I REMEMBER LOOKING UP SHE HAD CURLY RED HAIR AND THERE WAS THIS PALM TREE RIGHT BEHIND HER AND IT'S LIKE IT WAS LIKE A THIS CROWN YOU KNOW GROWING OVERHEAD IT'S COOL \n"
     ]
    },
    {
     "name": "stdout",
     "output_type": "stream",
     "text": [
      "File 508 of 528\r"
     ]
    },
    {
     "name": "stderr",
     "output_type": "stream",
     "text": [
      "[2025-01-12 09:17:05,659][850594287.py][line:22][INFO] Transcription of file Ses01F_impro06_F026.wav has been formatted\n",
      "[2025-01-12 09:17:05,660][850594287.py][line:23][INFO] ORIGINAL: Some, I guess she she memorized this one John Donne. It's it's called Death be not proud. Um\n",
      "\n",
      "[2025-01-12 09:17:05,662][850594287.py][line:24][INFO] FORMATTED: SOME  I GUESS SHE SHE MEMORIZED THIS ONE JOHN DONNE IT'S IT'S CALLED DEATH BE NOT PROUD UM \n"
     ]
    },
    {
     "name": "stdout",
     "output_type": "stream",
     "text": [
      "File 509 of 528\r"
     ]
    },
    {
     "name": "stderr",
     "output_type": "stream",
     "text": [
      "[2025-01-12 09:17:06,620][850594287.py][line:22][INFO] Transcription of file Ses01F_impro06_F027.wav has been formatted\n",
      "[2025-01-12 09:17:06,621][850594287.py][line:23][INFO] ORIGINAL: There's another one.\n",
      "\n",
      "I can't remember.\n",
      "P\n",
      "\n",
      "[2025-01-12 09:17:06,622][850594287.py][line:24][INFO] FORMATTED: THERE'S ANOTHER ONE  I CAN'T REMEMBER P \n"
     ]
    },
    {
     "name": "stdout",
     "output_type": "stream",
     "text": [
      "File 510 of 528\r"
     ]
    },
    {
     "name": "stderr",
     "output_type": "stream",
     "text": [
      "[2025-01-12 09:17:08,288][850594287.py][line:22][INFO] Transcription of file Ses01F_impro06_F028.wav has been formatted\n",
      "[2025-01-12 09:17:08,290][850594287.py][line:23][INFO] ORIGINAL: I remember too when we were She died at UCLA and she was she had brain surgery and there wasn't much hope to begin with but um I gave blood for her surgery her mom and I before. So we dropped her off in the waiting room and then we were giving blood and came back and she's in her wheelchair like could hardly do anything reciting her poetry for these people like in the waiting room. Like she needs is a goddamn audience. You know.\n",
      "\n",
      "[2025-01-12 09:17:08,292][850594287.py][line:24][INFO] FORMATTED: I REMEMBER TOO WHEN WE WERE SHE DIED AT UCLA AND SHE WAS SHE HAD BRAIN SURGERY AND THERE WASN'T MUCH HOPE TO BEGIN WITH BUT UM I GAVE BLOOD FOR HER SURGERY HER MOM AND I BEFORE SO WE DROPPED HER OFF IN THE WAITING ROOM AND THEN WE WERE GIVING BLOOD AND CAME BACK AND SHE'S IN HER WHEELCHAIR LIKE COULD HARDLY DO ANYTHING RECITING HER POETRY FOR THESE PEOPLE LIKE IN THE WAITING ROOM LIKE SHE NEEDS IS A GODDAMN AUDIENCE YOU KNOW \n"
     ]
    },
    {
     "name": "stdout",
     "output_type": "stream",
     "text": [
      "File 511 of 528\r"
     ]
    },
    {
     "name": "stderr",
     "output_type": "stream",
     "text": [
      "[2025-01-12 09:17:09,108][850594287.py][line:22][INFO] Transcription of file Ses01F_impro01_F000.wav has been formatted\n",
      "[2025-01-12 09:17:09,110][850594287.py][line:23][INFO] ORIGINAL: Excuse me.\n",
      "\n",
      "[2025-01-12 09:17:09,111][850594287.py][line:24][INFO] FORMATTED: EXCUSE ME \n"
     ]
    },
    {
     "name": "stdout",
     "output_type": "stream",
     "text": [
      "File 512 of 528\r"
     ]
    },
    {
     "name": "stderr",
     "output_type": "stream",
     "text": [
      "[2025-01-12 09:17:09,749][850594287.py][line:22][INFO] Transcription of file Ses01F_impro01_F001.wav has been formatted\n",
      "[2025-01-12 09:17:09,750][850594287.py][line:23][INFO] ORIGINAL: Ja.\n",
      "\n",
      "[2025-01-12 09:17:09,751][850594287.py][line:24][INFO] FORMATTED: JA \n"
     ]
    },
    {
     "name": "stdout",
     "output_type": "stream",
     "text": [
      "File 513 of 528\r"
     ]
    },
    {
     "name": "stderr",
     "output_type": "stream",
     "text": [
      "[2025-01-12 09:17:10,624][850594287.py][line:22][INFO] Transcription of file Ses01F_impro01_F002.wav has been formatted\n",
      "[2025-01-12 09:17:10,627][850594287.py][line:23][INFO] ORIGINAL: Is there a problem?\n",
      "\n",
      "[2025-01-12 09:17:10,629][850594287.py][line:24][INFO] FORMATTED: IS THERE A PROBLEM  \n"
     ]
    },
    {
     "name": "stdout",
     "output_type": "stream",
     "text": [
      "File 514 of 528\r"
     ]
    },
    {
     "name": "stderr",
     "output_type": "stream",
     "text": [
      "[2025-01-12 09:17:11,532][850594287.py][line:22][INFO] Transcription of file Ses01F_impro01_F005.wav has been formatted\n",
      "[2025-01-12 09:17:11,532][850594287.py][line:23][INFO] ORIGINAL: Well, what's what's the problem? Let me change it.\n",
      "\n",
      "[2025-01-12 09:17:11,532][850594287.py][line:24][INFO] FORMATTED: WELL  WHAT'S WHAT'S THE PROBLEM  LET ME CHANGE IT \n"
     ]
    },
    {
     "name": "stdout",
     "output_type": "stream",
     "text": [
      "File 515 of 528\r"
     ]
    },
    {
     "name": "stderr",
     "output_type": "stream",
     "text": [
      "[2025-01-12 09:17:12,400][850594287.py][line:22][INFO] Transcription of file Ses01F_impro01_F012.wav has been formatted\n",
      "[2025-01-12 09:17:12,401][850594287.py][line:23][INFO] ORIGINAL: Fine. That's out of control.\n",
      "\n",
      "[2025-01-12 09:17:12,401][850594287.py][line:24][INFO] FORMATTED: FINE THAT'S OUT OF CONTROL \n"
     ]
    },
    {
     "name": "stdout",
     "output_type": "stream",
     "text": [
      "File 516 of 528\r"
     ]
    },
    {
     "name": "stderr",
     "output_type": "stream",
     "text": [
      "[2025-01-12 09:17:13,353][850594287.py][line:22][INFO] Transcription of file Ses01F_impro01_F014.wav has been formatted\n",
      "[2025-01-12 09:17:13,354][850594287.py][line:23][INFO] ORIGINAL: Clearly. You know, do you have like a supervisor or something? Yeah.  [static sound]\n",
      "\n",
      "[2025-01-12 09:17:13,355][850594287.py][line:24][INFO] FORMATTED: CLEARLY YOU KNOW  DO YOU HAVE LIKE A SUPERVISOR OR SOMETHING  YEAH   STATIC SOUND  \n"
     ]
    },
    {
     "name": "stdout",
     "output_type": "stream",
     "text": [
      "File 517 of 528\r"
     ]
    },
    {
     "name": "stderr",
     "output_type": "stream",
     "text": [
      "[2025-01-12 09:17:14,260][850594287.py][line:22][INFO] Transcription of file Ses01F_script03_1_F005.wav has been formatted\n",
      "[2025-01-12 09:17:14,261][850594287.py][line:23][INFO] ORIGINAL: It sends shivers up my spine.\n",
      "\n",
      "[2025-01-12 09:17:14,262][850594287.py][line:24][INFO] FORMATTED: IT SENDS SHIVERS UP MY SPINE \n"
     ]
    },
    {
     "name": "stdout",
     "output_type": "stream",
     "text": [
      "File 518 of 528\r"
     ]
    },
    {
     "name": "stderr",
     "output_type": "stream",
     "text": [
      "[2025-01-12 09:17:15,172][850594287.py][line:22][INFO] Transcription of file Ses01F_script03_1_F006.wav has been formatted\n",
      "[2025-01-12 09:17:15,174][850594287.py][line:23][INFO] ORIGINAL: We'll behave exquisitely.  Oh.  P p p\n",
      "\n",
      "[2025-01-12 09:17:15,175][850594287.py][line:24][INFO] FORMATTED: WE'LL BEHAVE EXQUISITELY  OH  P P P \n"
     ]
    },
    {
     "name": "stdout",
     "output_type": "stream",
     "text": [
      "File 519 of 528\r"
     ]
    },
    {
     "name": "stderr",
     "output_type": "stream",
     "text": [
      "[2025-01-12 09:17:16,054][850594287.py][line:22][INFO] Transcription of file Ses01F_script03_1_F007.wav has been formatted\n",
      "[2025-01-12 09:17:16,056][850594287.py][line:23][INFO] ORIGINAL: I think I shall do a court curtsy.\n",
      "(Sound of a curtsy)\n",
      "\n",
      "[2025-01-12 09:17:16,057][850594287.py][line:24][INFO] FORMATTED: I THINK I SHALL DO A COURT CURTSY  SOUND OF A CURTSY  \n"
     ]
    },
    {
     "name": "stdout",
     "output_type": "stream",
     "text": [
      "File 520 of 528\r"
     ]
    },
    {
     "name": "stderr",
     "output_type": "stream",
     "text": [
      "[2025-01-12 09:17:16,921][850594287.py][line:22][INFO] Transcription of file Ses01F_script03_1_F010.wav has been formatted\n",
      "[2025-01-12 09:17:16,923][850594287.py][line:23][INFO] ORIGINAL: Yes, meaning just that.\n",
      "Mm-hm.\n",
      "\n",
      "[2025-01-12 09:17:16,924][850594287.py][line:24][INFO] FORMATTED: YES  MEANING JUST THAT MM HM \n"
     ]
    },
    {
     "name": "stdout",
     "output_type": "stream",
     "text": [
      "File 521 of 528\r"
     ]
    },
    {
     "name": "stderr",
     "output_type": "stream",
     "text": [
      "[2025-01-12 09:17:17,891][850594287.py][line:22][INFO] Transcription of file Ses01F_script03_1_F011.wav has been formatted\n",
      "[2025-01-12 09:17:17,893][850594287.py][line:23][INFO] ORIGINAL: Don't laugh at me. I'm being serious.\n",
      "P-P-Please.\n",
      "\n",
      "[2025-01-12 09:17:17,895][850594287.py][line:24][INFO] FORMATTED: DON'T LAUGH AT ME I'M BEING SERIOUS P P PLEASE \n"
     ]
    },
    {
     "name": "stdout",
     "output_type": "stream",
     "text": [
      "File 522 of 528\r"
     ]
    },
    {
     "name": "stderr",
     "output_type": "stream",
     "text": [
      "[2025-01-12 09:17:18,540][850594287.py][line:22][INFO] Transcription of file Ses01F_script03_1_F012.wav has been formatted\n",
      "[2025-01-12 09:17:18,541][850594287.py][line:23][INFO] ORIGINAL: Whose day?\n",
      "\n",
      "[2025-01-12 09:17:18,542][850594287.py][line:24][INFO] FORMATTED: WHOSE DAY  \n"
     ]
    },
    {
     "name": "stdout",
     "output_type": "stream",
     "text": [
      "File 523 of 528\r"
     ]
    },
    {
     "name": "stderr",
     "output_type": "stream",
     "text": [
      "[2025-01-12 09:17:19,424][850594287.py][line:22][INFO] Transcription of file Ses01F_script03_1_F020.wav has been formatted\n",
      "[2025-01-12 09:17:19,425][850594287.py][line:23][INFO] ORIGINAL: out of school children.\n",
      "\n",
      "[2025-01-12 09:17:19,425][850594287.py][line:24][INFO] FORMATTED: OUT OF SCHOOL CHILDREN \n"
     ]
    },
    {
     "name": "stdout",
     "output_type": "stream",
     "text": [
      "File 524 of 528\r"
     ]
    },
    {
     "name": "stderr",
     "output_type": "stream",
     "text": [
      "[2025-01-12 09:17:20,344][850594287.py][line:22][INFO] Transcription of file Ses01F_script03_1_F021.wav has been formatted\n",
      "[2025-01-12 09:17:20,345][850594287.py][line:23][INFO] ORIGINAL: Oh, Elliot. Worms don't pop.\n",
      "\n",
      "[2025-01-12 09:17:20,346][850594287.py][line:24][INFO] FORMATTED: OH  ELLIOT WORMS DON'T POP \n",
      "[2025-01-12 09:17:20,347][2649188033.py][line:47][INFO] ------ Gemini API Usage Metrics ------\n",
      "[2025-01-12 09:17:20,349][2649188033.py][line:48][INFO] [Files Processed] 525 of 528\n",
      "[2025-01-12 09:17:20,350][2649188033.py][line:49][INFO] [Total Tokens] 270994\n",
      "[2025-01-12 09:17:20,350][2649188033.py][line:50][INFO] --------------------------------------\n"
     ]
    },
    {
     "name": "stdout",
     "output_type": "stream",
     "text": [
      "File 525 of 528\r"
     ]
    },
    {
     "name": "stderr",
     "output_type": "stream",
     "text": [
      "[2025-01-12 09:17:26,434][850594287.py][line:22][INFO] Transcription of file Ses01F_script03_1_F022.wav has been formatted\n",
      "[2025-01-12 09:17:26,435][850594287.py][line:23][INFO] ORIGINAL: Oh, thank you, darling.  The same applies to you too. Except that if you so much as look at another woman, I'll kill you.\n",
      "\n",
      "[2025-01-12 09:17:26,435][850594287.py][line:24][INFO] FORMATTED: OH  THANK YOU  DARLING  THE SAME APPLIES TO YOU TOO EXCEPT THAT IF YOU SO MUCH AS LOOK AT ANOTHER WOMAN  I'LL KILL YOU \n"
     ]
    },
    {
     "name": "stdout",
     "output_type": "stream",
     "text": [
      "File 526 of 528\r"
     ]
    },
    {
     "name": "stderr",
     "output_type": "stream",
     "text": [
      "[2025-01-12 09:17:27,397][850594287.py][line:22][INFO] Transcription of file Ses01F_script03_1_F024.wav has been formatted\n",
      "[2025-01-12 09:17:27,398][850594287.py][line:23][INFO] ORIGINAL: Oh, Charles! Ooh, that was his name. He did wiggle so beautifully.\n",
      "\n",
      "[2025-01-12 09:17:27,399][850594287.py][line:24][INFO] FORMATTED: OH  CHARLES  OOH  THAT WAS HIS NAME HE DID WIGGLE SO BEAUTIFULLY \n"
     ]
    },
    {
     "name": "stdout",
     "output_type": "stream",
     "text": [
      "File 527 of 528\r"
     ]
    },
    {
     "name": "stderr",
     "output_type": "stream",
     "text": [
      "[2025-01-12 09:17:28,587][850594287.py][line:22][INFO] Transcription of file Ses01F_script03_1_F029.wav has been formatted\n",
      "[2025-01-12 09:17:28,589][850594287.py][line:23][INFO] ORIGINAL: The manager came in. He found us rolling about the floor, biting and scratching like panthers!  Oh! I'll never forget it. How utterly, utterly ridiculous!  Ppppppp\n",
      "\n",
      "[2025-01-12 09:17:28,591][850594287.py][line:24][INFO] FORMATTED: THE MANAGER CAME IN HE FOUND US ROLLING ABOUT THE FLOOR  BITING AND SCRATCHING LIKE PANTHERS   OH  I'LL NEVER FORGET IT HOW UTTERLY  UTTERLY RIDICULOUS   PPPPPPP \n"
     ]
    },
    {
     "name": "stdout",
     "output_type": "stream",
     "text": [
      "File 528 of 528\r"
     ]
    },
    {
     "name": "stderr",
     "output_type": "stream",
     "text": [
      "[2025-01-12 09:17:29,522][850594287.py][line:22][INFO] Transcription of file Ses01F_script03_1_F030.wav has been formatted\n",
      "[2025-01-12 09:17:29,524][850594287.py][line:23][INFO] ORIGINAL: We were very much younger then.  Mm, and very much sillier.\n",
      "\n",
      "[2025-01-12 09:17:29,525][850594287.py][line:24][INFO] FORMATTED: WE WERE VERY MUCH YOUNGER THEN  MM  AND VERY MUCH SILLIER \n",
      "[2025-01-12 09:17:29,526][2649188033.py][line:54][INFO] Done processing 528 files\n",
      "[2025-01-12 09:17:29,527][2649188033.py][line:56][INFO] ------ Gemini API Usage Metrics ------\n",
      "[2025-01-12 09:17:29,528][2649188033.py][line:57][INFO] [Files Processed] 528 of 528\n",
      "[2025-01-12 09:17:29,529][2649188033.py][line:58][INFO] [Total Tokens] 272338\n",
      "[2025-01-12 09:17:29,530][2649188033.py][line:59][INFO] --------------------------------------\n",
      "[2025-01-12 09:17:29,534][2649188033.py][line:70][INFO] Transcriptions saved to ./fold_0\\transcriptions.csv\n"
     ]
    },
    {
     "data": {
      "text/plain": [
       "'./fold_0\\\\transcriptions.csv'"
      ]
     },
     "execution_count": 18,
     "metadata": {},
     "output_type": "execute_result"
    }
   ],
   "source": [
    "predict(test_dataframe)"
   ]
  },
  {
   "cell_type": "markdown",
   "id": "7dca6e4d-8bcf-4a31-82d9-81a559502279",
   "metadata": {},
   "source": [
    "## Convert CSV into TXT file\n",
    "- Optional step to convert into TXT file for use in compute_wer.py\n",
    "- This function can also be found in notebooks/TranscriptionFormatter.ipynb, where you can optionaly convert each fold at once"
   ]
  },
  {
   "cell_type": "code",
   "execution_count": 19,
   "id": "8bc49d59-cbca-4eb4-86fb-8cfd0ca9e731",
   "metadata": {
    "tags": []
   },
   "outputs": [],
   "source": [
    "# Input and output file paths\n",
    "input_csv = CSV_FILEPATH  # Replace with your CSV file path\n",
    "output_txt = OUTPUT_FOLDER + \"/transcriptions.txt\"  # Replace with your desired TXT file path"
   ]
  },
  {
   "cell_type": "code",
   "execution_count": 20,
   "id": "26b55b66-748b-4b51-8963-d3654712af37",
   "metadata": {
    "tags": []
   },
   "outputs": [
    {
     "name": "stdout",
     "output_type": "stream",
     "text": [
      "Converted and formatted ./fold_0\\transcriptions.csv to ./fold_0/transcriptions.txt for use in computing word error rate.\n"
     ]
    }
   ],
   "source": [
    "# Open the CSV file and read its content\n",
    "def convert_csv_to_txt(input_csv, output_txt):\n",
    "    with open(input_csv, mode=\"r\", encoding=\"utf-8\") as csv_file:\n",
    "        csv_reader = csv.reader(csv_file)\n",
    "        header = next(csv_reader, None)  # Skip header if present\n",
    "        with open(output_txt, mode=\"w\", encoding=\"utf-8\") as txt_file:\n",
    "            for row in csv_reader:\n",
    "                # Combine ID and Transcript with a space separator\n",
    "                txt_file.write(f\"{row[0]} {row[1]}\\n\")\n",
    "    \n",
    "convert_csv_to_txt(input_csv, output_txt)\n",
    "print(f\"Converted and formatted {input_csv} to {output_txt} for use in computing word error rate.\")"
   ]
  },
  {
   "cell_type": "code",
   "execution_count": null,
   "id": "056fcc4c-fc56-449e-84b3-a9e941bd1eda",
   "metadata": {},
   "outputs": [],
   "source": []
  }
 ],
 "metadata": {
  "colab": {
   "provenance": []
  },
  "kaggle": {
   "accelerator": "gpu",
   "dataSources": [
    {
     "datasetId": 5782060,
     "sourceId": 9500890,
     "sourceType": "datasetVersion"
    }
   ],
   "dockerImageVersionId": 30787,
   "isGpuEnabled": true,
   "isInternetEnabled": true,
   "language": "python",
   "sourceType": "notebook"
  },
  "kernelspec": {
   "display_name": "AAI3001",
   "language": "python",
   "name": "aai3001"
  },
  "language_info": {
   "codemirror_mode": {
    "name": "ipython",
    "version": 3
   },
   "file_extension": ".py",
   "mimetype": "text/x-python",
   "name": "python",
   "nbconvert_exporter": "python",
   "pygments_lexer": "ipython3",
   "version": "3.11.9"
  }
 },
 "nbformat": 4,
 "nbformat_minor": 5
}
