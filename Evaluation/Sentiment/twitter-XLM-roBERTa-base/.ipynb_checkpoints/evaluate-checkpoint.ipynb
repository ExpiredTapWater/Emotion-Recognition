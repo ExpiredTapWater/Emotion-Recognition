{
 "cells": [
  {
   "cell_type": "markdown",
   "id": "c3c9b5c9",
   "metadata": {
    "id": "e36c34af-36e8-483f-90dd-bc10634ebbd2",
    "tags": []
   },
   "source": [
    "## Evaluate.ipynb\n",
    "#### **This notebook evaluates the accuracy of just one model on the IEMOCAP dataset ground truths.**\n",
    "\n",
    "- **Sentiment Analysis Model:** twitter-xlm-roberta-base-sentiment\n",
    "- Source: [HuggingFace](https://huggingface.co/cardiffnlp/twitter-xlm-roberta-base-sentiment)"
   ]
  },
  {
   "cell_type": "markdown",
   "id": "762d5995-95fe-4940-b295-6ab91c446e5c",
   "metadata": {},
   "source": [
    "## Setup"
   ]
  },
  {
   "cell_type": "code",
   "execution_count": 1,
   "id": "8e5a7c08-977d-4a8a-a568-77c2e0e4f3e3",
   "metadata": {
    "tags": []
   },
   "outputs": [],
   "source": [
    "# Run\n",
    "SEED = 22\n",
    "FOLD = 0\n",
    "\n",
    "# Models\n",
    "SENTIMENT_MODEL_NAME = \"cardiffnlp/twitter-xlm-roberta-base-sentiment\"\n",
    "\n",
    "# Flag to enable parsing of arguments when converted to script. Set true after converting\n",
    "PYTHON_SCRIPT = False"
   ]
  },
  {
   "cell_type": "markdown",
   "id": "ff70c4e7-5e32-4986-a455-f5a3a418c23d",
   "metadata": {},
   "source": [
    "### For Conversion to .py file"
   ]
  },
  {
   "cell_type": "code",
   "execution_count": 2,
   "id": "84caad03-99aa-4882-adf4-8fbe3814274e",
   "metadata": {
    "tags": []
   },
   "outputs": [],
   "source": [
    "if PYTHON_SCRIPT:\n",
    "\n",
    "    import argparse\n",
    "\n",
    "    parser = argparse.ArgumentParser(description=\"\")\n",
    "    parser.add_argument('--seed',default=2021,type=int)\n",
    "    parser.add_argument('--fold',type=int,required=True)\n",
    "    parser.add_argument('--remap',type=bool,required=True)\n",
    "    parser.add_argument('--threshold',type=float,required=False)\n",
    "    parser.add_argument('--mode',required=False)\n",
    "    parser.add_argument('--flip',type=bool,required=False)\n",
    "\n",
    "    # Parse the arguments\n",
    "    args = parser.parse_args()\n",
    "\n",
    "    # Run\n",
    "    SEED = args.seed\n",
    "    FOLD = args.fold\n",
    "    RUN_REMAP = args.remap\n",
    "    THRESHOLD = args.threshold\n",
    "    MODE = args.mode\n",
    "    FLIP = args.flip"
   ]
  },
  {
   "cell_type": "markdown",
   "id": "db721380-60d5-483f-9f9b-1875e0e60f02",
   "metadata": {},
   "source": [
    "## Folders"
   ]
  },
  {
   "cell_type": "code",
   "execution_count": 3,
   "id": "d087cd01-1606-4f7d-9429-fb65c993bead",
   "metadata": {},
   "outputs": [],
   "source": [
    "# Filepaths\n",
    "OUTPUT_FOLDER = f'./fold_{FOLD}'\n",
    "LOG_OUTPUT = OUTPUT_FOLDER + f'/fold-{FOLD}.log'"
   ]
  },
  {
   "cell_type": "markdown",
   "id": "047ef850-ad41-4b4c-8405-8b3b22439c9a",
   "metadata": {},
   "source": [
    "### Dataset Setup"
   ]
  },
  {
   "cell_type": "code",
   "execution_count": 4,
   "id": "e92e09ae-fe0b-447f-9678-77282bb60986",
   "metadata": {
    "tags": []
   },
   "outputs": [],
   "source": [
    "# Dataset\n",
    "TSV = r'C:\\Users\\ChenYi\\Downloads\\AAI3001_Project\\labels\\IEMOCAP_4.tsv'\n",
    "AUDIO_DIRECTORY = r'C:\\Users\\ChenYi\\Downloads\\AAI3001_Project\\small-project\\IEMOCAP_full_release_audio'\n",
    "\n",
    "# Contains the correct transcription provided by the IEMOCAP dataset\n",
    "GROUND_TRUTH = './groundtruth_IEMOCAP.csv'\n",
    "\n",
    "# Contains the correct emotions (A, H, S, N) remapped to positive, negative and neutral\n",
    "REMAPPED_EMOTIONS = './sentiment_truths_IEMOCAP.csv'"
   ]
  },
  {
   "cell_type": "markdown",
   "id": "8ac7ea56-ea7b-4b0d-81cf-a6c68103e19a",
   "metadata": {},
   "source": [
    "#### Select GPUs (For multi-GPU setup)"
   ]
  },
  {
   "cell_type": "code",
   "execution_count": 5,
   "id": "6f1b3fa1-bb3b-4a9c-87a4-b8207d435c66",
   "metadata": {
    "tags": []
   },
   "outputs": [],
   "source": [
    "import os\n",
    "#os.environ[\"CUDA_VISIBLE_DEVICES\"] = \"0\""
   ]
  },
  {
   "cell_type": "markdown",
   "id": "a8a33d95-e2c5-4ae9-8fb7-de5e59583b11",
   "metadata": {},
   "source": [
    "### Logger"
   ]
  },
  {
   "cell_type": "code",
   "execution_count": 6,
   "id": "5f7f24d2-fcbd-4ad4-8eef-2459cd582cf6",
   "metadata": {
    "tags": []
   },
   "outputs": [],
   "source": [
    "import logging\n",
    "def get_logger(filename, verbosity=1, name=None):\n",
    "    level_dict = {0: logging.DEBUG, 1: logging.INFO, 2: logging.WARNING}\n",
    "    formatter = logging.Formatter(\"[%(asctime)s][%(filename)s][line:%(lineno)d][%(levelname)s] %(message)s\")\n",
    "    logger = logging.getLogger(name)\n",
    "    logger.setLevel(level_dict[verbosity])\n",
    "\n",
    "    fh = logging.FileHandler(filename, \"w\")\n",
    "    fh.setFormatter(formatter)                                                                                                                                                                                     \n",
    "    logger.addHandler(fh)                                                                                                                                                                                          \n",
    "                                                                                                                                                                                                                   \n",
    "    sh = logging.StreamHandler()                                                                                                                                                                                   \n",
    "    sh.setFormatter(formatter)                                                                                                                                                                                     \n",
    "    logger.addHandler(sh)                                                                                                                                                                                          \n",
    "                                                                                                                                                                                                                   \n",
    "    return logger\n",
    "os.makedirs(OUTPUT_FOLDER, exist_ok=True)\n",
    "logger = get_logger(LOG_OUTPUT)"
   ]
  },
  {
   "cell_type": "markdown",
   "id": "80fb0903",
   "metadata": {},
   "source": [
    "### NLP Preprocessing Settings"
   ]
  },
  {
   "cell_type": "code",
   "execution_count": 7,
   "id": "42a1ec30",
   "metadata": {},
   "outputs": [],
   "source": [
    "APPLY_NLP_PREPROCESS = True\n",
    "APPLY_CONTRACTIONS = True\n",
    "APPLY_LEMMANTIZATION = True\n",
    "APPLY_REMOVE_STOPWORDS = False\n",
    "APPLY_REMOVE_NUMBERS = True  "
   ]
  },
  {
   "cell_type": "markdown",
   "id": "f0a8d000",
   "metadata": {
    "tags": []
   },
   "source": [
    "### For Cloud Instances\n",
    "Run the following to install required libraries"
   ]
  },
  {
   "cell_type": "code",
   "execution_count": 8,
   "id": "a652bc8a-5ed5-4820-b30e-575770e45eb8",
   "metadata": {
    "tags": []
   },
   "outputs": [],
   "source": [
    "CLOUD = False"
   ]
  },
  {
   "cell_type": "code",
   "execution_count": 9,
   "id": "60b787c8",
   "metadata": {
    "tags": []
   },
   "outputs": [],
   "source": [
    "if CLOUD:\n",
    "    !pip install contractions\n",
    "    !pip install clean-text\n",
    "    !pip install nltk\n",
    "    !python -m spacy download en_core_web_sm"
   ]
  },
  {
   "cell_type": "markdown",
   "id": "d82081a9",
   "metadata": {
    "tags": []
   },
   "source": [
    "## Imports"
   ]
  },
  {
   "cell_type": "code",
   "execution_count": 10,
   "id": "660f7aab",
   "metadata": {
    "tags": []
   },
   "outputs": [
    {
     "name": "stderr",
     "output_type": "stream",
     "text": [
      "[2025-01-30 15:35:23,198][config.py][line:54][INFO] PyTorch version 2.4.1+cu124 available.\n",
      "[2025-01-30 15:35:23,200][config.py][line:101][INFO] TensorFlow version 2.18.0 available.\n"
     ]
    }
   ],
   "source": [
    "import csv\n",
    "import torch\n",
    "import random\n",
    "import librosa\n",
    "import torchaudio\n",
    "import contractions\n",
    "import torch.nn as nn\n",
    "import pandas as pd\n",
    "import numpy as np\n",
    "import seaborn as sns\n",
    "import matplotlib.pyplot as plt\n",
    "from datasets import Dataset, DatasetDict\n",
    "from torchaudio import functional as audioF\n",
    "from torchaudio.transforms import Resample\n",
    "from torchaudio.compliance import kaldi\n",
    "from torch.utils.data import Dataset, DataLoader\n",
    "#from transformers import EarlyStoppingCallback, AdamW, get_scheduler\n",
    "from transformers import pipeline\n",
    "from sklearn.metrics import confusion_matrix, classification_report, recall_score, accuracy_score\n",
    "\n",
    "# NLP Stuff\n",
    "import spacy\n",
    "import string\n",
    "from nltk.corpus import stopwords\n",
    "nlp = spacy.load(\"en_core_web_sm\")\n",
    "mapping = str.maketrans('', '', string.digits) # table to remove strings"
   ]
  },
  {
   "cell_type": "markdown",
   "id": "eef8b369-7fd3-443b-9a26-e6a28105a53d",
   "metadata": {},
   "source": [
    "### Log Details"
   ]
  },
  {
   "cell_type": "code",
   "execution_count": 11,
   "id": "ac69e0d8-3126-4103-97cb-a3d26342ff8f",
   "metadata": {},
   "outputs": [
    {
     "name": "stderr",
     "output_type": "stream",
     "text": [
      "[2025-01-30 15:35:29,286][1328932871.py][line:1][INFO] ----- Models -----\n",
      "[2025-01-30 15:35:29,287][1328932871.py][line:2][INFO] Sentiment Model: cardiffnlp/twitter-xlm-roberta-base-sentiment\n",
      "[2025-01-30 15:35:29,288][1328932871.py][line:3][INFO] ----- Parameters -----\n",
      "[2025-01-30 15:35:29,288][1328932871.py][line:4][INFO] Seed: 22\n",
      "[2025-01-30 15:35:29,289][1328932871.py][line:5][INFO] Fold: 0\n",
      "[2025-01-30 15:35:29,290][1328932871.py][line:7][INFO] ----- NLP Options -----\n",
      "[2025-01-30 15:35:29,291][1328932871.py][line:9][INFO] Apply Preprocessing: YES\n",
      "[2025-01-30 15:35:29,292][1328932871.py][line:10][INFO] Remove Contractions: True\n",
      "[2025-01-30 15:35:29,293][1328932871.py][line:11][INFO] Apply Lemmantization: True\n",
      "[2025-01-30 15:35:29,294][1328932871.py][line:12][INFO] Remove Numbers: True\n",
      "[2025-01-30 15:35:29,294][1328932871.py][line:13][INFO] Remove Stopwords: False\n",
      "[2025-01-30 15:35:29,296][1328932871.py][line:16][INFO] --------------------\n"
     ]
    }
   ],
   "source": [
    "logger.info(\"----- Models -----\")\n",
    "logger.info(f\"Sentiment Model: {SENTIMENT_MODEL_NAME}\")\n",
    "logger.info(\"----- Parameters -----\")\n",
    "logger.info(f\"Seed: {SEED}\")\n",
    "logger.info(f\"Fold: {FOLD}\")\n",
    "\n",
    "logger.info(\"----- NLP Options -----\")\n",
    "if APPLY_NLP_PREPROCESS:\n",
    "    logger.info(f\"Apply Preprocessing: YES\")\n",
    "    logger.info(f\"Remove Contractions: {APPLY_CONTRACTIONS}\")\n",
    "    logger.info(f\"Apply Lemmantization: {APPLY_LEMMANTIZATION}\")\n",
    "    logger.info(f\"Remove Numbers: {APPLY_REMOVE_NUMBERS}\")\n",
    "    logger.info(f\"Remove Stopwords: {APPLY_REMOVE_STOPWORDS}\") \n",
    "else:\n",
    "    logger.info(f\"Apply Preprocessing: NO\")\n",
    "logger.info(\"--------------------\")"
   ]
  },
  {
   "cell_type": "markdown",
   "id": "c27fdb02",
   "metadata": {
    "tags": []
   },
   "source": [
    "### Provided Code"
   ]
  },
  {
   "cell_type": "code",
   "execution_count": 12,
   "id": "35e38f84",
   "metadata": {
    "tags": []
   },
   "outputs": [],
   "source": [
    "class Pad_trunc_wav(nn.Module):\n",
    "    def __init__(self, max_len: int = 6*16000):\n",
    "        super(Pad_trunc_wav, self).__init__()\n",
    "        self.max_len = max_len\n",
    "    def forward(self,x):\n",
    "        shape = x.shape\n",
    "        length = shape[1]\n",
    "        if length < self.max_len:\n",
    "            multiple = self.max_len//length+1\n",
    "            x_tmp = torch.cat((x,)*multiple, axis=1)\n",
    "            x_new = x_tmp[:,0:self.max_len]\n",
    "        else:\n",
    "            x_new = x[:,0:self.max_len]\n",
    "        return x_new"
   ]
  },
  {
   "cell_type": "code",
   "execution_count": 13,
   "id": "f43f2cd5",
   "metadata": {},
   "outputs": [],
   "source": [
    "def setup_seed(seed=2021):\n",
    "    torch.manual_seed(seed)\n",
    "    torch.cuda.manual_seed(seed)\n",
    "    torch.cuda.manual_seed_all(seed)\n",
    "    np.random.seed(seed)\n",
    "    random.seed(seed)\n",
    "    torch.backends.cudnn.benchmark = False\n",
    "    torch.backends.cudnn.deterministic = True\n",
    "setup_seed(SEED)"
   ]
  },
  {
   "cell_type": "markdown",
   "id": "891d83f6",
   "metadata": {},
   "source": [
    "### Download Required Models"
   ]
  },
  {
   "cell_type": "code",
   "execution_count": 14,
   "id": "37f3603e",
   "metadata": {
    "tags": []
   },
   "outputs": [
    {
     "name": "stderr",
     "output_type": "stream",
     "text": [
      "[2025-01-30 15:35:32,193][module_wrapper.py][line:149][WARNING] From C:\\Users\\ChenYi\\anaconda3\\envs\\aai3001\\Lib\\site-packages\\tf_keras\\src\\losses.py:2976: The name tf.losses.sparse_softmax_cross_entropy is deprecated. Please use tf.compat.v1.losses.sparse_softmax_cross_entropy instead.\n",
      "\n",
      "C:\\Users\\ChenYi\\anaconda3\\envs\\aai3001\\Lib\\site-packages\\transformers\\tokenization_utils_base.py:1617: FutureWarning: `clean_up_tokenization_spaces` was not set. It will be set to `True` by default. This behavior will be deprecated in transformers v4.45, and will be then set to `False` by default. For more details check this issue: https://github.com/huggingface/transformers/issues/31884\n",
      "  warnings.warn(\n",
      "[2025-01-30 15:35:35,744][3134409386.py][line:7][INFO] Sentiment model loaded from cardiffnlp/twitter-xlm-roberta-base-sentiment successfully\n"
     ]
    }
   ],
   "source": [
    "# Load sentiment analysis model\n",
    "sentiment_task = pipeline(\"sentiment-analysis\",\n",
    "                          model=SENTIMENT_MODEL_NAME,\n",
    "                          tokenizer=SENTIMENT_MODEL_NAME,\n",
    "                          device=0)\n",
    "\n",
    "logger.info(F\"Sentiment model loaded from {SENTIMENT_MODEL_NAME} successfully\")"
   ]
  },
  {
   "cell_type": "markdown",
   "id": "801f27fe",
   "metadata": {
    "tags": []
   },
   "source": [
    "## Dataset & Loading"
   ]
  },
  {
   "cell_type": "code",
   "execution_count": 15,
   "id": "517aad18",
   "metadata": {
    "tags": []
   },
   "outputs": [],
   "source": [
    "class Mydataset(Dataset):\n",
    "    def __init__(self, mode='train', max_len=6, seed=2021, fold=0, data_path=TSV, audio_dir=AUDIO_DIRECTORY):\n",
    "        self.mode = mode\n",
    "        data_all = pd.read_csv(data_path, sep='\\t')\n",
    "        SpkNames = np.unique(data_all['speaker'])  # ['Ses01F', 'Ses01M', ..., 'Ses05M']\n",
    "        self.data_info = self.split_dataset(data_all, fold, SpkNames, mode)\n",
    "        self.get_audio_dir_path = os.path.join(audio_dir)\n",
    "        self.pad_trunc = Pad_trunc_wav(max_len * 16000)\n",
    "         \n",
    "        # Label encoding\n",
    "        self.label = self.data_info['label'].astype('category').cat.codes.values\n",
    "        self.ClassNames = np.unique(self.data_info['label'])\n",
    "        self.NumClasses = len(self.ClassNames)\n",
    "        #if mode == 'train':\n",
    "        #    print(\"Each emotion has the following number of training samples:\")\n",
    "        #    print([[self.ClassNames[i], (self.label == i).sum()] for i in range(self.NumClasses)])\n",
    "        self.weight = 1 / torch.tensor([(self.label == i).sum() for i in range(self.NumClasses)]).float()\n",
    "\n",
    "    def get_classname(self):\n",
    "        return self.ClassNames\n",
    "    \n",
    "    # Updated split_dataset function using fold\n",
    "    \n",
    "    def split_dataset(self, df_all, fold, speakers, mode):\n",
    "        \n",
    "        spk_len = len(speakers)\n",
    "        #test_idx = np.array(df_all['speaker']==speakers[fold*2%spk_len])+np.array(df_all['speaker']==speakers[(fold*2+1)%spk_len])\n",
    "        #val_idx = np.array(df_all['speaker']==speakers[(fold*2-2)%spk_len])+np.array(df_all['speaker']==speakers[(fold*2-1)%spk_len])\n",
    "        #train_idx = True^(test_idx+val_idx)\n",
    "        #train_idx = True^test_idx\n",
    "        test_idx = np.array(df_all['speaker']==speakers[fold%spk_len])\n",
    "        if fold%2==0:\n",
    "            val_idx = np.array(df_all['speaker']==speakers[(fold+1)%spk_len])\n",
    "        else:\n",
    "            val_idx = np.array(df_all['speaker']==speakers[(fold-1)%spk_len])\n",
    "        train_idx = True^(test_idx+val_idx)\n",
    "        train_data_info = df_all[train_idx].reset_index(drop=True)\n",
    "        val_data_info = df_all[val_idx].reset_index(drop=True)\n",
    "        test_data_info = df_all[test_idx].reset_index(drop=True)\n",
    "        #val_data_info = test_data_info = df_all[test_idx].reset_index(drop=True)\n",
    "        if self.mode == 'train':\n",
    "            data_info = train_data_info\n",
    "        elif self.mode == 'val':\n",
    "            data_info = val_data_info\n",
    "        elif self.mode == 'test':\n",
    "            data_info = test_data_info\n",
    "        else:\n",
    "            data_info = df_all\n",
    "        \n",
    "        logger.info(f\"Mode: {mode} Fold: {fold}\")\n",
    "        return data_info\n",
    "\n",
    "    def pre_process(self, wav):\n",
    "        \n",
    "        if self.mode == 'test': \n",
    "            return wav\n",
    "        else:\n",
    "            wav = self.pad_trunc(wav)\n",
    "            return wav\n",
    "\n",
    "    def __len__(self):\n",
    "        return len(self.data_info)\n",
    "\n",
    "    def __getitem__(self, idx):\n",
    "        # Load the raw waveform from file using data_info to get filenames\n",
    "        wav_path = os.path.join(self.get_audio_dir_path, self.data_info['filename'][idx]) + '.wav'\n",
    "        wav, sample_rate = torchaudio.load(wav_path)\n",
    "\n",
    "        # Preprocess the waveform (e.g., pad/truncate if needed)\n",
    "        wav = self.pre_process(wav)\n",
    "\n",
    "        # Apply Wav2Vec2 feature extractor\n",
    "        inputs = feature_extractor(\n",
    "            wav.squeeze().numpy(),  # Convert PyTorch tensor to numpy array\n",
    "            sampling_rate=sample_rate,\n",
    "            return_tensors=\"pt\",  # Return PyTorch tensors\n",
    "            padding=True  # Optionally pad to a fixed length\n",
    "        )\n",
    "\n",
    "        label = self.label[idx]\n",
    "\n",
    "        # Return the processed input values and the label\n",
    "        return {\n",
    "            'input_values': inputs['input_values'].squeeze(0),  # Remove extra batch dimension\n",
    "            'labels': torch.tensor(label, dtype=torch.long)}"
   ]
  },
  {
   "cell_type": "code",
   "execution_count": 16,
   "id": "151f91e2",
   "metadata": {
    "tags": []
   },
   "outputs": [
    {
     "name": "stderr",
     "output_type": "stream",
     "text": [
      "[2025-01-30 15:35:35,785][4069662282.py][line:50][INFO] Mode: train Fold: 0\n",
      "[2025-01-30 15:35:35,797][4069662282.py][line:50][INFO] Mode: val Fold: 0\n",
      "[2025-01-30 15:35:35,809][4069662282.py][line:50][INFO] Mode: test Fold: 0\n",
      "[2025-01-30 15:35:35,810][1194672651.py][line:6][INFO] Dataset Loaded\n"
     ]
    }
   ],
   "source": [
    "# Instantiate datasets\n",
    "train_dataset = Mydataset(mode='train', max_len=6, fold=FOLD)\n",
    "val_dataset = Mydataset(mode='val', max_len=6, fold=FOLD)\n",
    "test_dataset = Mydataset(mode='test', max_len=6, fold=FOLD)\n",
    "\n",
    "logger.info(\"Dataset Loaded\")"
   ]
  },
  {
   "cell_type": "code",
   "execution_count": 17,
   "id": "695388a3",
   "metadata": {
    "tags": []
   },
   "outputs": [],
   "source": [
    "# Put test information into a dataframe for later use\n",
    "data_info = test_dataset.data_info\n",
    "test_dataframe = data_info[['filename', 'label']].copy()\n",
    "test_dataframe['filepath'] = test_dataframe['filename'].apply(\n",
    "    lambda x: os.path.join(test_dataset.get_audio_dir_path, f\"{x}.wav\"))"
   ]
  },
  {
   "cell_type": "markdown",
   "id": "70f64dd6",
   "metadata": {
    "tags": []
   },
   "source": [
    "### Run Model Prediction"
   ]
  },
  {
   "cell_type": "markdown",
   "id": "61ff778d",
   "metadata": {},
   "source": [
    "#### Clean and preprocess text for sentiment analysis\n",
    "    * Expanding contractions\n",
    "    * Removing punctuations\n",
    "    * Lemmatizing text\n",
    "    * Lowercasing\n",
    "    * Remove Numbers\n",
    "    * Removing stopwords"
   ]
  },
  {
   "cell_type": "code",
   "execution_count": 18,
   "id": "ffc4c8f9",
   "metadata": {},
   "outputs": [],
   "source": [
    "def NLP_Preprocess(string):\n",
    "    \n",
    "    # Check if function should run\n",
    "    if APPLY_NLP_PREPROCESS:\n",
    "     \n",
    "        output = string\n",
    "\n",
    "        if APPLY_CONTRACTIONS:\n",
    "            \n",
    "            # Expand Contractions\n",
    "            words = string.split()\n",
    "            output = [contractions.fix(word) for word in words]\n",
    "            output = ' '.join(output)\n",
    "            \n",
    "        if APPLY_LEMMANTIZATION:\n",
    "\n",
    "            doc = nlp(string)\n",
    "            output = \" \".join([token.lemma_ for token in doc])\n",
    "            \n",
    "        if APPLY_REMOVE_NUMBERS:\n",
    "\n",
    "            # Remove Numbers\n",
    "            output = output.translate(mapping)\n",
    "            \n",
    "        if APPLY_REMOVE_STOPWORDS:\n",
    "\n",
    "            # Result show this reduces over accuracy\n",
    "            doc = nlp(string)\n",
    "            output = [token.text for token in doc if not token.is_stop]\n",
    "            output= ' '.join(output)\n",
    "\n",
    "        return output.lower()\n",
    "    \n",
    "    else:\n",
    "        return string\n",
    "    "
   ]
  },
  {
   "cell_type": "markdown",
   "id": "f6b48ec1-33ab-4491-b762-63f7bdc458f0",
   "metadata": {},
   "source": [
    "## Obtain Predictions"
   ]
  },
  {
   "cell_type": "code",
   "execution_count": 19,
   "id": "a5f08729-d138-40f5-a5e1-c298e83af36f",
   "metadata": {
    "tags": []
   },
   "outputs": [],
   "source": [
    "def predict(test_dataframe):\n",
    "    # Load ground truths\n",
    "    ground_truths = pd.read_csv(GROUND_TRUTH)\n",
    "\n",
    "    results = []\n",
    "    total = test_dataframe.shape[0]\n",
    "    count = 1\n",
    "\n",
    "    # Iterate over each audio file in the test folder\n",
    "    for index, row in test_dataframe.iterrows():\n",
    "        # Display progress\n",
    "        print(f'File {count} of {total}', end='\\r')\n",
    "        count += 1\n",
    "\n",
    "        # Extract filename\n",
    "        filename = row['filename']\n",
    "\n",
    "        # Get transcription from ground_truths dataframe\n",
    "        transcription = ground_truths.loc[ground_truths['ID'] == filename, 'Transcription'].values\n",
    "        if transcription.size > 0:\n",
    "            transcription = transcription[0]  # Extract transcription if found\n",
    "            if transcription == \" \":\n",
    "                logger.info(f\"Now on file: {filename}. Take note that this transcription is actually blank and not an error (i.e: ' ').\")\n",
    "            \n",
    "        else:\n",
    "            logger.info(f\"Warning! Transciption not found for {filename}. Double check the dataset!\")\n",
    "            \n",
    "\n",
    "        # Apply NLP preprocessing if required\n",
    "        if APPLY_NLP_PREPROCESS:\n",
    "            transcription_nlp = NLP_Preprocess(transcription)\n",
    "            sentiment = sentiment_task(transcription_nlp)\n",
    "            \n",
    "        else:\n",
    "            sentiment = sentiment_task(transcription)\n",
    "            transcription_nlp = \"Not Used\"\n",
    "        \n",
    "        sentiment_label = sentiment[0]['label']\n",
    "        sentiment_score = sentiment[0]['score']\n",
    "            \n",
    "        #logger.info(f\"{sentiment}, {sentiment_label}\")\n",
    "\n",
    "        # Append the result to the list\n",
    "        results.append([filename, transcription, transcription_nlp, sentiment_label, sentiment_score])\n",
    "\n",
    "    logger.info(f\"Done processing {count-1} files\")\n",
    "\n",
    "    # Write the results to a CSV file\n",
    "    global CSV_FILEPATH\n",
    "    CSV_FILEPATH = os.path.join(OUTPUT_FOLDER, \"predictions.csv\")\n",
    "\n",
    "    with open(CSV_FILEPATH, 'w', newline='') as csvfile:\n",
    "        writer = csv.writer(csvfile)\n",
    "        writer.writerow(['ID','transcription','transcription_nlp','sentiment', 'sentiment_score'])\n",
    "        writer.writerows(results)\n",
    "\n",
    "    logger.info(f\"Predictions saved to {CSV_FILEPATH}\")"
   ]
  },
  {
   "cell_type": "code",
   "execution_count": 20,
   "id": "393bfd9d",
   "metadata": {
    "tags": []
   },
   "outputs": [
    {
     "name": "stdout",
     "output_type": "stream",
     "text": [
      "File 1 of 528\r"
     ]
    },
    {
     "name": "stderr",
     "output_type": "stream",
     "text": [
      "C:\\Users\\ChenYi\\anaconda3\\envs\\aai3001\\Lib\\site-packages\\transformers\\models\\xlm_roberta\\modeling_xlm_roberta.py:371: UserWarning: 1Torch was not compiled with flash attention. (Triggered internally at C:\\actions-runner\\_work\\pytorch\\pytorch\\builder\\windows\\pytorch\\aten\\src\\ATen\\native\\transformers\\cuda\\sdp_utils.cpp:555.)\n",
      "  attn_output = torch.nn.functional.scaled_dot_product_attention(\n",
      "[2025-01-30 15:35:36,219][345522006.py][line:23][INFO] Now on file: Ses01F_script01_3_F010. Take note that this transcription is actually blank and not an error (i.e: ' ').\n",
      "You seem to be using the pipelines sequentially on GPU. In order to maximize efficiency please use a dataset\n",
      "[2025-01-30 15:35:36,241][345522006.py][line:23][INFO] Now on file: Ses01F_script01_3_F011. Take note that this transcription is actually blank and not an error (i.e: ' ').\n",
      "[2025-01-30 15:35:36,258][345522006.py][line:23][INFO] Now on file: Ses01F_script01_3_F012. Take note that this transcription is actually blank and not an error (i.e: ' ').\n"
     ]
    },
    {
     "name": "stdout",
     "output_type": "stream",
     "text": [
      "File 96 of 528\r"
     ]
    },
    {
     "name": "stderr",
     "output_type": "stream",
     "text": [
      "[2025-01-30 15:35:37,672][345522006.py][line:23][INFO] Now on file: Ses01M_impro04_F023. Take note that this transcription is actually blank and not an error (i.e: ' ').\n"
     ]
    },
    {
     "name": "stdout",
     "output_type": "stream",
     "text": [
      "File 380 of 528\r"
     ]
    },
    {
     "name": "stderr",
     "output_type": "stream",
     "text": [
      "[2025-01-30 15:35:42,003][345522006.py][line:23][INFO] Now on file: Ses01M_script03_1_F007. Take note that this transcription is actually blank and not an error (i.e: ' ').\n",
      "[2025-01-30 15:35:42,044][345522006.py][line:23][INFO] Now on file: Ses01M_script03_1_F010. Take note that this transcription is actually blank and not an error (i.e: ' ').\n"
     ]
    },
    {
     "name": "stdout",
     "output_type": "stream",
     "text": [
      "File 425 of 528\r"
     ]
    },
    {
     "name": "stderr",
     "output_type": "stream",
     "text": [
      "[2025-01-30 15:35:42,648][345522006.py][line:23][INFO] Now on file: Ses01F_script02_1_F009. Take note that this transcription is actually blank and not an error (i.e: ' ').\n"
     ]
    },
    {
     "name": "stdout",
     "output_type": "stream",
     "text": [
      "File 454 of 528\r"
     ]
    },
    {
     "name": "stderr",
     "output_type": "stream",
     "text": [
      "[2025-01-30 15:35:43,173][345522006.py][line:23][INFO] Now on file: Ses01M_script01_1_F006. Take note that this transcription is actually blank and not an error (i.e: ' ').\n"
     ]
    },
    {
     "name": "stdout",
     "output_type": "stream",
     "text": [
      "File 521 of 528\r"
     ]
    },
    {
     "name": "stderr",
     "output_type": "stream",
     "text": [
      "[2025-01-30 15:35:44,179][345522006.py][line:23][INFO] Now on file: Ses01F_script03_1_F020. Take note that this transcription is actually blank and not an error (i.e: ' ').\n",
      "[2025-01-30 15:35:44,274][345522006.py][line:46][INFO] Done processing 529 files\n",
      "[2025-01-30 15:35:44,279][345522006.py][line:57][INFO] Predictions saved to ./fold_0\\predictions.csv\n"
     ]
    },
    {
     "name": "stdout",
     "output_type": "stream",
     "text": [
      "File 528 of 528\r"
     ]
    }
   ],
   "source": [
    "predict(test_dataframe)"
   ]
  },
  {
   "cell_type": "markdown",
   "id": "760c0778-9eb4-47ad-90a7-084154d42414",
   "metadata": {},
   "source": [
    "## Evaluate Accuracy"
   ]
  },
  {
   "cell_type": "code",
   "execution_count": 21,
   "id": "9020c01e-9579-41d0-bad1-2e397b042733",
   "metadata": {},
   "outputs": [],
   "source": [
    "# Function to perform accuracy evaluation\n",
    "def calculate_accuracy(dataframe):\n",
    "    logger.info(\"Now calculating accuracy\")\n",
    "    \n",
    "    # Read the reference truth file\n",
    "    reference = pd.read_csv(REMAPPED_EMOTIONS)\n",
    "\n",
    "    # Merge DataFrames on 'filename'\n",
    "    df_merged = pd.merge(\n",
    "        reference[['filename', 'remapped_sentiment']],\n",
    "        dataframe[['ID', 'sentiment']],\n",
    "        left_on='filename',\n",
    "        right_on='ID'\n",
    "    )\n",
    "    \n",
    "    # dataframe contacts the files used in the test split (~500)\n",
    "    # reference contains all files in the IEMOCAP dataset\n",
    "    # df_merged will be a dataframe that contains only the specific files from that fold, and the corresponding truth from the reference\n",
    "\n",
    "    # Extract true labels and predictions\n",
    "    y_true = dataframe['sentiment']\n",
    "    y_pred = df_merged['remapped_sentiment']\n",
    "\n",
    "    # Compute the confusion matrix\n",
    "    cm = confusion_matrix(y_true, y_pred)\n",
    "\n",
    "    # Create a DataFrame for the confusion matrix\n",
    "    labels = sorted(y_true.unique())\n",
    "    cm_df = pd.DataFrame(cm, index=labels, columns=labels)\n",
    "    \n",
    "    # Do not show CM when running as a python script\n",
    "    if not PYTHON_SCRIPT:\n",
    "     \n",
    "        # Plot the confusion matrix\n",
    "        plt.figure(figsize=(8, 6))\n",
    "        sns.heatmap(cm_df, annot=True, fmt='d', cmap='Blues')\n",
    "        plt.ylabel('Actual Labels')\n",
    "        plt.xlabel('Predicted Labels')\n",
    "        plt.title('Confusion Matrix')\n",
    "        plt.show()\n",
    "    \n",
    "    # Compute and print UA score\n",
    "    macro_recall = recall_score(y_true, y_pred, average='macro')\n",
    "    logger.info(f\"Test UA: {macro_recall}\")\n",
    "    \n",
    "    logger.info(\"Confusion Matrix:\")\n",
    "    logging.info(f\"\\n{cm_df}\")\n",
    "\n",
    "    # Generate classification report\n",
    "    report = classification_report(y_true, y_pred, labels=labels)\n",
    "    logger.info(\"Classification Report:\")\n",
    "    logging.info(f\"\\n{report}\")\n"
   ]
  },
  {
   "cell_type": "markdown",
   "id": "b99e4fef-76f9-4575-a3d5-817295be1c86",
   "metadata": {},
   "source": [
    "### Run Evalutation Function"
   ]
  },
  {
   "cell_type": "code",
   "execution_count": 22,
   "id": "d5da579a-c4cd-45c7-8840-5c15a8fdb0fc",
   "metadata": {
    "tags": []
   },
   "outputs": [
    {
     "name": "stderr",
     "output_type": "stream",
     "text": [
      "[2025-01-30 15:35:44,310][3148975315.py][line:3][INFO] Now calculating accuracy\n"
     ]
    },
    {
     "data": {
      "image/png": "[encoded data removed]",
      "text/plain": [
       "<Figure size 800x600 with 2 Axes>"
      ]
     },
     "metadata": {},
     "output_type": "display_data"
    },
    {
     "name": "stderr",
     "output_type": "stream",
     "text": [
      "[2025-01-30 15:35:44,463][3148975315.py][line:44][INFO] Test UA: 0.5271759241034524\n",
      "[2025-01-30 15:35:44,465][3148975315.py][line:46][INFO] Confusion Matrix:\n",
      "[2025-01-30 15:35:44,468][3148975315.py][line:47][INFO] \n",
      "          negative  neutral  positive\n",
      "negative       111       40        40\n",
      "neutral        103      118        59\n",
      "positive        11       13        33\n",
      "[2025-01-30 15:35:44,481][3148975315.py][line:51][INFO] Classification Report:\n",
      "[2025-01-30 15:35:44,482][3148975315.py][line:52][INFO] \n",
      "              precision    recall  f1-score   support\n",
      "\n",
      "    negative       0.49      0.58      0.53       191\n",
      "     neutral       0.69      0.42      0.52       280\n",
      "    positive       0.25      0.58      0.35        57\n",
      "\n",
      "    accuracy                           0.50       528\n",
      "   macro avg       0.48      0.53      0.47       528\n",
      "weighted avg       0.57      0.50      0.51       528\n",
      "\n"
     ]
    }
   ],
   "source": [
    "df = pd.read_csv(CSV_FILEPATH)    \n",
    "calculate_accuracy(df)"
   ]
  },
  {
   "cell_type": "code",
   "execution_count": 23,
   "id": "62fa9f80-0efb-4edd-b16d-16bb17fe0e66",
   "metadata": {},
   "outputs": [
    {
     "data": {
      "text/plain": [
       "0.5271759241034524"
      ]
     },
     "execution_count": 23,
     "metadata": {},
     "output_type": "execute_result"
    }
   ],
   "source": [
    "0.5271759241034524"
   ]
  }
 ],
 "metadata": {
  "colab": {
   "provenance": []
  },
  "kaggle": {
   "accelerator": "gpu",
   "dataSources": [
    {
     "datasetId": 5782060,
     "sourceId": 9500890,
     "sourceType": "datasetVersion"
    }
   ],
   "dockerImageVersionId": 30787,
   "isGpuEnabled": true,
   "isInternetEnabled": true,
   "language": "python",
   "sourceType": "notebook"
  },
  "kernelspec": {
   "display_name": "AAI3001",
   "language": "python",
   "name": "aai3001"
  },
  "language_info": {
   "codemirror_mode": {
    "name": "ipython",
    "version": 3
   },
   "file_extension": ".py",
   "mimetype": "text/x-python",
   "name": "python",
   "nbconvert_exporter": "python",
   "pygments_lexer": "ipython3",
   "version": "3.11.9"
  }
 },
 "nbformat": 4,
 "nbformat_minor": 5
}
