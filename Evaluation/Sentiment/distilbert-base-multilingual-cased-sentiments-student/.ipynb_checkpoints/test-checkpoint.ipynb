{
 "cells": [
  {
   "cell_type": "markdown",
   "id": "c3c9b5c9",
   "metadata": {
    "id": "e36c34af-36e8-483f-90dd-bc10634ebbd2",
    "tags": []
   },
   "source": [
    "## Evaluate.ipynb\n",
    "#### **This notebook evaluates the accuracy of just one model on the IEMOCAP dataset ground truths.**\n",
    "\n",
    "- **Sentiment Analysis Model:** lxyuan/distilbert-base-multilingual-cased-sentiments-student\n",
    "- Source: [HuggingFace](https://huggingface.co/lxyuan/distilbert-base-multilingual-cased-sentiments-student)"
   ]
  },
  {
   "cell_type": "markdown",
   "id": "762d5995-95fe-4940-b295-6ab91c446e5c",
   "metadata": {},
   "source": [
    "## Setup"
   ]
  },
  {
   "cell_type": "code",
   "execution_count": 1,
   "id": "8e5a7c08-977d-4a8a-a568-77c2e0e4f3e3",
   "metadata": {
    "tags": []
   },
   "outputs": [],
   "source": [
    "# Run\n",
    "SEED = 22\n",
    "FOLD = 0\n",
    "\n",
    "# Models\n",
    "SENTIMENT_MODEL_NAME = \"lxyuan/distilbert-base-multilingual-cased-sentiments-student\"\n",
    "\n",
    "# Flag to enable parsing of arguments when converted to script. Set true after converting\n",
    "PYTHON_SCRIPT = False"
   ]
  },
  {
   "cell_type": "markdown",
   "id": "ff70c4e7-5e32-4986-a455-f5a3a418c23d",
   "metadata": {},
   "source": [
    "### For Conversion to .py file"
   ]
  },
  {
   "cell_type": "code",
   "execution_count": 2,
   "id": "84caad03-99aa-4882-adf4-8fbe3814274e",
   "metadata": {
    "tags": []
   },
   "outputs": [],
   "source": [
    "if PYTHON_SCRIPT:\n",
    "\n",
    "    import argparse\n",
    "\n",
    "    parser = argparse.ArgumentParser(description=\"\")\n",
    "    parser.add_argument('--seed',default=2021,type=int)\n",
    "    parser.add_argument('--fold',type=int,required=True)\n",
    "    parser.add_argument('--remap',type=bool,required=True)\n",
    "    parser.add_argument('--threshold',type=float,required=False)\n",
    "    parser.add_argument('--mode',required=False)\n",
    "    parser.add_argument('--flip',type=bool,required=False)\n",
    "\n",
    "    # Parse the arguments\n",
    "    args = parser.parse_args()\n",
    "\n",
    "    # Run\n",
    "    SEED = args.seed\n",
    "    FOLD = args.fold\n",
    "    RUN_REMAP = args.remap\n",
    "    THRESHOLD = args.threshold\n",
    "    MODE = args.mode\n",
    "    FLIP = args.flip"
   ]
  },
  {
   "cell_type": "markdown",
   "id": "db721380-60d5-483f-9f9b-1875e0e60f02",
   "metadata": {},
   "source": [
    "## Folders"
   ]
  },
  {
   "cell_type": "code",
   "execution_count": 3,
   "id": "d087cd01-1606-4f7d-9429-fb65c993bead",
   "metadata": {},
   "outputs": [],
   "source": [
    "# Filepaths\n",
    "OUTPUT_FOLDER = f'./fold_{FOLD}'\n",
    "LOG_OUTPUT = OUTPUT_FOLDER + f'/fold-{FOLD}.log'"
   ]
  },
  {
   "cell_type": "markdown",
   "id": "047ef850-ad41-4b4c-8405-8b3b22439c9a",
   "metadata": {},
   "source": [
    "### Dataset Setup"
   ]
  },
  {
   "cell_type": "code",
   "execution_count": 4,
   "id": "e92e09ae-fe0b-447f-9678-77282bb60986",
   "metadata": {
    "tags": []
   },
   "outputs": [],
   "source": [
    "# Dataset\n",
    "TSV = r'C:\\Users\\ChenYi\\Downloads\\AAI3001_Project\\labels\\IEMOCAP_4.tsv'\n",
    "AUDIO_DIRECTORY = r'C:\\Users\\ChenYi\\Downloads\\AAI3001_Project\\small-project\\IEMOCAP_full_release_audio'\n",
    "\n",
    "# Contains the correct transcription provided by the IEMOCAP dataset\n",
    "GROUND_TRUTH = './groundtruth_IEMOCAP.csv'\n",
    "\n",
    "# Contains the correct emotions (A, H, S, N) remapped to positive, negative and neutral\n",
    "REMAPPED_EMOTIONS = './sentiment_truths_IEMOCAP.csv'"
   ]
  },
  {
   "cell_type": "markdown",
   "id": "8ac7ea56-ea7b-4b0d-81cf-a6c68103e19a",
   "metadata": {},
   "source": [
    "#### Select GPUs (For multi-GPU setup)"
   ]
  },
  {
   "cell_type": "code",
   "execution_count": 5,
   "id": "6f1b3fa1-bb3b-4a9c-87a4-b8207d435c66",
   "metadata": {
    "tags": []
   },
   "outputs": [],
   "source": [
    "import os\n",
    "#os.environ[\"CUDA_VISIBLE_DEVICES\"] = \"0\""
   ]
  },
  {
   "cell_type": "markdown",
   "id": "a8a33d95-e2c5-4ae9-8fb7-de5e59583b11",
   "metadata": {},
   "source": [
    "### Logger"
   ]
  },
  {
   "cell_type": "code",
   "execution_count": 6,
   "id": "5f7f24d2-fcbd-4ad4-8eef-2459cd582cf6",
   "metadata": {
    "tags": []
   },
   "outputs": [],
   "source": [
    "import logging\n",
    "def get_logger(filename, verbosity=1, name=None):\n",
    "    level_dict = {0: logging.DEBUG, 1: logging.INFO, 2: logging.WARNING}\n",
    "    formatter = logging.Formatter(\"[%(asctime)s][%(filename)s][line:%(lineno)d][%(levelname)s] %(message)s\")\n",
    "    logger = logging.getLogger(name)\n",
    "    logger.setLevel(level_dict[verbosity])\n",
    "\n",
    "    fh = logging.FileHandler(filename, \"w\")\n",
    "    fh.setFormatter(formatter)                                                                                                                                                                                     \n",
    "    logger.addHandler(fh)                                                                                                                                                                                          \n",
    "                                                                                                                                                                                                                   \n",
    "    sh = logging.StreamHandler()                                                                                                                                                                                   \n",
    "    sh.setFormatter(formatter)                                                                                                                                                                                     \n",
    "    logger.addHandler(sh)                                                                                                                                                                                          \n",
    "                                                                                                                                                                                                                   \n",
    "    return logger\n",
    "os.makedirs(OUTPUT_FOLDER, exist_ok=True)\n",
    "logger = get_logger(LOG_OUTPUT)"
   ]
  },
  {
   "cell_type": "markdown",
   "id": "80fb0903",
   "metadata": {},
   "source": [
    "### NLP Preprocessing Settings"
   ]
  },
  {
   "cell_type": "code",
   "execution_count": 7,
   "id": "42a1ec30",
   "metadata": {},
   "outputs": [],
   "source": [
    "APPLY_NLP_PREPROCESS = True\n",
    "APPLY_CONTRACTIONS = True\n",
    "APPLY_LEMMANTIZATION = True\n",
    "APPLY_REMOVE_STOPWORDS = False\n",
    "APPLY_REMOVE_NUMBERS = True  "
   ]
  },
  {
   "cell_type": "markdown",
   "id": "f0a8d000",
   "metadata": {
    "tags": []
   },
   "source": [
    "### For Cloud Instances\n",
    "Run the following to install required libraries"
   ]
  },
  {
   "cell_type": "code",
   "execution_count": 8,
   "id": "a652bc8a-5ed5-4820-b30e-575770e45eb8",
   "metadata": {
    "tags": []
   },
   "outputs": [],
   "source": [
    "CLOUD = False"
   ]
  },
  {
   "cell_type": "code",
   "execution_count": 9,
   "id": "60b787c8",
   "metadata": {
    "tags": []
   },
   "outputs": [],
   "source": [
    "if CLOUD:\n",
    "    !pip install contractions\n",
    "    !pip install clean-text\n",
    "    !pip install nltk\n",
    "    !python -m spacy download en_core_web_sm"
   ]
  },
  {
   "cell_type": "markdown",
   "id": "d82081a9",
   "metadata": {
    "tags": []
   },
   "source": [
    "## Imports"
   ]
  },
  {
   "cell_type": "code",
   "execution_count": 10,
   "id": "660f7aab",
   "metadata": {
    "tags": []
   },
   "outputs": [
    {
     "name": "stderr",
     "output_type": "stream",
     "text": [
      "[2025-01-29 22:35:51,777][config.py][line:54][INFO] PyTorch version 2.4.1+cu124 available.\n",
      "[2025-01-29 22:35:51,780][config.py][line:101][INFO] TensorFlow version 2.18.0 available.\n"
     ]
    }
   ],
   "source": [
    "import csv\n",
    "import torch\n",
    "import random\n",
    "import librosa\n",
    "import torchaudio\n",
    "import contractions\n",
    "import torch.nn as nn\n",
    "import pandas as pd\n",
    "import numpy as np\n",
    "import seaborn as sns\n",
    "import matplotlib.pyplot as plt\n",
    "from datasets import Dataset, DatasetDict\n",
    "from torchaudio import functional as audioF\n",
    "from torchaudio.transforms import Resample\n",
    "from torchaudio.compliance import kaldi\n",
    "from torch.utils.data import Dataset, DataLoader\n",
    "#from transformers import EarlyStoppingCallback, AdamW, get_scheduler\n",
    "#from transformers import AutoTokenizer, AutoModelForSequenceClassification\n",
    "#from transformers import Wav2Vec2Processor, Wav2Vec2ForCTC, pipeline\n",
    "from transformers import pipeline\n",
    "#from transformers import Wav2Vec2FeatureExtractor, Wav2Vec2ForSequenceClassification, Trainer, TrainingArguments\n",
    "from sklearn.metrics import confusion_matrix, classification_report, recall_score, accuracy_score\n",
    "\n",
    "# NLP Stuff\n",
    "import spacy\n",
    "import string\n",
    "from nltk.corpus import stopwords\n",
    "nlp = spacy.load(\"en_core_web_sm\")\n",
    "mapping = str.maketrans('', '', string.digits) # table to remove strings"
   ]
  },
  {
   "cell_type": "markdown",
   "id": "eef8b369-7fd3-443b-9a26-e6a28105a53d",
   "metadata": {},
   "source": [
    "### Log Details"
   ]
  },
  {
   "cell_type": "code",
   "execution_count": 11,
   "id": "ac69e0d8-3126-4103-97cb-a3d26342ff8f",
   "metadata": {},
   "outputs": [
    {
     "name": "stderr",
     "output_type": "stream",
     "text": [
      "[2025-01-29 22:35:57,840][1328932871.py][line:1][INFO] ----- Models -----\n",
      "[2025-01-29 22:35:57,841][1328932871.py][line:2][INFO] Sentiment Model: lxyuan/distilbert-base-multilingual-cased-sentiments-student\n",
      "[2025-01-29 22:35:57,841][1328932871.py][line:3][INFO] ----- Parameters -----\n",
      "[2025-01-29 22:35:57,841][1328932871.py][line:4][INFO] Seed: 22\n",
      "[2025-01-29 22:35:57,842][1328932871.py][line:5][INFO] Fold: 0\n",
      "[2025-01-29 22:35:57,842][1328932871.py][line:7][INFO] ----- NLP Options -----\n",
      "[2025-01-29 22:35:57,843][1328932871.py][line:9][INFO] Apply Preprocessing: YES\n",
      "[2025-01-29 22:35:57,843][1328932871.py][line:10][INFO] Remove Contractions: True\n",
      "[2025-01-29 22:35:57,843][1328932871.py][line:11][INFO] Apply Lemmantization: True\n",
      "[2025-01-29 22:35:57,843][1328932871.py][line:12][INFO] Remove Numbers: True\n",
      "[2025-01-29 22:35:57,844][1328932871.py][line:13][INFO] Remove Stopwords: False\n",
      "[2025-01-29 22:35:57,844][1328932871.py][line:16][INFO] --------------------\n"
     ]
    }
   ],
   "source": [
    "logger.info(\"----- Models -----\")\n",
    "logger.info(f\"Sentiment Model: {SENTIMENT_MODEL_NAME}\")\n",
    "logger.info(\"----- Parameters -----\")\n",
    "logger.info(f\"Seed: {SEED}\")\n",
    "logger.info(f\"Fold: {FOLD}\")\n",
    "\n",
    "logger.info(\"----- NLP Options -----\")\n",
    "if APPLY_NLP_PREPROCESS:\n",
    "    logger.info(f\"Apply Preprocessing: YES\")\n",
    "    logger.info(f\"Remove Contractions: {APPLY_CONTRACTIONS}\")\n",
    "    logger.info(f\"Apply Lemmantization: {APPLY_LEMMANTIZATION}\")\n",
    "    logger.info(f\"Remove Numbers: {APPLY_REMOVE_NUMBERS}\")\n",
    "    logger.info(f\"Remove Stopwords: {APPLY_REMOVE_STOPWORDS}\") \n",
    "else:\n",
    "    logger.info(f\"Apply Preprocessing: NO\")\n",
    "logger.info(\"--------------------\")"
   ]
  },
  {
   "cell_type": "markdown",
   "id": "c27fdb02",
   "metadata": {
    "tags": []
   },
   "source": [
    "### Provided Code"
   ]
  },
  {
   "cell_type": "code",
   "execution_count": 12,
   "id": "35e38f84",
   "metadata": {
    "tags": []
   },
   "outputs": [],
   "source": [
    "class Pad_trunc_wav(nn.Module):\n",
    "    def __init__(self, max_len: int = 6*16000):\n",
    "        super(Pad_trunc_wav, self).__init__()\n",
    "        self.max_len = max_len\n",
    "    def forward(self,x):\n",
    "        shape = x.shape\n",
    "        length = shape[1]\n",
    "        if length < self.max_len:\n",
    "            multiple = self.max_len//length+1\n",
    "            x_tmp = torch.cat((x,)*multiple, axis=1)\n",
    "            x_new = x_tmp[:,0:self.max_len]\n",
    "        else:\n",
    "            x_new = x[:,0:self.max_len]\n",
    "        return x_new"
   ]
  },
  {
   "cell_type": "code",
   "execution_count": 13,
   "id": "f43f2cd5",
   "metadata": {},
   "outputs": [],
   "source": [
    "def setup_seed(seed=2021):\n",
    "    torch.manual_seed(seed)\n",
    "    torch.cuda.manual_seed(seed)\n",
    "    torch.cuda.manual_seed_all(seed)\n",
    "    np.random.seed(seed)\n",
    "    random.seed(seed)\n",
    "    torch.backends.cudnn.benchmark = False\n",
    "    torch.backends.cudnn.deterministic = True\n",
    "setup_seed(SEED)"
   ]
  },
  {
   "cell_type": "markdown",
   "id": "891d83f6",
   "metadata": {},
   "source": [
    "### Download Required Models"
   ]
  },
  {
   "cell_type": "code",
   "execution_count": 14,
   "id": "37f3603e",
   "metadata": {
    "tags": []
   },
   "outputs": [
    {
     "name": "stderr",
     "output_type": "stream",
     "text": [
      "[2025-01-29 22:36:00,994][module_wrapper.py][line:149][WARNING] From C:\\Users\\ChenYi\\anaconda3\\envs\\aai3001\\Lib\\site-packages\\tf_keras\\src\\losses.py:2976: The name tf.losses.sparse_softmax_cross_entropy is deprecated. Please use tf.compat.v1.losses.sparse_softmax_cross_entropy instead.\n",
      "\n",
      "[2025-01-29 22:36:01,743][2635295405.py][line:9][INFO] Sentiment model loaded from lxyuan/distilbert-base-multilingual-cased-sentiments-student successfully\n"
     ]
    }
   ],
   "source": [
    "# Load sentiment analysis model\n",
    "#sentiment_task = pipeline(\"sentiment-analysis\",\n",
    "#                          model=SENTIMENT_MODEL_NAME,\n",
    "#                          tokenizer=SENTIMENT_MODEL_NAME,\n",
    "#                         device=0)\n",
    "\n",
    "sentiment_task = pipeline(model=SENTIMENT_MODEL_NAME,tokenizer=SENTIMENT_MODEL_NAME,device=0)\n",
    "\n",
    "logger.info(F\"Sentiment model loaded from {SENTIMENT_MODEL_NAME} successfully\")"
   ]
  },
  {
   "cell_type": "markdown",
   "id": "801f27fe",
   "metadata": {
    "tags": []
   },
   "source": [
    "## Dataset & Loading"
   ]
  },
  {
   "cell_type": "code",
   "execution_count": 15,
   "id": "517aad18",
   "metadata": {
    "tags": []
   },
   "outputs": [],
   "source": [
    "class Mydataset(Dataset):\n",
    "    def __init__(self, mode='train', max_len=6, seed=2021, fold=0, data_path=TSV, audio_dir=AUDIO_DIRECTORY):\n",
    "        self.mode = mode\n",
    "        data_all = pd.read_csv(data_path, sep='\\t')\n",
    "        SpkNames = np.unique(data_all['speaker'])  # ['Ses01F', 'Ses01M', ..., 'Ses05M']\n",
    "        self.data_info = self.split_dataset(data_all, fold, SpkNames, mode)\n",
    "        self.get_audio_dir_path = os.path.join(audio_dir)\n",
    "        self.pad_trunc = Pad_trunc_wav(max_len * 16000)\n",
    "         \n",
    "        # Label encoding\n",
    "        self.label = self.data_info['label'].astype('category').cat.codes.values\n",
    "        self.ClassNames = np.unique(self.data_info['label'])\n",
    "        self.NumClasses = len(self.ClassNames)\n",
    "        #if mode == 'train':\n",
    "        #    print(\"Each emotion has the following number of training samples:\")\n",
    "        #    print([[self.ClassNames[i], (self.label == i).sum()] for i in range(self.NumClasses)])\n",
    "        self.weight = 1 / torch.tensor([(self.label == i).sum() for i in range(self.NumClasses)]).float()\n",
    "\n",
    "    def get_classname(self):\n",
    "        return self.ClassNames\n",
    "    \n",
    "    # Updated split_dataset function using fold\n",
    "    \n",
    "    def split_dataset(self, df_all, fold, speakers, mode):\n",
    "        \n",
    "        spk_len = len(speakers)\n",
    "        #test_idx = np.array(df_all['speaker']==speakers[fold*2%spk_len])+np.array(df_all['speaker']==speakers[(fold*2+1)%spk_len])\n",
    "        #val_idx = np.array(df_all['speaker']==speakers[(fold*2-2)%spk_len])+np.array(df_all['speaker']==speakers[(fold*2-1)%spk_len])\n",
    "        #train_idx = True^(test_idx+val_idx)\n",
    "        #train_idx = True^test_idx\n",
    "        test_idx = np.array(df_all['speaker']==speakers[fold%spk_len])\n",
    "        if fold%2==0:\n",
    "            val_idx = np.array(df_all['speaker']==speakers[(fold+1)%spk_len])\n",
    "        else:\n",
    "            val_idx = np.array(df_all['speaker']==speakers[(fold-1)%spk_len])\n",
    "        train_idx = True^(test_idx+val_idx)\n",
    "        train_data_info = df_all[train_idx].reset_index(drop=True)\n",
    "        val_data_info = df_all[val_idx].reset_index(drop=True)\n",
    "        test_data_info = df_all[test_idx].reset_index(drop=True)\n",
    "        #val_data_info = test_data_info = df_all[test_idx].reset_index(drop=True)\n",
    "        if self.mode == 'train':\n",
    "            data_info = train_data_info\n",
    "        elif self.mode == 'val':\n",
    "            data_info = val_data_info\n",
    "        elif self.mode == 'test':\n",
    "            data_info = test_data_info\n",
    "        else:\n",
    "            data_info = df_all\n",
    "        \n",
    "        logger.info(f\"Mode: {mode} Fold: {fold}\")\n",
    "        return data_info\n",
    "\n",
    "    def pre_process(self, wav):\n",
    "        \n",
    "        if self.mode == 'test': \n",
    "            return wav\n",
    "        else:\n",
    "            wav = self.pad_trunc(wav)\n",
    "            return wav\n",
    "\n",
    "    def __len__(self):\n",
    "        return len(self.data_info)\n",
    "\n",
    "    def __getitem__(self, idx):\n",
    "        # Load the raw waveform from file using data_info to get filenames\n",
    "        wav_path = os.path.join(self.get_audio_dir_path, self.data_info['filename'][idx]) + '.wav'\n",
    "        wav, sample_rate = torchaudio.load(wav_path)\n",
    "\n",
    "        # Preprocess the waveform (e.g., pad/truncate if needed)\n",
    "        wav = self.pre_process(wav)\n",
    "\n",
    "        # Apply Wav2Vec2 feature extractor\n",
    "        inputs = feature_extractor(\n",
    "            wav.squeeze().numpy(),  # Convert PyTorch tensor to numpy array\n",
    "            sampling_rate=sample_rate,\n",
    "            return_tensors=\"pt\",  # Return PyTorch tensors\n",
    "            padding=True  # Optionally pad to a fixed length\n",
    "        )\n",
    "\n",
    "        label = self.label[idx]\n",
    "\n",
    "        # Return the processed input values and the label\n",
    "        return {\n",
    "            'input_values': inputs['input_values'].squeeze(0),  # Remove extra batch dimension\n",
    "            'labels': torch.tensor(label, dtype=torch.long)}"
   ]
  },
  {
   "cell_type": "code",
   "execution_count": 16,
   "id": "151f91e2",
   "metadata": {
    "tags": []
   },
   "outputs": [
    {
     "name": "stderr",
     "output_type": "stream",
     "text": [
      "[2025-01-29 22:36:01,780][4069662282.py][line:50][INFO] Mode: train Fold: 0\n",
      "[2025-01-29 22:36:01,792][4069662282.py][line:50][INFO] Mode: val Fold: 0\n",
      "[2025-01-29 22:36:01,804][4069662282.py][line:50][INFO] Mode: test Fold: 0\n",
      "[2025-01-29 22:36:01,805][1194672651.py][line:6][INFO] Dataset Loaded\n"
     ]
    }
   ],
   "source": [
    "# Instantiate datasets\n",
    "train_dataset = Mydataset(mode='train', max_len=6, fold=FOLD)\n",
    "val_dataset = Mydataset(mode='val', max_len=6, fold=FOLD)\n",
    "test_dataset = Mydataset(mode='test', max_len=6, fold=FOLD)\n",
    "\n",
    "logger.info(\"Dataset Loaded\")"
   ]
  },
  {
   "cell_type": "code",
   "execution_count": 17,
   "id": "695388a3",
   "metadata": {
    "tags": []
   },
   "outputs": [],
   "source": [
    "# Put test information into a dataframe for later use\n",
    "data_info = test_dataset.data_info\n",
    "test_dataframe = data_info[['filename', 'label']].copy()\n",
    "test_dataframe['filepath'] = test_dataframe['filename'].apply(\n",
    "    lambda x: os.path.join(test_dataset.get_audio_dir_path, f\"{x}.wav\"))"
   ]
  },
  {
   "cell_type": "markdown",
   "id": "70f64dd6",
   "metadata": {
    "tags": []
   },
   "source": [
    "### Run Model Prediction"
   ]
  },
  {
   "cell_type": "markdown",
   "id": "61ff778d",
   "metadata": {},
   "source": [
    "#### Clean and preprocess text for sentiment analysis\n",
    "    * Expanding contractions\n",
    "    * Removing punctuations\n",
    "    * Lemmatizing text\n",
    "    * Lowercasing\n",
    "    * Remove Numbers\n",
    "    * Removing stopwords"
   ]
  },
  {
   "cell_type": "code",
   "execution_count": 18,
   "id": "ffc4c8f9",
   "metadata": {},
   "outputs": [],
   "source": [
    "def NLP_Preprocess(string):\n",
    "    \n",
    "    # Check if function should run\n",
    "    if APPLY_NLP_PREPROCESS:\n",
    "     \n",
    "        output = string\n",
    "\n",
    "        if APPLY_CONTRACTIONS:\n",
    "            \n",
    "            # Expand Contractions\n",
    "            words = string.split()\n",
    "            output = [contractions.fix(word) for word in words]\n",
    "            output = ' '.join(output)\n",
    "            \n",
    "        if APPLY_LEMMANTIZATION:\n",
    "\n",
    "            doc = nlp(string)\n",
    "            output = \" \".join([token.lemma_ for token in doc])\n",
    "            \n",
    "        if APPLY_REMOVE_NUMBERS:\n",
    "\n",
    "            # Remove Numbers\n",
    "            output = output.translate(mapping)\n",
    "            \n",
    "        if APPLY_REMOVE_STOPWORDS:\n",
    "\n",
    "            # Result show this reduces over accuracy\n",
    "            doc = nlp(string)\n",
    "            output = [token.text for token in doc if not token.is_stop]\n",
    "            output= ' '.join(output)\n",
    "\n",
    "        return output.lower()\n",
    "    \n",
    "    else:\n",
    "        return string\n",
    "    "
   ]
  },
  {
   "cell_type": "markdown",
   "id": "f6b48ec1-33ab-4491-b762-63f7bdc458f0",
   "metadata": {},
   "source": [
    "## Obtain Predictions"
   ]
  },
  {
   "cell_type": "code",
   "execution_count": 23,
   "id": "a5f08729-d138-40f5-a5e1-c298e83af36f",
   "metadata": {
    "tags": []
   },
   "outputs": [],
   "source": [
    "def predict(test_dataframe):\n",
    "    # Load ground truths\n",
    "    ground_truths = pd.read_csv(GROUND_TRUTH)\n",
    "\n",
    "    results = []\n",
    "    total = test_dataframe.shape[0]\n",
    "    count = 1\n",
    "\n",
    "    # Iterate over each audio file in the test folder\n",
    "    for index, row in test_dataframe.iterrows():\n",
    "        # Display progress\n",
    "        print(f'File {count} of {total}', end='\\r')\n",
    "        count += 1\n",
    "\n",
    "        # Extract filename\n",
    "        filename = row['filename']\n",
    "\n",
    "        # Get transcription from ground_truths dataframe\n",
    "        transcription = ground_truths.loc[ground_truths['ID'] == filename, 'Transcription'].values\n",
    "        if transcription.size > 0:\n",
    "            transcription = transcription[0]  # Extract transcription if found\n",
    "            if transcription == \" \":\n",
    "                logger.info(f\"Now on file: {filename}. Take note that this transcription is actually blank and not an error (i.e: ' ').\")\n",
    "            \n",
    "        else:\n",
    "            logger.info(f\"Warning! Transciption not found for {filename}. Double check the dataset!\")\n",
    "            \n",
    "\n",
    "        # Apply NLP preprocessing if required\n",
    "        if APPLY_NLP_PREPROCESS:\n",
    "            transcription_nlp = NLP_Preprocess(transcription)\n",
    "\n",
    "        # Run sentiment analysis on the transcription\n",
    "        sentiment = sentiment_task(transcription)\n",
    "        logger.info(f\"Results: {sentiment}\")\n",
    "        sentiment_label = sentiment[0]['label']\n",
    "        sentiment_score = sentiment[0]['score']\n",
    "\n",
    "        # Append the result to the list\n",
    "        results.append([filename, transcription, transcription_nlp, sentiment_label, sentiment_score])\n",
    "\n",
    "    logger.info(f\"Done processing {count} files\")\n",
    "\n",
    "    # Write the results to a CSV file\n",
    "    global CSV_FILEPATH\n",
    "    CSV_FILEPATH = os.path.join(OUTPUT_FOLDER, \"predictions.csv\")\n",
    "\n",
    "    with open(CSV_FILEPATH, 'w', newline='') as csvfile:\n",
    "        writer = csv.writer(csvfile)\n",
    "        writer.writerow(['ID','transcription','transcription_nlp','sentiment', 'sentiment_score'])\n",
    "        writer.writerows(results)\n",
    "\n",
    "    logger.info(f\"Predictions saved to {CSV_FILEPATH}\")"
   ]
  },
  {
   "cell_type": "code",
   "execution_count": 24,
   "id": "393bfd9d",
   "metadata": {
    "tags": []
   },
   "outputs": [
    {
     "name": "stderr",
     "output_type": "stream",
     "text": [
      "[2025-01-29 22:37:30,206][3776759167.py][line:35][INFO] Results: [{'label': 'positive', 'score': 0.6738643646240234}]\n",
      "[2025-01-29 22:37:30,224][3776759167.py][line:35][INFO] Results: [{'label': 'negative', 'score': 0.42030176520347595}]\n",
      "[2025-01-29 22:37:30,244][3776759167.py][line:35][INFO] Results: [{'label': 'positive', 'score': 0.6611910462379456}]\n",
      "[2025-01-29 22:37:30,264][3776759167.py][line:35][INFO] Results: [{'label': 'negative', 'score': 0.3727327883243561}]\n",
      "[2025-01-29 22:37:30,283][3776759167.py][line:35][INFO] Results: [{'label': 'positive', 'score': 0.5888928771018982}]\n",
      "[2025-01-29 22:37:30,301][3776759167.py][line:35][INFO] Results: [{'label': 'positive', 'score': 0.5623005032539368}]\n",
      "[2025-01-29 22:37:30,320][3776759167.py][line:35][INFO] Results: [{'label': 'positive', 'score': 0.5320113897323608}]\n",
      "[2025-01-29 22:37:30,338][3776759167.py][line:35][INFO] Results: [{'label': 'positive', 'score': 0.5085559487342834}]\n",
      "[2025-01-29 22:37:30,357][3776759167.py][line:35][INFO] Results: [{'label': 'positive', 'score': 0.5396442413330078}]\n",
      "[2025-01-29 22:37:30,378][3776759167.py][line:35][INFO] Results: [{'label': 'positive', 'score': 0.4564778208732605}]\n"
     ]
    },
    {
     "name": "stdout",
     "output_type": "stream",
     "text": [
      "File 10 of 528\r"
     ]
    },
    {
     "name": "stderr",
     "output_type": "stream",
     "text": [
      "[2025-01-29 22:37:30,380][3776759167.py][line:23][INFO] Now on file: Ses01F_script01_3_F010. Take note that this transcription is actually blank and not an error (i.e: ' ').\n",
      "[2025-01-29 22:37:30,395][3776759167.py][line:35][INFO] Results: [{'label': 'positive', 'score': 0.5004075765609741}]\n",
      "[2025-01-29 22:37:30,397][3776759167.py][line:23][INFO] Now on file: Ses01F_script01_3_F011. Take note that this transcription is actually blank and not an error (i.e: ' ').\n",
      "[2025-01-29 22:37:30,411][3776759167.py][line:35][INFO] Results: [{'label': 'positive', 'score': 0.5004075765609741}]\n",
      "[2025-01-29 22:37:30,413][3776759167.py][line:23][INFO] Now on file: Ses01F_script01_3_F012. Take note that this transcription is actually blank and not an error (i.e: ' ').\n",
      "[2025-01-29 22:37:30,428][3776759167.py][line:35][INFO] Results: [{'label': 'positive', 'score': 0.5004075765609741}]\n",
      "[2025-01-29 22:37:30,444][3776759167.py][line:35][INFO] Results: [{'label': 'neutral', 'score': 0.46872979402542114}]\n",
      "[2025-01-29 22:37:30,462][3776759167.py][line:35][INFO] Results: [{'label': 'positive', 'score': 0.5558882355690002}]\n",
      "[2025-01-29 22:37:30,481][3776759167.py][line:35][INFO] Results: [{'label': 'positive', 'score': 0.5250275135040283}]\n",
      "[2025-01-29 22:37:30,498][3776759167.py][line:35][INFO] Results: [{'label': 'positive', 'score': 0.6050106287002563}]\n",
      "[2025-01-29 22:37:30,513][3776759167.py][line:35][INFO] Results: [{'label': 'positive', 'score': 0.5395107269287109}]\n",
      "[2025-01-29 22:37:30,525][3776759167.py][line:35][INFO] Results: [{'label': 'positive', 'score': 0.5784673094749451}]\n",
      "[2025-01-29 22:37:30,540][3776759167.py][line:35][INFO] Results: [{'label': 'positive', 'score': 0.538752555847168}]\n",
      "[2025-01-29 22:37:30,552][3776759167.py][line:35][INFO] Results: [{'label': 'positive', 'score': 0.3930032253265381}]\n",
      "[2025-01-29 22:37:30,565][3776759167.py][line:35][INFO] Results: [{'label': 'positive', 'score': 0.5164439678192139}]\n"
     ]
    },
    {
     "name": "stdout",
     "output_type": "stream",
     "text": [
      "File 22 of 528\r"
     ]
    },
    {
     "name": "stderr",
     "output_type": "stream",
     "text": [
      "[2025-01-29 22:37:30,577][3776759167.py][line:35][INFO] Results: [{'label': 'positive', 'score': 0.580066442489624}]\n",
      "[2025-01-29 22:37:30,589][3776759167.py][line:35][INFO] Results: [{'label': 'positive', 'score': 0.6140372157096863}]\n",
      "[2025-01-29 22:37:30,601][3776759167.py][line:35][INFO] Results: [{'label': 'positive', 'score': 0.5502951145172119}]\n",
      "[2025-01-29 22:37:30,612][3776759167.py][line:35][INFO] Results: [{'label': 'positive', 'score': 0.5059285163879395}]\n",
      "[2025-01-29 22:37:30,625][3776759167.py][line:35][INFO] Results: [{'label': 'positive', 'score': 0.4997750222682953}]\n",
      "[2025-01-29 22:37:30,640][3776759167.py][line:35][INFO] Results: [{'label': 'positive', 'score': 0.5740355849266052}]\n",
      "[2025-01-29 22:37:30,653][3776759167.py][line:35][INFO] Results: [{'label': 'positive', 'score': 0.5131424069404602}]\n",
      "[2025-01-29 22:37:30,669][3776759167.py][line:35][INFO] Results: [{'label': 'positive', 'score': 0.6167601943016052}]\n",
      "[2025-01-29 22:37:30,682][3776759167.py][line:35][INFO] Results: [{'label': 'positive', 'score': 0.44047901034355164}]\n",
      "[2025-01-29 22:37:30,694][3776759167.py][line:35][INFO] Results: [{'label': 'positive', 'score': 0.5358990430831909}]\n",
      "[2025-01-29 22:37:30,706][3776759167.py][line:35][INFO] Results: [{'label': 'positive', 'score': 0.4595634341239929}]\n",
      "[2025-01-29 22:37:30,718][3776759167.py][line:35][INFO] Results: [{'label': 'positive', 'score': 0.48244622349739075}]\n",
      "[2025-01-29 22:37:30,731][3776759167.py][line:35][INFO] Results: [{'label': 'positive', 'score': 0.5159086585044861}]\n",
      "[2025-01-29 22:37:30,744][3776759167.py][line:35][INFO] Results: [{'label': 'positive', 'score': 0.6365468502044678}]\n",
      "[2025-01-29 22:37:30,756][3776759167.py][line:35][INFO] Results: [{'label': 'negative', 'score': 0.38201043009757996}]\n"
     ]
    },
    {
     "name": "stdout",
     "output_type": "stream",
     "text": [
      "File 37 of 528\r"
     ]
    },
    {
     "name": "stderr",
     "output_type": "stream",
     "text": [
      "[2025-01-29 22:37:30,768][3776759167.py][line:35][INFO] Results: [{'label': 'positive', 'score': 0.6371711492538452}]\n",
      "[2025-01-29 22:37:30,782][3776759167.py][line:35][INFO] Results: [{'label': 'positive', 'score': 0.5104718804359436}]\n",
      "[2025-01-29 22:37:30,794][3776759167.py][line:35][INFO] Results: [{'label': 'positive', 'score': 0.5553393363952637}]\n",
      "[2025-01-29 22:37:30,807][3776759167.py][line:35][INFO] Results: [{'label': 'positive', 'score': 0.505161464214325}]\n",
      "[2025-01-29 22:37:30,820][3776759167.py][line:35][INFO] Results: [{'label': 'positive', 'score': 0.5841584205627441}]\n",
      "[2025-01-29 22:37:30,831][3776759167.py][line:35][INFO] Results: [{'label': 'positive', 'score': 0.5829750299453735}]\n",
      "[2025-01-29 22:37:30,845][3776759167.py][line:35][INFO] Results: [{'label': 'positive', 'score': 0.6066564917564392}]\n",
      "[2025-01-29 22:37:30,857][3776759167.py][line:35][INFO] Results: [{'label': 'positive', 'score': 0.6720114946365356}]\n",
      "[2025-01-29 22:37:30,869][3776759167.py][line:35][INFO] Results: [{'label': 'positive', 'score': 0.6120967864990234}]\n",
      "[2025-01-29 22:37:30,882][3776759167.py][line:35][INFO] Results: [{'label': 'positive', 'score': 0.4208669066429138}]\n",
      "[2025-01-29 22:37:30,893][3776759167.py][line:35][INFO] Results: [{'label': 'positive', 'score': 0.46619507670402527}]\n",
      "[2025-01-29 22:37:30,906][3776759167.py][line:35][INFO] Results: [{'label': 'positive', 'score': 0.38379955291748047}]\n",
      "[2025-01-29 22:37:30,918][3776759167.py][line:35][INFO] Results: [{'label': 'positive', 'score': 0.5423018932342529}]\n",
      "[2025-01-29 22:37:30,931][3776759167.py][line:35][INFO] Results: [{'label': 'positive', 'score': 0.6238806843757629}]\n",
      "[2025-01-29 22:37:30,943][3776759167.py][line:35][INFO] Results: [{'label': 'positive', 'score': 0.5696294903755188}]\n"
     ]
    },
    {
     "name": "stdout",
     "output_type": "stream",
     "text": [
      "File 52 of 528\r"
     ]
    },
    {
     "name": "stderr",
     "output_type": "stream",
     "text": [
      "[2025-01-29 22:37:30,958][3776759167.py][line:35][INFO] Results: [{'label': 'positive', 'score': 0.5247448086738586}]\n",
      "[2025-01-29 22:37:30,972][3776759167.py][line:35][INFO] Results: [{'label': 'positive', 'score': 0.6170106530189514}]\n",
      "[2025-01-29 22:37:30,985][3776759167.py][line:35][INFO] Results: [{'label': 'positive', 'score': 0.5669267773628235}]\n",
      "[2025-01-29 22:37:30,998][3776759167.py][line:35][INFO] Results: [{'label': 'positive', 'score': 0.6585793495178223}]\n",
      "[2025-01-29 22:37:31,014][3776759167.py][line:35][INFO] Results: [{'label': 'positive', 'score': 0.570073664188385}]\n",
      "[2025-01-29 22:37:31,026][3776759167.py][line:35][INFO] Results: [{'label': 'positive', 'score': 0.4838504493236542}]\n",
      "[2025-01-29 22:37:31,038][3776759167.py][line:35][INFO] Results: [{'label': 'positive', 'score': 0.5441402792930603}]\n",
      "[2025-01-29 22:37:31,052][3776759167.py][line:35][INFO] Results: [{'label': 'positive', 'score': 0.5134545564651489}]\n",
      "[2025-01-29 22:37:31,066][3776759167.py][line:35][INFO] Results: [{'label': 'positive', 'score': 0.5555754899978638}]\n",
      "[2025-01-29 22:37:31,078][3776759167.py][line:35][INFO] Results: [{'label': 'positive', 'score': 0.5519126057624817}]\n",
      "[2025-01-29 22:37:31,091][3776759167.py][line:35][INFO] Results: [{'label': 'positive', 'score': 0.5872176289558411}]\n",
      "[2025-01-29 22:37:31,106][3776759167.py][line:35][INFO] Results: [{'label': 'positive', 'score': 0.5572502017021179}]\n",
      "[2025-01-29 22:37:31,118][3776759167.py][line:35][INFO] Results: [{'label': 'positive', 'score': 0.5276622176170349}]\n",
      "[2025-01-29 22:37:31,132][3776759167.py][line:35][INFO] Results: [{'label': 'positive', 'score': 0.5224676132202148}]\n"
     ]
    },
    {
     "name": "stdout",
     "output_type": "stream",
     "text": [
      "File 66 of 528\r"
     ]
    },
    {
     "name": "stderr",
     "output_type": "stream",
     "text": [
      "[2025-01-29 22:37:31,149][3776759167.py][line:35][INFO] Results: [{'label': 'positive', 'score': 0.5640960335731506}]\n",
      "[2025-01-29 22:37:31,162][3776759167.py][line:35][INFO] Results: [{'label': 'positive', 'score': 0.4219975471496582}]\n",
      "[2025-01-29 22:37:31,173][3776759167.py][line:35][INFO] Results: [{'label': 'neutral', 'score': 0.43034860491752625}]\n",
      "[2025-01-29 22:37:31,183][3776759167.py][line:35][INFO] Results: [{'label': 'neutral', 'score': 0.43034860491752625}]\n",
      "[2025-01-29 22:37:31,196][3776759167.py][line:35][INFO] Results: [{'label': 'positive', 'score': 0.6081200838088989}]\n",
      "[2025-01-29 22:37:31,211][3776759167.py][line:35][INFO] Results: [{'label': 'positive', 'score': 0.5581035614013672}]\n",
      "[2025-01-29 22:37:31,223][3776759167.py][line:35][INFO] Results: [{'label': 'positive', 'score': 0.44941800832748413}]\n",
      "[2025-01-29 22:37:31,238][3776759167.py][line:35][INFO] Results: [{'label': 'positive', 'score': 0.5662036538124084}]\n",
      "[2025-01-29 22:37:31,251][3776759167.py][line:35][INFO] Results: [{'label': 'positive', 'score': 0.5465524792671204}]\n",
      "[2025-01-29 22:37:31,264][3776759167.py][line:35][INFO] Results: [{'label': 'positive', 'score': 0.44111862778663635}]\n",
      "[2025-01-29 22:37:31,276][3776759167.py][line:35][INFO] Results: [{'label': 'positive', 'score': 0.58704674243927}]\n",
      "[2025-01-29 22:37:31,287][3776759167.py][line:35][INFO] Results: [{'label': 'positive', 'score': 0.49060961604118347}]\n",
      "[2025-01-29 22:37:31,300][3776759167.py][line:35][INFO] Results: [{'label': 'positive', 'score': 0.5507709980010986}]\n",
      "[2025-01-29 22:37:31,312][3776759167.py][line:35][INFO] Results: [{'label': 'positive', 'score': 0.49358421564102173}]\n",
      "[2025-01-29 22:37:31,324][3776759167.py][line:35][INFO] Results: [{'label': 'negative', 'score': 0.354397714138031}]\n"
     ]
    },
    {
     "name": "stdout",
     "output_type": "stream",
     "text": [
      "File 81 of 528\r"
     ]
    },
    {
     "name": "stderr",
     "output_type": "stream",
     "text": [
      "[2025-01-29 22:37:31,336][3776759167.py][line:35][INFO] Results: [{'label': 'positive', 'score': 0.5299695134162903}]\n",
      "[2025-01-29 22:37:31,348][3776759167.py][line:35][INFO] Results: [{'label': 'positive', 'score': 0.4966639280319214}]\n",
      "[2025-01-29 22:37:31,360][3776759167.py][line:35][INFO] Results: [{'label': 'positive', 'score': 0.5396479964256287}]\n",
      "[2025-01-29 22:37:31,373][3776759167.py][line:35][INFO] Results: [{'label': 'positive', 'score': 0.4721425175666809}]\n",
      "[2025-01-29 22:37:31,386][3776759167.py][line:35][INFO] Results: [{'label': 'positive', 'score': 0.5529735088348389}]\n",
      "[2025-01-29 22:37:31,399][3776759167.py][line:35][INFO] Results: [{'label': 'positive', 'score': 0.4748300015926361}]\n",
      "[2025-01-29 22:37:31,411][3776759167.py][line:35][INFO] Results: [{'label': 'positive', 'score': 0.5443152189254761}]\n",
      "[2025-01-29 22:37:31,422][3776759167.py][line:35][INFO] Results: [{'label': 'positive', 'score': 0.5653852820396423}]\n",
      "[2025-01-29 22:37:31,435][3776759167.py][line:35][INFO] Results: [{'label': 'positive', 'score': 0.5488463640213013}]\n",
      "[2025-01-29 22:37:31,449][3776759167.py][line:35][INFO] Results: [{'label': 'positive', 'score': 0.39613214135169983}]\n",
      "[2025-01-29 22:37:31,464][3776759167.py][line:35][INFO] Results: [{'label': 'positive', 'score': 0.4053115248680115}]\n",
      "[2025-01-29 22:37:31,475][3776759167.py][line:35][INFO] Results: [{'label': 'neutral', 'score': 0.43034860491752625}]\n",
      "[2025-01-29 22:37:31,488][3776759167.py][line:35][INFO] Results: [{'label': 'positive', 'score': 0.547328531742096}]\n",
      "[2025-01-29 22:37:31,502][3776759167.py][line:35][INFO] Results: [{'label': 'positive', 'score': 0.5227633714675903}]\n",
      "[2025-01-29 22:37:31,514][3776759167.py][line:35][INFO] Results: [{'label': 'positive', 'score': 0.5678291916847229}]\n"
     ]
    },
    {
     "name": "stdout",
     "output_type": "stream",
     "text": [
      "File 96 of 528\r"
     ]
    },
    {
     "name": "stderr",
     "output_type": "stream",
     "text": [
      "[2025-01-29 22:37:31,525][3776759167.py][line:35][INFO] Results: [{'label': 'positive', 'score': 0.5729096531867981}]\n",
      "[2025-01-29 22:37:31,538][3776759167.py][line:35][INFO] Results: [{'label': 'positive', 'score': 0.4651378095149994}]\n",
      "[2025-01-29 22:37:31,551][3776759167.py][line:35][INFO] Results: [{'label': 'positive', 'score': 0.5897729396820068}]\n",
      "[2025-01-29 22:37:31,564][3776759167.py][line:35][INFO] Results: [{'label': 'positive', 'score': 0.5770719647407532}]\n",
      "[2025-01-29 22:37:31,575][3776759167.py][line:35][INFO] Results: [{'label': 'positive', 'score': 0.5997658967971802}]\n",
      "[2025-01-29 22:37:31,587][3776759167.py][line:35][INFO] Results: [{'label': 'positive', 'score': 0.6398925185203552}]\n",
      "[2025-01-29 22:37:31,601][3776759167.py][line:35][INFO] Results: [{'label': 'positive', 'score': 0.529281497001648}]\n",
      "[2025-01-29 22:37:31,602][3776759167.py][line:23][INFO] Now on file: Ses01M_impro04_F023. Take note that this transcription is actually blank and not an error (i.e: ' ').\n",
      "[2025-01-29 22:37:31,612][3776759167.py][line:35][INFO] Results: [{'label': 'positive', 'score': 0.5004075765609741}]\n",
      "[2025-01-29 22:37:31,625][3776759167.py][line:35][INFO] Results: [{'label': 'positive', 'score': 0.5370315313339233}]\n",
      "[2025-01-29 22:37:31,636][3776759167.py][line:35][INFO] Results: [{'label': 'positive', 'score': 0.46619507670402527}]\n",
      "[2025-01-29 22:37:31,649][3776759167.py][line:35][INFO] Results: [{'label': 'positive', 'score': 0.5631968379020691}]\n",
      "[2025-01-29 22:37:31,661][3776759167.py][line:35][INFO] Results: [{'label': 'positive', 'score': 0.6022391319274902}]\n",
      "[2025-01-29 22:37:31,674][3776759167.py][line:35][INFO] Results: [{'label': 'positive', 'score': 0.5611134767532349}]\n",
      "[2025-01-29 22:37:31,686][3776759167.py][line:35][INFO] Results: [{'label': 'positive', 'score': 0.5201442241668701}]\n",
      "[2025-01-29 22:37:31,698][3776759167.py][line:35][INFO] Results: [{'label': 'positive', 'score': 0.5790120363235474}]\n"
     ]
    },
    {
     "name": "stdout",
     "output_type": "stream",
     "text": [
      "File 111 of 528\r"
     ]
    },
    {
     "name": "stderr",
     "output_type": "stream",
     "text": [
      "[2025-01-29 22:37:31,712][3776759167.py][line:35][INFO] Results: [{'label': 'positive', 'score': 0.5416643619537354}]\n",
      "[2025-01-29 22:37:31,724][3776759167.py][line:35][INFO] Results: [{'label': 'positive', 'score': 0.5387780070304871}]\n",
      "[2025-01-29 22:37:31,740][3776759167.py][line:35][INFO] Results: [{'label': 'positive', 'score': 0.543412446975708}]\n",
      "[2025-01-29 22:37:31,754][3776759167.py][line:35][INFO] Results: [{'label': 'positive', 'score': 0.5583016276359558}]\n",
      "[2025-01-29 22:37:31,769][3776759167.py][line:35][INFO] Results: [{'label': 'positive', 'score': 0.5446578860282898}]\n",
      "[2025-01-29 22:37:31,782][3776759167.py][line:35][INFO] Results: [{'label': 'positive', 'score': 0.5729096531867981}]\n",
      "[2025-01-29 22:37:31,794][3776759167.py][line:35][INFO] Results: [{'label': 'positive', 'score': 0.5596215724945068}]\n",
      "[2025-01-29 22:37:31,807][3776759167.py][line:35][INFO] Results: [{'label': 'positive', 'score': 0.567749559879303}]\n",
      "[2025-01-29 22:37:31,818][3776759167.py][line:35][INFO] Results: [{'label': 'positive', 'score': 0.5228248834609985}]\n",
      "[2025-01-29 22:37:31,830][3776759167.py][line:35][INFO] Results: [{'label': 'positive', 'score': 0.534248948097229}]\n",
      "[2025-01-29 22:37:31,841][3776759167.py][line:35][INFO] Results: [{'label': 'positive', 'score': 0.5729096531867981}]\n",
      "[2025-01-29 22:37:31,854][3776759167.py][line:35][INFO] Results: [{'label': 'positive', 'score': 0.6543101072311401}]\n",
      "[2025-01-29 22:37:31,865][3776759167.py][line:35][INFO] Results: [{'label': 'positive', 'score': 0.5277048349380493}]\n",
      "[2025-01-29 22:37:31,876][3776759167.py][line:35][INFO] Results: [{'label': 'positive', 'score': 0.6932267546653748}]\n",
      "[2025-01-29 22:37:31,888][3776759167.py][line:35][INFO] Results: [{'label': 'positive', 'score': 0.6081655025482178}]\n"
     ]
    },
    {
     "name": "stdout",
     "output_type": "stream",
     "text": [
      "File 126 of 528\r"
     ]
    },
    {
     "name": "stderr",
     "output_type": "stream",
     "text": [
      "[2025-01-29 22:37:31,901][3776759167.py][line:35][INFO] Results: [{'label': 'positive', 'score': 0.5168123245239258}]\n",
      "[2025-01-29 22:37:31,912][3776759167.py][line:35][INFO] Results: [{'label': 'positive', 'score': 0.5382177233695984}]\n",
      "[2025-01-29 22:37:31,924][3776759167.py][line:35][INFO] Results: [{'label': 'positive', 'score': 0.6209471225738525}]\n",
      "[2025-01-29 22:37:31,934][3776759167.py][line:35][INFO] Results: [{'label': 'positive', 'score': 0.6377415657043457}]\n",
      "[2025-01-29 22:37:31,947][3776759167.py][line:35][INFO] Results: [{'label': 'positive', 'score': 0.6088946461677551}]\n",
      "[2025-01-29 22:37:31,959][3776759167.py][line:35][INFO] Results: [{'label': 'positive', 'score': 0.5436664819717407}]\n",
      "[2025-01-29 22:37:31,972][3776759167.py][line:35][INFO] Results: [{'label': 'positive', 'score': 0.472135990858078}]\n",
      "[2025-01-29 22:37:31,984][3776759167.py][line:35][INFO] Results: [{'label': 'positive', 'score': 0.569602906703949}]\n",
      "[2025-01-29 22:37:31,996][3776759167.py][line:35][INFO] Results: [{'label': 'positive', 'score': 0.5335697531700134}]\n",
      "[2025-01-29 22:37:32,008][3776759167.py][line:35][INFO] Results: [{'label': 'positive', 'score': 0.4863283038139343}]\n",
      "[2025-01-29 22:37:32,020][3776759167.py][line:35][INFO] Results: [{'label': 'positive', 'score': 0.5088998675346375}]\n",
      "[2025-01-29 22:37:32,033][3776759167.py][line:35][INFO] Results: [{'label': 'positive', 'score': 0.5637217164039612}]\n",
      "[2025-01-29 22:37:32,045][3776759167.py][line:35][INFO] Results: [{'label': 'positive', 'score': 0.49955347180366516}]\n",
      "[2025-01-29 22:37:32,057][3776759167.py][line:35][INFO] Results: [{'label': 'positive', 'score': 0.4378320574760437}]\n",
      "[2025-01-29 22:37:32,068][3776759167.py][line:35][INFO] Results: [{'label': 'positive', 'score': 0.6053160429000854}]\n"
     ]
    },
    {
     "name": "stdout",
     "output_type": "stream",
     "text": [
      "File 141 of 528\r"
     ]
    },
    {
     "name": "stderr",
     "output_type": "stream",
     "text": [
      "[2025-01-29 22:37:32,082][3776759167.py][line:35][INFO] Results: [{'label': 'positive', 'score': 0.5617124438285828}]\n",
      "[2025-01-29 22:37:32,097][3776759167.py][line:35][INFO] Results: [{'label': 'positive', 'score': 0.5042549967765808}]\n",
      "[2025-01-29 22:37:32,108][3776759167.py][line:35][INFO] Results: [{'label': 'positive', 'score': 0.5114684700965881}]\n",
      "[2025-01-29 22:37:32,121][3776759167.py][line:35][INFO] Results: [{'label': 'positive', 'score': 0.5006294250488281}]\n",
      "[2025-01-29 22:37:32,133][3776759167.py][line:35][INFO] Results: [{'label': 'positive', 'score': 0.5571758151054382}]\n",
      "[2025-01-29 22:37:32,146][3776759167.py][line:35][INFO] Results: [{'label': 'positive', 'score': 0.510105550289154}]\n",
      "[2025-01-29 22:37:32,158][3776759167.py][line:35][INFO] Results: [{'label': 'positive', 'score': 0.5521949529647827}]\n",
      "[2025-01-29 22:37:32,170][3776759167.py][line:35][INFO] Results: [{'label': 'positive', 'score': 0.5184471607208252}]\n",
      "[2025-01-29 22:37:32,183][3776759167.py][line:35][INFO] Results: [{'label': 'positive', 'score': 0.5367840528488159}]\n",
      "[2025-01-29 22:37:32,194][3776759167.py][line:35][INFO] Results: [{'label': 'positive', 'score': 0.575781524181366}]\n",
      "[2025-01-29 22:37:32,208][3776759167.py][line:35][INFO] Results: [{'label': 'positive', 'score': 0.41962888836860657}]\n",
      "[2025-01-29 22:37:32,223][3776759167.py][line:35][INFO] Results: [{'label': 'positive', 'score': 0.47995084524154663}]\n",
      "[2025-01-29 22:37:32,238][3776759167.py][line:35][INFO] Results: [{'label': 'positive', 'score': 0.5827451348304749}]\n",
      "[2025-01-29 22:37:32,253][3776759167.py][line:35][INFO] Results: [{'label': 'positive', 'score': 0.5641651153564453}]\n"
     ]
    },
    {
     "name": "stdout",
     "output_type": "stream",
     "text": [
      "File 155 of 528\r"
     ]
    },
    {
     "name": "stderr",
     "output_type": "stream",
     "text": [
      "[2025-01-29 22:37:32,266][3776759167.py][line:35][INFO] Results: [{'label': 'positive', 'score': 0.5918406844139099}]\n",
      "[2025-01-29 22:37:32,278][3776759167.py][line:35][INFO] Results: [{'label': 'positive', 'score': 0.5884138941764832}]\n",
      "[2025-01-29 22:37:32,291][3776759167.py][line:35][INFO] Results: [{'label': 'positive', 'score': 0.5879090428352356}]\n",
      "[2025-01-29 22:37:32,304][3776759167.py][line:35][INFO] Results: [{'label': 'positive', 'score': 0.4936778247356415}]\n",
      "[2025-01-29 22:37:32,317][3776759167.py][line:35][INFO] Results: [{'label': 'positive', 'score': 0.5390890836715698}]\n",
      "[2025-01-29 22:37:32,329][3776759167.py][line:35][INFO] Results: [{'label': 'positive', 'score': 0.5463740229606628}]\n",
      "[2025-01-29 22:37:32,349][3776759167.py][line:35][INFO] Results: [{'label': 'positive', 'score': 0.49184849858283997}]\n",
      "[2025-01-29 22:37:32,361][3776759167.py][line:35][INFO] Results: [{'label': 'positive', 'score': 0.5640946626663208}]\n",
      "[2025-01-29 22:37:32,375][3776759167.py][line:35][INFO] Results: [{'label': 'positive', 'score': 0.5468238592147827}]\n",
      "[2025-01-29 22:37:32,388][3776759167.py][line:35][INFO] Results: [{'label': 'positive', 'score': 0.5520539879798889}]\n",
      "[2025-01-29 22:37:32,400][3776759167.py][line:35][INFO] Results: [{'label': 'positive', 'score': 0.5909174680709839}]\n",
      "[2025-01-29 22:37:32,413][3776759167.py][line:35][INFO] Results: [{'label': 'positive', 'score': 0.6866854429244995}]\n",
      "[2025-01-29 22:37:32,425][3776759167.py][line:35][INFO] Results: [{'label': 'positive', 'score': 0.6123536825180054}]\n",
      "[2025-01-29 22:37:32,437][3776759167.py][line:35][INFO] Results: [{'label': 'positive', 'score': 0.5624944567680359}]\n",
      "[2025-01-29 22:37:32,449][3776759167.py][line:35][INFO] Results: [{'label': 'positive', 'score': 0.5782371163368225}]\n"
     ]
    },
    {
     "name": "stdout",
     "output_type": "stream",
     "text": [
      "File 170 of 528\r"
     ]
    },
    {
     "name": "stderr",
     "output_type": "stream",
     "text": [
      "[2025-01-29 22:37:32,461][3776759167.py][line:35][INFO] Results: [{'label': 'positive', 'score': 0.5729096531867981}]\n",
      "[2025-01-29 22:37:32,473][3776759167.py][line:35][INFO] Results: [{'label': 'positive', 'score': 0.5091782808303833}]\n",
      "[2025-01-29 22:37:32,484][3776759167.py][line:35][INFO] Results: [{'label': 'positive', 'score': 0.5487788319587708}]\n",
      "[2025-01-29 22:37:32,497][3776759167.py][line:35][INFO] Results: [{'label': 'positive', 'score': 0.48250627517700195}]\n",
      "[2025-01-29 22:37:32,510][3776759167.py][line:35][INFO] Results: [{'label': 'positive', 'score': 0.5345637798309326}]\n",
      "[2025-01-29 22:37:32,523][3776759167.py][line:35][INFO] Results: [{'label': 'positive', 'score': 0.5225776433944702}]\n",
      "[2025-01-29 22:37:32,534][3776759167.py][line:35][INFO] Results: [{'label': 'negative', 'score': 0.39532893896102905}]\n",
      "[2025-01-29 22:37:32,545][3776759167.py][line:35][INFO] Results: [{'label': 'positive', 'score': 0.5312480926513672}]\n",
      "[2025-01-29 22:37:32,558][3776759167.py][line:35][INFO] Results: [{'label': 'positive', 'score': 0.575781524181366}]\n",
      "[2025-01-29 22:37:32,571][3776759167.py][line:35][INFO] Results: [{'label': 'positive', 'score': 0.4254279136657715}]\n",
      "[2025-01-29 22:37:32,586][3776759167.py][line:35][INFO] Results: [{'label': 'positive', 'score': 0.5410346984863281}]\n",
      "[2025-01-29 22:37:32,600][3776759167.py][line:35][INFO] Results: [{'label': 'positive', 'score': 0.5262621641159058}]\n",
      "[2025-01-29 22:37:32,614][3776759167.py][line:35][INFO] Results: [{'label': 'positive', 'score': 0.4325246810913086}]\n",
      "[2025-01-29 22:37:32,627][3776759167.py][line:35][INFO] Results: [{'label': 'positive', 'score': 0.5184187293052673}]\n"
     ]
    },
    {
     "name": "stdout",
     "output_type": "stream",
     "text": [
      "File 184 of 528\r"
     ]
    },
    {
     "name": "stderr",
     "output_type": "stream",
     "text": [
      "[2025-01-29 22:37:32,641][3776759167.py][line:35][INFO] Results: [{'label': 'positive', 'score': 0.4802171587944031}]\n",
      "[2025-01-29 22:37:32,661][3776759167.py][line:35][INFO] Results: [{'label': 'positive', 'score': 0.523764431476593}]\n",
      "[2025-01-29 22:37:32,678][3776759167.py][line:35][INFO] Results: [{'label': 'positive', 'score': 0.5591554641723633}]\n",
      "[2025-01-29 22:37:32,690][3776759167.py][line:35][INFO] Results: [{'label': 'positive', 'score': 0.4838504493236542}]\n",
      "[2025-01-29 22:37:32,704][3776759167.py][line:35][INFO] Results: [{'label': 'positive', 'score': 0.4368956387042999}]\n",
      "[2025-01-29 22:37:32,717][3776759167.py][line:35][INFO] Results: [{'label': 'positive', 'score': 0.5355610847473145}]\n",
      "[2025-01-29 22:37:32,729][3776759167.py][line:35][INFO] Results: [{'label': 'positive', 'score': 0.5330333709716797}]\n",
      "[2025-01-29 22:37:32,741][3776759167.py][line:35][INFO] Results: [{'label': 'positive', 'score': 0.5297543406486511}]\n",
      "[2025-01-29 22:37:32,754][3776759167.py][line:35][INFO] Results: [{'label': 'positive', 'score': 0.4323086142539978}]\n",
      "[2025-01-29 22:37:32,769][3776759167.py][line:35][INFO] Results: [{'label': 'positive', 'score': 0.6474114060401917}]\n",
      "[2025-01-29 22:37:32,783][3776759167.py][line:35][INFO] Results: [{'label': 'positive', 'score': 0.528759241104126}]\n",
      "[2025-01-29 22:37:32,796][3776759167.py][line:35][INFO] Results: [{'label': 'positive', 'score': 0.5616366863250732}]\n",
      "[2025-01-29 22:37:32,809][3776759167.py][line:35][INFO] Results: [{'label': 'positive', 'score': 0.4219975471496582}]\n",
      "[2025-01-29 22:37:32,819][3776759167.py][line:35][INFO] Results: [{'label': 'neutral', 'score': 0.43034860491752625}]\n"
     ]
    },
    {
     "name": "stdout",
     "output_type": "stream",
     "text": [
      "File 198 of 528\r"
     ]
    },
    {
     "name": "stderr",
     "output_type": "stream",
     "text": [
      "[2025-01-29 22:37:32,831][3776759167.py][line:35][INFO] Results: [{'label': 'neutral', 'score': 0.43034860491752625}]\n",
      "[2025-01-29 22:37:32,844][3776759167.py][line:35][INFO] Results: [{'label': 'positive', 'score': 0.5400779247283936}]\n",
      "[2025-01-29 22:37:32,856][3776759167.py][line:35][INFO] Results: [{'label': 'positive', 'score': 0.5078226923942566}]\n",
      "[2025-01-29 22:37:32,869][3776759167.py][line:35][INFO] Results: [{'label': 'positive', 'score': 0.6415098309516907}]\n",
      "[2025-01-29 22:37:32,881][3776759167.py][line:35][INFO] Results: [{'label': 'positive', 'score': 0.520006537437439}]\n",
      "[2025-01-29 22:37:32,895][3776759167.py][line:35][INFO] Results: [{'label': 'positive', 'score': 0.5224799513816833}]\n",
      "[2025-01-29 22:37:32,906][3776759167.py][line:35][INFO] Results: [{'label': 'positive', 'score': 0.4876094162464142}]\n",
      "[2025-01-29 22:37:32,919][3776759167.py][line:35][INFO] Results: [{'label': 'positive', 'score': 0.48573946952819824}]\n",
      "[2025-01-29 22:37:32,931][3776759167.py][line:35][INFO] Results: [{'label': 'positive', 'score': 0.44941800832748413}]\n",
      "[2025-01-29 22:37:32,945][3776759167.py][line:35][INFO] Results: [{'label': 'positive', 'score': 0.5826995372772217}]\n",
      "[2025-01-29 22:37:32,956][3776759167.py][line:35][INFO] Results: [{'label': 'positive', 'score': 0.49060961604118347}]\n",
      "[2025-01-29 22:37:32,969][3776759167.py][line:35][INFO] Results: [{'label': 'positive', 'score': 0.5844041705131531}]\n",
      "[2025-01-29 22:37:32,980][3776759167.py][line:35][INFO] Results: [{'label': 'positive', 'score': 0.49358421564102173}]\n",
      "[2025-01-29 22:37:32,992][3776759167.py][line:35][INFO] Results: [{'label': 'negative', 'score': 0.354397714138031}]\n"
     ]
    },
    {
     "name": "stdout",
     "output_type": "stream",
     "text": [
      "File 213 of 528\r"
     ]
    },
    {
     "name": "stderr",
     "output_type": "stream",
     "text": [
      "[2025-01-29 22:37:33,003][3776759167.py][line:35][INFO] Results: [{'label': 'positive', 'score': 0.657890796661377}]\n",
      "[2025-01-29 22:37:33,016][3776759167.py][line:35][INFO] Results: [{'label': 'positive', 'score': 0.41693657636642456}]\n",
      "[2025-01-29 22:37:33,029][3776759167.py][line:35][INFO] Results: [{'label': 'negative', 'score': 0.39261165261268616}]\n",
      "[2025-01-29 22:37:33,041][3776759167.py][line:35][INFO] Results: [{'label': 'positive', 'score': 0.5897012948989868}]\n",
      "[2025-01-29 22:37:33,053][3776759167.py][line:35][INFO] Results: [{'label': 'positive', 'score': 0.5482879281044006}]\n",
      "[2025-01-29 22:37:33,065][3776759167.py][line:35][INFO] Results: [{'label': 'positive', 'score': 0.5502825379371643}]\n",
      "[2025-01-29 22:37:33,078][3776759167.py][line:35][INFO] Results: [{'label': 'positive', 'score': 0.5285615921020508}]\n",
      "[2025-01-29 22:37:33,090][3776759167.py][line:35][INFO] Results: [{'label': 'positive', 'score': 0.5250275135040283}]\n",
      "[2025-01-29 22:37:33,103][3776759167.py][line:35][INFO] Results: [{'label': 'positive', 'score': 0.5859543681144714}]\n",
      "[2025-01-29 22:37:33,117][3776759167.py][line:35][INFO] Results: [{'label': 'positive', 'score': 0.5938329100608826}]\n",
      "[2025-01-29 22:37:33,131][3776759167.py][line:35][INFO] Results: [{'label': 'positive', 'score': 0.6168537139892578}]\n",
      "[2025-01-29 22:37:33,142][3776759167.py][line:35][INFO] Results: [{'label': 'positive', 'score': 0.5238754749298096}]\n",
      "[2025-01-29 22:37:33,154][3776759167.py][line:35][INFO] Results: [{'label': 'negative', 'score': 0.37495964765548706}]\n",
      "[2025-01-29 22:37:33,167][3776759167.py][line:35][INFO] Results: [{'label': 'positive', 'score': 0.5465754270553589}]\n",
      "[2025-01-29 22:37:33,178][3776759167.py][line:35][INFO] Results: [{'label': 'positive', 'score': 0.5059793591499329}]\n",
      "[2025-01-29 22:37:33,189][3776759167.py][line:35][INFO] Results: [{'label': 'positive', 'score': 0.580066442489624}]\n",
      "[2025-01-29 22:37:33,201][3776759167.py][line:35][INFO] Results: [{'label': 'positive', 'score': 0.6140372157096863}]\n"
     ]
    },
    {
     "name": "stdout",
     "output_type": "stream",
     "text": [
      "File 229 of 528\r"
     ]
    },
    {
     "name": "stderr",
     "output_type": "stream",
     "text": [
      "[2025-01-29 22:37:33,212][3776759167.py][line:35][INFO] Results: [{'label': 'positive', 'score': 0.569844663143158}]\n",
      "[2025-01-29 22:37:33,224][3776759167.py][line:35][INFO] Results: [{'label': 'positive', 'score': 0.48896971344947815}]\n",
      "[2025-01-29 22:37:33,236][3776759167.py][line:35][INFO] Results: [{'label': 'positive', 'score': 0.4997750222682953}]\n",
      "[2025-01-29 22:37:33,248][3776759167.py][line:35][INFO] Results: [{'label': 'positive', 'score': 0.5499666333198547}]\n",
      "[2025-01-29 22:37:33,262][3776759167.py][line:35][INFO] Results: [{'label': 'positive', 'score': 0.4668864607810974}]\n",
      "[2025-01-29 22:37:33,273][3776759167.py][line:35][INFO] Results: [{'label': 'positive', 'score': 0.5090988874435425}]\n",
      "[2025-01-29 22:37:33,286][3776759167.py][line:35][INFO] Results: [{'label': 'positive', 'score': 0.5662516951560974}]\n",
      "[2025-01-29 22:37:33,298][3776759167.py][line:35][INFO] Results: [{'label': 'positive', 'score': 0.5729096531867981}]\n",
      "[2025-01-29 22:37:33,311][3776759167.py][line:35][INFO] Results: [{'label': 'positive', 'score': 0.5473754405975342}]\n",
      "[2025-01-29 22:37:33,323][3776759167.py][line:35][INFO] Results: [{'label': 'positive', 'score': 0.5729096531867981}]\n",
      "[2025-01-29 22:37:33,335][3776759167.py][line:35][INFO] Results: [{'label': 'negative', 'score': 0.3991871774196625}]\n",
      "[2025-01-29 22:37:33,347][3776759167.py][line:35][INFO] Results: [{'label': 'positive', 'score': 0.5093971490859985}]\n",
      "[2025-01-29 22:37:33,360][3776759167.py][line:35][INFO] Results: [{'label': 'positive', 'score': 0.5806652307510376}]\n",
      "[2025-01-29 22:37:33,372][3776759167.py][line:35][INFO] Results: [{'label': 'positive', 'score': 0.5953546762466431}]\n"
     ]
    },
    {
     "name": "stdout",
     "output_type": "stream",
     "text": [
      "File 244 of 528\r"
     ]
    },
    {
     "name": "stderr",
     "output_type": "stream",
     "text": [
      "[2025-01-29 22:37:33,384][3776759167.py][line:35][INFO] Results: [{'label': 'positive', 'score': 0.539654552936554}]\n",
      "[2025-01-29 22:37:33,398][3776759167.py][line:35][INFO] Results: [{'label': 'positive', 'score': 0.4220951199531555}]\n",
      "[2025-01-29 22:37:33,409][3776759167.py][line:35][INFO] Results: [{'label': 'positive', 'score': 0.5533501505851746}]\n",
      "[2025-01-29 22:37:33,421][3776759167.py][line:35][INFO] Results: [{'label': 'positive', 'score': 0.5305905938148499}]\n",
      "[2025-01-29 22:37:33,432][3776759167.py][line:35][INFO] Results: [{'label': 'positive', 'score': 0.4871154725551605}]\n",
      "[2025-01-29 22:37:33,444][3776759167.py][line:35][INFO] Results: [{'label': 'positive', 'score': 0.5634077191352844}]\n",
      "[2025-01-29 22:37:33,456][3776759167.py][line:35][INFO] Results: [{'label': 'positive', 'score': 0.5058143138885498}]\n",
      "[2025-01-29 22:37:33,470][3776759167.py][line:35][INFO] Results: [{'label': 'positive', 'score': 0.5417075753211975}]\n",
      "[2025-01-29 22:37:33,482][3776759167.py][line:35][INFO] Results: [{'label': 'positive', 'score': 0.5623782277107239}]\n",
      "[2025-01-29 22:37:33,494][3776759167.py][line:35][INFO] Results: [{'label': 'positive', 'score': 0.5827153921127319}]\n",
      "[2025-01-29 22:37:33,506][3776759167.py][line:35][INFO] Results: [{'label': 'positive', 'score': 0.5609350204467773}]\n",
      "[2025-01-29 22:37:33,517][3776759167.py][line:35][INFO] Results: [{'label': 'positive', 'score': 0.6327202916145325}]\n",
      "[2025-01-29 22:37:33,529][3776759167.py][line:35][INFO] Results: [{'label': 'positive', 'score': 0.5022090077400208}]\n",
      "[2025-01-29 22:37:33,541][3776759167.py][line:35][INFO] Results: [{'label': 'positive', 'score': 0.46440547704696655}]\n",
      "[2025-01-29 22:37:33,553][3776759167.py][line:35][INFO] Results: [{'label': 'positive', 'score': 0.5578494668006897}]\n",
      "[2025-01-29 22:37:33,565][3776759167.py][line:35][INFO] Results: [{'label': 'positive', 'score': 0.5376542806625366}]\n"
     ]
    },
    {
     "name": "stdout",
     "output_type": "stream",
     "text": [
      "File 259 of 528\r"
     ]
    },
    {
     "name": "stderr",
     "output_type": "stream",
     "text": [
      "[2025-01-29 22:37:33,578][3776759167.py][line:35][INFO] Results: [{'label': 'positive', 'score': 0.5095403790473938}]\n",
      "[2025-01-29 22:37:33,589][3776759167.py][line:35][INFO] Results: [{'label': 'positive', 'score': 0.5729096531867981}]\n",
      "[2025-01-29 22:37:33,601][3776759167.py][line:35][INFO] Results: [{'label': 'positive', 'score': 0.5435949563980103}]\n",
      "[2025-01-29 22:37:33,612][3776759167.py][line:35][INFO] Results: [{'label': 'positive', 'score': 0.5143048763275146}]\n",
      "[2025-01-29 22:37:33,625][3776759167.py][line:35][INFO] Results: [{'label': 'positive', 'score': 0.5729096531867981}]\n",
      "[2025-01-29 22:37:33,638][3776759167.py][line:35][INFO] Results: [{'label': 'positive', 'score': 0.4889121353626251}]\n",
      "[2025-01-29 22:37:33,651][3776759167.py][line:35][INFO] Results: [{'label': 'positive', 'score': 0.5399340987205505}]\n",
      "[2025-01-29 22:37:33,665][3776759167.py][line:35][INFO] Results: [{'label': 'positive', 'score': 0.5576266050338745}]\n",
      "[2025-01-29 22:37:33,677][3776759167.py][line:35][INFO] Results: [{'label': 'positive', 'score': 0.546062171459198}]\n",
      "[2025-01-29 22:37:33,689][3776759167.py][line:35][INFO] Results: [{'label': 'positive', 'score': 0.518121063709259}]\n",
      "[2025-01-29 22:37:33,701][3776759167.py][line:35][INFO] Results: [{'label': 'positive', 'score': 0.529594361782074}]\n",
      "[2025-01-29 22:37:33,713][3776759167.py][line:35][INFO] Results: [{'label': 'positive', 'score': 0.6417587399482727}]\n",
      "[2025-01-29 22:37:33,724][3776759167.py][line:35][INFO] Results: [{'label': 'negative', 'score': 0.4056689441204071}]\n",
      "[2025-01-29 22:37:33,736][3776759167.py][line:35][INFO] Results: [{'label': 'positive', 'score': 0.49561047554016113}]\n",
      "[2025-01-29 22:37:33,748][3776759167.py][line:35][INFO] Results: [{'label': 'positive', 'score': 0.43615755438804626}]\n",
      "[2025-01-29 22:37:33,759][3776759167.py][line:35][INFO] Results: [{'label': 'positive', 'score': 0.6119738221168518}]\n"
     ]
    },
    {
     "name": "stdout",
     "output_type": "stream",
     "text": [
      "File 275 of 528\r"
     ]
    },
    {
     "name": "stderr",
     "output_type": "stream",
     "text": [
      "[2025-01-29 22:37:33,772][3776759167.py][line:35][INFO] Results: [{'label': 'positive', 'score': 0.5467512011528015}]\n",
      "[2025-01-29 22:37:33,785][3776759167.py][line:35][INFO] Results: [{'label': 'positive', 'score': 0.5509092211723328}]\n",
      "[2025-01-29 22:37:33,795][3776759167.py][line:35][INFO] Results: [{'label': 'positive', 'score': 0.7370338439941406}]\n",
      "[2025-01-29 22:37:33,808][3776759167.py][line:35][INFO] Results: [{'label': 'positive', 'score': 0.39068686962127686}]\n",
      "[2025-01-29 22:37:33,820][3776759167.py][line:35][INFO] Results: [{'label': 'positive', 'score': 0.5554412007331848}]\n",
      "[2025-01-29 22:37:33,832][3776759167.py][line:35][INFO] Results: [{'label': 'positive', 'score': 0.5321944952011108}]\n",
      "[2025-01-29 22:37:33,845][3776759167.py][line:35][INFO] Results: [{'label': 'positive', 'score': 0.4790768623352051}]\n",
      "[2025-01-29 22:37:33,856][3776759167.py][line:35][INFO] Results: [{'label': 'positive', 'score': 0.5373205542564392}]\n",
      "[2025-01-29 22:37:33,868][3776759167.py][line:35][INFO] Results: [{'label': 'positive', 'score': 0.566203236579895}]\n",
      "[2025-01-29 22:37:33,879][3776759167.py][line:35][INFO] Results: [{'label': 'positive', 'score': 0.5762605667114258}]\n",
      "[2025-01-29 22:37:33,892][3776759167.py][line:35][INFO] Results: [{'label': 'positive', 'score': 0.486844927072525}]\n",
      "[2025-01-29 22:37:33,904][3776759167.py][line:35][INFO] Results: [{'label': 'positive', 'score': 0.48688411712646484}]\n",
      "[2025-01-29 22:37:33,917][3776759167.py][line:35][INFO] Results: [{'label': 'positive', 'score': 0.42145100235939026}]\n",
      "[2025-01-29 22:37:33,930][3776759167.py][line:35][INFO] Results: [{'label': 'positive', 'score': 0.5309873223304749}]\n",
      "[2025-01-29 22:37:33,941][3776759167.py][line:35][INFO] Results: [{'label': 'positive', 'score': 0.5956873893737793}]\n"
     ]
    },
    {
     "name": "stdout",
     "output_type": "stream",
     "text": [
      "File 290 of 528\r"
     ]
    },
    {
     "name": "stderr",
     "output_type": "stream",
     "text": [
      "[2025-01-29 22:37:33,954][3776759167.py][line:35][INFO] Results: [{'label': 'positive', 'score': 0.49143552780151367}]\n",
      "[2025-01-29 22:37:33,967][3776759167.py][line:35][INFO] Results: [{'label': 'positive', 'score': 0.5141960382461548}]\n",
      "[2025-01-29 22:37:33,979][3776759167.py][line:35][INFO] Results: [{'label': 'positive', 'score': 0.6223056316375732}]\n",
      "[2025-01-29 22:37:33,989][3776759167.py][line:35][INFO] Results: [{'label': 'neutral', 'score': 0.43034860491752625}]\n",
      "[2025-01-29 22:37:34,000][3776759167.py][line:35][INFO] Results: [{'label': 'positive', 'score': 0.6366602778434753}]\n",
      "[2025-01-29 22:37:34,012][3776759167.py][line:35][INFO] Results: [{'label': 'positive', 'score': 0.5358821153640747}]\n",
      "[2025-01-29 22:37:34,024][3776759167.py][line:35][INFO] Results: [{'label': 'positive', 'score': 0.5062190890312195}]\n",
      "[2025-01-29 22:37:34,036][3776759167.py][line:35][INFO] Results: [{'label': 'positive', 'score': 0.5176733136177063}]\n",
      "[2025-01-29 22:37:34,047][3776759167.py][line:35][INFO] Results: [{'label': 'positive', 'score': 0.483540803194046}]\n",
      "[2025-01-29 22:37:34,058][3776759167.py][line:35][INFO] Results: [{'label': 'positive', 'score': 0.5111831426620483}]\n",
      "[2025-01-29 22:37:34,069][3776759167.py][line:35][INFO] Results: [{'label': 'positive', 'score': 0.43274179100990295}]\n",
      "[2025-01-29 22:37:34,082][3776759167.py][line:35][INFO] Results: [{'label': 'positive', 'score': 0.5820643901824951}]\n",
      "[2025-01-29 22:37:34,094][3776759167.py][line:35][INFO] Results: [{'label': 'positive', 'score': 0.4761302173137665}]\n",
      "[2025-01-29 22:37:34,106][3776759167.py][line:35][INFO] Results: [{'label': 'negative', 'score': 0.43615734577178955}]\n",
      "[2025-01-29 22:37:34,117][3776759167.py][line:35][INFO] Results: [{'label': 'neutral', 'score': 0.43034860491752625}]\n",
      "[2025-01-29 22:37:34,130][3776759167.py][line:35][INFO] Results: [{'label': 'positive', 'score': 0.48711276054382324}]\n"
     ]
    },
    {
     "name": "stdout",
     "output_type": "stream",
     "text": [
      "File 306 of 528\r"
     ]
    },
    {
     "name": "stderr",
     "output_type": "stream",
     "text": [
      "[2025-01-29 22:37:34,142][3776759167.py][line:35][INFO] Results: [{'label': 'positive', 'score': 0.5358990430831909}]\n",
      "[2025-01-29 22:37:34,154][3776759167.py][line:35][INFO] Results: [{'label': 'positive', 'score': 0.3571314811706543}]\n",
      "[2025-01-29 22:37:34,167][3776759167.py][line:35][INFO] Results: [{'label': 'positive', 'score': 0.520281195640564}]\n",
      "[2025-01-29 22:37:34,178][3776759167.py][line:35][INFO] Results: [{'label': 'positive', 'score': 0.45933032035827637}]\n",
      "[2025-01-29 22:37:34,192][3776759167.py][line:35][INFO] Results: [{'label': 'positive', 'score': 0.5841720700263977}]\n",
      "[2025-01-29 22:37:34,204][3776759167.py][line:35][INFO] Results: [{'label': 'positive', 'score': 0.5435169339179993}]\n",
      "[2025-01-29 22:37:34,218][3776759167.py][line:35][INFO] Results: [{'label': 'positive', 'score': 0.4971246123313904}]\n",
      "[2025-01-29 22:37:34,230][3776759167.py][line:35][INFO] Results: [{'label': 'positive', 'score': 0.5553393363952637}]\n",
      "[2025-01-29 22:37:34,242][3776759167.py][line:35][INFO] Results: [{'label': 'positive', 'score': 0.5676807165145874}]\n",
      "[2025-01-29 22:37:34,254][3776759167.py][line:35][INFO] Results: [{'label': 'positive', 'score': 0.5793731212615967}]\n",
      "[2025-01-29 22:37:34,266][3776759167.py][line:35][INFO] Results: [{'label': 'positive', 'score': 0.5869660973548889}]\n",
      "[2025-01-29 22:37:34,278][3776759167.py][line:35][INFO] Results: [{'label': 'positive', 'score': 0.6017602682113647}]\n",
      "[2025-01-29 22:37:34,289][3776759167.py][line:35][INFO] Results: [{'label': 'positive', 'score': 0.6120967864990234}]\n",
      "[2025-01-29 22:37:34,302][3776759167.py][line:35][INFO] Results: [{'label': 'positive', 'score': 0.4208669066429138}]\n",
      "[2025-01-29 22:37:34,312][3776759167.py][line:35][INFO] Results: [{'label': 'positive', 'score': 0.46619507670402527}]\n",
      "[2025-01-29 22:37:34,324][3776759167.py][line:35][INFO] Results: [{'label': 'positive', 'score': 0.5423018932342529}]\n"
     ]
    },
    {
     "name": "stdout",
     "output_type": "stream",
     "text": [
      "File 322 of 528\r"
     ]
    },
    {
     "name": "stderr",
     "output_type": "stream",
     "text": [
      "[2025-01-29 22:37:34,337][3776759167.py][line:35][INFO] Results: [{'label': 'positive', 'score': 0.5465400815010071}]\n",
      "[2025-01-29 22:37:34,350][3776759167.py][line:35][INFO] Results: [{'label': 'positive', 'score': 0.6206197142601013}]\n",
      "[2025-01-29 22:37:34,362][3776759167.py][line:35][INFO] Results: [{'label': 'positive', 'score': 0.5173066854476929}]\n",
      "[2025-01-29 22:37:34,373][3776759167.py][line:35][INFO] Results: [{'label': 'negative', 'score': 0.35878095030784607}]\n",
      "[2025-01-29 22:37:34,386][3776759167.py][line:35][INFO] Results: [{'label': 'positive', 'score': 0.6022096276283264}]\n",
      "[2025-01-29 22:37:34,398][3776759167.py][line:35][INFO] Results: [{'label': 'positive', 'score': 0.5747877955436707}]\n",
      "[2025-01-29 22:37:34,410][3776759167.py][line:35][INFO] Results: [{'label': 'positive', 'score': 0.5669267773628235}]\n",
      "[2025-01-29 22:37:34,426][3776759167.py][line:35][INFO] Results: [{'label': 'positive', 'score': 0.5994587540626526}]\n",
      "[2025-01-29 22:37:34,439][3776759167.py][line:35][INFO] Results: [{'label': 'positive', 'score': 0.5708004832267761}]\n",
      "[2025-01-29 22:37:34,456][3776759167.py][line:35][INFO] Results: [{'label': 'positive', 'score': 0.5701131224632263}]\n",
      "[2025-01-29 22:37:34,467][3776759167.py][line:35][INFO] Results: [{'label': 'positive', 'score': 0.5610060691833496}]\n",
      "[2025-01-29 22:37:34,480][3776759167.py][line:35][INFO] Results: [{'label': 'positive', 'score': 0.5494828820228577}]\n",
      "[2025-01-29 22:37:34,492][3776759167.py][line:35][INFO] Results: [{'label': 'positive', 'score': 0.4914996922016144}]\n",
      "[2025-01-29 22:37:34,503][3776759167.py][line:35][INFO] Results: [{'label': 'negative', 'score': 0.3995625972747803}]\n"
     ]
    },
    {
     "name": "stdout",
     "output_type": "stream",
     "text": [
      "File 336 of 528\r"
     ]
    },
    {
     "name": "stderr",
     "output_type": "stream",
     "text": [
      "[2025-01-29 22:37:34,515][3776759167.py][line:35][INFO] Results: [{'label': 'positive', 'score': 0.47083351016044617}]\n",
      "[2025-01-29 22:37:34,528][3776759167.py][line:35][INFO] Results: [{'label': 'positive', 'score': 0.5273053646087646}]\n",
      "[2025-01-29 22:37:34,540][3776759167.py][line:35][INFO] Results: [{'label': 'positive', 'score': 0.6065958142280579}]\n",
      "[2025-01-29 22:37:34,554][3776759167.py][line:35][INFO] Results: [{'label': 'positive', 'score': 0.49485841393470764}]\n",
      "[2025-01-29 22:37:34,565][3776759167.py][line:35][INFO] Results: [{'label': 'positive', 'score': 0.7323477864265442}]\n",
      "[2025-01-29 22:37:34,577][3776759167.py][line:35][INFO] Results: [{'label': 'positive', 'score': 0.5135500431060791}]\n",
      "[2025-01-29 22:37:34,588][3776759167.py][line:35][INFO] Results: [{'label': 'positive', 'score': 0.5253773927688599}]\n",
      "[2025-01-29 22:37:34,600][3776759167.py][line:35][INFO] Results: [{'label': 'positive', 'score': 0.4826105237007141}]\n",
      "[2025-01-29 22:37:34,611][3776759167.py][line:35][INFO] Results: [{'label': 'positive', 'score': 0.5678426027297974}]\n",
      "[2025-01-29 22:37:34,624][3776759167.py][line:35][INFO] Results: [{'label': 'positive', 'score': 0.6951301097869873}]\n",
      "[2025-01-29 22:37:34,636][3776759167.py][line:35][INFO] Results: [{'label': 'positive', 'score': 0.5652391314506531}]\n",
      "[2025-01-29 22:37:34,647][3776759167.py][line:35][INFO] Results: [{'label': 'positive', 'score': 0.5506452918052673}]\n",
      "[2025-01-29 22:37:34,661][3776759167.py][line:35][INFO] Results: [{'label': 'positive', 'score': 0.5509953498840332}]\n",
      "[2025-01-29 22:37:34,674][3776759167.py][line:35][INFO] Results: [{'label': 'positive', 'score': 0.5236067175865173}]\n",
      "[2025-01-29 22:37:34,687][3776759167.py][line:35][INFO] Results: [{'label': 'positive', 'score': 0.6512695550918579}]\n",
      "[2025-01-29 22:37:34,697][3776759167.py][line:35][INFO] Results: [{'label': 'positive', 'score': 0.5729096531867981}]\n"
     ]
    },
    {
     "name": "stdout",
     "output_type": "stream",
     "text": [
      "File 352 of 528\r"
     ]
    },
    {
     "name": "stderr",
     "output_type": "stream",
     "text": [
      "[2025-01-29 22:37:34,709][3776759167.py][line:35][INFO] Results: [{'label': 'positive', 'score': 0.5729096531867981}]\n",
      "[2025-01-29 22:37:34,721][3776759167.py][line:35][INFO] Results: [{'label': 'positive', 'score': 0.5712223052978516}]\n",
      "[2025-01-29 22:37:34,732][3776759167.py][line:35][INFO] Results: [{'label': 'positive', 'score': 0.5059285163879395}]\n",
      "[2025-01-29 22:37:34,743][3776759167.py][line:35][INFO] Results: [{'label': 'positive', 'score': 0.6005964279174805}]\n",
      "[2025-01-29 22:37:34,754][3776759167.py][line:35][INFO] Results: [{'label': 'positive', 'score': 0.5059285163879395}]\n",
      "[2025-01-29 22:37:34,766][3776759167.py][line:35][INFO] Results: [{'label': 'positive', 'score': 0.5455523133277893}]\n",
      "[2025-01-29 22:37:34,778][3776759167.py][line:35][INFO] Results: [{'label': 'positive', 'score': 0.6796619296073914}]\n",
      "[2025-01-29 22:37:34,791][3776759167.py][line:35][INFO] Results: [{'label': 'positive', 'score': 0.6394131183624268}]\n",
      "[2025-01-29 22:37:34,803][3776759167.py][line:35][INFO] Results: [{'label': 'positive', 'score': 0.6166435480117798}]\n",
      "[2025-01-29 22:37:34,820][3776759167.py][line:35][INFO] Results: [{'label': 'positive', 'score': 0.5059285163879395}]\n",
      "[2025-01-29 22:37:34,831][3776759167.py][line:35][INFO] Results: [{'label': 'positive', 'score': 0.5059285163879395}]\n",
      "[2025-01-29 22:37:34,842][3776759167.py][line:35][INFO] Results: [{'label': 'positive', 'score': 0.5059285163879395}]\n",
      "[2025-01-29 22:37:34,854][3776759167.py][line:35][INFO] Results: [{'label': 'positive', 'score': 0.5839391946792603}]\n",
      "[2025-01-29 22:37:34,866][3776759167.py][line:35][INFO] Results: [{'label': 'positive', 'score': 0.531214714050293}]\n",
      "[2025-01-29 22:37:34,878][3776759167.py][line:35][INFO] Results: [{'label': 'positive', 'score': 0.5524042248725891}]\n"
     ]
    },
    {
     "name": "stdout",
     "output_type": "stream",
     "text": [
      "File 368 of 528\r"
     ]
    },
    {
     "name": "stderr",
     "output_type": "stream",
     "text": [
      "[2025-01-29 22:37:34,890][3776759167.py][line:35][INFO] Results: [{'label': 'positive', 'score': 0.5729096531867981}]\n",
      "[2025-01-29 22:37:34,902][3776759167.py][line:35][INFO] Results: [{'label': 'positive', 'score': 0.5037785172462463}]\n",
      "[2025-01-29 22:37:34,913][3776759167.py][line:35][INFO] Results: [{'label': 'positive', 'score': 0.4643031656742096}]\n",
      "[2025-01-29 22:37:34,925][3776759167.py][line:35][INFO] Results: [{'label': 'positive', 'score': 0.5819733738899231}]\n",
      "[2025-01-29 22:37:34,937][3776759167.py][line:35][INFO] Results: [{'label': 'positive', 'score': 0.4413014352321625}]\n",
      "[2025-01-29 22:37:34,951][3776759167.py][line:35][INFO] Results: [{'label': 'positive', 'score': 0.5489239692687988}]\n",
      "[2025-01-29 22:37:34,963][3776759167.py][line:35][INFO] Results: [{'label': 'positive', 'score': 0.49961334466934204}]\n",
      "[2025-01-29 22:37:34,974][3776759167.py][line:35][INFO] Results: [{'label': 'positive', 'score': 0.5941038131713867}]\n",
      "[2025-01-29 22:37:34,986][3776759167.py][line:35][INFO] Results: [{'label': 'positive', 'score': 0.5492188930511475}]\n",
      "[2025-01-29 22:37:34,998][3776759167.py][line:35][INFO] Results: [{'label': 'positive', 'score': 0.47426116466522217}]\n",
      "[2025-01-29 22:37:35,011][3776759167.py][line:35][INFO] Results: [{'label': 'positive', 'score': 0.570949375629425}]\n",
      "[2025-01-29 22:37:35,027][3776759167.py][line:35][INFO] Results: [{'label': 'positive', 'score': 0.5923966765403748}]\n",
      "[2025-01-29 22:37:35,039][3776759167.py][line:35][INFO] Results: [{'label': 'positive', 'score': 0.5109743475914001}]\n",
      "[2025-01-29 22:37:35,052][3776759167.py][line:35][INFO] Results: [{'label': 'positive', 'score': 0.4979437291622162}]\n",
      "[2025-01-29 22:37:35,064][3776759167.py][line:35][INFO] Results: [{'label': 'positive', 'score': 0.4825949966907501}]\n",
      "[2025-01-29 22:37:35,076][3776759167.py][line:35][INFO] Results: [{'label': 'positive', 'score': 0.5547141432762146}]\n"
     ]
    },
    {
     "name": "stdout",
     "output_type": "stream",
     "text": [
      "File 383 of 528\r"
     ]
    },
    {
     "name": "stderr",
     "output_type": "stream",
     "text": [
      "[2025-01-29 22:37:35,077][3776759167.py][line:23][INFO] Now on file: Ses01M_script03_1_F007. Take note that this transcription is actually blank and not an error (i.e: ' ').\n",
      "[2025-01-29 22:37:35,088][3776759167.py][line:35][INFO] Results: [{'label': 'positive', 'score': 0.5004075765609741}]\n",
      "[2025-01-29 22:37:35,099][3776759167.py][line:35][INFO] Results: [{'label': 'positive', 'score': 0.6280348896980286}]\n",
      "[2025-01-29 22:37:35,111][3776759167.py][line:35][INFO] Results: [{'label': 'positive', 'score': 0.5031254887580872}]\n",
      "[2025-01-29 22:37:35,112][3776759167.py][line:23][INFO] Now on file: Ses01M_script03_1_F010. Take note that this transcription is actually blank and not an error (i.e: ' ').\n",
      "[2025-01-29 22:37:35,123][3776759167.py][line:35][INFO] Results: [{'label': 'positive', 'score': 0.5004075765609741}]\n",
      "[2025-01-29 22:37:35,134][3776759167.py][line:35][INFO] Results: [{'label': 'positive', 'score': 0.4844466745853424}]\n",
      "[2025-01-29 22:37:35,147][3776759167.py][line:35][INFO] Results: [{'label': 'positive', 'score': 0.6201854944229126}]\n",
      "[2025-01-29 22:37:35,159][3776759167.py][line:35][INFO] Results: [{'label': 'positive', 'score': 0.4959546625614166}]\n",
      "[2025-01-29 22:37:35,172][3776759167.py][line:35][INFO] Results: [{'label': 'positive', 'score': 0.5221880674362183}]\n",
      "[2025-01-29 22:37:35,184][3776759167.py][line:35][INFO] Results: [{'label': 'positive', 'score': 0.6094899773597717}]\n",
      "[2025-01-29 22:37:35,197][3776759167.py][line:35][INFO] Results: [{'label': 'positive', 'score': 0.5799549221992493}]\n",
      "[2025-01-29 22:37:35,209][3776759167.py][line:35][INFO] Results: [{'label': 'positive', 'score': 0.5714746713638306}]\n",
      "[2025-01-29 22:37:35,221][3776759167.py][line:35][INFO] Results: [{'label': 'positive', 'score': 0.43230700492858887}]\n",
      "[2025-01-29 22:37:35,233][3776759167.py][line:35][INFO] Results: [{'label': 'positive', 'score': 0.6593306064605713}]\n",
      "[2025-01-29 22:37:35,246][3776759167.py][line:35][INFO] Results: [{'label': 'positive', 'score': 0.6349285244941711}]\n",
      "[2025-01-29 22:37:35,257][3776759167.py][line:35][INFO] Results: [{'label': 'positive', 'score': 0.5449269413948059}]\n"
     ]
    },
    {
     "name": "stdout",
     "output_type": "stream",
     "text": [
      "File 398 of 528\r"
     ]
    },
    {
     "name": "stderr",
     "output_type": "stream",
     "text": [
      "[2025-01-29 22:37:35,270][3776759167.py][line:35][INFO] Results: [{'label': 'positive', 'score': 0.5546438097953796}]\n",
      "[2025-01-29 22:37:35,281][3776759167.py][line:35][INFO] Results: [{'label': 'positive', 'score': 0.5915713310241699}]\n",
      "[2025-01-29 22:37:35,293][3776759167.py][line:35][INFO] Results: [{'label': 'positive', 'score': 0.551207959651947}]\n",
      "[2025-01-29 22:37:35,303][3776759167.py][line:35][INFO] Results: [{'label': 'positive', 'score': 0.6264491081237793}]\n",
      "[2025-01-29 22:37:35,315][3776759167.py][line:35][INFO] Results: [{'label': 'positive', 'score': 0.5619691610336304}]\n",
      "[2025-01-29 22:37:35,327][3776759167.py][line:35][INFO] Results: [{'label': 'positive', 'score': 0.5131424069404602}]\n",
      "[2025-01-29 22:37:35,339][3776759167.py][line:35][INFO] Results: [{'label': 'positive', 'score': 0.5377155542373657}]\n",
      "[2025-01-29 22:37:35,352][3776759167.py][line:35][INFO] Results: [{'label': 'positive', 'score': 0.5313552618026733}]\n",
      "[2025-01-29 22:37:35,364][3776759167.py][line:35][INFO] Results: [{'label': 'positive', 'score': 0.5620093941688538}]\n",
      "[2025-01-29 22:37:35,376][3776759167.py][line:35][INFO] Results: [{'label': 'positive', 'score': 0.49258580803871155}]\n",
      "[2025-01-29 22:37:35,388][3776759167.py][line:35][INFO] Results: [{'label': 'positive', 'score': 0.540673017501831}]\n",
      "[2025-01-29 22:37:35,400][3776759167.py][line:35][INFO] Results: [{'label': 'positive', 'score': 0.6529062986373901}]\n",
      "[2025-01-29 22:37:35,416][3776759167.py][line:35][INFO] Results: [{'label': 'positive', 'score': 0.5722799897193909}]\n",
      "[2025-01-29 22:37:35,428][3776759167.py][line:35][INFO] Results: [{'label': 'positive', 'score': 0.4589795768260956}]\n",
      "[2025-01-29 22:37:35,442][3776759167.py][line:35][INFO] Results: [{'label': 'positive', 'score': 0.6328464150428772}]\n"
     ]
    },
    {
     "name": "stdout",
     "output_type": "stream",
     "text": [
      "File 413 of 528\r"
     ]
    },
    {
     "name": "stderr",
     "output_type": "stream",
     "text": [
      "[2025-01-29 22:37:35,453][3776759167.py][line:35][INFO] Results: [{'label': 'neutral', 'score': 0.43034860491752625}]\n",
      "[2025-01-29 22:37:35,464][3776759167.py][line:35][INFO] Results: [{'label': 'positive', 'score': 0.5139504671096802}]\n",
      "[2025-01-29 22:37:35,477][3776759167.py][line:35][INFO] Results: [{'label': 'positive', 'score': 0.5472365617752075}]\n",
      "[2025-01-29 22:37:35,489][3776759167.py][line:35][INFO] Results: [{'label': 'positive', 'score': 0.578261137008667}]\n",
      "[2025-01-29 22:37:35,503][3776759167.py][line:35][INFO] Results: [{'label': 'positive', 'score': 0.5440003871917725}]\n",
      "[2025-01-29 22:37:35,515][3776759167.py][line:35][INFO] Results: [{'label': 'positive', 'score': 0.6366602778434753}]\n",
      "[2025-01-29 22:37:35,531][3776759167.py][line:35][INFO] Results: [{'label': 'positive', 'score': 0.4738904535770416}]\n",
      "[2025-01-29 22:37:35,543][3776759167.py][line:35][INFO] Results: [{'label': 'positive', 'score': 0.5218580961227417}]\n",
      "[2025-01-29 22:37:35,554][3776759167.py][line:35][INFO] Results: [{'label': 'positive', 'score': 0.5381407737731934}]\n",
      "[2025-01-29 22:37:35,566][3776759167.py][line:35][INFO] Results: [{'label': 'positive', 'score': 0.3973866403102875}]\n",
      "[2025-01-29 22:37:35,578][3776759167.py][line:35][INFO] Results: [{'label': 'positive', 'score': 0.5980513691902161}]\n",
      "[2025-01-29 22:37:35,591][3776759167.py][line:35][INFO] Results: [{'label': 'positive', 'score': 0.5583095550537109}]\n",
      "[2025-01-29 22:37:35,602][3776759167.py][line:35][INFO] Results: [{'label': 'positive', 'score': 0.5729096531867981}]\n",
      "[2025-01-29 22:37:35,603][3776759167.py][line:23][INFO] Now on file: Ses01F_script02_1_F009. Take note that this transcription is actually blank and not an error (i.e: ' ').\n",
      "[2025-01-29 22:37:35,614][3776759167.py][line:35][INFO] Results: [{'label': 'positive', 'score': 0.5004075765609741}]\n",
      "[2025-01-29 22:37:35,625][3776759167.py][line:35][INFO] Results: [{'label': 'positive', 'score': 0.49515214562416077}]\n",
      "[2025-01-29 22:37:35,637][3776759167.py][line:35][INFO] Results: [{'label': 'negative', 'score': 0.3640425205230713}]\n"
     ]
    },
    {
     "name": "stdout",
     "output_type": "stream",
     "text": [
      "File 429 of 528\r"
     ]
    },
    {
     "name": "stderr",
     "output_type": "stream",
     "text": [
      "[2025-01-29 22:37:35,649][3776759167.py][line:35][INFO] Results: [{'label': 'positive', 'score': 0.4838504493236542}]\n",
      "[2025-01-29 22:37:35,661][3776759167.py][line:35][INFO] Results: [{'label': 'positive', 'score': 0.5441402792930603}]\n",
      "[2025-01-29 22:37:35,673][3776759167.py][line:35][INFO] Results: [{'label': 'positive', 'score': 0.5729096531867981}]\n",
      "[2025-01-29 22:37:35,685][3776759167.py][line:35][INFO] Results: [{'label': 'positive', 'score': 0.5765925049781799}]\n",
      "[2025-01-29 22:37:35,696][3776759167.py][line:35][INFO] Results: [{'label': 'positive', 'score': 0.5209435820579529}]\n",
      "[2025-01-29 22:37:35,708][3776759167.py][line:35][INFO] Results: [{'label': 'positive', 'score': 0.48656871914863586}]\n",
      "[2025-01-29 22:37:35,720][3776759167.py][line:35][INFO] Results: [{'label': 'positive', 'score': 0.5514737963676453}]\n",
      "[2025-01-29 22:37:35,732][3776759167.py][line:35][INFO] Results: [{'label': 'positive', 'score': 0.564261794090271}]\n",
      "[2025-01-29 22:37:35,745][3776759167.py][line:35][INFO] Results: [{'label': 'positive', 'score': 0.49996495246887207}]\n",
      "[2025-01-29 22:37:35,756][3776759167.py][line:35][INFO] Results: [{'label': 'positive', 'score': 0.5581575036048889}]\n",
      "[2025-01-29 22:37:35,769][3776759167.py][line:35][INFO] Results: [{'label': 'positive', 'score': 0.6331890821456909}]\n",
      "[2025-01-29 22:37:35,780][3776759167.py][line:35][INFO] Results: [{'label': 'positive', 'score': 0.6264491081237793}]\n",
      "[2025-01-29 22:37:35,795][3776759167.py][line:35][INFO] Results: [{'label': 'positive', 'score': 0.6148292422294617}]\n",
      "[2025-01-29 22:37:35,806][3776759167.py][line:35][INFO] Results: [{'label': 'positive', 'score': 0.7079291343688965}]\n"
     ]
    },
    {
     "name": "stdout",
     "output_type": "stream",
     "text": [
      "File 444 of 528\r"
     ]
    },
    {
     "name": "stderr",
     "output_type": "stream",
     "text": [
      "[2025-01-29 22:37:35,819][3776759167.py][line:35][INFO] Results: [{'label': 'positive', 'score': 0.5471606254577637}]\n",
      "[2025-01-29 22:37:35,835][3776759167.py][line:35][INFO] Results: [{'label': 'positive', 'score': 0.5710729956626892}]\n",
      "[2025-01-29 22:37:35,847][3776759167.py][line:35][INFO] Results: [{'label': 'positive', 'score': 0.5495212078094482}]\n",
      "[2025-01-29 22:37:35,859][3776759167.py][line:35][INFO] Results: [{'label': 'positive', 'score': 0.5972885489463806}]\n",
      "[2025-01-29 22:37:35,872][3776759167.py][line:35][INFO] Results: [{'label': 'positive', 'score': 0.5514828562736511}]\n",
      "[2025-01-29 22:37:35,884][3776759167.py][line:35][INFO] Results: [{'label': 'positive', 'score': 0.558254599571228}]\n",
      "[2025-01-29 22:37:35,898][3776759167.py][line:35][INFO] Results: [{'label': 'positive', 'score': 0.509235680103302}]\n",
      "[2025-01-29 22:37:35,911][3776759167.py][line:35][INFO] Results: [{'label': 'positive', 'score': 0.513064444065094}]\n",
      "[2025-01-29 22:37:35,923][3776759167.py][line:35][INFO] Results: [{'label': 'positive', 'score': 0.5254480838775635}]\n",
      "[2025-01-29 22:37:35,936][3776759167.py][line:35][INFO] Results: [{'label': 'positive', 'score': 0.5408161282539368}]\n",
      "[2025-01-29 22:37:35,949][3776759167.py][line:35][INFO] Results: [{'label': 'positive', 'score': 0.4281180799007416}]\n",
      "[2025-01-29 22:37:35,961][3776759167.py][line:35][INFO] Results: [{'label': 'positive', 'score': 0.4318084418773651}]\n",
      "[2025-01-29 22:37:35,976][3776759167.py][line:35][INFO] Results: [{'label': 'positive', 'score': 0.5114298462867737}]\n",
      "[2025-01-29 22:37:35,989][3776759167.py][line:35][INFO] Results: [{'label': 'positive', 'score': 0.5666767954826355}]\n",
      "[2025-01-29 22:37:36,003][3776759167.py][line:35][INFO] Results: [{'label': 'positive', 'score': 0.5737782120704651}]\n"
     ]
    },
    {
     "name": "stdout",
     "output_type": "stream",
     "text": [
      "File 458 of 528\r"
     ]
    },
    {
     "name": "stderr",
     "output_type": "stream",
     "text": [
      "[2025-01-29 22:37:36,015][3776759167.py][line:35][INFO] Results: [{'label': 'positive', 'score': 0.5194407105445862}]\n",
      "[2025-01-29 22:37:36,027][3776759167.py][line:35][INFO] Results: [{'label': 'positive', 'score': 0.5377277135848999}]\n",
      "[2025-01-29 22:37:36,028][3776759167.py][line:23][INFO] Now on file: Ses01M_script01_1_F006. Take note that this transcription is actually blank and not an error (i.e: ' ').\n",
      "[2025-01-29 22:37:36,038][3776759167.py][line:35][INFO] Results: [{'label': 'positive', 'score': 0.5004075765609741}]\n",
      "[2025-01-29 22:37:36,051][3776759167.py][line:35][INFO] Results: [{'label': 'positive', 'score': 0.5403198003768921}]\n",
      "[2025-01-29 22:37:36,062][3776759167.py][line:35][INFO] Results: [{'label': 'positive', 'score': 0.5103192925453186}]\n",
      "[2025-01-29 22:37:36,075][3776759167.py][line:35][INFO] Results: [{'label': 'positive', 'score': 0.5432960391044617}]\n",
      "[2025-01-29 22:37:36,091][3776759167.py][line:35][INFO] Results: [{'label': 'positive', 'score': 0.42484843730926514}]\n",
      "[2025-01-29 22:37:36,105][3776759167.py][line:35][INFO] Results: [{'label': 'positive', 'score': 0.5186464786529541}]\n",
      "[2025-01-29 22:37:36,118][3776759167.py][line:35][INFO] Results: [{'label': 'positive', 'score': 0.46619507670402527}]\n",
      "[2025-01-29 22:37:36,131][3776759167.py][line:35][INFO] Results: [{'label': 'positive', 'score': 0.5187807679176331}]\n",
      "[2025-01-29 22:37:36,145][3776759167.py][line:35][INFO] Results: [{'label': 'positive', 'score': 0.5121167302131653}]\n",
      "[2025-01-29 22:37:36,161][3776759167.py][line:35][INFO] Results: [{'label': 'positive', 'score': 0.48648253083229065}]\n",
      "[2025-01-29 22:37:36,174][3776759167.py][line:35][INFO] Results: [{'label': 'positive', 'score': 0.5135985612869263}]\n",
      "[2025-01-29 22:37:36,191][3776759167.py][line:35][INFO] Results: [{'label': 'positive', 'score': 0.5523567795753479}]\n"
     ]
    },
    {
     "name": "stdout",
     "output_type": "stream",
     "text": [
      "File 472 of 528\r"
     ]
    },
    {
     "name": "stderr",
     "output_type": "stream",
     "text": [
      "[2025-01-29 22:37:36,204][3776759167.py][line:35][INFO] Results: [{'label': 'positive', 'score': 0.4942181706428528}]\n",
      "[2025-01-29 22:37:36,218][3776759167.py][line:35][INFO] Results: [{'label': 'positive', 'score': 0.5345372557640076}]\n",
      "[2025-01-29 22:37:36,231][3776759167.py][line:35][INFO] Results: [{'label': 'positive', 'score': 0.49536973237991333}]\n",
      "[2025-01-29 22:37:36,244][3776759167.py][line:35][INFO] Results: [{'label': 'positive', 'score': 0.5047128796577454}]\n",
      "[2025-01-29 22:37:36,256][3776759167.py][line:35][INFO] Results: [{'label': 'positive', 'score': 0.5512668490409851}]\n",
      "[2025-01-29 22:37:36,269][3776759167.py][line:35][INFO] Results: [{'label': 'positive', 'score': 0.5276422500610352}]\n",
      "[2025-01-29 22:37:36,282][3776759167.py][line:35][INFO] Results: [{'label': 'positive', 'score': 0.6529062986373901}]\n",
      "[2025-01-29 22:37:36,294][3776759167.py][line:35][INFO] Results: [{'label': 'positive', 'score': 0.47423332929611206}]\n",
      "[2025-01-29 22:37:36,309][3776759167.py][line:35][INFO] Results: [{'label': 'positive', 'score': 0.5663882493972778}]\n",
      "[2025-01-29 22:37:36,321][3776759167.py][line:35][INFO] Results: [{'label': 'positive', 'score': 0.4703459143638611}]\n",
      "[2025-01-29 22:37:36,333][3776759167.py][line:35][INFO] Results: [{'label': 'positive', 'score': 0.5183132886886597}]\n",
      "[2025-01-29 22:37:36,345][3776759167.py][line:35][INFO] Results: [{'label': 'positive', 'score': 0.49200618267059326}]\n",
      "[2025-01-29 22:37:36,356][3776759167.py][line:35][INFO] Results: [{'label': 'neutral', 'score': 0.43034860491752625}]\n",
      "[2025-01-29 22:37:36,367][3776759167.py][line:35][INFO] Results: [{'label': 'positive', 'score': 0.5041905641555786}]\n",
      "[2025-01-29 22:37:36,379][3776759167.py][line:35][INFO] Results: [{'label': 'positive', 'score': 0.5870289206504822}]\n"
     ]
    },
    {
     "name": "stdout",
     "output_type": "stream",
     "text": [
      "File 487 of 528\r"
     ]
    },
    {
     "name": "stderr",
     "output_type": "stream",
     "text": [
      "[2025-01-29 22:37:36,391][3776759167.py][line:35][INFO] Results: [{'label': 'positive', 'score': 0.5513782501220703}]\n",
      "[2025-01-29 22:37:36,406][3776759167.py][line:35][INFO] Results: [{'label': 'positive', 'score': 0.5266535878181458}]\n",
      "[2025-01-29 22:37:36,419][3776759167.py][line:35][INFO] Results: [{'label': 'positive', 'score': 0.5475020408630371}]\n",
      "[2025-01-29 22:37:36,434][3776759167.py][line:35][INFO] Results: [{'label': 'positive', 'score': 0.5736304521560669}]\n",
      "[2025-01-29 22:37:36,447][3776759167.py][line:35][INFO] Results: [{'label': 'positive', 'score': 0.6105713248252869}]\n",
      "[2025-01-29 22:37:36,460][3776759167.py][line:35][INFO] Results: [{'label': 'positive', 'score': 0.5523260235786438}]\n",
      "[2025-01-29 22:37:36,478][3776759167.py][line:35][INFO] Results: [{'label': 'positive', 'score': 0.43356290459632874}]\n",
      "[2025-01-29 22:37:36,491][3776759167.py][line:35][INFO] Results: [{'label': 'positive', 'score': 0.4993201792240143}]\n",
      "[2025-01-29 22:37:36,503][3776759167.py][line:35][INFO] Results: [{'label': 'positive', 'score': 0.4503290057182312}]\n",
      "[2025-01-29 22:37:36,515][3776759167.py][line:35][INFO] Results: [{'label': 'positive', 'score': 0.5056968331336975}]\n",
      "[2025-01-29 22:37:36,527][3776759167.py][line:35][INFO] Results: [{'label': 'positive', 'score': 0.552532970905304}]\n",
      "[2025-01-29 22:37:36,541][3776759167.py][line:35][INFO] Results: [{'label': 'positive', 'score': 0.5454955101013184}]\n",
      "[2025-01-29 22:37:36,554][3776759167.py][line:35][INFO] Results: [{'label': 'positive', 'score': 0.5296032428741455}]\n",
      "[2025-01-29 22:37:36,565][3776759167.py][line:35][INFO] Results: [{'label': 'positive', 'score': 0.5729096531867981}]\n"
     ]
    },
    {
     "name": "stdout",
     "output_type": "stream",
     "text": [
      "File 501 of 528\r"
     ]
    },
    {
     "name": "stderr",
     "output_type": "stream",
     "text": [
      "[2025-01-29 22:37:36,582][3776759167.py][line:35][INFO] Results: [{'label': 'positive', 'score': 0.5546985268592834}]\n",
      "[2025-01-29 22:37:36,597][3776759167.py][line:35][INFO] Results: [{'label': 'positive', 'score': 0.6212283372879028}]\n",
      "[2025-01-29 22:37:36,610][3776759167.py][line:35][INFO] Results: [{'label': 'positive', 'score': 0.5483254790306091}]\n",
      "[2025-01-29 22:37:36,622][3776759167.py][line:35][INFO] Results: [{'label': 'positive', 'score': 0.531475305557251}]\n",
      "[2025-01-29 22:37:36,635][3776759167.py][line:35][INFO] Results: [{'label': 'positive', 'score': 0.5712237358093262}]\n",
      "[2025-01-29 22:37:36,657][3776759167.py][line:35][INFO] Results: [{'label': 'positive', 'score': 0.5752196907997131}]\n",
      "[2025-01-29 22:37:36,670][3776759167.py][line:35][INFO] Results: [{'label': 'positive', 'score': 0.5403577089309692}]\n",
      "[2025-01-29 22:37:36,682][3776759167.py][line:35][INFO] Results: [{'label': 'positive', 'score': 0.602216362953186}]\n",
      "[2025-01-29 22:37:36,705][3776759167.py][line:35][INFO] Results: [{'label': 'positive', 'score': 0.5115371942520142}]\n",
      "[2025-01-29 22:37:36,717][3776759167.py][line:35][INFO] Results: [{'label': 'positive', 'score': 0.554948091506958}]\n",
      "[2025-01-29 22:37:36,728][3776759167.py][line:35][INFO] Results: [{'label': 'positive', 'score': 0.5729096531867981}]\n",
      "[2025-01-29 22:37:36,740][3776759167.py][line:35][INFO] Results: [{'label': 'positive', 'score': 0.5474159717559814}]\n",
      "[2025-01-29 22:37:36,751][3776759167.py][line:35][INFO] Results: [{'label': 'positive', 'score': 0.5674850940704346}]\n"
     ]
    },
    {
     "name": "stdout",
     "output_type": "stream",
     "text": [
      "File 515 of 528\r"
     ]
    },
    {
     "name": "stderr",
     "output_type": "stream",
     "text": [
      "[2025-01-29 22:37:36,763][3776759167.py][line:35][INFO] Results: [{'label': 'positive', 'score': 0.49251359701156616}]\n",
      "[2025-01-29 22:37:36,777][3776759167.py][line:35][INFO] Results: [{'label': 'positive', 'score': 0.5710402131080627}]\n",
      "[2025-01-29 22:37:36,789][3776759167.py][line:35][INFO] Results: [{'label': 'positive', 'score': 0.5345464944839478}]\n",
      "[2025-01-29 22:37:36,802][3776759167.py][line:35][INFO] Results: [{'label': 'positive', 'score': 0.5276604890823364}]\n",
      "[2025-01-29 22:37:36,814][3776759167.py][line:35][INFO] Results: [{'label': 'positive', 'score': 0.5078361630439758}]\n",
      "[2025-01-29 22:37:36,826][3776759167.py][line:35][INFO] Results: [{'label': 'positive', 'score': 0.5390198230743408}]\n",
      "[2025-01-29 22:37:36,837][3776759167.py][line:35][INFO] Results: [{'label': 'positive', 'score': 0.4959546625614166}]\n",
      "[2025-01-29 22:37:36,849][3776759167.py][line:35][INFO] Results: [{'label': 'positive', 'score': 0.48947593569755554}]\n",
      "[2025-01-29 22:37:36,851][3776759167.py][line:23][INFO] Now on file: Ses01F_script03_1_F020. Take note that this transcription is actually blank and not an error (i.e: ' ').\n",
      "[2025-01-29 22:37:36,861][3776759167.py][line:35][INFO] Results: [{'label': 'positive', 'score': 0.5004075765609741}]\n",
      "[2025-01-29 22:37:36,873][3776759167.py][line:35][INFO] Results: [{'label': 'positive', 'score': 0.5948739647865295}]\n",
      "[2025-01-29 22:37:36,887][3776759167.py][line:35][INFO] Results: [{'label': 'positive', 'score': 0.5159027576446533}]\n",
      "[2025-01-29 22:37:36,899][3776759167.py][line:35][INFO] Results: [{'label': 'positive', 'score': 0.6079304814338684}]\n",
      "[2025-01-29 22:37:36,913][3776759167.py][line:35][INFO] Results: [{'label': 'positive', 'score': 0.5399217009544373}]\n",
      "[2025-01-29 22:37:36,924][3776759167.py][line:35][INFO] Results: [{'label': 'positive', 'score': 0.5740355849266052}]\n",
      "[2025-01-29 22:37:36,925][3776759167.py][line:42][INFO] Done processing 529 files\n",
      "[2025-01-29 22:37:36,929][3776759167.py][line:53][INFO] Predictions saved to ./fold_0\\predictions.csv\n"
     ]
    },
    {
     "name": "stdout",
     "output_type": "stream",
     "text": [
      "File 528 of 528\r"
     ]
    }
   ],
   "source": [
    "predict(test_dataframe)"
   ]
  },
  {
   "cell_type": "markdown",
   "id": "760c0778-9eb4-47ad-90a7-084154d42414",
   "metadata": {},
   "source": [
    "## Evaluate Accuracy"
   ]
  },
  {
   "cell_type": "code",
   "execution_count": 21,
   "id": "9020c01e-9579-41d0-bad1-2e397b042733",
   "metadata": {},
   "outputs": [],
   "source": [
    "# Function to perform accuracy evaluation\n",
    "def calculate_accuracy(dataframe):\n",
    "    logger.info(\"Now calculating accuracy\")\n",
    "    \n",
    "    # Read the reference truth file\n",
    "    reference = pd.read_csv(REMAPPED_EMOTIONS)\n",
    "\n",
    "    # Merge DataFrames on 'filename'\n",
    "    df_merged = pd.merge(\n",
    "        reference[['filename', 'remapped_sentiment']],\n",
    "        dataframe[['ID', 'sentiment']],\n",
    "        left_on='filename',\n",
    "        right_on='ID'\n",
    "    )\n",
    "    \n",
    "    # dataframe contacts the files used in the test split (~500)\n",
    "    # reference contains all files in the IEMOCAP dataset\n",
    "    # df_merged will be a dataframe that contains only the specific files from that fold, and the corresponding truth from the reference\n",
    "\n",
    "    # Extract true labels and predictions\n",
    "    y_true = dataframe['sentiment']\n",
    "    y_pred = df_merged['remapped_sentiment']\n",
    "\n",
    "    # Compute the confusion matrix\n",
    "    cm = confusion_matrix(y_true, y_pred)\n",
    "\n",
    "    # Create a DataFrame for the confusion matrix\n",
    "    labels = sorted(y_true.unique())\n",
    "    cm_df = pd.DataFrame(cm, index=labels, columns=labels)\n",
    "    \n",
    "    # Do not show CM when running as a python script\n",
    "    if not PYTHON_SCRIPT:\n",
    "     \n",
    "        # Plot the confusion matrix\n",
    "        plt.figure(figsize=(8, 6))\n",
    "        sns.heatmap(cm_df, annot=True, fmt='d', cmap='Blues')\n",
    "        plt.ylabel('Actual Labels')\n",
    "        plt.xlabel('Predicted Labels')\n",
    "        plt.title('Confusion Matrix')\n",
    "        plt.show()\n",
    "    \n",
    "    # Compute and print UA score\n",
    "    macro_recall = recall_score(y_true, y_pred, average='macro')\n",
    "    logger.info(f\"Test UA: {macro_recall}\")\n",
    "    \n",
    "    logger.info(\"Confusion Matrix:\")\n",
    "    logging.info(f\"\\n{cm_df}\")\n",
    "\n",
    "    # Generate classification report\n",
    "    report = classification_report(y_true, y_pred, labels=labels)\n",
    "    logger.info(\"Classification Report:\")\n",
    "    logging.info(f\"\\n{report}\")\n"
   ]
  },
  {
   "cell_type": "markdown",
   "id": "b99e4fef-76f9-4575-a3d5-817295be1c86",
   "metadata": {},
   "source": [
    "### Run Evalutation Function"
   ]
  },
  {
   "cell_type": "code",
   "execution_count": 22,
   "id": "d5da579a-c4cd-45c7-8840-5c15a8fdb0fc",
   "metadata": {
    "tags": []
   },
   "outputs": [
    {
     "name": "stderr",
     "output_type": "stream",
     "text": [
      "[2025-01-29 22:36:08,167][3148975315.py][line:3][INFO] Now calculating accuracy\n"
     ]
    },
    {
     "data": {
      "image/png": "[encoded data removed]",
      "text/plain": [
       "<Figure size 800x600 with 2 Axes>"
      ]
     },
     "metadata": {},
     "output_type": "display_data"
    },
    {
     "name": "stderr",
     "output_type": "stream",
     "text": [
      "[2025-01-29 22:36:08,326][3148975315.py][line:44][INFO] Test UA: 0.4526455026455027\n",
      "[2025-01-29 22:36:08,327][3148975315.py][line:46][INFO] Confusion Matrix:\n",
      "[2025-01-29 22:36:08,329][3148975315.py][line:47][INFO] \n",
      "          negative  neutral  positive\n",
      "negative         7        6         1\n",
      "neutral          3        6         1\n",
      "positive       215      159       130\n",
      "[2025-01-29 22:36:08,342][3148975315.py][line:51][INFO] Classification Report:\n",
      "[2025-01-29 22:36:08,343][3148975315.py][line:52][INFO] \n",
      "              precision    recall  f1-score   support\n",
      "\n",
      "    negative       0.03      0.50      0.06        14\n",
      "     neutral       0.04      0.60      0.07        10\n",
      "    positive       0.98      0.26      0.41       504\n",
      "\n",
      "    accuracy                           0.27       528\n",
      "   macro avg       0.35      0.45      0.18       528\n",
      "weighted avg       0.94      0.27      0.39       528\n",
      "\n"
     ]
    }
   ],
   "source": [
    "df = pd.read_csv(CSV_FILEPATH)    \n",
    "calculate_accuracy(df)"
   ]
  },
  {
   "cell_type": "code",
   "execution_count": null,
   "id": "62fa9f80-0efb-4edd-b16d-16bb17fe0e66",
   "metadata": {},
   "outputs": [],
   "source": []
  }
 ],
 "metadata": {
  "colab": {
   "provenance": []
  },
  "kaggle": {
   "accelerator": "gpu",
   "dataSources": [
    {
     "datasetId": 5782060,
     "sourceId": 9500890,
     "sourceType": "datasetVersion"
    }
   ],
   "dockerImageVersionId": 30787,
   "isGpuEnabled": true,
   "isInternetEnabled": true,
   "language": "python",
   "sourceType": "notebook"
  },
  "kernelspec": {
   "display_name": "AAI3001",
   "language": "python",
   "name": "aai3001"
  },
  "language_info": {
   "codemirror_mode": {
    "name": "ipython",
    "version": 3
   },
   "file_extension": ".py",
   "mimetype": "text/x-python",
   "name": "python",
   "nbconvert_exporter": "python",
   "pygments_lexer": "ipython3",
   "version": "3.11.9"
  }
 },
 "nbformat": 4,
 "nbformat_minor": 5
}
